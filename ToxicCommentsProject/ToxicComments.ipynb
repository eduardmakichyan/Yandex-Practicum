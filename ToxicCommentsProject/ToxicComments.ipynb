{
 "cells": [
  {
   "cell_type": "markdown",
   "metadata": {},
   "source": [
    "# Проект для «Викишоп»"
   ]
  },
  {
   "cell_type": "markdown",
   "metadata": {},
   "source": [
    "Интернет-магазин «Викишоп» запускает новый сервис. Теперь пользователи могут редактировать и дополнять описания товаров, как в вики-сообществах. То есть клиенты предлагают свои правки и комментируют изменения других. Магазину нужен инструмент, который будет искать токсичные комментарии и отправлять их на модерацию. \n",
    "\n",
    "Обучим модель классифицировать комментарии на позитивные и негативные. В нашем распоряжении набор данных с разметкой о токсичности правок.\n",
    "\n",
    "Требование - построить модель со значением метрики качества *F1* не меньше 0.75. \n",
    "\n",
    "**Краткий план выполнения проекта**\n",
    "\n",
    "1. Загрузить и подготовить данные.\n",
    "2. Обучить разные модели. \n",
    "3. Сделаем выводы.\n",
    "\n",
    "\n",
    "**Описание данных**\n",
    "\n",
    "Данные находятся в файле `toxic_comments.csv`. Столбец *text* в нём содержит текст комментария, а *toxic* — целевой признак."
   ]
  },
  {
   "cell_type": "code",
   "execution_count": 1,
   "metadata": {},
   "outputs": [
    {
     "name": "stdout",
     "output_type": "stream",
     "text": [
      "Note: you may need to restart the kernel to use updated packages.\n"
     ]
    }
   ],
   "source": [
    "pip install --upgrade pip -q"
   ]
  },
  {
   "cell_type": "code",
   "execution_count": 2,
   "metadata": {},
   "outputs": [],
   "source": [
    "!pip install phik -q"
   ]
  },
  {
   "cell_type": "code",
   "execution_count": 3,
   "metadata": {},
   "outputs": [],
   "source": [
    "!pip install scikit-learn==1.3.2 -q"
   ]
  },
  {
   "cell_type": "code",
   "execution_count": 4,
   "metadata": {},
   "outputs": [],
   "source": [
    "!pip install -U spacy -q"
   ]
  },
  {
   "cell_type": "code",
   "execution_count": 5,
   "metadata": {},
   "outputs": [
    {
     "name": "stdout",
     "output_type": "stream",
     "text": [
      "\u001b[38;5;2m[+] Download and installation successful\u001b[0m\n",
      "You can now load the package via spacy.load('en_core_web_sm')\n"
     ]
    }
   ],
   "source": [
    "!python -m spacy download en_core_web_sm -q"
   ]
  },
  {
   "cell_type": "code",
   "execution_count": 6,
   "metadata": {},
   "outputs": [],
   "source": [
    "!pip install lightgbm -q"
   ]
  },
  {
   "cell_type": "code",
   "execution_count": 26,
   "metadata": {},
   "outputs": [
    {
     "name": "stderr",
     "output_type": "stream",
     "text": [
      "[nltk_data] Downloading package stopwords to\n",
      "[nltk_data]     C:\\Users\\Admin\\AppData\\Roaming\\nltk_data...\n",
      "[nltk_data]   Package stopwords is already up-to-date!\n"
     ]
    }
   ],
   "source": [
    "# импортируем все необходимые библиотеки \n",
    "import pandas as pd\n",
    "import re\n",
    "import nltk\n",
    "from nltk.corpus import stopwords as nltk_stopwords\n",
    "nltk.download('stopwords')\n",
    "stopwords = set(nltk_stopwords.words('english'))\n",
    "\n",
    "from sklearn.feature_extraction.text import TfidfVectorizer \n",
    "\n",
    "import matplotlib.pyplot as plt\n",
    "import numpy as np\n",
    "import scipy.stats as st\n",
    "from sklearn.inspection import permutation_importance\n",
    "import phik\n",
    "from numpy import quantile\n",
    "from sklearn.dummy import DummyRegressor\n",
    "import warnings\n",
    "from sklearn.model_selection import train_test_split, cross_val_score\n",
    "from sklearn.preprocessing import OneHotEncoder, OrdinalEncoder, StandardScaler, MinMaxScaler, RobustScaler\n",
    "from sklearn.compose import ColumnTransformer\n",
    "from sklearn.pipeline import Pipeline\n",
    "from sklearn.neighbors import KNeighborsClassifier\n",
    "from sklearn.tree import DecisionTreeClassifier\n",
    "from sklearn.model_selection import RandomizedSearchCV , GridSearchCV\n",
    "from sklearn.svm import SVC\n",
    "from sklearn.impute import SimpleImputer\n",
    "from lightgbm import LGBMClassifier\n",
    "from sklearn.compose import make_column_transformer, make_column_selector\n",
    "from sklearn.ensemble import RandomForestClassifier\n",
    "from sklearn.linear_model import LogisticRegression\n",
    "from sklearn.metrics import (mean_squared_error, mean_absolute_error, confusion_matrix,\n",
    "                             accuracy_score, precision_score, recall_score, f1_score, roc_auc_score, make_scorer)\n",
    "import spacy\n",
    "nlp = spacy.load(\"en_core_web_sm\")\n",
    "RANDOM_STATE = 42\n",
    "TEST_SIZE = 0.2"
   ]
  },
  {
   "cell_type": "markdown",
   "metadata": {},
   "source": [
    "## Загрузка данных."
   ]
  },
  {
   "cell_type": "code",
   "execution_count": 8,
   "metadata": {},
   "outputs": [
    {
     "data": {
      "text/html": [
       "<div>\n",
       "<style scoped>\n",
       "    .dataframe tbody tr th:only-of-type {\n",
       "        vertical-align: middle;\n",
       "    }\n",
       "\n",
       "    .dataframe tbody tr th {\n",
       "        vertical-align: top;\n",
       "    }\n",
       "\n",
       "    .dataframe thead th {\n",
       "        text-align: right;\n",
       "    }\n",
       "</style>\n",
       "<table border=\"1\" class=\"dataframe\">\n",
       "  <thead>\n",
       "    <tr style=\"text-align: right;\">\n",
       "      <th></th>\n",
       "      <th>Unnamed: 0</th>\n",
       "      <th>text</th>\n",
       "      <th>toxic</th>\n",
       "    </tr>\n",
       "  </thead>\n",
       "  <tbody>\n",
       "    <tr>\n",
       "      <th>0</th>\n",
       "      <td>0</td>\n",
       "      <td>Explanation\\nWhy the edits made under my usern...</td>\n",
       "      <td>0</td>\n",
       "    </tr>\n",
       "    <tr>\n",
       "      <th>1</th>\n",
       "      <td>1</td>\n",
       "      <td>D'aww! He matches this background colour I'm s...</td>\n",
       "      <td>0</td>\n",
       "    </tr>\n",
       "    <tr>\n",
       "      <th>2</th>\n",
       "      <td>2</td>\n",
       "      <td>Hey man, I'm really not trying to edit war. It...</td>\n",
       "      <td>0</td>\n",
       "    </tr>\n",
       "    <tr>\n",
       "      <th>3</th>\n",
       "      <td>3</td>\n",
       "      <td>\"\\nMore\\nI can't make any real suggestions on ...</td>\n",
       "      <td>0</td>\n",
       "    </tr>\n",
       "    <tr>\n",
       "      <th>4</th>\n",
       "      <td>4</td>\n",
       "      <td>You, sir, are my hero. Any chance you remember...</td>\n",
       "      <td>0</td>\n",
       "    </tr>\n",
       "  </tbody>\n",
       "</table>\n",
       "</div>"
      ],
      "text/plain": [
       "   Unnamed: 0                                               text  toxic\n",
       "0           0  Explanation\\nWhy the edits made under my usern...      0\n",
       "1           1  D'aww! He matches this background colour I'm s...      0\n",
       "2           2  Hey man, I'm really not trying to edit war. It...      0\n",
       "3           3  \"\\nMore\\nI can't make any real suggestions on ...      0\n",
       "4           4  You, sir, are my hero. Any chance you remember...      0"
      ]
     },
     "execution_count": 8,
     "metadata": {},
     "output_type": "execute_result"
    }
   ],
   "source": [
    "data = pd.read_csv('/datasets/toxic_comments.csv')\n",
    "data.head()"
   ]
  },
  {
   "cell_type": "markdown",
   "metadata": {},
   "source": [
    "Удалим ненужный столбец."
   ]
  },
  {
   "cell_type": "code",
   "execution_count": 9,
   "metadata": {
    "scrolled": true
   },
   "outputs": [
    {
     "data": {
      "text/html": [
       "<div>\n",
       "<style scoped>\n",
       "    .dataframe tbody tr th:only-of-type {\n",
       "        vertical-align: middle;\n",
       "    }\n",
       "\n",
       "    .dataframe tbody tr th {\n",
       "        vertical-align: top;\n",
       "    }\n",
       "\n",
       "    .dataframe thead th {\n",
       "        text-align: right;\n",
       "    }\n",
       "</style>\n",
       "<table border=\"1\" class=\"dataframe\">\n",
       "  <thead>\n",
       "    <tr style=\"text-align: right;\">\n",
       "      <th></th>\n",
       "      <th>text</th>\n",
       "      <th>toxic</th>\n",
       "    </tr>\n",
       "  </thead>\n",
       "  <tbody>\n",
       "    <tr>\n",
       "      <th>0</th>\n",
       "      <td>Explanation\\nWhy the edits made under my usern...</td>\n",
       "      <td>0</td>\n",
       "    </tr>\n",
       "    <tr>\n",
       "      <th>1</th>\n",
       "      <td>D'aww! He matches this background colour I'm s...</td>\n",
       "      <td>0</td>\n",
       "    </tr>\n",
       "    <tr>\n",
       "      <th>2</th>\n",
       "      <td>Hey man, I'm really not trying to edit war. It...</td>\n",
       "      <td>0</td>\n",
       "    </tr>\n",
       "    <tr>\n",
       "      <th>3</th>\n",
       "      <td>\"\\nMore\\nI can't make any real suggestions on ...</td>\n",
       "      <td>0</td>\n",
       "    </tr>\n",
       "    <tr>\n",
       "      <th>4</th>\n",
       "      <td>You, sir, are my hero. Any chance you remember...</td>\n",
       "      <td>0</td>\n",
       "    </tr>\n",
       "  </tbody>\n",
       "</table>\n",
       "</div>"
      ],
      "text/plain": [
       "                                                text  toxic\n",
       "0  Explanation\\nWhy the edits made under my usern...      0\n",
       "1  D'aww! He matches this background colour I'm s...      0\n",
       "2  Hey man, I'm really not trying to edit war. It...      0\n",
       "3  \"\\nMore\\nI can't make any real suggestions on ...      0\n",
       "4  You, sir, are my hero. Any chance you remember...      0"
      ]
     },
     "execution_count": 9,
     "metadata": {},
     "output_type": "execute_result"
    }
   ],
   "source": [
    "data = data.drop('Unnamed: 0', axis=1)\n",
    "data.head()"
   ]
  },
  {
   "cell_type": "markdown",
   "metadata": {},
   "source": [
    "Взглянем на общую информацию о таблице, проверим наличие пропусков и дубликатов."
   ]
  },
  {
   "cell_type": "code",
   "execution_count": 10,
   "metadata": {},
   "outputs": [
    {
     "name": "stdout",
     "output_type": "stream",
     "text": [
      "<class 'pandas.core.frame.DataFrame'>\n",
      "RangeIndex: 159292 entries, 0 to 159291\n",
      "Data columns (total 2 columns):\n",
      " #   Column  Non-Null Count   Dtype \n",
      "---  ------  --------------   ----- \n",
      " 0   text    159292 non-null  object\n",
      " 1   toxic   159292 non-null  int64 \n",
      "dtypes: int64(1), object(1)\n",
      "memory usage: 2.4+ MB\n"
     ]
    }
   ],
   "source": [
    "data.info()"
   ]
  },
  {
   "cell_type": "code",
   "execution_count": 11,
   "metadata": {},
   "outputs": [
    {
     "data": {
      "text/plain": [
       "text     0\n",
       "toxic    0\n",
       "dtype: int64"
      ]
     },
     "execution_count": 11,
     "metadata": {},
     "output_type": "execute_result"
    }
   ],
   "source": [
    "data.isna().sum()"
   ]
  },
  {
   "cell_type": "code",
   "execution_count": 12,
   "metadata": {},
   "outputs": [
    {
     "data": {
      "text/plain": [
       "0"
      ]
     },
     "execution_count": 12,
     "metadata": {},
     "output_type": "execute_result"
    }
   ],
   "source": [
    "data.duplicated().sum()"
   ]
  },
  {
   "cell_type": "markdown",
   "metadata": {},
   "source": [
    "Типы данных соотвествуют истенным, пропусков и дубликатов нет."
   ]
  },
  {
   "cell_type": "code",
   "execution_count": 13,
   "metadata": {
    "scrolled": true
   },
   "outputs": [
    {
     "data": {
      "image/png": "[encoded data removed]",
      "text/plain": [
       "<Figure size 640x480 with 1 Axes>"
      ]
     },
     "metadata": {},
     "output_type": "display_data"
    }
   ],
   "source": [
    "data['toxic'].value_counts().plot.barh()\n",
    "plt.xlabel('кол-во')\n",
    "plt.ylabel('вид комментария')\n",
    "plt.title('Расспределение типов комментариев.')\n",
    "plt.show()"
   ]
  },
  {
   "cell_type": "markdown",
   "metadata": {},
   "source": [
    "В данных есть дисбаланс классов, учтем это при построении моделей."
   ]
  },
  {
   "cell_type": "markdown",
   "metadata": {},
   "source": [
    "### Вывод по загрузке данных:\n",
    "Типы данных соотвествуют истенным, пропусков и дубликатов нет. В данных есть дисбаланс классов, учтем это при построении моделей."
   ]
  },
  {
   "cell_type": "markdown",
   "metadata": {},
   "source": [
    "## Подготовка."
   ]
  },
  {
   "cell_type": "markdown",
   "metadata": {},
   "source": [
    "Создадим функцию для отчистки текста от ненужных символов, так же привидем содержимое строк к нижнему регистру."
   ]
  },
  {
   "cell_type": "code",
   "execution_count": 14,
   "metadata": {},
   "outputs": [
    {
     "data": {
      "text/html": [
       "<div>\n",
       "<style scoped>\n",
       "    .dataframe tbody tr th:only-of-type {\n",
       "        vertical-align: middle;\n",
       "    }\n",
       "\n",
       "    .dataframe tbody tr th {\n",
       "        vertical-align: top;\n",
       "    }\n",
       "\n",
       "    .dataframe thead th {\n",
       "        text-align: right;\n",
       "    }\n",
       "</style>\n",
       "<table border=\"1\" class=\"dataframe\">\n",
       "  <thead>\n",
       "    <tr style=\"text-align: right;\">\n",
       "      <th></th>\n",
       "      <th>text</th>\n",
       "      <th>toxic</th>\n",
       "    </tr>\n",
       "  </thead>\n",
       "  <tbody>\n",
       "    <tr>\n",
       "      <th>0</th>\n",
       "      <td>explanation why the edits made under my userna...</td>\n",
       "      <td>0</td>\n",
       "    </tr>\n",
       "    <tr>\n",
       "      <th>1</th>\n",
       "      <td>daww he matches this background colour im seem...</td>\n",
       "      <td>0</td>\n",
       "    </tr>\n",
       "    <tr>\n",
       "      <th>2</th>\n",
       "      <td>hey man im really not trying to edit war its j...</td>\n",
       "      <td>0</td>\n",
       "    </tr>\n",
       "    <tr>\n",
       "      <th>3</th>\n",
       "      <td>more i cant make any real suggestions on impro...</td>\n",
       "      <td>0</td>\n",
       "    </tr>\n",
       "    <tr>\n",
       "      <th>4</th>\n",
       "      <td>you sir are my hero any chance you remember wh...</td>\n",
       "      <td>0</td>\n",
       "    </tr>\n",
       "  </tbody>\n",
       "</table>\n",
       "</div>"
      ],
      "text/plain": [
       "                                                text  toxic\n",
       "0  explanation why the edits made under my userna...      0\n",
       "1  daww he matches this background colour im seem...      0\n",
       "2  hey man im really not trying to edit war its j...      0\n",
       "3  more i cant make any real suggestions on impro...      0\n",
       "4  you sir are my hero any chance you remember wh...      0"
      ]
     },
     "execution_count": 14,
     "metadata": {},
     "output_type": "execute_result"
    }
   ],
   "source": [
    "def clear_text(text):\n",
    "    text = re.sub(r\"(?:\\n|\\r)\", \" \", text)\n",
    "    text = re.sub(r\"[^a-zA-Z ]+\", \"\", text).strip()\n",
    "    text = text.lower()\n",
    "    return text\n",
    "\n",
    "data['text'] = data['text'].apply(clear_text)\n",
    "data.head()"
   ]
  },
  {
   "cell_type": "markdown",
   "metadata": {},
   "source": [
    "Теперь произведем лемматизацию."
   ]
  },
  {
   "cell_type": "code",
   "execution_count": 15,
   "metadata": {
    "scrolled": true
   },
   "outputs": [
    {
     "data": {
      "text/html": [
       "<div>\n",
       "<style scoped>\n",
       "    .dataframe tbody tr th:only-of-type {\n",
       "        vertical-align: middle;\n",
       "    }\n",
       "\n",
       "    .dataframe tbody tr th {\n",
       "        vertical-align: top;\n",
       "    }\n",
       "\n",
       "    .dataframe thead th {\n",
       "        text-align: right;\n",
       "    }\n",
       "</style>\n",
       "<table border=\"1\" class=\"dataframe\">\n",
       "  <thead>\n",
       "    <tr style=\"text-align: right;\">\n",
       "      <th></th>\n",
       "      <th>toxic</th>\n",
       "      <th>text_lemma</th>\n",
       "    </tr>\n",
       "  </thead>\n",
       "  <tbody>\n",
       "    <tr>\n",
       "      <th>0</th>\n",
       "      <td>0</td>\n",
       "      <td>explanation why the edit make under my usernam...</td>\n",
       "    </tr>\n",
       "    <tr>\n",
       "      <th>1</th>\n",
       "      <td>0</td>\n",
       "      <td>daww he match this background colour I m seemi...</td>\n",
       "    </tr>\n",
       "    <tr>\n",
       "      <th>2</th>\n",
       "      <td>0</td>\n",
       "      <td>hey man I m really not try to edit war its jus...</td>\n",
       "    </tr>\n",
       "    <tr>\n",
       "      <th>3</th>\n",
       "      <td>0</td>\n",
       "      <td>more I can not make any real suggestion on imp...</td>\n",
       "    </tr>\n",
       "    <tr>\n",
       "      <th>4</th>\n",
       "      <td>0</td>\n",
       "      <td>you sir be my hero any chance you remember wha...</td>\n",
       "    </tr>\n",
       "    <tr>\n",
       "      <th>5</th>\n",
       "      <td>0</td>\n",
       "      <td>congratulation from I as well use the tool wel...</td>\n",
       "    </tr>\n",
       "    <tr>\n",
       "      <th>6</th>\n",
       "      <td>1</td>\n",
       "      <td>cocksucker before you piss around on my work</td>\n",
       "    </tr>\n",
       "    <tr>\n",
       "      <th>7</th>\n",
       "      <td>0</td>\n",
       "      <td>your vandalism to the matt shirvington article...</td>\n",
       "    </tr>\n",
       "    <tr>\n",
       "      <th>8</th>\n",
       "      <td>0</td>\n",
       "      <td>sorry if the word nonsense be offensive to you...</td>\n",
       "    </tr>\n",
       "    <tr>\n",
       "      <th>9</th>\n",
       "      <td>0</td>\n",
       "      <td>alignment on this subject and which be contrar...</td>\n",
       "    </tr>\n",
       "  </tbody>\n",
       "</table>\n",
       "</div>"
      ],
      "text/plain": [
       "   toxic                                         text_lemma\n",
       "0      0  explanation why the edit make under my usernam...\n",
       "1      0  daww he match this background colour I m seemi...\n",
       "2      0  hey man I m really not try to edit war its jus...\n",
       "3      0  more I can not make any real suggestion on imp...\n",
       "4      0  you sir be my hero any chance you remember wha...\n",
       "5      0  congratulation from I as well use the tool wel...\n",
       "6      1       cocksucker before you piss around on my work\n",
       "7      0  your vandalism to the matt shirvington article...\n",
       "8      0  sorry if the word nonsense be offensive to you...\n",
       "9      0  alignment on this subject and which be contrar..."
      ]
     },
     "execution_count": 15,
     "metadata": {},
     "output_type": "execute_result"
    }
   ],
   "source": [
    "\n",
    "lemma = []\n",
    " \n",
    "for doc in nlp.pipe(data.text.values):\n",
    "    lemma.append([n.lemma_ for n in doc])\n",
    "    \n",
    "    \n",
    "data['lemma'] = lemma    \n",
    "data['text_lemma'] = data['lemma'].apply(lambda x: ' '.join(x))\n",
    "data = data.drop(['text', 'lemma'], axis=1)\n",
    "data.head(10)"
   ]
  },
  {
   "cell_type": "code",
   "execution_count": 16,
   "metadata": {},
   "outputs": [
    {
     "data": {
      "text/plain": [
       "(159292, 2)"
      ]
     },
     "execution_count": 16,
     "metadata": {},
     "output_type": "execute_result"
    }
   ],
   "source": [
    "data.shape"
   ]
  },
  {
   "cell_type": "markdown",
   "metadata": {},
   "source": [
    "Разделим датасет на тестовые, валидационные и тренировочные выборки."
   ]
  },
  {
   "cell_type": "code",
   "execution_count": 17,
   "metadata": {},
   "outputs": [],
   "source": [
    "X = data.drop(['toxic'], axis = 1)\n",
    "y = data['toxic']\n",
    "\n",
    "X_train, X_valid, y_train, y_valid = train_test_split(X, \n",
    "                                                      y, \n",
    "                                                      test_size=0.5, \n",
    "                                                      random_state=RANDOM_STATE, stratify = y)\n",
    "X_valid, X_test, y_valid, y_test = train_test_split(X_valid, \n",
    "                                                    y_valid, \n",
    "                                                    test_size=0.5,\n",
    "                                                    random_state=RANDOM_STATE, stratify= y_valid)"
   ]
  },
  {
   "cell_type": "markdown",
   "metadata": {},
   "source": [
    "Проверим размерность получившихся наборов данных."
   ]
  },
  {
   "cell_type": "code",
   "execution_count": 18,
   "metadata": {},
   "outputs": [
    {
     "name": "stdout",
     "output_type": "stream",
     "text": [
      "(79646, 1)\n",
      "(79646,)\n",
      "\n",
      "(39823, 1)\n",
      "(39823,)\n",
      "\n",
      "(39823, 1)\n",
      "(39823,)\n"
     ]
    }
   ],
   "source": [
    "print(X_train.shape)\n",
    "print(y_train.shape)\n",
    "print()\n",
    "print(X_test.shape)\n",
    "print(y_test.shape)\n",
    "print()\n",
    "print(X_valid.shape)\n",
    "print(y_valid.shape)"
   ]
  },
  {
   "cell_type": "markdown",
   "metadata": {},
   "source": [
    "Далее преобразуем содержимое строк в векторы и проверим размерность."
   ]
  },
  {
   "cell_type": "code",
   "execution_count": 19,
   "metadata": {},
   "outputs": [
    {
     "name": "stdout",
     "output_type": "stream",
     "text": [
      "(79646, 127944)\n",
      "(39823, 127944)\n",
      "(39823, 127944)\n"
     ]
    }
   ],
   "source": [
    "corpus_train = X_train['text_lemma'].values.astype('U')\n",
    "corpus_test = X_test['text_lemma'].values.astype('U')\n",
    "corpus_valid = X_valid['text_lemma'].values.astype('U')\n",
    "\n",
    "count_tf_idf = TfidfVectorizer(stop_words=list(stopwords))\n",
    "\n",
    "tf_idf_train = count_tf_idf.fit_transform(corpus_train)\n",
    "tf_idf_valid = count_tf_idf.transform(corpus_valid)\n",
    "tf_idf_test = count_tf_idf.transform(corpus_test)\n",
    "\n",
    "print(tf_idf_train.shape)\n",
    "print(tf_idf_valid.shape)\n",
    "print(tf_idf_test.shape)"
   ]
  },
  {
   "cell_type": "markdown",
   "metadata": {},
   "source": [
    "### Вывод по подготовке данных:\n",
    "1. Создали функцию для отчистки текста от ненужных символов, так же привили содержимое строк к нижнему регистру.\n",
    "2. Провели лемматизацию.\n",
    "3. Разделили датасет на тестовые, валидационные и тренировочные выборки.\n",
    "4. Преобразовали данные в вектора."
   ]
  },
  {
   "cell_type": "markdown",
   "metadata": {},
   "source": [
    "## Обучение."
   ]
  },
  {
   "cell_type": "markdown",
   "metadata": {},
   "source": [
    "Создадим функцию, которая будет принимать тренировочные и валидационные данные, словарь с гиперпараметрами и модель. На выходе получим метрики \"F1\" и \"ROC-AUC\" и гиперпараметры лучшей модели."
   ]
  },
  {
   "cell_type": "code",
   "execution_count": 21,
   "metadata": {},
   "outputs": [],
   "source": [
    "def create_model(tf_idf_train, tf_idf_valid, y_train, y_valid, param_grid, model):\n",
    "   \n",
    "    randomized_search = RandomizedSearchCV(\n",
    "        model,\n",
    "        param_grid,\n",
    "        cv=5,\n",
    "        scoring='f1',\n",
    "        random_state=RANDOM_STATE,\n",
    "        n_iter=4,\n",
    "        n_jobs=-1,    \n",
    "    )\n",
    "    \n",
    "    randomized_search.fit(tf_idf_train, y_train)\n",
    "    \n",
    "    best_params = randomized_search.best_params_\n",
    "    print('Лучшие параметры:\\n\\n', best_params)\n",
    "    \n",
    "    f1_score_train = randomized_search.best_score_\n",
    "    \n",
    "    print('Метрика F1 лучшей модели на тренировочной выборке:', f1_score_train)\n",
    "    \n",
    "    best_model = randomized_search.best_estimator_\n",
    "    \n",
    "    # Предсказываем метки для валидационных данных\n",
    "    y_pred_valid = best_model.predict(tf_idf_valid)\n",
    "    \n",
    "    # Вычисляем F1 на валидационной выборке\n",
    "    f1_score_valid = f1_score(y_valid, y_pred_valid)\n",
    "    \n",
    "    print('Метрика F1 лучшей модели на валидационной выборке:', f1_score_valid)\n",
    "    \n",
    "    # Вычисляем ROC AUC для лучшей модели на валидационных данных\n",
    "    y_pred_proba = best_model.predict_proba(tf_idf_valid)[:, 1]\n",
    "    roc_auc = roc_auc_score(y_valid, y_pred_proba)\n",
    "    \n",
    "    print('Метрика ROC AUC лучшей модели на валидационной выборке:', roc_auc)\n",
    "    \n",
    "    return best_model"
   ]
  },
  {
   "cell_type": "code",
   "execution_count": 22,
   "metadata": {},
   "outputs": [],
   "source": [
    "# словарь для модели LGBMClassifier()\n",
    "lgbm_param_grid = {\n",
    "        'n_estimators' : range(50, 101, 10),\n",
    "        'max_depth' : range(5, 15, 2),\n",
    "        'num_leaves' : range(20,70,5),\n",
    "        'verbose' : [0],\n",
    "        'random_state' : [RANDOM_STATE],\n",
    "        'force_col_wise': [True]\n",
    "        }"
   ]
  },
  {
   "cell_type": "code",
   "execution_count": 23,
   "metadata": {},
   "outputs": [],
   "source": [
    "# словарь для модели LogisticRegression()\n",
    "logistic_param_grid = {\n",
    "    'penalty': ['l1', 'l2'],\n",
    "    'C': [0.001, 0.01, 0.1, 1, 10, 100],\n",
    "    'solver': ['liblinear', 'saga'],\n",
    "    'max_iter': [100, 200, 300]  \n",
    "}\n"
   ]
  },
  {
   "cell_type": "code",
   "execution_count": 35,
   "metadata": {},
   "outputs": [],
   "source": [
    "# словарь для модели RandomForestClassifier()\n",
    "random_forest_param_grid = {\n",
    "    'n_estimators': range(50, 300,30),\n",
    "    'max_depth': range(7,50,2) ,\n",
    "    'min_samples_split': [2, 5, 10],\n",
    "    'min_samples_leaf': [1, 2, 4],\n",
    "    'class_weight': ['balanced']\n",
    "}"
   ]
  },
  {
   "cell_type": "code",
   "execution_count": 27,
   "metadata": {},
   "outputs": [
    {
     "name": "stdout",
     "output_type": "stream",
     "text": [
      "Лучшие параметры:\n",
      "\n",
      " {'solver': 'liblinear', 'penalty': 'l2', 'max_iter': 100, 'C': 100}\n",
      "Метрика F1 лучшей модели на тренировочной выборке: 0.7521577653696214\n",
      "Метрика F1 лучшей модели на валидационной выборке: 0.756126958617919\n",
      "Метрика ROC AUC лучшей модели на валидационной выборке: 0.9565990191336325\n"
     ]
    }
   ],
   "source": [
    "log_model = create_model(tf_idf_train, tf_idf_valid, y_train, y_valid, logistic_param_grid, LogisticRegression())"
   ]
  },
  {
   "cell_type": "code",
   "execution_count": 36,
   "metadata": {},
   "outputs": [
    {
     "name": "stdout",
     "output_type": "stream",
     "text": [
      "Лучшие параметры:\n",
      "\n",
      " {'n_estimators': 80, 'min_samples_split': 2, 'min_samples_leaf': 1, 'max_depth': 43, 'class_weight': 'balanced'}\n",
      "Метрика F1 лучшей модели на тренировочной выборке: 0.45113756461180676\n",
      "Метрика F1 лучшей модели на валидационной выборке: 0.4524998191158382\n",
      "Метрика ROC AUC лучшей модели на валидационной выборке: 0.8777094465665726\n"
     ]
    }
   ],
   "source": [
    "random_forest_model = create_model(tf_idf_train, tf_idf_valid, y_train, y_valid,\n",
    "                                   random_forest_param_grid, RandomForestClassifier())"
   ]
  },
  {
   "cell_type": "code",
   "execution_count": 30,
   "metadata": {
    "scrolled": false
   },
   "outputs": [
    {
     "name": "stdout",
     "output_type": "stream",
     "text": [
      "[LightGBM] [Warning] No further splits with positive gain, best gain: -inf\n",
      "Лучшие параметры:\n",
      "\n",
      " {'verbose': 0, 'random_state': 42, 'num_leaves': 50, 'n_estimators': 70, 'max_depth': 13, 'force_col_wise': True}\n",
      "Метрика F1 лучшей модели на тренировочной выборке: 0.6810283938155488\n",
      "Метрика F1 лучшей модели на валидационной выборке: 0.6890159122508882\n",
      "Метрика ROC AUC лучшей модели на валидационной выборке: 0.9449018959581801\n"
     ]
    }
   ],
   "source": [
    "lgbm_model = create_model(tf_idf_train, tf_idf_valid, y_train, y_valid,\n",
    "                                   lgbm_param_grid, LGBMClassifier())"
   ]
  },
  {
   "cell_type": "markdown",
   "metadata": {},
   "source": [
    "Лучшие показатели у модели LogisticRegression: метрика F1 на валидационной выборке: 0.756126958617919 и ROC AUC на валидационной выборке: 0.9565990191336325. Именно эту модель будем использовать для предсказания на тестовых данных."
   ]
  },
  {
   "cell_type": "code",
   "execution_count": 34,
   "metadata": {},
   "outputs": [
    {
     "name": "stdout",
     "output_type": "stream",
     "text": [
      "Метрика F1 лучшей модели на валидационной выборке: 0.7569678201157937\n"
     ]
    }
   ],
   "source": [
    "y_pred_test = log_model.predict(tf_idf_test)\n",
    "    \n",
    "f1_score_test = f1_score(y_test, y_pred_test)\n",
    "print('Метрика F1 лучшей модели на тестовой выборке:', f1_score_test)"
   ]
  },
  {
   "cell_type": "markdown",
   "metadata": {},
   "source": [
    "## Вывод.\n",
    "В ходе работы были протестированны три модели - LogisticRegression, RandomForestClassifier и LGBMClassifier. Лучшие показатели у LogisticRegression, на тестовых данных метрика F1 составила 0.7569678201157937, что подходит под требования задачи -  F1 не меньше 0.75."
   ]
  }
 ],
 "metadata": {
  "ExecuteTimeLog": [
   {
    "duration": 34414,
    "start_time": "2024-01-25T09:13:17.596Z"
   },
   {
    "duration": 19803,
    "start_time": "2024-01-25T09:13:52.013Z"
   },
   {
    "duration": 37190,
    "start_time": "2024-01-25T09:14:11.818Z"
   },
   {
    "duration": 17698,
    "start_time": "2024-01-25T09:14:49.012Z"
   },
   {
    "duration": 9289,
    "start_time": "2024-01-25T09:15:06.713Z"
   },
   {
    "duration": 46,
    "start_time": "2024-01-26T08:00:17.580Z"
   },
   {
    "duration": 5343,
    "start_time": "2024-01-26T08:00:28.252Z"
   },
   {
    "duration": 3232,
    "start_time": "2024-01-26T08:00:33.597Z"
   },
   {
    "duration": 6145,
    "start_time": "2024-01-26T08:00:36.831Z"
   },
   {
    "duration": 2967,
    "start_time": "2024-01-26T08:00:42.978Z"
   },
   {
    "duration": 1428,
    "start_time": "2024-01-26T08:00:45.947Z"
   },
   {
    "duration": 3384,
    "start_time": "2024-01-26T08:00:47.376Z"
   },
   {
    "duration": 15,
    "start_time": "2024-01-26T08:30:10.973Z"
   },
   {
    "duration": 28,
    "start_time": "2024-01-26T08:30:27.361Z"
   },
   {
    "duration": 27,
    "start_time": "2024-01-26T08:30:48.511Z"
   },
   {
    "duration": 208,
    "start_time": "2024-01-26T08:31:02.931Z"
   },
   {
    "duration": 115,
    "start_time": "2024-01-26T08:32:06.447Z"
   },
   {
    "duration": 108,
    "start_time": "2024-01-26T08:32:14.931Z"
   },
   {
    "duration": 112,
    "start_time": "2024-01-26T08:34:30.014Z"
   },
   {
    "duration": 184,
    "start_time": "2024-01-26T08:52:47.086Z"
   },
   {
    "duration": 5276,
    "start_time": "2024-01-30T10:29:37.893Z"
   },
   {
    "duration": 3085,
    "start_time": "2024-01-30T10:29:43.171Z"
   },
   {
    "duration": 6005,
    "start_time": "2024-01-30T10:29:46.258Z"
   },
   {
    "duration": 2872,
    "start_time": "2024-01-30T10:29:52.266Z"
   },
   {
    "duration": 8947,
    "start_time": "2024-01-30T10:29:55.140Z"
   },
   {
    "duration": 3118,
    "start_time": "2024-01-30T10:30:35.297Z"
   },
   {
    "duration": 3570,
    "start_time": "2024-01-30T10:31:23.276Z"
   },
   {
    "duration": 123,
    "start_time": "2024-01-30T10:32:42.054Z"
   },
   {
    "duration": 6520,
    "start_time": "2024-01-30T10:32:48.859Z"
   },
   {
    "duration": 5862,
    "start_time": "2024-01-30T10:33:06.526Z"
   },
   {
    "duration": 467,
    "start_time": "2024-01-30T10:33:16.239Z"
   },
   {
    "duration": 4750,
    "start_time": "2024-02-01T08:33:42.008Z"
   },
   {
    "duration": 3149,
    "start_time": "2024-02-01T08:33:46.760Z"
   },
   {
    "duration": 6021,
    "start_time": "2024-02-01T08:33:49.911Z"
   },
   {
    "duration": 2904,
    "start_time": "2024-02-01T08:33:55.935Z"
   },
   {
    "duration": 10908,
    "start_time": "2024-02-01T08:33:58.841Z"
   },
   {
    "duration": 6105,
    "start_time": "2024-02-01T08:34:09.751Z"
   },
   {
    "duration": 3049,
    "start_time": "2024-02-01T08:34:15.857Z"
   },
   {
    "duration": 2154,
    "start_time": "2024-02-01T08:34:18.908Z"
   },
   {
    "duration": 12,
    "start_time": "2024-02-01T08:34:21.063Z"
   },
   {
    "duration": 33,
    "start_time": "2024-02-01T08:34:21.077Z"
   },
   {
    "duration": 29,
    "start_time": "2024-02-01T08:34:21.111Z"
   },
   {
    "duration": 204,
    "start_time": "2024-02-01T08:34:21.141Z"
   },
   {
    "duration": 222,
    "start_time": "2024-02-01T08:34:21.347Z"
   },
   {
    "duration": 2620,
    "start_time": "2024-02-01T08:34:39.986Z"
   },
   {
    "duration": 2283,
    "start_time": "2024-02-01T08:34:42.608Z"
   },
   {
    "duration": 2334,
    "start_time": "2024-02-01T08:34:44.892Z"
   },
   {
    "duration": 2343,
    "start_time": "2024-02-01T08:34:47.229Z"
   },
   {
    "duration": 2778,
    "start_time": "2024-02-01T08:34:49.573Z"
   },
   {
    "duration": 5140,
    "start_time": "2024-02-01T08:34:52.353Z"
   },
   {
    "duration": 2792,
    "start_time": "2024-02-01T08:34:57.495Z"
   },
   {
    "duration": 786,
    "start_time": "2024-02-01T08:35:00.289Z"
   },
   {
    "duration": 14,
    "start_time": "2024-02-01T08:35:01.077Z"
   },
   {
    "duration": 144,
    "start_time": "2024-02-01T08:35:01.093Z"
   },
   {
    "duration": 76,
    "start_time": "2024-02-01T08:35:01.238Z"
   },
   {
    "duration": 236,
    "start_time": "2024-02-01T08:35:01.316Z"
   },
   {
    "duration": 133,
    "start_time": "2024-02-01T08:35:01.553Z"
   },
   {
    "duration": 491,
    "start_time": "2024-02-01T08:47:30.640Z"
   },
   {
    "duration": 424,
    "start_time": "2024-02-01T08:47:53.847Z"
   },
   {
    "duration": 3066,
    "start_time": "2024-02-01T08:51:10.681Z"
   },
   {
    "duration": 2600,
    "start_time": "2024-02-01T08:51:52.095Z"
   },
   {
    "duration": 2341,
    "start_time": "2024-02-01T08:51:54.698Z"
   },
   {
    "duration": 2351,
    "start_time": "2024-02-01T08:51:57.041Z"
   },
   {
    "duration": 2392,
    "start_time": "2024-02-01T08:51:59.394Z"
   },
   {
    "duration": 3009,
    "start_time": "2024-02-01T08:52:01.788Z"
   },
   {
    "duration": 5843,
    "start_time": "2024-02-01T08:52:04.799Z"
   },
   {
    "duration": 539,
    "start_time": "2024-02-01T08:52:10.644Z"
   },
   {
    "duration": 789,
    "start_time": "2024-02-01T08:52:11.185Z"
   },
   {
    "duration": 12,
    "start_time": "2024-02-01T08:52:11.975Z"
   },
   {
    "duration": 39,
    "start_time": "2024-02-01T08:52:11.988Z"
   },
   {
    "duration": 29,
    "start_time": "2024-02-01T08:52:12.029Z"
   },
   {
    "duration": 215,
    "start_time": "2024-02-01T08:52:12.060Z"
   },
   {
    "duration": 125,
    "start_time": "2024-02-01T08:52:12.277Z"
   },
   {
    "duration": 348734,
    "start_time": "2024-02-01T08:52:12.405Z"
   },
   {
    "duration": 5388,
    "start_time": "2024-02-06T08:28:23.279Z"
   },
   {
    "duration": 3453,
    "start_time": "2024-02-06T08:28:28.669Z"
   },
   {
    "duration": 6161,
    "start_time": "2024-02-06T08:28:32.124Z"
   },
   {
    "duration": 3045,
    "start_time": "2024-02-06T08:28:38.288Z"
   },
   {
    "duration": 7457,
    "start_time": "2024-02-06T08:28:41.335Z"
   },
   {
    "duration": 6487,
    "start_time": "2024-02-06T08:28:48.794Z"
   },
   {
    "duration": 3832,
    "start_time": "2024-02-06T08:28:55.282Z"
   },
   {
    "duration": 3193,
    "start_time": "2024-02-06T08:28:59.116Z"
   },
   {
    "duration": 13,
    "start_time": "2024-02-06T08:29:02.311Z"
   },
   {
    "duration": 28,
    "start_time": "2024-02-06T08:29:02.326Z"
   },
   {
    "duration": 29,
    "start_time": "2024-02-06T08:29:02.356Z"
   },
   {
    "duration": 231,
    "start_time": "2024-02-06T08:29:02.387Z"
   },
   {
    "duration": 138,
    "start_time": "2024-02-06T08:29:02.620Z"
   },
   {
    "duration": 2949,
    "start_time": "2024-02-06T08:29:12.114Z"
   },
   {
    "duration": 2746,
    "start_time": "2024-02-06T08:29:15.065Z"
   },
   {
    "duration": 2693,
    "start_time": "2024-02-06T08:29:17.812Z"
   },
   {
    "duration": 2632,
    "start_time": "2024-02-06T08:29:20.508Z"
   },
   {
    "duration": 3169,
    "start_time": "2024-02-06T08:29:23.143Z"
   },
   {
    "duration": 5799,
    "start_time": "2024-02-06T08:29:26.314Z"
   },
   {
    "duration": 3629,
    "start_time": "2024-02-06T08:29:32.115Z"
   },
   {
    "duration": 892,
    "start_time": "2024-02-06T08:29:35.746Z"
   },
   {
    "duration": 13,
    "start_time": "2024-02-06T08:29:36.640Z"
   },
   {
    "duration": 40,
    "start_time": "2024-02-06T08:29:36.655Z"
   },
   {
    "duration": 26,
    "start_time": "2024-02-06T08:29:36.697Z"
   },
   {
    "duration": 238,
    "start_time": "2024-02-06T08:29:36.724Z"
   },
   {
    "duration": 156,
    "start_time": "2024-02-06T08:29:36.963Z"
   },
   {
    "duration": 216808,
    "start_time": "2024-02-06T08:30:26.122Z"
   },
   {
    "duration": 0,
    "start_time": "2024-02-06T08:34:02.933Z"
   },
   {
    "duration": 0,
    "start_time": "2024-02-06T08:34:02.934Z"
   },
   {
    "duration": 2911,
    "start_time": "2024-02-06T08:38:49.053Z"
   },
   {
    "duration": 2761,
    "start_time": "2024-02-06T08:38:51.967Z"
   },
   {
    "duration": 2749,
    "start_time": "2024-02-06T08:38:54.730Z"
   },
   {
    "duration": 2724,
    "start_time": "2024-02-06T08:38:57.482Z"
   },
   {
    "duration": 3151,
    "start_time": "2024-02-06T08:39:00.209Z"
   },
   {
    "duration": 6019,
    "start_time": "2024-02-06T08:39:03.362Z"
   },
   {
    "duration": 3768,
    "start_time": "2024-02-06T08:39:09.384Z"
   },
   {
    "duration": 928,
    "start_time": "2024-02-06T08:39:13.153Z"
   },
   {
    "duration": 17,
    "start_time": "2024-02-06T08:39:14.082Z"
   },
   {
    "duration": 50,
    "start_time": "2024-02-06T08:39:14.102Z"
   },
   {
    "duration": 34,
    "start_time": "2024-02-06T08:39:14.153Z"
   },
   {
    "duration": 232,
    "start_time": "2024-02-06T08:39:14.189Z"
   },
   {
    "duration": 146,
    "start_time": "2024-02-06T08:39:14.423Z"
   },
   {
    "duration": 48057,
    "start_time": "2024-02-06T08:39:14.572Z"
   },
   {
    "duration": 3,
    "start_time": "2024-02-06T08:42:34.621Z"
   },
   {
    "duration": 2262,
    "start_time": "2024-02-06T08:43:37.763Z"
   },
   {
    "duration": 2274,
    "start_time": "2024-02-06T08:43:48.426Z"
   },
   {
    "duration": 474530,
    "start_time": "2024-02-06T08:45:02.629Z"
   },
   {
    "duration": 2315,
    "start_time": "2024-02-06T08:56:45.163Z"
   },
   {
    "duration": 3017,
    "start_time": "2024-02-06T08:56:54.851Z"
   },
   {
    "duration": 2739,
    "start_time": "2024-02-06T08:56:57.870Z"
   },
   {
    "duration": 2701,
    "start_time": "2024-02-06T08:57:00.611Z"
   },
   {
    "duration": 2748,
    "start_time": "2024-02-06T08:57:03.315Z"
   },
   {
    "duration": 3154,
    "start_time": "2024-02-06T08:57:06.065Z"
   },
   {
    "duration": 6420,
    "start_time": "2024-02-06T08:57:09.222Z"
   },
   {
    "duration": 823,
    "start_time": "2024-02-06T08:57:15.645Z"
   },
   {
    "duration": 840,
    "start_time": "2024-02-06T08:57:16.469Z"
   },
   {
    "duration": 13,
    "start_time": "2024-02-06T08:57:17.311Z"
   },
   {
    "duration": 29,
    "start_time": "2024-02-06T08:57:17.326Z"
   },
   {
    "duration": 38,
    "start_time": "2024-02-06T08:57:17.357Z"
   },
   {
    "duration": 222,
    "start_time": "2024-02-06T08:57:17.397Z"
   },
   {
    "duration": 132,
    "start_time": "2024-02-06T08:57:17.621Z"
   },
   {
    "duration": 2292,
    "start_time": "2024-02-06T08:57:17.754Z"
   },
   {
    "duration": 1078047,
    "start_time": "2024-02-06T08:57:20.047Z"
   },
   {
    "duration": 21,
    "start_time": "2024-02-06T09:28:06.861Z"
   },
   {
    "duration": 499,
    "start_time": "2024-02-06T09:28:17.235Z"
   },
   {
    "duration": 463,
    "start_time": "2024-02-06T09:29:32.912Z"
   },
   {
    "duration": 750,
    "start_time": "2024-02-06T09:46:22.996Z"
   },
   {
    "duration": 11,
    "start_time": "2024-02-06T09:46:55.658Z"
   },
   {
    "duration": 52,
    "start_time": "2024-02-06T09:53:59.851Z"
   },
   {
    "duration": 3430,
    "start_time": "2024-02-06T09:54:05.682Z"
   },
   {
    "duration": 2692,
    "start_time": "2024-02-06T09:54:09.114Z"
   },
   {
    "duration": 2692,
    "start_time": "2024-02-06T09:54:11.807Z"
   },
   {
    "duration": 3218,
    "start_time": "2024-02-06T09:54:14.502Z"
   },
   {
    "duration": 6916,
    "start_time": "2024-02-06T09:54:17.723Z"
   },
   {
    "duration": 4427,
    "start_time": "2024-02-06T09:54:24.641Z"
   },
   {
    "duration": 3242,
    "start_time": "2024-02-06T09:54:29.070Z"
   },
   {
    "duration": 14,
    "start_time": "2024-02-06T09:54:32.314Z"
   },
   {
    "duration": 36,
    "start_time": "2024-02-06T09:54:32.329Z"
   },
   {
    "duration": 27,
    "start_time": "2024-02-06T09:54:32.367Z"
   },
   {
    "duration": 235,
    "start_time": "2024-02-06T09:54:32.396Z"
   },
   {
    "duration": 147,
    "start_time": "2024-02-06T09:54:32.632Z"
   },
   {
    "duration": 2311,
    "start_time": "2024-02-06T09:54:32.781Z"
   },
   {
    "duration": 2990,
    "start_time": "2024-02-06T10:41:49.845Z"
   },
   {
    "duration": 2746,
    "start_time": "2024-02-06T10:41:52.838Z"
   },
   {
    "duration": 2736,
    "start_time": "2024-02-06T10:41:55.585Z"
   },
   {
    "duration": 5333,
    "start_time": "2024-02-06T10:41:58.323Z"
   },
   {
    "duration": 6445,
    "start_time": "2024-02-06T10:42:03.659Z"
   },
   {
    "duration": 3849,
    "start_time": "2024-02-06T10:42:10.106Z"
   },
   {
    "duration": 978,
    "start_time": "2024-02-06T10:42:13.957Z"
   },
   {
    "duration": 14,
    "start_time": "2024-02-06T10:42:14.937Z"
   },
   {
    "duration": 42,
    "start_time": "2024-02-06T10:42:14.952Z"
   },
   {
    "duration": 27,
    "start_time": "2024-02-06T10:42:14.995Z"
   },
   {
    "duration": 277,
    "start_time": "2024-02-06T10:42:15.024Z"
   },
   {
    "duration": 146,
    "start_time": "2024-02-06T10:42:15.302Z"
   },
   {
    "duration": 2745,
    "start_time": "2024-02-06T10:42:15.450Z"
   },
   {
    "duration": 1089090,
    "start_time": "2024-02-06T10:42:18.198Z"
   },
   {
    "duration": 53,
    "start_time": "2024-02-06T11:38:40.775Z"
   },
   {
    "duration": 3539,
    "start_time": "2024-02-06T11:41:48.305Z"
   },
   {
    "duration": 2888,
    "start_time": "2024-02-06T11:41:51.848Z"
   },
   {
    "duration": 2700,
    "start_time": "2024-02-06T11:41:54.738Z"
   },
   {
    "duration": 3450,
    "start_time": "2024-02-06T11:41:57.440Z"
   },
   {
    "duration": 6995,
    "start_time": "2024-02-06T11:42:00.892Z"
   },
   {
    "duration": 4628,
    "start_time": "2024-02-06T11:42:07.890Z"
   },
   {
    "duration": 3235,
    "start_time": "2024-02-06T11:42:12.520Z"
   },
   {
    "duration": 14,
    "start_time": "2024-02-06T11:42:15.757Z"
   },
   {
    "duration": 53,
    "start_time": "2024-02-06T11:42:15.773Z"
   },
   {
    "duration": 28,
    "start_time": "2024-02-06T11:42:15.828Z"
   },
   {
    "duration": 240,
    "start_time": "2024-02-06T11:42:15.857Z"
   },
   {
    "duration": 147,
    "start_time": "2024-02-06T11:42:16.099Z"
   },
   {
    "duration": 2759,
    "start_time": "2024-02-06T11:42:16.248Z"
   }
  ],
  "kernelspec": {
   "display_name": "Python 3 (ipykernel)",
   "language": "python",
   "name": "python3"
  },
  "language_info": {
   "codemirror_mode": {
    "name": "ipython",
    "version": 3
   },
   "file_extension": ".py",
   "mimetype": "text/x-python",
   "name": "python",
   "nbconvert_exporter": "python",
   "pygments_lexer": "ipython3",
   "version": "3.11.5"
  },
  "toc": {
   "base_numbering": 1,
   "nav_menu": {},
   "number_sections": true,
   "sideBar": true,
   "skip_h1_title": true,
   "title_cell": "Содержание",
   "title_sidebar": "Contents",
   "toc_cell": true,
   "toc_position": {
    "height": "calc(100% - 180px)",
    "left": "10px",
    "top": "150px",
    "width": "302.391px"
   },
   "toc_section_display": true,
   "toc_window_display": true
  }
 },
 "nbformat": 4,
 "nbformat_minor": 4
}
