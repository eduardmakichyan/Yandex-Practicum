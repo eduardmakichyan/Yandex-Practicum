{
 "cells": [
  {
   "cell_type": "markdown",
   "metadata": {},
   "source": [
    "# Определение стоимости автомобилей"
   ]
  },
  {
   "cell_type": "markdown",
   "metadata": {},
   "source": [
    "Сервис по продаже автомобилей с пробегом «Не бит, не крашен» разрабатывает приложение для привлечения новых клиентов. В нём можно быстро узнать рыночную стоимость своего автомобиля. В нашем распоряжении исторические данные: технические характеристики, комплектации и цены автомобилей. Нам нужно построить модель для определения стоимости. \n",
    "\n",
    "Заказчику важны:\n",
    "\n",
    "- качество предсказания;\n",
    "- скорость предсказания;\n",
    "- время обучения.\n",
    "<br>\n",
    "Значение метрики RMSE должно быть меньше 2500.\n"
   ]
  },
  {
   "cell_type": "markdown",
   "metadata": {},
   "source": [
    "# Краткий план выполнения проекта:\n",
    "Загрузим данные.<br>\n",
    "Изучим данные. Заполним пропущенные значения и обработаем аномалии в столбцах. Если среди признаков имеются неинформативные, удалим их.<br>\n",
    "Подготовим выборки для обучения моделей.<br>\n",
    "Обучим разные модели, одна из которых — LightGBM, как минимум одна — не бустинг.<br>\n",
    "Проанализируем время обучения, время предсказания и качество моделей.<br>\n",
    "Опираясь на критерии заказчика, выберем лучшую модель.<br>"
   ]
  },
  {
   "cell_type": "markdown",
   "metadata": {},
   "source": [
    "# Описание данных\n",
    "Признаки:<br>\n",
    "<br>\n",
    "DateCrawled — дата скачивания анкеты из базы <br>\n",
    "VehicleType — тип автомобильного кузова<br>\n",
    "RegistrationYear — год регистрации автомобиля<br>\n",
    "Gearbox — тип коробки передач<br>\n",
    "Power — мощность (л. с.)<br>\n",
    "Model — модель автомобиля<br>\n",
    "Kilometer — пробег (км)<br>\n",
    "RegistrationMonth — месяц регистрации автомобиля<br>\n",
    "FuelType — тип топлива<br>\n",
    "Brand — марка автомобиля<br>\n",
    "Repaired — была машина в ремонте или нет<br>\n",
    "DateCreated — дата создания анкеты<br>\n",
    "NumberOfPictures — количество фотографий автомобиля<br>\n",
    "PostalCode — почтовый индекс владельца анкеты (пользователя)<br>\n",
    "LastSeen — дата последней активности пользователя<br>\n",
    "Целевой признак:<br>\n",
    "<br>\n",
    "Price — цена (евро)"
   ]
  },
  {
   "cell_type": "markdown",
   "metadata": {},
   "source": [
    "Установим необходимый функционал и импортируем нееобходимые библиотеки."
   ]
  },
  {
   "cell_type": "code",
   "execution_count": 10,
   "metadata": {
    "scrolled": false
   },
   "outputs": [
    {
     "name": "stdout",
     "output_type": "stream",
     "text": [
      "Note: you may need to restart the kernel to use updated packages.\n"
     ]
    }
   ],
   "source": [
    "pip install --upgrade pip -q"
   ]
  },
  {
   "cell_type": "code",
   "execution_count": 11,
   "metadata": {},
   "outputs": [],
   "source": [
    "!pip install phik -q"
   ]
  },
  {
   "cell_type": "code",
   "execution_count": 12,
   "metadata": {},
   "outputs": [],
   "source": [
    "!pip install scikit-learn==1.3.2 -q"
   ]
  },
  {
   "cell_type": "code",
   "execution_count": 13,
   "metadata": {},
   "outputs": [],
   "source": [
    "!pip install missingno -q"
   ]
  },
  {
   "cell_type": "code",
   "execution_count": 14,
   "metadata": {},
   "outputs": [],
   "source": [
    "# импортируем все необходимые библиотеки \n",
    "import pandas as pd\n",
    "import matplotlib.pyplot as plt\n",
    "import numpy as np\n",
    "import scipy.stats as st\n",
    "import missingno as msno\n",
    "from sklearn.inspection import permutation_importance\n",
    "import phik\n",
    "from numpy import quantile\n",
    "from sklearn.dummy import DummyRegressor\n",
    "import warnings\n",
    "import seaborn as sns\n",
    "from sklearn.model_selection import train_test_split, cross_val_score\n",
    "from sklearn.preprocessing import OneHotEncoder, OrdinalEncoder, StandardScaler, MinMaxScaler, RobustScaler\n",
    "from sklearn.compose import ColumnTransformer\n",
    "from sklearn.pipeline import Pipeline\n",
    "from sklearn.neighbors import KNeighborsClassifier\n",
    "from sklearn.tree import DecisionTreeClassifier, DecisionTreeRegressor\n",
    "from sklearn.model_selection import RandomizedSearchCV , GridSearchCV\n",
    "from sklearn.svm import SVC\n",
    "from sklearn.impute import SimpleImputer\n",
    "from lightgbm import LGBMRegressor\n",
    "from sklearn.compose import make_column_transformer, make_column_selector\n",
    "from sklearn.ensemble import RandomForestClassifier, RandomForestRegressor\n",
    "from sklearn.linear_model import LogisticRegression, LinearRegression, Ridge, Lasso\n",
    "from sklearn.metrics import (mean_squared_error, mean_absolute_error, confusion_matrix,\n",
    "                             accuracy_score, precision_score, recall_score, r2_score, roc_auc_score, make_scorer)\n",
    "RANDOM_STATE = 42\n",
    "TEST_SIZE = 0.2"
   ]
  },
  {
   "cell_type": "markdown",
   "metadata": {},
   "source": [
    "## Подготовка данных"
   ]
  },
  {
   "cell_type": "markdown",
   "metadata": {},
   "source": [
    "Сохраним в переменную таблицу с данными."
   ]
  },
  {
   "cell_type": "code",
   "execution_count": 6,
   "metadata": {
    "scrolled": true
   },
   "outputs": [
    {
     "data": {
      "text/html": [
       "<div>\n",
       "<style scoped>\n",
       "    .dataframe tbody tr th:only-of-type {\n",
       "        vertical-align: middle;\n",
       "    }\n",
       "\n",
       "    .dataframe tbody tr th {\n",
       "        vertical-align: top;\n",
       "    }\n",
       "\n",
       "    .dataframe thead th {\n",
       "        text-align: right;\n",
       "    }\n",
       "</style>\n",
       "<table border=\"1\" class=\"dataframe\">\n",
       "  <thead>\n",
       "    <tr style=\"text-align: right;\">\n",
       "      <th></th>\n",
       "      <th>DateCrawled</th>\n",
       "      <th>Price</th>\n",
       "      <th>VehicleType</th>\n",
       "      <th>RegistrationYear</th>\n",
       "      <th>Gearbox</th>\n",
       "      <th>Power</th>\n",
       "      <th>Model</th>\n",
       "      <th>Kilometer</th>\n",
       "      <th>RegistrationMonth</th>\n",
       "      <th>FuelType</th>\n",
       "      <th>Brand</th>\n",
       "      <th>Repaired</th>\n",
       "      <th>DateCreated</th>\n",
       "      <th>NumberOfPictures</th>\n",
       "      <th>PostalCode</th>\n",
       "      <th>LastSeen</th>\n",
       "    </tr>\n",
       "  </thead>\n",
       "  <tbody>\n",
       "    <tr>\n",
       "      <th>0</th>\n",
       "      <td>2016-03-24 11:52:17</td>\n",
       "      <td>480</td>\n",
       "      <td>NaN</td>\n",
       "      <td>1993</td>\n",
       "      <td>manual</td>\n",
       "      <td>0</td>\n",
       "      <td>golf</td>\n",
       "      <td>150000</td>\n",
       "      <td>0</td>\n",
       "      <td>petrol</td>\n",
       "      <td>volkswagen</td>\n",
       "      <td>NaN</td>\n",
       "      <td>2016-03-24 00:00:00</td>\n",
       "      <td>0</td>\n",
       "      <td>70435</td>\n",
       "      <td>2016-04-07 03:16:57</td>\n",
       "    </tr>\n",
       "    <tr>\n",
       "      <th>1</th>\n",
       "      <td>2016-03-24 10:58:45</td>\n",
       "      <td>18300</td>\n",
       "      <td>coupe</td>\n",
       "      <td>2011</td>\n",
       "      <td>manual</td>\n",
       "      <td>190</td>\n",
       "      <td>NaN</td>\n",
       "      <td>125000</td>\n",
       "      <td>5</td>\n",
       "      <td>gasoline</td>\n",
       "      <td>audi</td>\n",
       "      <td>yes</td>\n",
       "      <td>2016-03-24 00:00:00</td>\n",
       "      <td>0</td>\n",
       "      <td>66954</td>\n",
       "      <td>2016-04-07 01:46:50</td>\n",
       "    </tr>\n",
       "    <tr>\n",
       "      <th>2</th>\n",
       "      <td>2016-03-14 12:52:21</td>\n",
       "      <td>9800</td>\n",
       "      <td>suv</td>\n",
       "      <td>2004</td>\n",
       "      <td>auto</td>\n",
       "      <td>163</td>\n",
       "      <td>grand</td>\n",
       "      <td>125000</td>\n",
       "      <td>8</td>\n",
       "      <td>gasoline</td>\n",
       "      <td>jeep</td>\n",
       "      <td>NaN</td>\n",
       "      <td>2016-03-14 00:00:00</td>\n",
       "      <td>0</td>\n",
       "      <td>90480</td>\n",
       "      <td>2016-04-05 12:47:46</td>\n",
       "    </tr>\n",
       "    <tr>\n",
       "      <th>3</th>\n",
       "      <td>2016-03-17 16:54:04</td>\n",
       "      <td>1500</td>\n",
       "      <td>small</td>\n",
       "      <td>2001</td>\n",
       "      <td>manual</td>\n",
       "      <td>75</td>\n",
       "      <td>golf</td>\n",
       "      <td>150000</td>\n",
       "      <td>6</td>\n",
       "      <td>petrol</td>\n",
       "      <td>volkswagen</td>\n",
       "      <td>no</td>\n",
       "      <td>2016-03-17 00:00:00</td>\n",
       "      <td>0</td>\n",
       "      <td>91074</td>\n",
       "      <td>2016-03-17 17:40:17</td>\n",
       "    </tr>\n",
       "    <tr>\n",
       "      <th>4</th>\n",
       "      <td>2016-03-31 17:25:20</td>\n",
       "      <td>3600</td>\n",
       "      <td>small</td>\n",
       "      <td>2008</td>\n",
       "      <td>manual</td>\n",
       "      <td>69</td>\n",
       "      <td>fabia</td>\n",
       "      <td>90000</td>\n",
       "      <td>7</td>\n",
       "      <td>gasoline</td>\n",
       "      <td>skoda</td>\n",
       "      <td>no</td>\n",
       "      <td>2016-03-31 00:00:00</td>\n",
       "      <td>0</td>\n",
       "      <td>60437</td>\n",
       "      <td>2016-04-06 10:17:21</td>\n",
       "    </tr>\n",
       "  </tbody>\n",
       "</table>\n",
       "</div>"
      ],
      "text/plain": [
       "           DateCrawled  Price VehicleType  RegistrationYear Gearbox  Power  \\\n",
       "0  2016-03-24 11:52:17    480         NaN              1993  manual      0   \n",
       "1  2016-03-24 10:58:45  18300       coupe              2011  manual    190   \n",
       "2  2016-03-14 12:52:21   9800         suv              2004    auto    163   \n",
       "3  2016-03-17 16:54:04   1500       small              2001  manual     75   \n",
       "4  2016-03-31 17:25:20   3600       small              2008  manual     69   \n",
       "\n",
       "   Model  Kilometer  RegistrationMonth  FuelType       Brand Repaired  \\\n",
       "0   golf     150000                  0    petrol  volkswagen      NaN   \n",
       "1    NaN     125000                  5  gasoline        audi      yes   \n",
       "2  grand     125000                  8  gasoline        jeep      NaN   \n",
       "3   golf     150000                  6    petrol  volkswagen       no   \n",
       "4  fabia      90000                  7  gasoline       skoda       no   \n",
       "\n",
       "           DateCreated  NumberOfPictures  PostalCode             LastSeen  \n",
       "0  2016-03-24 00:00:00                 0       70435  2016-04-07 03:16:57  \n",
       "1  2016-03-24 00:00:00                 0       66954  2016-04-07 01:46:50  \n",
       "2  2016-03-14 00:00:00                 0       90480  2016-04-05 12:47:46  \n",
       "3  2016-03-17 00:00:00                 0       91074  2016-03-17 17:40:17  \n",
       "4  2016-03-31 00:00:00                 0       60437  2016-04-06 10:17:21  "
      ]
     },
     "execution_count": 6,
     "metadata": {},
     "output_type": "execute_result"
    }
   ],
   "source": [
    "data = pd.read_csv('/####.csv')\n",
    "data.head()"
   ]
  },
  {
   "cell_type": "markdown",
   "metadata": {},
   "source": [
    "Взглянем на общую информацию о таблице."
   ]
  },
  {
   "cell_type": "code",
   "execution_count": 7,
   "metadata": {
    "scrolled": true
   },
   "outputs": [
    {
     "name": "stdout",
     "output_type": "stream",
     "text": [
      "<class 'pandas.core.frame.DataFrame'>\n",
      "RangeIndex: 354369 entries, 0 to 354368\n",
      "Data columns (total 16 columns):\n",
      " #   Column             Non-Null Count   Dtype \n",
      "---  ------             --------------   ----- \n",
      " 0   DateCrawled        354369 non-null  object\n",
      " 1   Price              354369 non-null  int64 \n",
      " 2   VehicleType        316879 non-null  object\n",
      " 3   RegistrationYear   354369 non-null  int64 \n",
      " 4   Gearbox            334536 non-null  object\n",
      " 5   Power              354369 non-null  int64 \n",
      " 6   Model              334664 non-null  object\n",
      " 7   Kilometer          354369 non-null  int64 \n",
      " 8   RegistrationMonth  354369 non-null  int64 \n",
      " 9   FuelType           321474 non-null  object\n",
      " 10  Brand              354369 non-null  object\n",
      " 11  Repaired           283215 non-null  object\n",
      " 12  DateCreated        354369 non-null  object\n",
      " 13  NumberOfPictures   354369 non-null  int64 \n",
      " 14  PostalCode         354369 non-null  int64 \n",
      " 15  LastSeen           354369 non-null  object\n",
      "dtypes: int64(7), object(9)\n",
      "memory usage: 43.3+ MB\n"
     ]
    }
   ],
   "source": [
    "data.info()"
   ]
  },
  {
   "cell_type": "markdown",
   "metadata": {},
   "source": [
    "Видим, что формат данных соответствует истеному во всех столбцах, кроме DateCrawled."
   ]
  },
  {
   "cell_type": "markdown",
   "metadata": {},
   "source": [
    "Проверим кол-во явных дубликатов."
   ]
  },
  {
   "cell_type": "code",
   "execution_count": 8,
   "metadata": {},
   "outputs": [
    {
     "data": {
      "text/plain": [
       "4"
      ]
     },
     "execution_count": 8,
     "metadata": {},
     "output_type": "execute_result"
    }
   ],
   "source": [
    "data.duplicated().sum()"
   ]
  },
  {
   "cell_type": "code",
   "execution_count": 9,
   "metadata": {},
   "outputs": [
    {
     "data": {
      "text/html": [
       "<div>\n",
       "<style scoped>\n",
       "    .dataframe tbody tr th:only-of-type {\n",
       "        vertical-align: middle;\n",
       "    }\n",
       "\n",
       "    .dataframe tbody tr th {\n",
       "        vertical-align: top;\n",
       "    }\n",
       "\n",
       "    .dataframe thead th {\n",
       "        text-align: right;\n",
       "    }\n",
       "</style>\n",
       "<table border=\"1\" class=\"dataframe\">\n",
       "  <thead>\n",
       "    <tr style=\"text-align: right;\">\n",
       "      <th></th>\n",
       "      <th>DateCrawled</th>\n",
       "      <th>Price</th>\n",
       "      <th>VehicleType</th>\n",
       "      <th>RegistrationYear</th>\n",
       "      <th>Gearbox</th>\n",
       "      <th>Power</th>\n",
       "      <th>Model</th>\n",
       "      <th>Kilometer</th>\n",
       "      <th>RegistrationMonth</th>\n",
       "      <th>FuelType</th>\n",
       "      <th>Brand</th>\n",
       "      <th>Repaired</th>\n",
       "      <th>DateCreated</th>\n",
       "      <th>NumberOfPictures</th>\n",
       "      <th>PostalCode</th>\n",
       "      <th>LastSeen</th>\n",
       "    </tr>\n",
       "  </thead>\n",
       "  <tbody>\n",
       "    <tr>\n",
       "      <th>171088</th>\n",
       "      <td>2016-03-08 18:42:48</td>\n",
       "      <td>1799</td>\n",
       "      <td>coupe</td>\n",
       "      <td>1999</td>\n",
       "      <td>auto</td>\n",
       "      <td>193</td>\n",
       "      <td>clk</td>\n",
       "      <td>20000</td>\n",
       "      <td>7</td>\n",
       "      <td>petrol</td>\n",
       "      <td>mercedes_benz</td>\n",
       "      <td>no</td>\n",
       "      <td>2016-03-08 00:00:00</td>\n",
       "      <td>0</td>\n",
       "      <td>89518</td>\n",
       "      <td>2016-03-09 09:46:57</td>\n",
       "    </tr>\n",
       "    <tr>\n",
       "      <th>231258</th>\n",
       "      <td>2016-03-28 00:56:10</td>\n",
       "      <td>1000</td>\n",
       "      <td>small</td>\n",
       "      <td>2002</td>\n",
       "      <td>manual</td>\n",
       "      <td>83</td>\n",
       "      <td>other</td>\n",
       "      <td>150000</td>\n",
       "      <td>1</td>\n",
       "      <td>petrol</td>\n",
       "      <td>suzuki</td>\n",
       "      <td>no</td>\n",
       "      <td>2016-03-28 00:00:00</td>\n",
       "      <td>0</td>\n",
       "      <td>66589</td>\n",
       "      <td>2016-03-28 08:46:21</td>\n",
       "    </tr>\n",
       "    <tr>\n",
       "      <th>258109</th>\n",
       "      <td>2016-04-03 09:01:15</td>\n",
       "      <td>4699</td>\n",
       "      <td>coupe</td>\n",
       "      <td>2003</td>\n",
       "      <td>auto</td>\n",
       "      <td>218</td>\n",
       "      <td>clk</td>\n",
       "      <td>125000</td>\n",
       "      <td>6</td>\n",
       "      <td>petrol</td>\n",
       "      <td>mercedes_benz</td>\n",
       "      <td>yes</td>\n",
       "      <td>2016-04-03 00:00:00</td>\n",
       "      <td>0</td>\n",
       "      <td>75196</td>\n",
       "      <td>2016-04-07 09:44:54</td>\n",
       "    </tr>\n",
       "    <tr>\n",
       "      <th>325651</th>\n",
       "      <td>2016-03-18 18:46:15</td>\n",
       "      <td>1999</td>\n",
       "      <td>wagon</td>\n",
       "      <td>2001</td>\n",
       "      <td>manual</td>\n",
       "      <td>131</td>\n",
       "      <td>passat</td>\n",
       "      <td>150000</td>\n",
       "      <td>7</td>\n",
       "      <td>gasoline</td>\n",
       "      <td>volkswagen</td>\n",
       "      <td>no</td>\n",
       "      <td>2016-03-18 00:00:00</td>\n",
       "      <td>0</td>\n",
       "      <td>36391</td>\n",
       "      <td>2016-03-18 18:46:15</td>\n",
       "    </tr>\n",
       "  </tbody>\n",
       "</table>\n",
       "</div>"
      ],
      "text/plain": [
       "                DateCrawled  Price VehicleType  RegistrationYear Gearbox  \\\n",
       "171088  2016-03-08 18:42:48   1799       coupe              1999    auto   \n",
       "231258  2016-03-28 00:56:10   1000       small              2002  manual   \n",
       "258109  2016-04-03 09:01:15   4699       coupe              2003    auto   \n",
       "325651  2016-03-18 18:46:15   1999       wagon              2001  manual   \n",
       "\n",
       "        Power   Model  Kilometer  RegistrationMonth  FuelType          Brand  \\\n",
       "171088    193     clk      20000                  7    petrol  mercedes_benz   \n",
       "231258     83   other     150000                  1    petrol         suzuki   \n",
       "258109    218     clk     125000                  6    petrol  mercedes_benz   \n",
       "325651    131  passat     150000                  7  gasoline     volkswagen   \n",
       "\n",
       "       Repaired          DateCreated  NumberOfPictures  PostalCode  \\\n",
       "171088       no  2016-03-08 00:00:00                 0       89518   \n",
       "231258       no  2016-03-28 00:00:00                 0       66589   \n",
       "258109      yes  2016-04-03 00:00:00                 0       75196   \n",
       "325651       no  2016-03-18 00:00:00                 0       36391   \n",
       "\n",
       "                   LastSeen  \n",
       "171088  2016-03-09 09:46:57  \n",
       "231258  2016-03-28 08:46:21  \n",
       "258109  2016-04-07 09:44:54  \n",
       "325651  2016-03-18 18:46:15  "
      ]
     },
     "execution_count": 9,
     "metadata": {},
     "output_type": "execute_result"
    }
   ],
   "source": [
    "data[data.duplicated() == True]"
   ]
  },
  {
   "cell_type": "code",
   "execution_count": 10,
   "metadata": {},
   "outputs": [
    {
     "data": {
      "text/plain": [
       "0"
      ]
     },
     "execution_count": 10,
     "metadata": {},
     "output_type": "execute_result"
    }
   ],
   "source": [
    "data = data.drop_duplicates()\n",
    "data.duplicated().sum()"
   ]
  },
  {
   "cell_type": "markdown",
   "metadata": {},
   "source": [
    "Всего 4 явных дубликата. Удалили их."
   ]
  },
  {
   "cell_type": "code",
   "execution_count": 11,
   "metadata": {},
   "outputs": [
    {
     "data": {
      "text/plain": [
       "Timestamp('2016-04-07 14:36:58')"
      ]
     },
     "execution_count": 11,
     "metadata": {},
     "output_type": "execute_result"
    }
   ],
   "source": [
    "date = pd.to_datetime(data['DateCrawled'])\n",
    "date.max()"
   ]
  },
  {
   "cell_type": "markdown",
   "metadata": {},
   "source": [
    "Проверили верхнюю границу даты регистрации автомобиля. Это пригодиться в дальнейшем, чтобы определить выбросы в годе производства машины."
   ]
  },
  {
   "cell_type": "markdown",
   "metadata": {},
   "source": [
    "Удалим не информативные столбцы."
   ]
  },
  {
   "cell_type": "code",
   "execution_count": 12,
   "metadata": {},
   "outputs": [],
   "source": [
    "data = data.drop(columns=['DateCrawled', 'RegistrationMonth', 'DateCreated', 'PostalCode', 'LastSeen', 'NumberOfPictures'],\n",
    "        inplace=False,\n",
    "        errors='ignore')"
   ]
  },
  {
   "cell_type": "markdown",
   "metadata": {},
   "source": [
    "Привеидем названия столбцов к нижнему регистру."
   ]
  },
  {
   "cell_type": "code",
   "execution_count": 13,
   "metadata": {},
   "outputs": [],
   "source": [
    "data.columns = data.columns.str.lower()\n",
    "data.columns = data.columns.str.replace('vehicletype','vehicle_type')\n",
    "data.columns = data.columns.str.replace('registrationyear','registration_year')\n",
    "data.columns = data.columns.str.replace('fueltype','fuel_type')"
   ]
  },
  {
   "cell_type": "markdown",
   "metadata": {},
   "source": [
    "Взглянем на итоговый вид таблицы и информацию о ней."
   ]
  },
  {
   "cell_type": "code",
   "execution_count": 14,
   "metadata": {},
   "outputs": [
    {
     "data": {
      "text/html": [
       "<div>\n",
       "<style scoped>\n",
       "    .dataframe tbody tr th:only-of-type {\n",
       "        vertical-align: middle;\n",
       "    }\n",
       "\n",
       "    .dataframe tbody tr th {\n",
       "        vertical-align: top;\n",
       "    }\n",
       "\n",
       "    .dataframe thead th {\n",
       "        text-align: right;\n",
       "    }\n",
       "</style>\n",
       "<table border=\"1\" class=\"dataframe\">\n",
       "  <thead>\n",
       "    <tr style=\"text-align: right;\">\n",
       "      <th></th>\n",
       "      <th>price</th>\n",
       "      <th>vehicle_type</th>\n",
       "      <th>registration_year</th>\n",
       "      <th>gearbox</th>\n",
       "      <th>power</th>\n",
       "      <th>model</th>\n",
       "      <th>kilometer</th>\n",
       "      <th>fuel_type</th>\n",
       "      <th>brand</th>\n",
       "      <th>repaired</th>\n",
       "    </tr>\n",
       "  </thead>\n",
       "  <tbody>\n",
       "    <tr>\n",
       "      <th>0</th>\n",
       "      <td>480</td>\n",
       "      <td>NaN</td>\n",
       "      <td>1993</td>\n",
       "      <td>manual</td>\n",
       "      <td>0</td>\n",
       "      <td>golf</td>\n",
       "      <td>150000</td>\n",
       "      <td>petrol</td>\n",
       "      <td>volkswagen</td>\n",
       "      <td>NaN</td>\n",
       "    </tr>\n",
       "    <tr>\n",
       "      <th>1</th>\n",
       "      <td>18300</td>\n",
       "      <td>coupe</td>\n",
       "      <td>2011</td>\n",
       "      <td>manual</td>\n",
       "      <td>190</td>\n",
       "      <td>NaN</td>\n",
       "      <td>125000</td>\n",
       "      <td>gasoline</td>\n",
       "      <td>audi</td>\n",
       "      <td>yes</td>\n",
       "    </tr>\n",
       "    <tr>\n",
       "      <th>2</th>\n",
       "      <td>9800</td>\n",
       "      <td>suv</td>\n",
       "      <td>2004</td>\n",
       "      <td>auto</td>\n",
       "      <td>163</td>\n",
       "      <td>grand</td>\n",
       "      <td>125000</td>\n",
       "      <td>gasoline</td>\n",
       "      <td>jeep</td>\n",
       "      <td>NaN</td>\n",
       "    </tr>\n",
       "    <tr>\n",
       "      <th>3</th>\n",
       "      <td>1500</td>\n",
       "      <td>small</td>\n",
       "      <td>2001</td>\n",
       "      <td>manual</td>\n",
       "      <td>75</td>\n",
       "      <td>golf</td>\n",
       "      <td>150000</td>\n",
       "      <td>petrol</td>\n",
       "      <td>volkswagen</td>\n",
       "      <td>no</td>\n",
       "    </tr>\n",
       "    <tr>\n",
       "      <th>4</th>\n",
       "      <td>3600</td>\n",
       "      <td>small</td>\n",
       "      <td>2008</td>\n",
       "      <td>manual</td>\n",
       "      <td>69</td>\n",
       "      <td>fabia</td>\n",
       "      <td>90000</td>\n",
       "      <td>gasoline</td>\n",
       "      <td>skoda</td>\n",
       "      <td>no</td>\n",
       "    </tr>\n",
       "  </tbody>\n",
       "</table>\n",
       "</div>"
      ],
      "text/plain": [
       "   price vehicle_type  registration_year gearbox  power  model  kilometer  \\\n",
       "0    480          NaN               1993  manual      0   golf     150000   \n",
       "1  18300        coupe               2011  manual    190    NaN     125000   \n",
       "2   9800          suv               2004    auto    163  grand     125000   \n",
       "3   1500        small               2001  manual     75   golf     150000   \n",
       "4   3600        small               2008  manual     69  fabia      90000   \n",
       "\n",
       "  fuel_type       brand repaired  \n",
       "0    petrol  volkswagen      NaN  \n",
       "1  gasoline        audi      yes  \n",
       "2  gasoline        jeep      NaN  \n",
       "3    petrol  volkswagen       no  \n",
       "4  gasoline       skoda       no  "
      ]
     },
     "execution_count": 14,
     "metadata": {},
     "output_type": "execute_result"
    }
   ],
   "source": [
    "data.head()"
   ]
  },
  {
   "cell_type": "code",
   "execution_count": 15,
   "metadata": {},
   "outputs": [
    {
     "name": "stdout",
     "output_type": "stream",
     "text": [
      "<class 'pandas.core.frame.DataFrame'>\n",
      "Int64Index: 354365 entries, 0 to 354368\n",
      "Data columns (total 10 columns):\n",
      " #   Column             Non-Null Count   Dtype \n",
      "---  ------             --------------   ----- \n",
      " 0   price              354365 non-null  int64 \n",
      " 1   vehicle_type       316875 non-null  object\n",
      " 2   registration_year  354365 non-null  int64 \n",
      " 3   gearbox            334532 non-null  object\n",
      " 4   power              354365 non-null  int64 \n",
      " 5   model              334660 non-null  object\n",
      " 6   kilometer          354365 non-null  int64 \n",
      " 7   fuel_type          321470 non-null  object\n",
      " 8   brand              354365 non-null  object\n",
      " 9   repaired           283211 non-null  object\n",
      "dtypes: int64(4), object(6)\n",
      "memory usage: 29.7+ MB\n"
     ]
    }
   ],
   "source": [
    "data.info()"
   ]
  },
  {
   "cell_type": "markdown",
   "metadata": {},
   "source": [
    "Проверим наличие пропусков и как они расспределены в таблице."
   ]
  },
  {
   "cell_type": "code",
   "execution_count": 16,
   "metadata": {
    "scrolled": false
   },
   "outputs": [
    {
     "data": {
      "text/plain": [
       "price                    0\n",
       "vehicle_type         37490\n",
       "registration_year        0\n",
       "gearbox              19833\n",
       "power                    0\n",
       "model                19705\n",
       "kilometer                0\n",
       "fuel_type            32895\n",
       "brand                    0\n",
       "repaired             71154\n",
       "dtype: int64"
      ]
     },
     "execution_count": 16,
     "metadata": {},
     "output_type": "execute_result"
    }
   ],
   "source": [
    "data.isna().sum()"
   ]
  },
  {
   "cell_type": "code",
   "execution_count": 17,
   "metadata": {
    "scrolled": true
   },
   "outputs": [
    {
     "data": {
      "image/png": "[encoded data removed]",
      "text/plain": [
       "<Figure size 1800x720 with 2 Axes>"
      ]
     },
     "metadata": {
      "needs_background": "light"
     },
     "output_type": "display_data"
    }
   ],
   "source": [
    "msno.matrix(data, labels=True)\n",
    "plt.show()"
   ]
  },
  {
   "cell_type": "markdown",
   "metadata": {},
   "source": [
    "В таблице большое кол-во пропусков в столбцах с типом кузова, типом коробки передач, моделью машины, типом топлива и наличием ремонта. Благодаря визуализации, мы видем, что пропуски расспределенны равномерно по всей таблице. Обработкой пропусков займемся после разделения таблицы на тестовую и тренировочную выборки."
   ]
  },
  {
   "cell_type": "markdown",
   "metadata": {},
   "source": [
    "Далее взглянем на уникальные значения в категориальных столбцах."
   ]
  },
  {
   "cell_type": "code",
   "execution_count": 18,
   "metadata": {},
   "outputs": [
    {
     "data": {
      "text/plain": [
       "array([nan, 'coupe', 'suv', 'small', 'sedan', 'convertible', 'bus',\n",
       "       'wagon', 'other'], dtype=object)"
      ]
     },
     "execution_count": 18,
     "metadata": {},
     "output_type": "execute_result"
    }
   ],
   "source": [
    "data['vehicle_type'].unique()"
   ]
  },
  {
   "cell_type": "code",
   "execution_count": 19,
   "metadata": {},
   "outputs": [
    {
     "data": {
      "text/plain": [
       "array(['manual', 'auto', nan], dtype=object)"
      ]
     },
     "execution_count": 19,
     "metadata": {},
     "output_type": "execute_result"
    }
   ],
   "source": [
    "data['gearbox'].unique()"
   ]
  },
  {
   "cell_type": "code",
   "execution_count": 20,
   "metadata": {},
   "outputs": [
    {
     "data": {
      "text/plain": [
       "array(['petrol', 'gasoline', nan, 'lpg', 'other', 'hybrid', 'cng',\n",
       "       'electric'], dtype=object)"
      ]
     },
     "execution_count": 20,
     "metadata": {},
     "output_type": "execute_result"
    }
   ],
   "source": [
    "data['fuel_type'].unique() "
   ]
  },
  {
   "cell_type": "markdown",
   "metadata": {},
   "source": [
    "\"cng\" и \"lpg\" это тоже газовое топливо, поэтому заменили значения."
   ]
  },
  {
   "cell_type": "code",
   "execution_count": 21,
   "metadata": {},
   "outputs": [
    {
     "data": {
      "text/plain": [
       "array(['petrol', 'gasoline', nan, 'other', 'hybrid', 'electric'],\n",
       "      dtype=object)"
      ]
     },
     "execution_count": 21,
     "metadata": {},
     "output_type": "execute_result"
    }
   ],
   "source": [
    "data['fuel_type'] = data['fuel_type'].str.replace('cng', 'gasoline')\n",
    "data['fuel_type'] = data['fuel_type'].str.replace('lpg', 'gasoline')\n",
    "data['fuel_type'].unique()"
   ]
  },
  {
   "cell_type": "code",
   "execution_count": 22,
   "metadata": {
    "scrolled": false
   },
   "outputs": [
    {
     "data": {
      "text/plain": [
       "array(['volkswagen', 'audi', 'jeep', 'skoda', 'bmw', 'peugeot', 'ford',\n",
       "       'mazda', 'nissan', 'renault', 'mercedes_benz', 'opel', 'seat',\n",
       "       'citroen', 'honda', 'fiat', 'mini', 'smart', 'hyundai',\n",
       "       'sonstige_autos', 'alfa_romeo', 'subaru', 'volvo', 'mitsubishi',\n",
       "       'kia', 'suzuki', 'lancia', 'toyota', 'chevrolet', 'dacia',\n",
       "       'daihatsu', 'trabant', 'saab', 'chrysler', 'jaguar', 'daewoo',\n",
       "       'porsche', 'rover', 'land_rover', 'lada'], dtype=object)"
      ]
     },
     "execution_count": 22,
     "metadata": {},
     "output_type": "execute_result"
    }
   ],
   "source": [
    "data['brand'].unique()"
   ]
  },
  {
   "cell_type": "code",
   "execution_count": 23,
   "metadata": {
    "scrolled": false
   },
   "outputs": [
    {
     "data": {
      "text/plain": [
       "array([nan, 'yes', 'no'], dtype=object)"
      ]
     },
     "execution_count": 23,
     "metadata": {},
     "output_type": "execute_result"
    }
   ],
   "source": [
    "data['repaired'].unique()"
   ]
  },
  {
   "cell_type": "markdown",
   "metadata": {},
   "source": [
    "### Вывод по подготовке данных.\n",
    "1. Загрузили данные и провели первичное ознакомление.\n",
    "2. Выяснили, что 2016 год - это ферхняя граница регистрации автомобилей, соотвественно в таблице должны быть автомобили производства до 2016 года.\n",
    "3. Удалили 4 явных дубликата.\n",
    "4. Убрали неинформативные столбцы.\n",
    "5. Привели названия столбцов к нижнему регистру.\n",
    "6. Обнаружили большое кол-во пропусков в таблице, их обработкой займемся после разбиения на тестовую и тренировочную выборки.\n",
    "7. Проверили уникальные значения в категориальных столбцах. Заменили \"cng\" и \"lpg\" на \"gasoline\" т.к. это тоже газовое топливо."
   ]
  },
  {
   "cell_type": "markdown",
   "metadata": {},
   "source": [
    "## Исследовательский анализ."
   ]
  },
  {
   "cell_type": "markdown",
   "metadata": {},
   "source": [
    "Взглянем на статистику целевой переменной - price."
   ]
  },
  {
   "cell_type": "code",
   "execution_count": 24,
   "metadata": {},
   "outputs": [
    {
     "data": {
      "text/plain": [
       "count    354365.000000\n",
       "mean       4416.679830\n",
       "std        4514.176349\n",
       "min           0.000000\n",
       "25%        1050.000000\n",
       "50%        2700.000000\n",
       "75%        6400.000000\n",
       "max       20000.000000\n",
       "Name: price, dtype: float64"
      ]
     },
     "execution_count": 24,
     "metadata": {},
     "output_type": "execute_result"
    }
   ],
   "source": [
    "data['price'].describe()"
   ]
  },
  {
   "cell_type": "markdown",
   "metadata": {},
   "source": [
    "Уберем из таблицы записи с нулевым значением цены а также ноль пятый квантиль. Это слишком низкие цены для автомобиля."
   ]
  },
  {
   "cell_type": "code",
   "execution_count": 25,
   "metadata": {},
   "outputs": [],
   "source": [
    "data.drop(data[data['price'] == 0].index, inplace=True)"
   ]
  },
  {
   "cell_type": "code",
   "execution_count": 26,
   "metadata": {},
   "outputs": [],
   "source": [
    "data.drop(data[data['price'] < data.price.quantile(.05)].index, inplace=True)"
   ]
  },
  {
   "cell_type": "code",
   "execution_count": 27,
   "metadata": {},
   "outputs": [
    {
     "data": {
      "image/png": "[encoded data removed]",
      "text/plain": [
       "<Figure size 432x288 with 1 Axes>"
      ]
     },
     "metadata": {
      "needs_background": "light"
     },
     "output_type": "display_data"
    }
   ],
   "source": [
    "data['price'].hist()\n",
    "plt.title('Гистограмма цены')\n",
    "plt.ylabel('частота')\n",
    "plt.xlabel('цена')\n",
    "plt.show()"
   ]
  },
  {
   "cell_type": "code",
   "execution_count": 28,
   "metadata": {
    "scrolled": false
   },
   "outputs": [
    {
     "data": {
      "image/png": "[encoded data removed]",
      "text/plain": [
       "<Figure size 432x288 with 1 Axes>"
      ]
     },
     "metadata": {
      "needs_background": "light"
     },
     "output_type": "display_data"
    }
   ],
   "source": [
    "data.boxplot(column = 'price')\n",
    "plt.title('Боксплот. Цена')\n",
    "plt.show()"
   ]
  },
  {
   "cell_type": "markdown",
   "metadata": {},
   "source": [
    "На боксплоте видим большое кол-во выбросов в верхней части. Это дорогие автомобили, будет не правильно их удалять т.к. они не являются аномальными."
   ]
  },
  {
   "cell_type": "markdown",
   "metadata": {},
   "source": [
    "Взглянем на статистику и графики года регистрации автомобиля."
   ]
  },
  {
   "cell_type": "code",
   "execution_count": 29,
   "metadata": {},
   "outputs": [
    {
     "data": {
      "image/png": "[encoded data removed]",
      "text/plain": [
       "<Figure size 432x288 with 1 Axes>"
      ]
     },
     "metadata": {
      "needs_background": "light"
     },
     "output_type": "display_data"
    }
   ],
   "source": [
    "data['registration_year'].hist(bins=100)\n",
    "plt.title('Гистограмма года регистрации')\n",
    "plt.ylabel('частота')\n",
    "plt.xlabel('год')\n",
    "plt.show()"
   ]
  },
  {
   "cell_type": "code",
   "execution_count": 30,
   "metadata": {},
   "outputs": [
    {
     "data": {
      "text/plain": [
       "count    328024.000000\n",
       "mean       2004.055755\n",
       "std          67.546662\n",
       "min        1000.000000\n",
       "25%        1999.000000\n",
       "50%        2003.000000\n",
       "75%        2008.000000\n",
       "max        9999.000000\n",
       "Name: registration_year, dtype: float64"
      ]
     },
     "execution_count": 30,
     "metadata": {},
     "output_type": "execute_result"
    }
   ],
   "source": [
    "data['registration_year'].describe()"
   ]
  },
  {
   "cell_type": "markdown",
   "metadata": {},
   "source": [
    "Для начала ограничим наши данные с 1899 по 2017 года."
   ]
  },
  {
   "cell_type": "code",
   "execution_count": 31,
   "metadata": {},
   "outputs": [],
   "source": [
    "data = data.query('1899 < registration_year < 2017')"
   ]
  },
  {
   "cell_type": "code",
   "execution_count": 32,
   "metadata": {},
   "outputs": [
    {
     "data": {
      "text/plain": [
       "count    314599.000000\n",
       "mean       2002.784001\n",
       "std           6.791133\n",
       "min        1910.000000\n",
       "25%        1999.000000\n",
       "50%        2003.000000\n",
       "75%        2007.000000\n",
       "max        2016.000000\n",
       "Name: registration_year, dtype: float64"
      ]
     },
     "execution_count": 32,
     "metadata": {},
     "output_type": "execute_result"
    }
   ],
   "source": [
    "data['registration_year'].describe()"
   ]
  },
  {
   "cell_type": "code",
   "execution_count": 33,
   "metadata": {},
   "outputs": [
    {
     "data": {
      "image/png": "[encoded data removed]",
      "text/plain": [
       "<Figure size 1008x504 with 1 Axes>"
      ]
     },
     "metadata": {
      "needs_background": "light"
     },
     "output_type": "display_data"
    }
   ],
   "source": [
    "data['registration_year'].hist(bins=100, figsize=(14,7))\n",
    "plt.title('Гистограмма года')\n",
    "plt.ylabel('частота')\n",
    "plt.xlabel('год')\n",
    "plt.show()"
   ]
  },
  {
   "cell_type": "markdown",
   "metadata": {},
   "source": [
    "Видим , что до 1970 года кол_во автамобилей очень мало, пожтому оставим данные только о машинах выпущенных позже."
   ]
  },
  {
   "cell_type": "code",
   "execution_count": 34,
   "metadata": {},
   "outputs": [],
   "source": [
    "data = data.query('1969 < registration_year')"
   ]
  },
  {
   "cell_type": "code",
   "execution_count": 35,
   "metadata": {},
   "outputs": [
    {
     "data": {
      "image/png": "[encoded data removed]",
      "text/plain": [
       "<Figure size 1008x504 with 1 Axes>"
      ]
     },
     "metadata": {
      "needs_background": "light"
     },
     "output_type": "display_data"
    }
   ],
   "source": [
    "data['registration_year'].hist(bins=40, figsize=(14,7))\n",
    "plt.title('Гистограмма года')\n",
    "plt.ylabel('частота')\n",
    "plt.xlabel('год')\n",
    "plt.show()"
   ]
  },
  {
   "cell_type": "markdown",
   "metadata": {},
   "source": [
    "Далее ознакомимся с мощностью двигателя."
   ]
  },
  {
   "cell_type": "code",
   "execution_count": 36,
   "metadata": {},
   "outputs": [
    {
     "data": {
      "text/plain": [
       "count    313564.000000\n",
       "mean        114.618209\n",
       "std         183.290823\n",
       "min           0.000000\n",
       "25%          75.000000\n",
       "50%         107.000000\n",
       "75%         144.000000\n",
       "max       20000.000000\n",
       "Name: power, dtype: float64"
      ]
     },
     "execution_count": 36,
     "metadata": {},
     "output_type": "execute_result"
    }
   ],
   "source": [
    "data['power'].describe()"
   ]
  },
  {
   "cell_type": "markdown",
   "metadata": {},
   "source": [
    "Для начала уберем из таблицы записи с мощностью двигателя равными 0."
   ]
  },
  {
   "cell_type": "code",
   "execution_count": 37,
   "metadata": {},
   "outputs": [],
   "source": [
    "data = data.query('0 < power')"
   ]
  },
  {
   "cell_type": "code",
   "execution_count": 38,
   "metadata": {},
   "outputs": [
    {
     "data": {
      "image/png": "[encoded data removed]",
      "text/plain": [
       "<Figure size 1008x504 with 1 Axes>"
      ]
     },
     "metadata": {
      "needs_background": "light"
     },
     "output_type": "display_data"
    }
   ],
   "source": [
    "data['power'].hist(bins=40, figsize=(14,7))\n",
    "plt.title('Гистограмма мощности двигателя')\n",
    "plt.ylabel('частота')\n",
    "plt.xlabel('мощность')\n",
    "plt.show()"
   ]
  },
  {
   "cell_type": "markdown",
   "metadata": {},
   "source": [
    "Ограничим максимальную мощность двтгателя в 900л.с."
   ]
  },
  {
   "cell_type": "code",
   "execution_count": 39,
   "metadata": {},
   "outputs": [],
   "source": [
    "data = data.query('power < 900')"
   ]
  },
  {
   "cell_type": "code",
   "execution_count": 40,
   "metadata": {},
   "outputs": [
    {
     "data": {
      "image/png": "[encoded data removed]",
      "text/plain": [
       "<Figure size 1008x504 with 1 Axes>"
      ]
     },
     "metadata": {
      "needs_background": "light"
     },
     "output_type": "display_data"
    }
   ],
   "source": [
    "data['power'].hist(bins=40, figsize=(14,7))\n",
    "plt.title('Гистограмма мощности двигателя')\n",
    "plt.ylabel('частота')\n",
    "plt.xlabel('мощность')\n",
    "plt.show()"
   ]
  },
  {
   "cell_type": "markdown",
   "metadata": {},
   "source": [
    "Возьмем окончательные границы для мощности: минимум 30 л.с. и 400л.с. как максимум. Эти значения выглядят наиболее адекватно для серийных автомобилей."
   ]
  },
  {
   "cell_type": "code",
   "execution_count": 41,
   "metadata": {},
   "outputs": [],
   "source": [
    "data = data.query('30 < power < 400')"
   ]
  },
  {
   "cell_type": "code",
   "execution_count": 42,
   "metadata": {},
   "outputs": [
    {
     "data": {
      "text/plain": [
       "count    284761.000000\n",
       "mean        121.868493\n",
       "std          52.182591\n",
       "min          31.000000\n",
       "25%          80.000000\n",
       "50%         115.000000\n",
       "75%         150.000000\n",
       "max         399.000000\n",
       "Name: power, dtype: float64"
      ]
     },
     "execution_count": 42,
     "metadata": {},
     "output_type": "execute_result"
    }
   ],
   "source": [
    "data['power'].describe()"
   ]
  },
  {
   "cell_type": "code",
   "execution_count": 43,
   "metadata": {
    "scrolled": false
   },
   "outputs": [
    {
     "data": {
      "image/png": "[encoded data removed]",
      "text/plain": [
       "<Figure size 1008x504 with 1 Axes>"
      ]
     },
     "metadata": {
      "needs_background": "light"
     },
     "output_type": "display_data"
    }
   ],
   "source": [
    "data['power'].hist(bins=30, figsize=(14,7))\n",
    "plt.title('Гистограмма мощности двигателя')\n",
    "plt.ylabel('частота')\n",
    "plt.xlabel('мощность')\n",
    "plt.show()"
   ]
  },
  {
   "cell_type": "markdown",
   "metadata": {},
   "source": [
    "Посмотрим насколько сократилась наша таблица. 69608 наблюдений пришлось удалить."
   ]
  },
  {
   "cell_type": "code",
   "execution_count": 44,
   "metadata": {},
   "outputs": [
    {
     "data": {
      "text/plain": [
       "(284761, 10)"
      ]
     },
     "execution_count": 44,
     "metadata": {},
     "output_type": "execute_result"
    }
   ],
   "source": [
    "data.shape"
   ]
  },
  {
   "cell_type": "markdown",
   "metadata": {},
   "source": [
    "### Вывод по исследовательскому анализу.\n",
    "1. Убрали записи с нулевым значением цены а также 0.5 квантиль.\n",
    "2. Оставили в таблице машины зарегистрированные с 1969 по 2016 года.\n",
    "3. Мощность двигателя ограничили от 30л.с. до 400л.с."
   ]
  },
  {
   "cell_type": "markdown",
   "metadata": {},
   "source": [
    "## Обучение моделей"
   ]
  },
  {
   "cell_type": "markdown",
   "metadata": {},
   "source": [
    "Сейчас разделим датает на обучающую и тренировочную выборки и займемся заполнением пропусков в тренировочных данных. Пропуски в тестовых оставим как есть. Они иммитеруют новые данные."
   ]
  },
  {
   "cell_type": "markdown",
   "metadata": {},
   "source": [
    "Перед разбиением датасета нам необходимо избавиться от дубликатов, чтобы избежать просачивания данных."
   ]
  },
  {
   "cell_type": "code",
   "execution_count": 45,
   "metadata": {
    "scrolled": true
   },
   "outputs": [
    {
     "data": {
      "text/plain": [
       "38202"
      ]
     },
     "execution_count": 45,
     "metadata": {},
     "output_type": "execute_result"
    }
   ],
   "source": [
    "data.duplicated().sum()"
   ]
  },
  {
   "cell_type": "code",
   "execution_count": 46,
   "metadata": {},
   "outputs": [],
   "source": [
    "data = data.drop_duplicates()"
   ]
  },
  {
   "cell_type": "code",
   "execution_count": 47,
   "metadata": {},
   "outputs": [
    {
     "data": {
      "text/plain": [
       "0"
      ]
     },
     "execution_count": 47,
     "metadata": {},
     "output_type": "execute_result"
    }
   ],
   "source": [
    "data.duplicated().sum()"
   ]
  },
  {
   "cell_type": "code",
   "execution_count": 48,
   "metadata": {
    "scrolled": true
   },
   "outputs": [],
   "source": [
    "# разделение датасета\n",
    "X = data.drop(['price'], axis=1)\n",
    "y = data['price']\n",
    "\n",
    "X_train, X_test, y_train, y_test = train_test_split(\n",
    "    X,\n",
    "    y,\n",
    "    test_size = TEST_SIZE,\n",
    "    random_state = RANDOM_STATE\n",
    ")"
   ]
  },
  {
   "cell_type": "markdown",
   "metadata": {},
   "source": [
    "Проверим размерности выборок. Разделение прошло успешно."
   ]
  },
  {
   "cell_type": "code",
   "execution_count": 49,
   "metadata": {},
   "outputs": [
    {
     "data": {
      "text/plain": [
       "(197247, 9)"
      ]
     },
     "execution_count": 49,
     "metadata": {},
     "output_type": "execute_result"
    }
   ],
   "source": [
    "X_train.shape"
   ]
  },
  {
   "cell_type": "code",
   "execution_count": 50,
   "metadata": {},
   "outputs": [
    {
     "data": {
      "text/plain": [
       "(49312, 9)"
      ]
     },
     "execution_count": 50,
     "metadata": {},
     "output_type": "execute_result"
    }
   ],
   "source": [
    "X_test.shape"
   ]
  },
  {
   "cell_type": "markdown",
   "metadata": {},
   "source": [
    "Проверим кол-во пропусков."
   ]
  },
  {
   "cell_type": "code",
   "execution_count": 51,
   "metadata": {
    "scrolled": false
   },
   "outputs": [
    {
     "data": {
      "text/plain": [
       "vehicle_type          7074\n",
       "registration_year        0\n",
       "gearbox               3641\n",
       "power                    0\n",
       "model                 7588\n",
       "kilometer                0\n",
       "fuel_type            10595\n",
       "brand                    0\n",
       "repaired             28805\n",
       "dtype: int64"
      ]
     },
     "execution_count": 51,
     "metadata": {},
     "output_type": "execute_result"
    }
   ],
   "source": [
    "X_train.isna().sum()"
   ]
  },
  {
   "cell_type": "markdown",
   "metadata": {},
   "source": [
    "В таблице много пропусков, постараемся их востановить."
   ]
  },
  {
   "cell_type": "code",
   "execution_count": 52,
   "metadata": {},
   "outputs": [],
   "source": [
    "X_train.loc[X_train['model'].isna(),'model'] = (X_train.groupby('brand')['model'].\n",
    "                                          transform(lambda x: x.mode()[0] if not x.mode().empty else np.nan))"
   ]
  },
  {
   "cell_type": "code",
   "execution_count": 53,
   "metadata": {
    "scrolled": true
   },
   "outputs": [
    {
     "data": {
      "text/html": [
       "<div>\n",
       "<style scoped>\n",
       "    .dataframe tbody tr th:only-of-type {\n",
       "        vertical-align: middle;\n",
       "    }\n",
       "\n",
       "    .dataframe tbody tr th {\n",
       "        vertical-align: top;\n",
       "    }\n",
       "\n",
       "    .dataframe thead th {\n",
       "        text-align: right;\n",
       "    }\n",
       "</style>\n",
       "<table border=\"1\" class=\"dataframe\">\n",
       "  <thead>\n",
       "    <tr style=\"text-align: right;\">\n",
       "      <th></th>\n",
       "      <th>vehicle_type</th>\n",
       "      <th>registration_year</th>\n",
       "      <th>gearbox</th>\n",
       "      <th>power</th>\n",
       "      <th>model</th>\n",
       "      <th>kilometer</th>\n",
       "      <th>fuel_type</th>\n",
       "      <th>brand</th>\n",
       "      <th>repaired</th>\n",
       "    </tr>\n",
       "  </thead>\n",
       "  <tbody>\n",
       "    <tr>\n",
       "      <th>168062</th>\n",
       "      <td>convertible</td>\n",
       "      <td>1971</td>\n",
       "      <td>manual</td>\n",
       "      <td>50</td>\n",
       "      <td>NaN</td>\n",
       "      <td>50000</td>\n",
       "      <td>NaN</td>\n",
       "      <td>sonstige_autos</td>\n",
       "      <td>yes</td>\n",
       "    </tr>\n",
       "    <tr>\n",
       "      <th>10320</th>\n",
       "      <td>convertible</td>\n",
       "      <td>2013</td>\n",
       "      <td>manual</td>\n",
       "      <td>160</td>\n",
       "      <td>NaN</td>\n",
       "      <td>10000</td>\n",
       "      <td>petrol</td>\n",
       "      <td>sonstige_autos</td>\n",
       "      <td>no</td>\n",
       "    </tr>\n",
       "    <tr>\n",
       "      <th>190597</th>\n",
       "      <td>NaN</td>\n",
       "      <td>2016</td>\n",
       "      <td>manual</td>\n",
       "      <td>140</td>\n",
       "      <td>NaN</td>\n",
       "      <td>150000</td>\n",
       "      <td>NaN</td>\n",
       "      <td>sonstige_autos</td>\n",
       "      <td>no</td>\n",
       "    </tr>\n",
       "    <tr>\n",
       "      <th>216829</th>\n",
       "      <td>sedan</td>\n",
       "      <td>2008</td>\n",
       "      <td>auto</td>\n",
       "      <td>360</td>\n",
       "      <td>NaN</td>\n",
       "      <td>150000</td>\n",
       "      <td>petrol</td>\n",
       "      <td>sonstige_autos</td>\n",
       "      <td>no</td>\n",
       "    </tr>\n",
       "    <tr>\n",
       "      <th>141237</th>\n",
       "      <td>suv</td>\n",
       "      <td>1997</td>\n",
       "      <td>auto</td>\n",
       "      <td>140</td>\n",
       "      <td>NaN</td>\n",
       "      <td>150000</td>\n",
       "      <td>petrol</td>\n",
       "      <td>sonstige_autos</td>\n",
       "      <td>NaN</td>\n",
       "    </tr>\n",
       "  </tbody>\n",
       "</table>\n",
       "</div>"
      ],
      "text/plain": [
       "       vehicle_type  registration_year gearbox  power model  kilometer  \\\n",
       "168062  convertible               1971  manual     50   NaN      50000   \n",
       "10320   convertible               2013  manual    160   NaN      10000   \n",
       "190597          NaN               2016  manual    140   NaN     150000   \n",
       "216829        sedan               2008    auto    360   NaN     150000   \n",
       "141237          suv               1997    auto    140   NaN     150000   \n",
       "\n",
       "       fuel_type           brand repaired  \n",
       "168062       NaN  sonstige_autos      yes  \n",
       "10320     petrol  sonstige_autos       no  \n",
       "190597       NaN  sonstige_autos       no  \n",
       "216829    petrol  sonstige_autos       no  \n",
       "141237    petrol  sonstige_autos      NaN  "
      ]
     },
     "execution_count": 53,
     "metadata": {},
     "output_type": "execute_result"
    }
   ],
   "source": [
    "X_train[X_train['model'].isna()].head()"
   ]
  },
  {
   "cell_type": "code",
   "execution_count": 54,
   "metadata": {
    "scrolled": true
   },
   "outputs": [
    {
     "data": {
      "text/plain": [
       "1068"
      ]
     },
     "execution_count": 54,
     "metadata": {},
     "output_type": "execute_result"
    }
   ],
   "source": [
    "X_train[(X_train['model'].isna())&(X_train['brand'] == 'sonstige_autos')]['brand'].count()"
   ]
  },
  {
   "cell_type": "code",
   "execution_count": 55,
   "metadata": {},
   "outputs": [],
   "source": [
    "X_train.loc[(X_train['model'].isna()) & (X_train['brand'] == 'sonstige_autos'), 'model'] = 'unknown'"
   ]
  },
  {
   "cell_type": "markdown",
   "metadata": {},
   "source": [
    "Пропуски в столбце смоделью машины заполнили модой в разбивке по бренду. Так же у бренда \"'sonstige_autos\" все значения моделей были пропусками, их заполнили заглужкой."
   ]
  },
  {
   "cell_type": "code",
   "execution_count": 56,
   "metadata": {},
   "outputs": [],
   "source": [
    "X_train.loc[X_train['vehicle_type'].isna(),'vehicle_type'] = (X_train.groupby('model')['vehicle_type'].\n",
    "                                                        transform(lambda x: x.mode()[0] if not x.mode().empty else np.nan))"
   ]
  },
  {
   "cell_type": "code",
   "execution_count": 57,
   "metadata": {},
   "outputs": [],
   "source": [
    "X_train.loc[X_train['gearbox'].isna(),'gearbox'] = (X_train.groupby('model')['gearbox'].\n",
    "                                              transform(lambda x: x.mode()[0] if not x.mode().empty else np.nan))"
   ]
  },
  {
   "cell_type": "code",
   "execution_count": 58,
   "metadata": {},
   "outputs": [],
   "source": [
    "X_train.loc[X_train['fuel_type'].isna(),'fuel_type'] = (X_train.groupby('model')['fuel_type'].\n",
    "                                                  transform(lambda x: x.mode()[0] if not x.mode().empty else np.nan))"
   ]
  },
  {
   "cell_type": "markdown",
   "metadata": {},
   "source": [
    "Столбцы \"vehicle_type\", \"gearbox\" и \"fuel_type\" заполнили по тому же принципу."
   ]
  },
  {
   "cell_type": "code",
   "execution_count": 59,
   "metadata": {},
   "outputs": [],
   "source": [
    "X_train.loc[data['repaired'].isna(), 'repaired'] = 'no'"
   ]
  },
  {
   "cell_type": "markdown",
   "metadata": {},
   "source": [
    "Столбец с наличием ремонта заполнили как 'no'."
   ]
  },
  {
   "cell_type": "code",
   "execution_count": 60,
   "metadata": {
    "scrolled": true
   },
   "outputs": [
    {
     "data": {
      "text/plain": [
       "vehicle_type         0\n",
       "registration_year    0\n",
       "gearbox              0\n",
       "power                0\n",
       "model                0\n",
       "kilometer            0\n",
       "fuel_type            0\n",
       "brand                0\n",
       "repaired             0\n",
       "dtype: int64"
      ]
     },
     "execution_count": 60,
     "metadata": {},
     "output_type": "execute_result"
    }
   ],
   "source": [
    "X_train.isna().sum()"
   ]
  },
  {
   "cell_type": "markdown",
   "metadata": {},
   "source": [
    "Обработали все пропуски."
   ]
  },
  {
   "cell_type": "code",
   "execution_count": 61,
   "metadata": {},
   "outputs": [
    {
     "data": {
      "text/plain": [
       "104077"
      ]
     },
     "execution_count": 61,
     "metadata": {},
     "output_type": "execute_result"
    }
   ],
   "source": [
    "X_train.duplicated().sum()"
   ]
  },
  {
   "cell_type": "code",
   "execution_count": 62,
   "metadata": {},
   "outputs": [],
   "source": [
    "X_train = X_train.drop_duplicates()"
   ]
  },
  {
   "cell_type": "markdown",
   "metadata": {},
   "source": [
    "После всех этапов обработки в датасете 95860 дубликатов. Удалим их. Если их оставить результаты моделей улучшаются незначительно, но время обучения увеличивается заметно."
   ]
  },
  {
   "cell_type": "code",
   "execution_count": 63,
   "metadata": {
    "scrolled": true
   },
   "outputs": [
    {
     "data": {
      "text/plain": [
       "(93170, 9)"
      ]
     },
     "execution_count": 63,
     "metadata": {},
     "output_type": "execute_result"
    }
   ],
   "source": [
    "X_train.shape"
   ]
  },
  {
   "cell_type": "markdown",
   "metadata": {},
   "source": [
    "89059 столько наблюдений осталось в таблице. Теперь нужно оставить в y_train только те записи, которые соотносятся с тренировочными входными признаками."
   ]
  },
  {
   "cell_type": "code",
   "execution_count": 64,
   "metadata": {},
   "outputs": [],
   "source": [
    "y_train = y_train.loc[X_train.index]"
   ]
  },
  {
   "cell_type": "code",
   "execution_count": 65,
   "metadata": {},
   "outputs": [
    {
     "data": {
      "text/plain": [
       "(93170,)"
      ]
     },
     "execution_count": 65,
     "metadata": {},
     "output_type": "execute_result"
    }
   ],
   "source": [
    "y_train.shape"
   ]
  },
  {
   "cell_type": "markdown",
   "metadata": {},
   "source": [
    "Данные готовы. Теперь создадим функцию, которая будет принимать данные и словарь с моделями и гипрмараметрами к ним. Внутри функции будет использоваться пайплайн по обработке признаков."
   ]
  },
  {
   "cell_type": "code",
   "execution_count": 66,
   "metadata": {},
   "outputs": [],
   "source": [
    "def create_model(X_train, X_test, y_train, y_test, param_grid, encoder_type):\n",
    "    \n",
    "    ohe_columns = ['vehicle_type','gearbox','model','fuel_type','brand','repaired']\n",
    "    num_columns = ['registration_year','power','kilometer']\n",
    "    # создаём пайплайн для подготовки признаков из списка ohe_columns: заполнение пропусков и OHE-кодирование\n",
    "    if encoder_type == 'OneHotEncoder':\n",
    "        # создаём пайплайн для подготовки признаков из списка ohe_columns: заполнение пропусков и OHE-кодирование\n",
    "        # SimpleImputer + OneHotEncoder\n",
    "        ohe_pipe = Pipeline(\n",
    "        [('simpleImputer_ohe', SimpleImputer(missing_values=np.nan, strategy='most_frequent')),\n",
    "         ('ohe', OneHotEncoder(drop='first', handle_unknown='ignore', sparse_output=False))\n",
    "        ])\n",
    "    elif encoder_type == 'OrdinalEncoder':\n",
    "        # создаём пайплайн для подготовки признаков из списка ohe_columns: заполнение пропусков и Ordinal-кодирование\n",
    "        # SimpleImputer + OrdinalEncoder\n",
    "        ohe_pipe = Pipeline(\n",
    "        [('simpleImputer_ordinal', SimpleImputer(missing_values=np.nan, strategy='most_frequent')),\n",
    "         ('ordinal', OrdinalEncoder(handle_unknown='use_encoded_value', unknown_value=np.nan))\n",
    "        ])\n",
    "    else:\n",
    "        raise ValueError(\"Invalid encoder_type. Please choose 'OneHotEncoder' or 'OrdinalEncoder'.\")\n",
    "\n",
    "    # создаём общий пайплайн для подготовки данных\n",
    "    data_preprocessor = ColumnTransformer(\n",
    "        [('ohe', ohe_pipe, ohe_columns),\n",
    "         ('num', MinMaxScaler(), num_columns)\n",
    "        ], \n",
    "        remainder='passthrough'\n",
    "    )\n",
    "    \n",
    "    # создаём итоговый пайплайн: подготовка данных и модель\n",
    "    pipe_final = Pipeline([\n",
    "        ('preprocessor', data_preprocessor),\n",
    "        ('models', DecisionTreeRegressor(random_state=RANDOM_STATE))\n",
    "    ])\n",
    "    randomized_search = RandomizedSearchCV(\n",
    "    pipe_final,\n",
    "    param_grid,\n",
    "    cv=5,\n",
    "    scoring='neg_root_mean_squared_error',\n",
    "    random_state=RANDOM_STATE,\n",
    "    n_iter = 4,\n",
    "    n_jobs = -1\n",
    "    )\n",
    "    \n",
    "    randomized_search.fit(X_train, y_train)\n",
    "    \n",
    "    print('Модель и её параметры:\\n\\n', randomized_search.best_estimator_)\n",
    "    print ('Метрика RMSE лучшей модели на тренировочной выборке:', randomized_search.best_score_*-1)\n",
    "    y_test_pred = randomized_search.predict(X_test)\n",
    "    print(f'Метрика RMSE на тестовой выборке: {mean_squared_error(y_test, y_test_pred, squared=False)}')\n",
    "    best_fit_time = randomized_search.cv_results_['mean_fit_time'][randomized_search.best_index_]\n",
    "    print(f'Среднее время обучения лучшей модели: {best_fit_time} сек')\n",
    "    best_score_time = randomized_search.cv_results_['mean_score_time'][randomized_search.best_index_]\n",
    "    print(f'Среднее время предсказания лучшей модели: {best_score_time} сек')\n"
   ]
  },
  {
   "cell_type": "markdown",
   "metadata": {},
   "source": [
    "### DecisionTreeRegressor()\n",
    "Обучим первую модель - решающее дерево."
   ]
  },
  {
   "cell_type": "code",
   "execution_count": 67,
   "metadata": {},
   "outputs": [],
   "source": [
    "# словарь для модели DecisionTreeRegressor()\n",
    "tree_param_grid = [\n",
    "    \n",
    "    {\n",
    "        'models': [DecisionTreeRegressor(random_state=RANDOM_STATE)],\n",
    "        'models__max_depth': range(2,5),\n",
    "        'models__max_features': range(2,5),\n",
    "        'preprocessor__num': [StandardScaler(), MinMaxScaler(), 'passthrough']  \n",
    "    }]"
   ]
  },
  {
   "cell_type": "code",
   "execution_count": 68,
   "metadata": {
    "scrolled": false
   },
   "outputs": [
    {
     "name": "stdout",
     "output_type": "stream",
     "text": [
      "Модель и её параметры:\n",
      "\n",
      " Pipeline(steps=[('preprocessor',\n",
      "                 ColumnTransformer(remainder='passthrough',\n",
      "                                   transformers=[('ohe',\n",
      "                                                  Pipeline(steps=[('simpleImputer_ordinal',\n",
      "                                                                   SimpleImputer(strategy='most_frequent')),\n",
      "                                                                  ('ordinal',\n",
      "                                                                   OrdinalEncoder(handle_unknown='use_encoded_value',\n",
      "                                                                                  unknown_value=nan))]),\n",
      "                                                  ['vehicle_type', 'gearbox',\n",
      "                                                   'model', 'fuel_type',\n",
      "                                                   'brand', 'repaired']),\n",
      "                                                 ('num', StandardScaler(),\n",
      "                                                  ['registration_year', 'power',\n",
      "                                                   'kilometer'])])),\n",
      "                ('models',\n",
      "                 DecisionTreeRegressor(max_depth=4, max_features=3,\n",
      "                                       random_state=42))])\n",
      "Метрика RMSE лучшей модели на тренировочной выборке: 3127.98958409896\n",
      "Метрика RMSE на тестовой выборке: 2782.265852258256\n",
      "Среднее время обучения лучшей модели: 0.21125054359436035 сек\n",
      "Среднее время предсказания лучшей модели: 0.035089969635009766 сек\n"
     ]
    }
   ],
   "source": [
    "create_model(X_train, X_test, y_train, y_test, tree_param_grid, 'OrdinalEncoder')"
   ]
  },
  {
   "cell_type": "markdown",
   "metadata": {},
   "source": [
    "Решающее дерево не смогло добиться желаемого результата - RMSE 2500."
   ]
  },
  {
   "cell_type": "markdown",
   "metadata": {},
   "source": [
    "### LinearRegression()\n",
    "Теперь будем использовать три варианта линейной модели: LinearRegression, Lasso и Ridge."
   ]
  },
  {
   "cell_type": "code",
   "execution_count": 69,
   "metadata": {},
   "outputs": [],
   "source": [
    "linear_param_grid = [\n",
    "    \n",
    "    # словарь для модели LinearRegression()\n",
    "    {\n",
    "        'models': [LinearRegression()],\n",
    "        'preprocessor__num': [StandardScaler(), MinMaxScaler(), 'passthrough']  \n",
    "    },\n",
    "    \n",
    "    # словарь для модели Lasso()\n",
    "    {\n",
    "        'models': [Lasso(random_state=RANDOM_STATE)],\n",
    "        'models__alpha': range(0,10),\n",
    "        'preprocessor__num': [StandardScaler(), MinMaxScaler(), 'passthrough']  \n",
    "\n",
    "    },\n",
    "    \n",
    "    \n",
    "    # словарь для модели Ridge()\n",
    "    {\n",
    "        'models': [Ridge(random_state=RANDOM_STATE)],\n",
    "        'models__alpha': range(0,10),\n",
    "        'preprocessor__num': [StandardScaler(), MinMaxScaler(), 'passthrough']  \n",
    "\n",
    "    }]"
   ]
  },
  {
   "cell_type": "code",
   "execution_count": 70,
   "metadata": {
    "scrolled": true
   },
   "outputs": [
    {
     "name": "stderr",
     "output_type": "stream",
     "text": [
      "/opt/conda/lib/python3.9/site-packages/sklearn/preprocessing/_encoders.py:228: UserWarning: Found unknown categories in columns [2] during transform. These unknown categories will be encoded as all zeros\n",
      "  warnings.warn(\n",
      "/opt/conda/lib/python3.9/site-packages/sklearn/preprocessing/_encoders.py:228: UserWarning: Found unknown categories in columns [2] during transform. These unknown categories will be encoded as all zeros\n",
      "  warnings.warn(\n",
      "/opt/conda/lib/python3.9/site-packages/sklearn/preprocessing/_encoders.py:228: UserWarning: Found unknown categories in columns [2] during transform. These unknown categories will be encoded as all zeros\n",
      "  warnings.warn(\n",
      "/opt/conda/lib/python3.9/site-packages/sklearn/preprocessing/_encoders.py:228: UserWarning: Found unknown categories in columns [2] during transform. These unknown categories will be encoded as all zeros\n",
      "  warnings.warn(\n"
     ]
    },
    {
     "name": "stdout",
     "output_type": "stream",
     "text": [
      "Модель и её параметры:\n",
      "\n",
      " Pipeline(steps=[('preprocessor',\n",
      "                 ColumnTransformer(remainder='passthrough',\n",
      "                                   transformers=[('ohe',\n",
      "                                                  Pipeline(steps=[('simpleImputer_ohe',\n",
      "                                                                   SimpleImputer(strategy='most_frequent')),\n",
      "                                                                  ('ohe',\n",
      "                                                                   OneHotEncoder(drop='first',\n",
      "                                                                                 handle_unknown='ignore',\n",
      "                                                                                 sparse_output=False))]),\n",
      "                                                  ['vehicle_type', 'gearbox',\n",
      "                                                   'model', 'fuel_type',\n",
      "                                                   'brand', 'repaired']),\n",
      "                                                 ('num', MinMaxScaler(),\n",
      "                                                  ['registration_year', 'power',\n",
      "                                                   'kilometer'])])),\n",
      "                ('models', Ridge(alpha=3, random_state=42))])\n",
      "Метрика RMSE лучшей модели на тренировочной выборке: 2966.223807973308\n"
     ]
    },
    {
     "name": "stderr",
     "output_type": "stream",
     "text": [
      "/opt/conda/lib/python3.9/site-packages/sklearn/preprocessing/_encoders.py:228: UserWarning: Found unknown categories in columns [2] during transform. These unknown categories will be encoded as all zeros\n",
      "  warnings.warn(\n"
     ]
    },
    {
     "name": "stdout",
     "output_type": "stream",
     "text": [
      "Метрика RMSE на тестовой выборке: 2630.4668277023293\n",
      "Среднее время обучения лучшей модели: 1.5736043930053711 сек\n",
      "Среднее время предсказания лучшей модели: 0.31373324394226076 сек\n"
     ]
    }
   ],
   "source": [
    "create_model(X_train, X_test, y_train, y_test, linear_param_grid, 'OneHotEncoder')"
   ]
  },
  {
   "cell_type": "markdown",
   "metadata": {},
   "source": [
    "Модель Ridge справилась лучше чем решающее дерево метрика RMSE на тестовой выборке: 2632.95162230641, но это так же не удовлетворяет требованиям задачи."
   ]
  },
  {
   "cell_type": "markdown",
   "metadata": {},
   "source": [
    "### LGBMRegressor()\n",
    "Обучим модель на основе LGBM."
   ]
  },
  {
   "cell_type": "code",
   "execution_count": 71,
   "metadata": {},
   "outputs": [],
   "source": [
    "lgbm_param_grid = {\n",
    "    'models': [LGBMRegressor(random_state=RANDOM_STATE)],\n",
    "    'models__num_leaves': [20, 30, 40],\n",
    "    'models__learning_rate': [0.01, 0.05, 0.1],\n",
    "}"
   ]
  },
  {
   "cell_type": "code",
   "execution_count": 72,
   "metadata": {
    "scrolled": false
   },
   "outputs": [
    {
     "name": "stdout",
     "output_type": "stream",
     "text": [
      "Модель и её параметры:\n",
      "\n",
      " Pipeline(steps=[('preprocessor',\n",
      "                 ColumnTransformer(remainder='passthrough',\n",
      "                                   transformers=[('ohe',\n",
      "                                                  Pipeline(steps=[('simpleImputer_ordinal',\n",
      "                                                                   SimpleImputer(strategy='most_frequent')),\n",
      "                                                                  ('ordinal',\n",
      "                                                                   OrdinalEncoder(handle_unknown='use_encoded_value',\n",
      "                                                                                  unknown_value=nan))]),\n",
      "                                                  ['vehicle_type', 'gearbox',\n",
      "                                                   'model', 'fuel_type',\n",
      "                                                   'brand', 'repaired']),\n",
      "                                                 ('num', MinMaxScaler(),\n",
      "                                                  ['registration_year', 'power',\n",
      "                                                   'kilometer'])])),\n",
      "                ('models', LGBMRegressor(num_leaves=30, random_state=42))])\n",
      "Метрика RMSE лучшей модели на тренировочной выборке: 1909.3513377835438\n",
      "Метрика RMSE на тестовой выборке: 1695.8212555062303\n",
      "Среднее время обучения лучшей модели: 2.860456943511963 сек\n",
      "Среднее время предсказания лучшей модели: 0.22123756408691406 сек\n"
     ]
    }
   ],
   "source": [
    "create_model(X_train, X_test, y_train, y_test, lgbm_param_grid, 'OrdinalEncoder')"
   ]
  },
  {
   "cell_type": "markdown",
   "metadata": {},
   "source": [
    "LGBM справилась с поставленной задачей - метрика RMSE на тестовой выборке: 1695.8212555062303 При этом среднее время обучения лучшей модели составило 2.860456943511963 сек, а среднее время предсказания лучшей модели: 0.22123756408691406  сек."
   ]
  },
  {
   "cell_type": "markdown",
   "metadata": {},
   "source": [
    "## Общий вывод."
   ]
  },
  {
   "cell_type": "markdown",
   "metadata": {},
   "source": [
    "В ходе работы были выполнены следующие шаги:<br>\n",
    "<br>\n",
    "1. Подготовка данных:<br>\n",
    "1) Загрузили данные и провели первичное ознакомление.<br>\n",
    "2) Выяснили, что 2016 год - это ферхняя граница регистрации автомобилей, соотвественно в таблице должны быть автомобили производства до 2016 года.<br>\n",
    "3) Удалили 4 явных дубликата.<br>\n",
    "4) Убрали неинформативные столбцы.<br>\n",
    "5) Привели названия столбцов к нижнему регистру.<br>\n",
    "6) Обнаружили большое кол-во пропусков в таблице, их обработкой займемся после разбиения на тестовую и тренировочную выборки.<br>\n",
    "7) Проверили уникальные значения в категориальных столбцах. Заменили \"cng\" и \"lpg\" на \"gasoline\" т.к. это тоже газовое топливо.<br>\n",
    "<br>\n",
    "2. Исследовательский анализ:<br>\n",
    "1) Убрали записи с нулевым значением цены а также 0.5 квантиль.<br>\n",
    "2) Оставили в таблице машины зарегистрированные с 1969 по 2016 года.<br>\n",
    "3) Мощность двигателя ограничили от 30л.с. до 400л.с.<br>\n",
    "3. Обучение моделей:<br>\n",
    "1) Удалили дубликаты перед разделением таблицы на тестовую и тренировучную выборки.<br>\n",
    "2) После разбияния заполнили пропуски в тренировочных данных и удалили дубликаты.<br>\n",
    "3) Обучили три твида молей - DecisionTreeRegressor, три линейных модели и модель градиентного бустинга LGBMRegressor. <br>\n",
    "<br>\n",
    "Именно модель градиентного бустинга показала себя лучше остальных:  метрика RMSE на тестовой выборке: 1695.8212555062303 при требование RMSE < 2500, среднее время обучения лучшей модели составило 2.860456943511963 сек, а среднее время предсказания лучшей модели: 0.22123756408691406 сек."
   ]
  }
 ],
 "metadata": {
  "ExecuteTimeLog": [
   {
    "duration": 4730,
    "start_time": "2023-12-26T20:47:42.044Z"
   },
   {
    "duration": 2901,
    "start_time": "2023-12-26T20:47:56.777Z"
   },
   {
    "duration": 5213,
    "start_time": "2023-12-26T20:48:05.268Z"
   },
   {
    "duration": 1256,
    "start_time": "2023-12-26T20:48:23.153Z"
   },
   {
    "duration": 210,
    "start_time": "2023-12-27T12:07:25.763Z"
   },
   {
    "duration": 5511,
    "start_time": "2023-12-28T20:32:08.062Z"
   },
   {
    "duration": 3307,
    "start_time": "2023-12-28T20:32:13.575Z"
   },
   {
    "duration": 6302,
    "start_time": "2023-12-28T20:32:16.884Z"
   },
   {
    "duration": 1481,
    "start_time": "2023-12-28T20:32:23.188Z"
   },
   {
    "duration": 1293,
    "start_time": "2023-12-28T20:34:10.855Z"
   },
   {
    "duration": 160,
    "start_time": "2023-12-28T20:34:40.681Z"
   },
   {
    "duration": 4,
    "start_time": "2023-12-28T20:38:06.185Z"
   },
   {
    "duration": 149,
    "start_time": "2023-12-28T20:38:09.256Z"
   },
   {
    "duration": 13,
    "start_time": "2023-12-28T20:43:18.420Z"
   },
   {
    "duration": 148,
    "start_time": "2023-12-28T20:43:19.871Z"
   },
   {
    "duration": 91,
    "start_time": "2023-12-28T20:49:32.926Z"
   },
   {
    "duration": 165,
    "start_time": "2023-12-28T20:49:36.631Z"
   },
   {
    "duration": 490,
    "start_time": "2023-12-28T20:50:05.430Z"
   },
   {
    "duration": 1282,
    "start_time": "2023-12-28T20:50:45.431Z"
   },
   {
    "duration": 16,
    "start_time": "2023-12-28T20:51:16.948Z"
   },
   {
    "duration": 78,
    "start_time": "2023-12-28T20:51:37.072Z"
   },
   {
    "duration": 14,
    "start_time": "2023-12-28T20:52:11.784Z"
   },
   {
    "duration": 492,
    "start_time": "2023-12-28T20:52:28.929Z"
   },
   {
    "duration": 4,
    "start_time": "2023-12-28T20:52:39.482Z"
   },
   {
    "duration": 1249,
    "start_time": "2023-12-28T20:52:53.331Z"
   },
   {
    "duration": 470,
    "start_time": "2023-12-28T20:54:13.531Z"
   },
   {
    "duration": 460,
    "start_time": "2023-12-28T20:54:54.817Z"
   },
   {
    "duration": 517,
    "start_time": "2023-12-28T20:55:09.291Z"
   },
   {
    "duration": 1030,
    "start_time": "2023-12-28T20:55:23.626Z"
   },
   {
    "duration": 22,
    "start_time": "2023-12-28T20:56:29.134Z"
   },
   {
    "duration": 22,
    "start_time": "2023-12-28T20:56:56.382Z"
   },
   {
    "duration": 22,
    "start_time": "2023-12-28T20:57:20.603Z"
   },
   {
    "duration": 29,
    "start_time": "2023-12-28T20:59:04.718Z"
   },
   {
    "duration": 23,
    "start_time": "2023-12-28T20:59:52.549Z"
   },
   {
    "duration": 28,
    "start_time": "2023-12-28T21:01:10.130Z"
   },
   {
    "duration": 3057,
    "start_time": "2023-12-28T21:19:00.986Z"
   },
   {
    "duration": 10,
    "start_time": "2023-12-28T21:19:22.753Z"
   },
   {
    "duration": 851,
    "start_time": "2023-12-28T21:19:50.086Z"
   },
   {
    "duration": 792,
    "start_time": "2023-12-28T21:20:46.698Z"
   },
   {
    "duration": 2227,
    "start_time": "2023-12-28T21:22:27.248Z"
   },
   {
    "duration": 2164,
    "start_time": "2023-12-28T21:23:11.387Z"
   },
   {
    "duration": 19,
    "start_time": "2023-12-28T21:45:26.903Z"
   },
   {
    "duration": 156,
    "start_time": "2023-12-28T21:46:21.307Z"
   },
   {
    "duration": 142,
    "start_time": "2023-12-28T21:46:35.446Z"
   },
   {
    "duration": 19,
    "start_time": "2023-12-28T21:46:45.768Z"
   },
   {
    "duration": 5,
    "start_time": "2023-12-28T21:47:16.497Z"
   },
   {
    "duration": 13,
    "start_time": "2023-12-28T21:48:24.286Z"
   },
   {
    "duration": 2982,
    "start_time": "2023-12-28T21:48:29.421Z"
   },
   {
    "duration": 2771,
    "start_time": "2023-12-28T21:48:32.405Z"
   },
   {
    "duration": 2705,
    "start_time": "2023-12-28T21:48:35.178Z"
   },
   {
    "duration": 2633,
    "start_time": "2023-12-28T21:48:37.885Z"
   },
   {
    "duration": 8,
    "start_time": "2023-12-28T21:48:40.522Z"
   },
   {
    "duration": 1007,
    "start_time": "2023-12-28T21:48:40.532Z"
   },
   {
    "duration": 7,
    "start_time": "2023-12-28T21:48:41.540Z"
   },
   {
    "duration": 152,
    "start_time": "2023-12-28T21:48:41.548Z"
   },
   {
    "duration": 157,
    "start_time": "2023-12-28T21:48:41.701Z"
   },
   {
    "duration": 149,
    "start_time": "2023-12-28T21:48:41.859Z"
   },
   {
    "duration": 138,
    "start_time": "2023-12-28T21:48:42.010Z"
   },
   {
    "duration": 14,
    "start_time": "2023-12-28T21:48:42.149Z"
   },
   {
    "duration": 2272,
    "start_time": "2023-12-28T21:48:42.164Z"
   },
   {
    "duration": 710,
    "start_time": "2023-12-28T21:48:44.439Z"
   },
   {
    "duration": 437,
    "start_time": "2023-12-28T21:48:45.151Z"
   },
   {
    "duration": 461,
    "start_time": "2023-12-28T21:48:45.589Z"
   },
   {
    "duration": 945,
    "start_time": "2023-12-28T21:48:46.052Z"
   },
   {
    "duration": 27,
    "start_time": "2023-12-28T21:48:46.999Z"
   },
   {
    "duration": 28,
    "start_time": "2023-12-28T21:48:47.028Z"
   },
   {
    "duration": 20,
    "start_time": "2023-12-28T21:48:47.058Z"
   },
   {
    "duration": 45,
    "start_time": "2023-12-28T21:48:47.080Z"
   },
   {
    "duration": 25,
    "start_time": "2023-12-28T21:48:47.127Z"
   },
   {
    "duration": 74,
    "start_time": "2023-12-28T21:48:47.154Z"
   },
   {
    "duration": 3,
    "start_time": "2023-12-28T21:50:24.039Z"
   },
   {
    "duration": 190,
    "start_time": "2023-12-28T21:50:25.900Z"
   },
   {
    "duration": 144,
    "start_time": "2023-12-28T21:55:30.857Z"
   },
   {
    "duration": 1397,
    "start_time": "2023-12-28T22:04:40.471Z"
   },
   {
    "duration": 188,
    "start_time": "2023-12-28T22:04:56.267Z"
   },
   {
    "duration": 170,
    "start_time": "2023-12-28T22:05:02.079Z"
   },
   {
    "duration": 2996,
    "start_time": "2023-12-28T22:05:50.222Z"
   },
   {
    "duration": 2764,
    "start_time": "2023-12-28T22:05:53.222Z"
   },
   {
    "duration": 2824,
    "start_time": "2023-12-28T22:05:55.988Z"
   },
   {
    "duration": 2596,
    "start_time": "2023-12-28T22:05:58.815Z"
   },
   {
    "duration": 12,
    "start_time": "2023-12-28T22:06:01.413Z"
   },
   {
    "duration": 982,
    "start_time": "2023-12-28T22:06:01.426Z"
   },
   {
    "duration": 8,
    "start_time": "2023-12-28T22:06:02.410Z"
   },
   {
    "duration": 172,
    "start_time": "2023-12-28T22:06:02.424Z"
   },
   {
    "duration": 136,
    "start_time": "2023-12-28T22:06:02.597Z"
   },
   {
    "duration": 132,
    "start_time": "2023-12-28T22:06:02.736Z"
   },
   {
    "duration": 0,
    "start_time": "2023-12-28T22:06:02.869Z"
   },
   {
    "duration": 0,
    "start_time": "2023-12-28T22:06:02.870Z"
   },
   {
    "duration": 0,
    "start_time": "2023-12-28T22:06:02.871Z"
   },
   {
    "duration": 0,
    "start_time": "2023-12-28T22:06:02.872Z"
   },
   {
    "duration": 0,
    "start_time": "2023-12-28T22:06:02.873Z"
   },
   {
    "duration": 0,
    "start_time": "2023-12-28T22:06:02.875Z"
   },
   {
    "duration": 0,
    "start_time": "2023-12-28T22:06:02.876Z"
   },
   {
    "duration": 0,
    "start_time": "2023-12-28T22:06:02.877Z"
   },
   {
    "duration": 0,
    "start_time": "2023-12-28T22:06:02.877Z"
   },
   {
    "duration": 0,
    "start_time": "2023-12-28T22:06:02.878Z"
   },
   {
    "duration": 0,
    "start_time": "2023-12-28T22:06:02.880Z"
   },
   {
    "duration": 0,
    "start_time": "2023-12-28T22:06:02.881Z"
   },
   {
    "duration": 0,
    "start_time": "2023-12-28T22:06:02.882Z"
   },
   {
    "duration": 5093,
    "start_time": "2023-12-29T08:41:31.648Z"
   },
   {
    "duration": 3013,
    "start_time": "2023-12-29T08:41:36.743Z"
   },
   {
    "duration": 6014,
    "start_time": "2023-12-29T08:41:39.758Z"
   },
   {
    "duration": 2996,
    "start_time": "2023-12-29T08:41:45.774Z"
   },
   {
    "duration": 1454,
    "start_time": "2023-12-29T08:41:48.772Z"
   },
   {
    "duration": 1162,
    "start_time": "2023-12-29T08:41:50.228Z"
   },
   {
    "duration": 8,
    "start_time": "2023-12-29T08:41:51.391Z"
   },
   {
    "duration": 209,
    "start_time": "2023-12-29T08:41:51.401Z"
   },
   {
    "duration": 158,
    "start_time": "2023-12-29T08:41:51.611Z"
   },
   {
    "duration": 227,
    "start_time": "2023-12-29T08:41:51.770Z"
   },
   {
    "duration": 0,
    "start_time": "2023-12-29T08:41:52.000Z"
   },
   {
    "duration": 0,
    "start_time": "2023-12-29T08:41:52.001Z"
   },
   {
    "duration": 0,
    "start_time": "2023-12-29T08:41:52.003Z"
   },
   {
    "duration": 0,
    "start_time": "2023-12-29T08:41:52.004Z"
   },
   {
    "duration": 0,
    "start_time": "2023-12-29T08:41:52.006Z"
   },
   {
    "duration": 0,
    "start_time": "2023-12-29T08:41:52.007Z"
   },
   {
    "duration": 0,
    "start_time": "2023-12-29T08:41:52.022Z"
   },
   {
    "duration": 0,
    "start_time": "2023-12-29T08:41:52.023Z"
   },
   {
    "duration": 0,
    "start_time": "2023-12-29T08:41:52.024Z"
   },
   {
    "duration": 0,
    "start_time": "2023-12-29T08:41:52.025Z"
   },
   {
    "duration": 0,
    "start_time": "2023-12-29T08:41:52.027Z"
   },
   {
    "duration": 0,
    "start_time": "2023-12-29T08:41:52.028Z"
   },
   {
    "duration": 0,
    "start_time": "2023-12-29T08:41:52.029Z"
   },
   {
    "duration": 107,
    "start_time": "2023-12-29T08:42:11.063Z"
   },
   {
    "duration": 169,
    "start_time": "2023-12-29T08:45:48.885Z"
   },
   {
    "duration": 138,
    "start_time": "2023-12-29T08:46:06.413Z"
   },
   {
    "duration": 158,
    "start_time": "2023-12-29T08:46:50.089Z"
   },
   {
    "duration": 132,
    "start_time": "2023-12-29T08:46:51.953Z"
   },
   {
    "duration": 2744,
    "start_time": "2023-12-29T08:47:00.320Z"
   },
   {
    "duration": 2579,
    "start_time": "2023-12-29T08:47:03.067Z"
   },
   {
    "duration": 2565,
    "start_time": "2023-12-29T08:47:05.648Z"
   },
   {
    "duration": 2510,
    "start_time": "2023-12-29T08:47:08.216Z"
   },
   {
    "duration": 7,
    "start_time": "2023-12-29T08:47:10.728Z"
   },
   {
    "duration": 907,
    "start_time": "2023-12-29T08:47:10.737Z"
   },
   {
    "duration": 7,
    "start_time": "2023-12-29T08:47:11.645Z"
   },
   {
    "duration": 157,
    "start_time": "2023-12-29T08:47:11.653Z"
   },
   {
    "duration": 141,
    "start_time": "2023-12-29T08:47:11.812Z"
   },
   {
    "duration": 174,
    "start_time": "2023-12-29T08:47:11.955Z"
   },
   {
    "duration": 143,
    "start_time": "2023-12-29T08:47:12.131Z"
   },
   {
    "duration": 13,
    "start_time": "2023-12-29T08:47:12.275Z"
   },
   {
    "duration": 2008,
    "start_time": "2023-12-29T08:47:12.289Z"
   },
   {
    "duration": 653,
    "start_time": "2023-12-29T08:47:14.299Z"
   },
   {
    "duration": 426,
    "start_time": "2023-12-29T08:47:14.953Z"
   },
   {
    "duration": 473,
    "start_time": "2023-12-29T08:47:15.380Z"
   },
   {
    "duration": 908,
    "start_time": "2023-12-29T08:47:15.854Z"
   },
   {
    "duration": 27,
    "start_time": "2023-12-29T08:47:16.763Z"
   },
   {
    "duration": 36,
    "start_time": "2023-12-29T08:47:16.791Z"
   },
   {
    "duration": 25,
    "start_time": "2023-12-29T08:47:16.828Z"
   },
   {
    "duration": 40,
    "start_time": "2023-12-29T08:47:16.854Z"
   },
   {
    "duration": 28,
    "start_time": "2023-12-29T08:47:16.896Z"
   },
   {
    "duration": 96,
    "start_time": "2023-12-29T08:49:24.192Z"
   },
   {
    "duration": 248,
    "start_time": "2023-12-29T08:49:42.658Z"
   },
   {
    "duration": 152,
    "start_time": "2023-12-29T08:49:46.205Z"
   },
   {
    "duration": 5102,
    "start_time": "2023-12-30T08:13:37.934Z"
   },
   {
    "duration": 3126,
    "start_time": "2023-12-30T08:13:43.039Z"
   },
   {
    "duration": 5767,
    "start_time": "2023-12-30T08:13:46.167Z"
   },
   {
    "duration": 2729,
    "start_time": "2023-12-30T08:13:51.936Z"
   },
   {
    "duration": 1423,
    "start_time": "2023-12-30T08:13:54.667Z"
   },
   {
    "duration": 1047,
    "start_time": "2023-12-30T08:13:56.092Z"
   },
   {
    "duration": 6,
    "start_time": "2023-12-30T08:13:57.141Z"
   },
   {
    "duration": 164,
    "start_time": "2023-12-30T08:13:57.149Z"
   },
   {
    "duration": 134,
    "start_time": "2023-12-30T08:13:57.314Z"
   },
   {
    "duration": 16,
    "start_time": "2023-12-30T08:13:57.449Z"
   },
   {
    "duration": 1923,
    "start_time": "2023-12-30T08:13:57.467Z"
   },
   {
    "duration": 678,
    "start_time": "2023-12-30T08:13:59.391Z"
   },
   {
    "duration": 124,
    "start_time": "2023-12-30T08:14:00.070Z"
   },
   {
    "duration": 130,
    "start_time": "2023-12-30T08:14:00.197Z"
   },
   {
    "duration": 429,
    "start_time": "2023-12-30T08:14:00.328Z"
   },
   {
    "duration": 422,
    "start_time": "2023-12-30T08:14:00.758Z"
   },
   {
    "duration": 861,
    "start_time": "2023-12-30T08:14:01.181Z"
   },
   {
    "duration": 22,
    "start_time": "2023-12-30T08:14:02.044Z"
   },
   {
    "duration": 53,
    "start_time": "2023-12-30T08:14:02.067Z"
   },
   {
    "duration": 65,
    "start_time": "2023-12-30T08:14:02.121Z"
   },
   {
    "duration": 39,
    "start_time": "2023-12-30T08:14:02.187Z"
   },
   {
    "duration": 58,
    "start_time": "2023-12-30T08:14:02.227Z"
   },
   {
    "duration": 135,
    "start_time": "2023-12-30T08:14:39.793Z"
   },
   {
    "duration": 109,
    "start_time": "2023-12-30T08:15:14.288Z"
   },
   {
    "duration": 36,
    "start_time": "2023-12-30T08:15:52.658Z"
   },
   {
    "duration": 4789,
    "start_time": "2024-01-03T11:17:23.868Z"
   },
   {
    "duration": 3007,
    "start_time": "2024-01-03T11:17:28.659Z"
   },
   {
    "duration": 5942,
    "start_time": "2024-01-03T11:17:31.667Z"
   },
   {
    "duration": 3063,
    "start_time": "2024-01-03T11:17:37.611Z"
   },
   {
    "duration": 1382,
    "start_time": "2024-01-03T11:17:40.676Z"
   },
   {
    "duration": 1093,
    "start_time": "2024-01-03T11:17:42.060Z"
   },
   {
    "duration": 7,
    "start_time": "2024-01-03T11:17:43.155Z"
   },
   {
    "duration": 147,
    "start_time": "2024-01-03T11:17:43.164Z"
   },
   {
    "duration": 134,
    "start_time": "2024-01-03T11:17:43.313Z"
   },
   {
    "duration": 12,
    "start_time": "2024-01-03T11:17:43.448Z"
   },
   {
    "duration": 1988,
    "start_time": "2024-01-03T11:17:43.462Z"
   },
   {
    "duration": 677,
    "start_time": "2024-01-03T11:17:45.451Z"
   },
   {
    "duration": 133,
    "start_time": "2024-01-03T11:17:46.129Z"
   },
   {
    "duration": 134,
    "start_time": "2024-01-03T11:17:46.264Z"
   },
   {
    "duration": 45,
    "start_time": "2024-01-03T11:17:46.399Z"
   },
   {
    "duration": 405,
    "start_time": "2024-01-03T11:17:46.446Z"
   },
   {
    "duration": 453,
    "start_time": "2024-01-03T11:17:46.853Z"
   },
   {
    "duration": 844,
    "start_time": "2024-01-03T11:17:47.308Z"
   },
   {
    "duration": 36,
    "start_time": "2024-01-03T11:17:48.155Z"
   },
   {
    "duration": 41,
    "start_time": "2024-01-03T11:17:48.193Z"
   },
   {
    "duration": 33,
    "start_time": "2024-01-03T11:17:48.236Z"
   },
   {
    "duration": 28,
    "start_time": "2024-01-03T11:17:48.271Z"
   },
   {
    "duration": 28,
    "start_time": "2024-01-03T11:17:48.300Z"
   },
   {
    "duration": 29,
    "start_time": "2024-01-03T11:24:16.159Z"
   },
   {
    "duration": 43,
    "start_time": "2024-01-03T11:25:36.308Z"
   },
   {
    "duration": 60,
    "start_time": "2024-01-03T11:26:00.493Z"
   },
   {
    "duration": 44,
    "start_time": "2024-01-03T11:26:45.087Z"
   },
   {
    "duration": 45,
    "start_time": "2024-01-03T11:27:27.032Z"
   },
   {
    "duration": 139,
    "start_time": "2024-01-03T11:30:19.207Z"
   },
   {
    "duration": 39,
    "start_time": "2024-01-03T11:30:59.765Z"
   },
   {
    "duration": 38,
    "start_time": "2024-01-03T11:32:04.459Z"
   },
   {
    "duration": 138,
    "start_time": "2024-01-03T11:32:17.196Z"
   },
   {
    "duration": 131,
    "start_time": "2024-01-03T11:33:20.461Z"
   },
   {
    "duration": 153,
    "start_time": "2024-01-03T11:33:30.243Z"
   },
   {
    "duration": 138,
    "start_time": "2024-01-03T11:34:25.677Z"
   },
   {
    "duration": 140,
    "start_time": "2024-01-03T11:34:27.276Z"
   },
   {
    "duration": 118,
    "start_time": "2024-01-03T11:34:53.468Z"
   },
   {
    "duration": 138,
    "start_time": "2024-01-03T11:34:55.206Z"
   },
   {
    "duration": 25,
    "start_time": "2024-01-03T11:37:30.403Z"
   },
   {
    "duration": 145,
    "start_time": "2024-01-03T11:37:31.752Z"
   },
   {
    "duration": 140,
    "start_time": "2024-01-03T11:37:44.641Z"
   },
   {
    "duration": 2819,
    "start_time": "2024-01-03T11:37:49.408Z"
   },
   {
    "duration": 2516,
    "start_time": "2024-01-03T11:37:52.232Z"
   },
   {
    "duration": 2737,
    "start_time": "2024-01-03T11:37:54.750Z"
   },
   {
    "duration": 2673,
    "start_time": "2024-01-03T11:37:57.490Z"
   },
   {
    "duration": 6,
    "start_time": "2024-01-03T11:38:00.166Z"
   },
   {
    "duration": 1013,
    "start_time": "2024-01-03T11:38:00.173Z"
   },
   {
    "duration": 7,
    "start_time": "2024-01-03T11:38:01.187Z"
   },
   {
    "duration": 181,
    "start_time": "2024-01-03T11:38:01.195Z"
   },
   {
    "duration": 152,
    "start_time": "2024-01-03T11:38:01.378Z"
   },
   {
    "duration": 13,
    "start_time": "2024-01-03T11:38:01.532Z"
   },
   {
    "duration": 2035,
    "start_time": "2024-01-03T11:38:01.546Z"
   },
   {
    "duration": 778,
    "start_time": "2024-01-03T11:38:03.583Z"
   },
   {
    "duration": 127,
    "start_time": "2024-01-03T11:38:04.363Z"
   },
   {
    "duration": 143,
    "start_time": "2024-01-03T11:38:04.492Z"
   },
   {
    "duration": 44,
    "start_time": "2024-01-03T11:38:04.636Z"
   },
   {
    "duration": 52,
    "start_time": "2024-01-03T11:38:04.682Z"
   },
   {
    "duration": 39,
    "start_time": "2024-01-03T11:38:04.736Z"
   },
   {
    "duration": 139,
    "start_time": "2024-01-03T11:38:04.776Z"
   },
   {
    "duration": 130,
    "start_time": "2024-01-03T11:38:04.917Z"
   },
   {
    "duration": 127,
    "start_time": "2024-01-03T11:38:05.048Z"
   },
   {
    "duration": 28,
    "start_time": "2024-01-03T11:38:05.176Z"
   },
   {
    "duration": 216,
    "start_time": "2024-01-03T11:38:05.206Z"
   },
   {
    "duration": 401,
    "start_time": "2024-01-03T11:38:05.425Z"
   },
   {
    "duration": 355,
    "start_time": "2024-01-03T11:38:05.828Z"
   },
   {
    "duration": 749,
    "start_time": "2024-01-03T11:38:06.185Z"
   },
   {
    "duration": 19,
    "start_time": "2024-01-03T11:38:06.936Z"
   },
   {
    "duration": 20,
    "start_time": "2024-01-03T11:38:06.956Z"
   },
   {
    "duration": 41,
    "start_time": "2024-01-03T11:38:06.977Z"
   },
   {
    "duration": 33,
    "start_time": "2024-01-03T11:38:07.021Z"
   },
   {
    "duration": 20,
    "start_time": "2024-01-03T11:38:07.056Z"
   },
   {
    "duration": 868,
    "start_time": "2024-01-03T11:39:14.286Z"
   },
   {
    "duration": 23,
    "start_time": "2024-01-03T11:40:58.006Z"
   },
   {
    "duration": 822,
    "start_time": "2024-01-03T11:43:05.375Z"
   },
   {
    "duration": 8,
    "start_time": "2024-01-03T11:43:07.693Z"
   },
   {
    "duration": 2744,
    "start_time": "2024-01-03T11:44:17.143Z"
   },
   {
    "duration": 2493,
    "start_time": "2024-01-03T11:44:19.889Z"
   },
   {
    "duration": 2471,
    "start_time": "2024-01-03T11:44:22.384Z"
   },
   {
    "duration": 2507,
    "start_time": "2024-01-03T11:44:24.857Z"
   },
   {
    "duration": 6,
    "start_time": "2024-01-03T11:44:27.367Z"
   },
   {
    "duration": 827,
    "start_time": "2024-01-03T11:44:27.375Z"
   },
   {
    "duration": 3,
    "start_time": "2024-01-03T11:44:28.204Z"
   },
   {
    "duration": 7,
    "start_time": "2024-01-03T11:44:28.215Z"
   },
   {
    "duration": 157,
    "start_time": "2024-01-03T11:44:28.223Z"
   },
   {
    "duration": 137,
    "start_time": "2024-01-03T11:44:28.382Z"
   },
   {
    "duration": 22,
    "start_time": "2024-01-03T11:44:28.520Z"
   },
   {
    "duration": 2038,
    "start_time": "2024-01-03T11:44:28.544Z"
   },
   {
    "duration": 645,
    "start_time": "2024-01-03T11:44:30.583Z"
   },
   {
    "duration": 143,
    "start_time": "2024-01-03T11:44:31.232Z"
   },
   {
    "duration": 142,
    "start_time": "2024-01-03T11:44:31.377Z"
   },
   {
    "duration": 38,
    "start_time": "2024-01-03T11:44:31.521Z"
   },
   {
    "duration": 55,
    "start_time": "2024-01-03T11:44:31.560Z"
   },
   {
    "duration": 65,
    "start_time": "2024-01-03T11:44:31.617Z"
   },
   {
    "duration": 133,
    "start_time": "2024-01-03T11:44:31.684Z"
   },
   {
    "duration": 125,
    "start_time": "2024-01-03T11:44:31.818Z"
   },
   {
    "duration": 118,
    "start_time": "2024-01-03T11:44:31.945Z"
   },
   {
    "duration": 22,
    "start_time": "2024-01-03T11:44:32.064Z"
   },
   {
    "duration": 164,
    "start_time": "2024-01-03T11:44:32.087Z"
   },
   {
    "duration": 350,
    "start_time": "2024-01-03T11:44:32.253Z"
   },
   {
    "duration": 362,
    "start_time": "2024-01-03T11:44:32.604Z"
   },
   {
    "duration": 726,
    "start_time": "2024-01-03T11:44:32.967Z"
   },
   {
    "duration": 24,
    "start_time": "2024-01-03T11:44:33.695Z"
   },
   {
    "duration": 20,
    "start_time": "2024-01-03T11:44:33.722Z"
   },
   {
    "duration": 65,
    "start_time": "2024-01-03T11:44:33.744Z"
   },
   {
    "duration": 86,
    "start_time": "2024-01-03T11:44:33.811Z"
   },
   {
    "duration": 36,
    "start_time": "2024-01-03T11:44:33.899Z"
   },
   {
    "duration": 2895,
    "start_time": "2024-01-03T11:46:10.785Z"
   },
   {
    "duration": 2586,
    "start_time": "2024-01-03T11:46:13.682Z"
   },
   {
    "duration": 2762,
    "start_time": "2024-01-03T11:46:16.270Z"
   },
   {
    "duration": 2756,
    "start_time": "2024-01-03T11:46:19.035Z"
   },
   {
    "duration": 6,
    "start_time": "2024-01-03T11:46:21.794Z"
   },
   {
    "duration": 966,
    "start_time": "2024-01-03T11:46:21.801Z"
   },
   {
    "duration": 2,
    "start_time": "2024-01-03T11:46:22.768Z"
   },
   {
    "duration": 8,
    "start_time": "2024-01-03T11:46:22.771Z"
   },
   {
    "duration": 175,
    "start_time": "2024-01-03T11:46:22.780Z"
   },
   {
    "duration": 136,
    "start_time": "2024-01-03T11:46:22.957Z"
   },
   {
    "duration": 20,
    "start_time": "2024-01-03T11:46:23.094Z"
   },
   {
    "duration": 2180,
    "start_time": "2024-01-03T11:46:23.117Z"
   },
   {
    "duration": 769,
    "start_time": "2024-01-03T11:46:25.298Z"
   },
   {
    "duration": 145,
    "start_time": "2024-01-03T11:46:26.070Z"
   },
   {
    "duration": 157,
    "start_time": "2024-01-03T11:46:26.218Z"
   },
   {
    "duration": 30,
    "start_time": "2024-01-03T11:46:26.377Z"
   },
   {
    "duration": 40,
    "start_time": "2024-01-03T11:46:26.419Z"
   },
   {
    "duration": 56,
    "start_time": "2024-01-03T11:46:26.461Z"
   },
   {
    "duration": 52,
    "start_time": "2024-01-03T11:46:26.519Z"
   },
   {
    "duration": 138,
    "start_time": "2024-01-03T11:46:26.572Z"
   },
   {
    "duration": 155,
    "start_time": "2024-01-03T11:46:26.712Z"
   },
   {
    "duration": 138,
    "start_time": "2024-01-03T11:46:26.869Z"
   },
   {
    "duration": 39,
    "start_time": "2024-01-03T11:46:27.008Z"
   },
   {
    "duration": 160,
    "start_time": "2024-01-03T11:46:27.049Z"
   },
   {
    "duration": 397,
    "start_time": "2024-01-03T11:46:27.210Z"
   },
   {
    "duration": 402,
    "start_time": "2024-01-03T11:46:27.609Z"
   },
   {
    "duration": 821,
    "start_time": "2024-01-03T11:46:28.012Z"
   },
   {
    "duration": 27,
    "start_time": "2024-01-03T11:46:28.835Z"
   },
   {
    "duration": 19,
    "start_time": "2024-01-03T11:46:28.864Z"
   },
   {
    "duration": 33,
    "start_time": "2024-01-03T11:46:28.884Z"
   },
   {
    "duration": 36,
    "start_time": "2024-01-03T11:46:28.919Z"
   },
   {
    "duration": 20,
    "start_time": "2024-01-03T11:46:28.957Z"
   },
   {
    "duration": 27,
    "start_time": "2024-01-03T11:49:44.260Z"
   },
   {
    "duration": 33,
    "start_time": "2024-01-03T11:49:57.487Z"
   },
   {
    "duration": 3052,
    "start_time": "2024-01-03T11:49:59.987Z"
   },
   {
    "duration": 2724,
    "start_time": "2024-01-03T11:50:03.043Z"
   },
   {
    "duration": 2598,
    "start_time": "2024-01-03T11:50:05.769Z"
   },
   {
    "duration": 2705,
    "start_time": "2024-01-03T11:50:08.369Z"
   },
   {
    "duration": 6,
    "start_time": "2024-01-03T11:50:11.077Z"
   },
   {
    "duration": 888,
    "start_time": "2024-01-03T11:50:11.084Z"
   },
   {
    "duration": 2,
    "start_time": "2024-01-03T11:50:11.974Z"
   },
   {
    "duration": 10,
    "start_time": "2024-01-03T11:50:11.978Z"
   },
   {
    "duration": 174,
    "start_time": "2024-01-03T11:50:11.990Z"
   },
   {
    "duration": 156,
    "start_time": "2024-01-03T11:50:12.165Z"
   },
   {
    "duration": 22,
    "start_time": "2024-01-03T11:50:12.324Z"
   },
   {
    "duration": 2062,
    "start_time": "2024-01-03T11:50:12.347Z"
   },
   {
    "duration": 682,
    "start_time": "2024-01-03T11:50:14.414Z"
   },
   {
    "duration": 150,
    "start_time": "2024-01-03T11:50:15.100Z"
   },
   {
    "duration": 152,
    "start_time": "2024-01-03T11:50:15.252Z"
   },
   {
    "duration": 56,
    "start_time": "2024-01-03T11:50:15.405Z"
   },
   {
    "duration": 30,
    "start_time": "2024-01-03T11:50:15.462Z"
   },
   {
    "duration": 73,
    "start_time": "2024-01-03T11:50:15.493Z"
   },
   {
    "duration": 56,
    "start_time": "2024-01-03T11:50:15.567Z"
   },
   {
    "duration": 149,
    "start_time": "2024-01-03T11:50:15.625Z"
   },
   {
    "duration": 136,
    "start_time": "2024-01-03T11:50:15.775Z"
   },
   {
    "duration": 137,
    "start_time": "2024-01-03T11:50:15.913Z"
   },
   {
    "duration": 23,
    "start_time": "2024-01-03T11:50:16.051Z"
   },
   {
    "duration": 164,
    "start_time": "2024-01-03T11:50:16.075Z"
   },
   {
    "duration": 413,
    "start_time": "2024-01-03T11:50:16.242Z"
   },
   {
    "duration": 426,
    "start_time": "2024-01-03T11:50:16.657Z"
   },
   {
    "duration": 856,
    "start_time": "2024-01-03T11:50:17.085Z"
   },
   {
    "duration": 20,
    "start_time": "2024-01-03T11:50:17.943Z"
   },
   {
    "duration": 21,
    "start_time": "2024-01-03T11:50:17.964Z"
   },
   {
    "duration": 61,
    "start_time": "2024-01-03T11:50:17.987Z"
   },
   {
    "duration": 25,
    "start_time": "2024-01-03T11:50:18.049Z"
   },
   {
    "duration": 44,
    "start_time": "2024-01-03T11:50:18.076Z"
   },
   {
    "duration": 32,
    "start_time": "2024-01-03T11:50:49.280Z"
   },
   {
    "duration": 91,
    "start_time": "2024-01-03T11:56:41.764Z"
   },
   {
    "duration": 3016,
    "start_time": "2024-01-03T11:57:02.147Z"
   },
   {
    "duration": 2635,
    "start_time": "2024-01-03T11:57:05.165Z"
   },
   {
    "duration": 2678,
    "start_time": "2024-01-03T11:57:07.803Z"
   },
   {
    "duration": 2584,
    "start_time": "2024-01-03T11:57:10.483Z"
   },
   {
    "duration": 6,
    "start_time": "2024-01-03T11:57:13.069Z"
   },
   {
    "duration": 830,
    "start_time": "2024-01-03T11:57:13.077Z"
   },
   {
    "duration": 2,
    "start_time": "2024-01-03T11:57:13.909Z"
   },
   {
    "duration": 33,
    "start_time": "2024-01-03T11:57:13.912Z"
   },
   {
    "duration": 153,
    "start_time": "2024-01-03T11:57:13.947Z"
   },
   {
    "duration": 131,
    "start_time": "2024-01-03T11:57:14.102Z"
   },
   {
    "duration": 12,
    "start_time": "2024-01-03T11:57:14.235Z"
   },
   {
    "duration": 2064,
    "start_time": "2024-01-03T11:57:14.249Z"
   },
   {
    "duration": 797,
    "start_time": "2024-01-03T11:57:16.315Z"
   },
   {
    "duration": 146,
    "start_time": "2024-01-03T11:57:17.117Z"
   },
   {
    "duration": 155,
    "start_time": "2024-01-03T11:57:17.264Z"
   },
   {
    "duration": 37,
    "start_time": "2024-01-03T11:57:17.421Z"
   },
   {
    "duration": 36,
    "start_time": "2024-01-03T11:57:17.459Z"
   },
   {
    "duration": 60,
    "start_time": "2024-01-03T11:57:17.496Z"
   },
   {
    "duration": 40,
    "start_time": "2024-01-03T11:57:17.557Z"
   },
   {
    "duration": 136,
    "start_time": "2024-01-03T11:57:17.599Z"
   },
   {
    "duration": 125,
    "start_time": "2024-01-03T11:57:17.736Z"
   },
   {
    "duration": 75,
    "start_time": "2024-01-03T11:57:17.862Z"
   },
   {
    "duration": 0,
    "start_time": "2024-01-03T11:57:17.939Z"
   },
   {
    "duration": 0,
    "start_time": "2024-01-03T11:57:17.941Z"
   },
   {
    "duration": 0,
    "start_time": "2024-01-03T11:57:17.942Z"
   },
   {
    "duration": 0,
    "start_time": "2024-01-03T11:57:17.943Z"
   },
   {
    "duration": 0,
    "start_time": "2024-01-03T11:57:17.944Z"
   },
   {
    "duration": 0,
    "start_time": "2024-01-03T11:57:17.946Z"
   },
   {
    "duration": 0,
    "start_time": "2024-01-03T11:57:17.946Z"
   },
   {
    "duration": 0,
    "start_time": "2024-01-03T11:57:17.948Z"
   },
   {
    "duration": 0,
    "start_time": "2024-01-03T11:57:17.948Z"
   },
   {
    "duration": 0,
    "start_time": "2024-01-03T11:57:17.950Z"
   },
   {
    "duration": 0,
    "start_time": "2024-01-03T11:57:17.951Z"
   },
   {
    "duration": 133,
    "start_time": "2024-01-03T11:57:42.654Z"
   },
   {
    "duration": 37,
    "start_time": "2024-01-03T11:57:47.340Z"
   },
   {
    "duration": 2798,
    "start_time": "2024-01-03T11:57:57.585Z"
   },
   {
    "duration": 2496,
    "start_time": "2024-01-03T11:58:00.386Z"
   },
   {
    "duration": 2804,
    "start_time": "2024-01-03T11:58:02.884Z"
   },
   {
    "duration": 2717,
    "start_time": "2024-01-03T11:58:05.690Z"
   },
   {
    "duration": 6,
    "start_time": "2024-01-03T11:58:08.410Z"
   },
   {
    "duration": 801,
    "start_time": "2024-01-03T11:58:08.418Z"
   },
   {
    "duration": 5,
    "start_time": "2024-01-03T11:58:09.221Z"
   },
   {
    "duration": 11,
    "start_time": "2024-01-03T11:58:09.228Z"
   },
   {
    "duration": 157,
    "start_time": "2024-01-03T11:58:09.241Z"
   },
   {
    "duration": 139,
    "start_time": "2024-01-03T11:58:09.400Z"
   },
   {
    "duration": 11,
    "start_time": "2024-01-03T11:58:09.541Z"
   },
   {
    "duration": 2105,
    "start_time": "2024-01-03T11:58:09.553Z"
   },
   {
    "duration": 691,
    "start_time": "2024-01-03T11:58:11.660Z"
   },
   {
    "duration": 143,
    "start_time": "2024-01-03T11:58:12.354Z"
   },
   {
    "duration": 163,
    "start_time": "2024-01-03T11:58:12.499Z"
   },
   {
    "duration": 35,
    "start_time": "2024-01-03T11:58:12.663Z"
   },
   {
    "duration": 41,
    "start_time": "2024-01-03T11:58:12.700Z"
   },
   {
    "duration": 38,
    "start_time": "2024-01-03T11:58:12.743Z"
   },
   {
    "duration": 70,
    "start_time": "2024-01-03T11:58:12.783Z"
   },
   {
    "duration": 124,
    "start_time": "2024-01-03T11:58:12.855Z"
   },
   {
    "duration": 123,
    "start_time": "2024-01-03T11:58:12.981Z"
   },
   {
    "duration": 147,
    "start_time": "2024-01-03T11:58:13.106Z"
   },
   {
    "duration": 36,
    "start_time": "2024-01-03T11:58:13.255Z"
   },
   {
    "duration": 41,
    "start_time": "2024-01-03T11:58:13.292Z"
   },
   {
    "duration": 148,
    "start_time": "2024-01-03T11:58:13.335Z"
   },
   {
    "duration": 399,
    "start_time": "2024-01-03T11:58:13.485Z"
   },
   {
    "duration": 400,
    "start_time": "2024-01-03T11:58:13.886Z"
   },
   {
    "duration": 828,
    "start_time": "2024-01-03T11:58:14.288Z"
   },
   {
    "duration": 19,
    "start_time": "2024-01-03T11:58:15.120Z"
   },
   {
    "duration": 47,
    "start_time": "2024-01-03T11:58:15.141Z"
   },
   {
    "duration": 45,
    "start_time": "2024-01-03T11:58:15.189Z"
   },
   {
    "duration": 33,
    "start_time": "2024-01-03T11:58:15.237Z"
   },
   {
    "duration": 20,
    "start_time": "2024-01-03T11:58:15.271Z"
   },
   {
    "duration": 135,
    "start_time": "2024-01-03T11:59:58.777Z"
   },
   {
    "duration": 2845,
    "start_time": "2024-01-03T12:01:30.209Z"
   },
   {
    "duration": 2566,
    "start_time": "2024-01-03T12:01:33.056Z"
   },
   {
    "duration": 2735,
    "start_time": "2024-01-03T12:01:35.625Z"
   },
   {
    "duration": 2524,
    "start_time": "2024-01-03T12:01:38.362Z"
   },
   {
    "duration": 5,
    "start_time": "2024-01-03T12:01:40.889Z"
   },
   {
    "duration": 855,
    "start_time": "2024-01-03T12:01:40.896Z"
   },
   {
    "duration": 2,
    "start_time": "2024-01-03T12:01:41.753Z"
   },
   {
    "duration": 8,
    "start_time": "2024-01-03T12:01:41.756Z"
   },
   {
    "duration": 149,
    "start_time": "2024-01-03T12:01:41.765Z"
   },
   {
    "duration": 142,
    "start_time": "2024-01-03T12:01:41.916Z"
   },
   {
    "duration": 12,
    "start_time": "2024-01-03T12:01:42.059Z"
   },
   {
    "duration": 2098,
    "start_time": "2024-01-03T12:01:42.072Z"
   },
   {
    "duration": 688,
    "start_time": "2024-01-03T12:01:44.172Z"
   },
   {
    "duration": 145,
    "start_time": "2024-01-03T12:01:44.863Z"
   },
   {
    "duration": 176,
    "start_time": "2024-01-03T12:01:45.010Z"
   },
   {
    "duration": 60,
    "start_time": "2024-01-03T12:01:45.187Z"
   },
   {
    "duration": 30,
    "start_time": "2024-01-03T12:01:45.249Z"
   },
   {
    "duration": 57,
    "start_time": "2024-01-03T12:01:45.280Z"
   },
   {
    "duration": 39,
    "start_time": "2024-01-03T12:01:45.338Z"
   },
   {
    "duration": 243,
    "start_time": "2024-01-03T12:01:45.379Z"
   },
   {
    "duration": 263,
    "start_time": "2024-01-03T12:01:45.624Z"
   },
   {
    "duration": 272,
    "start_time": "2024-01-03T12:01:45.889Z"
   },
   {
    "duration": 38,
    "start_time": "2024-01-03T12:01:46.162Z"
   },
   {
    "duration": 35,
    "start_time": "2024-01-03T12:01:46.202Z"
   },
   {
    "duration": 156,
    "start_time": "2024-01-03T12:01:46.239Z"
   },
   {
    "duration": 399,
    "start_time": "2024-01-03T12:01:46.397Z"
   },
   {
    "duration": 385,
    "start_time": "2024-01-03T12:01:46.797Z"
   },
   {
    "duration": 799,
    "start_time": "2024-01-03T12:01:47.184Z"
   },
   {
    "duration": 22,
    "start_time": "2024-01-03T12:01:47.984Z"
   },
   {
    "duration": 36,
    "start_time": "2024-01-03T12:01:48.015Z"
   },
   {
    "duration": 20,
    "start_time": "2024-01-03T12:01:48.052Z"
   },
   {
    "duration": 52,
    "start_time": "2024-01-03T12:01:48.074Z"
   },
   {
    "duration": 34,
    "start_time": "2024-01-03T12:01:48.128Z"
   },
   {
    "duration": 39785,
    "start_time": "2024-01-03T12:12:14.839Z"
   },
   {
    "duration": 2966,
    "start_time": "2024-01-03T12:14:00.831Z"
   },
   {
    "duration": 2678,
    "start_time": "2024-01-03T12:14:03.799Z"
   },
   {
    "duration": 2731,
    "start_time": "2024-01-03T12:14:06.479Z"
   },
   {
    "duration": 2789,
    "start_time": "2024-01-03T12:14:09.212Z"
   },
   {
    "duration": 6,
    "start_time": "2024-01-03T12:14:12.004Z"
   },
   {
    "duration": 826,
    "start_time": "2024-01-03T12:14:12.011Z"
   },
   {
    "duration": 140,
    "start_time": "2024-01-03T12:14:12.839Z"
   },
   {
    "duration": 407,
    "start_time": "2024-01-03T12:14:12.980Z"
   },
   {
    "duration": 2,
    "start_time": "2024-01-03T12:14:13.388Z"
   },
   {
    "duration": 9,
    "start_time": "2024-01-03T12:14:13.392Z"
   },
   {
    "duration": 146,
    "start_time": "2024-01-03T12:14:13.402Z"
   },
   {
    "duration": 12,
    "start_time": "2024-01-03T12:14:13.550Z"
   },
   {
    "duration": 2009,
    "start_time": "2024-01-03T12:14:13.563Z"
   },
   {
    "duration": 748,
    "start_time": "2024-01-03T12:14:15.575Z"
   },
   {
    "duration": 152,
    "start_time": "2024-01-03T12:14:16.326Z"
   },
   {
    "duration": 174,
    "start_time": "2024-01-03T12:14:16.479Z"
   },
   {
    "duration": 37,
    "start_time": "2024-01-03T12:14:16.655Z"
   },
   {
    "duration": 60,
    "start_time": "2024-01-03T12:14:16.693Z"
   },
   {
    "duration": 42,
    "start_time": "2024-01-03T12:14:16.755Z"
   },
   {
    "duration": 69,
    "start_time": "2024-01-03T12:14:16.799Z"
   },
   {
    "duration": 263,
    "start_time": "2024-01-03T12:14:16.870Z"
   },
   {
    "duration": 236,
    "start_time": "2024-01-03T12:14:17.135Z"
   },
   {
    "duration": 242,
    "start_time": "2024-01-03T12:14:17.373Z"
   },
   {
    "duration": 38,
    "start_time": "2024-01-03T12:14:17.617Z"
   },
   {
    "duration": 38,
    "start_time": "2024-01-03T12:14:17.657Z"
   },
   {
    "duration": 149,
    "start_time": "2024-01-03T12:14:17.697Z"
   },
   {
    "duration": 405,
    "start_time": "2024-01-03T12:14:17.847Z"
   },
   {
    "duration": 358,
    "start_time": "2024-01-03T12:14:18.254Z"
   },
   {
    "duration": 762,
    "start_time": "2024-01-03T12:14:18.614Z"
   },
   {
    "duration": 21,
    "start_time": "2024-01-03T12:14:19.378Z"
   },
   {
    "duration": 29,
    "start_time": "2024-01-03T12:14:19.400Z"
   },
   {
    "duration": 22,
    "start_time": "2024-01-03T12:14:19.431Z"
   },
   {
    "duration": 22,
    "start_time": "2024-01-03T12:14:19.455Z"
   },
   {
    "duration": 49,
    "start_time": "2024-01-03T12:14:19.478Z"
   },
   {
    "duration": 2897,
    "start_time": "2024-01-03T12:17:24.967Z"
   },
   {
    "duration": 2644,
    "start_time": "2024-01-03T12:17:27.866Z"
   },
   {
    "duration": 2734,
    "start_time": "2024-01-03T12:17:30.513Z"
   },
   {
    "duration": 2884,
    "start_time": "2024-01-03T12:17:33.249Z"
   },
   {
    "duration": 1346,
    "start_time": "2024-01-03T12:17:36.137Z"
   },
   {
    "duration": 963,
    "start_time": "2024-01-03T12:17:37.484Z"
   },
   {
    "duration": 180,
    "start_time": "2024-01-03T12:17:38.448Z"
   },
   {
    "duration": 476,
    "start_time": "2024-01-03T12:17:38.630Z"
   },
   {
    "duration": 118,
    "start_time": "2024-01-03T12:17:39.107Z"
   },
   {
    "duration": 0,
    "start_time": "2024-01-03T12:17:39.228Z"
   },
   {
    "duration": 0,
    "start_time": "2024-01-03T12:17:39.230Z"
   },
   {
    "duration": 0,
    "start_time": "2024-01-03T12:17:39.231Z"
   },
   {
    "duration": 0,
    "start_time": "2024-01-03T12:17:39.233Z"
   },
   {
    "duration": 0,
    "start_time": "2024-01-03T12:17:39.235Z"
   },
   {
    "duration": 0,
    "start_time": "2024-01-03T12:17:39.238Z"
   },
   {
    "duration": 0,
    "start_time": "2024-01-03T12:17:39.240Z"
   },
   {
    "duration": 0,
    "start_time": "2024-01-03T12:17:39.241Z"
   },
   {
    "duration": 0,
    "start_time": "2024-01-03T12:17:39.243Z"
   },
   {
    "duration": 0,
    "start_time": "2024-01-03T12:17:39.244Z"
   },
   {
    "duration": 0,
    "start_time": "2024-01-03T12:17:39.245Z"
   },
   {
    "duration": 0,
    "start_time": "2024-01-03T12:17:39.247Z"
   },
   {
    "duration": 0,
    "start_time": "2024-01-03T12:17:39.248Z"
   },
   {
    "duration": 0,
    "start_time": "2024-01-03T12:17:39.249Z"
   },
   {
    "duration": 0,
    "start_time": "2024-01-03T12:17:39.250Z"
   },
   {
    "duration": 0,
    "start_time": "2024-01-03T12:17:39.252Z"
   },
   {
    "duration": 0,
    "start_time": "2024-01-03T12:17:39.253Z"
   },
   {
    "duration": 0,
    "start_time": "2024-01-03T12:17:39.255Z"
   },
   {
    "duration": 0,
    "start_time": "2024-01-03T12:17:39.256Z"
   },
   {
    "duration": 0,
    "start_time": "2024-01-03T12:17:39.257Z"
   },
   {
    "duration": 0,
    "start_time": "2024-01-03T12:17:39.259Z"
   },
   {
    "duration": 0,
    "start_time": "2024-01-03T12:17:39.260Z"
   },
   {
    "duration": 0,
    "start_time": "2024-01-03T12:17:39.262Z"
   },
   {
    "duration": 0,
    "start_time": "2024-01-03T12:17:39.263Z"
   },
   {
    "duration": 0,
    "start_time": "2024-01-03T12:17:39.314Z"
   },
   {
    "duration": 0,
    "start_time": "2024-01-03T12:17:39.316Z"
   },
   {
    "duration": 510,
    "start_time": "2024-01-03T12:17:51.540Z"
   },
   {
    "duration": 29,
    "start_time": "2024-01-03T12:17:52.052Z"
   },
   {
    "duration": 12,
    "start_time": "2024-01-03T12:17:52.083Z"
   },
   {
    "duration": 0,
    "start_time": "2024-01-03T12:17:52.097Z"
   },
   {
    "duration": 0,
    "start_time": "2024-01-03T12:17:52.098Z"
   },
   {
    "duration": 0,
    "start_time": "2024-01-03T12:17:52.099Z"
   },
   {
    "duration": 0,
    "start_time": "2024-01-03T12:17:52.101Z"
   },
   {
    "duration": 0,
    "start_time": "2024-01-03T12:17:52.115Z"
   },
   {
    "duration": 0,
    "start_time": "2024-01-03T12:17:52.116Z"
   },
   {
    "duration": 0,
    "start_time": "2024-01-03T12:17:52.117Z"
   },
   {
    "duration": 0,
    "start_time": "2024-01-03T12:17:52.118Z"
   },
   {
    "duration": 0,
    "start_time": "2024-01-03T12:17:52.119Z"
   },
   {
    "duration": 0,
    "start_time": "2024-01-03T12:17:52.121Z"
   },
   {
    "duration": 1,
    "start_time": "2024-01-03T12:17:52.121Z"
   },
   {
    "duration": 0,
    "start_time": "2024-01-03T12:17:52.122Z"
   },
   {
    "duration": 0,
    "start_time": "2024-01-03T12:17:52.123Z"
   },
   {
    "duration": 0,
    "start_time": "2024-01-03T12:17:52.124Z"
   },
   {
    "duration": 1,
    "start_time": "2024-01-03T12:17:52.124Z"
   },
   {
    "duration": 0,
    "start_time": "2024-01-03T12:17:52.125Z"
   },
   {
    "duration": 0,
    "start_time": "2024-01-03T12:17:52.126Z"
   },
   {
    "duration": 0,
    "start_time": "2024-01-03T12:17:52.127Z"
   },
   {
    "duration": 0,
    "start_time": "2024-01-03T12:17:52.128Z"
   },
   {
    "duration": 0,
    "start_time": "2024-01-03T12:17:52.131Z"
   },
   {
    "duration": 0,
    "start_time": "2024-01-03T12:17:52.134Z"
   },
   {
    "duration": 0,
    "start_time": "2024-01-03T12:17:52.135Z"
   },
   {
    "duration": 0,
    "start_time": "2024-01-03T12:17:52.136Z"
   },
   {
    "duration": 0,
    "start_time": "2024-01-03T12:17:52.138Z"
   },
   {
    "duration": 0,
    "start_time": "2024-01-03T12:17:52.139Z"
   },
   {
    "duration": 2792,
    "start_time": "2024-01-03T12:18:17.908Z"
   },
   {
    "duration": 2817,
    "start_time": "2024-01-03T12:18:20.702Z"
   },
   {
    "duration": 2675,
    "start_time": "2024-01-03T12:18:23.524Z"
   },
   {
    "duration": 2645,
    "start_time": "2024-01-03T12:18:26.201Z"
   },
   {
    "duration": 7,
    "start_time": "2024-01-03T12:18:28.849Z"
   },
   {
    "duration": 865,
    "start_time": "2024-01-03T12:18:28.857Z"
   },
   {
    "duration": 167,
    "start_time": "2024-01-03T12:18:29.724Z"
   },
   {
    "duration": 455,
    "start_time": "2024-01-03T12:18:29.893Z"
   },
   {
    "duration": 18,
    "start_time": "2024-01-03T12:18:30.350Z"
   },
   {
    "duration": 69,
    "start_time": "2024-01-03T12:18:30.370Z"
   },
   {
    "duration": 0,
    "start_time": "2024-01-03T12:18:30.442Z"
   },
   {
    "duration": 0,
    "start_time": "2024-01-03T12:18:30.443Z"
   },
   {
    "duration": 0,
    "start_time": "2024-01-03T12:18:30.444Z"
   },
   {
    "duration": 0,
    "start_time": "2024-01-03T12:18:30.445Z"
   },
   {
    "duration": 0,
    "start_time": "2024-01-03T12:18:30.447Z"
   },
   {
    "duration": 0,
    "start_time": "2024-01-03T12:18:30.448Z"
   },
   {
    "duration": 0,
    "start_time": "2024-01-03T12:18:30.449Z"
   },
   {
    "duration": 0,
    "start_time": "2024-01-03T12:18:30.450Z"
   },
   {
    "duration": 0,
    "start_time": "2024-01-03T12:18:30.451Z"
   },
   {
    "duration": 0,
    "start_time": "2024-01-03T12:18:30.452Z"
   },
   {
    "duration": 0,
    "start_time": "2024-01-03T12:18:30.453Z"
   },
   {
    "duration": 0,
    "start_time": "2024-01-03T12:18:30.454Z"
   },
   {
    "duration": 0,
    "start_time": "2024-01-03T12:18:30.455Z"
   },
   {
    "duration": 0,
    "start_time": "2024-01-03T12:18:30.456Z"
   },
   {
    "duration": 0,
    "start_time": "2024-01-03T12:18:30.457Z"
   },
   {
    "duration": 0,
    "start_time": "2024-01-03T12:18:30.458Z"
   },
   {
    "duration": 0,
    "start_time": "2024-01-03T12:18:30.459Z"
   },
   {
    "duration": 0,
    "start_time": "2024-01-03T12:18:30.461Z"
   },
   {
    "duration": 0,
    "start_time": "2024-01-03T12:18:30.462Z"
   },
   {
    "duration": 0,
    "start_time": "2024-01-03T12:18:30.463Z"
   },
   {
    "duration": 0,
    "start_time": "2024-01-03T12:18:30.464Z"
   },
   {
    "duration": 0,
    "start_time": "2024-01-03T12:18:30.466Z"
   },
   {
    "duration": 0,
    "start_time": "2024-01-03T12:18:30.466Z"
   },
   {
    "duration": 0,
    "start_time": "2024-01-03T12:18:30.467Z"
   },
   {
    "duration": 0,
    "start_time": "2024-01-03T12:18:30.469Z"
   },
   {
    "duration": 9,
    "start_time": "2024-01-03T12:18:54.766Z"
   },
   {
    "duration": 9,
    "start_time": "2024-01-03T12:19:30.155Z"
   },
   {
    "duration": 3,
    "start_time": "2024-01-03T12:19:34.568Z"
   },
   {
    "duration": 3,
    "start_time": "2024-01-03T12:19:36.811Z"
   },
   {
    "duration": 3,
    "start_time": "2024-01-03T12:19:49.778Z"
   },
   {
    "duration": 2933,
    "start_time": "2024-01-03T12:19:52.348Z"
   },
   {
    "duration": 2598,
    "start_time": "2024-01-03T12:19:55.283Z"
   },
   {
    "duration": 2782,
    "start_time": "2024-01-03T12:19:57.883Z"
   },
   {
    "duration": 2816,
    "start_time": "2024-01-03T12:20:00.667Z"
   },
   {
    "duration": 6,
    "start_time": "2024-01-03T12:20:03.486Z"
   },
   {
    "duration": 884,
    "start_time": "2024-01-03T12:20:03.494Z"
   },
   {
    "duration": 151,
    "start_time": "2024-01-03T12:20:04.380Z"
   },
   {
    "duration": 443,
    "start_time": "2024-01-03T12:20:04.532Z"
   },
   {
    "duration": 18,
    "start_time": "2024-01-03T12:20:04.977Z"
   },
   {
    "duration": 2,
    "start_time": "2024-01-03T12:20:04.997Z"
   },
   {
    "duration": 29,
    "start_time": "2024-01-03T12:20:05.001Z"
   },
   {
    "duration": 0,
    "start_time": "2024-01-03T12:20:05.033Z"
   },
   {
    "duration": 0,
    "start_time": "2024-01-03T12:20:05.034Z"
   },
   {
    "duration": 0,
    "start_time": "2024-01-03T12:20:05.036Z"
   },
   {
    "duration": 0,
    "start_time": "2024-01-03T12:20:05.037Z"
   },
   {
    "duration": 0,
    "start_time": "2024-01-03T12:20:05.038Z"
   },
   {
    "duration": 0,
    "start_time": "2024-01-03T12:20:05.040Z"
   },
   {
    "duration": 0,
    "start_time": "2024-01-03T12:20:05.041Z"
   },
   {
    "duration": 0,
    "start_time": "2024-01-03T12:20:05.042Z"
   },
   {
    "duration": 0,
    "start_time": "2024-01-03T12:20:05.043Z"
   },
   {
    "duration": 0,
    "start_time": "2024-01-03T12:20:05.044Z"
   },
   {
    "duration": 0,
    "start_time": "2024-01-03T12:20:05.045Z"
   },
   {
    "duration": 0,
    "start_time": "2024-01-03T12:20:05.046Z"
   },
   {
    "duration": 0,
    "start_time": "2024-01-03T12:20:05.047Z"
   },
   {
    "duration": 0,
    "start_time": "2024-01-03T12:20:05.049Z"
   },
   {
    "duration": 0,
    "start_time": "2024-01-03T12:20:05.050Z"
   },
   {
    "duration": 0,
    "start_time": "2024-01-03T12:20:05.051Z"
   },
   {
    "duration": 0,
    "start_time": "2024-01-03T12:20:05.052Z"
   },
   {
    "duration": 0,
    "start_time": "2024-01-03T12:20:05.053Z"
   },
   {
    "duration": 0,
    "start_time": "2024-01-03T12:20:05.054Z"
   },
   {
    "duration": 0,
    "start_time": "2024-01-03T12:20:05.056Z"
   },
   {
    "duration": 0,
    "start_time": "2024-01-03T12:20:05.057Z"
   },
   {
    "duration": 0,
    "start_time": "2024-01-03T12:20:05.058Z"
   },
   {
    "duration": 0,
    "start_time": "2024-01-03T12:20:05.059Z"
   },
   {
    "duration": 0,
    "start_time": "2024-01-03T12:20:05.060Z"
   },
   {
    "duration": 0,
    "start_time": "2024-01-03T12:20:05.061Z"
   },
   {
    "duration": 3046,
    "start_time": "2024-01-03T12:20:38.752Z"
   },
   {
    "duration": 2805,
    "start_time": "2024-01-03T12:20:41.800Z"
   },
   {
    "duration": 2680,
    "start_time": "2024-01-03T12:20:44.607Z"
   },
   {
    "duration": 2846,
    "start_time": "2024-01-03T12:20:47.290Z"
   },
   {
    "duration": 6,
    "start_time": "2024-01-03T12:20:50.139Z"
   },
   {
    "duration": 904,
    "start_time": "2024-01-03T12:20:50.147Z"
   },
   {
    "duration": 179,
    "start_time": "2024-01-03T12:20:51.053Z"
   },
   {
    "duration": 427,
    "start_time": "2024-01-03T12:20:51.236Z"
   },
   {
    "duration": 16,
    "start_time": "2024-01-03T12:20:51.664Z"
   },
   {
    "duration": 11,
    "start_time": "2024-01-03T12:20:51.682Z"
   },
   {
    "duration": 107,
    "start_time": "2024-01-03T12:20:51.694Z"
   },
   {
    "duration": 14,
    "start_time": "2024-01-03T12:20:51.802Z"
   },
   {
    "duration": 1802,
    "start_time": "2024-01-03T12:20:51.818Z"
   },
   {
    "duration": 638,
    "start_time": "2024-01-03T12:20:53.624Z"
   },
   {
    "duration": 151,
    "start_time": "2024-01-03T12:20:54.263Z"
   },
   {
    "duration": 106,
    "start_time": "2024-01-03T12:20:54.417Z"
   },
   {
    "duration": 38,
    "start_time": "2024-01-03T12:20:54.526Z"
   },
   {
    "duration": 27,
    "start_time": "2024-01-03T12:20:54.565Z"
   },
   {
    "duration": 64,
    "start_time": "2024-01-03T12:20:54.593Z"
   },
   {
    "duration": 39,
    "start_time": "2024-01-03T12:20:54.658Z"
   },
   {
    "duration": 282,
    "start_time": "2024-01-03T12:20:54.719Z"
   },
   {
    "duration": 242,
    "start_time": "2024-01-03T12:20:55.003Z"
   },
   {
    "duration": 333,
    "start_time": "2024-01-03T12:20:55.247Z"
   },
   {
    "duration": 41,
    "start_time": "2024-01-03T12:20:55.581Z"
   },
   {
    "duration": 34,
    "start_time": "2024-01-03T12:20:55.624Z"
   },
   {
    "duration": 130,
    "start_time": "2024-01-03T12:20:55.659Z"
   },
   {
    "duration": 174,
    "start_time": "2024-01-03T12:20:55.791Z"
   },
   {
    "duration": 175,
    "start_time": "2024-01-03T12:20:55.966Z"
   },
   {
    "duration": 303,
    "start_time": "2024-01-03T12:20:56.142Z"
   },
   {
    "duration": 18,
    "start_time": "2024-01-03T12:20:56.447Z"
   },
   {
    "duration": 18,
    "start_time": "2024-01-03T12:20:56.467Z"
   },
   {
    "duration": 45,
    "start_time": "2024-01-03T12:20:56.486Z"
   },
   {
    "duration": 25,
    "start_time": "2024-01-03T12:20:56.533Z"
   },
   {
    "duration": 18,
    "start_time": "2024-01-03T12:20:56.560Z"
   },
   {
    "duration": 2,
    "start_time": "2024-01-03T12:20:56.579Z"
   },
   {
    "duration": 19,
    "start_time": "2024-01-03T12:21:22.701Z"
   },
   {
    "duration": 13,
    "start_time": "2024-01-03T12:21:26.443Z"
   },
   {
    "duration": 4,
    "start_time": "2024-01-03T12:21:26.458Z"
   },
   {
    "duration": 84,
    "start_time": "2024-01-03T12:21:26.464Z"
   },
   {
    "duration": 12,
    "start_time": "2024-01-03T12:21:26.550Z"
   },
   {
    "duration": 1492,
    "start_time": "2024-01-03T12:21:26.564Z"
   },
   {
    "duration": 426,
    "start_time": "2024-01-03T12:21:28.057Z"
   },
   {
    "duration": 127,
    "start_time": "2024-01-03T12:21:28.484Z"
   },
   {
    "duration": 81,
    "start_time": "2024-01-03T12:21:28.614Z"
   },
   {
    "duration": 46,
    "start_time": "2024-01-03T12:21:28.696Z"
   },
   {
    "duration": 20,
    "start_time": "2024-01-03T12:21:28.743Z"
   },
   {
    "duration": 33,
    "start_time": "2024-01-03T12:21:28.764Z"
   },
   {
    "duration": 50,
    "start_time": "2024-01-03T12:21:28.827Z"
   },
   {
    "duration": 229,
    "start_time": "2024-01-03T12:21:28.879Z"
   },
   {
    "duration": 220,
    "start_time": "2024-01-03T12:21:29.110Z"
   },
   {
    "duration": 240,
    "start_time": "2024-01-03T12:21:29.331Z"
   },
   {
    "duration": 31,
    "start_time": "2024-01-03T12:21:29.573Z"
   },
   {
    "duration": 28,
    "start_time": "2024-01-03T12:21:29.606Z"
   },
   {
    "duration": 89,
    "start_time": "2024-01-03T12:21:29.636Z"
   },
   {
    "duration": 142,
    "start_time": "2024-01-03T12:21:29.727Z"
   },
   {
    "duration": 133,
    "start_time": "2024-01-03T12:21:29.870Z"
   },
   {
    "duration": 293,
    "start_time": "2024-01-03T12:21:30.004Z"
   },
   {
    "duration": 25,
    "start_time": "2024-01-03T12:21:30.299Z"
   },
   {
    "duration": 38,
    "start_time": "2024-01-03T12:21:30.327Z"
   },
   {
    "duration": 66,
    "start_time": "2024-01-03T12:21:30.367Z"
   },
   {
    "duration": 74,
    "start_time": "2024-01-03T12:21:30.435Z"
   },
   {
    "duration": 43,
    "start_time": "2024-01-03T12:21:30.511Z"
   },
   {
    "duration": 26,
    "start_time": "2024-01-03T12:21:30.556Z"
   },
   {
    "duration": 2932,
    "start_time": "2024-01-03T12:22:32.136Z"
   },
   {
    "duration": 2793,
    "start_time": "2024-01-03T12:22:35.070Z"
   },
   {
    "duration": 2723,
    "start_time": "2024-01-03T12:22:37.865Z"
   },
   {
    "duration": 2770,
    "start_time": "2024-01-03T12:22:40.590Z"
   },
   {
    "duration": 6,
    "start_time": "2024-01-03T12:22:43.363Z"
   },
   {
    "duration": 862,
    "start_time": "2024-01-03T12:22:43.371Z"
   },
   {
    "duration": 153,
    "start_time": "2024-01-03T12:22:44.235Z"
   },
   {
    "duration": 403,
    "start_time": "2024-01-03T12:22:44.390Z"
   },
   {
    "duration": 20,
    "start_time": "2024-01-03T12:22:44.795Z"
   },
   {
    "duration": 5,
    "start_time": "2024-01-03T12:22:44.817Z"
   },
   {
    "duration": 116,
    "start_time": "2024-01-03T12:22:44.824Z"
   },
   {
    "duration": 10,
    "start_time": "2024-01-03T12:22:44.942Z"
   },
   {
    "duration": 1630,
    "start_time": "2024-01-03T12:22:44.953Z"
   },
   {
    "duration": 695,
    "start_time": "2024-01-03T12:22:46.587Z"
   },
   {
    "duration": 157,
    "start_time": "2024-01-03T12:22:47.284Z"
   },
   {
    "duration": 97,
    "start_time": "2024-01-03T12:22:47.443Z"
   },
   {
    "duration": 37,
    "start_time": "2024-01-03T12:22:47.541Z"
   },
   {
    "duration": 42,
    "start_time": "2024-01-03T12:22:47.580Z"
   },
   {
    "duration": 42,
    "start_time": "2024-01-03T12:22:47.624Z"
   },
   {
    "duration": 55,
    "start_time": "2024-01-03T12:22:47.667Z"
   },
   {
    "duration": 251,
    "start_time": "2024-01-03T12:22:47.724Z"
   },
   {
    "duration": 245,
    "start_time": "2024-01-03T12:22:47.976Z"
   },
   {
    "duration": 236,
    "start_time": "2024-01-03T12:22:48.223Z"
   },
   {
    "duration": 36,
    "start_time": "2024-01-03T12:22:48.461Z"
   },
   {
    "duration": 33,
    "start_time": "2024-01-03T12:22:48.498Z"
   },
   {
    "duration": 103,
    "start_time": "2024-01-03T12:22:48.533Z"
   },
   {
    "duration": 153,
    "start_time": "2024-01-03T12:22:48.638Z"
   },
   {
    "duration": 182,
    "start_time": "2024-01-03T12:22:48.793Z"
   },
   {
    "duration": 307,
    "start_time": "2024-01-03T12:22:48.977Z"
   },
   {
    "duration": 19,
    "start_time": "2024-01-03T12:22:49.286Z"
   },
   {
    "duration": 20,
    "start_time": "2024-01-03T12:22:49.315Z"
   },
   {
    "duration": 22,
    "start_time": "2024-01-03T12:22:49.338Z"
   },
   {
    "duration": 20,
    "start_time": "2024-01-03T12:22:49.362Z"
   },
   {
    "duration": 44,
    "start_time": "2024-01-03T12:22:49.384Z"
   },
   {
    "duration": 3,
    "start_time": "2024-01-03T12:22:49.430Z"
   },
   {
    "duration": 3027,
    "start_time": "2024-01-03T12:24:58.089Z"
   },
   {
    "duration": 2897,
    "start_time": "2024-01-03T12:25:01.119Z"
   },
   {
    "duration": 2721,
    "start_time": "2024-01-03T12:25:04.020Z"
   },
   {
    "duration": 2773,
    "start_time": "2024-01-03T12:25:06.743Z"
   },
   {
    "duration": 6,
    "start_time": "2024-01-03T12:25:09.522Z"
   },
   {
    "duration": 858,
    "start_time": "2024-01-03T12:25:09.531Z"
   },
   {
    "duration": 144,
    "start_time": "2024-01-03T12:25:10.390Z"
   },
   {
    "duration": 430,
    "start_time": "2024-01-03T12:25:10.536Z"
   },
   {
    "duration": 15,
    "start_time": "2024-01-03T12:25:10.968Z"
   },
   {
    "duration": 23,
    "start_time": "2024-01-03T12:25:10.984Z"
   },
   {
    "duration": 124,
    "start_time": "2024-01-03T12:25:11.009Z"
   },
   {
    "duration": 11,
    "start_time": "2024-01-03T12:25:11.135Z"
   },
   {
    "duration": 1681,
    "start_time": "2024-01-03T12:25:11.147Z"
   },
   {
    "duration": 681,
    "start_time": "2024-01-03T12:25:12.833Z"
   },
   {
    "duration": 158,
    "start_time": "2024-01-03T12:25:13.517Z"
   },
   {
    "duration": 104,
    "start_time": "2024-01-03T12:25:13.677Z"
   },
   {
    "duration": 50,
    "start_time": "2024-01-03T12:25:13.782Z"
   },
   {
    "duration": 28,
    "start_time": "2024-01-03T12:25:13.834Z"
   },
   {
    "duration": 39,
    "start_time": "2024-01-03T12:25:13.863Z"
   },
   {
    "duration": 50,
    "start_time": "2024-01-03T12:25:13.916Z"
   },
   {
    "duration": 277,
    "start_time": "2024-01-03T12:25:13.968Z"
   },
   {
    "duration": 267,
    "start_time": "2024-01-03T12:25:14.246Z"
   },
   {
    "duration": 284,
    "start_time": "2024-01-03T12:25:14.515Z"
   },
   {
    "duration": 54,
    "start_time": "2024-01-03T12:25:14.801Z"
   },
   {
    "duration": 33,
    "start_time": "2024-01-03T12:25:14.856Z"
   },
   {
    "duration": 128,
    "start_time": "2024-01-03T12:25:14.890Z"
   },
   {
    "duration": 91,
    "start_time": "2024-01-03T12:25:15.020Z"
   },
   {
    "duration": 57,
    "start_time": "2024-01-03T12:25:15.113Z"
   },
   {
    "duration": 28,
    "start_time": "2024-01-03T12:25:15.171Z"
   },
   {
    "duration": 47,
    "start_time": "2024-01-03T12:25:15.201Z"
   },
   {
    "duration": 26,
    "start_time": "2024-01-03T12:25:15.250Z"
   },
   {
    "duration": 28,
    "start_time": "2024-01-03T12:25:15.278Z"
   },
   {
    "duration": 31,
    "start_time": "2024-01-03T12:25:15.307Z"
   },
   {
    "duration": 21,
    "start_time": "2024-01-03T12:25:15.339Z"
   },
   {
    "duration": 2,
    "start_time": "2024-01-03T12:25:15.362Z"
   },
   {
    "duration": 185,
    "start_time": "2024-01-03T12:26:31.789Z"
   },
   {
    "duration": 282,
    "start_time": "2024-01-03T12:27:36.067Z"
   },
   {
    "duration": 16,
    "start_time": "2024-01-03T12:27:52.842Z"
   },
   {
    "duration": 16,
    "start_time": "2024-01-03T12:28:21.063Z"
   },
   {
    "duration": 2996,
    "start_time": "2024-01-03T12:28:25.863Z"
   },
   {
    "duration": 2529,
    "start_time": "2024-01-03T12:28:28.862Z"
   },
   {
    "duration": 2661,
    "start_time": "2024-01-03T12:28:31.393Z"
   },
   {
    "duration": 2654,
    "start_time": "2024-01-03T12:28:34.056Z"
   },
   {
    "duration": 9,
    "start_time": "2024-01-03T12:28:36.712Z"
   },
   {
    "duration": 801,
    "start_time": "2024-01-03T12:28:36.724Z"
   },
   {
    "duration": 149,
    "start_time": "2024-01-03T12:28:37.527Z"
   },
   {
    "duration": 378,
    "start_time": "2024-01-03T12:28:37.677Z"
   },
   {
    "duration": 15,
    "start_time": "2024-01-03T12:28:38.056Z"
   },
   {
    "duration": 6,
    "start_time": "2024-01-03T12:28:38.072Z"
   },
   {
    "duration": 129,
    "start_time": "2024-01-03T12:28:38.079Z"
   },
   {
    "duration": 16,
    "start_time": "2024-01-03T12:28:38.215Z"
   },
   {
    "duration": 1641,
    "start_time": "2024-01-03T12:28:38.234Z"
   },
   {
    "duration": 711,
    "start_time": "2024-01-03T12:28:39.878Z"
   },
   {
    "duration": 162,
    "start_time": "2024-01-03T12:28:40.591Z"
   },
   {
    "duration": 93,
    "start_time": "2024-01-03T12:28:40.755Z"
   },
   {
    "duration": 38,
    "start_time": "2024-01-03T12:28:40.850Z"
   },
   {
    "duration": 47,
    "start_time": "2024-01-03T12:28:40.890Z"
   },
   {
    "duration": 39,
    "start_time": "2024-01-03T12:28:40.939Z"
   },
   {
    "duration": 69,
    "start_time": "2024-01-03T12:28:40.980Z"
   },
   {
    "duration": 258,
    "start_time": "2024-01-03T12:28:41.051Z"
   },
   {
    "duration": 258,
    "start_time": "2024-01-03T12:28:41.310Z"
   },
   {
    "duration": 268,
    "start_time": "2024-01-03T12:28:41.570Z"
   },
   {
    "duration": 35,
    "start_time": "2024-01-03T12:28:41.840Z"
   },
   {
    "duration": 22,
    "start_time": "2024-01-03T12:28:41.877Z"
   },
   {
    "duration": 135,
    "start_time": "2024-01-03T12:28:41.901Z"
   },
   {
    "duration": 2,
    "start_time": "2024-01-03T12:28:42.038Z"
   },
   {
    "duration": 3,
    "start_time": "2024-01-03T12:28:42.042Z"
   },
   {
    "duration": 14,
    "start_time": "2024-01-03T12:28:42.047Z"
   },
   {
    "duration": 22,
    "start_time": "2024-01-03T12:28:42.062Z"
   },
   {
    "duration": 41,
    "start_time": "2024-01-03T12:28:42.086Z"
   },
   {
    "duration": 28,
    "start_time": "2024-01-03T12:28:42.129Z"
   },
   {
    "duration": 22,
    "start_time": "2024-01-03T12:28:42.158Z"
   },
   {
    "duration": 40,
    "start_time": "2024-01-03T12:28:42.181Z"
   },
   {
    "duration": 20,
    "start_time": "2024-01-03T12:28:42.226Z"
   },
   {
    "duration": 173,
    "start_time": "2024-01-03T12:28:42.248Z"
   },
   {
    "duration": 3,
    "start_time": "2024-01-03T12:28:42.422Z"
   },
   {
    "duration": 447,
    "start_time": "2024-01-03T12:31:59.269Z"
   },
   {
    "duration": 456,
    "start_time": "2024-01-03T12:33:38.679Z"
   },
   {
    "duration": 28,
    "start_time": "2024-01-03T12:37:41.739Z"
   },
   {
    "duration": 165,
    "start_time": "2024-01-03T12:37:42.822Z"
   },
   {
    "duration": 467,
    "start_time": "2024-01-03T12:37:51.151Z"
   },
   {
    "duration": 2939,
    "start_time": "2024-01-03T12:38:02.621Z"
   },
   {
    "duration": 2818,
    "start_time": "2024-01-03T12:38:05.563Z"
   },
   {
    "duration": 2628,
    "start_time": "2024-01-03T12:38:08.383Z"
   },
   {
    "duration": 2754,
    "start_time": "2024-01-03T12:38:11.013Z"
   },
   {
    "duration": 6,
    "start_time": "2024-01-03T12:38:13.770Z"
   },
   {
    "duration": 864,
    "start_time": "2024-01-03T12:38:13.778Z"
   },
   {
    "duration": 174,
    "start_time": "2024-01-03T12:38:14.644Z"
   },
   {
    "duration": 376,
    "start_time": "2024-01-03T12:38:14.820Z"
   },
   {
    "duration": 40,
    "start_time": "2024-01-03T12:38:15.197Z"
   },
   {
    "duration": 7,
    "start_time": "2024-01-03T12:38:15.239Z"
   },
   {
    "duration": 124,
    "start_time": "2024-01-03T12:38:15.247Z"
   },
   {
    "duration": 10,
    "start_time": "2024-01-03T12:38:15.372Z"
   },
   {
    "duration": 1685,
    "start_time": "2024-01-03T12:38:15.384Z"
   },
   {
    "duration": 701,
    "start_time": "2024-01-03T12:38:17.072Z"
   },
   {
    "duration": 265,
    "start_time": "2024-01-03T12:38:17.774Z"
   },
   {
    "duration": 122,
    "start_time": "2024-01-03T12:38:18.041Z"
   },
   {
    "duration": 43,
    "start_time": "2024-01-03T12:38:18.165Z"
   },
   {
    "duration": 46,
    "start_time": "2024-01-03T12:38:18.209Z"
   },
   {
    "duration": 50,
    "start_time": "2024-01-03T12:38:18.256Z"
   },
   {
    "duration": 61,
    "start_time": "2024-01-03T12:38:18.308Z"
   },
   {
    "duration": 222,
    "start_time": "2024-01-03T12:38:18.371Z"
   },
   {
    "duration": 225,
    "start_time": "2024-01-03T12:38:18.594Z"
   },
   {
    "duration": 235,
    "start_time": "2024-01-03T12:38:18.821Z"
   },
   {
    "duration": 36,
    "start_time": "2024-01-03T12:38:19.058Z"
   },
   {
    "duration": 50,
    "start_time": "2024-01-03T12:38:19.096Z"
   },
   {
    "duration": 112,
    "start_time": "2024-01-03T12:38:19.148Z"
   },
   {
    "duration": 2,
    "start_time": "2024-01-03T12:38:19.261Z"
   },
   {
    "duration": 14,
    "start_time": "2024-01-03T12:38:19.265Z"
   },
   {
    "duration": 5,
    "start_time": "2024-01-03T12:38:19.280Z"
   },
   {
    "duration": 28,
    "start_time": "2024-01-03T12:38:19.286Z"
   },
   {
    "duration": 29,
    "start_time": "2024-01-03T12:38:19.318Z"
   },
   {
    "duration": 20,
    "start_time": "2024-01-03T12:38:19.349Z"
   },
   {
    "duration": 23,
    "start_time": "2024-01-03T12:38:19.371Z"
   },
   {
    "duration": 35,
    "start_time": "2024-01-03T12:38:19.416Z"
   },
   {
    "duration": 17,
    "start_time": "2024-01-03T12:38:19.452Z"
   },
   {
    "duration": 57,
    "start_time": "2024-01-03T12:38:19.470Z"
   },
   {
    "duration": 186,
    "start_time": "2024-01-03T12:38:19.529Z"
   },
   {
    "duration": 488,
    "start_time": "2024-01-03T12:38:19.717Z"
   },
   {
    "duration": 2,
    "start_time": "2024-01-03T12:38:20.206Z"
   },
   {
    "duration": 3115,
    "start_time": "2024-01-03T13:36:30.665Z"
   },
   {
    "duration": 2687,
    "start_time": "2024-01-03T13:36:33.783Z"
   },
   {
    "duration": 2721,
    "start_time": "2024-01-03T13:36:36.472Z"
   },
   {
    "duration": 2643,
    "start_time": "2024-01-03T13:36:39.196Z"
   },
   {
    "duration": 6,
    "start_time": "2024-01-03T13:36:41.841Z"
   },
   {
    "duration": 789,
    "start_time": "2024-01-03T13:36:41.848Z"
   },
   {
    "duration": 138,
    "start_time": "2024-01-03T13:36:42.638Z"
   },
   {
    "duration": 383,
    "start_time": "2024-01-03T13:36:42.777Z"
   },
   {
    "duration": 14,
    "start_time": "2024-01-03T13:36:43.161Z"
   },
   {
    "duration": 4,
    "start_time": "2024-01-03T13:36:43.177Z"
   },
   {
    "duration": 110,
    "start_time": "2024-01-03T13:36:43.182Z"
   },
   {
    "duration": 19,
    "start_time": "2024-01-03T13:36:43.294Z"
   },
   {
    "duration": 1660,
    "start_time": "2024-01-03T13:36:43.314Z"
   },
   {
    "duration": 684,
    "start_time": "2024-01-03T13:36:44.975Z"
   },
   {
    "duration": 163,
    "start_time": "2024-01-03T13:36:45.660Z"
   },
   {
    "duration": 115,
    "start_time": "2024-01-03T13:36:45.826Z"
   },
   {
    "duration": 35,
    "start_time": "2024-01-03T13:36:45.943Z"
   },
   {
    "duration": 41,
    "start_time": "2024-01-03T13:36:45.979Z"
   },
   {
    "duration": 37,
    "start_time": "2024-01-03T13:36:46.022Z"
   },
   {
    "duration": 55,
    "start_time": "2024-01-03T13:36:46.061Z"
   },
   {
    "duration": 232,
    "start_time": "2024-01-03T13:36:46.120Z"
   },
   {
    "duration": 238,
    "start_time": "2024-01-03T13:36:46.354Z"
   },
   {
    "duration": 264,
    "start_time": "2024-01-03T13:36:46.594Z"
   },
   {
    "duration": 39,
    "start_time": "2024-01-03T13:36:46.859Z"
   },
   {
    "duration": 49,
    "start_time": "2024-01-03T13:36:46.899Z"
   },
   {
    "duration": 96,
    "start_time": "2024-01-03T13:36:46.950Z"
   },
   {
    "duration": 2,
    "start_time": "2024-01-03T13:36:47.048Z"
   },
   {
    "duration": 4,
    "start_time": "2024-01-03T13:36:47.053Z"
   },
   {
    "duration": 5,
    "start_time": "2024-01-03T13:36:47.058Z"
   },
   {
    "duration": 23,
    "start_time": "2024-01-03T13:36:47.065Z"
   },
   {
    "duration": 33,
    "start_time": "2024-01-03T13:36:47.089Z"
   },
   {
    "duration": 21,
    "start_time": "2024-01-03T13:36:47.126Z"
   },
   {
    "duration": 24,
    "start_time": "2024-01-03T13:36:47.149Z"
   },
   {
    "duration": 51,
    "start_time": "2024-01-03T13:36:47.175Z"
   },
   {
    "duration": 21,
    "start_time": "2024-01-03T13:36:47.229Z"
   },
   {
    "duration": 29,
    "start_time": "2024-01-03T13:36:47.251Z"
   },
   {
    "duration": 176,
    "start_time": "2024-01-03T13:36:47.282Z"
   },
   {
    "duration": 468,
    "start_time": "2024-01-03T13:36:47.459Z"
   },
   {
    "duration": 3,
    "start_time": "2024-01-03T13:36:47.929Z"
   },
   {
    "duration": 156,
    "start_time": "2024-01-03T13:39:55.939Z"
   },
   {
    "duration": 8,
    "start_time": "2024-01-03T13:40:53.347Z"
   },
   {
    "duration": 158,
    "start_time": "2024-01-03T13:41:34.171Z"
   },
   {
    "duration": 3069,
    "start_time": "2024-01-03T13:41:37.129Z"
   },
   {
    "duration": 2708,
    "start_time": "2024-01-03T13:41:40.201Z"
   },
   {
    "duration": 2636,
    "start_time": "2024-01-03T13:41:42.911Z"
   },
   {
    "duration": 2588,
    "start_time": "2024-01-03T13:41:45.549Z"
   },
   {
    "duration": 9,
    "start_time": "2024-01-03T13:41:48.140Z"
   },
   {
    "duration": 820,
    "start_time": "2024-01-03T13:41:48.150Z"
   },
   {
    "duration": 152,
    "start_time": "2024-01-03T13:41:48.971Z"
   },
   {
    "duration": 434,
    "start_time": "2024-01-03T13:41:49.125Z"
   },
   {
    "duration": 15,
    "start_time": "2024-01-03T13:41:49.561Z"
   },
   {
    "duration": 5,
    "start_time": "2024-01-03T13:41:49.578Z"
   },
   {
    "duration": 111,
    "start_time": "2024-01-03T13:41:49.585Z"
   },
   {
    "duration": 27,
    "start_time": "2024-01-03T13:41:49.698Z"
   },
   {
    "duration": 1639,
    "start_time": "2024-01-03T13:41:49.726Z"
   },
   {
    "duration": 786,
    "start_time": "2024-01-03T13:41:51.367Z"
   },
   {
    "duration": 143,
    "start_time": "2024-01-03T13:41:52.154Z"
   },
   {
    "duration": 96,
    "start_time": "2024-01-03T13:41:52.298Z"
   },
   {
    "duration": 42,
    "start_time": "2024-01-03T13:41:52.395Z"
   },
   {
    "duration": 24,
    "start_time": "2024-01-03T13:41:52.439Z"
   },
   {
    "duration": 56,
    "start_time": "2024-01-03T13:41:52.465Z"
   },
   {
    "duration": 39,
    "start_time": "2024-01-03T13:41:52.523Z"
   },
   {
    "duration": 236,
    "start_time": "2024-01-03T13:41:52.563Z"
   },
   {
    "duration": 242,
    "start_time": "2024-01-03T13:41:52.800Z"
   },
   {
    "duration": 242,
    "start_time": "2024-01-03T13:41:53.043Z"
   },
   {
    "duration": 60,
    "start_time": "2024-01-03T13:41:53.286Z"
   },
   {
    "duration": 22,
    "start_time": "2024-01-03T13:41:53.348Z"
   },
   {
    "duration": 118,
    "start_time": "2024-01-03T13:41:53.372Z"
   },
   {
    "duration": 2,
    "start_time": "2024-01-03T13:41:53.492Z"
   },
   {
    "duration": 4,
    "start_time": "2024-01-03T13:41:53.495Z"
   },
   {
    "duration": 15,
    "start_time": "2024-01-03T13:41:53.500Z"
   },
   {
    "duration": 25,
    "start_time": "2024-01-03T13:41:53.517Z"
   },
   {
    "duration": 20,
    "start_time": "2024-01-03T13:41:53.543Z"
   },
   {
    "duration": 22,
    "start_time": "2024-01-03T13:41:53.564Z"
   },
   {
    "duration": 45,
    "start_time": "2024-01-03T13:41:53.587Z"
   },
   {
    "duration": 20,
    "start_time": "2024-01-03T13:41:53.635Z"
   },
   {
    "duration": 16,
    "start_time": "2024-01-03T13:41:53.656Z"
   },
   {
    "duration": 48,
    "start_time": "2024-01-03T13:41:53.673Z"
   },
   {
    "duration": 178,
    "start_time": "2024-01-03T13:41:53.724Z"
   },
   {
    "duration": 454,
    "start_time": "2024-01-03T13:41:53.903Z"
   },
   {
    "duration": 2,
    "start_time": "2024-01-03T13:41:54.359Z"
   },
   {
    "duration": 15,
    "start_time": "2024-01-03T13:42:04.745Z"
   },
   {
    "duration": 218,
    "start_time": "2024-01-03T13:45:15.989Z"
   },
   {
    "duration": 42,
    "start_time": "2024-01-03T13:45:48.726Z"
   },
   {
    "duration": 152,
    "start_time": "2024-01-03T13:45:54.542Z"
   },
   {
    "duration": 439,
    "start_time": "2024-01-03T13:45:57.470Z"
   },
   {
    "duration": 5,
    "start_time": "2024-01-03T13:50:17.289Z"
   },
   {
    "duration": 5,
    "start_time": "2024-01-03T13:50:20.463Z"
   },
   {
    "duration": 93,
    "start_time": "2024-01-03T13:50:20.469Z"
   },
   {
    "duration": 10,
    "start_time": "2024-01-03T13:50:20.563Z"
   },
   {
    "duration": 1467,
    "start_time": "2024-01-03T13:50:20.575Z"
   },
   {
    "duration": 406,
    "start_time": "2024-01-03T13:50:22.044Z"
   },
   {
    "duration": 151,
    "start_time": "2024-01-03T13:50:22.452Z"
   },
   {
    "duration": 118,
    "start_time": "2024-01-03T13:50:22.605Z"
   },
   {
    "duration": 44,
    "start_time": "2024-01-03T13:50:22.726Z"
   },
   {
    "duration": 20,
    "start_time": "2024-01-03T13:50:22.772Z"
   },
   {
    "duration": 50,
    "start_time": "2024-01-03T13:50:22.814Z"
   },
   {
    "duration": 50,
    "start_time": "2024-01-03T13:50:22.865Z"
   },
   {
    "duration": 259,
    "start_time": "2024-01-03T13:50:22.917Z"
   },
   {
    "duration": 247,
    "start_time": "2024-01-03T13:50:23.178Z"
   },
   {
    "duration": 240,
    "start_time": "2024-01-03T13:50:23.430Z"
   },
   {
    "duration": 44,
    "start_time": "2024-01-03T13:50:23.672Z"
   },
   {
    "duration": 34,
    "start_time": "2024-01-03T13:50:23.718Z"
   },
   {
    "duration": 137,
    "start_time": "2024-01-03T13:50:23.754Z"
   },
   {
    "duration": 3,
    "start_time": "2024-01-03T13:50:23.893Z"
   },
   {
    "duration": 18,
    "start_time": "2024-01-03T13:50:23.897Z"
   },
   {
    "duration": 14,
    "start_time": "2024-01-03T13:50:23.920Z"
   },
   {
    "duration": 24,
    "start_time": "2024-01-03T13:50:23.936Z"
   },
   {
    "duration": 26,
    "start_time": "2024-01-03T13:50:23.962Z"
   },
   {
    "duration": 19,
    "start_time": "2024-01-03T13:50:23.990Z"
   },
   {
    "duration": 40,
    "start_time": "2024-01-03T13:50:24.011Z"
   },
   {
    "duration": 20,
    "start_time": "2024-01-03T13:50:24.052Z"
   },
   {
    "duration": 15,
    "start_time": "2024-01-03T13:50:24.073Z"
   },
   {
    "duration": 72,
    "start_time": "2024-01-03T13:50:24.089Z"
   },
   {
    "duration": 38,
    "start_time": "2024-01-03T13:50:24.163Z"
   },
   {
    "duration": 171,
    "start_time": "2024-01-03T13:50:24.203Z"
   },
   {
    "duration": 482,
    "start_time": "2024-01-03T13:50:24.376Z"
   },
   {
    "duration": 2,
    "start_time": "2024-01-03T13:50:24.860Z"
   },
   {
    "duration": 242,
    "start_time": "2024-01-03T13:51:37.044Z"
   },
   {
    "duration": 14,
    "start_time": "2024-01-03T13:52:47.915Z"
   },
   {
    "duration": 232,
    "start_time": "2024-01-03T13:55:06.551Z"
   },
   {
    "duration": 2762,
    "start_time": "2024-01-03T16:43:36.825Z"
   },
   {
    "duration": 2429,
    "start_time": "2024-01-03T16:43:39.590Z"
   },
   {
    "duration": 2418,
    "start_time": "2024-01-03T16:43:42.021Z"
   },
   {
    "duration": 2509,
    "start_time": "2024-01-03T16:43:44.441Z"
   },
   {
    "duration": 6,
    "start_time": "2024-01-03T16:43:46.953Z"
   },
   {
    "duration": 814,
    "start_time": "2024-01-03T16:43:46.961Z"
   },
   {
    "duration": 151,
    "start_time": "2024-01-03T16:43:47.777Z"
   },
   {
    "duration": 386,
    "start_time": "2024-01-03T16:43:47.929Z"
   },
   {
    "duration": 18,
    "start_time": "2024-01-03T16:43:48.316Z"
   },
   {
    "duration": 16,
    "start_time": "2024-01-03T16:43:48.336Z"
   },
   {
    "duration": 0,
    "start_time": "2024-01-03T16:43:48.354Z"
   },
   {
    "duration": 0,
    "start_time": "2024-01-03T16:43:48.355Z"
   },
   {
    "duration": 0,
    "start_time": "2024-01-03T16:43:48.356Z"
   },
   {
    "duration": 0,
    "start_time": "2024-01-03T16:43:48.357Z"
   },
   {
    "duration": 0,
    "start_time": "2024-01-03T16:43:48.358Z"
   },
   {
    "duration": 0,
    "start_time": "2024-01-03T16:43:48.359Z"
   },
   {
    "duration": 0,
    "start_time": "2024-01-03T16:43:48.360Z"
   },
   {
    "duration": 0,
    "start_time": "2024-01-03T16:43:48.361Z"
   },
   {
    "duration": 0,
    "start_time": "2024-01-03T16:43:48.362Z"
   },
   {
    "duration": 0,
    "start_time": "2024-01-03T16:43:48.363Z"
   },
   {
    "duration": 0,
    "start_time": "2024-01-03T16:43:48.364Z"
   },
   {
    "duration": 0,
    "start_time": "2024-01-03T16:43:48.365Z"
   },
   {
    "duration": 0,
    "start_time": "2024-01-03T16:43:48.366Z"
   },
   {
    "duration": 0,
    "start_time": "2024-01-03T16:43:48.367Z"
   },
   {
    "duration": 0,
    "start_time": "2024-01-03T16:43:48.368Z"
   },
   {
    "duration": 0,
    "start_time": "2024-01-03T16:43:48.369Z"
   },
   {
    "duration": 0,
    "start_time": "2024-01-03T16:43:48.370Z"
   },
   {
    "duration": 0,
    "start_time": "2024-01-03T16:43:48.371Z"
   },
   {
    "duration": 0,
    "start_time": "2024-01-03T16:43:48.372Z"
   },
   {
    "duration": 0,
    "start_time": "2024-01-03T16:43:48.373Z"
   },
   {
    "duration": 0,
    "start_time": "2024-01-03T16:43:48.374Z"
   },
   {
    "duration": 0,
    "start_time": "2024-01-03T16:43:48.415Z"
   },
   {
    "duration": 0,
    "start_time": "2024-01-03T16:43:48.416Z"
   },
   {
    "duration": 0,
    "start_time": "2024-01-03T16:43:48.417Z"
   },
   {
    "duration": 0,
    "start_time": "2024-01-03T16:43:48.418Z"
   },
   {
    "duration": 0,
    "start_time": "2024-01-03T16:43:48.419Z"
   },
   {
    "duration": 0,
    "start_time": "2024-01-03T16:43:48.420Z"
   },
   {
    "duration": 0,
    "start_time": "2024-01-03T16:43:48.421Z"
   },
   {
    "duration": 0,
    "start_time": "2024-01-03T16:43:48.422Z"
   },
   {
    "duration": 0,
    "start_time": "2024-01-03T16:43:48.423Z"
   },
   {
    "duration": 0,
    "start_time": "2024-01-03T16:43:48.424Z"
   },
   {
    "duration": 30,
    "start_time": "2024-01-03T16:49:26.452Z"
   },
   {
    "duration": 5,
    "start_time": "2024-01-03T16:49:28.001Z"
   },
   {
    "duration": 5,
    "start_time": "2024-01-03T16:49:31.655Z"
   },
   {
    "duration": 107,
    "start_time": "2024-01-03T16:49:31.662Z"
   },
   {
    "duration": 17,
    "start_time": "2024-01-03T16:49:31.770Z"
   },
   {
    "duration": 1574,
    "start_time": "2024-01-03T16:49:31.789Z"
   },
   {
    "duration": 146,
    "start_time": "2024-01-03T16:49:33.365Z"
   },
   {
    "duration": 110,
    "start_time": "2024-01-03T16:49:33.512Z"
   },
   {
    "duration": 36,
    "start_time": "2024-01-03T16:49:33.623Z"
   },
   {
    "duration": 29,
    "start_time": "2024-01-03T16:49:33.660Z"
   },
   {
    "duration": 55,
    "start_time": "2024-01-03T16:49:33.691Z"
   },
   {
    "duration": 39,
    "start_time": "2024-01-03T16:49:33.748Z"
   },
   {
    "duration": 241,
    "start_time": "2024-01-03T16:49:33.789Z"
   },
   {
    "duration": 231,
    "start_time": "2024-01-03T16:49:34.031Z"
   },
   {
    "duration": 224,
    "start_time": "2024-01-03T16:49:34.264Z"
   },
   {
    "duration": 41,
    "start_time": "2024-01-03T16:49:34.491Z"
   },
   {
    "duration": 22,
    "start_time": "2024-01-03T16:49:34.534Z"
   },
   {
    "duration": 102,
    "start_time": "2024-01-03T16:49:34.558Z"
   },
   {
    "duration": 2,
    "start_time": "2024-01-03T16:49:34.661Z"
   },
   {
    "duration": 7,
    "start_time": "2024-01-03T16:49:34.664Z"
   },
   {
    "duration": 4,
    "start_time": "2024-01-03T16:49:34.672Z"
   },
   {
    "duration": 23,
    "start_time": "2024-01-03T16:49:34.677Z"
   },
   {
    "duration": 32,
    "start_time": "2024-01-03T16:49:34.702Z"
   },
   {
    "duration": 21,
    "start_time": "2024-01-03T16:49:34.735Z"
   },
   {
    "duration": 22,
    "start_time": "2024-01-03T16:49:34.757Z"
   },
   {
    "duration": 39,
    "start_time": "2024-01-03T16:49:34.780Z"
   },
   {
    "duration": 17,
    "start_time": "2024-01-03T16:49:34.820Z"
   },
   {
    "duration": 30,
    "start_time": "2024-01-03T16:49:34.838Z"
   },
   {
    "duration": 62,
    "start_time": "2024-01-03T16:49:34.870Z"
   },
   {
    "duration": 167,
    "start_time": "2024-01-03T16:49:34.933Z"
   },
   {
    "duration": 429,
    "start_time": "2024-01-03T16:49:35.101Z"
   },
   {
    "duration": 242,
    "start_time": "2024-01-03T16:49:35.531Z"
   },
   {
    "duration": 20,
    "start_time": "2024-01-03T16:49:35.775Z"
   },
   {
    "duration": 3,
    "start_time": "2024-01-03T16:49:35.797Z"
   },
   {
    "duration": 1155,
    "start_time": "2024-01-03T16:51:44.039Z"
   },
   {
    "duration": 4,
    "start_time": "2024-01-03T16:53:01.419Z"
   },
   {
    "duration": 32,
    "start_time": "2024-01-03T16:53:17.131Z"
   },
   {
    "duration": 4,
    "start_time": "2024-01-03T16:53:19.665Z"
   },
   {
    "duration": 47,
    "start_time": "2024-01-03T16:53:56.948Z"
   },
   {
    "duration": 4,
    "start_time": "2024-01-03T16:53:58.522Z"
   },
   {
    "duration": 69,
    "start_time": "2024-01-03T16:54:12.050Z"
   },
   {
    "duration": 24,
    "start_time": "2024-01-03T16:54:17.760Z"
   },
   {
    "duration": 4,
    "start_time": "2024-01-03T16:54:19.636Z"
   },
   {
    "duration": 2707,
    "start_time": "2024-01-03T16:54:23.402Z"
   },
   {
    "duration": 2619,
    "start_time": "2024-01-03T16:54:26.111Z"
   },
   {
    "duration": 2510,
    "start_time": "2024-01-03T16:54:28.732Z"
   },
   {
    "duration": 2459,
    "start_time": "2024-01-03T16:54:31.243Z"
   },
   {
    "duration": 10,
    "start_time": "2024-01-03T16:54:33.705Z"
   },
   {
    "duration": 766,
    "start_time": "2024-01-03T16:54:33.716Z"
   },
   {
    "duration": 144,
    "start_time": "2024-01-03T16:54:34.483Z"
   },
   {
    "duration": 404,
    "start_time": "2024-01-03T16:54:34.629Z"
   },
   {
    "duration": 73,
    "start_time": "2024-01-03T16:54:35.035Z"
   },
   {
    "duration": 3,
    "start_time": "2024-01-03T16:54:35.115Z"
   },
   {
    "duration": 22,
    "start_time": "2024-01-03T16:54:35.120Z"
   },
   {
    "duration": 112,
    "start_time": "2024-01-03T16:54:35.144Z"
   },
   {
    "duration": 10,
    "start_time": "2024-01-03T16:54:35.258Z"
   },
   {
    "duration": 1579,
    "start_time": "2024-01-03T16:54:35.271Z"
   },
   {
    "duration": 243,
    "start_time": "2024-01-03T16:54:36.851Z"
   },
   {
    "duration": 104,
    "start_time": "2024-01-03T16:54:37.096Z"
   },
   {
    "duration": 41,
    "start_time": "2024-01-03T16:54:37.202Z"
   },
   {
    "duration": 26,
    "start_time": "2024-01-03T16:54:37.245Z"
   },
   {
    "duration": 56,
    "start_time": "2024-01-03T16:54:37.273Z"
   },
   {
    "duration": 40,
    "start_time": "2024-01-03T16:54:37.330Z"
   },
   {
    "duration": 242,
    "start_time": "2024-01-03T16:54:37.372Z"
   },
   {
    "duration": 224,
    "start_time": "2024-01-03T16:54:37.616Z"
   },
   {
    "duration": 227,
    "start_time": "2024-01-03T16:54:37.842Z"
   },
   {
    "duration": 45,
    "start_time": "2024-01-03T16:54:38.070Z"
   },
   {
    "duration": 23,
    "start_time": "2024-01-03T16:54:38.117Z"
   },
   {
    "duration": 103,
    "start_time": "2024-01-03T16:54:38.142Z"
   },
   {
    "duration": 3,
    "start_time": "2024-01-03T16:54:38.246Z"
   },
   {
    "duration": 18,
    "start_time": "2024-01-03T16:54:38.250Z"
   },
   {
    "duration": 9,
    "start_time": "2024-01-03T16:54:38.270Z"
   },
   {
    "duration": 55,
    "start_time": "2024-01-03T16:54:38.281Z"
   },
   {
    "duration": 19,
    "start_time": "2024-01-03T16:54:38.337Z"
   },
   {
    "duration": 21,
    "start_time": "2024-01-03T16:54:38.357Z"
   },
   {
    "duration": 39,
    "start_time": "2024-01-03T16:54:38.379Z"
   },
   {
    "duration": 19,
    "start_time": "2024-01-03T16:54:38.420Z"
   },
   {
    "duration": 15,
    "start_time": "2024-01-03T16:54:38.440Z"
   },
   {
    "duration": 28,
    "start_time": "2024-01-03T16:54:38.456Z"
   },
   {
    "duration": 65,
    "start_time": "2024-01-03T16:54:38.485Z"
   },
   {
    "duration": 155,
    "start_time": "2024-01-03T16:54:38.552Z"
   },
   {
    "duration": 423,
    "start_time": "2024-01-03T16:54:38.709Z"
   },
   {
    "duration": 238,
    "start_time": "2024-01-03T16:54:39.133Z"
   },
   {
    "duration": 15,
    "start_time": "2024-01-03T16:54:39.375Z"
   },
   {
    "duration": 71,
    "start_time": "2024-01-03T16:54:39.392Z"
   },
   {
    "duration": 3,
    "start_time": "2024-01-03T16:54:39.464Z"
   },
   {
    "duration": 30,
    "start_time": "2024-01-03T16:56:15.546Z"
   },
   {
    "duration": 21,
    "start_time": "2024-01-03T16:56:49.471Z"
   },
   {
    "duration": 14,
    "start_time": "2024-01-03T16:59:22.932Z"
   },
   {
    "duration": 247,
    "start_time": "2024-01-03T16:59:49.122Z"
   },
   {
    "duration": 252,
    "start_time": "2024-01-03T17:01:08.683Z"
   },
   {
    "duration": 266,
    "start_time": "2024-01-03T17:01:17.936Z"
   },
   {
    "duration": 380,
    "start_time": "2024-01-03T17:03:02.714Z"
   },
   {
    "duration": 275,
    "start_time": "2024-01-03T17:03:20.408Z"
   },
   {
    "duration": 261,
    "start_time": "2024-01-03T17:03:29.460Z"
   },
   {
    "duration": 271,
    "start_time": "2024-01-03T17:03:36.360Z"
   },
   {
    "duration": 22,
    "start_time": "2024-01-03T17:05:41.932Z"
   },
   {
    "duration": 267,
    "start_time": "2024-01-03T17:05:50.316Z"
   },
   {
    "duration": 357,
    "start_time": "2024-01-03T17:05:58.278Z"
   },
   {
    "duration": 208,
    "start_time": "2024-01-03T17:06:04.618Z"
   },
   {
    "duration": 21,
    "start_time": "2024-01-03T17:08:26.699Z"
   },
   {
    "duration": 206,
    "start_time": "2024-01-03T17:08:29.119Z"
   },
   {
    "duration": 210,
    "start_time": "2024-01-03T17:08:36.841Z"
   },
   {
    "duration": 16,
    "start_time": "2024-01-03T17:13:05.000Z"
   },
   {
    "duration": 200,
    "start_time": "2024-01-03T17:13:42.447Z"
   },
   {
    "duration": 21,
    "start_time": "2024-01-03T17:14:14.200Z"
   },
   {
    "duration": 208,
    "start_time": "2024-01-03T17:14:15.340Z"
   },
   {
    "duration": 21,
    "start_time": "2024-01-03T17:15:51.476Z"
   },
   {
    "duration": 181,
    "start_time": "2024-01-03T17:16:16.799Z"
   },
   {
    "duration": 182,
    "start_time": "2024-01-03T17:16:27.647Z"
   },
   {
    "duration": 20,
    "start_time": "2024-01-03T17:16:44.760Z"
   },
   {
    "duration": 14,
    "start_time": "2024-01-03T17:17:06.045Z"
   },
   {
    "duration": 213,
    "start_time": "2024-01-03T17:17:16.267Z"
   },
   {
    "duration": 223,
    "start_time": "2024-01-03T17:17:22.324Z"
   },
   {
    "duration": 21,
    "start_time": "2024-01-03T17:19:01.653Z"
   },
   {
    "duration": 14,
    "start_time": "2024-01-03T17:19:03.723Z"
   },
   {
    "duration": 198,
    "start_time": "2024-01-03T17:19:04.870Z"
   },
   {
    "duration": 18,
    "start_time": "2024-01-03T17:22:31.559Z"
   },
   {
    "duration": 8,
    "start_time": "2024-01-03T17:23:14.583Z"
   },
   {
    "duration": 3,
    "start_time": "2024-01-03T17:23:19.411Z"
   },
   {
    "duration": 5324,
    "start_time": "2024-01-04T08:07:41.177Z"
   },
   {
    "duration": 3212,
    "start_time": "2024-01-04T08:07:46.504Z"
   },
   {
    "duration": 6385,
    "start_time": "2024-01-04T08:07:49.718Z"
   },
   {
    "duration": 3194,
    "start_time": "2024-01-04T08:07:56.106Z"
   },
   {
    "duration": 1557,
    "start_time": "2024-01-04T08:07:59.316Z"
   },
   {
    "duration": 1233,
    "start_time": "2024-01-04T08:08:00.875Z"
   },
   {
    "duration": 156,
    "start_time": "2024-01-04T08:08:02.110Z"
   },
   {
    "duration": 477,
    "start_time": "2024-01-04T08:08:02.268Z"
   },
   {
    "duration": 101,
    "start_time": "2024-01-04T08:08:02.747Z"
   },
   {
    "duration": 6,
    "start_time": "2024-01-04T08:08:02.850Z"
   },
   {
    "duration": 79,
    "start_time": "2024-01-04T08:08:02.858Z"
   },
   {
    "duration": 113,
    "start_time": "2024-01-04T08:08:02.938Z"
   },
   {
    "duration": 110,
    "start_time": "2024-01-04T08:08:03.054Z"
   },
   {
    "duration": 1640,
    "start_time": "2024-01-04T08:08:03.168Z"
   },
   {
    "duration": 98,
    "start_time": "2024-01-04T08:08:04.809Z"
   },
   {
    "duration": 150,
    "start_time": "2024-01-04T08:08:04.909Z"
   },
   {
    "duration": 27,
    "start_time": "2024-01-04T08:08:05.061Z"
   },
   {
    "duration": 56,
    "start_time": "2024-01-04T08:08:05.090Z"
   },
   {
    "duration": 49,
    "start_time": "2024-01-04T08:08:05.149Z"
   },
   {
    "duration": 280,
    "start_time": "2024-01-04T08:08:05.199Z"
   },
   {
    "duration": 289,
    "start_time": "2024-01-04T08:08:05.480Z"
   },
   {
    "duration": 274,
    "start_time": "2024-01-04T08:08:05.770Z"
   },
   {
    "duration": 34,
    "start_time": "2024-01-04T08:08:06.046Z"
   },
   {
    "duration": 97,
    "start_time": "2024-01-04T08:08:06.081Z"
   },
   {
    "duration": 21,
    "start_time": "2024-01-04T08:08:06.180Z"
   },
   {
    "duration": 42,
    "start_time": "2024-01-04T08:08:06.202Z"
   },
   {
    "duration": 25,
    "start_time": "2024-01-04T08:08:06.245Z"
   },
   {
    "duration": 23,
    "start_time": "2024-01-04T08:08:06.272Z"
   },
   {
    "duration": 19,
    "start_time": "2024-01-04T08:08:06.296Z"
   },
   {
    "duration": 24,
    "start_time": "2024-01-04T08:08:06.343Z"
   },
   {
    "duration": 30,
    "start_time": "2024-01-04T08:08:06.369Z"
   },
   {
    "duration": 87,
    "start_time": "2024-01-04T08:08:06.401Z"
   },
   {
    "duration": 186,
    "start_time": "2024-01-04T08:08:06.489Z"
   },
   {
    "duration": 554,
    "start_time": "2024-01-04T08:08:06.676Z"
   },
   {
    "duration": 256,
    "start_time": "2024-01-04T08:08:07.232Z"
   },
   {
    "duration": 15,
    "start_time": "2024-01-04T08:08:07.490Z"
   },
   {
    "duration": 76,
    "start_time": "2024-01-04T08:08:07.507Z"
   },
   {
    "duration": 24,
    "start_time": "2024-01-04T08:08:07.585Z"
   },
   {
    "duration": 32,
    "start_time": "2024-01-04T08:08:07.611Z"
   },
   {
    "duration": 285,
    "start_time": "2024-01-04T08:08:07.650Z"
   },
   {
    "duration": 24,
    "start_time": "2024-01-04T08:08:07.938Z"
   },
   {
    "duration": 236,
    "start_time": "2024-01-04T08:08:07.964Z"
   },
   {
    "duration": 15,
    "start_time": "2024-01-04T08:08:08.202Z"
   },
   {
    "duration": 47,
    "start_time": "2024-01-04T08:08:08.218Z"
   },
   {
    "duration": 252,
    "start_time": "2024-01-04T08:08:08.268Z"
   },
   {
    "duration": 28,
    "start_time": "2024-01-04T08:08:08.522Z"
   },
   {
    "duration": 212,
    "start_time": "2024-01-04T08:08:08.552Z"
   },
   {
    "duration": 22,
    "start_time": "2024-01-04T08:08:08.766Z"
   },
   {
    "duration": 15,
    "start_time": "2024-01-04T08:08:08.790Z"
   },
   {
    "duration": 242,
    "start_time": "2024-01-04T08:08:08.806Z"
   },
   {
    "duration": 5,
    "start_time": "2024-01-04T08:08:09.050Z"
   },
   {
    "duration": 141,
    "start_time": "2024-01-04T08:08:09.057Z"
   },
   {
    "duration": 3,
    "start_time": "2024-01-04T08:08:09.199Z"
   },
   {
    "duration": 3,
    "start_time": "2024-01-04T08:08:09.204Z"
   },
   {
    "duration": 8,
    "start_time": "2024-01-04T08:08:09.208Z"
   },
   {
    "duration": 4976,
    "start_time": "2024-01-04T20:50:22.122Z"
   },
   {
    "duration": 3125,
    "start_time": "2024-01-04T20:50:27.100Z"
   },
   {
    "duration": 5961,
    "start_time": "2024-01-04T20:50:30.227Z"
   },
   {
    "duration": 3003,
    "start_time": "2024-01-04T20:50:36.191Z"
   },
   {
    "duration": 1430,
    "start_time": "2024-01-04T20:50:39.196Z"
   },
   {
    "duration": 1109,
    "start_time": "2024-01-04T20:50:40.627Z"
   },
   {
    "duration": 140,
    "start_time": "2024-01-04T20:50:41.738Z"
   },
   {
    "duration": 466,
    "start_time": "2024-01-04T20:50:41.880Z"
   },
   {
    "duration": 86,
    "start_time": "2024-01-04T20:50:42.347Z"
   },
   {
    "duration": 5,
    "start_time": "2024-01-04T20:50:42.435Z"
   },
   {
    "duration": 18,
    "start_time": "2024-01-04T20:50:42.441Z"
   },
   {
    "duration": 106,
    "start_time": "2024-01-04T20:50:42.464Z"
   },
   {
    "duration": 88,
    "start_time": "2024-01-04T20:50:42.572Z"
   },
   {
    "duration": 1613,
    "start_time": "2024-01-04T20:50:42.665Z"
   },
   {
    "duration": 89,
    "start_time": "2024-01-04T20:50:44.279Z"
   },
   {
    "duration": 144,
    "start_time": "2024-01-04T20:50:44.370Z"
   },
   {
    "duration": 35,
    "start_time": "2024-01-04T20:50:44.516Z"
   },
   {
    "duration": 41,
    "start_time": "2024-01-04T20:50:44.553Z"
   },
   {
    "duration": 41,
    "start_time": "2024-01-04T20:50:44.595Z"
   },
   {
    "duration": 228,
    "start_time": "2024-01-04T20:50:44.637Z"
   },
   {
    "duration": 220,
    "start_time": "2024-01-04T20:50:44.867Z"
   },
   {
    "duration": 224,
    "start_time": "2024-01-04T20:50:45.089Z"
   },
   {
    "duration": 21,
    "start_time": "2024-01-04T20:50:45.315Z"
   },
   {
    "duration": 97,
    "start_time": "2024-01-04T20:50:45.338Z"
   },
   {
    "duration": 29,
    "start_time": "2024-01-04T20:50:45.436Z"
   },
   {
    "duration": 19,
    "start_time": "2024-01-04T20:50:45.467Z"
   },
   {
    "duration": 32,
    "start_time": "2024-01-04T20:50:45.487Z"
   },
   {
    "duration": 22,
    "start_time": "2024-01-04T20:50:45.523Z"
   },
   {
    "duration": 28,
    "start_time": "2024-01-04T20:50:45.546Z"
   },
   {
    "duration": 15,
    "start_time": "2024-01-04T20:50:45.575Z"
   },
   {
    "duration": 29,
    "start_time": "2024-01-04T20:50:45.592Z"
   },
   {
    "duration": 86,
    "start_time": "2024-01-04T20:50:45.623Z"
   },
   {
    "duration": 226,
    "start_time": "2024-01-04T20:50:45.711Z"
   },
   {
    "duration": 389,
    "start_time": "2024-01-04T20:50:45.939Z"
   },
   {
    "duration": 237,
    "start_time": "2024-01-04T20:50:46.329Z"
   },
   {
    "duration": 15,
    "start_time": "2024-01-04T20:50:46.567Z"
   },
   {
    "duration": 61,
    "start_time": "2024-01-04T20:50:46.583Z"
   },
   {
    "duration": 41,
    "start_time": "2024-01-04T20:50:46.646Z"
   },
   {
    "duration": 14,
    "start_time": "2024-01-04T20:50:46.688Z"
   },
   {
    "duration": 294,
    "start_time": "2024-01-04T20:50:46.704Z"
   },
   {
    "duration": 21,
    "start_time": "2024-01-04T20:50:46.999Z"
   },
   {
    "duration": 196,
    "start_time": "2024-01-04T20:50:47.021Z"
   },
   {
    "duration": 13,
    "start_time": "2024-01-04T20:50:47.219Z"
   },
   {
    "duration": 34,
    "start_time": "2024-01-04T20:50:47.234Z"
   },
   {
    "duration": 205,
    "start_time": "2024-01-04T20:50:47.269Z"
   },
   {
    "duration": 20,
    "start_time": "2024-01-04T20:50:47.476Z"
   },
   {
    "duration": 189,
    "start_time": "2024-01-04T20:50:47.497Z"
   },
   {
    "duration": 21,
    "start_time": "2024-01-04T20:50:47.687Z"
   },
   {
    "duration": 13,
    "start_time": "2024-01-04T20:50:47.710Z"
   },
   {
    "duration": 221,
    "start_time": "2024-01-04T20:50:47.724Z"
   },
   {
    "duration": 4,
    "start_time": "2024-01-04T20:50:47.947Z"
   },
   {
    "duration": 133,
    "start_time": "2024-01-04T20:50:47.953Z"
   },
   {
    "duration": 2,
    "start_time": "2024-01-04T20:50:48.088Z"
   },
   {
    "duration": 3,
    "start_time": "2024-01-04T20:50:48.092Z"
   },
   {
    "duration": 4984,
    "start_time": "2024-01-04T20:50:48.096Z"
   },
   {
    "duration": 4826,
    "start_time": "2024-01-06T08:11:10.592Z"
   },
   {
    "duration": 2870,
    "start_time": "2024-01-06T08:11:15.420Z"
   },
   {
    "duration": 5849,
    "start_time": "2024-01-06T08:11:18.291Z"
   },
   {
    "duration": 2972,
    "start_time": "2024-01-06T08:11:24.142Z"
   },
   {
    "duration": 1397,
    "start_time": "2024-01-06T08:11:27.116Z"
   },
   {
    "duration": 2815,
    "start_time": "2024-01-06T08:11:28.515Z"
   },
   {
    "duration": 132,
    "start_time": "2024-01-06T08:11:31.332Z"
   },
   {
    "duration": 467,
    "start_time": "2024-01-06T08:11:31.465Z"
   },
   {
    "duration": 93,
    "start_time": "2024-01-06T08:11:31.933Z"
   },
   {
    "duration": 5,
    "start_time": "2024-01-06T08:11:32.027Z"
   },
   {
    "duration": 142,
    "start_time": "2024-01-06T08:11:32.033Z"
   },
   {
    "duration": 139,
    "start_time": "2024-01-06T08:11:32.176Z"
   },
   {
    "duration": 123,
    "start_time": "2024-01-06T08:11:32.316Z"
   },
   {
    "duration": 1573,
    "start_time": "2024-01-06T08:11:32.442Z"
   },
   {
    "duration": 86,
    "start_time": "2024-01-06T08:11:34.016Z"
   },
   {
    "duration": 154,
    "start_time": "2024-01-06T08:11:34.103Z"
   },
   {
    "duration": 24,
    "start_time": "2024-01-06T08:11:34.258Z"
   },
   {
    "duration": 39,
    "start_time": "2024-01-06T08:11:34.283Z"
   },
   {
    "duration": 38,
    "start_time": "2024-01-06T08:11:34.324Z"
   },
   {
    "duration": 229,
    "start_time": "2024-01-06T08:11:34.364Z"
   },
   {
    "duration": 216,
    "start_time": "2024-01-06T08:11:34.595Z"
   },
   {
    "duration": 224,
    "start_time": "2024-01-06T08:11:34.813Z"
   },
   {
    "duration": 20,
    "start_time": "2024-01-06T08:11:35.038Z"
   },
   {
    "duration": 91,
    "start_time": "2024-01-06T08:11:35.060Z"
   },
   {
    "duration": 44,
    "start_time": "2024-01-06T08:11:35.152Z"
   },
   {
    "duration": 19,
    "start_time": "2024-01-06T08:11:35.197Z"
   },
   {
    "duration": 20,
    "start_time": "2024-01-06T08:11:35.217Z"
   },
   {
    "duration": 23,
    "start_time": "2024-01-06T08:11:35.238Z"
   },
   {
    "duration": 37,
    "start_time": "2024-01-06T08:11:35.263Z"
   },
   {
    "duration": 22,
    "start_time": "2024-01-06T08:11:35.301Z"
   },
   {
    "duration": 29,
    "start_time": "2024-01-06T08:11:35.324Z"
   },
   {
    "duration": 70,
    "start_time": "2024-01-06T08:11:35.354Z"
   },
   {
    "duration": 154,
    "start_time": "2024-01-06T08:11:35.425Z"
   },
   {
    "duration": 454,
    "start_time": "2024-01-06T08:11:35.581Z"
   },
   {
    "duration": 233,
    "start_time": "2024-01-06T08:11:36.037Z"
   },
   {
    "duration": 23,
    "start_time": "2024-01-06T08:11:36.272Z"
   },
   {
    "duration": 60,
    "start_time": "2024-01-06T08:11:36.296Z"
   },
   {
    "duration": 38,
    "start_time": "2024-01-06T08:11:36.358Z"
   },
   {
    "duration": 14,
    "start_time": "2024-01-06T08:11:36.398Z"
   },
   {
    "duration": 268,
    "start_time": "2024-01-06T08:11:36.414Z"
   },
   {
    "duration": 21,
    "start_time": "2024-01-06T08:11:36.691Z"
   },
   {
    "duration": 193,
    "start_time": "2024-01-06T08:11:36.713Z"
   },
   {
    "duration": 15,
    "start_time": "2024-01-06T08:11:36.907Z"
   },
   {
    "duration": 19,
    "start_time": "2024-01-06T08:11:36.923Z"
   },
   {
    "duration": 217,
    "start_time": "2024-01-06T08:11:36.943Z"
   },
   {
    "duration": 32,
    "start_time": "2024-01-06T08:11:37.161Z"
   },
   {
    "duration": 194,
    "start_time": "2024-01-06T08:11:37.195Z"
   },
   {
    "duration": 22,
    "start_time": "2024-01-06T08:11:37.390Z"
   },
   {
    "duration": 13,
    "start_time": "2024-01-06T08:11:37.413Z"
   },
   {
    "duration": 192,
    "start_time": "2024-01-06T08:11:37.427Z"
   },
   {
    "duration": 3,
    "start_time": "2024-01-06T08:11:37.621Z"
   },
   {
    "duration": 140,
    "start_time": "2024-01-06T08:11:37.625Z"
   },
   {
    "duration": 2,
    "start_time": "2024-01-06T08:11:37.767Z"
   },
   {
    "duration": 9,
    "start_time": "2024-01-06T08:11:37.770Z"
   },
   {
    "duration": 4633,
    "start_time": "2024-01-06T08:11:37.780Z"
   },
   {
    "duration": 4827,
    "start_time": "2024-01-08T10:39:30.327Z"
   },
   {
    "duration": 2913,
    "start_time": "2024-01-08T10:39:35.157Z"
   },
   {
    "duration": 5943,
    "start_time": "2024-01-08T10:39:38.072Z"
   },
   {
    "duration": 2833,
    "start_time": "2024-01-08T10:39:44.017Z"
   },
   {
    "duration": 1425,
    "start_time": "2024-01-08T10:39:46.853Z"
   },
   {
    "duration": 1096,
    "start_time": "2024-01-08T10:39:48.280Z"
   },
   {
    "duration": 150,
    "start_time": "2024-01-08T10:39:49.377Z"
   },
   {
    "duration": 460,
    "start_time": "2024-01-08T10:39:49.528Z"
   },
   {
    "duration": 91,
    "start_time": "2024-01-08T10:39:49.990Z"
   },
   {
    "duration": 5,
    "start_time": "2024-01-08T10:39:50.083Z"
   },
   {
    "duration": 16,
    "start_time": "2024-01-08T10:39:50.089Z"
   },
   {
    "duration": 115,
    "start_time": "2024-01-08T10:39:50.107Z"
   },
   {
    "duration": 94,
    "start_time": "2024-01-08T10:39:50.223Z"
   },
   {
    "duration": 1577,
    "start_time": "2024-01-08T10:39:50.319Z"
   },
   {
    "duration": 87,
    "start_time": "2024-01-08T10:39:51.897Z"
   },
   {
    "duration": 155,
    "start_time": "2024-01-08T10:39:51.986Z"
   },
   {
    "duration": 26,
    "start_time": "2024-01-08T10:39:52.142Z"
   },
   {
    "duration": 51,
    "start_time": "2024-01-08T10:39:52.170Z"
   },
   {
    "duration": 40,
    "start_time": "2024-01-08T10:39:52.222Z"
   },
   {
    "duration": 226,
    "start_time": "2024-01-08T10:39:52.264Z"
   },
   {
    "duration": 231,
    "start_time": "2024-01-08T10:39:52.492Z"
   },
   {
    "duration": 241,
    "start_time": "2024-01-08T10:39:52.724Z"
   },
   {
    "duration": 20,
    "start_time": "2024-01-08T10:39:52.967Z"
   },
   {
    "duration": 95,
    "start_time": "2024-01-08T10:39:52.988Z"
   },
   {
    "duration": 29,
    "start_time": "2024-01-08T10:39:53.085Z"
   },
   {
    "duration": 19,
    "start_time": "2024-01-08T10:39:53.115Z"
   },
   {
    "duration": 21,
    "start_time": "2024-01-08T10:39:53.142Z"
   },
   {
    "duration": 24,
    "start_time": "2024-01-08T10:39:53.164Z"
   },
   {
    "duration": 18,
    "start_time": "2024-01-08T10:39:53.190Z"
   },
   {
    "duration": 36,
    "start_time": "2024-01-08T10:39:53.210Z"
   },
   {
    "duration": 29,
    "start_time": "2024-01-08T10:39:53.247Z"
   },
   {
    "duration": 68,
    "start_time": "2024-01-08T10:39:53.278Z"
   },
   {
    "duration": 159,
    "start_time": "2024-01-08T10:39:53.348Z"
   },
   {
    "duration": 496,
    "start_time": "2024-01-08T10:39:53.509Z"
   },
   {
    "duration": 250,
    "start_time": "2024-01-08T10:39:54.007Z"
   },
   {
    "duration": 15,
    "start_time": "2024-01-08T10:39:54.258Z"
   },
   {
    "duration": 77,
    "start_time": "2024-01-08T10:39:54.274Z"
   },
   {
    "duration": 44,
    "start_time": "2024-01-08T10:39:54.352Z"
   },
   {
    "duration": 15,
    "start_time": "2024-01-08T10:39:54.398Z"
   },
   {
    "duration": 265,
    "start_time": "2024-01-08T10:39:54.414Z"
   },
   {
    "duration": 22,
    "start_time": "2024-01-08T10:39:54.683Z"
   },
   {
    "duration": 212,
    "start_time": "2024-01-08T10:39:54.707Z"
   },
   {
    "duration": 25,
    "start_time": "2024-01-08T10:39:54.920Z"
   },
   {
    "duration": 21,
    "start_time": "2024-01-08T10:39:54.946Z"
   },
   {
    "duration": 230,
    "start_time": "2024-01-08T10:39:54.968Z"
   },
   {
    "duration": 21,
    "start_time": "2024-01-08T10:39:55.199Z"
   },
   {
    "duration": 204,
    "start_time": "2024-01-08T10:39:55.222Z"
   },
   {
    "duration": 25,
    "start_time": "2024-01-08T10:39:55.428Z"
   },
   {
    "duration": 14,
    "start_time": "2024-01-08T10:39:55.454Z"
   },
   {
    "duration": 233,
    "start_time": "2024-01-08T10:39:55.469Z"
   },
   {
    "duration": 4,
    "start_time": "2024-01-08T10:39:55.704Z"
   },
   {
    "duration": 130,
    "start_time": "2024-01-08T10:39:55.709Z"
   },
   {
    "duration": 2,
    "start_time": "2024-01-08T10:39:55.841Z"
   },
   {
    "duration": 4,
    "start_time": "2024-01-08T10:39:55.845Z"
   },
   {
    "duration": 5064,
    "start_time": "2024-01-08T10:39:55.850Z"
   },
   {
    "duration": 49,
    "start_time": "2024-01-09T09:48:11.372Z"
   },
   {
    "duration": 7,
    "start_time": "2024-01-09T09:48:12.394Z"
   },
   {
    "duration": 5308,
    "start_time": "2024-01-09T09:48:30.591Z"
   },
   {
    "duration": 3208,
    "start_time": "2024-01-09T09:48:35.901Z"
   },
   {
    "duration": 6192,
    "start_time": "2024-01-09T09:48:39.111Z"
   },
   {
    "duration": 3122,
    "start_time": "2024-01-09T09:48:45.306Z"
   },
   {
    "duration": 1528,
    "start_time": "2024-01-09T09:48:48.430Z"
   },
   {
    "duration": 2958,
    "start_time": "2024-01-09T09:48:49.960Z"
   },
   {
    "duration": 149,
    "start_time": "2024-01-09T09:48:52.920Z"
   },
   {
    "duration": 479,
    "start_time": "2024-01-09T09:48:53.071Z"
   },
   {
    "duration": 471,
    "start_time": "2024-01-09T09:48:53.552Z"
   },
   {
    "duration": 956,
    "start_time": "2024-01-09T09:48:54.025Z"
   },
   {
    "duration": 67,
    "start_time": "2024-01-09T09:48:54.982Z"
   },
   {
    "duration": 42,
    "start_time": "2024-01-09T09:48:55.051Z"
   },
   {
    "duration": 5,
    "start_time": "2024-01-09T09:48:55.095Z"
   },
   {
    "duration": 12,
    "start_time": "2024-01-09T09:48:55.101Z"
   },
   {
    "duration": 117,
    "start_time": "2024-01-09T09:48:55.115Z"
   },
   {
    "duration": 96,
    "start_time": "2024-01-09T09:48:55.234Z"
   },
   {
    "duration": 1715,
    "start_time": "2024-01-09T09:48:55.332Z"
   },
   {
    "duration": 29,
    "start_time": "2024-01-09T09:48:57.049Z"
   },
   {
    "duration": 34,
    "start_time": "2024-01-09T09:48:57.080Z"
   },
   {
    "duration": 26,
    "start_time": "2024-01-09T09:48:57.115Z"
   },
   {
    "duration": 32,
    "start_time": "2024-01-09T09:48:57.142Z"
   },
   {
    "duration": 23,
    "start_time": "2024-01-09T09:48:57.176Z"
   },
   {
    "duration": 35,
    "start_time": "2024-01-09T09:48:57.201Z"
   },
   {
    "duration": 42,
    "start_time": "2024-01-09T09:48:57.238Z"
   },
   {
    "duration": 61,
    "start_time": "2024-01-09T09:48:57.282Z"
   },
   {
    "duration": 180,
    "start_time": "2024-01-09T09:48:57.344Z"
   },
   {
    "duration": 443,
    "start_time": "2024-01-09T09:48:57.525Z"
   },
   {
    "duration": 335,
    "start_time": "2024-01-09T09:48:57.975Z"
   },
   {
    "duration": 16,
    "start_time": "2024-01-09T09:48:58.312Z"
   },
   {
    "duration": 23,
    "start_time": "2024-01-09T09:48:58.329Z"
   },
   {
    "duration": 15,
    "start_time": "2024-01-09T09:48:58.372Z"
   },
   {
    "duration": 304,
    "start_time": "2024-01-09T09:48:58.389Z"
   },
   {
    "duration": 21,
    "start_time": "2024-01-09T09:48:58.695Z"
   },
   {
    "duration": 228,
    "start_time": "2024-01-09T09:48:58.718Z"
   },
   {
    "duration": 26,
    "start_time": "2024-01-09T09:48:58.948Z"
   },
   {
    "duration": 22,
    "start_time": "2024-01-09T09:48:58.975Z"
   },
   {
    "duration": 237,
    "start_time": "2024-01-09T09:48:58.998Z"
   },
   {
    "duration": 21,
    "start_time": "2024-01-09T09:48:59.236Z"
   },
   {
    "duration": 216,
    "start_time": "2024-01-09T09:48:59.259Z"
   },
   {
    "duration": 22,
    "start_time": "2024-01-09T09:48:59.476Z"
   },
   {
    "duration": 14,
    "start_time": "2024-01-09T09:48:59.500Z"
   },
   {
    "duration": 235,
    "start_time": "2024-01-09T09:48:59.516Z"
   },
   {
    "duration": 4,
    "start_time": "2024-01-09T09:48:59.752Z"
   },
   {
    "duration": 173,
    "start_time": "2024-01-09T09:48:59.757Z"
   },
   {
    "duration": 5661,
    "start_time": "2024-01-09T09:48:59.932Z"
   },
   {
    "duration": 68,
    "start_time": "2024-01-09T09:49:05.595Z"
   },
   {
    "duration": 3,
    "start_time": "2024-01-09T09:49:05.665Z"
   },
   {
    "duration": 68,
    "start_time": "2024-01-09T09:49:05.670Z"
   },
   {
    "duration": 118,
    "start_time": "2024-01-09T09:49:05.739Z"
   },
   {
    "duration": 25,
    "start_time": "2024-01-09T09:49:05.858Z"
   },
   {
    "duration": 27,
    "start_time": "2024-01-09T09:49:05.884Z"
   },
   {
    "duration": 33,
    "start_time": "2024-01-09T09:49:05.913Z"
   },
   {
    "duration": 222,
    "start_time": "2024-01-09T09:49:05.947Z"
   },
   {
    "duration": 187,
    "start_time": "2024-01-09T09:49:06.170Z"
   },
   {
    "duration": 183,
    "start_time": "2024-01-09T09:49:06.358Z"
   },
   {
    "duration": 38,
    "start_time": "2024-01-09T09:49:06.543Z"
   },
   {
    "duration": 67,
    "start_time": "2024-01-09T09:49:06.583Z"
   },
   {
    "duration": 11,
    "start_time": "2024-01-09T10:06:18.686Z"
   },
   {
    "duration": 85,
    "start_time": "2024-01-09T10:11:03.571Z"
   },
   {
    "duration": 3,
    "start_time": "2024-01-09T10:11:42.205Z"
   },
   {
    "duration": 4,
    "start_time": "2024-01-09T10:11:43.816Z"
   },
   {
    "duration": 33,
    "start_time": "2024-01-09T10:13:44.055Z"
   },
   {
    "duration": 4,
    "start_time": "2024-01-09T10:21:11.639Z"
   },
   {
    "duration": 4,
    "start_time": "2024-01-09T10:27:50.209Z"
   },
   {
    "duration": 3,
    "start_time": "2024-01-09T10:28:36.392Z"
   },
   {
    "duration": 2,
    "start_time": "2024-01-09T10:28:49.153Z"
   },
   {
    "duration": 3084,
    "start_time": "2024-01-09T10:43:28.682Z"
   },
   {
    "duration": 2698,
    "start_time": "2024-01-09T10:43:31.769Z"
   },
   {
    "duration": 2656,
    "start_time": "2024-01-09T10:43:34.469Z"
   },
   {
    "duration": 2669,
    "start_time": "2024-01-09T10:43:37.127Z"
   },
   {
    "duration": 1451,
    "start_time": "2024-01-09T10:43:39.799Z"
   },
   {
    "duration": 922,
    "start_time": "2024-01-09T10:43:41.252Z"
   },
   {
    "duration": 160,
    "start_time": "2024-01-09T10:43:42.175Z"
   },
   {
    "duration": 483,
    "start_time": "2024-01-09T10:43:42.337Z"
   },
   {
    "duration": 485,
    "start_time": "2024-01-09T10:43:42.821Z"
   },
   {
    "duration": 966,
    "start_time": "2024-01-09T10:43:43.308Z"
   },
   {
    "duration": 70,
    "start_time": "2024-01-09T10:43:44.275Z"
   },
   {
    "duration": 42,
    "start_time": "2024-01-09T10:43:44.347Z"
   },
   {
    "duration": 5,
    "start_time": "2024-01-09T10:43:44.390Z"
   },
   {
    "duration": 16,
    "start_time": "2024-01-09T10:43:44.398Z"
   },
   {
    "duration": 125,
    "start_time": "2024-01-09T10:43:44.416Z"
   },
   {
    "duration": 94,
    "start_time": "2024-01-09T10:43:44.543Z"
   },
   {
    "duration": 1625,
    "start_time": "2024-01-09T10:43:44.638Z"
   },
   {
    "duration": 28,
    "start_time": "2024-01-09T10:43:46.265Z"
   },
   {
    "duration": 26,
    "start_time": "2024-01-09T10:43:46.295Z"
   },
   {
    "duration": 26,
    "start_time": "2024-01-09T10:43:46.322Z"
   },
   {
    "duration": 57,
    "start_time": "2024-01-09T10:43:46.350Z"
   },
   {
    "duration": 22,
    "start_time": "2024-01-09T10:43:46.408Z"
   },
   {
    "duration": 18,
    "start_time": "2024-01-09T10:43:46.432Z"
   },
   {
    "duration": 47,
    "start_time": "2024-01-09T10:43:46.451Z"
   },
   {
    "duration": 60,
    "start_time": "2024-01-09T10:43:46.500Z"
   },
   {
    "duration": 180,
    "start_time": "2024-01-09T10:43:46.562Z"
   },
   {
    "duration": 462,
    "start_time": "2024-01-09T10:43:46.743Z"
   },
   {
    "duration": 332,
    "start_time": "2024-01-09T10:43:47.207Z"
   },
   {
    "duration": 15,
    "start_time": "2024-01-09T10:43:47.541Z"
   },
   {
    "duration": 33,
    "start_time": "2024-01-09T10:43:47.558Z"
   },
   {
    "duration": 14,
    "start_time": "2024-01-09T10:43:47.593Z"
   },
   {
    "duration": 298,
    "start_time": "2024-01-09T10:43:47.609Z"
   },
   {
    "duration": 22,
    "start_time": "2024-01-09T10:43:47.909Z"
   },
   {
    "duration": 234,
    "start_time": "2024-01-09T10:43:47.932Z"
   },
   {
    "duration": 16,
    "start_time": "2024-01-09T10:43:48.172Z"
   },
   {
    "duration": 26,
    "start_time": "2024-01-09T10:43:48.191Z"
   },
   {
    "duration": 243,
    "start_time": "2024-01-09T10:43:48.219Z"
   },
   {
    "duration": 28,
    "start_time": "2024-01-09T10:43:48.464Z"
   },
   {
    "duration": 203,
    "start_time": "2024-01-09T10:43:48.495Z"
   },
   {
    "duration": 21,
    "start_time": "2024-01-09T10:43:48.699Z"
   },
   {
    "duration": 15,
    "start_time": "2024-01-09T10:43:48.724Z"
   },
   {
    "duration": 228,
    "start_time": "2024-01-09T10:43:48.740Z"
   },
   {
    "duration": 3,
    "start_time": "2024-01-09T10:43:48.973Z"
   },
   {
    "duration": 175,
    "start_time": "2024-01-09T10:43:48.978Z"
   },
   {
    "duration": 5656,
    "start_time": "2024-01-09T10:43:49.155Z"
   },
   {
    "duration": 90,
    "start_time": "2024-01-09T10:43:54.812Z"
   },
   {
    "duration": 3,
    "start_time": "2024-01-09T10:43:54.904Z"
   },
   {
    "duration": 70,
    "start_time": "2024-01-09T10:43:54.909Z"
   },
   {
    "duration": 127,
    "start_time": "2024-01-09T10:43:54.981Z"
   },
   {
    "duration": 21,
    "start_time": "2024-01-09T10:43:55.109Z"
   },
   {
    "duration": 28,
    "start_time": "2024-01-09T10:43:55.132Z"
   },
   {
    "duration": 30,
    "start_time": "2024-01-09T10:43:55.173Z"
   },
   {
    "duration": 203,
    "start_time": "2024-01-09T10:43:55.205Z"
   },
   {
    "duration": 192,
    "start_time": "2024-01-09T10:43:55.410Z"
   },
   {
    "duration": 192,
    "start_time": "2024-01-09T10:43:55.603Z"
   },
   {
    "duration": 30,
    "start_time": "2024-01-09T10:43:55.797Z"
   },
   {
    "duration": 73,
    "start_time": "2024-01-09T10:43:55.828Z"
   },
   {
    "duration": 10,
    "start_time": "2024-01-09T10:43:55.902Z"
   },
   {
    "duration": 10,
    "start_time": "2024-01-09T10:43:55.914Z"
   },
   {
    "duration": 5,
    "start_time": "2024-01-09T10:43:55.925Z"
   },
   {
    "duration": 5,
    "start_time": "2024-01-09T10:43:55.932Z"
   },
   {
    "duration": 14,
    "start_time": "2024-01-09T10:43:55.938Z"
   },
   {
    "duration": 7,
    "start_time": "2024-01-09T10:43:55.953Z"
   },
   {
    "duration": 2942,
    "start_time": "2024-01-09T10:59:45.781Z"
   },
   {
    "duration": 2636,
    "start_time": "2024-01-09T10:59:48.725Z"
   },
   {
    "duration": 2775,
    "start_time": "2024-01-09T10:59:51.363Z"
   },
   {
    "duration": 3618,
    "start_time": "2024-01-09T10:59:54.140Z"
   },
   {
    "duration": 1413,
    "start_time": "2024-01-09T10:59:57.761Z"
   },
   {
    "duration": 898,
    "start_time": "2024-01-09T10:59:59.176Z"
   },
   {
    "duration": 164,
    "start_time": "2024-01-09T11:00:00.075Z"
   },
   {
    "duration": 537,
    "start_time": "2024-01-09T11:00:00.241Z"
   },
   {
    "duration": 494,
    "start_time": "2024-01-09T11:00:00.780Z"
   },
   {
    "duration": 1000,
    "start_time": "2024-01-09T11:00:01.276Z"
   },
   {
    "duration": 71,
    "start_time": "2024-01-09T11:00:02.277Z"
   },
   {
    "duration": 70,
    "start_time": "2024-01-09T11:00:02.349Z"
   },
   {
    "duration": 54,
    "start_time": "2024-01-09T11:00:02.421Z"
   },
   {
    "duration": 70,
    "start_time": "2024-01-09T11:00:02.478Z"
   },
   {
    "duration": 139,
    "start_time": "2024-01-09T11:00:02.549Z"
   },
   {
    "duration": 132,
    "start_time": "2024-01-09T11:00:02.689Z"
   },
   {
    "duration": 1631,
    "start_time": "2024-01-09T11:00:02.823Z"
   },
   {
    "duration": 29,
    "start_time": "2024-01-09T11:00:04.455Z"
   },
   {
    "duration": 29,
    "start_time": "2024-01-09T11:00:04.486Z"
   },
   {
    "duration": 28,
    "start_time": "2024-01-09T11:00:04.516Z"
   },
   {
    "duration": 42,
    "start_time": "2024-01-09T11:00:04.546Z"
   },
   {
    "duration": 23,
    "start_time": "2024-01-09T11:00:04.590Z"
   },
   {
    "duration": 24,
    "start_time": "2024-01-09T11:00:04.615Z"
   },
   {
    "duration": 56,
    "start_time": "2024-01-09T11:00:04.640Z"
   },
   {
    "duration": 75,
    "start_time": "2024-01-09T11:00:04.698Z"
   },
   {
    "duration": 176,
    "start_time": "2024-01-09T11:00:04.775Z"
   },
   {
    "duration": 444,
    "start_time": "2024-01-09T11:00:04.953Z"
   },
   {
    "duration": 355,
    "start_time": "2024-01-09T11:00:05.400Z"
   },
   {
    "duration": 25,
    "start_time": "2024-01-09T11:00:05.757Z"
   },
   {
    "duration": 24,
    "start_time": "2024-01-09T11:00:05.784Z"
   },
   {
    "duration": 16,
    "start_time": "2024-01-09T11:00:05.810Z"
   },
   {
    "duration": 320,
    "start_time": "2024-01-09T11:00:05.828Z"
   },
   {
    "duration": 31,
    "start_time": "2024-01-09T11:00:06.150Z"
   },
   {
    "duration": 250,
    "start_time": "2024-01-09T11:00:06.183Z"
   },
   {
    "duration": 18,
    "start_time": "2024-01-09T11:00:06.435Z"
   },
   {
    "duration": 36,
    "start_time": "2024-01-09T11:00:06.454Z"
   },
   {
    "duration": 245,
    "start_time": "2024-01-09T11:00:06.492Z"
   },
   {
    "duration": 34,
    "start_time": "2024-01-09T11:00:06.739Z"
   },
   {
    "duration": 211,
    "start_time": "2024-01-09T11:00:06.775Z"
   },
   {
    "duration": 24,
    "start_time": "2024-01-09T11:00:06.988Z"
   },
   {
    "duration": 15,
    "start_time": "2024-01-09T11:00:07.016Z"
   },
   {
    "duration": 235,
    "start_time": "2024-01-09T11:00:07.032Z"
   },
   {
    "duration": 3,
    "start_time": "2024-01-09T11:00:07.272Z"
   },
   {
    "duration": 168,
    "start_time": "2024-01-09T11:00:07.277Z"
   },
   {
    "duration": 5616,
    "start_time": "2024-01-09T11:00:07.447Z"
   },
   {
    "duration": 68,
    "start_time": "2024-01-09T11:00:13.073Z"
   },
   {
    "duration": 4,
    "start_time": "2024-01-09T11:00:13.143Z"
   },
   {
    "duration": 75,
    "start_time": "2024-01-09T11:00:13.148Z"
   },
   {
    "duration": 132,
    "start_time": "2024-01-09T11:00:13.225Z"
   },
   {
    "duration": 26,
    "start_time": "2024-01-09T11:00:13.358Z"
   },
   {
    "duration": 40,
    "start_time": "2024-01-09T11:00:13.386Z"
   },
   {
    "duration": 34,
    "start_time": "2024-01-09T11:00:13.428Z"
   },
   {
    "duration": 216,
    "start_time": "2024-01-09T11:00:13.472Z"
   },
   {
    "duration": 199,
    "start_time": "2024-01-09T11:00:13.689Z"
   },
   {
    "duration": 214,
    "start_time": "2024-01-09T11:00:13.890Z"
   },
   {
    "duration": 33,
    "start_time": "2024-01-09T11:00:14.106Z"
   },
   {
    "duration": 74,
    "start_time": "2024-01-09T11:00:14.141Z"
   },
   {
    "duration": 19,
    "start_time": "2024-01-09T11:00:14.217Z"
   },
   {
    "duration": 25,
    "start_time": "2024-01-09T11:00:14.237Z"
   },
   {
    "duration": 6,
    "start_time": "2024-01-09T11:00:14.263Z"
   },
   {
    "duration": 9,
    "start_time": "2024-01-09T11:00:14.270Z"
   },
   {
    "duration": 5,
    "start_time": "2024-01-09T11:00:14.281Z"
   },
   {
    "duration": 9,
    "start_time": "2024-01-09T11:00:14.288Z"
   },
   {
    "duration": 2893,
    "start_time": "2024-01-09T11:04:46.298Z"
   },
   {
    "duration": 2698,
    "start_time": "2024-01-09T11:04:49.193Z"
   },
   {
    "duration": 2695,
    "start_time": "2024-01-09T11:04:51.894Z"
   },
   {
    "duration": 2695,
    "start_time": "2024-01-09T11:04:54.590Z"
   },
   {
    "duration": 1370,
    "start_time": "2024-01-09T11:04:57.289Z"
   },
   {
    "duration": 928,
    "start_time": "2024-01-09T11:04:58.661Z"
   },
   {
    "duration": 154,
    "start_time": "2024-01-09T11:04:59.591Z"
   },
   {
    "duration": 476,
    "start_time": "2024-01-09T11:04:59.747Z"
   },
   {
    "duration": 477,
    "start_time": "2024-01-09T11:05:00.225Z"
   },
   {
    "duration": 1019,
    "start_time": "2024-01-09T11:05:00.704Z"
   },
   {
    "duration": 75,
    "start_time": "2024-01-09T11:05:01.724Z"
   },
   {
    "duration": 87,
    "start_time": "2024-01-09T11:05:01.800Z"
   },
   {
    "duration": 52,
    "start_time": "2024-01-09T11:05:01.889Z"
   },
   {
    "duration": 73,
    "start_time": "2024-01-09T11:05:01.943Z"
   },
   {
    "duration": 146,
    "start_time": "2024-01-09T11:05:02.017Z"
   },
   {
    "duration": 101,
    "start_time": "2024-01-09T11:05:02.164Z"
   },
   {
    "duration": 1678,
    "start_time": "2024-01-09T11:05:02.272Z"
   },
   {
    "duration": 29,
    "start_time": "2024-01-09T11:05:03.952Z"
   },
   {
    "duration": 57,
    "start_time": "2024-01-09T11:05:03.983Z"
   },
   {
    "duration": 42,
    "start_time": "2024-01-09T11:05:04.041Z"
   },
   {
    "duration": 31,
    "start_time": "2024-01-09T11:05:04.085Z"
   },
   {
    "duration": 30,
    "start_time": "2024-01-09T11:05:04.118Z"
   },
   {
    "duration": 61,
    "start_time": "2024-01-09T11:05:04.150Z"
   },
   {
    "duration": 56,
    "start_time": "2024-01-09T11:05:04.212Z"
   },
   {
    "duration": 64,
    "start_time": "2024-01-09T11:05:04.270Z"
   },
   {
    "duration": 181,
    "start_time": "2024-01-09T11:05:04.335Z"
   },
   {
    "duration": 469,
    "start_time": "2024-01-09T11:05:04.518Z"
   },
   {
    "duration": 358,
    "start_time": "2024-01-09T11:05:04.989Z"
   },
   {
    "duration": 30,
    "start_time": "2024-01-09T11:05:05.349Z"
   },
   {
    "duration": 26,
    "start_time": "2024-01-09T11:05:05.381Z"
   },
   {
    "duration": 17,
    "start_time": "2024-01-09T11:05:05.408Z"
   },
   {
    "duration": 321,
    "start_time": "2024-01-09T11:05:05.427Z"
   },
   {
    "duration": 31,
    "start_time": "2024-01-09T11:05:05.750Z"
   },
   {
    "duration": 232,
    "start_time": "2024-01-09T11:05:05.783Z"
   },
   {
    "duration": 18,
    "start_time": "2024-01-09T11:05:06.016Z"
   },
   {
    "duration": 47,
    "start_time": "2024-01-09T11:05:06.035Z"
   },
   {
    "duration": 237,
    "start_time": "2024-01-09T11:05:06.084Z"
   },
   {
    "duration": 22,
    "start_time": "2024-01-09T11:05:06.323Z"
   },
   {
    "duration": 221,
    "start_time": "2024-01-09T11:05:06.346Z"
   },
   {
    "duration": 25,
    "start_time": "2024-01-09T11:05:06.569Z"
   },
   {
    "duration": 15,
    "start_time": "2024-01-09T11:05:06.600Z"
   },
   {
    "duration": 231,
    "start_time": "2024-01-09T11:05:06.617Z"
   },
   {
    "duration": 4,
    "start_time": "2024-01-09T11:05:06.850Z"
   },
   {
    "duration": 206,
    "start_time": "2024-01-09T11:05:06.872Z"
   },
   {
    "duration": 5616,
    "start_time": "2024-01-09T11:05:07.080Z"
   },
   {
    "duration": 78,
    "start_time": "2024-01-09T11:05:12.697Z"
   },
   {
    "duration": 4,
    "start_time": "2024-01-09T11:05:12.776Z"
   },
   {
    "duration": 79,
    "start_time": "2024-01-09T11:05:12.781Z"
   },
   {
    "duration": 134,
    "start_time": "2024-01-09T11:05:12.861Z"
   },
   {
    "duration": 20,
    "start_time": "2024-01-09T11:05:12.997Z"
   },
   {
    "duration": 39,
    "start_time": "2024-01-09T11:05:13.019Z"
   },
   {
    "duration": 47,
    "start_time": "2024-01-09T11:05:13.059Z"
   },
   {
    "duration": 217,
    "start_time": "2024-01-09T11:05:13.108Z"
   },
   {
    "duration": 231,
    "start_time": "2024-01-09T11:05:13.326Z"
   },
   {
    "duration": 190,
    "start_time": "2024-01-09T11:05:13.559Z"
   },
   {
    "duration": 40,
    "start_time": "2024-01-09T11:05:13.750Z"
   },
   {
    "duration": 61,
    "start_time": "2024-01-09T11:05:13.792Z"
   },
   {
    "duration": 25,
    "start_time": "2024-01-09T11:05:13.855Z"
   },
   {
    "duration": 29,
    "start_time": "2024-01-09T11:05:13.881Z"
   },
   {
    "duration": 26,
    "start_time": "2024-01-09T11:05:13.912Z"
   },
   {
    "duration": 26,
    "start_time": "2024-01-09T11:05:13.939Z"
   },
   {
    "duration": 8,
    "start_time": "2024-01-09T11:05:13.967Z"
   },
   {
    "duration": 6,
    "start_time": "2024-01-09T11:05:13.976Z"
   },
   {
    "duration": 15,
    "start_time": "2024-01-09T11:05:13.983Z"
   },
   {
    "duration": 2972,
    "start_time": "2024-01-09T11:09:13.661Z"
   },
   {
    "duration": 2674,
    "start_time": "2024-01-09T11:09:16.635Z"
   },
   {
    "duration": 2710,
    "start_time": "2024-01-09T11:09:19.311Z"
   },
   {
    "duration": 2670,
    "start_time": "2024-01-09T11:09:22.023Z"
   },
   {
    "duration": 1363,
    "start_time": "2024-01-09T11:09:24.696Z"
   },
   {
    "duration": 917,
    "start_time": "2024-01-09T11:09:26.061Z"
   },
   {
    "duration": 200,
    "start_time": "2024-01-09T11:09:26.980Z"
   },
   {
    "duration": 499,
    "start_time": "2024-01-09T11:09:27.182Z"
   },
   {
    "duration": 474,
    "start_time": "2024-01-09T11:09:27.682Z"
   },
   {
    "duration": 943,
    "start_time": "2024-01-09T11:09:28.158Z"
   },
   {
    "duration": 76,
    "start_time": "2024-01-09T11:09:29.103Z"
   },
   {
    "duration": 36,
    "start_time": "2024-01-09T11:09:29.181Z"
   },
   {
    "duration": 16,
    "start_time": "2024-01-09T11:09:29.219Z"
   },
   {
    "duration": 14,
    "start_time": "2024-01-09T11:09:29.238Z"
   },
   {
    "duration": 115,
    "start_time": "2024-01-09T11:09:29.254Z"
   },
   {
    "duration": 105,
    "start_time": "2024-01-09T11:09:29.372Z"
   },
   {
    "duration": 1569,
    "start_time": "2024-01-09T11:09:29.479Z"
   },
   {
    "duration": 28,
    "start_time": "2024-01-09T11:09:31.049Z"
   },
   {
    "duration": 58,
    "start_time": "2024-01-09T11:09:31.079Z"
   },
   {
    "duration": 47,
    "start_time": "2024-01-09T11:09:31.138Z"
   },
   {
    "duration": 64,
    "start_time": "2024-01-09T11:09:31.186Z"
   },
   {
    "duration": 52,
    "start_time": "2024-01-09T11:09:31.251Z"
   },
   {
    "duration": 86,
    "start_time": "2024-01-09T11:09:31.305Z"
   },
   {
    "duration": 70,
    "start_time": "2024-01-09T11:09:31.393Z"
   },
   {
    "duration": 84,
    "start_time": "2024-01-09T11:09:31.465Z"
   },
   {
    "duration": 176,
    "start_time": "2024-01-09T11:09:31.551Z"
   },
   {
    "duration": 444,
    "start_time": "2024-01-09T11:09:31.729Z"
   },
   {
    "duration": 335,
    "start_time": "2024-01-09T11:09:32.175Z"
   },
   {
    "duration": 16,
    "start_time": "2024-01-09T11:09:32.512Z"
   },
   {
    "duration": 45,
    "start_time": "2024-01-09T11:09:32.530Z"
   },
   {
    "duration": 16,
    "start_time": "2024-01-09T11:09:32.576Z"
   },
   {
    "duration": 293,
    "start_time": "2024-01-09T11:09:32.593Z"
   },
   {
    "duration": 22,
    "start_time": "2024-01-09T11:09:32.888Z"
   },
   {
    "duration": 225,
    "start_time": "2024-01-09T11:09:32.912Z"
   },
   {
    "duration": 17,
    "start_time": "2024-01-09T11:09:33.139Z"
   },
   {
    "duration": 35,
    "start_time": "2024-01-09T11:09:33.158Z"
   },
   {
    "duration": 240,
    "start_time": "2024-01-09T11:09:33.194Z"
   },
   {
    "duration": 21,
    "start_time": "2024-01-09T11:09:33.436Z"
   },
   {
    "duration": 237,
    "start_time": "2024-01-09T11:09:33.459Z"
   },
   {
    "duration": 21,
    "start_time": "2024-01-09T11:09:33.698Z"
   },
   {
    "duration": 15,
    "start_time": "2024-01-09T11:09:33.723Z"
   },
   {
    "duration": 233,
    "start_time": "2024-01-09T11:09:33.740Z"
   },
   {
    "duration": 4,
    "start_time": "2024-01-09T11:09:33.974Z"
   },
   {
    "duration": 162,
    "start_time": "2024-01-09T11:09:33.979Z"
   },
   {
    "duration": 5551,
    "start_time": "2024-01-09T11:09:34.143Z"
   },
   {
    "duration": 79,
    "start_time": "2024-01-09T11:09:39.695Z"
   },
   {
    "duration": 3,
    "start_time": "2024-01-09T11:09:39.776Z"
   },
   {
    "duration": 66,
    "start_time": "2024-01-09T11:09:39.781Z"
   },
   {
    "duration": 141,
    "start_time": "2024-01-09T11:09:39.849Z"
   },
   {
    "duration": 22,
    "start_time": "2024-01-09T11:09:39.991Z"
   },
   {
    "duration": 44,
    "start_time": "2024-01-09T11:09:40.014Z"
   },
   {
    "duration": 49,
    "start_time": "2024-01-09T11:09:40.060Z"
   },
   {
    "duration": 195,
    "start_time": "2024-01-09T11:09:40.111Z"
   },
   {
    "duration": 187,
    "start_time": "2024-01-09T11:09:40.308Z"
   },
   {
    "duration": 195,
    "start_time": "2024-01-09T11:09:40.496Z"
   },
   {
    "duration": 32,
    "start_time": "2024-01-09T11:09:40.693Z"
   },
   {
    "duration": 74,
    "start_time": "2024-01-09T11:09:40.726Z"
   },
   {
    "duration": 10,
    "start_time": "2024-01-09T11:09:40.802Z"
   },
   {
    "duration": 43,
    "start_time": "2024-01-09T11:09:40.814Z"
   },
   {
    "duration": 10,
    "start_time": "2024-01-09T11:09:40.858Z"
   },
   {
    "duration": 21,
    "start_time": "2024-01-09T11:09:40.869Z"
   },
   {
    "duration": 22,
    "start_time": "2024-01-09T11:09:40.891Z"
   },
   {
    "duration": 19,
    "start_time": "2024-01-09T11:09:40.914Z"
   },
   {
    "duration": 15,
    "start_time": "2024-01-09T11:09:40.935Z"
   },
   {
    "duration": 3027,
    "start_time": "2024-01-09T11:15:03.751Z"
   },
   {
    "duration": 2667,
    "start_time": "2024-01-09T11:15:06.780Z"
   },
   {
    "duration": 2680,
    "start_time": "2024-01-09T11:15:09.449Z"
   },
   {
    "duration": 2702,
    "start_time": "2024-01-09T11:15:12.131Z"
   },
   {
    "duration": 1308,
    "start_time": "2024-01-09T11:15:14.836Z"
   },
   {
    "duration": 921,
    "start_time": "2024-01-09T11:15:16.146Z"
   },
   {
    "duration": 171,
    "start_time": "2024-01-09T11:15:17.068Z"
   },
   {
    "duration": 494,
    "start_time": "2024-01-09T11:15:17.241Z"
   },
   {
    "duration": 519,
    "start_time": "2024-01-09T11:15:17.736Z"
   },
   {
    "duration": 1001,
    "start_time": "2024-01-09T11:15:18.257Z"
   },
   {
    "duration": 72,
    "start_time": "2024-01-09T11:15:19.259Z"
   },
   {
    "duration": 50,
    "start_time": "2024-01-09T11:15:19.333Z"
   },
   {
    "duration": 22,
    "start_time": "2024-01-09T11:15:19.385Z"
   },
   {
    "duration": 23,
    "start_time": "2024-01-09T11:15:19.410Z"
   },
   {
    "duration": 105,
    "start_time": "2024-01-09T11:15:19.434Z"
   },
   {
    "duration": 116,
    "start_time": "2024-01-09T11:15:19.541Z"
   },
   {
    "duration": 1672,
    "start_time": "2024-01-09T11:15:19.659Z"
   },
   {
    "duration": 24,
    "start_time": "2024-01-09T11:15:21.332Z"
   },
   {
    "duration": 23,
    "start_time": "2024-01-09T11:15:21.372Z"
   },
   {
    "duration": 27,
    "start_time": "2024-01-09T11:15:21.396Z"
   },
   {
    "duration": 34,
    "start_time": "2024-01-09T11:15:21.424Z"
   },
   {
    "duration": 28,
    "start_time": "2024-01-09T11:15:21.459Z"
   },
   {
    "duration": 20,
    "start_time": "2024-01-09T11:15:21.488Z"
   },
   {
    "duration": 38,
    "start_time": "2024-01-09T11:15:21.509Z"
   },
   {
    "duration": 77,
    "start_time": "2024-01-09T11:15:21.549Z"
   },
   {
    "duration": 177,
    "start_time": "2024-01-09T11:15:21.628Z"
   },
   {
    "duration": 452,
    "start_time": "2024-01-09T11:15:21.807Z"
   },
   {
    "duration": 328,
    "start_time": "2024-01-09T11:15:22.260Z"
   },
   {
    "duration": 17,
    "start_time": "2024-01-09T11:15:22.590Z"
   },
   {
    "duration": 23,
    "start_time": "2024-01-09T11:15:22.609Z"
   },
   {
    "duration": 14,
    "start_time": "2024-01-09T11:15:22.634Z"
   },
   {
    "duration": 289,
    "start_time": "2024-01-09T11:15:22.673Z"
   },
   {
    "duration": 27,
    "start_time": "2024-01-09T11:15:22.964Z"
   },
   {
    "duration": 220,
    "start_time": "2024-01-09T11:15:22.993Z"
   },
   {
    "duration": 16,
    "start_time": "2024-01-09T11:15:23.215Z"
   },
   {
    "duration": 20,
    "start_time": "2024-01-09T11:15:23.233Z"
   },
   {
    "duration": 245,
    "start_time": "2024-01-09T11:15:23.255Z"
   },
   {
    "duration": 21,
    "start_time": "2024-01-09T11:15:23.502Z"
   },
   {
    "duration": 215,
    "start_time": "2024-01-09T11:15:23.525Z"
   },
   {
    "duration": 31,
    "start_time": "2024-01-09T11:15:23.742Z"
   },
   {
    "duration": 15,
    "start_time": "2024-01-09T11:15:23.777Z"
   },
   {
    "duration": 228,
    "start_time": "2024-01-09T11:15:23.793Z"
   },
   {
    "duration": 3,
    "start_time": "2024-01-09T11:15:24.023Z"
   },
   {
    "duration": 164,
    "start_time": "2024-01-09T11:15:24.028Z"
   },
   {
    "duration": 5579,
    "start_time": "2024-01-09T11:15:24.194Z"
   },
   {
    "duration": 68,
    "start_time": "2024-01-09T11:15:29.775Z"
   },
   {
    "duration": 4,
    "start_time": "2024-01-09T11:15:29.844Z"
   },
   {
    "duration": 82,
    "start_time": "2024-01-09T11:15:29.849Z"
   },
   {
    "duration": 142,
    "start_time": "2024-01-09T11:15:29.933Z"
   },
   {
    "duration": 22,
    "start_time": "2024-01-09T11:15:30.078Z"
   },
   {
    "duration": 87,
    "start_time": "2024-01-09T11:15:30.102Z"
   },
   {
    "duration": 81,
    "start_time": "2024-01-09T11:15:30.190Z"
   },
   {
    "duration": 216,
    "start_time": "2024-01-09T11:15:30.273Z"
   },
   {
    "duration": 200,
    "start_time": "2024-01-09T11:15:30.491Z"
   },
   {
    "duration": 196,
    "start_time": "2024-01-09T11:15:30.692Z"
   },
   {
    "duration": 34,
    "start_time": "2024-01-09T11:15:30.890Z"
   },
   {
    "duration": 86,
    "start_time": "2024-01-09T11:15:30.925Z"
   },
   {
    "duration": 48,
    "start_time": "2024-01-09T11:15:31.013Z"
   },
   {
    "duration": 47,
    "start_time": "2024-01-09T11:15:31.063Z"
   },
   {
    "duration": 51,
    "start_time": "2024-01-09T11:15:31.111Z"
   },
   {
    "duration": 30,
    "start_time": "2024-01-09T11:15:31.163Z"
   },
   {
    "duration": 25,
    "start_time": "2024-01-09T11:15:31.195Z"
   },
   {
    "duration": 40,
    "start_time": "2024-01-09T11:15:31.222Z"
   },
   {
    "duration": 56,
    "start_time": "2024-01-09T11:15:31.264Z"
   },
   {
    "duration": 20895,
    "start_time": "2024-01-09T11:17:01.017Z"
   },
   {
    "duration": 21040,
    "start_time": "2024-01-09T11:17:50.275Z"
   },
   {
    "duration": 122,
    "start_time": "2024-01-09T11:22:57.414Z"
   },
   {
    "duration": 6,
    "start_time": "2024-01-09T11:23:33.948Z"
   },
   {
    "duration": 3,
    "start_time": "2024-01-09T11:23:42.207Z"
   },
   {
    "duration": 12,
    "start_time": "2024-01-09T11:24:34.559Z"
   },
   {
    "duration": 10,
    "start_time": "2024-01-09T11:24:47.545Z"
   },
   {
    "duration": 10,
    "start_time": "2024-01-09T11:26:10.545Z"
   },
   {
    "duration": 3,
    "start_time": "2024-01-09T11:27:25.753Z"
   },
   {
    "duration": 3,
    "start_time": "2024-01-09T11:27:59.760Z"
   },
   {
    "duration": 34,
    "start_time": "2024-01-09T11:28:49.619Z"
   },
   {
    "duration": 3,
    "start_time": "2024-01-09T11:31:06.365Z"
   },
   {
    "duration": 32,
    "start_time": "2024-01-09T11:31:07.484Z"
   },
   {
    "duration": 3,
    "start_time": "2024-01-09T11:32:51.663Z"
   },
   {
    "duration": 29,
    "start_time": "2024-01-09T11:32:53.415Z"
   },
   {
    "duration": 5686,
    "start_time": "2024-01-09T13:11:58.695Z"
   },
   {
    "duration": 3067,
    "start_time": "2024-01-09T13:12:04.383Z"
   },
   {
    "duration": 6593,
    "start_time": "2024-01-09T13:12:07.452Z"
   },
   {
    "duration": 3319,
    "start_time": "2024-01-09T13:12:14.047Z"
   },
   {
    "duration": 1460,
    "start_time": "2024-01-09T13:12:17.369Z"
   },
   {
    "duration": 1144,
    "start_time": "2024-01-09T13:12:18.831Z"
   },
   {
    "duration": 145,
    "start_time": "2024-01-09T13:12:19.976Z"
   },
   {
    "duration": 477,
    "start_time": "2024-01-09T13:12:20.123Z"
   },
   {
    "duration": 489,
    "start_time": "2024-01-09T13:12:20.602Z"
   },
   {
    "duration": 957,
    "start_time": "2024-01-09T13:12:21.092Z"
   },
   {
    "duration": 63,
    "start_time": "2024-01-09T13:12:22.051Z"
   },
   {
    "duration": 48,
    "start_time": "2024-01-09T13:12:22.115Z"
   },
   {
    "duration": 15,
    "start_time": "2024-01-09T13:12:22.165Z"
   },
   {
    "duration": 51,
    "start_time": "2024-01-09T13:12:22.183Z"
   },
   {
    "duration": 119,
    "start_time": "2024-01-09T13:12:22.236Z"
   },
   {
    "duration": 99,
    "start_time": "2024-01-09T13:12:22.356Z"
   },
   {
    "duration": 1637,
    "start_time": "2024-01-09T13:12:22.457Z"
   },
   {
    "duration": 23,
    "start_time": "2024-01-09T13:12:24.096Z"
   },
   {
    "duration": 51,
    "start_time": "2024-01-09T13:12:24.120Z"
   },
   {
    "duration": 43,
    "start_time": "2024-01-09T13:12:24.173Z"
   },
   {
    "duration": 62,
    "start_time": "2024-01-09T13:12:24.217Z"
   },
   {
    "duration": 46,
    "start_time": "2024-01-09T13:12:24.280Z"
   },
   {
    "duration": 47,
    "start_time": "2024-01-09T13:12:24.328Z"
   },
   {
    "duration": 55,
    "start_time": "2024-01-09T13:12:24.377Z"
   },
   {
    "duration": 110,
    "start_time": "2024-01-09T13:12:24.433Z"
   },
   {
    "duration": 200,
    "start_time": "2024-01-09T13:12:24.545Z"
   },
   {
    "duration": 438,
    "start_time": "2024-01-09T13:12:24.747Z"
   },
   {
    "duration": 347,
    "start_time": "2024-01-09T13:12:25.186Z"
   },
   {
    "duration": 17,
    "start_time": "2024-01-09T13:12:25.541Z"
   },
   {
    "duration": 39,
    "start_time": "2024-01-09T13:12:25.559Z"
   },
   {
    "duration": 56,
    "start_time": "2024-01-09T13:12:25.600Z"
   },
   {
    "duration": 330,
    "start_time": "2024-01-09T13:12:25.658Z"
   },
   {
    "duration": 25,
    "start_time": "2024-01-09T13:12:25.990Z"
   },
   {
    "duration": 215,
    "start_time": "2024-01-09T13:12:26.017Z"
   },
   {
    "duration": 21,
    "start_time": "2024-01-09T13:12:26.233Z"
   },
   {
    "duration": 39,
    "start_time": "2024-01-09T13:12:26.256Z"
   },
   {
    "duration": 229,
    "start_time": "2024-01-09T13:12:26.297Z"
   },
   {
    "duration": 25,
    "start_time": "2024-01-09T13:12:26.528Z"
   },
   {
    "duration": 207,
    "start_time": "2024-01-09T13:12:26.554Z"
   },
   {
    "duration": 21,
    "start_time": "2024-01-09T13:12:26.762Z"
   },
   {
    "duration": 15,
    "start_time": "2024-01-09T13:12:26.787Z"
   },
   {
    "duration": 241,
    "start_time": "2024-01-09T13:12:26.803Z"
   },
   {
    "duration": 5,
    "start_time": "2024-01-09T13:12:27.045Z"
   },
   {
    "duration": 169,
    "start_time": "2024-01-09T13:12:27.052Z"
   },
   {
    "duration": 5424,
    "start_time": "2024-01-09T13:12:27.222Z"
   },
   {
    "duration": 70,
    "start_time": "2024-01-09T13:12:32.648Z"
   },
   {
    "duration": 4,
    "start_time": "2024-01-09T13:12:32.719Z"
   },
   {
    "duration": 75,
    "start_time": "2024-01-09T13:12:32.725Z"
   },
   {
    "duration": 142,
    "start_time": "2024-01-09T13:12:32.801Z"
   },
   {
    "duration": 27,
    "start_time": "2024-01-09T13:12:32.945Z"
   },
   {
    "duration": 31,
    "start_time": "2024-01-09T13:12:32.973Z"
   },
   {
    "duration": 40,
    "start_time": "2024-01-09T13:12:33.006Z"
   },
   {
    "duration": 190,
    "start_time": "2024-01-09T13:12:33.047Z"
   },
   {
    "duration": 177,
    "start_time": "2024-01-09T13:12:33.242Z"
   },
   {
    "duration": 200,
    "start_time": "2024-01-09T13:12:33.421Z"
   },
   {
    "duration": 35,
    "start_time": "2024-01-09T13:12:33.622Z"
   },
   {
    "duration": 55,
    "start_time": "2024-01-09T13:12:33.659Z"
   },
   {
    "duration": 15,
    "start_time": "2024-01-09T13:12:33.715Z"
   },
   {
    "duration": 18,
    "start_time": "2024-01-09T13:12:33.732Z"
   },
   {
    "duration": 8,
    "start_time": "2024-01-09T13:12:33.752Z"
   },
   {
    "duration": 5,
    "start_time": "2024-01-09T13:12:33.762Z"
   },
   {
    "duration": 5,
    "start_time": "2024-01-09T13:12:33.769Z"
   },
   {
    "duration": 33778,
    "start_time": "2024-01-09T13:12:33.775Z"
   },
   {
    "duration": 258,
    "start_time": "2024-01-09T13:13:07.558Z"
   },
   {
    "duration": 3,
    "start_time": "2024-01-09T13:13:07.819Z"
   },
   {
    "duration": 410,
    "start_time": "2024-01-09T13:13:24.465Z"
   },
   {
    "duration": 30231,
    "start_time": "2024-01-09T13:13:40.932Z"
   },
   {
    "duration": 26611,
    "start_time": "2024-01-09T13:15:53.244Z"
   },
   {
    "duration": 127,
    "start_time": "2024-01-09T13:17:59.605Z"
   },
   {
    "duration": 197,
    "start_time": "2024-01-09T13:19:09.473Z"
   },
   {
    "duration": 5,
    "start_time": "2024-01-09T13:20:40.594Z"
   },
   {
    "duration": 11,
    "start_time": "2024-01-09T13:25:11.657Z"
   },
   {
    "duration": 11,
    "start_time": "2024-01-09T13:25:54.146Z"
   },
   {
    "duration": 3,
    "start_time": "2024-01-09T13:26:02.698Z"
   },
   {
    "duration": 3,
    "start_time": "2024-01-09T13:26:04.692Z"
   },
   {
    "duration": 6,
    "start_time": "2024-01-09T13:26:27.975Z"
   },
   {
    "duration": 3,
    "start_time": "2024-01-09T13:27:09.480Z"
   },
   {
    "duration": 8,
    "start_time": "2024-01-09T13:27:23.905Z"
   },
   {
    "duration": 2952,
    "start_time": "2024-01-09T13:31:10.594Z"
   },
   {
    "duration": 2660,
    "start_time": "2024-01-09T13:31:13.549Z"
   },
   {
    "duration": 2613,
    "start_time": "2024-01-09T13:31:16.211Z"
   },
   {
    "duration": 2590,
    "start_time": "2024-01-09T13:31:18.826Z"
   },
   {
    "duration": 1378,
    "start_time": "2024-01-09T13:31:21.419Z"
   },
   {
    "duration": 958,
    "start_time": "2024-01-09T13:31:22.799Z"
   },
   {
    "duration": 154,
    "start_time": "2024-01-09T13:31:23.758Z"
   },
   {
    "duration": 485,
    "start_time": "2024-01-09T13:31:23.914Z"
   },
   {
    "duration": 477,
    "start_time": "2024-01-09T13:31:24.401Z"
   },
   {
    "duration": 999,
    "start_time": "2024-01-09T13:31:24.880Z"
   },
   {
    "duration": 70,
    "start_time": "2024-01-09T13:31:25.880Z"
   },
   {
    "duration": 56,
    "start_time": "2024-01-09T13:31:25.951Z"
   },
   {
    "duration": 5,
    "start_time": "2024-01-09T13:31:26.009Z"
   },
   {
    "duration": 34,
    "start_time": "2024-01-09T13:31:26.017Z"
   },
   {
    "duration": 108,
    "start_time": "2024-01-09T13:31:26.053Z"
   },
   {
    "duration": 91,
    "start_time": "2024-01-09T13:31:26.162Z"
   },
   {
    "duration": 1555,
    "start_time": "2024-01-09T13:31:26.254Z"
   },
   {
    "duration": 23,
    "start_time": "2024-01-09T13:31:27.810Z"
   },
   {
    "duration": 25,
    "start_time": "2024-01-09T13:31:27.843Z"
   },
   {
    "duration": 34,
    "start_time": "2024-01-09T13:31:27.869Z"
   },
   {
    "duration": 47,
    "start_time": "2024-01-09T13:31:27.905Z"
   },
   {
    "duration": 40,
    "start_time": "2024-01-09T13:31:27.954Z"
   },
   {
    "duration": 25,
    "start_time": "2024-01-09T13:31:27.996Z"
   },
   {
    "duration": 48,
    "start_time": "2024-01-09T13:31:28.022Z"
   },
   {
    "duration": 61,
    "start_time": "2024-01-09T13:31:28.072Z"
   },
   {
    "duration": 178,
    "start_time": "2024-01-09T13:31:28.135Z"
   },
   {
    "duration": 459,
    "start_time": "2024-01-09T13:31:28.315Z"
   },
   {
    "duration": 318,
    "start_time": "2024-01-09T13:31:28.775Z"
   },
   {
    "duration": 15,
    "start_time": "2024-01-09T13:31:29.095Z"
   },
   {
    "duration": 34,
    "start_time": "2024-01-09T13:31:29.112Z"
   },
   {
    "duration": 14,
    "start_time": "2024-01-09T13:31:29.148Z"
   },
   {
    "duration": 286,
    "start_time": "2024-01-09T13:31:29.164Z"
   },
   {
    "duration": 22,
    "start_time": "2024-01-09T13:31:29.451Z"
   },
   {
    "duration": 230,
    "start_time": "2024-01-09T13:31:29.475Z"
   },
   {
    "duration": 16,
    "start_time": "2024-01-09T13:31:29.706Z"
   },
   {
    "duration": 33,
    "start_time": "2024-01-09T13:31:29.724Z"
   },
   {
    "duration": 236,
    "start_time": "2024-01-09T13:31:29.759Z"
   },
   {
    "duration": 21,
    "start_time": "2024-01-09T13:31:29.997Z"
   },
   {
    "duration": 214,
    "start_time": "2024-01-09T13:31:30.019Z"
   },
   {
    "duration": 26,
    "start_time": "2024-01-09T13:31:30.235Z"
   },
   {
    "duration": 89,
    "start_time": "2024-01-09T13:31:30.266Z"
   },
   {
    "duration": 283,
    "start_time": "2024-01-09T13:31:30.357Z"
   },
   {
    "duration": 7,
    "start_time": "2024-01-09T13:31:30.642Z"
   },
   {
    "duration": 218,
    "start_time": "2024-01-09T13:31:30.652Z"
   },
   {
    "duration": 5582,
    "start_time": "2024-01-09T13:31:30.872Z"
   },
   {
    "duration": 73,
    "start_time": "2024-01-09T13:31:36.456Z"
   },
   {
    "duration": 4,
    "start_time": "2024-01-09T13:31:36.530Z"
   },
   {
    "duration": 65,
    "start_time": "2024-01-09T13:31:36.535Z"
   },
   {
    "duration": 114,
    "start_time": "2024-01-09T13:31:36.602Z"
   },
   {
    "duration": 31,
    "start_time": "2024-01-09T13:31:36.717Z"
   },
   {
    "duration": 29,
    "start_time": "2024-01-09T13:31:36.749Z"
   },
   {
    "duration": 29,
    "start_time": "2024-01-09T13:31:36.780Z"
   },
   {
    "duration": 207,
    "start_time": "2024-01-09T13:31:36.811Z"
   },
   {
    "duration": 189,
    "start_time": "2024-01-09T13:31:37.019Z"
   },
   {
    "duration": 188,
    "start_time": "2024-01-09T13:31:37.210Z"
   },
   {
    "duration": 31,
    "start_time": "2024-01-09T13:31:37.400Z"
   },
   {
    "duration": 58,
    "start_time": "2024-01-09T13:31:37.442Z"
   },
   {
    "duration": 11,
    "start_time": "2024-01-09T13:31:37.501Z"
   },
   {
    "duration": 13,
    "start_time": "2024-01-09T13:31:37.513Z"
   },
   {
    "duration": 3,
    "start_time": "2024-01-09T13:31:37.543Z"
   },
   {
    "duration": 9,
    "start_time": "2024-01-09T13:31:37.548Z"
   },
   {
    "duration": 13,
    "start_time": "2024-01-09T13:31:37.559Z"
   },
   {
    "duration": 30469,
    "start_time": "2024-01-09T13:31:37.574Z"
   },
   {
    "duration": 231,
    "start_time": "2024-01-09T13:32:08.045Z"
   },
   {
    "duration": 4,
    "start_time": "2024-01-09T13:32:08.278Z"
   },
   {
    "duration": 18,
    "start_time": "2024-01-09T13:32:08.284Z"
   },
   {
    "duration": 49,
    "start_time": "2024-01-09T13:32:08.304Z"
   },
   {
    "duration": 20,
    "start_time": "2024-01-09T13:32:08.355Z"
   },
   {
    "duration": 21,
    "start_time": "2024-01-09T13:32:08.376Z"
   },
   {
    "duration": 2675,
    "start_time": "2024-01-09T14:01:21.610Z"
   },
   {
    "duration": 2475,
    "start_time": "2024-01-09T14:01:24.288Z"
   },
   {
    "duration": 2485,
    "start_time": "2024-01-09T14:01:26.765Z"
   },
   {
    "duration": 2446,
    "start_time": "2024-01-09T14:01:29.252Z"
   },
   {
    "duration": 2646,
    "start_time": "2024-01-09T14:01:31.700Z"
   },
   {
    "duration": 842,
    "start_time": "2024-01-09T14:01:34.348Z"
   },
   {
    "duration": 151,
    "start_time": "2024-01-09T14:01:35.191Z"
   },
   {
    "duration": 548,
    "start_time": "2024-01-09T14:01:35.344Z"
   },
   {
    "duration": 474,
    "start_time": "2024-01-09T14:01:35.895Z"
   },
   {
    "duration": 867,
    "start_time": "2024-01-09T14:01:36.371Z"
   },
   {
    "duration": 62,
    "start_time": "2024-01-09T14:01:37.241Z"
   },
   {
    "duration": 46,
    "start_time": "2024-01-09T14:01:37.305Z"
   },
   {
    "duration": 5,
    "start_time": "2024-01-09T14:01:37.353Z"
   },
   {
    "duration": 11,
    "start_time": "2024-01-09T14:01:37.360Z"
   },
   {
    "duration": 107,
    "start_time": "2024-01-09T14:01:37.373Z"
   },
   {
    "duration": 100,
    "start_time": "2024-01-09T14:01:37.482Z"
   },
   {
    "duration": 1513,
    "start_time": "2024-01-09T14:01:37.583Z"
   },
   {
    "duration": 22,
    "start_time": "2024-01-09T14:01:39.098Z"
   },
   {
    "duration": 36,
    "start_time": "2024-01-09T14:01:39.122Z"
   },
   {
    "duration": 22,
    "start_time": "2024-01-09T14:01:39.160Z"
   },
   {
    "duration": 25,
    "start_time": "2024-01-09T14:01:39.184Z"
   },
   {
    "duration": 34,
    "start_time": "2024-01-09T14:01:39.210Z"
   },
   {
    "duration": 17,
    "start_time": "2024-01-09T14:01:39.245Z"
   },
   {
    "duration": 36,
    "start_time": "2024-01-09T14:01:39.263Z"
   },
   {
    "duration": 81,
    "start_time": "2024-01-09T14:01:39.301Z"
   },
   {
    "duration": 166,
    "start_time": "2024-01-09T14:01:39.383Z"
   },
   {
    "duration": 451,
    "start_time": "2024-01-09T14:01:39.551Z"
   },
   {
    "duration": 312,
    "start_time": "2024-01-09T14:01:40.004Z"
   },
   {
    "duration": 26,
    "start_time": "2024-01-09T14:01:40.317Z"
   },
   {
    "duration": 28,
    "start_time": "2024-01-09T14:01:40.344Z"
   },
   {
    "duration": 21,
    "start_time": "2024-01-09T14:01:40.373Z"
   },
   {
    "duration": 299,
    "start_time": "2024-01-09T14:01:40.396Z"
   },
   {
    "duration": 22,
    "start_time": "2024-01-09T14:01:40.696Z"
   },
   {
    "duration": 282,
    "start_time": "2024-01-09T14:01:40.719Z"
   },
   {
    "duration": 17,
    "start_time": "2024-01-09T14:01:41.002Z"
   },
   {
    "duration": 34,
    "start_time": "2024-01-09T14:01:41.020Z"
   },
   {
    "duration": 226,
    "start_time": "2024-01-09T14:01:41.055Z"
   },
   {
    "duration": 22,
    "start_time": "2024-01-09T14:01:41.283Z"
   },
   {
    "duration": 204,
    "start_time": "2024-01-09T14:01:41.306Z"
   },
   {
    "duration": 30,
    "start_time": "2024-01-09T14:01:41.512Z"
   },
   {
    "duration": 14,
    "start_time": "2024-01-09T14:01:41.547Z"
   },
   {
    "duration": 219,
    "start_time": "2024-01-09T14:01:41.563Z"
   },
   {
    "duration": 4,
    "start_time": "2024-01-09T14:01:41.785Z"
   },
   {
    "duration": 152,
    "start_time": "2024-01-09T14:01:41.791Z"
   },
   {
    "duration": 5241,
    "start_time": "2024-01-09T14:01:41.945Z"
   },
   {
    "duration": 64,
    "start_time": "2024-01-09T14:01:47.188Z"
   },
   {
    "duration": 3,
    "start_time": "2024-01-09T14:01:47.254Z"
   },
   {
    "duration": 61,
    "start_time": "2024-01-09T14:01:47.258Z"
   },
   {
    "duration": 115,
    "start_time": "2024-01-09T14:01:47.320Z"
   },
   {
    "duration": 21,
    "start_time": "2024-01-09T14:01:47.437Z"
   },
   {
    "duration": 27,
    "start_time": "2024-01-09T14:01:47.460Z"
   },
   {
    "duration": 30,
    "start_time": "2024-01-09T14:01:47.488Z"
   },
   {
    "duration": 204,
    "start_time": "2024-01-09T14:01:47.519Z"
   },
   {
    "duration": 181,
    "start_time": "2024-01-09T14:01:47.724Z"
   },
   {
    "duration": 181,
    "start_time": "2024-01-09T14:01:47.907Z"
   },
   {
    "duration": 29,
    "start_time": "2024-01-09T14:01:48.089Z"
   },
   {
    "duration": 64,
    "start_time": "2024-01-09T14:01:48.119Z"
   },
   {
    "duration": 19,
    "start_time": "2024-01-09T14:01:48.185Z"
   },
   {
    "duration": 16,
    "start_time": "2024-01-09T14:01:48.206Z"
   },
   {
    "duration": 3,
    "start_time": "2024-01-09T14:01:48.224Z"
   },
   {
    "duration": 15,
    "start_time": "2024-01-09T14:01:48.229Z"
   },
   {
    "duration": 64,
    "start_time": "2024-01-09T14:01:48.246Z"
   },
   {
    "duration": 31544,
    "start_time": "2024-01-09T14:01:48.312Z"
   },
   {
    "duration": 286,
    "start_time": "2024-01-09T14:02:19.861Z"
   },
   {
    "duration": 5,
    "start_time": "2024-01-09T14:02:20.148Z"
   },
   {
    "duration": 11,
    "start_time": "2024-01-09T14:02:20.154Z"
   },
   {
    "duration": 10,
    "start_time": "2024-01-09T14:02:20.166Z"
   },
   {
    "duration": 5,
    "start_time": "2024-01-09T14:02:20.178Z"
   },
   {
    "duration": 11,
    "start_time": "2024-01-09T14:02:20.185Z"
   },
   {
    "duration": 3507,
    "start_time": "2024-01-09T14:06:17.990Z"
   },
   {
    "duration": 2489,
    "start_time": "2024-01-09T14:06:21.499Z"
   },
   {
    "duration": 2553,
    "start_time": "2024-01-09T14:06:23.990Z"
   },
   {
    "duration": 2479,
    "start_time": "2024-01-09T14:06:26.546Z"
   },
   {
    "duration": 1299,
    "start_time": "2024-01-09T14:06:29.027Z"
   },
   {
    "duration": 949,
    "start_time": "2024-01-09T14:06:30.328Z"
   },
   {
    "duration": 172,
    "start_time": "2024-01-09T14:06:31.279Z"
   },
   {
    "duration": 493,
    "start_time": "2024-01-09T14:06:31.453Z"
   },
   {
    "duration": 428,
    "start_time": "2024-01-09T14:06:31.947Z"
   },
   {
    "duration": 936,
    "start_time": "2024-01-09T14:06:32.377Z"
   },
   {
    "duration": 65,
    "start_time": "2024-01-09T14:06:33.314Z"
   },
   {
    "duration": 56,
    "start_time": "2024-01-09T14:06:33.380Z"
   },
   {
    "duration": 23,
    "start_time": "2024-01-09T14:06:33.438Z"
   },
   {
    "duration": 34,
    "start_time": "2024-01-09T14:06:33.463Z"
   },
   {
    "duration": 111,
    "start_time": "2024-01-09T14:06:33.499Z"
   },
   {
    "duration": 109,
    "start_time": "2024-01-09T14:06:33.612Z"
   },
   {
    "duration": 1587,
    "start_time": "2024-01-09T14:06:33.723Z"
   },
   {
    "duration": 21,
    "start_time": "2024-01-09T14:06:35.312Z"
   },
   {
    "duration": 25,
    "start_time": "2024-01-09T14:06:35.343Z"
   },
   {
    "duration": 42,
    "start_time": "2024-01-09T14:06:35.370Z"
   },
   {
    "duration": 47,
    "start_time": "2024-01-09T14:06:35.415Z"
   },
   {
    "duration": 61,
    "start_time": "2024-01-09T14:06:35.464Z"
   },
   {
    "duration": 49,
    "start_time": "2024-01-09T14:06:35.527Z"
   },
   {
    "duration": 65,
    "start_time": "2024-01-09T14:06:35.577Z"
   },
   {
    "duration": 64,
    "start_time": "2024-01-09T14:06:35.643Z"
   },
   {
    "duration": 173,
    "start_time": "2024-01-09T14:06:35.709Z"
   },
   {
    "duration": 405,
    "start_time": "2024-01-09T14:06:35.884Z"
   },
   {
    "duration": 326,
    "start_time": "2024-01-09T14:06:36.293Z"
   },
   {
    "duration": 22,
    "start_time": "2024-01-09T14:06:36.621Z"
   },
   {
    "duration": 24,
    "start_time": "2024-01-09T14:06:36.644Z"
   },
   {
    "duration": 15,
    "start_time": "2024-01-09T14:06:36.669Z"
   },
   {
    "duration": 293,
    "start_time": "2024-01-09T14:06:36.685Z"
   },
   {
    "duration": 21,
    "start_time": "2024-01-09T14:06:36.980Z"
   },
   {
    "duration": 213,
    "start_time": "2024-01-09T14:06:37.002Z"
   },
   {
    "duration": 15,
    "start_time": "2024-01-09T14:06:37.217Z"
   },
   {
    "duration": 21,
    "start_time": "2024-01-09T14:06:37.242Z"
   },
   {
    "duration": 219,
    "start_time": "2024-01-09T14:06:37.265Z"
   },
   {
    "duration": 22,
    "start_time": "2024-01-09T14:06:37.485Z"
   },
   {
    "duration": 210,
    "start_time": "2024-01-09T14:06:37.509Z"
   },
   {
    "duration": 30,
    "start_time": "2024-01-09T14:06:37.721Z"
   },
   {
    "duration": 15,
    "start_time": "2024-01-09T14:06:37.753Z"
   },
   {
    "duration": 225,
    "start_time": "2024-01-09T14:06:37.769Z"
   },
   {
    "duration": 4,
    "start_time": "2024-01-09T14:06:37.995Z"
   },
   {
    "duration": 159,
    "start_time": "2024-01-09T14:06:38.000Z"
   },
   {
    "duration": 5657,
    "start_time": "2024-01-09T14:06:38.161Z"
   },
   {
    "duration": 70,
    "start_time": "2024-01-09T14:06:43.820Z"
   },
   {
    "duration": 28,
    "start_time": "2024-01-09T14:06:43.892Z"
   },
   {
    "duration": 91,
    "start_time": "2024-01-09T14:06:43.922Z"
   },
   {
    "duration": 145,
    "start_time": "2024-01-09T14:06:44.014Z"
   },
   {
    "duration": 21,
    "start_time": "2024-01-09T14:06:44.161Z"
   },
   {
    "duration": 36,
    "start_time": "2024-01-09T14:06:44.183Z"
   },
   {
    "duration": 35,
    "start_time": "2024-01-09T14:06:44.221Z"
   },
   {
    "duration": 231,
    "start_time": "2024-01-09T14:06:44.258Z"
   },
   {
    "duration": 189,
    "start_time": "2024-01-09T14:06:44.491Z"
   },
   {
    "duration": 186,
    "start_time": "2024-01-09T14:06:44.681Z"
   },
   {
    "duration": 31,
    "start_time": "2024-01-09T14:06:44.868Z"
   },
   {
    "duration": 65,
    "start_time": "2024-01-09T14:06:44.900Z"
   },
   {
    "duration": 150,
    "start_time": "2024-01-09T14:06:51.730Z"
   },
   {
    "duration": 101,
    "start_time": "2024-01-09T14:06:57.739Z"
   },
   {
    "duration": 91,
    "start_time": "2024-01-09T14:08:16.842Z"
   },
   {
    "duration": 4,
    "start_time": "2024-01-09T14:08:26.916Z"
   },
   {
    "duration": 11,
    "start_time": "2024-01-09T14:08:36.592Z"
   },
   {
    "duration": 10,
    "start_time": "2024-01-09T14:08:36.605Z"
   },
   {
    "duration": 4,
    "start_time": "2024-01-09T14:08:36.616Z"
   },
   {
    "duration": 5,
    "start_time": "2024-01-09T14:08:36.621Z"
   },
   {
    "duration": 5,
    "start_time": "2024-01-09T14:08:36.627Z"
   },
   {
    "duration": 261,
    "start_time": "2024-01-09T14:08:36.635Z"
   },
   {
    "duration": 311,
    "start_time": "2024-01-09T14:08:36.898Z"
   },
   {
    "duration": 8,
    "start_time": "2024-01-09T14:08:37.211Z"
   },
   {
    "duration": 0,
    "start_time": "2024-01-09T14:08:37.221Z"
   },
   {
    "duration": 0,
    "start_time": "2024-01-09T14:08:37.222Z"
   },
   {
    "duration": 0,
    "start_time": "2024-01-09T14:08:37.223Z"
   },
   {
    "duration": 0,
    "start_time": "2024-01-09T14:08:37.224Z"
   },
   {
    "duration": 0,
    "start_time": "2024-01-09T14:08:37.225Z"
   },
   {
    "duration": 0,
    "start_time": "2024-01-09T14:08:37.226Z"
   },
   {
    "duration": 2881,
    "start_time": "2024-01-09T14:09:39.375Z"
   },
   {
    "duration": 2622,
    "start_time": "2024-01-09T14:09:42.258Z"
   },
   {
    "duration": 2509,
    "start_time": "2024-01-09T14:09:44.882Z"
   },
   {
    "duration": 2425,
    "start_time": "2024-01-09T14:09:47.394Z"
   },
   {
    "duration": 6,
    "start_time": "2024-01-09T14:09:49.821Z"
   },
   {
    "duration": 820,
    "start_time": "2024-01-09T14:09:49.829Z"
   },
   {
    "duration": 140,
    "start_time": "2024-01-09T14:09:50.651Z"
   },
   {
    "duration": 403,
    "start_time": "2024-01-09T14:09:50.792Z"
   },
   {
    "duration": 422,
    "start_time": "2024-01-09T14:09:51.198Z"
   },
   {
    "duration": 843,
    "start_time": "2024-01-09T14:09:51.623Z"
   },
   {
    "duration": 64,
    "start_time": "2024-01-09T14:09:52.468Z"
   },
   {
    "duration": 23,
    "start_time": "2024-01-09T14:09:52.543Z"
   },
   {
    "duration": 5,
    "start_time": "2024-01-09T14:09:52.567Z"
   },
   {
    "duration": 27,
    "start_time": "2024-01-09T14:09:52.574Z"
   },
   {
    "duration": 107,
    "start_time": "2024-01-09T14:09:52.603Z"
   },
   {
    "duration": 114,
    "start_time": "2024-01-09T14:09:52.712Z"
   },
   {
    "duration": 1563,
    "start_time": "2024-01-09T14:09:52.828Z"
   },
   {
    "duration": 21,
    "start_time": "2024-01-09T14:09:54.392Z"
   },
   {
    "duration": 32,
    "start_time": "2024-01-09T14:09:54.414Z"
   },
   {
    "duration": 46,
    "start_time": "2024-01-09T14:09:54.447Z"
   },
   {
    "duration": 32,
    "start_time": "2024-01-09T14:09:54.494Z"
   },
   {
    "duration": 20,
    "start_time": "2024-01-09T14:09:54.528Z"
   },
   {
    "duration": 39,
    "start_time": "2024-01-09T14:09:54.549Z"
   },
   {
    "duration": 38,
    "start_time": "2024-01-09T14:09:54.589Z"
   },
   {
    "duration": 45,
    "start_time": "2024-01-09T14:09:54.629Z"
   },
   {
    "duration": 236,
    "start_time": "2024-01-09T14:09:54.676Z"
   },
   {
    "duration": 415,
    "start_time": "2024-01-09T14:09:54.914Z"
   },
   {
    "duration": 244,
    "start_time": "2024-01-09T14:09:55.342Z"
   },
   {
    "duration": 15,
    "start_time": "2024-01-09T14:09:55.588Z"
   },
   {
    "duration": 40,
    "start_time": "2024-01-09T14:09:55.605Z"
   },
   {
    "duration": 38,
    "start_time": "2024-01-09T14:09:55.646Z"
   },
   {
    "duration": 315,
    "start_time": "2024-01-09T14:09:55.686Z"
   },
   {
    "duration": 23,
    "start_time": "2024-01-09T14:09:56.002Z"
   },
   {
    "duration": 234,
    "start_time": "2024-01-09T14:09:56.027Z"
   },
   {
    "duration": 16,
    "start_time": "2024-01-09T14:09:56.263Z"
   },
   {
    "duration": 25,
    "start_time": "2024-01-09T14:09:56.280Z"
   },
   {
    "duration": 228,
    "start_time": "2024-01-09T14:09:56.307Z"
   },
   {
    "duration": 21,
    "start_time": "2024-01-09T14:09:56.541Z"
   },
   {
    "duration": 219,
    "start_time": "2024-01-09T14:09:56.564Z"
   },
   {
    "duration": 21,
    "start_time": "2024-01-09T14:09:56.785Z"
   },
   {
    "duration": 16,
    "start_time": "2024-01-09T14:09:56.807Z"
   },
   {
    "duration": 212,
    "start_time": "2024-01-09T14:09:56.824Z"
   },
   {
    "duration": 6,
    "start_time": "2024-01-09T14:09:57.037Z"
   },
   {
    "duration": 147,
    "start_time": "2024-01-09T14:09:57.045Z"
   },
   {
    "duration": 5317,
    "start_time": "2024-01-09T14:09:57.194Z"
   },
   {
    "duration": 71,
    "start_time": "2024-01-09T14:10:02.512Z"
   },
   {
    "duration": 4,
    "start_time": "2024-01-09T14:10:02.585Z"
   },
   {
    "duration": 76,
    "start_time": "2024-01-09T14:10:02.590Z"
   },
   {
    "duration": 155,
    "start_time": "2024-01-09T14:10:02.668Z"
   },
   {
    "duration": 25,
    "start_time": "2024-01-09T14:10:02.825Z"
   },
   {
    "duration": 112,
    "start_time": "2024-01-09T14:10:02.852Z"
   },
   {
    "duration": 72,
    "start_time": "2024-01-09T14:10:02.966Z"
   },
   {
    "duration": 182,
    "start_time": "2024-01-09T14:10:03.040Z"
   },
   {
    "duration": 179,
    "start_time": "2024-01-09T14:10:03.224Z"
   },
   {
    "duration": 180,
    "start_time": "2024-01-09T14:10:03.404Z"
   },
   {
    "duration": 26,
    "start_time": "2024-01-09T14:10:03.586Z"
   },
   {
    "duration": 66,
    "start_time": "2024-01-09T14:10:03.614Z"
   },
   {
    "duration": 122,
    "start_time": "2024-01-09T14:10:03.681Z"
   },
   {
    "duration": 100,
    "start_time": "2024-01-09T14:10:03.804Z"
   },
   {
    "duration": 4,
    "start_time": "2024-01-09T14:10:03.906Z"
   },
   {
    "duration": 42,
    "start_time": "2024-01-09T14:10:03.911Z"
   },
   {
    "duration": 150,
    "start_time": "2024-01-09T14:10:03.954Z"
   },
   {
    "duration": 10,
    "start_time": "2024-01-09T14:10:04.106Z"
   },
   {
    "duration": 5,
    "start_time": "2024-01-09T14:10:04.117Z"
   },
   {
    "duration": 5,
    "start_time": "2024-01-09T14:10:04.124Z"
   },
   {
    "duration": 257,
    "start_time": "2024-01-09T14:10:04.130Z"
   },
   {
    "duration": 248,
    "start_time": "2024-01-09T14:10:04.388Z"
   },
   {
    "duration": 8,
    "start_time": "2024-01-09T14:10:04.638Z"
   },
   {
    "duration": 0,
    "start_time": "2024-01-09T14:10:04.648Z"
   },
   {
    "duration": 0,
    "start_time": "2024-01-09T14:10:04.649Z"
   },
   {
    "duration": 0,
    "start_time": "2024-01-09T14:10:04.650Z"
   },
   {
    "duration": 0,
    "start_time": "2024-01-09T14:10:04.652Z"
   },
   {
    "duration": 0,
    "start_time": "2024-01-09T14:10:04.653Z"
   },
   {
    "duration": 0,
    "start_time": "2024-01-09T14:10:04.654Z"
   },
   {
    "duration": 4062,
    "start_time": "2024-01-09T14:57:42.908Z"
   },
   {
    "duration": 2538,
    "start_time": "2024-01-09T14:57:46.972Z"
   },
   {
    "duration": 2607,
    "start_time": "2024-01-09T14:57:49.512Z"
   },
   {
    "duration": 2450,
    "start_time": "2024-01-09T14:57:52.121Z"
   },
   {
    "duration": 1272,
    "start_time": "2024-01-09T14:57:54.574Z"
   },
   {
    "duration": 884,
    "start_time": "2024-01-09T14:57:55.847Z"
   },
   {
    "duration": 165,
    "start_time": "2024-01-09T14:57:56.733Z"
   },
   {
    "duration": 472,
    "start_time": "2024-01-09T14:57:56.900Z"
   },
   {
    "duration": 485,
    "start_time": "2024-01-09T14:57:57.374Z"
   },
   {
    "duration": 963,
    "start_time": "2024-01-09T14:57:57.861Z"
   },
   {
    "duration": 64,
    "start_time": "2024-01-09T14:57:58.826Z"
   },
   {
    "duration": 38,
    "start_time": "2024-01-09T14:57:58.892Z"
   },
   {
    "duration": 10,
    "start_time": "2024-01-09T14:57:58.932Z"
   },
   {
    "duration": 24,
    "start_time": "2024-01-09T14:57:58.945Z"
   },
   {
    "duration": 103,
    "start_time": "2024-01-09T14:57:58.971Z"
   },
   {
    "duration": 100,
    "start_time": "2024-01-09T14:57:59.075Z"
   },
   {
    "duration": 1537,
    "start_time": "2024-01-09T14:57:59.177Z"
   },
   {
    "duration": 27,
    "start_time": "2024-01-09T14:58:00.716Z"
   },
   {
    "duration": 102,
    "start_time": "2024-01-09T14:58:00.745Z"
   },
   {
    "duration": 92,
    "start_time": "2024-01-09T14:58:00.848Z"
   },
   {
    "duration": 82,
    "start_time": "2024-01-09T14:58:00.941Z"
   },
   {
    "duration": 71,
    "start_time": "2024-01-09T14:58:01.024Z"
   },
   {
    "duration": 90,
    "start_time": "2024-01-09T14:58:01.097Z"
   },
   {
    "duration": 60,
    "start_time": "2024-01-09T14:58:01.189Z"
   },
   {
    "duration": 62,
    "start_time": "2024-01-09T14:58:01.251Z"
   },
   {
    "duration": 177,
    "start_time": "2024-01-09T14:58:01.315Z"
   },
   {
    "duration": 466,
    "start_time": "2024-01-09T14:58:01.494Z"
   },
   {
    "duration": 309,
    "start_time": "2024-01-09T14:58:01.961Z"
   },
   {
    "duration": 16,
    "start_time": "2024-01-09T14:58:02.271Z"
   },
   {
    "duration": 23,
    "start_time": "2024-01-09T14:58:02.289Z"
   },
   {
    "duration": 32,
    "start_time": "2024-01-09T14:58:02.313Z"
   },
   {
    "duration": 279,
    "start_time": "2024-01-09T14:58:02.347Z"
   },
   {
    "duration": 27,
    "start_time": "2024-01-09T14:58:02.628Z"
   },
   {
    "duration": 216,
    "start_time": "2024-01-09T14:58:02.656Z"
   },
   {
    "duration": 19,
    "start_time": "2024-01-09T14:58:02.874Z"
   },
   {
    "duration": 23,
    "start_time": "2024-01-09T14:58:02.895Z"
   },
   {
    "duration": 280,
    "start_time": "2024-01-09T14:58:02.919Z"
   },
   {
    "duration": 21,
    "start_time": "2024-01-09T14:58:03.201Z"
   },
   {
    "duration": 209,
    "start_time": "2024-01-09T14:58:03.224Z"
   },
   {
    "duration": 27,
    "start_time": "2024-01-09T14:58:03.435Z"
   },
   {
    "duration": 16,
    "start_time": "2024-01-09T14:58:03.466Z"
   },
   {
    "duration": 225,
    "start_time": "2024-01-09T14:58:03.483Z"
   },
   {
    "duration": 4,
    "start_time": "2024-01-09T14:58:03.710Z"
   },
   {
    "duration": 157,
    "start_time": "2024-01-09T14:58:03.716Z"
   },
   {
    "duration": 5240,
    "start_time": "2024-01-09T14:58:03.874Z"
   },
   {
    "duration": 65,
    "start_time": "2024-01-09T14:58:09.116Z"
   },
   {
    "duration": 3,
    "start_time": "2024-01-09T14:58:09.183Z"
   },
   {
    "duration": 76,
    "start_time": "2024-01-09T14:58:09.188Z"
   },
   {
    "duration": 142,
    "start_time": "2024-01-09T14:58:09.265Z"
   },
   {
    "duration": 22,
    "start_time": "2024-01-09T14:58:09.408Z"
   },
   {
    "duration": 41,
    "start_time": "2024-01-09T14:58:09.431Z"
   },
   {
    "duration": 60,
    "start_time": "2024-01-09T14:58:09.473Z"
   },
   {
    "duration": 200,
    "start_time": "2024-01-09T14:58:09.534Z"
   },
   {
    "duration": 176,
    "start_time": "2024-01-09T14:58:09.735Z"
   },
   {
    "duration": 177,
    "start_time": "2024-01-09T14:58:09.913Z"
   },
   {
    "duration": 29,
    "start_time": "2024-01-09T14:58:10.092Z"
   },
   {
    "duration": 57,
    "start_time": "2024-01-09T14:58:10.123Z"
   },
   {
    "duration": 103,
    "start_time": "2024-01-09T14:58:10.182Z"
   },
   {
    "duration": 106,
    "start_time": "2024-01-09T14:58:10.286Z"
   },
   {
    "duration": 4,
    "start_time": "2024-01-09T14:58:10.393Z"
   },
   {
    "duration": 3122,
    "start_time": "2024-01-09T16:11:36.430Z"
   },
   {
    "duration": 2473,
    "start_time": "2024-01-09T16:11:39.554Z"
   },
   {
    "duration": 2439,
    "start_time": "2024-01-09T16:11:42.029Z"
   },
   {
    "duration": 2443,
    "start_time": "2024-01-09T16:11:44.470Z"
   },
   {
    "duration": 1272,
    "start_time": "2024-01-09T16:11:46.916Z"
   },
   {
    "duration": 878,
    "start_time": "2024-01-09T16:11:48.190Z"
   },
   {
    "duration": 145,
    "start_time": "2024-01-09T16:11:49.069Z"
   },
   {
    "duration": 448,
    "start_time": "2024-01-09T16:11:49.215Z"
   },
   {
    "duration": 477,
    "start_time": "2024-01-09T16:11:49.664Z"
   },
   {
    "duration": 940,
    "start_time": "2024-01-09T16:11:50.143Z"
   },
   {
    "duration": 85,
    "start_time": "2024-01-09T16:11:51.084Z"
   },
   {
    "duration": 107,
    "start_time": "2024-01-09T16:11:51.171Z"
   },
   {
    "duration": 73,
    "start_time": "2024-01-09T16:11:51.282Z"
   },
   {
    "duration": 86,
    "start_time": "2024-01-09T16:11:51.357Z"
   },
   {
    "duration": 212,
    "start_time": "2024-01-09T16:11:51.445Z"
   },
   {
    "duration": 212,
    "start_time": "2024-01-09T16:11:51.659Z"
   },
   {
    "duration": 1959,
    "start_time": "2024-01-09T16:11:51.872Z"
   },
   {
    "duration": 26,
    "start_time": "2024-01-09T16:11:53.833Z"
   },
   {
    "duration": 61,
    "start_time": "2024-01-09T16:11:53.861Z"
   },
   {
    "duration": 67,
    "start_time": "2024-01-09T16:11:53.923Z"
   },
   {
    "duration": 32,
    "start_time": "2024-01-09T16:11:53.991Z"
   },
   {
    "duration": 39,
    "start_time": "2024-01-09T16:11:54.024Z"
   },
   {
    "duration": 42,
    "start_time": "2024-01-09T16:11:54.064Z"
   },
   {
    "duration": 51,
    "start_time": "2024-01-09T16:11:54.107Z"
   },
   {
    "duration": 63,
    "start_time": "2024-01-09T16:11:54.160Z"
   },
   {
    "duration": 168,
    "start_time": "2024-01-09T16:11:54.225Z"
   },
   {
    "duration": 401,
    "start_time": "2024-01-09T16:11:54.395Z"
   },
   {
    "duration": 318,
    "start_time": "2024-01-09T16:11:54.798Z"
   },
   {
    "duration": 14,
    "start_time": "2024-01-09T16:11:55.118Z"
   },
   {
    "duration": 23,
    "start_time": "2024-01-09T16:11:55.142Z"
   },
   {
    "duration": 16,
    "start_time": "2024-01-09T16:11:55.167Z"
   },
   {
    "duration": 287,
    "start_time": "2024-01-09T16:11:55.185Z"
   },
   {
    "duration": 23,
    "start_time": "2024-01-09T16:11:55.473Z"
   },
   {
    "duration": 214,
    "start_time": "2024-01-09T16:11:55.498Z"
   },
   {
    "duration": 17,
    "start_time": "2024-01-09T16:11:55.714Z"
   },
   {
    "duration": 22,
    "start_time": "2024-01-09T16:11:55.742Z"
   },
   {
    "duration": 233,
    "start_time": "2024-01-09T16:11:55.766Z"
   },
   {
    "duration": 21,
    "start_time": "2024-01-09T16:11:56.001Z"
   },
   {
    "duration": 243,
    "start_time": "2024-01-09T16:11:56.023Z"
   },
   {
    "duration": 25,
    "start_time": "2024-01-09T16:11:56.271Z"
   },
   {
    "duration": 16,
    "start_time": "2024-01-09T16:11:56.298Z"
   },
   {
    "duration": 239,
    "start_time": "2024-01-09T16:11:56.316Z"
   },
   {
    "duration": 4,
    "start_time": "2024-01-09T16:11:56.556Z"
   },
   {
    "duration": 181,
    "start_time": "2024-01-09T16:11:56.562Z"
   },
   {
    "duration": 5509,
    "start_time": "2024-01-09T16:11:56.745Z"
   },
   {
    "duration": 65,
    "start_time": "2024-01-09T16:12:02.256Z"
   },
   {
    "duration": 3,
    "start_time": "2024-01-09T16:12:02.323Z"
   },
   {
    "duration": 65,
    "start_time": "2024-01-09T16:12:02.328Z"
   },
   {
    "duration": 115,
    "start_time": "2024-01-09T16:12:02.395Z"
   },
   {
    "duration": 30,
    "start_time": "2024-01-09T16:12:02.512Z"
   },
   {
    "duration": 55,
    "start_time": "2024-01-09T16:12:02.544Z"
   },
   {
    "duration": 90,
    "start_time": "2024-01-09T16:12:02.601Z"
   },
   {
    "duration": 203,
    "start_time": "2024-01-09T16:12:02.693Z"
   },
   {
    "duration": 182,
    "start_time": "2024-01-09T16:12:02.898Z"
   },
   {
    "duration": 182,
    "start_time": "2024-01-09T16:12:03.082Z"
   },
   {
    "duration": 30,
    "start_time": "2024-01-09T16:12:03.265Z"
   },
   {
    "duration": 162,
    "start_time": "2024-01-09T16:12:03.297Z"
   },
   {
    "duration": 150,
    "start_time": "2024-01-09T16:12:03.460Z"
   },
   {
    "duration": 98,
    "start_time": "2024-01-09T16:12:03.612Z"
   },
   {
    "duration": 5,
    "start_time": "2024-01-09T16:12:03.711Z"
   },
   {
    "duration": 1173,
    "start_time": "2024-01-09T16:12:03.718Z"
   },
   {
    "duration": 0,
    "start_time": "2024-01-09T16:12:04.893Z"
   },
   {
    "duration": 0,
    "start_time": "2024-01-09T16:12:04.894Z"
   },
   {
    "duration": 0,
    "start_time": "2024-01-09T16:12:04.895Z"
   },
   {
    "duration": 0,
    "start_time": "2024-01-09T16:12:04.896Z"
   },
   {
    "duration": 0,
    "start_time": "2024-01-09T16:12:04.897Z"
   },
   {
    "duration": 0,
    "start_time": "2024-01-09T16:12:04.898Z"
   },
   {
    "duration": 0,
    "start_time": "2024-01-09T16:12:04.898Z"
   },
   {
    "duration": 0,
    "start_time": "2024-01-09T16:12:04.900Z"
   },
   {
    "duration": 0,
    "start_time": "2024-01-09T16:12:04.900Z"
   },
   {
    "duration": 0,
    "start_time": "2024-01-09T16:12:04.902Z"
   },
   {
    "duration": 0,
    "start_time": "2024-01-09T16:12:04.903Z"
   },
   {
    "duration": 0,
    "start_time": "2024-01-09T16:12:04.904Z"
   },
   {
    "duration": 0,
    "start_time": "2024-01-09T16:12:04.905Z"
   },
   {
    "duration": 0,
    "start_time": "2024-01-09T16:12:04.906Z"
   },
   {
    "duration": 28,
    "start_time": "2024-01-09T16:16:11.716Z"
   },
   {
    "duration": 9,
    "start_time": "2024-01-09T16:16:16.430Z"
   },
   {
    "duration": 10,
    "start_time": "2024-01-09T16:16:17.572Z"
   },
   {
    "duration": 3,
    "start_time": "2024-01-09T16:16:18.546Z"
   },
   {
    "duration": 3,
    "start_time": "2024-01-09T16:16:19.646Z"
   },
   {
    "duration": 3,
    "start_time": "2024-01-09T16:16:20.631Z"
   },
   {
    "duration": 13751,
    "start_time": "2024-01-09T16:16:23.495Z"
   },
   {
    "duration": 187,
    "start_time": "2024-01-09T16:16:40.058Z"
   },
   {
    "duration": 5,
    "start_time": "2024-01-09T16:16:42.716Z"
   },
   {
    "duration": 4,
    "start_time": "2024-01-09T16:16:48.145Z"
   },
   {
    "duration": 3,
    "start_time": "2024-01-09T16:16:49.325Z"
   },
   {
    "duration": 4,
    "start_time": "2024-01-09T16:16:50.240Z"
   },
   {
    "duration": 3,
    "start_time": "2024-01-09T16:16:51.563Z"
   },
   {
    "duration": 2780,
    "start_time": "2024-01-09T16:31:07.272Z"
   },
   {
    "duration": 2469,
    "start_time": "2024-01-09T16:31:10.054Z"
   },
   {
    "duration": 2492,
    "start_time": "2024-01-09T16:31:12.525Z"
   },
   {
    "duration": 2569,
    "start_time": "2024-01-09T16:31:15.019Z"
   },
   {
    "duration": 1283,
    "start_time": "2024-01-09T16:31:17.591Z"
   },
   {
    "duration": 891,
    "start_time": "2024-01-09T16:31:18.876Z"
   },
   {
    "duration": 169,
    "start_time": "2024-01-09T16:31:19.769Z"
   },
   {
    "duration": 478,
    "start_time": "2024-01-09T16:31:19.939Z"
   },
   {
    "duration": 453,
    "start_time": "2024-01-09T16:31:20.418Z"
   },
   {
    "duration": 893,
    "start_time": "2024-01-09T16:31:20.872Z"
   },
   {
    "duration": 79,
    "start_time": "2024-01-09T16:31:21.767Z"
   },
   {
    "duration": 40,
    "start_time": "2024-01-09T16:31:21.847Z"
   },
   {
    "duration": 5,
    "start_time": "2024-01-09T16:31:21.889Z"
   },
   {
    "duration": 24,
    "start_time": "2024-01-09T16:31:21.897Z"
   },
   {
    "duration": 125,
    "start_time": "2024-01-09T16:31:21.922Z"
   },
   {
    "duration": 98,
    "start_time": "2024-01-09T16:31:22.049Z"
   },
   {
    "duration": 1529,
    "start_time": "2024-01-09T16:31:22.148Z"
   },
   {
    "duration": 21,
    "start_time": "2024-01-09T16:31:23.679Z"
   },
   {
    "duration": 21,
    "start_time": "2024-01-09T16:31:23.701Z"
   },
   {
    "duration": 33,
    "start_time": "2024-01-09T16:31:23.723Z"
   },
   {
    "duration": 24,
    "start_time": "2024-01-09T16:31:23.758Z"
   },
   {
    "duration": 58,
    "start_time": "2024-01-09T16:31:23.784Z"
   },
   {
    "duration": 30,
    "start_time": "2024-01-09T16:31:23.844Z"
   },
   {
    "duration": 37,
    "start_time": "2024-01-09T16:31:23.875Z"
   },
   {
    "duration": 62,
    "start_time": "2024-01-09T16:31:23.914Z"
   },
   {
    "duration": 160,
    "start_time": "2024-01-09T16:31:23.978Z"
   },
   {
    "duration": 455,
    "start_time": "2024-01-09T16:31:24.143Z"
   },
   {
    "duration": 317,
    "start_time": "2024-01-09T16:31:24.600Z"
   },
   {
    "duration": 29,
    "start_time": "2024-01-09T16:31:24.919Z"
   },
   {
    "duration": 24,
    "start_time": "2024-01-09T16:31:24.950Z"
   },
   {
    "duration": 17,
    "start_time": "2024-01-09T16:31:24.975Z"
   },
   {
    "duration": 300,
    "start_time": "2024-01-09T16:31:24.994Z"
   },
   {
    "duration": 23,
    "start_time": "2024-01-09T16:31:25.296Z"
   },
   {
    "duration": 231,
    "start_time": "2024-01-09T16:31:25.320Z"
   },
   {
    "duration": 17,
    "start_time": "2024-01-09T16:31:25.553Z"
   },
   {
    "duration": 21,
    "start_time": "2024-01-09T16:31:25.571Z"
   },
   {
    "duration": 249,
    "start_time": "2024-01-09T16:31:25.593Z"
   },
   {
    "duration": 20,
    "start_time": "2024-01-09T16:31:25.843Z"
   },
   {
    "duration": 195,
    "start_time": "2024-01-09T16:31:25.865Z"
   },
   {
    "duration": 22,
    "start_time": "2024-01-09T16:31:26.061Z"
   },
   {
    "duration": 14,
    "start_time": "2024-01-09T16:31:26.087Z"
   },
   {
    "duration": 206,
    "start_time": "2024-01-09T16:31:26.103Z"
   },
   {
    "duration": 3,
    "start_time": "2024-01-09T16:31:26.310Z"
   },
   {
    "duration": 148,
    "start_time": "2024-01-09T16:31:26.315Z"
   },
   {
    "duration": 5118,
    "start_time": "2024-01-09T16:31:26.465Z"
   },
   {
    "duration": 67,
    "start_time": "2024-01-09T16:31:31.584Z"
   },
   {
    "duration": 3,
    "start_time": "2024-01-09T16:31:31.653Z"
   },
   {
    "duration": 78,
    "start_time": "2024-01-09T16:31:31.658Z"
   },
   {
    "duration": 153,
    "start_time": "2024-01-09T16:31:31.738Z"
   },
   {
    "duration": 21,
    "start_time": "2024-01-09T16:31:31.892Z"
   },
   {
    "duration": 38,
    "start_time": "2024-01-09T16:31:31.915Z"
   },
   {
    "duration": 65,
    "start_time": "2024-01-09T16:31:31.954Z"
   },
   {
    "duration": 198,
    "start_time": "2024-01-09T16:31:32.021Z"
   },
   {
    "duration": 184,
    "start_time": "2024-01-09T16:31:32.221Z"
   },
   {
    "duration": 179,
    "start_time": "2024-01-09T16:31:32.406Z"
   },
   {
    "duration": 29,
    "start_time": "2024-01-09T16:31:32.586Z"
   },
   {
    "duration": 78,
    "start_time": "2024-01-09T16:31:32.617Z"
   },
   {
    "duration": 100,
    "start_time": "2024-01-09T16:31:32.696Z"
   },
   {
    "duration": 110,
    "start_time": "2024-01-09T16:31:32.798Z"
   },
   {
    "duration": 4,
    "start_time": "2024-01-09T16:31:32.910Z"
   },
   {
    "duration": 59,
    "start_time": "2024-01-09T16:31:32.915Z"
   },
   {
    "duration": 10,
    "start_time": "2024-01-09T16:31:32.975Z"
   },
   {
    "duration": 20,
    "start_time": "2024-01-09T16:31:32.987Z"
   },
   {
    "duration": 38,
    "start_time": "2024-01-09T16:31:33.008Z"
   },
   {
    "duration": 24,
    "start_time": "2024-01-09T16:31:33.047Z"
   },
   {
    "duration": 32,
    "start_time": "2024-01-09T16:31:33.072Z"
   },
   {
    "duration": 13644,
    "start_time": "2024-01-09T16:31:33.106Z"
   },
   {
    "duration": 199,
    "start_time": "2024-01-09T16:31:46.751Z"
   },
   {
    "duration": 5,
    "start_time": "2024-01-09T16:31:46.952Z"
   },
   {
    "duration": 5,
    "start_time": "2024-01-09T16:31:46.959Z"
   },
   {
    "duration": 7,
    "start_time": "2024-01-09T16:31:46.965Z"
   },
   {
    "duration": 4,
    "start_time": "2024-01-09T16:31:46.974Z"
   },
   {
    "duration": 14,
    "start_time": "2024-01-09T16:31:46.980Z"
   },
   {
    "duration": 4858,
    "start_time": "2024-01-09T20:23:04.717Z"
   },
   {
    "duration": 2975,
    "start_time": "2024-01-09T20:23:09.577Z"
   },
   {
    "duration": 5629,
    "start_time": "2024-01-09T20:23:12.554Z"
   },
   {
    "duration": 2725,
    "start_time": "2024-01-09T20:23:18.185Z"
   },
   {
    "duration": 1406,
    "start_time": "2024-01-09T20:23:20.912Z"
   },
   {
    "duration": 2740,
    "start_time": "2024-01-09T20:23:22.320Z"
   },
   {
    "duration": 146,
    "start_time": "2024-01-09T20:23:25.062Z"
   },
   {
    "duration": 448,
    "start_time": "2024-01-09T20:23:25.210Z"
   },
   {
    "duration": 432,
    "start_time": "2024-01-09T20:23:25.660Z"
   },
   {
    "duration": 887,
    "start_time": "2024-01-09T20:23:26.095Z"
   },
   {
    "duration": 61,
    "start_time": "2024-01-09T20:23:26.984Z"
   },
   {
    "duration": 38,
    "start_time": "2024-01-09T20:23:27.047Z"
   },
   {
    "duration": 11,
    "start_time": "2024-01-09T20:23:27.087Z"
   },
   {
    "duration": 17,
    "start_time": "2024-01-09T20:23:27.099Z"
   },
   {
    "duration": 104,
    "start_time": "2024-01-09T20:23:27.118Z"
   },
   {
    "duration": 117,
    "start_time": "2024-01-09T20:23:27.223Z"
   },
   {
    "duration": 1563,
    "start_time": "2024-01-09T20:23:27.341Z"
   },
   {
    "duration": 21,
    "start_time": "2024-01-09T20:23:28.905Z"
   },
   {
    "duration": 41,
    "start_time": "2024-01-09T20:23:28.928Z"
   },
   {
    "duration": 22,
    "start_time": "2024-01-09T20:23:28.971Z"
   },
   {
    "duration": 26,
    "start_time": "2024-01-09T20:23:28.995Z"
   },
   {
    "duration": 36,
    "start_time": "2024-01-09T20:23:29.022Z"
   },
   {
    "duration": 39,
    "start_time": "2024-01-09T20:23:29.060Z"
   },
   {
    "duration": 39,
    "start_time": "2024-01-09T20:23:29.100Z"
   },
   {
    "duration": 57,
    "start_time": "2024-01-09T20:23:29.141Z"
   },
   {
    "duration": 155,
    "start_time": "2024-01-09T20:23:29.200Z"
   },
   {
    "duration": 478,
    "start_time": "2024-01-09T20:23:29.357Z"
   },
   {
    "duration": 241,
    "start_time": "2024-01-09T20:23:29.839Z"
   },
   {
    "duration": 16,
    "start_time": "2024-01-09T20:23:30.081Z"
   },
   {
    "duration": 40,
    "start_time": "2024-01-09T20:23:30.099Z"
   },
   {
    "duration": 35,
    "start_time": "2024-01-09T20:23:30.141Z"
   },
   {
    "duration": 334,
    "start_time": "2024-01-09T20:23:30.177Z"
   },
   {
    "duration": 23,
    "start_time": "2024-01-09T20:23:30.513Z"
   },
   {
    "duration": 225,
    "start_time": "2024-01-09T20:23:30.537Z"
   },
   {
    "duration": 16,
    "start_time": "2024-01-09T20:23:30.763Z"
   },
   {
    "duration": 34,
    "start_time": "2024-01-09T20:23:30.780Z"
   },
   {
    "duration": 403,
    "start_time": "2024-01-09T20:23:30.816Z"
   },
   {
    "duration": 20,
    "start_time": "2024-01-09T20:23:31.221Z"
   },
   {
    "duration": 188,
    "start_time": "2024-01-09T20:23:31.243Z"
   },
   {
    "duration": 26,
    "start_time": "2024-01-09T20:23:31.432Z"
   },
   {
    "duration": 15,
    "start_time": "2024-01-09T20:23:31.459Z"
   },
   {
    "duration": 212,
    "start_time": "2024-01-09T20:23:31.475Z"
   },
   {
    "duration": 4,
    "start_time": "2024-01-09T20:23:31.689Z"
   },
   {
    "duration": 146,
    "start_time": "2024-01-09T20:23:31.694Z"
   },
   {
    "duration": 4995,
    "start_time": "2024-01-09T20:23:31.841Z"
   },
   {
    "duration": 64,
    "start_time": "2024-01-09T20:23:36.837Z"
   },
   {
    "duration": 4,
    "start_time": "2024-01-09T20:23:36.902Z"
   },
   {
    "duration": 61,
    "start_time": "2024-01-09T20:23:36.907Z"
   },
   {
    "duration": 121,
    "start_time": "2024-01-09T20:23:36.969Z"
   },
   {
    "duration": 24,
    "start_time": "2024-01-09T20:23:37.091Z"
   },
   {
    "duration": 45,
    "start_time": "2024-01-09T20:23:37.117Z"
   },
   {
    "duration": 24,
    "start_time": "2024-01-09T20:23:37.163Z"
   },
   {
    "duration": 197,
    "start_time": "2024-01-09T20:23:37.188Z"
   },
   {
    "duration": 172,
    "start_time": "2024-01-09T20:23:37.386Z"
   },
   {
    "duration": 174,
    "start_time": "2024-01-09T20:23:37.559Z"
   },
   {
    "duration": 32,
    "start_time": "2024-01-09T20:23:37.735Z"
   },
   {
    "duration": 54,
    "start_time": "2024-01-09T20:23:37.769Z"
   },
   {
    "duration": 101,
    "start_time": "2024-01-09T20:23:37.824Z"
   },
   {
    "duration": 104,
    "start_time": "2024-01-09T20:23:37.926Z"
   },
   {
    "duration": 3,
    "start_time": "2024-01-09T20:23:38.031Z"
   },
   {
    "duration": 40,
    "start_time": "2024-01-09T20:23:38.036Z"
   },
   {
    "duration": 10,
    "start_time": "2024-01-09T20:23:38.077Z"
   },
   {
    "duration": 11,
    "start_time": "2024-01-09T20:23:38.088Z"
   },
   {
    "duration": 9,
    "start_time": "2024-01-09T20:24:41.042Z"
   },
   {
    "duration": 9,
    "start_time": "2024-01-09T20:24:55.917Z"
   },
   {
    "duration": 10,
    "start_time": "2024-01-09T20:30:59.513Z"
   },
   {
    "duration": 7145,
    "start_time": "2024-01-10T13:31:43.639Z"
   },
   {
    "duration": 3060,
    "start_time": "2024-01-10T13:31:50.787Z"
   },
   {
    "duration": 6325,
    "start_time": "2024-01-10T13:31:53.849Z"
   },
   {
    "duration": 6273,
    "start_time": "2024-01-10T13:32:00.176Z"
   },
   {
    "duration": 1423,
    "start_time": "2024-01-10T13:32:06.451Z"
   },
   {
    "duration": 2926,
    "start_time": "2024-01-10T13:32:07.876Z"
   },
   {
    "duration": 142,
    "start_time": "2024-01-10T13:32:10.804Z"
   },
   {
    "duration": 452,
    "start_time": "2024-01-10T13:32:10.947Z"
   },
   {
    "duration": 446,
    "start_time": "2024-01-10T13:32:11.401Z"
   },
   {
    "duration": 854,
    "start_time": "2024-01-10T13:32:11.850Z"
   },
   {
    "duration": 59,
    "start_time": "2024-01-10T13:32:12.705Z"
   },
   {
    "duration": 46,
    "start_time": "2024-01-10T13:32:12.766Z"
   },
   {
    "duration": 9,
    "start_time": "2024-01-10T13:32:12.814Z"
   },
   {
    "duration": 16,
    "start_time": "2024-01-10T13:32:12.824Z"
   },
   {
    "duration": 92,
    "start_time": "2024-01-10T13:32:12.841Z"
   },
   {
    "duration": 101,
    "start_time": "2024-01-10T13:32:12.935Z"
   },
   {
    "duration": 1516,
    "start_time": "2024-01-10T13:32:13.038Z"
   },
   {
    "duration": 20,
    "start_time": "2024-01-10T13:32:14.556Z"
   },
   {
    "duration": 33,
    "start_time": "2024-01-10T13:32:14.577Z"
   },
   {
    "duration": 52,
    "start_time": "2024-01-10T13:32:14.612Z"
   },
   {
    "duration": 23,
    "start_time": "2024-01-10T13:32:14.665Z"
   },
   {
    "duration": 24,
    "start_time": "2024-01-10T13:32:14.690Z"
   },
   {
    "duration": 24,
    "start_time": "2024-01-10T13:32:14.715Z"
   },
   {
    "duration": 37,
    "start_time": "2024-01-10T13:32:14.740Z"
   },
   {
    "duration": 69,
    "start_time": "2024-01-10T13:32:14.778Z"
   },
   {
    "duration": 154,
    "start_time": "2024-01-10T13:32:14.848Z"
   },
   {
    "duration": 426,
    "start_time": "2024-01-10T13:32:15.003Z"
   },
   {
    "duration": 333,
    "start_time": "2024-01-10T13:32:15.433Z"
   },
   {
    "duration": 14,
    "start_time": "2024-01-10T13:32:15.768Z"
   },
   {
    "duration": 35,
    "start_time": "2024-01-10T13:32:15.784Z"
   },
   {
    "duration": 14,
    "start_time": "2024-01-10T13:32:15.821Z"
   },
   {
    "duration": 259,
    "start_time": "2024-01-10T13:32:15.836Z"
   },
   {
    "duration": 21,
    "start_time": "2024-01-10T13:32:16.097Z"
   },
   {
    "duration": 198,
    "start_time": "2024-01-10T13:32:16.120Z"
   },
   {
    "duration": 14,
    "start_time": "2024-01-10T13:32:16.319Z"
   },
   {
    "duration": 34,
    "start_time": "2024-01-10T13:32:16.334Z"
   },
   {
    "duration": 232,
    "start_time": "2024-01-10T13:32:16.369Z"
   },
   {
    "duration": 20,
    "start_time": "2024-01-10T13:32:16.602Z"
   },
   {
    "duration": 217,
    "start_time": "2024-01-10T13:32:16.623Z"
   },
   {
    "duration": 20,
    "start_time": "2024-01-10T13:32:16.842Z"
   },
   {
    "duration": 14,
    "start_time": "2024-01-10T13:32:16.863Z"
   },
   {
    "duration": 200,
    "start_time": "2024-01-10T13:32:16.878Z"
   },
   {
    "duration": 3,
    "start_time": "2024-01-10T13:32:17.080Z"
   },
   {
    "duration": 165,
    "start_time": "2024-01-10T13:32:17.084Z"
   },
   {
    "duration": 4987,
    "start_time": "2024-01-10T13:32:17.250Z"
   },
   {
    "duration": 68,
    "start_time": "2024-01-10T13:32:22.238Z"
   },
   {
    "duration": 3,
    "start_time": "2024-01-10T13:32:22.308Z"
   },
   {
    "duration": 73,
    "start_time": "2024-01-10T13:32:22.313Z"
   },
   {
    "duration": 122,
    "start_time": "2024-01-10T13:32:22.388Z"
   },
   {
    "duration": 21,
    "start_time": "2024-01-10T13:32:22.512Z"
   },
   {
    "duration": 46,
    "start_time": "2024-01-10T13:32:22.534Z"
   },
   {
    "duration": 45,
    "start_time": "2024-01-10T13:32:22.582Z"
   },
   {
    "duration": 196,
    "start_time": "2024-01-10T13:32:22.629Z"
   },
   {
    "duration": 173,
    "start_time": "2024-01-10T13:32:22.826Z"
   },
   {
    "duration": 178,
    "start_time": "2024-01-10T13:32:23.001Z"
   },
   {
    "duration": 35,
    "start_time": "2024-01-10T13:32:23.180Z"
   },
   {
    "duration": 105,
    "start_time": "2024-01-10T13:32:23.216Z"
   },
   {
    "duration": 98,
    "start_time": "2024-01-10T13:32:23.322Z"
   },
   {
    "duration": 113,
    "start_time": "2024-01-10T13:32:23.421Z"
   },
   {
    "duration": 3,
    "start_time": "2024-01-10T13:32:23.536Z"
   },
   {
    "duration": 85,
    "start_time": "2024-01-10T13:32:23.542Z"
   },
   {
    "duration": 22,
    "start_time": "2024-01-10T13:32:23.629Z"
   },
   {
    "duration": 18,
    "start_time": "2024-01-10T13:32:23.652Z"
   },
   {
    "duration": 22,
    "start_time": "2024-01-10T13:32:23.671Z"
   },
   {
    "duration": 12,
    "start_time": "2024-01-10T13:32:23.695Z"
   },
   {
    "duration": 10,
    "start_time": "2024-01-10T13:32:23.709Z"
   },
   {
    "duration": 10,
    "start_time": "2024-01-10T13:32:23.721Z"
   },
   {
    "duration": 11775,
    "start_time": "2024-01-10T13:32:23.733Z"
   },
   {
    "duration": 245,
    "start_time": "2024-01-10T13:32:35.510Z"
   },
   {
    "duration": 4,
    "start_time": "2024-01-10T13:32:35.757Z"
   },
   {
    "duration": 6,
    "start_time": "2024-01-10T13:32:35.762Z"
   },
   {
    "duration": 8,
    "start_time": "2024-01-10T13:32:35.769Z"
   },
   {
    "duration": 29,
    "start_time": "2024-01-10T13:32:35.778Z"
   },
   {
    "duration": 4,
    "start_time": "2024-01-10T13:32:41.859Z"
   },
   {
    "duration": 3,
    "start_time": "2024-01-10T13:32:43.490Z"
   },
   {
    "duration": 2701,
    "start_time": "2024-01-10T13:41:23.692Z"
   },
   {
    "duration": 2350,
    "start_time": "2024-01-10T13:41:26.396Z"
   },
   {
    "duration": 2468,
    "start_time": "2024-01-10T13:41:28.748Z"
   },
   {
    "duration": 2407,
    "start_time": "2024-01-10T13:41:31.218Z"
   },
   {
    "duration": 2772,
    "start_time": "2024-01-10T13:41:50.422Z"
   },
   {
    "duration": 2524,
    "start_time": "2024-01-10T13:41:53.197Z"
   },
   {
    "duration": 2411,
    "start_time": "2024-01-10T13:41:55.723Z"
   },
   {
    "duration": 2499,
    "start_time": "2024-01-10T13:41:58.137Z"
   },
   {
    "duration": 1344,
    "start_time": "2024-01-10T13:42:00.638Z"
   },
   {
    "duration": 916,
    "start_time": "2024-01-10T13:42:01.983Z"
   },
   {
    "duration": 148,
    "start_time": "2024-01-10T13:42:02.901Z"
   },
   {
    "duration": 499,
    "start_time": "2024-01-10T13:42:03.051Z"
   },
   {
    "duration": 488,
    "start_time": "2024-01-10T13:42:03.552Z"
   },
   {
    "duration": 960,
    "start_time": "2024-01-10T13:42:04.043Z"
   },
   {
    "duration": 71,
    "start_time": "2024-01-10T13:42:05.005Z"
   },
   {
    "duration": 88,
    "start_time": "2024-01-10T13:42:05.077Z"
   },
   {
    "duration": 26,
    "start_time": "2024-01-10T13:42:05.167Z"
   },
   {
    "duration": 30,
    "start_time": "2024-01-10T13:42:05.194Z"
   },
   {
    "duration": 99,
    "start_time": "2024-01-10T13:42:05.225Z"
   },
   {
    "duration": 154,
    "start_time": "2024-01-10T13:42:05.326Z"
   },
   {
    "duration": 1656,
    "start_time": "2024-01-10T13:42:05.481Z"
   },
   {
    "duration": 20,
    "start_time": "2024-01-10T13:42:07.139Z"
   },
   {
    "duration": 30,
    "start_time": "2024-01-10T13:42:07.161Z"
   },
   {
    "duration": 24,
    "start_time": "2024-01-10T13:42:07.193Z"
   },
   {
    "duration": 22,
    "start_time": "2024-01-10T13:42:07.219Z"
   },
   {
    "duration": 21,
    "start_time": "2024-01-10T13:42:07.243Z"
   },
   {
    "duration": 39,
    "start_time": "2024-01-10T13:42:07.266Z"
   },
   {
    "duration": 35,
    "start_time": "2024-01-10T13:42:07.307Z"
   },
   {
    "duration": 67,
    "start_time": "2024-01-10T13:42:07.344Z"
   },
   {
    "duration": 188,
    "start_time": "2024-01-10T13:42:07.413Z"
   },
   {
    "duration": 418,
    "start_time": "2024-01-10T13:42:07.603Z"
   },
   {
    "duration": 300,
    "start_time": "2024-01-10T13:42:08.025Z"
   },
   {
    "duration": 20,
    "start_time": "2024-01-10T13:42:08.327Z"
   },
   {
    "duration": 42,
    "start_time": "2024-01-10T13:42:08.348Z"
   },
   {
    "duration": 16,
    "start_time": "2024-01-10T13:42:08.391Z"
   },
   {
    "duration": 308,
    "start_time": "2024-01-10T13:42:08.409Z"
   },
   {
    "duration": 26,
    "start_time": "2024-01-10T13:42:08.719Z"
   },
   {
    "duration": 212,
    "start_time": "2024-01-10T13:42:08.746Z"
   },
   {
    "duration": 16,
    "start_time": "2024-01-10T13:42:08.960Z"
   },
   {
    "duration": 30,
    "start_time": "2024-01-10T13:42:08.977Z"
   },
   {
    "duration": 213,
    "start_time": "2024-01-10T13:42:09.009Z"
   },
   {
    "duration": 25,
    "start_time": "2024-01-10T13:42:09.224Z"
   },
   {
    "duration": 203,
    "start_time": "2024-01-10T13:42:09.251Z"
   },
   {
    "duration": 19,
    "start_time": "2024-01-10T13:42:09.456Z"
   },
   {
    "duration": 27,
    "start_time": "2024-01-10T13:42:09.477Z"
   },
   {
    "duration": 196,
    "start_time": "2024-01-10T13:42:09.506Z"
   },
   {
    "duration": 4,
    "start_time": "2024-01-10T13:42:09.704Z"
   },
   {
    "duration": 140,
    "start_time": "2024-01-10T13:42:09.709Z"
   },
   {
    "duration": 5250,
    "start_time": "2024-01-10T13:42:09.851Z"
   },
   {
    "duration": 80,
    "start_time": "2024-01-10T13:42:15.104Z"
   },
   {
    "duration": 14,
    "start_time": "2024-01-10T13:42:15.186Z"
   },
   {
    "duration": 72,
    "start_time": "2024-01-10T13:42:15.201Z"
   },
   {
    "duration": 138,
    "start_time": "2024-01-10T13:42:15.274Z"
   },
   {
    "duration": 20,
    "start_time": "2024-01-10T13:42:15.414Z"
   },
   {
    "duration": 26,
    "start_time": "2024-01-10T13:42:15.436Z"
   },
   {
    "duration": 59,
    "start_time": "2024-01-10T13:42:15.464Z"
   },
   {
    "duration": 186,
    "start_time": "2024-01-10T13:42:15.525Z"
   },
   {
    "duration": 194,
    "start_time": "2024-01-10T13:42:15.712Z"
   },
   {
    "duration": 176,
    "start_time": "2024-01-10T13:42:15.908Z"
   },
   {
    "duration": 33,
    "start_time": "2024-01-10T13:42:16.086Z"
   },
   {
    "duration": 65,
    "start_time": "2024-01-10T13:42:16.120Z"
   },
   {
    "duration": 105,
    "start_time": "2024-01-10T13:42:16.199Z"
   },
   {
    "duration": 100,
    "start_time": "2024-01-10T13:42:16.305Z"
   },
   {
    "duration": 8,
    "start_time": "2024-01-10T13:42:16.406Z"
   },
   {
    "duration": 40,
    "start_time": "2024-01-10T13:42:16.416Z"
   },
   {
    "duration": 8,
    "start_time": "2024-01-10T13:42:16.457Z"
   },
   {
    "duration": 28,
    "start_time": "2024-01-10T13:42:16.466Z"
   },
   {
    "duration": 13,
    "start_time": "2024-01-10T13:42:16.499Z"
   },
   {
    "duration": 10,
    "start_time": "2024-01-10T13:42:16.514Z"
   },
   {
    "duration": 8,
    "start_time": "2024-01-10T13:42:16.526Z"
   },
   {
    "duration": 14,
    "start_time": "2024-01-10T13:42:16.536Z"
   },
   {
    "duration": 12249,
    "start_time": "2024-01-10T13:42:16.551Z"
   },
   {
    "duration": 192,
    "start_time": "2024-01-10T13:42:28.802Z"
   },
   {
    "duration": 6,
    "start_time": "2024-01-10T13:42:28.996Z"
   },
   {
    "duration": 6,
    "start_time": "2024-01-10T13:42:29.004Z"
   },
   {
    "duration": 5,
    "start_time": "2024-01-10T13:42:29.012Z"
   },
   {
    "duration": 5,
    "start_time": "2024-01-10T13:42:29.018Z"
   },
   {
    "duration": 5,
    "start_time": "2024-01-10T13:42:29.024Z"
   },
   {
    "duration": 70679,
    "start_time": "2024-01-10T13:42:29.030Z"
   },
   {
    "duration": 3,
    "start_time": "2024-01-10T13:43:39.711Z"
   },
   {
    "duration": 551,
    "start_time": "2024-01-10T13:44:46.647Z"
   },
   {
    "duration": 129,
    "start_time": "2024-01-10T14:11:42.130Z"
   },
   {
    "duration": 10,
    "start_time": "2024-01-10T14:12:47.232Z"
   },
   {
    "duration": 10,
    "start_time": "2024-01-10T14:13:01.187Z"
   },
   {
    "duration": 8,
    "start_time": "2024-01-10T14:31:42.415Z"
   },
   {
    "duration": 7,
    "start_time": "2024-01-10T14:38:34.560Z"
   },
   {
    "duration": 9,
    "start_time": "2024-01-10T14:40:49.071Z"
   },
   {
    "duration": 4,
    "start_time": "2024-01-10T14:40:55.867Z"
   },
   {
    "duration": 9,
    "start_time": "2024-01-10T14:40:58.980Z"
   },
   {
    "duration": 7,
    "start_time": "2024-01-10T14:41:06.350Z"
   },
   {
    "duration": 14501,
    "start_time": "2024-01-10T14:41:07.549Z"
   },
   {
    "duration": 3,
    "start_time": "2024-01-10T14:47:55.170Z"
   },
   {
    "duration": 4,
    "start_time": "2024-01-10T14:49:09.612Z"
   },
   {
    "duration": 78982,
    "start_time": "2024-01-10T14:49:28.527Z"
   },
   {
    "duration": 3,
    "start_time": "2024-01-10T14:56:30.948Z"
   },
   {
    "duration": 3,
    "start_time": "2024-01-10T15:02:05.928Z"
   },
   {
    "duration": 2754,
    "start_time": "2024-01-10T15:06:57.180Z"
   },
   {
    "duration": 2454,
    "start_time": "2024-01-10T15:06:59.936Z"
   },
   {
    "duration": 2462,
    "start_time": "2024-01-10T15:07:02.393Z"
   },
   {
    "duration": 2456,
    "start_time": "2024-01-10T15:07:04.858Z"
   },
   {
    "duration": 1303,
    "start_time": "2024-01-10T15:07:07.317Z"
   },
   {
    "duration": 879,
    "start_time": "2024-01-10T15:07:08.622Z"
   },
   {
    "duration": 151,
    "start_time": "2024-01-10T15:07:09.503Z"
   },
   {
    "duration": 470,
    "start_time": "2024-01-10T15:07:09.656Z"
   },
   {
    "duration": 482,
    "start_time": "2024-01-10T15:07:10.128Z"
   },
   {
    "duration": 871,
    "start_time": "2024-01-10T15:07:10.612Z"
   },
   {
    "duration": 72,
    "start_time": "2024-01-10T15:07:11.485Z"
   },
   {
    "duration": 39,
    "start_time": "2024-01-10T15:07:11.560Z"
   },
   {
    "duration": 18,
    "start_time": "2024-01-10T15:07:11.601Z"
   },
   {
    "duration": 14,
    "start_time": "2024-01-10T15:07:11.622Z"
   },
   {
    "duration": 105,
    "start_time": "2024-01-10T15:07:11.638Z"
   },
   {
    "duration": 93,
    "start_time": "2024-01-10T15:07:11.745Z"
   },
   {
    "duration": 1517,
    "start_time": "2024-01-10T15:07:11.840Z"
   },
   {
    "duration": 20,
    "start_time": "2024-01-10T15:07:13.359Z"
   },
   {
    "duration": 33,
    "start_time": "2024-01-10T15:07:13.380Z"
   },
   {
    "duration": 25,
    "start_time": "2024-01-10T15:07:13.415Z"
   },
   {
    "duration": 36,
    "start_time": "2024-01-10T15:07:13.441Z"
   },
   {
    "duration": 22,
    "start_time": "2024-01-10T15:07:13.478Z"
   },
   {
    "duration": 23,
    "start_time": "2024-01-10T15:07:13.501Z"
   },
   {
    "duration": 41,
    "start_time": "2024-01-10T15:07:13.525Z"
   },
   {
    "duration": 75,
    "start_time": "2024-01-10T15:07:13.567Z"
   },
   {
    "duration": 165,
    "start_time": "2024-01-10T15:07:13.644Z"
   },
   {
    "duration": 413,
    "start_time": "2024-01-10T15:07:13.810Z"
   },
   {
    "duration": 319,
    "start_time": "2024-01-10T15:07:14.225Z"
   },
   {
    "duration": 16,
    "start_time": "2024-01-10T15:07:14.546Z"
   },
   {
    "duration": 38,
    "start_time": "2024-01-10T15:07:14.564Z"
   },
   {
    "duration": 14,
    "start_time": "2024-01-10T15:07:14.604Z"
   },
   {
    "duration": 263,
    "start_time": "2024-01-10T15:07:14.620Z"
   },
   {
    "duration": 29,
    "start_time": "2024-01-10T15:07:14.884Z"
   },
   {
    "duration": 203,
    "start_time": "2024-01-10T15:07:14.914Z"
   },
   {
    "duration": 16,
    "start_time": "2024-01-10T15:07:15.119Z"
   },
   {
    "duration": 48,
    "start_time": "2024-01-10T15:07:15.136Z"
   },
   {
    "duration": 234,
    "start_time": "2024-01-10T15:07:15.186Z"
   },
   {
    "duration": 25,
    "start_time": "2024-01-10T15:07:15.422Z"
   },
   {
    "duration": 209,
    "start_time": "2024-01-10T15:07:15.450Z"
   },
   {
    "duration": 22,
    "start_time": "2024-01-10T15:07:15.661Z"
   },
   {
    "duration": 15,
    "start_time": "2024-01-10T15:07:15.698Z"
   },
   {
    "duration": 199,
    "start_time": "2024-01-10T15:07:15.715Z"
   },
   {
    "duration": 3,
    "start_time": "2024-01-10T15:07:15.916Z"
   },
   {
    "duration": 140,
    "start_time": "2024-01-10T15:07:15.921Z"
   },
   {
    "duration": 5186,
    "start_time": "2024-01-10T15:07:16.063Z"
   },
   {
    "duration": 73,
    "start_time": "2024-01-10T15:07:21.251Z"
   },
   {
    "duration": 4,
    "start_time": "2024-01-10T15:07:21.325Z"
   },
   {
    "duration": 70,
    "start_time": "2024-01-10T15:07:21.331Z"
   },
   {
    "duration": 119,
    "start_time": "2024-01-10T15:07:21.402Z"
   },
   {
    "duration": 20,
    "start_time": "2024-01-10T15:07:21.523Z"
   },
   {
    "duration": 36,
    "start_time": "2024-01-10T15:07:21.544Z"
   },
   {
    "duration": 43,
    "start_time": "2024-01-10T15:07:21.581Z"
   },
   {
    "duration": 229,
    "start_time": "2024-01-10T15:07:21.626Z"
   },
   {
    "duration": 175,
    "start_time": "2024-01-10T15:07:21.857Z"
   },
   {
    "duration": 170,
    "start_time": "2024-01-10T15:07:22.034Z"
   },
   {
    "duration": 30,
    "start_time": "2024-01-10T15:07:22.206Z"
   },
   {
    "duration": 62,
    "start_time": "2024-01-10T15:07:22.238Z"
   },
   {
    "duration": 118,
    "start_time": "2024-01-10T15:07:22.302Z"
   },
   {
    "duration": 96,
    "start_time": "2024-01-10T15:07:22.421Z"
   },
   {
    "duration": 4,
    "start_time": "2024-01-10T15:07:22.518Z"
   },
   {
    "duration": 62,
    "start_time": "2024-01-10T15:07:22.523Z"
   },
   {
    "duration": 10,
    "start_time": "2024-01-10T15:07:22.587Z"
   },
   {
    "duration": 27,
    "start_time": "2024-01-10T15:07:22.598Z"
   },
   {
    "duration": 32,
    "start_time": "2024-01-10T15:07:22.626Z"
   },
   {
    "duration": 29,
    "start_time": "2024-01-10T15:07:22.659Z"
   },
   {
    "duration": 25,
    "start_time": "2024-01-10T15:07:22.690Z"
   },
   {
    "duration": 15,
    "start_time": "2024-01-10T15:07:22.716Z"
   },
   {
    "duration": 10174,
    "start_time": "2024-01-10T15:07:22.732Z"
   },
   {
    "duration": 183,
    "start_time": "2024-01-10T15:07:32.907Z"
   },
   {
    "duration": 8,
    "start_time": "2024-01-10T15:07:33.092Z"
   },
   {
    "duration": 5,
    "start_time": "2024-01-10T15:07:33.102Z"
   },
   {
    "duration": 11,
    "start_time": "2024-01-10T15:07:33.108Z"
   },
   {
    "duration": 11,
    "start_time": "2024-01-10T15:07:33.120Z"
   },
   {
    "duration": 5,
    "start_time": "2024-01-10T15:07:33.132Z"
   },
   {
    "duration": 6,
    "start_time": "2024-01-10T15:07:33.139Z"
   },
   {
    "duration": 77291,
    "start_time": "2024-01-10T15:07:33.147Z"
   },
   {
    "duration": 663,
    "start_time": "2024-01-10T15:08:50.440Z"
   },
   {
    "duration": 7,
    "start_time": "2024-01-10T15:08:51.106Z"
   },
   {
    "duration": 111,
    "start_time": "2024-01-10T15:08:51.116Z"
   },
   {
    "duration": 14158,
    "start_time": "2024-01-10T15:08:51.231Z"
   },
   {
    "duration": 8,
    "start_time": "2024-01-10T15:09:05.391Z"
   },
   {
    "duration": 88901,
    "start_time": "2024-01-10T15:09:05.401Z"
   },
   {
    "duration": 94,
    "start_time": "2024-01-10T15:10:34.305Z"
   },
   {
    "duration": 1062098,
    "start_time": "2024-01-10T15:10:34.402Z"
   },
   {
    "duration": 3,
    "start_time": "2024-01-10T15:28:16.501Z"
   },
   {
    "duration": 19,
    "start_time": "2024-01-10T15:28:16.505Z"
   },
   {
    "duration": 8,
    "start_time": "2024-01-10T15:29:07.329Z"
   },
   {
    "duration": 14013,
    "start_time": "2024-01-10T15:29:10.217Z"
   },
   {
    "duration": 3,
    "start_time": "2024-01-10T15:32:03.345Z"
   },
   {
    "duration": 85752,
    "start_time": "2024-01-10T15:32:06.059Z"
   },
   {
    "duration": 5892,
    "start_time": "2024-01-11T09:44:03.203Z"
   },
   {
    "duration": 3704,
    "start_time": "2024-01-11T09:44:09.097Z"
   },
   {
    "duration": 7121,
    "start_time": "2024-01-11T09:44:12.803Z"
   },
   {
    "duration": 3489,
    "start_time": "2024-01-11T09:44:19.926Z"
   },
   {
    "duration": 1657,
    "start_time": "2024-01-11T09:44:23.418Z"
   },
   {
    "duration": 2922,
    "start_time": "2024-01-11T09:44:25.076Z"
   },
   {
    "duration": 175,
    "start_time": "2024-01-11T09:44:28.000Z"
   },
   {
    "duration": 516,
    "start_time": "2024-01-11T09:44:28.177Z"
   },
   {
    "duration": 498,
    "start_time": "2024-01-11T09:44:28.695Z"
   },
   {
    "duration": 1063,
    "start_time": "2024-01-11T09:44:29.194Z"
   },
   {
    "duration": 73,
    "start_time": "2024-01-11T09:44:30.259Z"
   },
   {
    "duration": 77,
    "start_time": "2024-01-11T09:44:30.333Z"
   },
   {
    "duration": 46,
    "start_time": "2024-01-11T09:44:30.412Z"
   },
   {
    "duration": 52,
    "start_time": "2024-01-11T09:44:30.461Z"
   },
   {
    "duration": 140,
    "start_time": "2024-01-11T09:44:30.515Z"
   },
   {
    "duration": 142,
    "start_time": "2024-01-11T09:44:30.657Z"
   },
   {
    "duration": 1885,
    "start_time": "2024-01-11T09:44:30.801Z"
   },
   {
    "duration": 29,
    "start_time": "2024-01-11T09:44:32.687Z"
   },
   {
    "duration": 291,
    "start_time": "2024-01-11T09:44:32.718Z"
   },
   {
    "duration": 65,
    "start_time": "2024-01-11T09:44:33.010Z"
   },
   {
    "duration": 48,
    "start_time": "2024-01-11T09:44:33.077Z"
   },
   {
    "duration": 36,
    "start_time": "2024-01-11T09:44:33.127Z"
   },
   {
    "duration": 33,
    "start_time": "2024-01-11T09:44:33.165Z"
   },
   {
    "duration": 61,
    "start_time": "2024-01-11T09:44:33.201Z"
   },
   {
    "duration": 102,
    "start_time": "2024-01-11T09:44:33.264Z"
   },
   {
    "duration": 201,
    "start_time": "2024-01-11T09:44:33.368Z"
   },
   {
    "duration": 606,
    "start_time": "2024-01-11T09:44:33.571Z"
   },
   {
    "duration": 300,
    "start_time": "2024-01-11T09:44:34.179Z"
   },
   {
    "duration": 72,
    "start_time": "2024-01-11T09:44:34.480Z"
   },
   {
    "duration": 91,
    "start_time": "2024-01-11T09:44:34.553Z"
   },
   {
    "duration": 21,
    "start_time": "2024-01-11T09:44:34.646Z"
   },
   {
    "duration": 329,
    "start_time": "2024-01-11T09:44:34.669Z"
   },
   {
    "duration": 25,
    "start_time": "2024-01-11T09:44:35.001Z"
   },
   {
    "duration": 239,
    "start_time": "2024-01-11T09:44:35.028Z"
   },
   {
    "duration": 17,
    "start_time": "2024-01-11T09:44:35.269Z"
   },
   {
    "duration": 24,
    "start_time": "2024-01-11T09:44:35.300Z"
   },
   {
    "duration": 253,
    "start_time": "2024-01-11T09:44:35.326Z"
   },
   {
    "duration": 30,
    "start_time": "2024-01-11T09:44:35.580Z"
   },
   {
    "duration": 216,
    "start_time": "2024-01-11T09:44:35.612Z"
   },
   {
    "duration": 22,
    "start_time": "2024-01-11T09:44:35.830Z"
   },
   {
    "duration": 15,
    "start_time": "2024-01-11T09:44:35.857Z"
   },
   {
    "duration": 256,
    "start_time": "2024-01-11T09:44:35.873Z"
   },
   {
    "duration": 3,
    "start_time": "2024-01-11T09:44:36.131Z"
   },
   {
    "duration": 204,
    "start_time": "2024-01-11T09:44:36.136Z"
   },
   {
    "duration": 6586,
    "start_time": "2024-01-11T09:44:36.342Z"
   },
   {
    "duration": 78,
    "start_time": "2024-01-11T09:44:42.930Z"
   },
   {
    "duration": 6,
    "start_time": "2024-01-11T09:44:43.011Z"
   },
   {
    "duration": 77,
    "start_time": "2024-01-11T09:44:43.019Z"
   },
   {
    "duration": 144,
    "start_time": "2024-01-11T09:44:43.098Z"
   },
   {
    "duration": 22,
    "start_time": "2024-01-11T09:44:43.244Z"
   },
   {
    "duration": 79,
    "start_time": "2024-01-11T09:44:43.268Z"
   },
   {
    "duration": 79,
    "start_time": "2024-01-11T09:44:43.349Z"
   },
   {
    "duration": 224,
    "start_time": "2024-01-11T09:44:43.430Z"
   },
   {
    "duration": 225,
    "start_time": "2024-01-11T09:44:43.656Z"
   },
   {
    "duration": 248,
    "start_time": "2024-01-11T09:44:43.883Z"
   },
   {
    "duration": 31,
    "start_time": "2024-01-11T09:44:44.133Z"
   },
   {
    "duration": 87,
    "start_time": "2024-01-11T09:44:44.166Z"
   },
   {
    "duration": 131,
    "start_time": "2024-01-11T09:44:44.255Z"
   },
   {
    "duration": 112,
    "start_time": "2024-01-11T09:44:44.388Z"
   },
   {
    "duration": 17,
    "start_time": "2024-01-11T09:44:44.502Z"
   },
   {
    "duration": 27,
    "start_time": "2024-01-11T09:44:44.521Z"
   },
   {
    "duration": 12,
    "start_time": "2024-01-11T09:44:44.550Z"
   },
   {
    "duration": 11,
    "start_time": "2024-01-11T09:44:44.564Z"
   },
   {
    "duration": 12,
    "start_time": "2024-01-11T09:44:44.577Z"
   },
   {
    "duration": 12,
    "start_time": "2024-01-11T09:44:44.601Z"
   },
   {
    "duration": 16751,
    "start_time": "2024-01-11T09:44:44.615Z"
   },
   {
    "duration": 5,
    "start_time": "2024-01-11T09:45:01.367Z"
   },
   {
    "duration": 148432,
    "start_time": "2024-01-11T09:45:01.373Z"
   },
   {
    "duration": 4,
    "start_time": "2024-01-11T09:47:29.808Z"
   },
   {
    "duration": 153084,
    "start_time": "2024-01-11T09:47:29.816Z"
   },
   {
    "duration": 292,
    "start_time": "2024-01-11T10:45:08.278Z"
   },
   {
    "duration": 3144,
    "start_time": "2024-01-11T10:45:57.567Z"
   },
   {
    "duration": 2890,
    "start_time": "2024-01-11T10:46:00.713Z"
   },
   {
    "duration": 2752,
    "start_time": "2024-01-11T10:46:03.605Z"
   },
   {
    "duration": 2794,
    "start_time": "2024-01-11T10:46:06.360Z"
   },
   {
    "duration": 7,
    "start_time": "2024-01-11T10:46:09.158Z"
   },
   {
    "duration": 931,
    "start_time": "2024-01-11T10:46:09.166Z"
   },
   {
    "duration": 157,
    "start_time": "2024-01-11T10:46:10.098Z"
   },
   {
    "duration": 446,
    "start_time": "2024-01-11T10:46:10.257Z"
   },
   {
    "duration": 457,
    "start_time": "2024-01-11T10:46:10.705Z"
   },
   {
    "duration": 966,
    "start_time": "2024-01-11T10:46:11.164Z"
   },
   {
    "duration": 72,
    "start_time": "2024-01-11T10:46:12.132Z"
   },
   {
    "duration": 31,
    "start_time": "2024-01-11T10:46:12.206Z"
   },
   {
    "duration": 5,
    "start_time": "2024-01-11T10:46:12.239Z"
   },
   {
    "duration": 20,
    "start_time": "2024-01-11T10:46:12.248Z"
   },
   {
    "duration": 130,
    "start_time": "2024-01-11T10:46:12.270Z"
   },
   {
    "duration": 104,
    "start_time": "2024-01-11T10:46:12.401Z"
   },
   {
    "duration": 1674,
    "start_time": "2024-01-11T10:46:12.506Z"
   },
   {
    "duration": 28,
    "start_time": "2024-01-11T10:46:14.182Z"
   },
   {
    "duration": 25,
    "start_time": "2024-01-11T10:46:14.212Z"
   },
   {
    "duration": 32,
    "start_time": "2024-01-11T10:46:14.239Z"
   },
   {
    "duration": 365,
    "start_time": "2024-01-11T10:46:14.273Z"
   },
   {
    "duration": 25,
    "start_time": "2024-01-11T10:46:14.640Z"
   },
   {
    "duration": 36,
    "start_time": "2024-01-11T10:46:14.666Z"
   },
   {
    "duration": 17,
    "start_time": "2024-01-11T10:46:14.704Z"
   },
   {
    "duration": 38,
    "start_time": "2024-01-11T10:46:14.723Z"
   },
   {
    "duration": 84,
    "start_time": "2024-01-11T10:46:14.763Z"
   },
   {
    "duration": 179,
    "start_time": "2024-01-11T10:46:14.849Z"
   },
   {
    "duration": 463,
    "start_time": "2024-01-11T10:46:15.029Z"
   },
   {
    "duration": 284,
    "start_time": "2024-01-11T10:46:15.493Z"
   },
   {
    "duration": 26,
    "start_time": "2024-01-11T10:46:15.778Z"
   },
   {
    "duration": 24,
    "start_time": "2024-01-11T10:46:15.806Z"
   },
   {
    "duration": 37,
    "start_time": "2024-01-11T10:46:15.832Z"
   },
   {
    "duration": 327,
    "start_time": "2024-01-11T10:46:15.871Z"
   },
   {
    "duration": 23,
    "start_time": "2024-01-11T10:46:16.200Z"
   },
   {
    "duration": 233,
    "start_time": "2024-01-11T10:46:16.225Z"
   },
   {
    "duration": 17,
    "start_time": "2024-01-11T10:46:16.460Z"
   },
   {
    "duration": 39,
    "start_time": "2024-01-11T10:46:16.479Z"
   },
   {
    "duration": 237,
    "start_time": "2024-01-11T10:46:16.520Z"
   },
   {
    "duration": 23,
    "start_time": "2024-01-11T10:46:16.758Z"
   },
   {
    "duration": 222,
    "start_time": "2024-01-11T10:46:16.782Z"
   },
   {
    "duration": 22,
    "start_time": "2024-01-11T10:46:17.008Z"
   },
   {
    "duration": 16,
    "start_time": "2024-01-11T10:46:17.032Z"
   },
   {
    "duration": 352,
    "start_time": "2024-01-11T10:46:17.050Z"
   },
   {
    "duration": 3,
    "start_time": "2024-01-11T10:46:17.404Z"
   },
   {
    "duration": 168,
    "start_time": "2024-01-11T10:46:17.408Z"
   },
   {
    "duration": 5837,
    "start_time": "2024-01-11T10:46:17.578Z"
   },
   {
    "duration": 88,
    "start_time": "2024-01-11T10:46:23.416Z"
   },
   {
    "duration": 3,
    "start_time": "2024-01-11T10:46:23.506Z"
   },
   {
    "duration": 68,
    "start_time": "2024-01-11T10:46:23.511Z"
   },
   {
    "duration": 128,
    "start_time": "2024-01-11T10:46:23.580Z"
   },
   {
    "duration": 21,
    "start_time": "2024-01-11T10:46:23.710Z"
   },
   {
    "duration": 28,
    "start_time": "2024-01-11T10:46:23.733Z"
   },
   {
    "duration": 48,
    "start_time": "2024-01-11T10:46:23.763Z"
   },
   {
    "duration": 198,
    "start_time": "2024-01-11T10:46:23.813Z"
   },
   {
    "duration": 197,
    "start_time": "2024-01-11T10:46:24.013Z"
   },
   {
    "duration": 201,
    "start_time": "2024-01-11T10:46:24.211Z"
   },
   {
    "duration": 30,
    "start_time": "2024-01-11T10:46:24.413Z"
   },
   {
    "duration": 66,
    "start_time": "2024-01-11T10:46:24.445Z"
   },
   {
    "duration": 112,
    "start_time": "2024-01-11T10:46:24.513Z"
   },
   {
    "duration": 128,
    "start_time": "2024-01-11T10:46:24.627Z"
   },
   {
    "duration": 5,
    "start_time": "2024-01-11T10:46:24.756Z"
   },
   {
    "duration": 29,
    "start_time": "2024-01-11T10:46:24.762Z"
   },
   {
    "duration": 19,
    "start_time": "2024-01-11T10:46:24.793Z"
   },
   {
    "duration": 30,
    "start_time": "2024-01-11T10:46:24.814Z"
   },
   {
    "duration": 12,
    "start_time": "2024-01-11T10:46:24.846Z"
   },
   {
    "duration": 9,
    "start_time": "2024-01-11T10:46:24.859Z"
   },
   {
    "duration": 15426,
    "start_time": "2024-01-11T10:46:24.869Z"
   },
   {
    "duration": 4,
    "start_time": "2024-01-11T10:46:40.300Z"
   },
   {
    "duration": 68800,
    "start_time": "2024-01-11T10:46:40.306Z"
   },
   {
    "duration": 94,
    "start_time": "2024-01-11T10:47:49.108Z"
   },
   {
    "duration": 100910,
    "start_time": "2024-01-11T10:47:49.205Z"
   },
   {
    "duration": 275,
    "start_time": "2024-01-11T11:39:53.447Z"
   },
   {
    "duration": 5,
    "start_time": "2024-01-11T11:52:06.057Z"
   },
   {
    "duration": 3185,
    "start_time": "2024-01-11T12:29:13.236Z"
   },
   {
    "duration": 2842,
    "start_time": "2024-01-11T12:29:16.424Z"
   },
   {
    "duration": 2822,
    "start_time": "2024-01-11T12:29:19.268Z"
   },
   {
    "duration": 2771,
    "start_time": "2024-01-11T12:29:22.093Z"
   },
   {
    "duration": 8,
    "start_time": "2024-01-11T12:29:24.866Z"
   },
   {
    "duration": 905,
    "start_time": "2024-01-11T12:29:24.876Z"
   },
   {
    "duration": 183,
    "start_time": "2024-01-11T12:29:25.782Z"
   },
   {
    "duration": 483,
    "start_time": "2024-01-11T12:29:25.967Z"
   },
   {
    "duration": 427,
    "start_time": "2024-01-11T12:29:26.452Z"
   },
   {
    "duration": 892,
    "start_time": "2024-01-11T12:29:26.994Z"
   },
   {
    "duration": 73,
    "start_time": "2024-01-11T12:29:27.888Z"
   },
   {
    "duration": 41,
    "start_time": "2024-01-11T12:29:27.963Z"
   },
   {
    "duration": 6,
    "start_time": "2024-01-11T12:29:28.006Z"
   },
   {
    "duration": 20,
    "start_time": "2024-01-11T12:29:28.014Z"
   },
   {
    "duration": 132,
    "start_time": "2024-01-11T12:29:28.037Z"
   },
   {
    "duration": 106,
    "start_time": "2024-01-11T12:29:28.171Z"
   },
   {
    "duration": 1708,
    "start_time": "2024-01-11T12:29:28.279Z"
   },
   {
    "duration": 33,
    "start_time": "2024-01-11T12:29:29.989Z"
   },
   {
    "duration": 87,
    "start_time": "2024-01-11T12:29:30.024Z"
   },
   {
    "duration": 99,
    "start_time": "2024-01-11T12:29:30.113Z"
   },
   {
    "duration": 388,
    "start_time": "2024-01-11T12:29:30.214Z"
   },
   {
    "duration": 25,
    "start_time": "2024-01-11T12:29:30.604Z"
   },
   {
    "duration": 37,
    "start_time": "2024-01-11T12:29:30.631Z"
   },
   {
    "duration": 41,
    "start_time": "2024-01-11T12:29:30.670Z"
   },
   {
    "duration": 54,
    "start_time": "2024-01-11T12:29:30.713Z"
   },
   {
    "duration": 68,
    "start_time": "2024-01-11T12:29:30.769Z"
   },
   {
    "duration": 183,
    "start_time": "2024-01-11T12:29:30.840Z"
   },
   {
    "duration": 533,
    "start_time": "2024-01-11T12:29:31.028Z"
   },
   {
    "duration": 323,
    "start_time": "2024-01-11T12:29:31.563Z"
   },
   {
    "duration": 22,
    "start_time": "2024-01-11T12:29:31.888Z"
   },
   {
    "duration": 27,
    "start_time": "2024-01-11T12:29:31.912Z"
   },
   {
    "duration": 17,
    "start_time": "2024-01-11T12:29:31.941Z"
   },
   {
    "duration": 361,
    "start_time": "2024-01-11T12:29:31.960Z"
   },
   {
    "duration": 23,
    "start_time": "2024-01-11T12:29:32.323Z"
   },
   {
    "duration": 240,
    "start_time": "2024-01-11T12:29:32.348Z"
   },
   {
    "duration": 23,
    "start_time": "2024-01-11T12:29:32.591Z"
   },
   {
    "duration": 23,
    "start_time": "2024-01-11T12:29:32.616Z"
   },
   {
    "duration": 281,
    "start_time": "2024-01-11T12:29:32.641Z"
   },
   {
    "duration": 23,
    "start_time": "2024-01-11T12:29:32.924Z"
   },
   {
    "duration": 234,
    "start_time": "2024-01-11T12:29:32.949Z"
   },
   {
    "duration": 33,
    "start_time": "2024-01-11T12:29:33.185Z"
   },
   {
    "duration": 18,
    "start_time": "2024-01-11T12:29:33.220Z"
   },
   {
    "duration": 255,
    "start_time": "2024-01-11T12:29:33.240Z"
   },
   {
    "duration": 14,
    "start_time": "2024-01-11T12:29:33.497Z"
   },
   {
    "duration": 93,
    "start_time": "2024-01-11T12:29:33.513Z"
   },
   {
    "duration": 4,
    "start_time": "2024-01-11T12:29:33.612Z"
   },
   {
    "duration": 5,
    "start_time": "2024-01-11T12:29:33.618Z"
   },
   {
    "duration": 70,
    "start_time": "2024-01-11T12:29:33.624Z"
   },
   {
    "duration": 247,
    "start_time": "2024-01-11T12:29:33.703Z"
   },
   {
    "duration": 22,
    "start_time": "2024-01-11T12:29:33.952Z"
   },
   {
    "duration": 43,
    "start_time": "2024-01-11T12:29:33.975Z"
   },
   {
    "duration": 36,
    "start_time": "2024-01-11T12:29:34.020Z"
   },
   {
    "duration": 234,
    "start_time": "2024-01-11T12:29:34.058Z"
   },
   {
    "duration": 231,
    "start_time": "2024-01-11T12:29:34.293Z"
   },
   {
    "duration": 219,
    "start_time": "2024-01-11T12:29:34.526Z"
   },
   {
    "duration": 31,
    "start_time": "2024-01-11T12:29:34.747Z"
   },
   {
    "duration": 77,
    "start_time": "2024-01-11T12:29:34.780Z"
   },
   {
    "duration": 117,
    "start_time": "2024-01-11T12:29:34.859Z"
   },
   {
    "duration": 2,
    "start_time": "2024-01-11T12:29:34.978Z"
   },
   {
    "duration": 20,
    "start_time": "2024-01-11T12:29:34.982Z"
   },
   {
    "duration": 30,
    "start_time": "2024-01-11T12:29:35.010Z"
   },
   {
    "duration": 11,
    "start_time": "2024-01-11T12:29:35.042Z"
   },
   {
    "duration": 20,
    "start_time": "2024-01-11T12:29:35.055Z"
   },
   {
    "duration": 26,
    "start_time": "2024-01-11T12:29:35.078Z"
   },
   {
    "duration": 4,
    "start_time": "2024-01-11T12:29:35.112Z"
   },
   {
    "duration": 36576,
    "start_time": "2024-01-11T12:29:35.118Z"
   },
   {
    "duration": 12,
    "start_time": "2024-01-11T12:30:11.695Z"
   },
   {
    "duration": 234086,
    "start_time": "2024-01-11T12:30:11.716Z"
   },
   {
    "duration": 5,
    "start_time": "2024-01-11T12:34:05.806Z"
   },
   {
    "duration": 3218,
    "start_time": "2024-01-11T12:43:18.012Z"
   },
   {
    "duration": 2795,
    "start_time": "2024-01-11T12:43:21.233Z"
   },
   {
    "duration": 2751,
    "start_time": "2024-01-11T12:43:24.031Z"
   },
   {
    "duration": 2857,
    "start_time": "2024-01-11T12:43:26.784Z"
   },
   {
    "duration": 1430,
    "start_time": "2024-01-11T12:43:29.644Z"
   },
   {
    "duration": 1026,
    "start_time": "2024-01-11T12:43:31.075Z"
   },
   {
    "duration": 158,
    "start_time": "2024-01-11T12:43:32.102Z"
   },
   {
    "duration": 537,
    "start_time": "2024-01-11T12:43:32.262Z"
   },
   {
    "duration": 514,
    "start_time": "2024-01-11T12:43:32.801Z"
   },
   {
    "duration": 1090,
    "start_time": "2024-01-11T12:43:33.316Z"
   },
   {
    "duration": 68,
    "start_time": "2024-01-11T12:43:34.408Z"
   },
   {
    "duration": 50,
    "start_time": "2024-01-11T12:43:34.478Z"
   },
   {
    "duration": 5,
    "start_time": "2024-01-11T12:43:34.530Z"
   },
   {
    "duration": 12,
    "start_time": "2024-01-11T12:43:34.538Z"
   },
   {
    "duration": 121,
    "start_time": "2024-01-11T12:43:34.551Z"
   },
   {
    "duration": 160,
    "start_time": "2024-01-11T12:43:34.674Z"
   },
   {
    "duration": 1651,
    "start_time": "2024-01-11T12:43:34.835Z"
   },
   {
    "duration": 29,
    "start_time": "2024-01-11T12:43:36.488Z"
   },
   {
    "duration": 39,
    "start_time": "2024-01-11T12:43:36.519Z"
   },
   {
    "duration": 26,
    "start_time": "2024-01-11T12:43:36.560Z"
   },
   {
    "duration": 416,
    "start_time": "2024-01-11T12:43:36.588Z"
   },
   {
    "duration": 25,
    "start_time": "2024-01-11T12:43:37.006Z"
   },
   {
    "duration": 28,
    "start_time": "2024-01-11T12:43:37.033Z"
   },
   {
    "duration": 40,
    "start_time": "2024-01-11T12:43:37.064Z"
   },
   {
    "duration": 41,
    "start_time": "2024-01-11T12:43:37.106Z"
   },
   {
    "duration": 79,
    "start_time": "2024-01-11T12:43:37.149Z"
   },
   {
    "duration": 181,
    "start_time": "2024-01-11T12:43:37.230Z"
   },
   {
    "duration": 489,
    "start_time": "2024-01-11T12:43:37.413Z"
   },
   {
    "duration": 370,
    "start_time": "2024-01-11T12:43:37.904Z"
   },
   {
    "duration": 26,
    "start_time": "2024-01-11T12:43:38.275Z"
   },
   {
    "duration": 25,
    "start_time": "2024-01-11T12:43:38.303Z"
   },
   {
    "duration": 15,
    "start_time": "2024-01-11T12:43:38.330Z"
   },
   {
    "duration": 326,
    "start_time": "2024-01-11T12:43:38.347Z"
   },
   {
    "duration": 28,
    "start_time": "2024-01-11T12:43:38.675Z"
   },
   {
    "duration": 230,
    "start_time": "2024-01-11T12:43:38.705Z"
   },
   {
    "duration": 18,
    "start_time": "2024-01-11T12:43:38.937Z"
   },
   {
    "duration": 24,
    "start_time": "2024-01-11T12:43:38.957Z"
   },
   {
    "duration": 245,
    "start_time": "2024-01-11T12:43:39.000Z"
   },
   {
    "duration": 30,
    "start_time": "2024-01-11T12:43:39.247Z"
   },
   {
    "duration": 224,
    "start_time": "2024-01-11T12:43:39.279Z"
   },
   {
    "duration": 23,
    "start_time": "2024-01-11T12:43:39.507Z"
   },
   {
    "duration": 19,
    "start_time": "2024-01-11T12:43:39.531Z"
   },
   {
    "duration": 251,
    "start_time": "2024-01-11T12:43:39.552Z"
   },
   {
    "duration": 5,
    "start_time": "2024-01-11T12:43:39.804Z"
   },
   {
    "duration": 104,
    "start_time": "2024-01-11T12:43:39.812Z"
   },
   {
    "duration": 4,
    "start_time": "2024-01-11T12:43:39.918Z"
   },
   {
    "duration": 11,
    "start_time": "2024-01-11T12:43:39.924Z"
   },
   {
    "duration": 78,
    "start_time": "2024-01-11T12:43:39.936Z"
   },
   {
    "duration": 146,
    "start_time": "2024-01-11T12:43:40.016Z"
   },
   {
    "duration": 26,
    "start_time": "2024-01-11T12:43:40.163Z"
   },
   {
    "duration": 34,
    "start_time": "2024-01-11T12:43:40.191Z"
   },
   {
    "duration": 28,
    "start_time": "2024-01-11T12:43:40.227Z"
   },
   {
    "duration": 238,
    "start_time": "2024-01-11T12:43:40.257Z"
   },
   {
    "duration": 200,
    "start_time": "2024-01-11T12:43:40.500Z"
   },
   {
    "duration": 213,
    "start_time": "2024-01-11T12:43:40.702Z"
   },
   {
    "duration": 34,
    "start_time": "2024-01-11T12:43:40.917Z"
   },
   {
    "duration": 76,
    "start_time": "2024-01-11T12:43:40.953Z"
   },
   {
    "duration": 111,
    "start_time": "2024-01-11T12:43:41.031Z"
   },
   {
    "duration": 125,
    "start_time": "2024-01-11T12:43:41.144Z"
   },
   {
    "duration": 3,
    "start_time": "2024-01-11T12:43:41.271Z"
   },
   {
    "duration": 32,
    "start_time": "2024-01-11T12:43:41.276Z"
   },
   {
    "duration": 11,
    "start_time": "2024-01-11T12:43:41.309Z"
   },
   {
    "duration": 24,
    "start_time": "2024-01-11T12:43:41.321Z"
   },
   {
    "duration": 8,
    "start_time": "2024-01-11T12:43:41.346Z"
   },
   {
    "duration": 24,
    "start_time": "2024-01-11T12:43:41.355Z"
   },
   {
    "duration": 15758,
    "start_time": "2024-01-11T12:43:41.380Z"
   },
   {
    "duration": 4,
    "start_time": "2024-01-11T12:43:57.140Z"
   },
   {
    "duration": 93962,
    "start_time": "2024-01-11T12:43:57.146Z"
   },
   {
    "duration": 91,
    "start_time": "2024-01-11T12:45:31.110Z"
   },
   {
    "duration": 1313301,
    "start_time": "2024-01-11T12:45:31.204Z"
   },
   {
    "duration": 155,
    "start_time": "2024-01-11T14:50:00.458Z"
   },
   {
    "duration": 3148,
    "start_time": "2024-01-11T14:50:06.954Z"
   },
   {
    "duration": 2749,
    "start_time": "2024-01-11T14:50:10.105Z"
   },
   {
    "duration": 2825,
    "start_time": "2024-01-11T14:50:12.856Z"
   },
   {
    "duration": 2791,
    "start_time": "2024-01-11T14:50:15.683Z"
   },
   {
    "duration": 8,
    "start_time": "2024-01-11T14:50:18.477Z"
   },
   {
    "duration": 920,
    "start_time": "2024-01-11T14:50:18.487Z"
   },
   {
    "duration": 157,
    "start_time": "2024-01-11T14:50:19.409Z"
   },
   {
    "duration": 474,
    "start_time": "2024-01-11T14:50:19.568Z"
   },
   {
    "duration": 478,
    "start_time": "2024-01-11T14:50:20.045Z"
   },
   {
    "duration": 1119,
    "start_time": "2024-01-11T14:50:20.524Z"
   },
   {
    "duration": 75,
    "start_time": "2024-01-11T14:50:21.645Z"
   },
   {
    "duration": 25,
    "start_time": "2024-01-11T14:50:21.722Z"
   },
   {
    "duration": 5,
    "start_time": "2024-01-11T14:50:21.749Z"
   },
   {
    "duration": 59,
    "start_time": "2024-01-11T14:50:21.757Z"
   },
   {
    "duration": 112,
    "start_time": "2024-01-11T14:50:21.818Z"
   },
   {
    "duration": 123,
    "start_time": "2024-01-11T14:50:21.932Z"
   },
   {
    "duration": 1729,
    "start_time": "2024-01-11T14:50:22.056Z"
   },
   {
    "duration": 27,
    "start_time": "2024-01-11T14:50:23.787Z"
   },
   {
    "duration": 23,
    "start_time": "2024-01-11T14:50:23.816Z"
   },
   {
    "duration": 26,
    "start_time": "2024-01-11T14:50:23.840Z"
   },
   {
    "duration": 376,
    "start_time": "2024-01-11T14:50:23.868Z"
   },
   {
    "duration": 24,
    "start_time": "2024-01-11T14:50:24.246Z"
   },
   {
    "duration": 36,
    "start_time": "2024-01-11T14:50:24.272Z"
   },
   {
    "duration": 21,
    "start_time": "2024-01-11T14:50:24.309Z"
   },
   {
    "duration": 37,
    "start_time": "2024-01-11T14:50:24.332Z"
   },
   {
    "duration": 83,
    "start_time": "2024-01-11T14:50:24.371Z"
   },
   {
    "duration": 305,
    "start_time": "2024-01-11T14:50:24.456Z"
   },
   {
    "duration": 456,
    "start_time": "2024-01-11T14:50:24.762Z"
   },
   {
    "duration": 264,
    "start_time": "2024-01-11T14:50:25.220Z"
   },
   {
    "duration": 25,
    "start_time": "2024-01-11T14:50:25.485Z"
   },
   {
    "duration": 28,
    "start_time": "2024-01-11T14:50:25.512Z"
   },
   {
    "duration": 15,
    "start_time": "2024-01-11T14:50:25.542Z"
   },
   {
    "duration": 334,
    "start_time": "2024-01-11T14:50:25.558Z"
   },
   {
    "duration": 23,
    "start_time": "2024-01-11T14:50:25.894Z"
   },
   {
    "duration": 267,
    "start_time": "2024-01-11T14:50:25.918Z"
   },
   {
    "duration": 17,
    "start_time": "2024-01-11T14:50:26.186Z"
   },
   {
    "duration": 58,
    "start_time": "2024-01-11T14:50:26.204Z"
   },
   {
    "duration": 259,
    "start_time": "2024-01-11T14:50:26.264Z"
   },
   {
    "duration": 20,
    "start_time": "2024-01-11T14:50:26.525Z"
   },
   {
    "duration": 298,
    "start_time": "2024-01-11T14:50:26.547Z"
   },
   {
    "duration": 21,
    "start_time": "2024-01-11T14:50:26.849Z"
   },
   {
    "duration": 15,
    "start_time": "2024-01-11T14:50:26.872Z"
   },
   {
    "duration": 217,
    "start_time": "2024-01-11T14:50:26.901Z"
   },
   {
    "duration": 3,
    "start_time": "2024-01-11T14:50:27.120Z"
   },
   {
    "duration": 151,
    "start_time": "2024-01-11T14:52:21.644Z"
   },
   {
    "duration": 194,
    "start_time": "2024-01-11T14:52:45.350Z"
   },
   {
    "duration": 140,
    "start_time": "2024-01-11T14:52:52.003Z"
   },
   {
    "duration": 58,
    "start_time": "2024-01-11T14:53:00.149Z"
   },
   {
    "duration": 4,
    "start_time": "2024-01-11T14:53:01.799Z"
   },
   {
    "duration": 4,
    "start_time": "2024-01-11T14:53:03.175Z"
   },
   {
    "duration": 60,
    "start_time": "2024-01-11T14:53:05.995Z"
   },
   {
    "duration": 111,
    "start_time": "2024-01-11T14:53:08.169Z"
   },
   {
    "duration": 20,
    "start_time": "2024-01-11T14:53:09.403Z"
   },
   {
    "duration": 25,
    "start_time": "2024-01-11T14:53:10.572Z"
   },
   {
    "duration": 25,
    "start_time": "2024-01-11T14:53:11.539Z"
   },
   {
    "duration": 178,
    "start_time": "2024-01-11T14:53:13.501Z"
   },
   {
    "duration": 171,
    "start_time": "2024-01-11T14:53:14.478Z"
   },
   {
    "duration": 289,
    "start_time": "2024-01-11T14:53:15.338Z"
   },
   {
    "duration": 32,
    "start_time": "2024-01-11T14:53:17.070Z"
   },
   {
    "duration": 54,
    "start_time": "2024-01-11T14:53:19.169Z"
   },
   {
    "duration": 94,
    "start_time": "2024-01-11T14:53:21.047Z"
   },
   {
    "duration": 87,
    "start_time": "2024-01-11T14:53:25.016Z"
   },
   {
    "duration": 4,
    "start_time": "2024-01-11T14:53:27.013Z"
   },
   {
    "duration": 11,
    "start_time": "2024-01-11T14:53:31.363Z"
   },
   {
    "duration": 11,
    "start_time": "2024-01-11T14:53:32.486Z"
   },
   {
    "duration": 10,
    "start_time": "2024-01-11T14:53:33.588Z"
   },
   {
    "duration": 8,
    "start_time": "2024-01-11T14:53:34.980Z"
   },
   {
    "duration": 3,
    "start_time": "2024-01-11T14:53:36.381Z"
   },
   {
    "duration": 15425,
    "start_time": "2024-01-11T14:53:37.656Z"
   },
   {
    "duration": 5,
    "start_time": "2024-01-11T14:54:04.654Z"
   },
   {
    "duration": 67841,
    "start_time": "2024-01-11T14:54:06.561Z"
   },
   {
    "duration": 3,
    "start_time": "2024-01-11T14:55:24.729Z"
   },
   {
    "duration": 93416,
    "start_time": "2024-01-11T14:55:26.307Z"
   },
   {
    "duration": 4,
    "start_time": "2024-01-11T14:59:17.310Z"
   },
   {
    "duration": 5883,
    "start_time": "2024-01-12T09:01:20.880Z"
   },
   {
    "duration": 3705,
    "start_time": "2024-01-12T09:01:26.766Z"
   },
   {
    "duration": 6714,
    "start_time": "2024-01-12T09:01:30.477Z"
   },
   {
    "duration": 3426,
    "start_time": "2024-01-12T09:01:37.195Z"
   },
   {
    "duration": 1671,
    "start_time": "2024-01-12T09:01:40.623Z"
   },
   {
    "duration": 2949,
    "start_time": "2024-01-12T09:01:42.296Z"
   },
   {
    "duration": 218,
    "start_time": "2024-01-12T09:01:45.248Z"
   },
   {
    "duration": 530,
    "start_time": "2024-01-12T09:01:45.468Z"
   },
   {
    "duration": 543,
    "start_time": "2024-01-12T09:01:46.000Z"
   },
   {
    "duration": 1107,
    "start_time": "2024-01-12T09:01:46.546Z"
   },
   {
    "duration": 78,
    "start_time": "2024-01-12T09:01:47.655Z"
   },
   {
    "duration": 35,
    "start_time": "2024-01-12T09:01:47.735Z"
   },
   {
    "duration": 6,
    "start_time": "2024-01-12T09:01:47.772Z"
   },
   {
    "duration": 30,
    "start_time": "2024-01-12T09:01:47.780Z"
   },
   {
    "duration": 120,
    "start_time": "2024-01-12T09:01:47.812Z"
   },
   {
    "duration": 118,
    "start_time": "2024-01-12T09:01:47.934Z"
   },
   {
    "duration": 1748,
    "start_time": "2024-01-12T09:01:48.055Z"
   },
   {
    "duration": 28,
    "start_time": "2024-01-12T09:01:49.806Z"
   },
   {
    "duration": 122,
    "start_time": "2024-01-12T09:01:49.836Z"
   },
   {
    "duration": 56,
    "start_time": "2024-01-12T09:01:49.960Z"
   },
   {
    "duration": 385,
    "start_time": "2024-01-12T09:01:50.018Z"
   },
   {
    "duration": 25,
    "start_time": "2024-01-12T09:01:50.405Z"
   },
   {
    "duration": 47,
    "start_time": "2024-01-12T09:01:50.431Z"
   },
   {
    "duration": 33,
    "start_time": "2024-01-12T09:01:50.480Z"
   },
   {
    "duration": 89,
    "start_time": "2024-01-12T09:01:50.515Z"
   },
   {
    "duration": 123,
    "start_time": "2024-01-12T09:01:50.605Z"
   },
   {
    "duration": 250,
    "start_time": "2024-01-12T09:01:50.730Z"
   },
   {
    "duration": 580,
    "start_time": "2024-01-12T09:01:51.002Z"
   },
   {
    "duration": 269,
    "start_time": "2024-01-12T09:01:51.584Z"
   },
   {
    "duration": 17,
    "start_time": "2024-01-12T09:01:51.855Z"
   },
   {
    "duration": 40,
    "start_time": "2024-01-12T09:01:51.874Z"
   },
   {
    "duration": 17,
    "start_time": "2024-01-12T09:01:51.916Z"
   },
   {
    "duration": 321,
    "start_time": "2024-01-12T09:01:51.934Z"
   },
   {
    "duration": 23,
    "start_time": "2024-01-12T09:01:52.256Z"
   },
   {
    "duration": 235,
    "start_time": "2024-01-12T09:01:52.281Z"
   },
   {
    "duration": 18,
    "start_time": "2024-01-12T09:01:52.518Z"
   },
   {
    "duration": 28,
    "start_time": "2024-01-12T09:01:52.537Z"
   },
   {
    "duration": 247,
    "start_time": "2024-01-12T09:01:52.566Z"
   },
   {
    "duration": 21,
    "start_time": "2024-01-12T09:01:52.815Z"
   },
   {
    "duration": 221,
    "start_time": "2024-01-12T09:01:52.838Z"
   },
   {
    "duration": 23,
    "start_time": "2024-01-12T09:01:53.061Z"
   },
   {
    "duration": 25,
    "start_time": "2024-01-12T09:01:53.085Z"
   },
   {
    "duration": 242,
    "start_time": "2024-01-12T09:01:53.111Z"
   },
   {
    "duration": 4,
    "start_time": "2024-01-12T09:01:53.355Z"
   },
   {
    "duration": 172,
    "start_time": "2024-01-12T09:01:53.361Z"
   },
   {
    "duration": 167,
    "start_time": "2024-01-12T09:01:53.534Z"
   },
   {
    "duration": 145,
    "start_time": "2024-01-12T09:01:53.703Z"
   },
   {
    "duration": 140,
    "start_time": "2024-01-12T09:01:53.850Z"
   },
   {
    "duration": 0,
    "start_time": "2024-01-12T09:01:53.993Z"
   },
   {
    "duration": 0,
    "start_time": "2024-01-12T09:01:53.994Z"
   },
   {
    "duration": 0,
    "start_time": "2024-01-12T09:01:54.001Z"
   },
   {
    "duration": 0,
    "start_time": "2024-01-12T09:01:54.002Z"
   },
   {
    "duration": 0,
    "start_time": "2024-01-12T09:01:54.004Z"
   },
   {
    "duration": 0,
    "start_time": "2024-01-12T09:01:54.006Z"
   },
   {
    "duration": 0,
    "start_time": "2024-01-12T09:01:54.007Z"
   },
   {
    "duration": 0,
    "start_time": "2024-01-12T09:01:54.008Z"
   },
   {
    "duration": 0,
    "start_time": "2024-01-12T09:01:54.009Z"
   },
   {
    "duration": 0,
    "start_time": "2024-01-12T09:01:54.011Z"
   },
   {
    "duration": 0,
    "start_time": "2024-01-12T09:01:54.012Z"
   },
   {
    "duration": 0,
    "start_time": "2024-01-12T09:01:54.013Z"
   },
   {
    "duration": 0,
    "start_time": "2024-01-12T09:01:54.015Z"
   },
   {
    "duration": 0,
    "start_time": "2024-01-12T09:01:54.016Z"
   },
   {
    "duration": 0,
    "start_time": "2024-01-12T09:01:54.017Z"
   },
   {
    "duration": 0,
    "start_time": "2024-01-12T09:01:54.018Z"
   },
   {
    "duration": 1,
    "start_time": "2024-01-12T09:01:54.019Z"
   },
   {
    "duration": 9,
    "start_time": "2024-01-12T09:01:57.992Z"
   },
   {
    "duration": 4,
    "start_time": "2024-01-12T09:02:40.154Z"
   },
   {
    "duration": 10,
    "start_time": "2024-01-12T09:02:41.523Z"
   },
   {
    "duration": 9,
    "start_time": "2024-01-12T09:02:54.511Z"
   },
   {
    "duration": 4,
    "start_time": "2024-01-12T09:02:57.324Z"
   },
   {
    "duration": 10,
    "start_time": "2024-01-12T09:02:58.348Z"
   },
   {
    "duration": 6,
    "start_time": "2024-01-12T09:03:40.515Z"
   },
   {
    "duration": 59,
    "start_time": "2024-01-12T09:03:46.986Z"
   },
   {
    "duration": 5,
    "start_time": "2024-01-12T09:03:48.959Z"
   },
   {
    "duration": 4,
    "start_time": "2024-01-12T09:03:50.371Z"
   },
   {
    "duration": 66,
    "start_time": "2024-01-12T09:03:51.999Z"
   },
   {
    "duration": 104,
    "start_time": "2024-01-12T09:03:53.759Z"
   },
   {
    "duration": 21,
    "start_time": "2024-01-12T09:03:54.598Z"
   },
   {
    "duration": 33,
    "start_time": "2024-01-12T09:03:55.310Z"
   },
   {
    "duration": 25,
    "start_time": "2024-01-12T09:03:56.058Z"
   },
   {
    "duration": 215,
    "start_time": "2024-01-12T09:03:57.560Z"
   },
   {
    "duration": 185,
    "start_time": "2024-01-12T09:03:58.264Z"
   },
   {
    "duration": 224,
    "start_time": "2024-01-12T09:03:59.721Z"
   },
   {
    "duration": 34,
    "start_time": "2024-01-12T09:04:02.530Z"
   },
   {
    "duration": 59,
    "start_time": "2024-01-12T09:04:03.627Z"
   },
   {
    "duration": 107,
    "start_time": "2024-01-12T09:04:05.284Z"
   },
   {
    "duration": 96,
    "start_time": "2024-01-12T09:04:06.510Z"
   },
   {
    "duration": 4,
    "start_time": "2024-01-12T09:04:08.795Z"
   },
   {
    "duration": 13,
    "start_time": "2024-01-12T09:04:10.363Z"
   },
   {
    "duration": 3,
    "start_time": "2024-01-12T09:04:11.112Z"
   },
   {
    "duration": 8,
    "start_time": "2024-01-12T09:04:12.274Z"
   },
   {
    "duration": 4,
    "start_time": "2024-01-12T09:04:16.913Z"
   },
   {
    "duration": 11,
    "start_time": "2024-01-12T09:04:18.363Z"
   },
   {
    "duration": 14,
    "start_time": "2024-01-12T09:04:33.368Z"
   },
   {
    "duration": 5302,
    "start_time": "2024-01-12T09:04:45.590Z"
   },
   {
    "duration": 4,
    "start_time": "2024-01-12T09:05:08.308Z"
   },
   {
    "duration": 79605,
    "start_time": "2024-01-12T09:05:36.098Z"
   },
   {
    "duration": 121,
    "start_time": "2024-01-12T09:17:43.303Z"
   },
   {
    "duration": 10,
    "start_time": "2024-01-12T09:18:25.366Z"
   },
   {
    "duration": 3,
    "start_time": "2024-01-12T09:18:29.408Z"
   },
   {
    "duration": 85,
    "start_time": "2024-01-12T09:18:30.827Z"
   },
   {
    "duration": 9,
    "start_time": "2024-01-12T09:18:55.097Z"
   },
   {
    "duration": 20,
    "start_time": "2024-01-12T09:19:00.449Z"
   },
   {
    "duration": 10,
    "start_time": "2024-01-12T09:34:08.565Z"
   },
   {
    "duration": 711,
    "start_time": "2024-01-12T09:34:15.265Z"
   },
   {
    "duration": 9,
    "start_time": "2024-01-12T09:44:26.217Z"
   },
   {
    "duration": 3080,
    "start_time": "2024-01-12T09:46:56.141Z"
   },
   {
    "duration": 2838,
    "start_time": "2024-01-12T09:46:59.224Z"
   },
   {
    "duration": 2688,
    "start_time": "2024-01-12T09:47:02.064Z"
   },
   {
    "duration": 2725,
    "start_time": "2024-01-12T09:47:04.754Z"
   },
   {
    "duration": 1456,
    "start_time": "2024-01-12T09:47:07.481Z"
   },
   {
    "duration": 1011,
    "start_time": "2024-01-12T09:47:08.939Z"
   },
   {
    "duration": 171,
    "start_time": "2024-01-12T09:47:09.952Z"
   },
   {
    "duration": 521,
    "start_time": "2024-01-12T09:47:10.125Z"
   },
   {
    "duration": 515,
    "start_time": "2024-01-12T09:47:10.648Z"
   },
   {
    "duration": 1039,
    "start_time": "2024-01-12T09:47:11.165Z"
   },
   {
    "duration": 70,
    "start_time": "2024-01-12T09:47:12.206Z"
   },
   {
    "duration": 51,
    "start_time": "2024-01-12T09:47:12.278Z"
   },
   {
    "duration": 7,
    "start_time": "2024-01-12T09:47:12.331Z"
   },
   {
    "duration": 18,
    "start_time": "2024-01-12T09:47:12.341Z"
   },
   {
    "duration": 115,
    "start_time": "2024-01-12T09:47:12.361Z"
   },
   {
    "duration": 100,
    "start_time": "2024-01-12T09:47:12.477Z"
   },
   {
    "duration": 1599,
    "start_time": "2024-01-12T09:47:12.579Z"
   },
   {
    "duration": 30,
    "start_time": "2024-01-12T09:47:14.180Z"
   },
   {
    "duration": 33,
    "start_time": "2024-01-12T09:47:14.212Z"
   },
   {
    "duration": 25,
    "start_time": "2024-01-12T09:47:14.247Z"
   },
   {
    "duration": 361,
    "start_time": "2024-01-12T09:47:14.274Z"
   },
   {
    "duration": 26,
    "start_time": "2024-01-12T09:47:14.637Z"
   },
   {
    "duration": 37,
    "start_time": "2024-01-12T09:47:14.665Z"
   },
   {
    "duration": 18,
    "start_time": "2024-01-12T09:47:14.704Z"
   },
   {
    "duration": 39,
    "start_time": "2024-01-12T09:47:14.723Z"
   },
   {
    "duration": 85,
    "start_time": "2024-01-12T09:47:14.763Z"
   },
   {
    "duration": 175,
    "start_time": "2024-01-12T09:47:14.850Z"
   },
   {
    "duration": 497,
    "start_time": "2024-01-12T09:47:15.027Z"
   },
   {
    "duration": 361,
    "start_time": "2024-01-12T09:47:15.526Z"
   },
   {
    "duration": 21,
    "start_time": "2024-01-12T09:47:15.888Z"
   },
   {
    "duration": 24,
    "start_time": "2024-01-12T09:47:15.910Z"
   },
   {
    "duration": 16,
    "start_time": "2024-01-12T09:47:15.936Z"
   },
   {
    "duration": 320,
    "start_time": "2024-01-12T09:47:15.954Z"
   },
   {
    "duration": 31,
    "start_time": "2024-01-12T09:47:16.276Z"
   },
   {
    "duration": 228,
    "start_time": "2024-01-12T09:47:16.309Z"
   },
   {
    "duration": 16,
    "start_time": "2024-01-12T09:47:16.539Z"
   },
   {
    "duration": 21,
    "start_time": "2024-01-12T09:47:16.557Z"
   },
   {
    "duration": 242,
    "start_time": "2024-01-12T09:47:16.580Z"
   },
   {
    "duration": 21,
    "start_time": "2024-01-12T09:47:16.823Z"
   },
   {
    "duration": 211,
    "start_time": "2024-01-12T09:47:16.846Z"
   },
   {
    "duration": 22,
    "start_time": "2024-01-12T09:47:17.062Z"
   },
   {
    "duration": 26,
    "start_time": "2024-01-12T09:47:17.086Z"
   },
   {
    "duration": 227,
    "start_time": "2024-01-12T09:47:17.113Z"
   },
   {
    "duration": 4,
    "start_time": "2024-01-12T09:47:17.341Z"
   },
   {
    "duration": 165,
    "start_time": "2024-01-12T09:47:17.347Z"
   },
   {
    "duration": 192,
    "start_time": "2024-01-12T09:47:17.514Z"
   },
   {
    "duration": 152,
    "start_time": "2024-01-12T09:47:17.708Z"
   },
   {
    "duration": 66,
    "start_time": "2024-01-12T09:47:17.861Z"
   },
   {
    "duration": 5,
    "start_time": "2024-01-12T09:47:17.929Z"
   },
   {
    "duration": 13,
    "start_time": "2024-01-12T09:47:17.935Z"
   },
   {
    "duration": 79,
    "start_time": "2024-01-12T09:47:17.950Z"
   },
   {
    "duration": 121,
    "start_time": "2024-01-12T09:47:18.032Z"
   },
   {
    "duration": 21,
    "start_time": "2024-01-12T09:47:18.155Z"
   },
   {
    "duration": 43,
    "start_time": "2024-01-12T09:47:18.178Z"
   },
   {
    "duration": 29,
    "start_time": "2024-01-12T09:47:18.222Z"
   },
   {
    "duration": 213,
    "start_time": "2024-01-12T09:47:18.253Z"
   },
   {
    "duration": 199,
    "start_time": "2024-01-12T09:47:18.467Z"
   },
   {
    "duration": 221,
    "start_time": "2024-01-12T09:47:18.668Z"
   },
   {
    "duration": 39,
    "start_time": "2024-01-12T09:47:18.891Z"
   },
   {
    "duration": 70,
    "start_time": "2024-01-12T09:47:18.932Z"
   },
   {
    "duration": 105,
    "start_time": "2024-01-12T09:47:19.003Z"
   },
   {
    "duration": 105,
    "start_time": "2024-01-12T09:47:19.110Z"
   },
   {
    "duration": 4,
    "start_time": "2024-01-12T09:47:19.216Z"
   },
   {
    "duration": 14,
    "start_time": "2024-01-12T09:47:19.221Z"
   },
   {
    "duration": 3,
    "start_time": "2024-01-12T09:47:19.237Z"
   },
   {
    "duration": 8,
    "start_time": "2024-01-12T09:47:19.242Z"
   },
   {
    "duration": 9,
    "start_time": "2024-01-12T09:47:19.251Z"
   },
   {
    "duration": 5228,
    "start_time": "2024-01-12T09:47:19.261Z"
   },
   {
    "duration": 5,
    "start_time": "2024-01-12T09:47:24.490Z"
   },
   {
    "duration": 68502,
    "start_time": "2024-01-12T09:47:24.499Z"
   },
   {
    "duration": 5,
    "start_time": "2024-01-12T09:48:33.003Z"
   },
   {
    "duration": 135591,
    "start_time": "2024-01-12T09:48:33.010Z"
   },
   {
    "duration": 5450,
    "start_time": "2024-01-23T08:29:40.869Z"
   },
   {
    "duration": 6345,
    "start_time": "2024-01-23T08:29:47.430Z"
   },
   {
    "duration": 1478,
    "start_time": "2024-01-23T08:29:57.814Z"
   },
   {
    "duration": 3289,
    "start_time": "2024-01-23T08:30:05.147Z"
   },
   {
    "duration": 268,
    "start_time": "2024-01-23T08:30:08.438Z"
   },
   {
    "duration": 4439,
    "start_time": "2024-01-23T08:30:14.602Z"
   },
   {
    "duration": 75,
    "start_time": "2024-01-23T08:30:19.043Z"
   },
   {
    "duration": 402,
    "start_time": "2024-01-23T08:30:51.034Z"
   },
   {
    "duration": 87,
    "start_time": "2024-01-23T08:31:11.151Z"
   },
   {
    "duration": 3152,
    "start_time": "2024-01-23T08:44:36.008Z"
   },
   {
    "duration": 2691,
    "start_time": "2024-01-23T08:44:39.163Z"
   },
   {
    "duration": 2701,
    "start_time": "2024-01-23T08:44:41.857Z"
   },
   {
    "duration": 2725,
    "start_time": "2024-01-23T08:44:44.561Z"
   },
   {
    "duration": 7,
    "start_time": "2024-01-23T08:44:47.288Z"
   },
   {
    "duration": 62,
    "start_time": "2024-01-23T08:45:02.273Z"
   },
   {
    "duration": 1933,
    "start_time": "2024-01-24T15:48:23.159Z"
   },
   {
    "duration": 178,
    "start_time": "2024-01-24T15:48:27.001Z"
   },
   {
    "duration": 59,
    "start_time": "2024-01-24T15:49:01.787Z"
   },
   {
    "duration": 119,
    "start_time": "2024-01-24T16:14:37.509Z"
   },
   {
    "duration": 159,
    "start_time": "2024-01-24T16:15:19.547Z"
   },
   {
    "duration": 138,
    "start_time": "2024-01-24T16:15:35.380Z"
   },
   {
    "duration": 34,
    "start_time": "2024-01-24T16:15:45.595Z"
   },
   {
    "duration": 4,
    "start_time": "2024-01-24T16:16:00.777Z"
   },
   {
    "duration": 2,
    "start_time": "2024-01-24T16:16:10.757Z"
   },
   {
    "duration": 73,
    "start_time": "2024-01-24T16:16:20.447Z"
   },
   {
    "duration": 6,
    "start_time": "2024-01-24T16:16:32.542Z"
   },
   {
    "duration": 3,
    "start_time": "2024-01-24T16:16:44.972Z"
   },
   {
    "duration": 178,
    "start_time": "2024-01-24T16:19:08.933Z"
   },
   {
    "duration": 222,
    "start_time": "2024-01-24T16:20:38.318Z"
   },
   {
    "duration": 206,
    "start_time": "2024-01-24T16:22:41.588Z"
   },
   {
    "duration": 9,
    "start_time": "2024-01-24T16:23:42.572Z"
   },
   {
    "duration": 130,
    "start_time": "2024-01-24T16:23:44.030Z"
   }
  ],
  "kernelspec": {
   "display_name": "Python 3 (ipykernel)",
   "language": "python",
   "name": "python3"
  },
  "language_info": {
   "codemirror_mode": {
    "name": "ipython",
    "version": 3
   },
   "file_extension": ".py",
   "mimetype": "text/x-python",
   "name": "python",
   "nbconvert_exporter": "python",
   "pygments_lexer": "ipython3",
   "version": "3.11.5"
  },
  "toc": {
   "base_numbering": 1,
   "nav_menu": {},
   "number_sections": true,
   "sideBar": true,
   "skip_h1_title": true,
   "title_cell": "Table of Contents",
   "title_sidebar": "Contents",
   "toc_cell": false,
   "toc_position": {
    "height": "calc(100% - 180px)",
    "left": "10px",
    "top": "150px",
    "width": "338.396px"
   },
   "toc_section_display": true,
   "toc_window_display": true
  }
 },
 "nbformat": 4,
 "nbformat_minor": 2
}
