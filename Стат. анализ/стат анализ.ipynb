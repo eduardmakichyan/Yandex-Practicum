{
 "cells": [
  {
   "cell_type": "markdown",
   "id": "5aeb22d1",
   "metadata": {},
   "source": [
    "# Описание проекта."
   ]
  },
  {
   "cell_type": "markdown",
   "id": "8bd11bb3",
   "metadata": {},
   "source": [
    "В нашем распоряжение данные популярного сервиса аренды самокатов GoFast. Данные о некоторых пользователях из нескольких городов, а также об их поездках. Проанализируем данные и проверьте некоторые гипотезы, которые могут помочь бизнесу вырасти:\n",
    "1.  Важно понять, тратят ли пользователи с подпиской больше времени на поездки? Если да, то пользователи с подпиской могут быть «выгоднее» для компании. \n",
    "2. Расстояние одной поездки в 3130 метров — оптимальное с точки зрения износа самоката. Можно ли сказать, что среднее расстояние, которое проезжают пользователи с подпиской за одну поездку, не превышает 3130 метров? \n",
    "3. Проверем гипотезу о том, будет ли помесячная выручка от пользователей с подпиской по месяцам выше, чем выручка от пользователей без подписки. "
   ]
  },
  {
   "cell_type": "code",
   "execution_count": 28,
   "id": "72576667",
   "metadata": {},
   "outputs": [],
   "source": [
    "# импортируем все необходимые библиотеки \n",
    "import pandas as pd\n",
    "import matplotlib.pyplot as plt\n",
    "import numpy as np\n",
    "import scipy.stats as st"
   ]
  },
  {
   "cell_type": "markdown",
   "id": "c42cbe00",
   "metadata": {},
   "source": [
    "#### Шаг 1. Загрузка данных"
   ]
  },
  {
   "cell_type": "code",
   "execution_count": 29,
   "id": "eff9f206",
   "metadata": {},
   "outputs": [
    {
     "data": {
      "text/html": [
       "<div>\n",
       "<style scoped>\n",
       "    .dataframe tbody tr th:only-of-type {\n",
       "        vertical-align: middle;\n",
       "    }\n",
       "\n",
       "    .dataframe tbody tr th {\n",
       "        vertical-align: top;\n",
       "    }\n",
       "\n",
       "    .dataframe thead th {\n",
       "        text-align: right;\n",
       "    }\n",
       "</style>\n",
       "<table border=\"1\" class=\"dataframe\">\n",
       "  <thead>\n",
       "    <tr style=\"text-align: right;\">\n",
       "      <th></th>\n",
       "      <th>user_id</th>\n",
       "      <th>name</th>\n",
       "      <th>age</th>\n",
       "      <th>city</th>\n",
       "      <th>subscription_type</th>\n",
       "    </tr>\n",
       "  </thead>\n",
       "  <tbody>\n",
       "    <tr>\n",
       "      <th>0</th>\n",
       "      <td>1</td>\n",
       "      <td>Кира</td>\n",
       "      <td>22</td>\n",
       "      <td>Тюмень</td>\n",
       "      <td>ultra</td>\n",
       "    </tr>\n",
       "    <tr>\n",
       "      <th>1</th>\n",
       "      <td>2</td>\n",
       "      <td>Станислав</td>\n",
       "      <td>31</td>\n",
       "      <td>Омск</td>\n",
       "      <td>ultra</td>\n",
       "    </tr>\n",
       "    <tr>\n",
       "      <th>2</th>\n",
       "      <td>3</td>\n",
       "      <td>Алексей</td>\n",
       "      <td>20</td>\n",
       "      <td>Москва</td>\n",
       "      <td>ultra</td>\n",
       "    </tr>\n",
       "    <tr>\n",
       "      <th>3</th>\n",
       "      <td>4</td>\n",
       "      <td>Константин</td>\n",
       "      <td>26</td>\n",
       "      <td>Ростов-на-Дону</td>\n",
       "      <td>ultra</td>\n",
       "    </tr>\n",
       "    <tr>\n",
       "      <th>4</th>\n",
       "      <td>5</td>\n",
       "      <td>Адель</td>\n",
       "      <td>28</td>\n",
       "      <td>Омск</td>\n",
       "      <td>ultra</td>\n",
       "    </tr>\n",
       "  </tbody>\n",
       "</table>\n",
       "</div>"
      ],
      "text/plain": [
       "   user_id        name  age            city subscription_type\n",
       "0        1        Кира   22          Тюмень             ultra\n",
       "1        2   Станислав   31            Омск             ultra\n",
       "2        3     Алексей   20          Москва             ultra\n",
       "3        4  Константин   26  Ростов-на-Дону             ultra\n",
       "4        5       Адель   28            Омск             ultra"
      ]
     },
     "execution_count": 29,
     "metadata": {},
     "output_type": "execute_result"
    }
   ],
   "source": [
    "#прочитаем и сохраним в переменную информацию о клиентах\n",
    "users_data = pd.read_csv('/datasets/users_go.csv')\n",
    "users_data.head()"
   ]
  },
  {
   "cell_type": "code",
   "execution_count": 30,
   "id": "21a248fe",
   "metadata": {},
   "outputs": [
    {
     "name": "stdout",
     "output_type": "stream",
     "text": [
      "<class 'pandas.core.frame.DataFrame'>\n",
      "RangeIndex: 1565 entries, 0 to 1564\n",
      "Data columns (total 5 columns):\n",
      " #   Column             Non-Null Count  Dtype \n",
      "---  ------             --------------  ----- \n",
      " 0   user_id            1565 non-null   int64 \n",
      " 1   name               1565 non-null   object\n",
      " 2   age                1565 non-null   int64 \n",
      " 3   city               1565 non-null   object\n",
      " 4   subscription_type  1565 non-null   object\n",
      "dtypes: int64(2), object(3)\n",
      "memory usage: 61.3+ KB\n"
     ]
    }
   ],
   "source": [
    "# посмотрим на общую информацию о таблице\n",
    "users_data.info()"
   ]
  },
  {
   "cell_type": "code",
   "execution_count": 31,
   "id": "133bd2e8",
   "metadata": {},
   "outputs": [
    {
     "data": {
      "text/html": [
       "<div>\n",
       "<style scoped>\n",
       "    .dataframe tbody tr th:only-of-type {\n",
       "        vertical-align: middle;\n",
       "    }\n",
       "\n",
       "    .dataframe tbody tr th {\n",
       "        vertical-align: top;\n",
       "    }\n",
       "\n",
       "    .dataframe thead th {\n",
       "        text-align: right;\n",
       "    }\n",
       "</style>\n",
       "<table border=\"1\" class=\"dataframe\">\n",
       "  <thead>\n",
       "    <tr style=\"text-align: right;\">\n",
       "      <th></th>\n",
       "      <th>user_id</th>\n",
       "      <th>distance</th>\n",
       "      <th>duration</th>\n",
       "      <th>date</th>\n",
       "    </tr>\n",
       "  </thead>\n",
       "  <tbody>\n",
       "    <tr>\n",
       "      <th>0</th>\n",
       "      <td>1</td>\n",
       "      <td>4409.919140</td>\n",
       "      <td>25.599769</td>\n",
       "      <td>2021-01-01</td>\n",
       "    </tr>\n",
       "    <tr>\n",
       "      <th>1</th>\n",
       "      <td>1</td>\n",
       "      <td>2617.592153</td>\n",
       "      <td>15.816871</td>\n",
       "      <td>2021-01-18</td>\n",
       "    </tr>\n",
       "    <tr>\n",
       "      <th>2</th>\n",
       "      <td>1</td>\n",
       "      <td>754.159807</td>\n",
       "      <td>6.232113</td>\n",
       "      <td>2021-04-20</td>\n",
       "    </tr>\n",
       "    <tr>\n",
       "      <th>3</th>\n",
       "      <td>1</td>\n",
       "      <td>2694.783254</td>\n",
       "      <td>18.511000</td>\n",
       "      <td>2021-08-11</td>\n",
       "    </tr>\n",
       "    <tr>\n",
       "      <th>4</th>\n",
       "      <td>1</td>\n",
       "      <td>4028.687306</td>\n",
       "      <td>26.265803</td>\n",
       "      <td>2021-08-28</td>\n",
       "    </tr>\n",
       "  </tbody>\n",
       "</table>\n",
       "</div>"
      ],
      "text/plain": [
       "   user_id     distance   duration        date\n",
       "0        1  4409.919140  25.599769  2021-01-01\n",
       "1        1  2617.592153  15.816871  2021-01-18\n",
       "2        1   754.159807   6.232113  2021-04-20\n",
       "3        1  2694.783254  18.511000  2021-08-11\n",
       "4        1  4028.687306  26.265803  2021-08-28"
      ]
     },
     "execution_count": 31,
     "metadata": {},
     "output_type": "execute_result"
    }
   ],
   "source": [
    "#прочитаем и сохраним в переменную информацию о поездках\n",
    "rides_data = pd.read_csv('/datasets/rides_go.csv')\n",
    "rides_data.head()"
   ]
  },
  {
   "cell_type": "code",
   "execution_count": 32,
   "id": "18f462e7",
   "metadata": {},
   "outputs": [
    {
     "name": "stdout",
     "output_type": "stream",
     "text": [
      "<class 'pandas.core.frame.DataFrame'>\n",
      "RangeIndex: 18068 entries, 0 to 18067\n",
      "Data columns (total 4 columns):\n",
      " #   Column    Non-Null Count  Dtype  \n",
      "---  ------    --------------  -----  \n",
      " 0   user_id   18068 non-null  int64  \n",
      " 1   distance  18068 non-null  float64\n",
      " 2   duration  18068 non-null  float64\n",
      " 3   date      18068 non-null  object \n",
      "dtypes: float64(2), int64(1), object(1)\n",
      "memory usage: 564.8+ KB\n"
     ]
    }
   ],
   "source": [
    "# посмотрим на общую информацию о таблице\n",
    "rides_data.info()"
   ]
  },
  {
   "cell_type": "code",
   "execution_count": 33,
   "id": "b55b6066",
   "metadata": {},
   "outputs": [
    {
     "data": {
      "text/html": [
       "<div>\n",
       "<style scoped>\n",
       "    .dataframe tbody tr th:only-of-type {\n",
       "        vertical-align: middle;\n",
       "    }\n",
       "\n",
       "    .dataframe tbody tr th {\n",
       "        vertical-align: top;\n",
       "    }\n",
       "\n",
       "    .dataframe thead th {\n",
       "        text-align: right;\n",
       "    }\n",
       "</style>\n",
       "<table border=\"1\" class=\"dataframe\">\n",
       "  <thead>\n",
       "    <tr style=\"text-align: right;\">\n",
       "      <th></th>\n",
       "      <th>subscription_type</th>\n",
       "      <th>minute_price</th>\n",
       "      <th>start_ride_price</th>\n",
       "      <th>subscription_fee</th>\n",
       "    </tr>\n",
       "  </thead>\n",
       "  <tbody>\n",
       "    <tr>\n",
       "      <th>0</th>\n",
       "      <td>free</td>\n",
       "      <td>8</td>\n",
       "      <td>50</td>\n",
       "      <td>0</td>\n",
       "    </tr>\n",
       "    <tr>\n",
       "      <th>1</th>\n",
       "      <td>ultra</td>\n",
       "      <td>6</td>\n",
       "      <td>0</td>\n",
       "      <td>199</td>\n",
       "    </tr>\n",
       "  </tbody>\n",
       "</table>\n",
       "</div>"
      ],
      "text/plain": [
       "  subscription_type  minute_price  start_ride_price  subscription_fee\n",
       "0              free             8                50                 0\n",
       "1             ultra             6                 0               199"
      ]
     },
     "execution_count": 33,
     "metadata": {},
     "output_type": "execute_result"
    }
   ],
   "source": [
    "#прочитаем и сохраним в переменную информацию о подписках\n",
    "subscriptions_data = pd.read_csv('/datasets/subscriptions_go.csv')\n",
    "subscriptions_data"
   ]
  },
  {
   "cell_type": "code",
   "execution_count": 34,
   "id": "9d1390c7",
   "metadata": {
    "scrolled": true
   },
   "outputs": [
    {
     "name": "stdout",
     "output_type": "stream",
     "text": [
      "<class 'pandas.core.frame.DataFrame'>\n",
      "RangeIndex: 2 entries, 0 to 1\n",
      "Data columns (total 4 columns):\n",
      " #   Column             Non-Null Count  Dtype \n",
      "---  ------             --------------  ----- \n",
      " 0   subscription_type  2 non-null      object\n",
      " 1   minute_price       2 non-null      int64 \n",
      " 2   start_ride_price   2 non-null      int64 \n",
      " 3   subscription_fee   2 non-null      int64 \n",
      "dtypes: int64(3), object(1)\n",
      "memory usage: 192.0+ bytes\n"
     ]
    }
   ],
   "source": [
    "# посмотрим на общую информацию о таблице\n",
    "subscriptions_data.info()"
   ]
  },
  {
   "cell_type": "markdown",
   "id": "988e51bc",
   "metadata": {},
   "source": [
    "При первом знакомстве с данными видно , что в таблицах есть общие элементы по которым можно будет их объеденить. Нужно будет поменять тип данных для записи даты. На следующем этапе проверить наличие дубликатов и пропусков."
   ]
  },
  {
   "cell_type": "markdown",
   "id": "e95ebca7",
   "metadata": {},
   "source": [
    "#### Шаг 2. Предобработка данных"
   ]
  },
  {
   "cell_type": "code",
   "execution_count": 35,
   "id": "d8e1caed",
   "metadata": {},
   "outputs": [
    {
     "data": {
      "text/plain": [
       "0    2021-01-01\n",
       "1    2021-01-18\n",
       "2    2021-04-20\n",
       "3    2021-08-11\n",
       "4    2021-08-28\n",
       "Name: date, dtype: object"
      ]
     },
     "execution_count": 35,
     "metadata": {},
     "output_type": "execute_result"
    }
   ],
   "source": [
    "rides_data['date'].head() # проверим формат записи времени"
   ]
  },
  {
   "cell_type": "code",
   "execution_count": 36,
   "id": "932ea3fe",
   "metadata": {},
   "outputs": [
    {
     "data": {
      "text/plain": [
       "2021-12-22    72\n",
       "2021-01-12    70\n",
       "2021-12-27    69\n",
       "2021-06-09    67\n",
       "2021-08-20    67\n",
       "              ..\n",
       "2021-07-30    35\n",
       "2021-11-07    35\n",
       "2021-12-15    34\n",
       "2021-02-02    34\n",
       "2021-07-03    31\n",
       "Name: date, Length: 364, dtype: int64"
      ]
     },
     "execution_count": 36,
     "metadata": {},
     "output_type": "execute_result"
    }
   ],
   "source": [
    "# проверим за какой период представленны данные\n",
    "rides_data['date'].value_counts()"
   ]
  },
  {
   "cell_type": "code",
   "execution_count": 37,
   "id": "af6d202c",
   "metadata": {},
   "outputs": [
    {
     "data": {
      "text/plain": [
       "0   2021-01-01\n",
       "1   2021-01-18\n",
       "2   2021-04-20\n",
       "3   2021-08-11\n",
       "4   2021-08-28\n",
       "Name: date, dtype: datetime64[ns]"
      ]
     },
     "execution_count": 37,
     "metadata": {},
     "output_type": "execute_result"
    }
   ],
   "source": [
    "rides_data['date'] = pd.to_datetime(rides_data['date'], format='%Y.%m.%d') \n",
    "rides_data['date'].head() # приведем формат времени к \"datetime64\""
   ]
  },
  {
   "cell_type": "code",
   "execution_count": 38,
   "id": "51f27103",
   "metadata": {
    "scrolled": true
   },
   "outputs": [
    {
     "data": {
      "text/plain": [
       "0    1\n",
       "1    1\n",
       "2    4\n",
       "3    8\n",
       "4    8\n",
       "Name: month, dtype: int64"
      ]
     },
     "execution_count": 38,
     "metadata": {},
     "output_type": "execute_result"
    }
   ],
   "source": [
    "rides_data['month'] = rides_data['date'].dt.month\n",
    "rides_data['month'].head() # добавим новый столбец с номером месяца"
   ]
  },
  {
   "cell_type": "code",
   "execution_count": 39,
   "id": "9ca4a5ea",
   "metadata": {},
   "outputs": [
    {
     "data": {
      "text/plain": [
       "2021-12-22    72\n",
       "2021-01-12    70\n",
       "2021-12-27    69\n",
       "2021-08-20    67\n",
       "2021-06-09    67\n",
       "              ..\n",
       "2021-11-07    35\n",
       "2021-07-30    35\n",
       "2021-12-15    34\n",
       "2021-02-02    34\n",
       "2021-07-03    31\n",
       "Name: date, Length: 364, dtype: int64"
      ]
     },
     "execution_count": 39,
     "metadata": {},
     "output_type": "execute_result"
    }
   ],
   "source": [
    "# проверим не склеились ли данные после агрегации. все в порядке\n",
    "rides_data['date'].value_counts()"
   ]
  },
  {
   "cell_type": "code",
   "execution_count": 40,
   "id": "9fe00f6d",
   "metadata": {},
   "outputs": [
    {
     "data": {
      "text/plain": [
       "user_id              0\n",
       "name                 0\n",
       "age                  0\n",
       "city                 0\n",
       "subscription_type    0\n",
       "dtype: int64"
      ]
     },
     "execution_count": 40,
     "metadata": {},
     "output_type": "execute_result"
    }
   ],
   "source": [
    "# проверим пропуски в таблице с клиентами. их нет\n",
    "users_data.isna().sum()"
   ]
  },
  {
   "cell_type": "code",
   "execution_count": 41,
   "id": "cd894e75",
   "metadata": {},
   "outputs": [
    {
     "data": {
      "text/plain": [
       "31"
      ]
     },
     "execution_count": 41,
     "metadata": {},
     "output_type": "execute_result"
    }
   ],
   "source": [
    "# проверим кол-во явных дубликатов в таблице \n",
    "users_data.duplicated().sum()"
   ]
  },
  {
   "cell_type": "code",
   "execution_count": 42,
   "id": "e245b56b",
   "metadata": {},
   "outputs": [],
   "source": [
    "# 31 явный дубликат, удалим их\n",
    "users_data = users_data.drop_duplicates()"
   ]
  },
  {
   "cell_type": "code",
   "execution_count": 43,
   "id": "66dec8d8",
   "metadata": {},
   "outputs": [
    {
     "data": {
      "text/plain": [
       "Пятигорск         219\n",
       "Екатеринбург      204\n",
       "Ростов-на-Дону    198\n",
       "Краснодар         193\n",
       "Сочи              189\n",
       "Омск              183\n",
       "Тюмень            180\n",
       "Москва            168\n",
       "Name: city, dtype: int64"
      ]
     },
     "execution_count": 43,
     "metadata": {},
     "output_type": "execute_result"
    }
   ],
   "source": [
    "# проверим есть ли неявные дуликаты в названиях нас. пунктов. их нет \n",
    "users_data['city'].value_counts()"
   ]
  },
  {
   "cell_type": "code",
   "execution_count": 44,
   "id": "e0a821d6",
   "metadata": {},
   "outputs": [
    {
     "data": {
      "text/plain": [
       "user_id     0\n",
       "distance    0\n",
       "duration    0\n",
       "date        0\n",
       "month       0\n",
       "dtype: int64"
      ]
     },
     "execution_count": 44,
     "metadata": {},
     "output_type": "execute_result"
    }
   ],
   "source": [
    "# проверим пропуски в таблице с поездками. их нет\n",
    "rides_data.isna().sum()"
   ]
  },
  {
   "cell_type": "code",
   "execution_count": 45,
   "id": "db183f7a",
   "metadata": {},
   "outputs": [
    {
     "data": {
      "text/plain": [
       "0"
      ]
     },
     "execution_count": 45,
     "metadata": {},
     "output_type": "execute_result"
    }
   ],
   "source": [
    "# проверим кол-во явных дубликатов в таблице . их нет\n",
    "rides_data.duplicated().sum()"
   ]
  },
  {
   "cell_type": "markdown",
   "id": "2acb00d5",
   "metadata": {},
   "source": [
    "В таблице \"subscriptions_data\" всего две строчки. Очивидно , что в ней нет пропусков и дубликатов."
   ]
  },
  {
   "cell_type": "markdown",
   "id": "f39a58d5",
   "metadata": {},
   "source": [
    "# вывод по предобработке"
   ]
  },
  {
   "cell_type": "markdown",
   "id": "d8e52915",
   "metadata": {},
   "source": [
    "В данных не пропусков , но были дубликаты. Возможные причины появления дубликатов :\n",
    "1. Технические ошибки с многократной загрузкой одного фрагмента данных.\n",
    "2. Повторный ввод одной и той же информации в сочетании с отсутствием проверок на существование такой же записи в базе данных."
   ]
  },
  {
   "cell_type": "markdown",
   "id": "212593c7",
   "metadata": {},
   "source": [
    "#### Шаг 3. Исследовательский анализ данных"
   ]
  },
  {
   "cell_type": "markdown",
   "id": "4d23c4c4",
   "metadata": {},
   "source": [
    "##### изучим частоту встречаемости городов"
   ]
  },
  {
   "cell_type": "code",
   "execution_count": 46,
   "id": "ff5b1eb8",
   "metadata": {},
   "outputs": [
    {
     "data": {
      "text/plain": [
       "Пятигорск         219\n",
       "Екатеринбург      204\n",
       "Ростов-на-Дону    198\n",
       "Краснодар         193\n",
       "Сочи              189\n",
       "Омск              183\n",
       "Тюмень            180\n",
       "Москва            168\n",
       "Name: city, dtype: int64"
      ]
     },
     "execution_count": 46,
     "metadata": {},
     "output_type": "execute_result"
    }
   ],
   "source": [
    "# частота городов\n",
    "users_data['city'].value_counts()"
   ]
  },
  {
   "cell_type": "code",
   "execution_count": 48,
   "id": "e3b81863",
   "metadata": {},
   "outputs": [
    {
     "data": {
      "image/png": "[encoded data removed]",
      "text/plain": [
       "<Figure size 432x288 with 1 Axes>"
      ]
     },
     "metadata": {
      "needs_background": "light"
     },
     "output_type": "display_data"
    }
   ],
   "source": [
    "# график частоты встречаемости городов \n",
    "users_data['city'].value_counts().plot.bar(xlabel='city_name', ylabel='count')\n",
    "plt.title('city')\n",
    "plt.show()"
   ]
  },
  {
   "cell_type": "markdown",
   "id": "0337c460",
   "metadata": {},
   "source": [
    "В итоге мы видим, что главными городами, по использованию самакатов являются : Пятигорск, Екатеринбург."
   ]
  },
  {
   "cell_type": "markdown",
   "id": "01745900",
   "metadata": {},
   "source": [
    "#####  изучим соотношение пользователей с подпиской и без подписки"
   ]
  },
  {
   "cell_type": "code",
   "execution_count": 49,
   "id": "fe2880c7",
   "metadata": {
    "scrolled": true
   },
   "outputs": [
    {
     "data": {
      "image/png": "[encoded data removed]",
      "text/plain": [
       "<Figure size 432x288 with 1 Axes>"
      ]
     },
     "metadata": {
      "needs_background": "light"
     },
     "output_type": "display_data"
    }
   ],
   "source": [
    "# график пользовотелей с подпиской и без\n",
    "users_data['subscription_type'].hist(bins=4)\n",
    "plt.title('subscription_type')\n",
    "plt.show()"
   ]
  },
  {
   "cell_type": "code",
   "execution_count": 50,
   "id": "0bf2acb7",
   "metadata": {
    "scrolled": true
   },
   "outputs": [
    {
     "data": {
      "text/html": [
       "<div>\n",
       "<style scoped>\n",
       "    .dataframe tbody tr th:only-of-type {\n",
       "        vertical-align: middle;\n",
       "    }\n",
       "\n",
       "    .dataframe tbody tr th {\n",
       "        vertical-align: top;\n",
       "    }\n",
       "\n",
       "    .dataframe thead th {\n",
       "        text-align: right;\n",
       "    }\n",
       "</style>\n",
       "<table border=\"1\" class=\"dataframe\">\n",
       "  <thead>\n",
       "    <tr style=\"text-align: right;\">\n",
       "      <th></th>\n",
       "      <th>user_id</th>\n",
       "      <th>name</th>\n",
       "      <th>age</th>\n",
       "      <th>city</th>\n",
       "    </tr>\n",
       "    <tr>\n",
       "      <th>subscription_type</th>\n",
       "      <th></th>\n",
       "      <th></th>\n",
       "      <th></th>\n",
       "      <th></th>\n",
       "    </tr>\n",
       "  </thead>\n",
       "  <tbody>\n",
       "    <tr>\n",
       "      <th>free</th>\n",
       "      <td>835</td>\n",
       "      <td>835</td>\n",
       "      <td>835</td>\n",
       "      <td>835</td>\n",
       "    </tr>\n",
       "    <tr>\n",
       "      <th>ultra</th>\n",
       "      <td>699</td>\n",
       "      <td>699</td>\n",
       "      <td>699</td>\n",
       "      <td>699</td>\n",
       "    </tr>\n",
       "  </tbody>\n",
       "</table>\n",
       "</div>"
      ],
      "text/plain": [
       "                   user_id  name  age  city\n",
       "subscription_type                          \n",
       "free                   835   835  835   835\n",
       "ultra                  699   699  699   699"
      ]
     },
     "execution_count": 50,
     "metadata": {},
     "output_type": "execute_result"
    }
   ],
   "source": [
    "# кол-во клиентов по типу подписки\n",
    "users_data.groupby('subscription_type').count()"
   ]
  },
  {
   "cell_type": "code",
   "execution_count": 51,
   "id": "1d55888d",
   "metadata": {},
   "outputs": [
    {
     "data": {
      "image/png": "[encoded data removed]",
      "text/plain": [
       "<Figure size 432x288 with 1 Axes>"
      ]
     },
     "metadata": {},
     "output_type": "display_data"
    }
   ],
   "source": [
    "users_data['subscription_type'].value_counts().plot(kind='pie',autopct='%1.0f%%')\n",
    "plt.show()"
   ]
  },
  {
   "cell_type": "markdown",
   "id": "aeaa2b42",
   "metadata": {},
   "source": [
    "На графике видно , что 54% пользователей не пользуются подпиской, у 46% пользователей есть подписка."
   ]
  },
  {
   "cell_type": "markdown",
   "id": "18e17872",
   "metadata": {},
   "source": [
    "##### Изучим возраст пользователей"
   ]
  },
  {
   "cell_type": "code",
   "execution_count": 52,
   "id": "d1510871",
   "metadata": {},
   "outputs": [
    {
     "data": {
      "image/png": "[encoded data removed]",
      "text/plain": [
       "<Figure size 432x288 with 1 Axes>"
      ]
     },
     "metadata": {
      "needs_background": "light"
     },
     "output_type": "display_data"
    }
   ],
   "source": [
    "# график расспрделения возрастов клиентов\n",
    "users_data['age'].hist(bins=users_data['age'].max() - users_data['age'].min())\n",
    "plt.title('age')\n",
    "plt.show()"
   ]
  },
  {
   "cell_type": "code",
   "execution_count": 53,
   "id": "10dee78b",
   "metadata": {
    "scrolled": true
   },
   "outputs": [
    {
     "data": {
      "text/plain": [
       "count    1534.000000\n",
       "mean       24.903520\n",
       "std         4.572367\n",
       "min        12.000000\n",
       "25%        22.000000\n",
       "50%        25.000000\n",
       "75%        28.000000\n",
       "max        43.000000\n",
       "Name: age, dtype: float64"
      ]
     },
     "execution_count": 53,
     "metadata": {},
     "output_type": "execute_result"
    }
   ],
   "source": [
    "# дополнительно посмотрим на основные показатели \n",
    "users_data['age'].describe()"
   ]
  },
  {
   "cell_type": "markdown",
   "id": "d774efa3",
   "metadata": {},
   "source": [
    "Видим , что основная масса пользователей это люди в возрасте от 22 до 28 лет."
   ]
  },
  {
   "cell_type": "markdown",
   "id": "8d07a423",
   "metadata": {},
   "source": [
    "##### Изучим расстояние, которое пользователь преодолел за одну поездку"
   ]
  },
  {
   "cell_type": "code",
   "execution_count": 54,
   "id": "e2a23ed3",
   "metadata": {},
   "outputs": [
    {
     "data": {
      "image/png": "[encoded data removed]",
      "text/plain": [
       "<Figure size 432x288 with 1 Axes>"
      ]
     },
     "metadata": {
      "needs_background": "light"
     },
     "output_type": "display_data"
    }
   ],
   "source": [
    "# график распределения растояния поездок\n",
    "rides_data['distance'].hist()\n",
    "plt.title('distance')\n",
    "plt.show()"
   ]
  },
  {
   "cell_type": "code",
   "execution_count": 55,
   "id": "dd764eca",
   "metadata": {},
   "outputs": [
    {
     "data": {
      "text/plain": [
       "count    18068.000000\n",
       "mean      3070.659976\n",
       "std       1116.831209\n",
       "min          0.855683\n",
       "25%       2543.226360\n",
       "50%       3133.609994\n",
       "75%       3776.222735\n",
       "max       7211.007745\n",
       "Name: distance, dtype: float64"
      ]
     },
     "execution_count": 55,
     "metadata": {},
     "output_type": "execute_result"
    }
   ],
   "source": [
    "# распределение расстояния поездок\n",
    "rides_data['distance'].describe()"
   ]
  },
  {
   "cell_type": "markdown",
   "id": "1b356535",
   "metadata": {},
   "source": [
    "Основное кол-во поездок происходит на росстояние примерно от 2500 до 3100 метров."
   ]
  },
  {
   "cell_type": "markdown",
   "id": "f40a7431",
   "metadata": {},
   "source": [
    "##### Изучим продолжительность поездок"
   ]
  },
  {
   "cell_type": "code",
   "execution_count": 56,
   "id": "46d01238",
   "metadata": {},
   "outputs": [
    {
     "data": {
      "image/png": "[encoded data removed]",
      "text/plain": [
       "<Figure size 432x288 with 1 Axes>"
      ]
     },
     "metadata": {
      "needs_background": "light"
     },
     "output_type": "display_data"
    }
   ],
   "source": [
    "# график распределения продолжительности поездки\n",
    "rides_data['duration'].hist()\n",
    "plt.title('duration')\n",
    "plt.show()"
   ]
  },
  {
   "cell_type": "code",
   "execution_count": 57,
   "id": "5f7bbdf1",
   "metadata": {},
   "outputs": [
    {
     "data": {
      "text/plain": [
       "count    18068.000000\n",
       "mean        17.805011\n",
       "std          6.091051\n",
       "min          0.500000\n",
       "25%         13.597563\n",
       "50%         17.678395\n",
       "75%         21.724800\n",
       "max         40.823963\n",
       "Name: duration, dtype: float64"
      ]
     },
     "execution_count": 57,
     "metadata": {},
     "output_type": "execute_result"
    }
   ],
   "source": [
    "# расспределение продолжительности поездок\n",
    "rides_data['duration'].describe()"
   ]
  },
  {
   "cell_type": "markdown",
   "id": "ef0f3b37",
   "metadata": {},
   "source": [
    "В основном поездки длятся от 13 до 21 минуты."
   ]
  },
  {
   "cell_type": "markdown",
   "id": "04d0c8a7",
   "metadata": {},
   "source": [
    "# Вывод по исследовательскому анализу."
   ]
  },
  {
   "cell_type": "markdown",
   "id": "1c7d48e7",
   "metadata": {},
   "source": [
    "В результате анализа было выявленно , что :\n",
    "1. Главными городами, по использованию самакатов являются : Пятигорск, Екатеринбург.\n",
    "2. Большая часть клиентов пользуются самокатами без подписки.\n",
    "3. Основная масса пользователей это люди в возрасте от 22 до 28 лет.\n",
    "4. Основное кол-во поездок происходит на росстояние примерно от 2500 до 3100 метров.\n",
    "5. В основном поездки длятся от 13 до 21 минуты.\n"
   ]
  },
  {
   "cell_type": "markdown",
   "id": "4ef51331",
   "metadata": {},
   "source": [
    "#### Шаг 4. Объединение данных"
   ]
  },
  {
   "cell_type": "markdown",
   "id": "45d5274d",
   "metadata": {},
   "source": [
    "# Объеденим все таблицы в одну."
   ]
  },
  {
   "cell_type": "code",
   "execution_count": 58,
   "id": "6bf288b5",
   "metadata": {},
   "outputs": [
    {
     "data": {
      "text/html": [
       "<div>\n",
       "<style scoped>\n",
       "    .dataframe tbody tr th:only-of-type {\n",
       "        vertical-align: middle;\n",
       "    }\n",
       "\n",
       "    .dataframe tbody tr th {\n",
       "        vertical-align: top;\n",
       "    }\n",
       "\n",
       "    .dataframe thead th {\n",
       "        text-align: right;\n",
       "    }\n",
       "</style>\n",
       "<table border=\"1\" class=\"dataframe\">\n",
       "  <thead>\n",
       "    <tr style=\"text-align: right;\">\n",
       "      <th></th>\n",
       "      <th>user_id</th>\n",
       "      <th>name</th>\n",
       "      <th>age</th>\n",
       "      <th>city</th>\n",
       "      <th>subscription_type</th>\n",
       "      <th>distance</th>\n",
       "      <th>duration</th>\n",
       "      <th>date</th>\n",
       "      <th>month</th>\n",
       "    </tr>\n",
       "  </thead>\n",
       "  <tbody>\n",
       "    <tr>\n",
       "      <th>0</th>\n",
       "      <td>1</td>\n",
       "      <td>Кира</td>\n",
       "      <td>22</td>\n",
       "      <td>Тюмень</td>\n",
       "      <td>ultra</td>\n",
       "      <td>4409.919140</td>\n",
       "      <td>25.599769</td>\n",
       "      <td>2021-01-01</td>\n",
       "      <td>1</td>\n",
       "    </tr>\n",
       "    <tr>\n",
       "      <th>1</th>\n",
       "      <td>1</td>\n",
       "      <td>Кира</td>\n",
       "      <td>22</td>\n",
       "      <td>Тюмень</td>\n",
       "      <td>ultra</td>\n",
       "      <td>2617.592153</td>\n",
       "      <td>15.816871</td>\n",
       "      <td>2021-01-18</td>\n",
       "      <td>1</td>\n",
       "    </tr>\n",
       "    <tr>\n",
       "      <th>2</th>\n",
       "      <td>1</td>\n",
       "      <td>Кира</td>\n",
       "      <td>22</td>\n",
       "      <td>Тюмень</td>\n",
       "      <td>ultra</td>\n",
       "      <td>754.159807</td>\n",
       "      <td>6.232113</td>\n",
       "      <td>2021-04-20</td>\n",
       "      <td>4</td>\n",
       "    </tr>\n",
       "    <tr>\n",
       "      <th>3</th>\n",
       "      <td>1</td>\n",
       "      <td>Кира</td>\n",
       "      <td>22</td>\n",
       "      <td>Тюмень</td>\n",
       "      <td>ultra</td>\n",
       "      <td>2694.783254</td>\n",
       "      <td>18.511000</td>\n",
       "      <td>2021-08-11</td>\n",
       "      <td>8</td>\n",
       "    </tr>\n",
       "    <tr>\n",
       "      <th>4</th>\n",
       "      <td>1</td>\n",
       "      <td>Кира</td>\n",
       "      <td>22</td>\n",
       "      <td>Тюмень</td>\n",
       "      <td>ultra</td>\n",
       "      <td>4028.687306</td>\n",
       "      <td>26.265803</td>\n",
       "      <td>2021-08-28</td>\n",
       "      <td>8</td>\n",
       "    </tr>\n",
       "    <tr>\n",
       "      <th>...</th>\n",
       "      <td>...</td>\n",
       "      <td>...</td>\n",
       "      <td>...</td>\n",
       "      <td>...</td>\n",
       "      <td>...</td>\n",
       "      <td>...</td>\n",
       "      <td>...</td>\n",
       "      <td>...</td>\n",
       "      <td>...</td>\n",
       "    </tr>\n",
       "    <tr>\n",
       "      <th>18063</th>\n",
       "      <td>1534</td>\n",
       "      <td>Альберт</td>\n",
       "      <td>25</td>\n",
       "      <td>Краснодар</td>\n",
       "      <td>free</td>\n",
       "      <td>3781.098080</td>\n",
       "      <td>19.822962</td>\n",
       "      <td>2021-11-04</td>\n",
       "      <td>11</td>\n",
       "    </tr>\n",
       "    <tr>\n",
       "      <th>18064</th>\n",
       "      <td>1534</td>\n",
       "      <td>Альберт</td>\n",
       "      <td>25</td>\n",
       "      <td>Краснодар</td>\n",
       "      <td>free</td>\n",
       "      <td>2840.423057</td>\n",
       "      <td>21.409799</td>\n",
       "      <td>2021-11-16</td>\n",
       "      <td>11</td>\n",
       "    </tr>\n",
       "    <tr>\n",
       "      <th>18065</th>\n",
       "      <td>1534</td>\n",
       "      <td>Альберт</td>\n",
       "      <td>25</td>\n",
       "      <td>Краснодар</td>\n",
       "      <td>free</td>\n",
       "      <td>3826.185507</td>\n",
       "      <td>18.435051</td>\n",
       "      <td>2021-11-18</td>\n",
       "      <td>11</td>\n",
       "    </tr>\n",
       "    <tr>\n",
       "      <th>18066</th>\n",
       "      <td>1534</td>\n",
       "      <td>Альберт</td>\n",
       "      <td>25</td>\n",
       "      <td>Краснодар</td>\n",
       "      <td>free</td>\n",
       "      <td>2902.308661</td>\n",
       "      <td>16.674362</td>\n",
       "      <td>2021-11-27</td>\n",
       "      <td>11</td>\n",
       "    </tr>\n",
       "    <tr>\n",
       "      <th>18067</th>\n",
       "      <td>1534</td>\n",
       "      <td>Альберт</td>\n",
       "      <td>25</td>\n",
       "      <td>Краснодар</td>\n",
       "      <td>free</td>\n",
       "      <td>2371.711192</td>\n",
       "      <td>15.893917</td>\n",
       "      <td>2021-12-29</td>\n",
       "      <td>12</td>\n",
       "    </tr>\n",
       "  </tbody>\n",
       "</table>\n",
       "<p>18068 rows × 9 columns</p>\n",
       "</div>"
      ],
      "text/plain": [
       "       user_id     name  age       city subscription_type     distance  \\\n",
       "0            1     Кира   22     Тюмень             ultra  4409.919140   \n",
       "1            1     Кира   22     Тюмень             ultra  2617.592153   \n",
       "2            1     Кира   22     Тюмень             ultra   754.159807   \n",
       "3            1     Кира   22     Тюмень             ultra  2694.783254   \n",
       "4            1     Кира   22     Тюмень             ultra  4028.687306   \n",
       "...        ...      ...  ...        ...               ...          ...   \n",
       "18063     1534  Альберт   25  Краснодар              free  3781.098080   \n",
       "18064     1534  Альберт   25  Краснодар              free  2840.423057   \n",
       "18065     1534  Альберт   25  Краснодар              free  3826.185507   \n",
       "18066     1534  Альберт   25  Краснодар              free  2902.308661   \n",
       "18067     1534  Альберт   25  Краснодар              free  2371.711192   \n",
       "\n",
       "        duration       date  month  \n",
       "0      25.599769 2021-01-01      1  \n",
       "1      15.816871 2021-01-18      1  \n",
       "2       6.232113 2021-04-20      4  \n",
       "3      18.511000 2021-08-11      8  \n",
       "4      26.265803 2021-08-28      8  \n",
       "...          ...        ...    ...  \n",
       "18063  19.822962 2021-11-04     11  \n",
       "18064  21.409799 2021-11-16     11  \n",
       "18065  18.435051 2021-11-18     11  \n",
       "18066  16.674362 2021-11-27     11  \n",
       "18067  15.893917 2021-12-29     12  \n",
       "\n",
       "[18068 rows x 9 columns]"
      ]
     },
     "execution_count": 58,
     "metadata": {},
     "output_type": "execute_result"
    }
   ],
   "source": [
    "users_and_rides = users_data.merge(rides_data,on='user_id', how='left')\n",
    "users_and_rides"
   ]
  },
  {
   "cell_type": "code",
   "execution_count": 59,
   "id": "0c2f3b15",
   "metadata": {
    "scrolled": true
   },
   "outputs": [
    {
     "data": {
      "text/html": [
       "<div>\n",
       "<style scoped>\n",
       "    .dataframe tbody tr th:only-of-type {\n",
       "        vertical-align: middle;\n",
       "    }\n",
       "\n",
       "    .dataframe tbody tr th {\n",
       "        vertical-align: top;\n",
       "    }\n",
       "\n",
       "    .dataframe thead th {\n",
       "        text-align: right;\n",
       "    }\n",
       "</style>\n",
       "<table border=\"1\" class=\"dataframe\">\n",
       "  <thead>\n",
       "    <tr style=\"text-align: right;\">\n",
       "      <th></th>\n",
       "      <th>user_id</th>\n",
       "      <th>name</th>\n",
       "      <th>age</th>\n",
       "      <th>city</th>\n",
       "      <th>subscription_type</th>\n",
       "      <th>distance</th>\n",
       "      <th>duration</th>\n",
       "      <th>date</th>\n",
       "      <th>month</th>\n",
       "      <th>minute_price</th>\n",
       "      <th>start_ride_price</th>\n",
       "      <th>subscription_fee</th>\n",
       "    </tr>\n",
       "  </thead>\n",
       "  <tbody>\n",
       "    <tr>\n",
       "      <th>0</th>\n",
       "      <td>1</td>\n",
       "      <td>Кира</td>\n",
       "      <td>22</td>\n",
       "      <td>Тюмень</td>\n",
       "      <td>ultra</td>\n",
       "      <td>4409.919140</td>\n",
       "      <td>25.599769</td>\n",
       "      <td>2021-01-01</td>\n",
       "      <td>1</td>\n",
       "      <td>6</td>\n",
       "      <td>0</td>\n",
       "      <td>199</td>\n",
       "    </tr>\n",
       "    <tr>\n",
       "      <th>1</th>\n",
       "      <td>1</td>\n",
       "      <td>Кира</td>\n",
       "      <td>22</td>\n",
       "      <td>Тюмень</td>\n",
       "      <td>ultra</td>\n",
       "      <td>2617.592153</td>\n",
       "      <td>15.816871</td>\n",
       "      <td>2021-01-18</td>\n",
       "      <td>1</td>\n",
       "      <td>6</td>\n",
       "      <td>0</td>\n",
       "      <td>199</td>\n",
       "    </tr>\n",
       "    <tr>\n",
       "      <th>2</th>\n",
       "      <td>1</td>\n",
       "      <td>Кира</td>\n",
       "      <td>22</td>\n",
       "      <td>Тюмень</td>\n",
       "      <td>ultra</td>\n",
       "      <td>754.159807</td>\n",
       "      <td>6.232113</td>\n",
       "      <td>2021-04-20</td>\n",
       "      <td>4</td>\n",
       "      <td>6</td>\n",
       "      <td>0</td>\n",
       "      <td>199</td>\n",
       "    </tr>\n",
       "    <tr>\n",
       "      <th>3</th>\n",
       "      <td>1</td>\n",
       "      <td>Кира</td>\n",
       "      <td>22</td>\n",
       "      <td>Тюмень</td>\n",
       "      <td>ultra</td>\n",
       "      <td>2694.783254</td>\n",
       "      <td>18.511000</td>\n",
       "      <td>2021-08-11</td>\n",
       "      <td>8</td>\n",
       "      <td>6</td>\n",
       "      <td>0</td>\n",
       "      <td>199</td>\n",
       "    </tr>\n",
       "    <tr>\n",
       "      <th>4</th>\n",
       "      <td>1</td>\n",
       "      <td>Кира</td>\n",
       "      <td>22</td>\n",
       "      <td>Тюмень</td>\n",
       "      <td>ultra</td>\n",
       "      <td>4028.687306</td>\n",
       "      <td>26.265803</td>\n",
       "      <td>2021-08-28</td>\n",
       "      <td>8</td>\n",
       "      <td>6</td>\n",
       "      <td>0</td>\n",
       "      <td>199</td>\n",
       "    </tr>\n",
       "    <tr>\n",
       "      <th>...</th>\n",
       "      <td>...</td>\n",
       "      <td>...</td>\n",
       "      <td>...</td>\n",
       "      <td>...</td>\n",
       "      <td>...</td>\n",
       "      <td>...</td>\n",
       "      <td>...</td>\n",
       "      <td>...</td>\n",
       "      <td>...</td>\n",
       "      <td>...</td>\n",
       "      <td>...</td>\n",
       "      <td>...</td>\n",
       "    </tr>\n",
       "    <tr>\n",
       "      <th>18063</th>\n",
       "      <td>1534</td>\n",
       "      <td>Альберт</td>\n",
       "      <td>25</td>\n",
       "      <td>Краснодар</td>\n",
       "      <td>free</td>\n",
       "      <td>3781.098080</td>\n",
       "      <td>19.822962</td>\n",
       "      <td>2021-11-04</td>\n",
       "      <td>11</td>\n",
       "      <td>8</td>\n",
       "      <td>50</td>\n",
       "      <td>0</td>\n",
       "    </tr>\n",
       "    <tr>\n",
       "      <th>18064</th>\n",
       "      <td>1534</td>\n",
       "      <td>Альберт</td>\n",
       "      <td>25</td>\n",
       "      <td>Краснодар</td>\n",
       "      <td>free</td>\n",
       "      <td>2840.423057</td>\n",
       "      <td>21.409799</td>\n",
       "      <td>2021-11-16</td>\n",
       "      <td>11</td>\n",
       "      <td>8</td>\n",
       "      <td>50</td>\n",
       "      <td>0</td>\n",
       "    </tr>\n",
       "    <tr>\n",
       "      <th>18065</th>\n",
       "      <td>1534</td>\n",
       "      <td>Альберт</td>\n",
       "      <td>25</td>\n",
       "      <td>Краснодар</td>\n",
       "      <td>free</td>\n",
       "      <td>3826.185507</td>\n",
       "      <td>18.435051</td>\n",
       "      <td>2021-11-18</td>\n",
       "      <td>11</td>\n",
       "      <td>8</td>\n",
       "      <td>50</td>\n",
       "      <td>0</td>\n",
       "    </tr>\n",
       "    <tr>\n",
       "      <th>18066</th>\n",
       "      <td>1534</td>\n",
       "      <td>Альберт</td>\n",
       "      <td>25</td>\n",
       "      <td>Краснодар</td>\n",
       "      <td>free</td>\n",
       "      <td>2902.308661</td>\n",
       "      <td>16.674362</td>\n",
       "      <td>2021-11-27</td>\n",
       "      <td>11</td>\n",
       "      <td>8</td>\n",
       "      <td>50</td>\n",
       "      <td>0</td>\n",
       "    </tr>\n",
       "    <tr>\n",
       "      <th>18067</th>\n",
       "      <td>1534</td>\n",
       "      <td>Альберт</td>\n",
       "      <td>25</td>\n",
       "      <td>Краснодар</td>\n",
       "      <td>free</td>\n",
       "      <td>2371.711192</td>\n",
       "      <td>15.893917</td>\n",
       "      <td>2021-12-29</td>\n",
       "      <td>12</td>\n",
       "      <td>8</td>\n",
       "      <td>50</td>\n",
       "      <td>0</td>\n",
       "    </tr>\n",
       "  </tbody>\n",
       "</table>\n",
       "<p>18068 rows × 12 columns</p>\n",
       "</div>"
      ],
      "text/plain": [
       "       user_id     name  age       city subscription_type     distance  \\\n",
       "0            1     Кира   22     Тюмень             ultra  4409.919140   \n",
       "1            1     Кира   22     Тюмень             ultra  2617.592153   \n",
       "2            1     Кира   22     Тюмень             ultra   754.159807   \n",
       "3            1     Кира   22     Тюмень             ultra  2694.783254   \n",
       "4            1     Кира   22     Тюмень             ultra  4028.687306   \n",
       "...        ...      ...  ...        ...               ...          ...   \n",
       "18063     1534  Альберт   25  Краснодар              free  3781.098080   \n",
       "18064     1534  Альберт   25  Краснодар              free  2840.423057   \n",
       "18065     1534  Альберт   25  Краснодар              free  3826.185507   \n",
       "18066     1534  Альберт   25  Краснодар              free  2902.308661   \n",
       "18067     1534  Альберт   25  Краснодар              free  2371.711192   \n",
       "\n",
       "        duration       date  month  minute_price  start_ride_price  \\\n",
       "0      25.599769 2021-01-01      1             6                 0   \n",
       "1      15.816871 2021-01-18      1             6                 0   \n",
       "2       6.232113 2021-04-20      4             6                 0   \n",
       "3      18.511000 2021-08-11      8             6                 0   \n",
       "4      26.265803 2021-08-28      8             6                 0   \n",
       "...          ...        ...    ...           ...               ...   \n",
       "18063  19.822962 2021-11-04     11             8                50   \n",
       "18064  21.409799 2021-11-16     11             8                50   \n",
       "18065  18.435051 2021-11-18     11             8                50   \n",
       "18066  16.674362 2021-11-27     11             8                50   \n",
       "18067  15.893917 2021-12-29     12             8                50   \n",
       "\n",
       "       subscription_fee  \n",
       "0                   199  \n",
       "1                   199  \n",
       "2                   199  \n",
       "3                   199  \n",
       "4                   199  \n",
       "...                 ...  \n",
       "18063                 0  \n",
       "18064                 0  \n",
       "18065                 0  \n",
       "18066                 0  \n",
       "18067                 0  \n",
       "\n",
       "[18068 rows x 12 columns]"
      ]
     },
     "execution_count": 59,
     "metadata": {},
     "output_type": "execute_result"
    }
   ],
   "source": [
    "# Общая таблица\n",
    "final_table = users_and_rides.merge(subscriptions_data, on='subscription_type', how='left')\n",
    "final_table"
   ]
  },
  {
   "cell_type": "markdown",
   "id": "db503152",
   "metadata": {},
   "source": [
    "Проверим наличие пропусков в объединенной таблице. Пропусков нет."
   ]
  },
  {
   "cell_type": "code",
   "execution_count": 60,
   "id": "d084450d",
   "metadata": {
    "scrolled": true
   },
   "outputs": [
    {
     "data": {
      "text/plain": [
       "user_id              0\n",
       "name                 0\n",
       "age                  0\n",
       "city                 0\n",
       "subscription_type    0\n",
       "distance             0\n",
       "duration             0\n",
       "date                 0\n",
       "month                0\n",
       "minute_price         0\n",
       "start_ride_price     0\n",
       "subscription_fee     0\n",
       "dtype: int64"
      ]
     },
     "execution_count": 60,
     "metadata": {},
     "output_type": "execute_result"
    }
   ],
   "source": [
    "final_table.isna().sum()"
   ]
  },
  {
   "cell_type": "markdown",
   "id": "1ae030f3",
   "metadata": {},
   "source": [
    "Так же , проверим совпадает ли объединенная таблица по размеру с исходными. Кол-во строк задает таблица с поездками - 18068 строк, в трех таблицах 14 столбцов , в итоговой таблице 12 столбцов т.к. 2 столбца смежные. Объединение таблиц прошло корректно."
   ]
  },
  {
   "cell_type": "code",
   "execution_count": 61,
   "id": "606e544a",
   "metadata": {},
   "outputs": [
    {
     "data": {
      "text/plain": [
       "(2, 4)"
      ]
     },
     "execution_count": 61,
     "metadata": {},
     "output_type": "execute_result"
    }
   ],
   "source": [
    "# размер таблицы с информацией о подписках\n",
    "subscriptions_data.shape"
   ]
  },
  {
   "cell_type": "code",
   "execution_count": 62,
   "id": "a7621361",
   "metadata": {},
   "outputs": [
    {
     "data": {
      "text/plain": [
       "(1534, 5)"
      ]
     },
     "execution_count": 62,
     "metadata": {},
     "output_type": "execute_result"
    }
   ],
   "source": [
    "# размер таблицы с пользователями\n",
    "users_data.shape"
   ]
  },
  {
   "cell_type": "code",
   "execution_count": 63,
   "id": "14cf6491",
   "metadata": {},
   "outputs": [
    {
     "data": {
      "text/plain": [
       "(18068, 5)"
      ]
     },
     "execution_count": 63,
     "metadata": {},
     "output_type": "execute_result"
    }
   ],
   "source": [
    "# размер таблицы с поездками\n",
    "rides_data.shape"
   ]
  },
  {
   "cell_type": "code",
   "execution_count": 64,
   "id": "f34cb843",
   "metadata": {},
   "outputs": [
    {
     "data": {
      "text/plain": [
       "(18068, 12)"
      ]
     },
     "execution_count": 64,
     "metadata": {},
     "output_type": "execute_result"
    }
   ],
   "source": [
    "# размер финальной таблицы\n",
    "final_table.shape"
   ]
  },
  {
   "cell_type": "markdown",
   "id": "fd8507fc",
   "metadata": {},
   "source": [
    "Сделаем таблицу пользователей с подпиской."
   ]
  },
  {
   "cell_type": "code",
   "execution_count": 65,
   "id": "1c3afef4",
   "metadata": {},
   "outputs": [
    {
     "data": {
      "text/html": [
       "<div>\n",
       "<style scoped>\n",
       "    .dataframe tbody tr th:only-of-type {\n",
       "        vertical-align: middle;\n",
       "    }\n",
       "\n",
       "    .dataframe tbody tr th {\n",
       "        vertical-align: top;\n",
       "    }\n",
       "\n",
       "    .dataframe thead th {\n",
       "        text-align: right;\n",
       "    }\n",
       "</style>\n",
       "<table border=\"1\" class=\"dataframe\">\n",
       "  <thead>\n",
       "    <tr style=\"text-align: right;\">\n",
       "      <th></th>\n",
       "      <th>user_id</th>\n",
       "      <th>name</th>\n",
       "      <th>age</th>\n",
       "      <th>city</th>\n",
       "      <th>subscription_type</th>\n",
       "      <th>distance</th>\n",
       "      <th>duration</th>\n",
       "      <th>date</th>\n",
       "      <th>month</th>\n",
       "      <th>minute_price</th>\n",
       "      <th>start_ride_price</th>\n",
       "      <th>subscription_fee</th>\n",
       "    </tr>\n",
       "  </thead>\n",
       "  <tbody>\n",
       "    <tr>\n",
       "      <th>0</th>\n",
       "      <td>1</td>\n",
       "      <td>Кира</td>\n",
       "      <td>22</td>\n",
       "      <td>Тюмень</td>\n",
       "      <td>ultra</td>\n",
       "      <td>4409.919140</td>\n",
       "      <td>25.599769</td>\n",
       "      <td>2021-01-01</td>\n",
       "      <td>1</td>\n",
       "      <td>6</td>\n",
       "      <td>0</td>\n",
       "      <td>199</td>\n",
       "    </tr>\n",
       "    <tr>\n",
       "      <th>1</th>\n",
       "      <td>1</td>\n",
       "      <td>Кира</td>\n",
       "      <td>22</td>\n",
       "      <td>Тюмень</td>\n",
       "      <td>ultra</td>\n",
       "      <td>2617.592153</td>\n",
       "      <td>15.816871</td>\n",
       "      <td>2021-01-18</td>\n",
       "      <td>1</td>\n",
       "      <td>6</td>\n",
       "      <td>0</td>\n",
       "      <td>199</td>\n",
       "    </tr>\n",
       "    <tr>\n",
       "      <th>2</th>\n",
       "      <td>1</td>\n",
       "      <td>Кира</td>\n",
       "      <td>22</td>\n",
       "      <td>Тюмень</td>\n",
       "      <td>ultra</td>\n",
       "      <td>754.159807</td>\n",
       "      <td>6.232113</td>\n",
       "      <td>2021-04-20</td>\n",
       "      <td>4</td>\n",
       "      <td>6</td>\n",
       "      <td>0</td>\n",
       "      <td>199</td>\n",
       "    </tr>\n",
       "    <tr>\n",
       "      <th>3</th>\n",
       "      <td>1</td>\n",
       "      <td>Кира</td>\n",
       "      <td>22</td>\n",
       "      <td>Тюмень</td>\n",
       "      <td>ultra</td>\n",
       "      <td>2694.783254</td>\n",
       "      <td>18.511000</td>\n",
       "      <td>2021-08-11</td>\n",
       "      <td>8</td>\n",
       "      <td>6</td>\n",
       "      <td>0</td>\n",
       "      <td>199</td>\n",
       "    </tr>\n",
       "    <tr>\n",
       "      <th>4</th>\n",
       "      <td>1</td>\n",
       "      <td>Кира</td>\n",
       "      <td>22</td>\n",
       "      <td>Тюмень</td>\n",
       "      <td>ultra</td>\n",
       "      <td>4028.687306</td>\n",
       "      <td>26.265803</td>\n",
       "      <td>2021-08-28</td>\n",
       "      <td>8</td>\n",
       "      <td>6</td>\n",
       "      <td>0</td>\n",
       "      <td>199</td>\n",
       "    </tr>\n",
       "  </tbody>\n",
       "</table>\n",
       "</div>"
      ],
      "text/plain": [
       "   user_id  name  age    city subscription_type     distance   duration  \\\n",
       "0        1  Кира   22  Тюмень             ultra  4409.919140  25.599769   \n",
       "1        1  Кира   22  Тюмень             ultra  2617.592153  15.816871   \n",
       "2        1  Кира   22  Тюмень             ultra   754.159807   6.232113   \n",
       "3        1  Кира   22  Тюмень             ultra  2694.783254  18.511000   \n",
       "4        1  Кира   22  Тюмень             ultra  4028.687306  26.265803   \n",
       "\n",
       "        date  month  minute_price  start_ride_price  subscription_fee  \n",
       "0 2021-01-01      1             6                 0               199  \n",
       "1 2021-01-18      1             6                 0               199  \n",
       "2 2021-04-20      4             6                 0               199  \n",
       "3 2021-08-11      8             6                 0               199  \n",
       "4 2021-08-28      8             6                 0               199  "
      ]
     },
     "execution_count": 65,
     "metadata": {},
     "output_type": "execute_result"
    }
   ],
   "source": [
    "# таблица пользователей с подпиской\n",
    "final_table_ultra = final_table.query('subscription_type == \"ultra\"')\n",
    "final_table_ultra.head()"
   ]
  },
  {
   "cell_type": "markdown",
   "id": "cd93a866",
   "metadata": {},
   "source": [
    "Сделаем таблицу пользователей без подписки."
   ]
  },
  {
   "cell_type": "code",
   "execution_count": 66,
   "id": "67368dc6",
   "metadata": {
    "scrolled": true
   },
   "outputs": [
    {
     "data": {
      "text/html": [
       "<div>\n",
       "<style scoped>\n",
       "    .dataframe tbody tr th:only-of-type {\n",
       "        vertical-align: middle;\n",
       "    }\n",
       "\n",
       "    .dataframe tbody tr th {\n",
       "        vertical-align: top;\n",
       "    }\n",
       "\n",
       "    .dataframe thead th {\n",
       "        text-align: right;\n",
       "    }\n",
       "</style>\n",
       "<table border=\"1\" class=\"dataframe\">\n",
       "  <thead>\n",
       "    <tr style=\"text-align: right;\">\n",
       "      <th></th>\n",
       "      <th>user_id</th>\n",
       "      <th>name</th>\n",
       "      <th>age</th>\n",
       "      <th>city</th>\n",
       "      <th>subscription_type</th>\n",
       "      <th>distance</th>\n",
       "      <th>duration</th>\n",
       "      <th>date</th>\n",
       "      <th>month</th>\n",
       "      <th>minute_price</th>\n",
       "      <th>start_ride_price</th>\n",
       "      <th>subscription_fee</th>\n",
       "    </tr>\n",
       "  </thead>\n",
       "  <tbody>\n",
       "    <tr>\n",
       "      <th>6500</th>\n",
       "      <td>700</td>\n",
       "      <td>Айдар</td>\n",
       "      <td>22</td>\n",
       "      <td>Омск</td>\n",
       "      <td>free</td>\n",
       "      <td>2515.690719</td>\n",
       "      <td>14.944286</td>\n",
       "      <td>2021-01-02</td>\n",
       "      <td>1</td>\n",
       "      <td>8</td>\n",
       "      <td>50</td>\n",
       "      <td>0</td>\n",
       "    </tr>\n",
       "    <tr>\n",
       "      <th>6501</th>\n",
       "      <td>700</td>\n",
       "      <td>Айдар</td>\n",
       "      <td>22</td>\n",
       "      <td>Омск</td>\n",
       "      <td>free</td>\n",
       "      <td>846.932642</td>\n",
       "      <td>16.234663</td>\n",
       "      <td>2021-02-01</td>\n",
       "      <td>2</td>\n",
       "      <td>8</td>\n",
       "      <td>50</td>\n",
       "      <td>0</td>\n",
       "    </tr>\n",
       "    <tr>\n",
       "      <th>6502</th>\n",
       "      <td>700</td>\n",
       "      <td>Айдар</td>\n",
       "      <td>22</td>\n",
       "      <td>Омск</td>\n",
       "      <td>free</td>\n",
       "      <td>4004.434142</td>\n",
       "      <td>20.016628</td>\n",
       "      <td>2021-02-04</td>\n",
       "      <td>2</td>\n",
       "      <td>8</td>\n",
       "      <td>50</td>\n",
       "      <td>0</td>\n",
       "    </tr>\n",
       "    <tr>\n",
       "      <th>6503</th>\n",
       "      <td>700</td>\n",
       "      <td>Айдар</td>\n",
       "      <td>22</td>\n",
       "      <td>Омск</td>\n",
       "      <td>free</td>\n",
       "      <td>1205.911290</td>\n",
       "      <td>9.782872</td>\n",
       "      <td>2021-02-10</td>\n",
       "      <td>2</td>\n",
       "      <td>8</td>\n",
       "      <td>50</td>\n",
       "      <td>0</td>\n",
       "    </tr>\n",
       "    <tr>\n",
       "      <th>6504</th>\n",
       "      <td>700</td>\n",
       "      <td>Айдар</td>\n",
       "      <td>22</td>\n",
       "      <td>Омск</td>\n",
       "      <td>free</td>\n",
       "      <td>3047.379435</td>\n",
       "      <td>17.427673</td>\n",
       "      <td>2021-02-14</td>\n",
       "      <td>2</td>\n",
       "      <td>8</td>\n",
       "      <td>50</td>\n",
       "      <td>0</td>\n",
       "    </tr>\n",
       "  </tbody>\n",
       "</table>\n",
       "</div>"
      ],
      "text/plain": [
       "      user_id   name  age  city subscription_type     distance   duration  \\\n",
       "6500      700  Айдар   22  Омск              free  2515.690719  14.944286   \n",
       "6501      700  Айдар   22  Омск              free   846.932642  16.234663   \n",
       "6502      700  Айдар   22  Омск              free  4004.434142  20.016628   \n",
       "6503      700  Айдар   22  Омск              free  1205.911290   9.782872   \n",
       "6504      700  Айдар   22  Омск              free  3047.379435  17.427673   \n",
       "\n",
       "           date  month  minute_price  start_ride_price  subscription_fee  \n",
       "6500 2021-01-02      1             8                50                 0  \n",
       "6501 2021-02-01      2             8                50                 0  \n",
       "6502 2021-02-04      2             8                50                 0  \n",
       "6503 2021-02-10      2             8                50                 0  \n",
       "6504 2021-02-14      2             8                50                 0  "
      ]
     },
     "execution_count": 66,
     "metadata": {},
     "output_type": "execute_result"
    }
   ],
   "source": [
    "# таблица пользователей без подписки\n",
    "final_table_free = final_table.query('subscription_type == \"free\"')\n",
    "final_table_free.head()"
   ]
  },
  {
   "cell_type": "markdown",
   "id": "b943f071",
   "metadata": {},
   "source": [
    "# Визуализируем информацию о расстоянии и времени поездок для пользователей обеих категорий."
   ]
  },
  {
   "cell_type": "code",
   "execution_count": 67,
   "id": "c64b559b",
   "metadata": {},
   "outputs": [
    {
     "data": {
      "image/png": "[encoded data removed]",
      "text/plain": [
       "<Figure size 432x288 with 1 Axes>"
      ]
     },
     "metadata": {
      "needs_background": "light"
     },
     "output_type": "display_data"
    }
   ],
   "source": [
    "# график пройденного расстояния для пользователей с подпиской\n",
    "final_table_ultra['distance'].hist()\n",
    "plt.title('ultra_distance')\n",
    "plt.show()"
   ]
  },
  {
   "cell_type": "code",
   "execution_count": 68,
   "id": "3f32a038",
   "metadata": {
    "scrolled": true
   },
   "outputs": [
    {
     "data": {
      "text/plain": [
       "count    6500.000000\n",
       "mean     3115.445388\n",
       "std       836.895330\n",
       "min       244.210438\n",
       "25%      2785.444017\n",
       "50%      3148.637229\n",
       "75%      3560.574425\n",
       "max      5699.769662\n",
       "Name: distance, dtype: float64"
      ]
     },
     "execution_count": 68,
     "metadata": {},
     "output_type": "execute_result"
    }
   ],
   "source": [
    "# статистика пройденного расстояния для пользователей с подпиской\n",
    "final_table_ultra['distance'].describe()"
   ]
  },
  {
   "cell_type": "markdown",
   "id": "3940ba30",
   "metadata": {},
   "source": [
    "В основном пользователи с подпиской проезжают от 2700 до 3500 метров."
   ]
  },
  {
   "cell_type": "code",
   "execution_count": 69,
   "id": "609b4bf4",
   "metadata": {},
   "outputs": [
    {
     "data": {
      "image/png": "[encoded data removed]",
      "text/plain": [
       "<Figure size 432x288 with 1 Axes>"
      ]
     },
     "metadata": {
      "needs_background": "light"
     },
     "output_type": "display_data"
    }
   ],
   "source": [
    "# график времени поездок для пользователей с подпиской\n",
    "final_table_ultra['duration'].hist()\n",
    "plt.title('ultra_duration')\n",
    "plt.show()"
   ]
  },
  {
   "cell_type": "code",
   "execution_count": 70,
   "id": "e050c6ee",
   "metadata": {
    "scrolled": true
   },
   "outputs": [
    {
     "data": {
      "text/plain": [
       "count    6500.000000\n",
       "mean       18.541985\n",
       "std         5.572048\n",
       "min         3.760353\n",
       "25%        14.524654\n",
       "50%        18.178153\n",
       "75%        21.884129\n",
       "max        40.823963\n",
       "Name: duration, dtype: float64"
      ]
     },
     "execution_count": 70,
     "metadata": {},
     "output_type": "execute_result"
    }
   ],
   "source": [
    "# статистика времени поездок для пользователей с подпиской\n",
    "final_table_ultra['duration'].describe()"
   ]
  },
  {
   "cell_type": "markdown",
   "id": "973fa8a3",
   "metadata": {},
   "source": [
    "От 14 до 21 минуты длятся основные поездки пользователей с подпиской."
   ]
  },
  {
   "cell_type": "code",
   "execution_count": 71,
   "id": "1179f71d",
   "metadata": {},
   "outputs": [
    {
     "data": {
      "image/png": "[encoded data removed]",
      "text/plain": [
       "<Figure size 432x288 with 1 Axes>"
      ]
     },
     "metadata": {
      "needs_background": "light"
     },
     "output_type": "display_data"
    }
   ],
   "source": [
    "# график пройденного расстояния для пользователей без подписки\n",
    "final_table_free['distance'].hist()\n",
    "plt.title('free_distance')\n",
    "plt.show()"
   ]
  },
  {
   "cell_type": "code",
   "execution_count": 72,
   "id": "f8c586c2",
   "metadata": {
    "scrolled": true
   },
   "outputs": [
    {
     "data": {
      "text/plain": [
       "count    11568.000000\n",
       "mean      3045.495282\n",
       "std       1246.173806\n",
       "min          0.855683\n",
       "25%       2366.562689\n",
       "50%       3114.648465\n",
       "75%       3905.697894\n",
       "max       7211.007745\n",
       "Name: distance, dtype: float64"
      ]
     },
     "execution_count": 72,
     "metadata": {},
     "output_type": "execute_result"
    }
   ],
   "source": [
    "# статистика пройденного расстояния для пользователей без подписки\n",
    "final_table_free['distance'].describe()"
   ]
  },
  {
   "cell_type": "markdown",
   "id": "c4a54e33",
   "metadata": {},
   "source": [
    "В основном пользователи без подписки проезжают от 2300 до 3900 метров."
   ]
  },
  {
   "cell_type": "code",
   "execution_count": 73,
   "id": "ad9c49de",
   "metadata": {},
   "outputs": [
    {
     "data": {
      "image/png": "[encoded data removed]",
      "text/plain": [
       "<Figure size 432x288 with 1 Axes>"
      ]
     },
     "metadata": {
      "needs_background": "light"
     },
     "output_type": "display_data"
    }
   ],
   "source": [
    "# график времени поездок для пользователей без подписки\n",
    "final_table_free['duration'].hist()\n",
    "plt.title('free_duration')\n",
    "plt.show()"
   ]
  },
  {
   "cell_type": "code",
   "execution_count": 74,
   "id": "170178b3",
   "metadata": {
    "scrolled": false
   },
   "outputs": [
    {
     "data": {
      "text/plain": [
       "count    11568.000000\n",
       "mean        17.390909\n",
       "std          6.326803\n",
       "min          0.500000\n",
       "25%         12.958437\n",
       "50%         17.326890\n",
       "75%         21.594071\n",
       "max         34.948498\n",
       "Name: duration, dtype: float64"
      ]
     },
     "execution_count": 74,
     "metadata": {},
     "output_type": "execute_result"
    }
   ],
   "source": [
    "# статистика времени поездок для пользователей без подписки\n",
    "final_table_free['duration'].describe()"
   ]
  },
  {
   "cell_type": "markdown",
   "id": "fb621dba",
   "metadata": {},
   "source": [
    "От 12 до 21 минуты преимущественно длятся поездки для пользователей без подписки."
   ]
  },
  {
   "cell_type": "code",
   "execution_count": 75,
   "id": "17a4f996",
   "metadata": {
    "scrolled": true
   },
   "outputs": [
    {
     "data": {
      "image/png": "[encoded data removed]",
      "text/plain": [
       "<Figure size 432x288 with 1 Axes>"
      ]
     },
     "metadata": {
      "needs_background": "light"
     },
     "output_type": "display_data"
    }
   ],
   "source": [
    "# совместный график расстояния поездок для пользователей обеих групп\n",
    "final_table_free['distance'].hist(bins=15, label='free_distance')\n",
    "final_table_ultra['distance'].hist(bins=15, label='ultra_distance')\n",
    "plt.title('ultra&free_distance')\n",
    "plt.xlabel('расстояние')\n",
    "plt.ylabel('частота')\n",
    "plt.legend()\n",
    "plt.show()"
   ]
  },
  {
   "cell_type": "code",
   "execution_count": 76,
   "id": "3c04ea53",
   "metadata": {
    "scrolled": true
   },
   "outputs": [
    {
     "data": {
      "image/png": "[encoded data removed]",
      "text/plain": [
       "<Figure size 432x288 with 1 Axes>"
      ]
     },
     "metadata": {
      "needs_background": "light"
     },
     "output_type": "display_data"
    }
   ],
   "source": [
    "# совместный график длительности поездок для пользователей обеих групп\n",
    "final_table_free['duration'].hist(bins=15, label='free_duration')\n",
    "final_table_ultra['duration'].hist(bins=15, label='ultra_duration')\n",
    "plt.title('ultra&free_duration')\n",
    "plt.xlabel('длительность')\n",
    "plt.ylabel('частота')\n",
    "plt.legend()\n",
    "plt.show()"
   ]
  },
  {
   "cell_type": "markdown",
   "id": "fffb7a30",
   "metadata": {},
   "source": [
    "На совместных графиках расстояния и длительности поездок заметно, что для пользователей с подпиской характерен меньший разброс в данных т.е. их поездки более равномерные , чем у пользователей без подписок. Так же пользователи с подпиской совершают меньше коротких поездок. Вполне возможно , что пользователи с подпиской регулярно пользуются самокатом как повседневным средством передвижения."
   ]
  },
  {
   "cell_type": "markdown",
   "id": "402d620f",
   "metadata": {},
   "source": [
    "## Шаг 5. Подсчёт выручки"
   ]
  },
  {
   "cell_type": "markdown",
   "id": "6ed36d79",
   "metadata": {},
   "source": [
    "### Создадим датафрейм с агрегированными данными о поездках на основе общей таблицы: найдем суммарное расстояние, количество поездок и суммарное время для каждого пользователя за каждый месяц. Добавим столбец с помесячной выручкой, которую принёс каждый пользователь"
   ]
  },
  {
   "cell_type": "code",
   "execution_count": 78,
   "id": "4deb4985",
   "metadata": {},
   "outputs": [],
   "source": [
    "# продолжительность каждой поездки округлим до следующего целого числа\n",
    "final_table['duration'] = np.ceil(final_table['duration'])\n",
    "\n",
    "# датафрейм с агрегированными данными о поездках на основе общей таблицы\n",
    "final_table_pivot = final_table.pivot_table(index=['user_id','month'], \n",
    "    values=['distance','duration','subscription_type','minute_price','start_ride_price', 'subscription_fee'],\n",
    "    aggfunc={'distance':'sum','duration':['sum','count'],'subscription_type':'first','minute_price':'first',\n",
    "    'start_ride_price':'first','subscription_fee':'first'})\n",
    "# переименуем столбцы\n",
    "final_table_pivot.columns = ['distance','rides','duration','minute_price','start_ride_price','subscription_fee','subscription_type']    \n"
   ]
  },
  {
   "cell_type": "code",
   "execution_count": 79,
   "id": "0afb842e",
   "metadata": {},
   "outputs": [
    {
     "data": {
      "text/plain": [
       "distance             0\n",
       "rides                0\n",
       "duration             0\n",
       "minute_price         0\n",
       "start_ride_price     0\n",
       "subscription_fee     0\n",
       "subscription_type    0\n",
       "dtype: int64"
      ]
     },
     "execution_count": 79,
     "metadata": {},
     "output_type": "execute_result"
    }
   ],
   "source": [
    "# проверим наличие пропусков в сводной таблице. их нет\n",
    "final_table_pivot.isna().sum()"
   ]
  },
  {
   "cell_type": "code",
   "execution_count": 80,
   "id": "5c14f280",
   "metadata": {},
   "outputs": [],
   "source": [
    "# создадим функцию для подсчета выручки\n",
    "def rev(row):\n",
    "    revenue = row['start_ride_price']*row['rides'] + \\\n",
    "    row['minute_price']*row['duration']+row['subscription_fee']\n",
    "    return revenue\n",
    "# добавим новый столбец с помесячной выручкой, которую принёс каждый пользователь\n",
    "final_table_pivot['revenue'] = final_table_pivot.apply(rev,axis=1)"
   ]
  },
  {
   "cell_type": "code",
   "execution_count": 81,
   "id": "c045394e",
   "metadata": {},
   "outputs": [
    {
     "data": {
      "text/html": [
       "<div>\n",
       "<style scoped>\n",
       "    .dataframe tbody tr th:only-of-type {\n",
       "        vertical-align: middle;\n",
       "    }\n",
       "\n",
       "    .dataframe tbody tr th {\n",
       "        vertical-align: top;\n",
       "    }\n",
       "\n",
       "    .dataframe thead th {\n",
       "        text-align: right;\n",
       "    }\n",
       "</style>\n",
       "<table border=\"1\" class=\"dataframe\">\n",
       "  <thead>\n",
       "    <tr style=\"text-align: right;\">\n",
       "      <th></th>\n",
       "      <th></th>\n",
       "      <th>distance</th>\n",
       "      <th>rides</th>\n",
       "      <th>duration</th>\n",
       "      <th>minute_price</th>\n",
       "      <th>start_ride_price</th>\n",
       "      <th>subscription_fee</th>\n",
       "      <th>subscription_type</th>\n",
       "      <th>revenue</th>\n",
       "    </tr>\n",
       "    <tr>\n",
       "      <th>user_id</th>\n",
       "      <th>month</th>\n",
       "      <th></th>\n",
       "      <th></th>\n",
       "      <th></th>\n",
       "      <th></th>\n",
       "      <th></th>\n",
       "      <th></th>\n",
       "      <th></th>\n",
       "      <th></th>\n",
       "    </tr>\n",
       "  </thead>\n",
       "  <tbody>\n",
       "    <tr>\n",
       "      <th rowspan=\"5\" valign=\"top\">1</th>\n",
       "      <th>1</th>\n",
       "      <td>7027.511294</td>\n",
       "      <td>2</td>\n",
       "      <td>42.0</td>\n",
       "      <td>6</td>\n",
       "      <td>0</td>\n",
       "      <td>199</td>\n",
       "      <td>ultra</td>\n",
       "      <td>451.0</td>\n",
       "    </tr>\n",
       "    <tr>\n",
       "      <th>4</th>\n",
       "      <td>754.159807</td>\n",
       "      <td>1</td>\n",
       "      <td>7.0</td>\n",
       "      <td>6</td>\n",
       "      <td>0</td>\n",
       "      <td>199</td>\n",
       "      <td>ultra</td>\n",
       "      <td>241.0</td>\n",
       "    </tr>\n",
       "    <tr>\n",
       "      <th>8</th>\n",
       "      <td>6723.470560</td>\n",
       "      <td>2</td>\n",
       "      <td>46.0</td>\n",
       "      <td>6</td>\n",
       "      <td>0</td>\n",
       "      <td>199</td>\n",
       "      <td>ultra</td>\n",
       "      <td>475.0</td>\n",
       "    </tr>\n",
       "    <tr>\n",
       "      <th>10</th>\n",
       "      <td>5809.911100</td>\n",
       "      <td>2</td>\n",
       "      <td>32.0</td>\n",
       "      <td>6</td>\n",
       "      <td>0</td>\n",
       "      <td>199</td>\n",
       "      <td>ultra</td>\n",
       "      <td>391.0</td>\n",
       "    </tr>\n",
       "    <tr>\n",
       "      <th>11</th>\n",
       "      <td>7003.499363</td>\n",
       "      <td>3</td>\n",
       "      <td>56.0</td>\n",
       "      <td>6</td>\n",
       "      <td>0</td>\n",
       "      <td>199</td>\n",
       "      <td>ultra</td>\n",
       "      <td>535.0</td>\n",
       "    </tr>\n",
       "  </tbody>\n",
       "</table>\n",
       "</div>"
      ],
      "text/plain": [
       "                  distance  rides  duration  minute_price  start_ride_price  \\\n",
       "user_id month                                                                 \n",
       "1       1      7027.511294      2      42.0             6                 0   \n",
       "        4       754.159807      1       7.0             6                 0   \n",
       "        8      6723.470560      2      46.0             6                 0   \n",
       "        10     5809.911100      2      32.0             6                 0   \n",
       "        11     7003.499363      3      56.0             6                 0   \n",
       "\n",
       "               subscription_fee subscription_type  revenue  \n",
       "user_id month                                               \n",
       "1       1                   199             ultra    451.0  \n",
       "        4                   199             ultra    241.0  \n",
       "        8                   199             ultra    475.0  \n",
       "        10                  199             ultra    391.0  \n",
       "        11                  199             ultra    535.0  "
      ]
     },
     "execution_count": 81,
     "metadata": {},
     "output_type": "execute_result"
    }
   ],
   "source": [
    "final_table_pivot.head()"
   ]
  },
  {
   "cell_type": "markdown",
   "id": "41545ac0",
   "metadata": {},
   "source": [
    "#### Шаг 6. Проверка гипотез"
   ]
  },
  {
   "cell_type": "markdown",
   "id": "7341479a",
   "metadata": {},
   "source": [
    "Первая гипотеза: тратят ли пользователи с подпиской больше времени на поездки?"
   ]
  },
  {
   "cell_type": "markdown",
   "id": "c9fa7fa8",
   "metadata": {},
   "source": [
    "Нулевая гипотеза - пользователи обеих категорий трятят одинаковое время на поездки <br>\n",
    "Альтернативная гипотеза - пользователи с подпиской трят больше времени на поездки"
   ]
  },
  {
   "cell_type": "code",
   "execution_count": 82,
   "id": "f688e6c8",
   "metadata": {},
   "outputs": [
    {
     "name": "stdout",
     "output_type": "stream",
     "text": [
      "p-значение: 1.2804098316645618e-34\n",
      "Отвергаем нулевую гипотезу\n"
     ]
    }
   ],
   "source": [
    "# проведем t-тест\n",
    "ultra_dur = final_table_ultra['duration']\n",
    "free_dur = final_table_free['duration']\n",
    "\n",
    "alpha = 0.05\n",
    "results = st.ttest_ind(ultra_dur,free_dur, alternative='greater')\n",
    "print('p-значение:', results.pvalue)\n",
    "if results.pvalue < alpha:\n",
    "    print('Отвергаем нулевую гипотезу')\n",
    "else:\n",
    "    print('Нет оснований отвергнуть нулевую гипотезу') "
   ]
  },
  {
   "cell_type": "markdown",
   "id": "7d9cdc77",
   "metadata": {},
   "source": [
    "В результате проведения теста нулевая гипотеза была отвергнута. Подтвердилась льтернативная гипотеза - пользователи с подпиской трят больше времени на поездки."
   ]
  },
  {
   "cell_type": "markdown",
   "id": "89c6380e",
   "metadata": {},
   "source": [
    "Вторая гипотеза: можно ли сказать, что среднее расстояние, которое проезжают пользователи с подпиской за одну поездку, не превышает 3130 метров? "
   ]
  },
  {
   "cell_type": "markdown",
   "id": "63febb66",
   "metadata": {},
   "source": [
    "Нулевая гипотеза - среднее расстояние, которое проезжают пользователи с подпиской за одну поездку, равно 3130 метров. <br>\n",
    "Алетренативная гипотеза - среднее расстояние, которое проезжают пользователи с подпиской за одну поездку, больше 3130 метровов."
   ]
  },
  {
   "cell_type": "code",
   "execution_count": 59,
   "id": "f03dbaad",
   "metadata": {},
   "outputs": [
    {
     "name": "stdout",
     "output_type": "stream",
     "text": [
      "p-значение: 0.9195368847849785\n",
      "Нет оснований отвергнуть нулевую гипотезу\n"
     ]
    }
   ],
   "source": [
    "# проводим тест\n",
    "ultra_dis = final_table_ultra['distance']\n",
    "\n",
    "prev_distance_value = 3130\n",
    "alpha = 0.05\n",
    "results = st.ttest_1samp(\n",
    "    ultra_dis,\n",
    "    prev_distance_value,\n",
    "    alternative='greater')\n",
    "print('p-значение:', results.pvalue)\n",
    "if results.pvalue < alpha:\n",
    "    print('Отвергаем нулевую гипотезу')\n",
    "else:\n",
    "    print('Нет оснований отвергнуть нулевую гипотезу') "
   ]
  },
  {
   "cell_type": "markdown",
   "id": "6b73a2c5",
   "metadata": {},
   "source": [
    "Тест показал, что нет оснований отвергать нулевую гипотезу. Можно сделать вывод , что среднее расстояние, которое проезжают пользователи с подпиской за одну поездку, не превышает 3130 метров."
   ]
  },
  {
   "cell_type": "markdown",
   "id": "d40566c9",
   "metadata": {},
   "source": [
    "Это говорит о том, что износ самокатов будет лежать в приделах оптимальных значений."
   ]
  },
  {
   "cell_type": "markdown",
   "id": "57ba376b",
   "metadata": {},
   "source": [
    "Третья гипотиза : будет ли помесячная выручка от пользователей с подпиской по месяцам выше, чем выручка от пользователей без подписки. "
   ]
  },
  {
   "cell_type": "markdown",
   "id": "5258777f",
   "metadata": {},
   "source": [
    "Нулевая гипотеза - месячная выручка для пользователй обеих групп одинаковая. <br>\n",
    "Алетернативная гипотеза - месячная выручка от пользователей с подпиской по месяцам выше, чем выручка от пользователей без подписки."
   ]
  },
  {
   "cell_type": "code",
   "execution_count": 60,
   "id": "9e48b137",
   "metadata": {
    "scrolled": true
   },
   "outputs": [
    {
     "name": "stdout",
     "output_type": "stream",
     "text": [
      "p-значение: 1.8850394384715216e-31\n",
      "Отвергаем нулевую гипотезу\n"
     ]
    }
   ],
   "source": [
    "# проводим тест\n",
    "ultra_rev = final_table_pivot.loc[final_table_pivot['subscription_type'] == 'ultra','revenue']\n",
    "free_rev = final_table_pivot.loc[final_table_pivot['subscription_type'] == 'free','revenue']  \n",
    "alpha = 0.05 \n",
    "results = st.ttest_ind(ultra_rev,free_rev,alternative='greater')\n",
    "print('p-значение:', results.pvalue)\n",
    "if results.pvalue < alpha:\n",
    "    print('Отвергаем нулевую гипотезу')\n",
    "else:\n",
    "    print('Нет оснований отвергнуть нулевую гипотезу') "
   ]
  },
  {
   "cell_type": "markdown",
   "id": "177bf567",
   "metadata": {},
   "source": [
    "Тест показал, что есть оснавания отвергнуть нулеваую гипотезу. Можно сделать вывовод , что месячная выручка от пользователей с подпиской по месяцам выше, чем выручка от пользователей без подписки."
   ]
  },
  {
   "cell_type": "markdown",
   "id": "a2f0a49e",
   "metadata": {},
   "source": [
    "# Общий вывод."
   ]
  },
  {
   "cell_type": "markdown",
   "id": "2f3274a5",
   "metadata": {},
   "source": [
    "В данной работе были выполненны следующие шаги:\n",
    "1. Знакомство с данными, изучение общей информации о таблицах.\n",
    "2. Предобработка данных :\n",
    " 1. Формат записи даты был приведет к \"datetime64\".\n",
    " 2. Был добавлен новый столбец с номером месяца.\n",
    " 3. Проверели есть ли пропуски и дуликаты во всех таблицах. Избавились от явных дубликатов. <br>\n",
    " Причины возникновения дубликатов : <br>\n",
    "1) Технические ошибки с многократной загрузкой одного фрагмента данных.<br>\n",
    "2) Повторный ввод одной и той же информации в сочетании с отсутствием проверок на существование такой же записи в базе данных.<br>\n",
    "3. Исследовательский анализ данных. В результате анализа было выявленно , что : <br>\n",
    "1) Главными городами, по использованию самакатов являются - Пятигорск, Екатеринбург.<br>\n",
    "2) Большая часть клиентов пользуются самокатами без подписки.<br>\n",
    "3) Основная масса пользователей это люди в возрасте от 22 до 28 лет.<br>\n",
    "4) Основное кол-во поездок происходит на росстояние примерно от 2500 до 3100 метров.<br>\n",
    "5) В основном поездки длятся от 13 до 21 минуты.<br>\n",
    "4. Объединение данных в одну общую таблицу. Создали две отдельные таблицы из объединенной для двух груп пользователей  .Визуализировали информацию о расстоянии и времени поездок для пользователей обеих категорий. В результате было выявленно , что :<br>\n",
    "1) Расстояние поездок практически одинаково для обеих груп пользователей.<br>\n",
    "2) Продолжительност поездок незначительно больше у пользователей с подпиской.<br>\n",
    "5. Подсчёт выручки. Создали датафрейм с агрегированными данными о поездках на основе общей таблицы: найшли суммарное расстояние, количество поездок и суммарное время для каждого пользователя за каждый месяц. Добавили столбец с помесячной выручкой, которую принёс каждый пользователь.\n",
    "6. Проверка гипотез:\n",
    "1) Первая гипотеза: тратят ли пользователи с подпиской больше времени на поездки? - В результате теста можно сделать вывод,что пользователи с подпиской трят больше времени на поездки.\n",
    "2) Вторая гипотеза: можно ли сказать, что среднее расстояние, которое проезжают пользователи с подпиской за одну поездку, не превышает 3130 метров? -  В результате теста можно сделать вывод, что среднее расстояние, которое проезжают пользователи с подпиской за одну поездку, не превышает 3130 метров.\n",
    "3) Третья гипотиза : будет ли помесячная выручка от пользователей с подпиской по месяцам выше, чем выручка от пользователей без подписки? - Можно сделать вывовод , что месячная выручка от пользователей с подпиской по месяцам выше, чем выручка от пользователей без подписки. <br>\n",
    "<br>\n",
    "Подводя итоги можно сделать вывод о том, что пользователи с подпиской \"представляют больший интерес\" для компании. На них и стоит сделать акцент при проведении рекламных акций."
   ]
  }
 ],
 "metadata": {
  "ExecuteTimeLog": [
   {
    "duration": 50,
    "start_time": "2023-09-13T12:09:41.981Z"
   },
   {
    "duration": 416,
    "start_time": "2023-09-13T12:09:46.679Z"
   },
   {
    "duration": 78,
    "start_time": "2023-09-13T12:09:49.113Z"
   },
   {
    "duration": 89,
    "start_time": "2023-09-13T12:10:26.519Z"
   },
   {
    "duration": 44,
    "start_time": "2023-09-13T12:10:40.646Z"
   },
   {
    "duration": 35,
    "start_time": "2023-09-13T12:11:11.655Z"
   },
   {
    "duration": 9,
    "start_time": "2023-09-13T12:23:44.712Z"
   },
   {
    "duration": 12,
    "start_time": "2023-09-13T12:23:49.298Z"
   },
   {
    "duration": 207,
    "start_time": "2023-09-13T12:24:59.125Z"
   },
   {
    "duration": 12,
    "start_time": "2023-09-13T12:25:15.754Z"
   },
   {
    "duration": 55,
    "start_time": "2023-09-13T12:26:27.935Z"
   },
   {
    "duration": 75,
    "start_time": "2023-09-13T12:26:57.064Z"
   },
   {
    "duration": 32,
    "start_time": "2023-09-13T12:27:11.363Z"
   },
   {
    "duration": 11,
    "start_time": "2023-09-13T12:27:29.468Z"
   },
   {
    "duration": 473,
    "start_time": "2023-09-13T12:31:38.938Z"
   },
   {
    "duration": 39,
    "start_time": "2023-09-13T12:31:39.414Z"
   },
   {
    "duration": 14,
    "start_time": "2023-09-13T12:31:39.455Z"
   },
   {
    "duration": 37,
    "start_time": "2023-09-13T12:31:39.586Z"
   },
   {
    "duration": 12,
    "start_time": "2023-09-13T12:31:39.730Z"
   },
   {
    "duration": 23,
    "start_time": "2023-09-13T12:31:39.874Z"
   },
   {
    "duration": 11,
    "start_time": "2023-09-13T12:31:40.026Z"
   },
   {
    "duration": 7,
    "start_time": "2023-09-13T12:35:08.052Z"
   },
   {
    "duration": 76,
    "start_time": "2023-09-13T12:36:59.258Z"
   },
   {
    "duration": 7,
    "start_time": "2023-09-13T12:37:21.771Z"
   },
   {
    "duration": 16,
    "start_time": "2023-09-13T12:37:41.536Z"
   },
   {
    "duration": 5,
    "start_time": "2023-09-13T12:41:55.671Z"
   },
   {
    "duration": 8,
    "start_time": "2023-09-13T12:42:15.353Z"
   },
   {
    "duration": 84,
    "start_time": "2023-09-13T12:43:44.789Z"
   },
   {
    "duration": 7,
    "start_time": "2023-09-13T12:43:50.044Z"
   },
   {
    "duration": 20,
    "start_time": "2023-09-13T12:44:20.393Z"
   },
   {
    "duration": 7,
    "start_time": "2023-09-13T12:44:40.148Z"
   },
   {
    "duration": 13,
    "start_time": "2023-09-13T12:44:46.845Z"
   },
   {
    "duration": 7,
    "start_time": "2023-09-13T12:44:50.219Z"
   },
   {
    "duration": 6,
    "start_time": "2023-09-13T12:45:55.842Z"
   },
   {
    "duration": 7,
    "start_time": "2023-09-13T12:46:49.468Z"
   },
   {
    "duration": 14,
    "start_time": "2023-09-13T12:51:18.877Z"
   },
   {
    "duration": 26,
    "start_time": "2023-09-13T12:52:05.213Z"
   },
   {
    "duration": 6,
    "start_time": "2023-09-13T12:52:26.478Z"
   },
   {
    "duration": 7,
    "start_time": "2023-09-13T12:52:36.717Z"
   },
   {
    "duration": 10,
    "start_time": "2023-09-13T12:53:47.677Z"
   },
   {
    "duration": 9,
    "start_time": "2023-09-13T12:53:50.954Z"
   },
   {
    "duration": 7,
    "start_time": "2023-09-13T12:53:59.940Z"
   },
   {
    "duration": 6,
    "start_time": "2023-09-13T12:54:54.718Z"
   },
   {
    "duration": 8,
    "start_time": "2023-09-13T12:56:08.598Z"
   },
   {
    "duration": 11,
    "start_time": "2023-09-13T12:56:14.630Z"
   },
   {
    "duration": 8,
    "start_time": "2023-09-13T12:56:20.299Z"
   },
   {
    "duration": 163,
    "start_time": "2023-09-13T13:12:45.309Z"
   },
   {
    "duration": 175,
    "start_time": "2023-09-13T13:13:00.849Z"
   },
   {
    "duration": 225,
    "start_time": "2023-09-13T13:13:17.915Z"
   },
   {
    "duration": 130,
    "start_time": "2023-09-13T13:13:31.837Z"
   },
   {
    "duration": 136,
    "start_time": "2023-09-13T13:13:42.360Z"
   },
   {
    "duration": 158,
    "start_time": "2023-09-13T13:13:46.680Z"
   },
   {
    "duration": 157,
    "start_time": "2023-09-13T13:14:05.946Z"
   },
   {
    "duration": 157,
    "start_time": "2023-09-13T13:14:27.448Z"
   },
   {
    "duration": 159,
    "start_time": "2023-09-13T13:14:33.315Z"
   },
   {
    "duration": 168,
    "start_time": "2023-09-13T13:15:45.336Z"
   },
   {
    "duration": 150,
    "start_time": "2023-09-13T13:15:57.182Z"
   },
   {
    "duration": 158,
    "start_time": "2023-09-13T13:16:05.585Z"
   },
   {
    "duration": 149,
    "start_time": "2023-09-13T13:16:09.194Z"
   },
   {
    "duration": 237,
    "start_time": "2023-09-13T13:16:13.067Z"
   },
   {
    "duration": 164,
    "start_time": "2023-09-13T13:16:16.993Z"
   },
   {
    "duration": 153,
    "start_time": "2023-09-13T13:16:20.362Z"
   },
   {
    "duration": 157,
    "start_time": "2023-09-13T13:16:24.070Z"
   },
   {
    "duration": 8,
    "start_time": "2023-09-13T13:17:02.826Z"
   },
   {
    "duration": 114,
    "start_time": "2023-09-13T13:20:07.794Z"
   },
   {
    "duration": 123,
    "start_time": "2023-09-13T13:20:28.209Z"
   },
   {
    "duration": 142,
    "start_time": "2023-09-13T13:20:36.460Z"
   },
   {
    "duration": 134,
    "start_time": "2023-09-13T13:20:46.976Z"
   },
   {
    "duration": 111,
    "start_time": "2023-09-13T13:20:52.206Z"
   },
   {
    "duration": 107,
    "start_time": "2023-09-13T13:20:57.615Z"
   },
   {
    "duration": 10,
    "start_time": "2023-09-13T13:24:45.223Z"
   },
   {
    "duration": 321,
    "start_time": "2023-09-13T13:24:59.074Z"
   },
   {
    "duration": 3,
    "start_time": "2023-09-13T13:31:43.549Z"
   },
   {
    "duration": 1517,
    "start_time": "2023-09-13T13:33:11.062Z"
   },
   {
    "duration": 153,
    "start_time": "2023-09-13T13:33:31.995Z"
   },
   {
    "duration": 236,
    "start_time": "2023-09-13T13:34:07.226Z"
   },
   {
    "duration": 140,
    "start_time": "2023-09-13T13:34:11.193Z"
   },
   {
    "duration": 148,
    "start_time": "2023-09-13T13:35:01.738Z"
   },
   {
    "duration": 3,
    "start_time": "2023-09-13T13:42:10.367Z"
   },
   {
    "duration": 81,
    "start_time": "2023-09-13T13:42:10.371Z"
   },
   {
    "duration": 12,
    "start_time": "2023-09-13T13:42:10.454Z"
   },
   {
    "duration": 62,
    "start_time": "2023-09-13T13:42:10.467Z"
   },
   {
    "duration": 25,
    "start_time": "2023-09-13T13:42:10.531Z"
   },
   {
    "duration": 22,
    "start_time": "2023-09-13T13:42:10.558Z"
   },
   {
    "duration": 65,
    "start_time": "2023-09-13T13:42:10.582Z"
   },
   {
    "duration": 47,
    "start_time": "2023-09-13T13:42:10.648Z"
   },
   {
    "duration": 45,
    "start_time": "2023-09-13T13:42:10.698Z"
   },
   {
    "duration": 28,
    "start_time": "2023-09-13T13:42:10.745Z"
   },
   {
    "duration": 46,
    "start_time": "2023-09-13T13:42:10.775Z"
   },
   {
    "duration": 31,
    "start_time": "2023-09-13T13:42:10.823Z"
   },
   {
    "duration": 13,
    "start_time": "2023-09-13T13:42:10.857Z"
   },
   {
    "duration": 8,
    "start_time": "2023-09-13T13:42:10.872Z"
   },
   {
    "duration": 8,
    "start_time": "2023-09-13T13:42:10.882Z"
   },
   {
    "duration": 10,
    "start_time": "2023-09-13T13:42:10.892Z"
   },
   {
    "duration": 12,
    "start_time": "2023-09-13T13:42:10.904Z"
   },
   {
    "duration": 185,
    "start_time": "2023-09-13T13:42:10.918Z"
   },
   {
    "duration": 129,
    "start_time": "2023-09-13T13:42:11.105Z"
   },
   {
    "duration": 3,
    "start_time": "2023-09-13T13:42:11.237Z"
   },
   {
    "duration": 349,
    "start_time": "2023-09-13T13:42:11.241Z"
   },
   {
    "duration": 19346,
    "start_time": "2023-09-13T13:42:11.592Z"
   },
   {
    "duration": 24842,
    "start_time": "2023-09-13T13:43:15.833Z"
   },
   {
    "duration": 6,
    "start_time": "2023-09-13T13:43:45.952Z"
   },
   {
    "duration": 7534,
    "start_time": "2023-09-13T13:43:53.804Z"
   },
   {
    "duration": 144,
    "start_time": "2023-09-13T13:46:26.446Z"
   },
   {
    "duration": 155,
    "start_time": "2023-09-13T13:47:32.803Z"
   },
   {
    "duration": 1493,
    "start_time": "2023-09-13T13:48:33.005Z"
   },
   {
    "duration": 11,
    "start_time": "2023-09-13T13:48:42.014Z"
   },
   {
    "duration": 10,
    "start_time": "2023-09-13T13:49:15.437Z"
   },
   {
    "duration": 178,
    "start_time": "2023-09-13T13:50:28.038Z"
   },
   {
    "duration": 151,
    "start_time": "2023-09-13T13:50:46.661Z"
   },
   {
    "duration": 9,
    "start_time": "2023-09-13T13:51:10.474Z"
   },
   {
    "duration": 51,
    "start_time": "2023-09-13T15:46:22.705Z"
   },
   {
    "duration": 833,
    "start_time": "2023-09-13T15:46:26.576Z"
   },
   {
    "duration": 95,
    "start_time": "2023-09-13T15:46:27.412Z"
   },
   {
    "duration": 10,
    "start_time": "2023-09-13T15:46:27.508Z"
   },
   {
    "duration": 85,
    "start_time": "2023-09-13T15:46:27.520Z"
   },
   {
    "duration": 12,
    "start_time": "2023-09-13T15:46:27.607Z"
   },
   {
    "duration": 58,
    "start_time": "2023-09-13T15:46:27.621Z"
   },
   {
    "duration": 11,
    "start_time": "2023-09-13T15:46:27.681Z"
   },
   {
    "duration": 15,
    "start_time": "2023-09-13T15:46:27.694Z"
   },
   {
    "duration": 18,
    "start_time": "2023-09-13T15:46:27.710Z"
   },
   {
    "duration": 8,
    "start_time": "2023-09-13T15:46:27.730Z"
   },
   {
    "duration": 11,
    "start_time": "2023-09-13T15:46:27.740Z"
   },
   {
    "duration": 7,
    "start_time": "2023-09-13T15:46:27.754Z"
   },
   {
    "duration": 15,
    "start_time": "2023-09-13T15:46:27.762Z"
   },
   {
    "duration": 7,
    "start_time": "2023-09-13T15:46:27.779Z"
   },
   {
    "duration": 7,
    "start_time": "2023-09-13T15:46:27.787Z"
   },
   {
    "duration": 17,
    "start_time": "2023-09-13T15:46:27.795Z"
   },
   {
    "duration": 7,
    "start_time": "2023-09-13T15:46:27.813Z"
   },
   {
    "duration": 188,
    "start_time": "2023-09-13T15:46:27.821Z"
   },
   {
    "duration": 128,
    "start_time": "2023-09-13T15:46:28.011Z"
   },
   {
    "duration": 2,
    "start_time": "2023-09-13T15:46:28.147Z"
   },
   {
    "duration": 161,
    "start_time": "2023-09-13T15:46:28.151Z"
   },
   {
    "duration": 8,
    "start_time": "2023-09-13T15:46:28.314Z"
   },
   {
    "duration": 154,
    "start_time": "2023-09-13T15:46:28.323Z"
   },
   {
    "duration": 9,
    "start_time": "2023-09-13T15:46:28.479Z"
   },
   {
    "duration": 222,
    "start_time": "2023-09-13T15:46:28.490Z"
   },
   {
    "duration": 9,
    "start_time": "2023-09-13T15:46:28.715Z"
   },
   {
    "duration": 10,
    "start_time": "2023-09-13T15:46:39.592Z"
   },
   {
    "duration": 41,
    "start_time": "2023-09-13T15:50:56.218Z"
   },
   {
    "duration": 13,
    "start_time": "2023-09-13T15:51:14.868Z"
   },
   {
    "duration": 27,
    "start_time": "2023-09-13T15:51:32.290Z"
   },
   {
    "duration": 9,
    "start_time": "2023-09-13T15:53:48.115Z"
   },
   {
    "duration": 27,
    "start_time": "2023-09-13T15:53:55.959Z"
   },
   {
    "duration": 11,
    "start_time": "2023-09-13T15:57:32.628Z"
   },
   {
    "duration": 7,
    "start_time": "2023-09-13T15:57:36.234Z"
   },
   {
    "duration": 23,
    "start_time": "2023-09-13T15:57:46.646Z"
   },
   {
    "duration": 6,
    "start_time": "2023-09-13T15:59:17.370Z"
   },
   {
    "duration": 21,
    "start_time": "2023-09-13T15:59:26.226Z"
   },
   {
    "duration": 9,
    "start_time": "2023-09-13T16:00:03.670Z"
   },
   {
    "duration": 20,
    "start_time": "2023-09-13T16:01:25.272Z"
   },
   {
    "duration": 16,
    "start_time": "2023-09-13T16:01:31.257Z"
   },
   {
    "duration": 127,
    "start_time": "2023-09-13T16:02:37.078Z"
   },
   {
    "duration": 12,
    "start_time": "2023-09-13T16:03:01.021Z"
   },
   {
    "duration": 164,
    "start_time": "2023-09-13T16:03:38.640Z"
   },
   {
    "duration": 164,
    "start_time": "2023-09-13T16:04:24.446Z"
   },
   {
    "duration": 9,
    "start_time": "2023-09-13T16:04:48.096Z"
   },
   {
    "duration": 147,
    "start_time": "2023-09-13T16:05:18.288Z"
   },
   {
    "duration": 14,
    "start_time": "2023-09-13T16:07:02.149Z"
   },
   {
    "duration": 151,
    "start_time": "2023-09-13T16:08:17.623Z"
   },
   {
    "duration": 9,
    "start_time": "2023-09-13T16:08:42.960Z"
   },
   {
    "duration": 15,
    "start_time": "2023-09-13T16:10:37.384Z"
   },
   {
    "duration": 157,
    "start_time": "2023-09-13T16:11:00.199Z"
   },
   {
    "duration": 138,
    "start_time": "2023-09-13T16:11:39.129Z"
   },
   {
    "duration": 17,
    "start_time": "2023-09-13T16:12:20.516Z"
   },
   {
    "duration": 16,
    "start_time": "2023-09-13T16:12:32.015Z"
   },
   {
    "duration": 131,
    "start_time": "2023-09-13T16:12:58.062Z"
   },
   {
    "duration": 134,
    "start_time": "2023-09-13T16:13:24.607Z"
   },
   {
    "duration": 25,
    "start_time": "2023-09-13T17:27:37.599Z"
   },
   {
    "duration": 24,
    "start_time": "2023-09-13T17:27:43.889Z"
   },
   {
    "duration": 24,
    "start_time": "2023-09-13T17:27:49.408Z"
   },
   {
    "duration": 3,
    "start_time": "2023-09-13T17:28:50.516Z"
   },
   {
    "duration": 51,
    "start_time": "2023-09-13T17:28:50.521Z"
   },
   {
    "duration": 8,
    "start_time": "2023-09-13T17:28:50.574Z"
   },
   {
    "duration": 53,
    "start_time": "2023-09-13T17:28:50.584Z"
   },
   {
    "duration": 7,
    "start_time": "2023-09-13T17:28:50.639Z"
   },
   {
    "duration": 24,
    "start_time": "2023-09-13T17:28:50.647Z"
   },
   {
    "duration": 10,
    "start_time": "2023-09-13T17:28:50.673Z"
   },
   {
    "duration": 25,
    "start_time": "2023-09-13T17:28:50.684Z"
   },
   {
    "duration": 14,
    "start_time": "2023-09-13T17:28:50.712Z"
   },
   {
    "duration": 21,
    "start_time": "2023-09-13T17:28:50.728Z"
   },
   {
    "duration": 20,
    "start_time": "2023-09-13T17:28:50.751Z"
   },
   {
    "duration": 7,
    "start_time": "2023-09-13T17:28:50.772Z"
   },
   {
    "duration": 17,
    "start_time": "2023-09-13T17:28:50.781Z"
   },
   {
    "duration": 37,
    "start_time": "2023-09-13T17:28:50.800Z"
   },
   {
    "duration": 19,
    "start_time": "2023-09-13T17:28:50.838Z"
   },
   {
    "duration": 17,
    "start_time": "2023-09-13T17:28:50.859Z"
   },
   {
    "duration": 19,
    "start_time": "2023-09-13T17:28:50.878Z"
   },
   {
    "duration": 168,
    "start_time": "2023-09-13T17:28:50.899Z"
   },
   {
    "duration": 203,
    "start_time": "2023-09-13T17:28:51.069Z"
   },
   {
    "duration": 3,
    "start_time": "2023-09-13T17:28:51.274Z"
   },
   {
    "duration": 175,
    "start_time": "2023-09-13T17:28:51.279Z"
   },
   {
    "duration": 9,
    "start_time": "2023-09-13T17:28:51.456Z"
   },
   {
    "duration": 171,
    "start_time": "2023-09-13T17:28:51.468Z"
   },
   {
    "duration": 11,
    "start_time": "2023-09-13T17:28:51.642Z"
   },
   {
    "duration": 155,
    "start_time": "2023-09-13T17:28:51.655Z"
   },
   {
    "duration": 9,
    "start_time": "2023-09-13T17:28:51.811Z"
   },
   {
    "duration": 42,
    "start_time": "2023-09-13T17:28:51.821Z"
   },
   {
    "duration": 25,
    "start_time": "2023-09-13T17:28:51.865Z"
   },
   {
    "duration": 18,
    "start_time": "2023-09-13T17:28:51.892Z"
   },
   {
    "duration": 36,
    "start_time": "2023-09-13T17:28:51.912Z"
   },
   {
    "duration": 132,
    "start_time": "2023-09-13T17:28:51.950Z"
   },
   {
    "duration": 9,
    "start_time": "2023-09-13T17:28:52.084Z"
   },
   {
    "duration": 186,
    "start_time": "2023-09-13T17:28:52.095Z"
   },
   {
    "duration": 9,
    "start_time": "2023-09-13T17:28:52.283Z"
   },
   {
    "duration": 157,
    "start_time": "2023-09-13T17:28:52.294Z"
   },
   {
    "duration": 9,
    "start_time": "2023-09-13T17:28:52.453Z"
   },
   {
    "duration": 144,
    "start_time": "2023-09-13T17:28:52.463Z"
   },
   {
    "duration": 9,
    "start_time": "2023-09-13T17:28:52.609Z"
   },
   {
    "duration": 158,
    "start_time": "2023-09-13T17:28:52.619Z"
   },
   {
    "duration": 146,
    "start_time": "2023-09-13T17:28:52.779Z"
   },
   {
    "duration": 35,
    "start_time": "2023-09-13T17:28:52.927Z"
   },
   {
    "duration": 4,
    "start_time": "2023-09-13T17:54:43.449Z"
   },
   {
    "duration": 9,
    "start_time": "2023-09-13T17:54:53.859Z"
   },
   {
    "duration": 5,
    "start_time": "2023-09-13T17:54:59.009Z"
   },
   {
    "duration": 21,
    "start_time": "2023-09-13T18:09:12.849Z"
   },
   {
    "duration": 21,
    "start_time": "2023-09-13T18:15:05.387Z"
   },
   {
    "duration": 17,
    "start_time": "2023-09-13T18:18:03.689Z"
   },
   {
    "duration": 20,
    "start_time": "2023-09-13T18:40:24.710Z"
   },
   {
    "duration": 18,
    "start_time": "2023-09-13T18:44:46.623Z"
   },
   {
    "duration": 19,
    "start_time": "2023-09-13T18:45:13.478Z"
   },
   {
    "duration": 17,
    "start_time": "2023-09-13T18:51:08.074Z"
   },
   {
    "duration": 16,
    "start_time": "2023-09-13T18:51:53.383Z"
   },
   {
    "duration": 3,
    "start_time": "2023-09-13T18:52:26.318Z"
   },
   {
    "duration": 17,
    "start_time": "2023-09-13T18:52:58.498Z"
   },
   {
    "duration": 17,
    "start_time": "2023-09-13T19:04:56.280Z"
   },
   {
    "duration": 679,
    "start_time": "2023-09-13T19:05:47.794Z"
   },
   {
    "duration": 30,
    "start_time": "2023-09-13T19:11:04.241Z"
   },
   {
    "duration": 41,
    "start_time": "2023-09-13T19:11:10.436Z"
   },
   {
    "duration": 1319,
    "start_time": "2023-09-13T19:11:29.120Z"
   },
   {
    "duration": 2,
    "start_time": "2023-09-13T19:11:50.429Z"
   },
   {
    "duration": 51,
    "start_time": "2023-09-13T19:11:50.433Z"
   },
   {
    "duration": 9,
    "start_time": "2023-09-13T19:11:50.486Z"
   },
   {
    "duration": 43,
    "start_time": "2023-09-13T19:11:50.497Z"
   },
   {
    "duration": 10,
    "start_time": "2023-09-13T19:11:50.542Z"
   },
   {
    "duration": 41,
    "start_time": "2023-09-13T19:11:50.555Z"
   },
   {
    "duration": 18,
    "start_time": "2023-09-13T19:11:50.598Z"
   },
   {
    "duration": 15,
    "start_time": "2023-09-13T19:11:50.618Z"
   },
   {
    "duration": 30,
    "start_time": "2023-09-13T19:11:50.635Z"
   },
   {
    "duration": 26,
    "start_time": "2023-09-13T19:11:50.667Z"
   },
   {
    "duration": 20,
    "start_time": "2023-09-13T19:11:50.695Z"
   },
   {
    "duration": 57,
    "start_time": "2023-09-13T19:11:50.716Z"
   },
   {
    "duration": 37,
    "start_time": "2023-09-13T19:11:50.774Z"
   },
   {
    "duration": 19,
    "start_time": "2023-09-13T19:11:50.813Z"
   },
   {
    "duration": 40,
    "start_time": "2023-09-13T19:11:50.834Z"
   },
   {
    "duration": 56,
    "start_time": "2023-09-13T19:11:50.877Z"
   },
   {
    "duration": 27,
    "start_time": "2023-09-13T19:11:50.935Z"
   },
   {
    "duration": 185,
    "start_time": "2023-09-13T19:11:50.964Z"
   },
   {
    "duration": 215,
    "start_time": "2023-09-13T19:11:51.150Z"
   },
   {
    "duration": 4,
    "start_time": "2023-09-13T19:11:51.367Z"
   },
   {
    "duration": 177,
    "start_time": "2023-09-13T19:11:51.373Z"
   },
   {
    "duration": 12,
    "start_time": "2023-09-13T19:11:51.552Z"
   },
   {
    "duration": 172,
    "start_time": "2023-09-13T19:11:51.566Z"
   },
   {
    "duration": 14,
    "start_time": "2023-09-13T19:11:51.746Z"
   },
   {
    "duration": 160,
    "start_time": "2023-09-13T19:11:51.763Z"
   },
   {
    "duration": 9,
    "start_time": "2023-09-13T19:11:51.925Z"
   },
   {
    "duration": 36,
    "start_time": "2023-09-13T19:11:51.946Z"
   },
   {
    "duration": 25,
    "start_time": "2023-09-13T19:11:51.984Z"
   },
   {
    "duration": 19,
    "start_time": "2023-09-13T19:11:52.011Z"
   },
   {
    "duration": 20,
    "start_time": "2023-09-13T19:11:52.046Z"
   },
   {
    "duration": 167,
    "start_time": "2023-09-13T19:11:52.069Z"
   },
   {
    "duration": 11,
    "start_time": "2023-09-13T19:11:52.238Z"
   },
   {
    "duration": 217,
    "start_time": "2023-09-13T19:11:52.251Z"
   },
   {
    "duration": 8,
    "start_time": "2023-09-13T19:11:52.471Z"
   },
   {
    "duration": 170,
    "start_time": "2023-09-13T19:11:52.481Z"
   },
   {
    "duration": 16,
    "start_time": "2023-09-13T19:11:52.653Z"
   },
   {
    "duration": 160,
    "start_time": "2023-09-13T19:11:52.671Z"
   },
   {
    "duration": 15,
    "start_time": "2023-09-13T19:11:52.833Z"
   },
   {
    "duration": 160,
    "start_time": "2023-09-13T19:11:52.851Z"
   },
   {
    "duration": 159,
    "start_time": "2023-09-13T19:11:53.013Z"
   },
   {
    "duration": 25,
    "start_time": "2023-09-13T19:11:53.175Z"
   },
   {
    "duration": 2,
    "start_time": "2023-09-13T19:11:53.201Z"
   },
   {
    "duration": 89,
    "start_time": "2023-09-13T19:11:53.205Z"
   },
   {
    "duration": 1537,
    "start_time": "2023-09-13T19:15:24.442Z"
   },
   {
    "duration": 3,
    "start_time": "2023-09-13T19:15:33.750Z"
   },
   {
    "duration": 78,
    "start_time": "2023-09-13T19:15:33.755Z"
   },
   {
    "duration": 8,
    "start_time": "2023-09-13T19:15:33.835Z"
   },
   {
    "duration": 48,
    "start_time": "2023-09-13T19:15:33.845Z"
   },
   {
    "duration": 8,
    "start_time": "2023-09-13T19:15:33.894Z"
   },
   {
    "duration": 32,
    "start_time": "2023-09-13T19:15:33.903Z"
   },
   {
    "duration": 11,
    "start_time": "2023-09-13T19:15:33.937Z"
   },
   {
    "duration": 8,
    "start_time": "2023-09-13T19:15:33.950Z"
   },
   {
    "duration": 10,
    "start_time": "2023-09-13T19:15:33.962Z"
   },
   {
    "duration": 32,
    "start_time": "2023-09-13T19:15:33.974Z"
   },
   {
    "duration": 6,
    "start_time": "2023-09-13T19:15:34.007Z"
   },
   {
    "duration": 21,
    "start_time": "2023-09-13T19:15:34.015Z"
   },
   {
    "duration": 12,
    "start_time": "2023-09-13T19:15:34.038Z"
   },
   {
    "duration": 16,
    "start_time": "2023-09-13T19:15:34.052Z"
   },
   {
    "duration": 11,
    "start_time": "2023-09-13T19:15:34.069Z"
   },
   {
    "duration": 32,
    "start_time": "2023-09-13T19:15:34.081Z"
   },
   {
    "duration": 11,
    "start_time": "2023-09-13T19:15:34.114Z"
   },
   {
    "duration": 158,
    "start_time": "2023-09-13T19:15:34.127Z"
   },
   {
    "duration": 212,
    "start_time": "2023-09-13T19:15:34.287Z"
   },
   {
    "duration": 3,
    "start_time": "2023-09-13T19:15:34.501Z"
   },
   {
    "duration": 170,
    "start_time": "2023-09-13T19:15:34.505Z"
   },
   {
    "duration": 8,
    "start_time": "2023-09-13T19:15:34.676Z"
   },
   {
    "duration": 151,
    "start_time": "2023-09-13T19:15:34.686Z"
   },
   {
    "duration": 8,
    "start_time": "2023-09-13T19:15:34.848Z"
   },
   {
    "duration": 152,
    "start_time": "2023-09-13T19:15:34.857Z"
   },
   {
    "duration": 8,
    "start_time": "2023-09-13T19:15:35.011Z"
   },
   {
    "duration": 41,
    "start_time": "2023-09-13T19:15:35.020Z"
   },
   {
    "duration": 25,
    "start_time": "2023-09-13T19:15:35.063Z"
   },
   {
    "duration": 18,
    "start_time": "2023-09-13T19:15:35.089Z"
   },
   {
    "duration": 40,
    "start_time": "2023-09-13T19:15:35.108Z"
   },
   {
    "duration": 141,
    "start_time": "2023-09-13T19:15:35.150Z"
   },
   {
    "duration": 8,
    "start_time": "2023-09-13T19:15:35.293Z"
   },
   {
    "duration": 173,
    "start_time": "2023-09-13T19:15:35.303Z"
   },
   {
    "duration": 9,
    "start_time": "2023-09-13T19:15:35.478Z"
   },
   {
    "duration": 162,
    "start_time": "2023-09-13T19:15:35.488Z"
   },
   {
    "duration": 10,
    "start_time": "2023-09-13T19:15:35.652Z"
   },
   {
    "duration": 213,
    "start_time": "2023-09-13T19:15:35.664Z"
   },
   {
    "duration": 12,
    "start_time": "2023-09-13T19:15:35.879Z"
   },
   {
    "duration": 155,
    "start_time": "2023-09-13T19:15:35.892Z"
   },
   {
    "duration": 174,
    "start_time": "2023-09-13T19:15:36.049Z"
   },
   {
    "duration": 44,
    "start_time": "2023-09-13T19:15:36.224Z"
   },
   {
    "duration": 3,
    "start_time": "2023-09-13T19:15:36.269Z"
   },
   {
    "duration": 1544,
    "start_time": "2023-09-13T19:15:36.274Z"
   },
   {
    "duration": 98,
    "start_time": "2023-09-13T19:20:31.638Z"
   },
   {
    "duration": 1412,
    "start_time": "2023-09-13T19:20:43.042Z"
   },
   {
    "duration": 4,
    "start_time": "2023-09-13T19:20:57.680Z"
   },
   {
    "duration": 5,
    "start_time": "2023-09-13T19:21:02.395Z"
   },
   {
    "duration": 595,
    "start_time": "2023-09-13T19:22:11.923Z"
   },
   {
    "duration": 3,
    "start_time": "2023-09-13T19:22:50.387Z"
   },
   {
    "duration": 1323,
    "start_time": "2023-09-13T19:23:53.593Z"
   },
   {
    "duration": 47,
    "start_time": "2023-09-13T19:24:42.658Z"
   },
   {
    "duration": 14,
    "start_time": "2023-09-13T19:26:43.515Z"
   },
   {
    "duration": 1193,
    "start_time": "2023-09-13T19:48:54.634Z"
   },
   {
    "duration": 3,
    "start_time": "2023-09-13T19:49:03.617Z"
   },
   {
    "duration": 48,
    "start_time": "2023-09-13T19:49:03.622Z"
   },
   {
    "duration": 10,
    "start_time": "2023-09-13T19:49:03.671Z"
   },
   {
    "duration": 49,
    "start_time": "2023-09-13T19:49:03.684Z"
   },
   {
    "duration": 9,
    "start_time": "2023-09-13T19:49:03.735Z"
   },
   {
    "duration": 24,
    "start_time": "2023-09-13T19:49:03.745Z"
   },
   {
    "duration": 11,
    "start_time": "2023-09-13T19:49:03.771Z"
   },
   {
    "duration": 8,
    "start_time": "2023-09-13T19:49:03.784Z"
   },
   {
    "duration": 13,
    "start_time": "2023-09-13T19:49:03.793Z"
   },
   {
    "duration": 7,
    "start_time": "2023-09-13T19:49:03.808Z"
   },
   {
    "duration": 16,
    "start_time": "2023-09-13T19:49:03.817Z"
   },
   {
    "duration": 13,
    "start_time": "2023-09-13T19:49:03.835Z"
   },
   {
    "duration": 12,
    "start_time": "2023-09-13T19:49:03.849Z"
   },
   {
    "duration": 10,
    "start_time": "2023-09-13T19:49:03.862Z"
   },
   {
    "duration": 11,
    "start_time": "2023-09-13T19:49:03.874Z"
   },
   {
    "duration": 10,
    "start_time": "2023-09-13T19:49:03.887Z"
   },
   {
    "duration": 6,
    "start_time": "2023-09-13T19:49:03.898Z"
   },
   {
    "duration": 257,
    "start_time": "2023-09-13T19:49:03.906Z"
   },
   {
    "duration": 127,
    "start_time": "2023-09-13T19:49:04.165Z"
   },
   {
    "duration": 3,
    "start_time": "2023-09-13T19:49:04.293Z"
   },
   {
    "duration": 165,
    "start_time": "2023-09-13T19:49:04.298Z"
   },
   {
    "duration": 8,
    "start_time": "2023-09-13T19:49:04.464Z"
   },
   {
    "duration": 160,
    "start_time": "2023-09-13T19:49:04.474Z"
   },
   {
    "duration": 15,
    "start_time": "2023-09-13T19:49:04.636Z"
   },
   {
    "duration": 143,
    "start_time": "2023-09-13T19:49:04.653Z"
   },
   {
    "duration": 9,
    "start_time": "2023-09-13T19:49:04.798Z"
   },
   {
    "duration": 46,
    "start_time": "2023-09-13T19:49:04.808Z"
   },
   {
    "duration": 24,
    "start_time": "2023-09-13T19:49:04.858Z"
   },
   {
    "duration": 16,
    "start_time": "2023-09-13T19:49:04.884Z"
   },
   {
    "duration": 14,
    "start_time": "2023-09-13T19:49:04.902Z"
   },
   {
    "duration": 146,
    "start_time": "2023-09-13T19:49:04.918Z"
   },
   {
    "duration": 8,
    "start_time": "2023-09-13T19:49:05.066Z"
   },
   {
    "duration": 195,
    "start_time": "2023-09-13T19:49:05.075Z"
   },
   {
    "duration": 10,
    "start_time": "2023-09-13T19:49:05.273Z"
   },
   {
    "duration": 194,
    "start_time": "2023-09-13T19:49:05.286Z"
   },
   {
    "duration": 9,
    "start_time": "2023-09-13T19:49:05.481Z"
   },
   {
    "duration": 149,
    "start_time": "2023-09-13T19:49:05.492Z"
   },
   {
    "duration": 9,
    "start_time": "2023-09-13T19:49:05.646Z"
   },
   {
    "duration": 141,
    "start_time": "2023-09-13T19:49:05.657Z"
   },
   {
    "duration": 149,
    "start_time": "2023-09-13T19:49:05.800Z"
   },
   {
    "duration": 24,
    "start_time": "2023-09-13T19:49:05.950Z"
   },
   {
    "duration": 13,
    "start_time": "2023-09-13T19:49:05.975Z"
   },
   {
    "duration": 25,
    "start_time": "2023-09-13T19:49:05.989Z"
   },
   {
    "duration": 51,
    "start_time": "2023-09-13T19:49:17.204Z"
   },
   {
    "duration": 1268,
    "start_time": "2023-09-13T19:55:36.482Z"
   },
   {
    "duration": 3,
    "start_time": "2023-09-13T19:55:43.424Z"
   },
   {
    "duration": 41,
    "start_time": "2023-09-13T19:55:43.429Z"
   },
   {
    "duration": 11,
    "start_time": "2023-09-13T19:55:43.473Z"
   },
   {
    "duration": 49,
    "start_time": "2023-09-13T19:55:43.486Z"
   },
   {
    "duration": 10,
    "start_time": "2023-09-13T19:55:43.537Z"
   },
   {
    "duration": 31,
    "start_time": "2023-09-13T19:55:43.549Z"
   },
   {
    "duration": 11,
    "start_time": "2023-09-13T19:55:43.582Z"
   },
   {
    "duration": 12,
    "start_time": "2023-09-13T19:55:43.595Z"
   },
   {
    "duration": 19,
    "start_time": "2023-09-13T19:55:43.609Z"
   },
   {
    "duration": 13,
    "start_time": "2023-09-13T19:55:43.630Z"
   },
   {
    "duration": 6,
    "start_time": "2023-09-13T19:55:43.646Z"
   },
   {
    "duration": 8,
    "start_time": "2023-09-13T19:55:43.653Z"
   },
   {
    "duration": 9,
    "start_time": "2023-09-13T19:55:43.662Z"
   },
   {
    "duration": 29,
    "start_time": "2023-09-13T19:55:43.673Z"
   },
   {
    "duration": 7,
    "start_time": "2023-09-13T19:55:43.704Z"
   },
   {
    "duration": 8,
    "start_time": "2023-09-13T19:55:43.713Z"
   },
   {
    "duration": 6,
    "start_time": "2023-09-13T19:55:43.723Z"
   },
   {
    "duration": 172,
    "start_time": "2023-09-13T19:55:43.730Z"
   },
   {
    "duration": 220,
    "start_time": "2023-09-13T19:55:43.904Z"
   },
   {
    "duration": 3,
    "start_time": "2023-09-13T19:55:44.127Z"
   },
   {
    "duration": 162,
    "start_time": "2023-09-13T19:55:44.132Z"
   },
   {
    "duration": 10,
    "start_time": "2023-09-13T19:55:44.296Z"
   },
   {
    "duration": 159,
    "start_time": "2023-09-13T19:55:44.308Z"
   },
   {
    "duration": 9,
    "start_time": "2023-09-13T19:55:44.468Z"
   },
   {
    "duration": 162,
    "start_time": "2023-09-13T19:55:44.478Z"
   },
   {
    "duration": 10,
    "start_time": "2023-09-13T19:55:44.642Z"
   },
   {
    "duration": 44,
    "start_time": "2023-09-13T19:55:44.654Z"
   },
   {
    "duration": 30,
    "start_time": "2023-09-13T19:55:44.700Z"
   },
   {
    "duration": 32,
    "start_time": "2023-09-13T19:55:44.733Z"
   },
   {
    "duration": 22,
    "start_time": "2023-09-13T19:55:44.767Z"
   },
   {
    "duration": 149,
    "start_time": "2023-09-13T19:55:44.791Z"
   },
   {
    "duration": 11,
    "start_time": "2023-09-13T19:55:44.942Z"
   },
   {
    "duration": 198,
    "start_time": "2023-09-13T19:55:44.955Z"
   },
   {
    "duration": 8,
    "start_time": "2023-09-13T19:55:45.155Z"
   },
   {
    "duration": 158,
    "start_time": "2023-09-13T19:55:45.165Z"
   },
   {
    "duration": 9,
    "start_time": "2023-09-13T19:55:45.325Z"
   },
   {
    "duration": 171,
    "start_time": "2023-09-13T19:55:45.335Z"
   },
   {
    "duration": 11,
    "start_time": "2023-09-13T19:55:45.509Z"
   },
   {
    "duration": 179,
    "start_time": "2023-09-13T19:55:45.522Z"
   },
   {
    "duration": 145,
    "start_time": "2023-09-13T19:55:45.703Z"
   },
   {
    "duration": 24,
    "start_time": "2023-09-13T19:55:45.850Z"
   },
   {
    "duration": 3,
    "start_time": "2023-09-13T19:55:45.875Z"
   },
   {
    "duration": 28,
    "start_time": "2023-09-13T19:55:45.879Z"
   },
   {
    "duration": 1498,
    "start_time": "2023-09-13T19:57:06.130Z"
   },
   {
    "duration": 3,
    "start_time": "2023-09-13T19:57:12.481Z"
   },
   {
    "duration": 66,
    "start_time": "2023-09-13T19:57:12.485Z"
   },
   {
    "duration": 8,
    "start_time": "2023-09-13T19:57:12.553Z"
   },
   {
    "duration": 39,
    "start_time": "2023-09-13T19:57:12.562Z"
   },
   {
    "duration": 7,
    "start_time": "2023-09-13T19:57:12.603Z"
   },
   {
    "duration": 29,
    "start_time": "2023-09-13T19:57:12.612Z"
   },
   {
    "duration": 10,
    "start_time": "2023-09-13T19:57:12.643Z"
   },
   {
    "duration": 11,
    "start_time": "2023-09-13T19:57:12.655Z"
   },
   {
    "duration": 13,
    "start_time": "2023-09-13T19:57:12.668Z"
   },
   {
    "duration": 7,
    "start_time": "2023-09-13T19:57:12.683Z"
   },
   {
    "duration": 6,
    "start_time": "2023-09-13T19:57:12.691Z"
   },
   {
    "duration": 11,
    "start_time": "2023-09-13T19:57:12.699Z"
   },
   {
    "duration": 5,
    "start_time": "2023-09-13T19:57:12.713Z"
   },
   {
    "duration": 5,
    "start_time": "2023-09-13T19:57:12.746Z"
   },
   {
    "duration": 7,
    "start_time": "2023-09-13T19:57:12.753Z"
   },
   {
    "duration": 9,
    "start_time": "2023-09-13T19:57:12.761Z"
   },
   {
    "duration": 15,
    "start_time": "2023-09-13T19:57:12.772Z"
   },
   {
    "duration": 173,
    "start_time": "2023-09-13T19:57:12.788Z"
   },
   {
    "duration": 212,
    "start_time": "2023-09-13T19:57:12.962Z"
   },
   {
    "duration": 2,
    "start_time": "2023-09-13T19:57:13.176Z"
   },
   {
    "duration": 170,
    "start_time": "2023-09-13T19:57:13.180Z"
   },
   {
    "duration": 8,
    "start_time": "2023-09-13T19:57:13.352Z"
   },
   {
    "duration": 170,
    "start_time": "2023-09-13T19:57:13.361Z"
   },
   {
    "duration": 16,
    "start_time": "2023-09-13T19:57:13.533Z"
   },
   {
    "duration": 155,
    "start_time": "2023-09-13T19:57:13.551Z"
   },
   {
    "duration": 9,
    "start_time": "2023-09-13T19:57:13.708Z"
   },
   {
    "duration": 35,
    "start_time": "2023-09-13T19:57:13.719Z"
   },
   {
    "duration": 25,
    "start_time": "2023-09-13T19:57:13.756Z"
   },
   {
    "duration": 18,
    "start_time": "2023-09-13T19:57:13.783Z"
   },
   {
    "duration": 45,
    "start_time": "2023-09-13T19:57:13.802Z"
   },
   {
    "duration": 135,
    "start_time": "2023-09-13T19:57:13.848Z"
   },
   {
    "duration": 8,
    "start_time": "2023-09-13T19:57:13.985Z"
   },
   {
    "duration": 175,
    "start_time": "2023-09-13T19:57:13.994Z"
   },
   {
    "duration": 9,
    "start_time": "2023-09-13T19:57:14.170Z"
   },
   {
    "duration": 172,
    "start_time": "2023-09-13T19:57:14.180Z"
   },
   {
    "duration": 10,
    "start_time": "2023-09-13T19:57:14.354Z"
   },
   {
    "duration": 153,
    "start_time": "2023-09-13T19:57:14.369Z"
   },
   {
    "duration": 22,
    "start_time": "2023-09-13T19:57:14.524Z"
   },
   {
    "duration": 136,
    "start_time": "2023-09-13T19:57:14.549Z"
   },
   {
    "duration": 144,
    "start_time": "2023-09-13T19:57:14.687Z"
   },
   {
    "duration": 32,
    "start_time": "2023-09-13T19:57:14.833Z"
   },
   {
    "duration": 4,
    "start_time": "2023-09-13T19:57:14.866Z"
   },
   {
    "duration": 50,
    "start_time": "2023-09-13T19:57:14.871Z"
   },
   {
    "duration": 35,
    "start_time": "2023-09-13T19:57:38.301Z"
   },
   {
    "duration": 89,
    "start_time": "2023-09-13T20:00:19.701Z"
   },
   {
    "duration": 0,
    "start_time": "2023-09-13T20:08:04.643Z"
   },
   {
    "duration": 2,
    "start_time": "2023-09-14T09:25:16.643Z"
   },
   {
    "duration": 37,
    "start_time": "2023-09-14T09:25:16.648Z"
   },
   {
    "duration": 9,
    "start_time": "2023-09-14T09:25:16.687Z"
   },
   {
    "duration": 36,
    "start_time": "2023-09-14T09:25:16.698Z"
   },
   {
    "duration": 8,
    "start_time": "2023-09-14T09:25:16.736Z"
   },
   {
    "duration": 22,
    "start_time": "2023-09-14T09:25:16.746Z"
   },
   {
    "duration": 11,
    "start_time": "2023-09-14T09:25:17.381Z"
   },
   {
    "duration": 11,
    "start_time": "2023-09-14T09:25:17.394Z"
   },
   {
    "duration": 17,
    "start_time": "2023-09-14T09:25:17.411Z"
   },
   {
    "duration": 7,
    "start_time": "2023-09-14T09:25:17.431Z"
   },
   {
    "duration": 9,
    "start_time": "2023-09-14T09:25:17.440Z"
   },
   {
    "duration": 27,
    "start_time": "2023-09-14T09:25:17.452Z"
   },
   {
    "duration": 15,
    "start_time": "2023-09-14T09:25:17.481Z"
   },
   {
    "duration": 7,
    "start_time": "2023-09-14T09:25:17.498Z"
   },
   {
    "duration": 7,
    "start_time": "2023-09-14T09:25:17.506Z"
   },
   {
    "duration": 8,
    "start_time": "2023-09-14T09:25:17.515Z"
   },
   {
    "duration": 6,
    "start_time": "2023-09-14T09:25:17.525Z"
   },
   {
    "duration": 171,
    "start_time": "2023-09-14T09:25:17.532Z"
   },
   {
    "duration": 117,
    "start_time": "2023-09-14T09:25:19.102Z"
   },
   {
    "duration": 2,
    "start_time": "2023-09-14T09:25:19.221Z"
   },
   {
    "duration": 164,
    "start_time": "2023-09-14T09:25:19.225Z"
   },
   {
    "duration": 9,
    "start_time": "2023-09-14T09:25:19.391Z"
   },
   {
    "duration": 153,
    "start_time": "2023-09-14T09:25:19.410Z"
   },
   {
    "duration": 11,
    "start_time": "2023-09-14T09:25:19.565Z"
   },
   {
    "duration": 161,
    "start_time": "2023-09-14T09:25:19.578Z"
   },
   {
    "duration": 9,
    "start_time": "2023-09-14T09:25:19.741Z"
   },
   {
    "duration": 24,
    "start_time": "2023-09-14T09:25:19.752Z"
   },
   {
    "duration": 50,
    "start_time": "2023-09-14T09:25:19.777Z"
   },
   {
    "duration": 18,
    "start_time": "2023-09-14T09:25:19.829Z"
   },
   {
    "duration": 16,
    "start_time": "2023-09-14T09:25:19.848Z"
   },
   {
    "duration": 151,
    "start_time": "2023-09-14T09:25:19.866Z"
   },
   {
    "duration": 9,
    "start_time": "2023-09-14T09:25:20.019Z"
   },
   {
    "duration": 177,
    "start_time": "2023-09-14T09:25:20.029Z"
   },
   {
    "duration": 9,
    "start_time": "2023-09-14T09:25:20.209Z"
   },
   {
    "duration": 157,
    "start_time": "2023-09-14T09:25:20.219Z"
   },
   {
    "duration": 9,
    "start_time": "2023-09-14T09:25:20.378Z"
   },
   {
    "duration": 234,
    "start_time": "2023-09-14T09:25:20.388Z"
   },
   {
    "duration": 8,
    "start_time": "2023-09-14T09:25:20.624Z"
   },
   {
    "duration": 159,
    "start_time": "2023-09-14T09:25:20.634Z"
   },
   {
    "duration": 145,
    "start_time": "2023-09-14T09:25:20.795Z"
   },
   {
    "duration": 23,
    "start_time": "2023-09-14T09:25:20.942Z"
   },
   {
    "duration": 2,
    "start_time": "2023-09-14T09:25:20.967Z"
   },
   {
    "duration": 82,
    "start_time": "2023-09-14T09:25:20.971Z"
   },
   {
    "duration": 45,
    "start_time": "2023-09-14T09:30:57.467Z"
   },
   {
    "duration": 57,
    "start_time": "2023-09-14T09:31:17.968Z"
   },
   {
    "duration": 55,
    "start_time": "2023-09-14T09:31:41.987Z"
   },
   {
    "duration": 44,
    "start_time": "2023-09-14T09:32:16.935Z"
   },
   {
    "duration": 234,
    "start_time": "2023-09-14T09:38:46.019Z"
   },
   {
    "duration": 254,
    "start_time": "2023-09-14T09:38:57.679Z"
   },
   {
    "duration": 233,
    "start_time": "2023-09-14T09:39:37.882Z"
   },
   {
    "duration": 242,
    "start_time": "2023-09-14T09:39:50.390Z"
   },
   {
    "duration": 251,
    "start_time": "2023-09-14T09:40:01.739Z"
   },
   {
    "duration": 245,
    "start_time": "2023-09-14T09:40:33.155Z"
   },
   {
    "duration": 578,
    "start_time": "2023-09-14T10:08:24.172Z"
   },
   {
    "duration": 35,
    "start_time": "2023-09-14T10:08:24.752Z"
   },
   {
    "duration": 9,
    "start_time": "2023-09-14T10:08:24.789Z"
   },
   {
    "duration": 35,
    "start_time": "2023-09-14T10:08:24.801Z"
   },
   {
    "duration": 8,
    "start_time": "2023-09-14T10:08:24.838Z"
   },
   {
    "duration": 32,
    "start_time": "2023-09-14T10:08:24.848Z"
   },
   {
    "duration": 11,
    "start_time": "2023-09-14T10:08:24.882Z"
   },
   {
    "duration": 20,
    "start_time": "2023-09-14T10:08:24.895Z"
   },
   {
    "duration": 19,
    "start_time": "2023-09-14T10:08:24.917Z"
   },
   {
    "duration": 18,
    "start_time": "2023-09-14T10:08:24.939Z"
   },
   {
    "duration": 12,
    "start_time": "2023-09-14T10:08:24.959Z"
   },
   {
    "duration": 25,
    "start_time": "2023-09-14T10:08:24.973Z"
   },
   {
    "duration": 22,
    "start_time": "2023-09-14T10:08:25.000Z"
   },
   {
    "duration": 12,
    "start_time": "2023-09-14T10:08:25.024Z"
   },
   {
    "duration": 31,
    "start_time": "2023-09-14T10:08:25.038Z"
   },
   {
    "duration": 17,
    "start_time": "2023-09-14T10:08:25.071Z"
   },
   {
    "duration": 10,
    "start_time": "2023-09-14T10:08:25.090Z"
   },
   {
    "duration": 184,
    "start_time": "2023-09-14T10:08:25.102Z"
   },
   {
    "duration": 164,
    "start_time": "2023-09-14T10:08:25.288Z"
   },
   {
    "duration": 3,
    "start_time": "2023-09-14T10:08:25.454Z"
   },
   {
    "duration": 169,
    "start_time": "2023-09-14T10:08:25.458Z"
   },
   {
    "duration": 9,
    "start_time": "2023-09-14T10:08:25.629Z"
   },
   {
    "duration": 171,
    "start_time": "2023-09-14T10:08:25.640Z"
   },
   {
    "duration": 10,
    "start_time": "2023-09-14T10:08:25.813Z"
   },
   {
    "duration": 165,
    "start_time": "2023-09-14T10:08:25.825Z"
   },
   {
    "duration": 18,
    "start_time": "2023-09-14T10:08:25.992Z"
   },
   {
    "duration": 36,
    "start_time": "2023-09-14T10:08:26.012Z"
   },
   {
    "duration": 44,
    "start_time": "2023-09-14T10:08:26.051Z"
   },
   {
    "duration": 42,
    "start_time": "2023-09-14T10:08:26.097Z"
   },
   {
    "duration": 21,
    "start_time": "2023-09-14T10:08:26.141Z"
   },
   {
    "duration": 123,
    "start_time": "2023-09-14T10:08:26.163Z"
   },
   {
    "duration": 10,
    "start_time": "2023-09-14T10:08:26.288Z"
   },
   {
    "duration": 254,
    "start_time": "2023-09-14T10:08:26.310Z"
   },
   {
    "duration": 10,
    "start_time": "2023-09-14T10:08:26.566Z"
   },
   {
    "duration": 178,
    "start_time": "2023-09-14T10:08:26.578Z"
   },
   {
    "duration": 10,
    "start_time": "2023-09-14T10:08:26.758Z"
   },
   {
    "duration": 155,
    "start_time": "2023-09-14T10:08:26.771Z"
   },
   {
    "duration": 9,
    "start_time": "2023-09-14T10:08:26.928Z"
   },
   {
    "duration": 150,
    "start_time": "2023-09-14T10:08:26.939Z"
   },
   {
    "duration": 166,
    "start_time": "2023-09-14T10:08:27.091Z"
   },
   {
    "duration": 23,
    "start_time": "2023-09-14T10:08:27.259Z"
   },
   {
    "duration": 11,
    "start_time": "2023-09-14T10:08:27.284Z"
   },
   {
    "duration": 284,
    "start_time": "2023-09-14T10:08:27.296Z"
   },
   {
    "duration": 7,
    "start_time": "2023-09-14T10:27:19.124Z"
   },
   {
    "duration": 13,
    "start_time": "2023-09-14T10:40:15.636Z"
   },
   {
    "duration": 21,
    "start_time": "2023-09-14T10:44:26.286Z"
   },
   {
    "duration": 40,
    "start_time": "2023-09-14T10:45:42.659Z"
   },
   {
    "duration": 7,
    "start_time": "2023-09-14T10:48:03.134Z"
   },
   {
    "duration": 11,
    "start_time": "2023-09-14T10:48:16.338Z"
   },
   {
    "duration": 7,
    "start_time": "2023-09-14T10:48:26.602Z"
   },
   {
    "duration": 9,
    "start_time": "2023-09-14T10:49:35.608Z"
   },
   {
    "duration": 12,
    "start_time": "2023-09-14T11:06:01.860Z"
   },
   {
    "duration": 3,
    "start_time": "2023-09-14T11:48:03.391Z"
   },
   {
    "duration": 9,
    "start_time": "2023-09-14T11:49:23.558Z"
   },
   {
    "duration": 44,
    "start_time": "2023-09-14T11:49:47.828Z"
   },
   {
    "duration": 31,
    "start_time": "2023-09-14T11:54:29.274Z"
   },
   {
    "duration": 12,
    "start_time": "2023-09-14T11:54:47.471Z"
   },
   {
    "duration": 6,
    "start_time": "2023-09-14T12:02:06.268Z"
   },
   {
    "duration": 9,
    "start_time": "2023-09-14T12:04:05.637Z"
   },
   {
    "duration": 4,
    "start_time": "2023-09-14T12:43:35.718Z"
   },
   {
    "duration": 54,
    "start_time": "2023-09-14T12:43:35.724Z"
   },
   {
    "duration": 9,
    "start_time": "2023-09-14T12:43:35.779Z"
   },
   {
    "duration": 38,
    "start_time": "2023-09-14T12:43:35.790Z"
   },
   {
    "duration": 8,
    "start_time": "2023-09-14T12:43:35.831Z"
   },
   {
    "duration": 22,
    "start_time": "2023-09-14T12:43:35.840Z"
   },
   {
    "duration": 11,
    "start_time": "2023-09-14T12:43:35.864Z"
   },
   {
    "duration": 5,
    "start_time": "2023-09-14T12:43:35.877Z"
   },
   {
    "duration": 32,
    "start_time": "2023-09-14T12:43:35.884Z"
   },
   {
    "duration": 7,
    "start_time": "2023-09-14T12:43:35.918Z"
   },
   {
    "duration": 5,
    "start_time": "2023-09-14T12:43:35.927Z"
   },
   {
    "duration": 8,
    "start_time": "2023-09-14T12:43:35.934Z"
   },
   {
    "duration": 5,
    "start_time": "2023-09-14T12:43:35.944Z"
   },
   {
    "duration": 6,
    "start_time": "2023-09-14T12:43:35.952Z"
   },
   {
    "duration": 51,
    "start_time": "2023-09-14T12:43:35.960Z"
   },
   {
    "duration": 9,
    "start_time": "2023-09-14T12:43:36.012Z"
   },
   {
    "duration": 6,
    "start_time": "2023-09-14T12:43:36.022Z"
   },
   {
    "duration": 195,
    "start_time": "2023-09-14T12:43:36.030Z"
   },
   {
    "duration": 130,
    "start_time": "2023-09-14T12:43:36.228Z"
   },
   {
    "duration": 2,
    "start_time": "2023-09-14T12:43:36.360Z"
   },
   {
    "duration": 164,
    "start_time": "2023-09-14T12:43:36.364Z"
   },
   {
    "duration": 10,
    "start_time": "2023-09-14T12:43:36.530Z"
   },
   {
    "duration": 170,
    "start_time": "2023-09-14T12:43:36.541Z"
   },
   {
    "duration": 10,
    "start_time": "2023-09-14T12:43:36.713Z"
   },
   {
    "duration": 161,
    "start_time": "2023-09-14T12:43:36.724Z"
   },
   {
    "duration": 22,
    "start_time": "2023-09-14T12:43:36.888Z"
   },
   {
    "duration": 27,
    "start_time": "2023-09-14T12:43:36.912Z"
   },
   {
    "duration": 26,
    "start_time": "2023-09-14T12:43:36.940Z"
   },
   {
    "duration": 43,
    "start_time": "2023-09-14T12:43:36.968Z"
   },
   {
    "duration": 17,
    "start_time": "2023-09-14T12:43:37.013Z"
   },
   {
    "duration": 260,
    "start_time": "2023-09-14T12:43:37.032Z"
   },
   {
    "duration": 17,
    "start_time": "2023-09-14T12:43:37.294Z"
   },
   {
    "duration": 170,
    "start_time": "2023-09-14T12:43:37.313Z"
   },
   {
    "duration": 8,
    "start_time": "2023-09-14T12:43:37.485Z"
   },
   {
    "duration": 156,
    "start_time": "2023-09-14T12:43:37.494Z"
   },
   {
    "duration": 8,
    "start_time": "2023-09-14T12:43:37.653Z"
   },
   {
    "duration": 151,
    "start_time": "2023-09-14T12:43:37.663Z"
   },
   {
    "duration": 10,
    "start_time": "2023-09-14T12:43:37.816Z"
   },
   {
    "duration": 158,
    "start_time": "2023-09-14T12:43:37.828Z"
   },
   {
    "duration": 146,
    "start_time": "2023-09-14T12:43:37.989Z"
   },
   {
    "duration": 24,
    "start_time": "2023-09-14T12:43:38.138Z"
   },
   {
    "duration": 2,
    "start_time": "2023-09-14T12:43:38.164Z"
   },
   {
    "duration": 275,
    "start_time": "2023-09-14T12:43:38.168Z"
   },
   {
    "duration": 22,
    "start_time": "2023-09-14T12:43:38.445Z"
   },
   {
    "duration": 7,
    "start_time": "2023-09-14T12:43:38.469Z"
   },
   {
    "duration": 33,
    "start_time": "2023-09-14T12:43:38.478Z"
   },
   {
    "duration": 11,
    "start_time": "2023-09-14T12:43:38.514Z"
   },
   {
    "duration": 6,
    "start_time": "2023-09-14T12:44:32.123Z"
   },
   {
    "duration": 157,
    "start_time": "2023-09-14T12:46:59.377Z"
   },
   {
    "duration": 157,
    "start_time": "2023-09-14T12:48:55.053Z"
   },
   {
    "duration": 161,
    "start_time": "2023-09-14T12:48:59.936Z"
   },
   {
    "duration": 14,
    "start_time": "2023-09-14T12:50:02.456Z"
   },
   {
    "duration": 9,
    "start_time": "2023-09-14T12:50:09.396Z"
   },
   {
    "duration": 131,
    "start_time": "2023-09-14T12:50:27.995Z"
   },
   {
    "duration": 239,
    "start_time": "2023-09-14T12:50:35.012Z"
   },
   {
    "duration": 151,
    "start_time": "2023-09-14T12:50:49.191Z"
   },
   {
    "duration": 148,
    "start_time": "2023-09-14T12:50:58.336Z"
   },
   {
    "duration": 148,
    "start_time": "2023-09-14T12:51:04.358Z"
   },
   {
    "duration": 15,
    "start_time": "2023-09-14T12:51:50.232Z"
   },
   {
    "duration": 122,
    "start_time": "2023-09-14T12:57:28.860Z"
   },
   {
    "duration": 11,
    "start_time": "2023-09-14T13:08:57.240Z"
   },
   {
    "duration": 19,
    "start_time": "2023-09-14T13:09:06.916Z"
   },
   {
    "duration": 3,
    "start_time": "2023-09-14T13:09:31.684Z"
   },
   {
    "duration": 178,
    "start_time": "2023-09-14T13:09:31.688Z"
   },
   {
    "duration": 42,
    "start_time": "2023-09-14T13:09:31.868Z"
   },
   {
    "duration": 44,
    "start_time": "2023-09-14T13:09:31.912Z"
   },
   {
    "duration": 9,
    "start_time": "2023-09-14T13:09:31.959Z"
   },
   {
    "duration": 80,
    "start_time": "2023-09-14T13:09:31.970Z"
   },
   {
    "duration": 35,
    "start_time": "2023-09-14T13:09:32.052Z"
   },
   {
    "duration": 42,
    "start_time": "2023-09-14T13:09:32.089Z"
   },
   {
    "duration": 163,
    "start_time": "2023-09-14T13:09:32.132Z"
   },
   {
    "duration": 144,
    "start_time": "2023-09-14T13:09:32.297Z"
   },
   {
    "duration": 143,
    "start_time": "2023-09-14T13:09:32.443Z"
   },
   {
    "duration": 29,
    "start_time": "2023-09-14T13:09:32.588Z"
   },
   {
    "duration": 24,
    "start_time": "2023-09-14T13:09:32.619Z"
   },
   {
    "duration": 7,
    "start_time": "2023-09-14T13:09:32.647Z"
   },
   {
    "duration": 29,
    "start_time": "2023-09-14T13:09:32.656Z"
   },
   {
    "duration": 27,
    "start_time": "2023-09-14T13:09:32.687Z"
   },
   {
    "duration": 8,
    "start_time": "2023-09-14T13:09:32.716Z"
   },
   {
    "duration": 166,
    "start_time": "2023-09-14T13:09:32.726Z"
   },
   {
    "duration": 124,
    "start_time": "2023-09-14T13:09:32.894Z"
   },
   {
    "duration": 17,
    "start_time": "2023-09-14T13:09:33.020Z"
   },
   {
    "duration": 0,
    "start_time": "2023-09-14T13:09:33.039Z"
   },
   {
    "duration": 0,
    "start_time": "2023-09-14T13:09:33.040Z"
   },
   {
    "duration": 0,
    "start_time": "2023-09-14T13:09:33.042Z"
   },
   {
    "duration": 0,
    "start_time": "2023-09-14T13:09:33.044Z"
   },
   {
    "duration": 0,
    "start_time": "2023-09-14T13:09:33.045Z"
   },
   {
    "duration": 0,
    "start_time": "2023-09-14T13:09:33.047Z"
   },
   {
    "duration": 0,
    "start_time": "2023-09-14T13:09:33.048Z"
   },
   {
    "duration": 0,
    "start_time": "2023-09-14T13:09:33.050Z"
   },
   {
    "duration": 0,
    "start_time": "2023-09-14T13:09:33.051Z"
   },
   {
    "duration": 0,
    "start_time": "2023-09-14T13:09:33.052Z"
   },
   {
    "duration": 0,
    "start_time": "2023-09-14T13:09:33.054Z"
   },
   {
    "duration": 0,
    "start_time": "2023-09-14T13:09:33.055Z"
   },
   {
    "duration": 0,
    "start_time": "2023-09-14T13:09:33.057Z"
   },
   {
    "duration": 0,
    "start_time": "2023-09-14T13:09:33.058Z"
   },
   {
    "duration": 0,
    "start_time": "2023-09-14T13:09:33.060Z"
   },
   {
    "duration": 0,
    "start_time": "2023-09-14T13:09:33.061Z"
   },
   {
    "duration": 0,
    "start_time": "2023-09-14T13:09:33.110Z"
   },
   {
    "duration": 0,
    "start_time": "2023-09-14T13:09:33.111Z"
   },
   {
    "duration": 0,
    "start_time": "2023-09-14T13:09:33.113Z"
   },
   {
    "duration": 0,
    "start_time": "2023-09-14T13:09:33.115Z"
   },
   {
    "duration": 0,
    "start_time": "2023-09-14T13:09:33.116Z"
   },
   {
    "duration": 0,
    "start_time": "2023-09-14T13:09:33.118Z"
   },
   {
    "duration": 0,
    "start_time": "2023-09-14T13:09:33.119Z"
   },
   {
    "duration": 0,
    "start_time": "2023-09-14T13:09:33.121Z"
   },
   {
    "duration": 1,
    "start_time": "2023-09-14T13:09:33.122Z"
   },
   {
    "duration": 0,
    "start_time": "2023-09-14T13:09:33.124Z"
   },
   {
    "duration": 1,
    "start_time": "2023-09-14T13:09:33.125Z"
   },
   {
    "duration": 16,
    "start_time": "2023-09-14T13:11:02.380Z"
   },
   {
    "duration": 9,
    "start_time": "2023-09-14T13:12:05.960Z"
   },
   {
    "duration": 1767,
    "start_time": "2023-09-14T13:12:56.704Z"
   },
   {
    "duration": 7,
    "start_time": "2023-09-14T13:15:59.815Z"
   },
   {
    "duration": 10,
    "start_time": "2023-09-14T13:16:03.722Z"
   },
   {
    "duration": 3,
    "start_time": "2023-09-14T13:18:54.406Z"
   },
   {
    "duration": 38,
    "start_time": "2023-09-14T13:18:54.411Z"
   },
   {
    "duration": 9,
    "start_time": "2023-09-14T13:18:54.451Z"
   },
   {
    "duration": 40,
    "start_time": "2023-09-14T13:18:54.461Z"
   },
   {
    "duration": 12,
    "start_time": "2023-09-14T13:18:54.503Z"
   },
   {
    "duration": 24,
    "start_time": "2023-09-14T13:18:54.517Z"
   },
   {
    "duration": 11,
    "start_time": "2023-09-14T13:18:54.543Z"
   },
   {
    "duration": 11,
    "start_time": "2023-09-14T13:18:54.556Z"
   },
   {
    "duration": 20,
    "start_time": "2023-09-14T13:18:54.569Z"
   },
   {
    "duration": 19,
    "start_time": "2023-09-14T13:18:54.591Z"
   },
   {
    "duration": 7,
    "start_time": "2023-09-14T13:18:54.612Z"
   },
   {
    "duration": 22,
    "start_time": "2023-09-14T13:18:54.620Z"
   },
   {
    "duration": 6,
    "start_time": "2023-09-14T13:18:54.645Z"
   },
   {
    "duration": 27,
    "start_time": "2023-09-14T13:18:54.652Z"
   },
   {
    "duration": 14,
    "start_time": "2023-09-14T13:18:54.680Z"
   },
   {
    "duration": 14,
    "start_time": "2023-09-14T13:18:54.696Z"
   },
   {
    "duration": 9,
    "start_time": "2023-09-14T13:18:54.712Z"
   },
   {
    "duration": 165,
    "start_time": "2023-09-14T13:18:54.723Z"
   },
   {
    "duration": 128,
    "start_time": "2023-09-14T13:18:54.890Z"
   },
   {
    "duration": 10,
    "start_time": "2023-09-14T13:18:55.020Z"
   },
   {
    "duration": 172,
    "start_time": "2023-09-14T13:18:55.031Z"
   },
   {
    "duration": 11,
    "start_time": "2023-09-14T13:18:55.204Z"
   },
   {
    "duration": 175,
    "start_time": "2023-09-14T13:18:55.217Z"
   },
   {
    "duration": 17,
    "start_time": "2023-09-14T13:18:55.394Z"
   },
   {
    "duration": 250,
    "start_time": "2023-09-14T13:18:55.413Z"
   },
   {
    "duration": 9,
    "start_time": "2023-09-14T13:18:55.665Z"
   },
   {
    "duration": 41,
    "start_time": "2023-09-14T13:18:55.676Z"
   },
   {
    "duration": 26,
    "start_time": "2023-09-14T13:18:55.719Z"
   },
   {
    "duration": 18,
    "start_time": "2023-09-14T13:18:55.747Z"
   },
   {
    "duration": 43,
    "start_time": "2023-09-14T13:18:55.767Z"
   },
   {
    "duration": 146,
    "start_time": "2023-09-14T13:18:55.812Z"
   },
   {
    "duration": 10,
    "start_time": "2023-09-14T13:18:55.960Z"
   },
   {
    "duration": 173,
    "start_time": "2023-09-14T13:18:55.971Z"
   },
   {
    "duration": 8,
    "start_time": "2023-09-14T13:18:56.146Z"
   },
   {
    "duration": 154,
    "start_time": "2023-09-14T13:18:56.155Z"
   },
   {
    "duration": 9,
    "start_time": "2023-09-14T13:18:56.311Z"
   },
   {
    "duration": 158,
    "start_time": "2023-09-14T13:18:56.324Z"
   },
   {
    "duration": 10,
    "start_time": "2023-09-14T13:18:56.484Z"
   },
   {
    "duration": 152,
    "start_time": "2023-09-14T13:18:56.495Z"
   },
   {
    "duration": 142,
    "start_time": "2023-09-14T13:18:56.648Z"
   },
   {
    "duration": 31,
    "start_time": "2023-09-14T13:18:56.792Z"
   },
   {
    "duration": 3,
    "start_time": "2023-09-14T13:18:56.825Z"
   },
   {
    "duration": 261,
    "start_time": "2023-09-14T13:18:56.830Z"
   },
   {
    "duration": 32,
    "start_time": "2023-09-14T13:18:57.093Z"
   },
   {
    "duration": 6,
    "start_time": "2023-09-14T13:18:57.128Z"
   },
   {
    "duration": 58,
    "start_time": "2023-09-14T13:18:57.136Z"
   },
   {
    "duration": 23,
    "start_time": "2023-09-14T13:18:57.195Z"
   },
   {
    "duration": 143,
    "start_time": "2023-09-14T13:21:31.339Z"
   },
   {
    "duration": 9,
    "start_time": "2023-09-14T13:22:14.567Z"
   },
   {
    "duration": 139,
    "start_time": "2023-09-14T13:24:48.722Z"
   },
   {
    "duration": 9,
    "start_time": "2023-09-14T13:25:55.398Z"
   },
   {
    "duration": 9,
    "start_time": "2023-09-14T13:50:17.241Z"
   },
   {
    "duration": 30,
    "start_time": "2023-09-14T13:58:02.194Z"
   },
   {
    "duration": 20,
    "start_time": "2023-09-14T14:00:55.680Z"
   },
   {
    "duration": 10,
    "start_time": "2023-09-14T14:29:26.386Z"
   },
   {
    "duration": 142,
    "start_time": "2023-09-14T14:34:54.516Z"
   },
   {
    "duration": 232,
    "start_time": "2023-09-14T14:36:04.686Z"
   },
   {
    "duration": 137,
    "start_time": "2023-09-14T14:38:10.943Z"
   },
   {
    "duration": 3,
    "start_time": "2023-09-14T15:53:31.923Z"
   },
   {
    "duration": 2,
    "start_time": "2023-09-14T15:53:36.261Z"
   },
   {
    "duration": 46,
    "start_time": "2023-09-14T15:53:36.265Z"
   },
   {
    "duration": 9,
    "start_time": "2023-09-14T15:53:36.312Z"
   },
   {
    "duration": 41,
    "start_time": "2023-09-14T15:53:36.324Z"
   },
   {
    "duration": 8,
    "start_time": "2023-09-14T15:53:36.367Z"
   },
   {
    "duration": 103,
    "start_time": "2023-09-14T15:53:36.376Z"
   },
   {
    "duration": 28,
    "start_time": "2023-09-14T15:53:36.480Z"
   },
   {
    "duration": 23,
    "start_time": "2023-09-14T15:53:36.509Z"
   },
   {
    "duration": 24,
    "start_time": "2023-09-14T15:53:36.534Z"
   },
   {
    "duration": 9,
    "start_time": "2023-09-14T15:53:36.561Z"
   },
   {
    "duration": 7,
    "start_time": "2023-09-14T15:53:36.572Z"
   },
   {
    "duration": 12,
    "start_time": "2023-09-14T15:53:36.581Z"
   },
   {
    "duration": 21,
    "start_time": "2023-09-14T15:53:36.594Z"
   },
   {
    "duration": 29,
    "start_time": "2023-09-14T15:53:36.617Z"
   },
   {
    "duration": 18,
    "start_time": "2023-09-14T15:53:36.648Z"
   },
   {
    "duration": 29,
    "start_time": "2023-09-14T15:53:36.667Z"
   },
   {
    "duration": 18,
    "start_time": "2023-09-14T15:53:36.698Z"
   },
   {
    "duration": 167,
    "start_time": "2023-09-14T15:53:36.718Z"
   },
   {
    "duration": 119,
    "start_time": "2023-09-14T15:53:36.887Z"
   },
   {
    "duration": 10,
    "start_time": "2023-09-14T15:53:37.008Z"
   },
   {
    "duration": 153,
    "start_time": "2023-09-14T15:53:37.019Z"
   },
   {
    "duration": 8,
    "start_time": "2023-09-14T15:53:37.174Z"
   },
   {
    "duration": 155,
    "start_time": "2023-09-14T15:53:37.184Z"
   },
   {
    "duration": 9,
    "start_time": "2023-09-14T15:53:37.342Z"
   },
   {
    "duration": 156,
    "start_time": "2023-09-14T15:53:37.353Z"
   },
   {
    "duration": 8,
    "start_time": "2023-09-14T15:53:37.511Z"
   },
   {
    "duration": 36,
    "start_time": "2023-09-14T15:53:37.521Z"
   },
   {
    "duration": 25,
    "start_time": "2023-09-14T15:53:37.558Z"
   },
   {
    "duration": 38,
    "start_time": "2023-09-14T15:53:37.584Z"
   },
   {
    "duration": 16,
    "start_time": "2023-09-14T15:53:37.624Z"
   },
   {
    "duration": 138,
    "start_time": "2023-09-14T15:53:37.642Z"
   },
   {
    "duration": 8,
    "start_time": "2023-09-14T15:53:37.782Z"
   },
   {
    "duration": 179,
    "start_time": "2023-09-14T15:53:37.792Z"
   },
   {
    "duration": 9,
    "start_time": "2023-09-14T15:53:37.973Z"
   },
   {
    "duration": 157,
    "start_time": "2023-09-14T15:53:37.983Z"
   },
   {
    "duration": 9,
    "start_time": "2023-09-14T15:53:38.142Z"
   },
   {
    "duration": 147,
    "start_time": "2023-09-14T15:53:38.153Z"
   },
   {
    "duration": 14,
    "start_time": "2023-09-14T15:53:38.302Z"
   },
   {
    "duration": 145,
    "start_time": "2023-09-14T15:53:38.319Z"
   },
   {
    "duration": 245,
    "start_time": "2023-09-14T15:53:38.467Z"
   },
   {
    "duration": 3,
    "start_time": "2023-09-14T15:53:38.714Z"
   },
   {
    "duration": 13,
    "start_time": "2023-09-14T15:53:38.719Z"
   },
   {
    "duration": 245,
    "start_time": "2023-09-14T15:53:38.734Z"
   },
   {
    "duration": 19,
    "start_time": "2023-09-14T15:53:38.981Z"
   },
   {
    "duration": 8,
    "start_time": "2023-09-14T15:53:39.010Z"
   },
   {
    "duration": 23,
    "start_time": "2023-09-14T15:53:39.020Z"
   },
   {
    "duration": 33,
    "start_time": "2023-09-14T15:53:39.044Z"
   },
   {
    "duration": 3,
    "start_time": "2023-09-14T15:54:13.091Z"
   },
   {
    "duration": 78,
    "start_time": "2023-09-14T15:54:13.095Z"
   },
   {
    "duration": 8,
    "start_time": "2023-09-14T15:54:13.175Z"
   },
   {
    "duration": 36,
    "start_time": "2023-09-14T15:54:13.185Z"
   },
   {
    "duration": 7,
    "start_time": "2023-09-14T15:54:13.223Z"
   },
   {
    "duration": 23,
    "start_time": "2023-09-14T15:54:13.232Z"
   },
   {
    "duration": 10,
    "start_time": "2023-09-14T15:54:13.257Z"
   },
   {
    "duration": 11,
    "start_time": "2023-09-14T15:54:13.268Z"
   },
   {
    "duration": 16,
    "start_time": "2023-09-14T15:54:13.282Z"
   },
   {
    "duration": 9,
    "start_time": "2023-09-14T15:54:13.310Z"
   },
   {
    "duration": 16,
    "start_time": "2023-09-14T15:54:13.321Z"
   },
   {
    "duration": 11,
    "start_time": "2023-09-14T15:54:13.339Z"
   },
   {
    "duration": 8,
    "start_time": "2023-09-14T15:54:13.352Z"
   },
   {
    "duration": 23,
    "start_time": "2023-09-14T15:54:13.362Z"
   },
   {
    "duration": 14,
    "start_time": "2023-09-14T15:54:13.387Z"
   },
   {
    "duration": 8,
    "start_time": "2023-09-14T15:54:13.409Z"
   },
   {
    "duration": 5,
    "start_time": "2023-09-14T15:54:13.419Z"
   },
   {
    "duration": 164,
    "start_time": "2023-09-14T15:54:13.426Z"
   },
   {
    "duration": 119,
    "start_time": "2023-09-14T15:54:13.592Z"
   },
   {
    "duration": 9,
    "start_time": "2023-09-14T15:54:13.713Z"
   },
   {
    "duration": 167,
    "start_time": "2023-09-14T15:54:13.724Z"
   },
   {
    "duration": 17,
    "start_time": "2023-09-14T15:54:13.893Z"
   },
   {
    "duration": 165,
    "start_time": "2023-09-14T15:54:13.912Z"
   },
   {
    "duration": 9,
    "start_time": "2023-09-14T15:54:14.082Z"
   },
   {
    "duration": 160,
    "start_time": "2023-09-14T15:54:14.093Z"
   },
   {
    "duration": 9,
    "start_time": "2023-09-14T15:54:14.254Z"
   },
   {
    "duration": 24,
    "start_time": "2023-09-14T15:54:14.264Z"
   },
   {
    "duration": 29,
    "start_time": "2023-09-14T15:54:14.308Z"
   },
   {
    "duration": 18,
    "start_time": "2023-09-14T15:54:14.339Z"
   },
   {
    "duration": 17,
    "start_time": "2023-09-14T15:54:14.359Z"
   },
   {
    "duration": 180,
    "start_time": "2023-09-14T15:54:14.378Z"
   },
   {
    "duration": 10,
    "start_time": "2023-09-14T15:54:14.560Z"
   },
   {
    "duration": 185,
    "start_time": "2023-09-14T15:54:14.573Z"
   },
   {
    "duration": 10,
    "start_time": "2023-09-14T15:54:14.760Z"
   },
   {
    "duration": 171,
    "start_time": "2023-09-14T15:54:14.773Z"
   },
   {
    "duration": 12,
    "start_time": "2023-09-14T15:54:14.946Z"
   },
   {
    "duration": 184,
    "start_time": "2023-09-14T15:54:14.960Z"
   },
   {
    "duration": 8,
    "start_time": "2023-09-14T15:54:15.146Z"
   },
   {
    "duration": 299,
    "start_time": "2023-09-14T15:54:15.156Z"
   },
   {
    "duration": 152,
    "start_time": "2023-09-14T15:54:15.457Z"
   },
   {
    "duration": 2,
    "start_time": "2023-09-14T15:54:15.611Z"
   },
   {
    "duration": 11,
    "start_time": "2023-09-14T15:54:15.615Z"
   },
   {
    "duration": 246,
    "start_time": "2023-09-14T15:54:15.628Z"
   },
   {
    "duration": 22,
    "start_time": "2023-09-14T15:54:15.876Z"
   },
   {
    "duration": 7,
    "start_time": "2023-09-14T15:54:15.908Z"
   },
   {
    "duration": 13,
    "start_time": "2023-09-14T15:54:15.917Z"
   },
   {
    "duration": 20,
    "start_time": "2023-09-14T15:54:15.932Z"
   },
   {
    "duration": 1332,
    "start_time": "2023-09-14T20:21:42.272Z"
   },
   {
    "duration": 108,
    "start_time": "2023-09-14T20:21:43.606Z"
   },
   {
    "duration": 8,
    "start_time": "2023-09-14T20:21:43.716Z"
   },
   {
    "duration": 86,
    "start_time": "2023-09-14T20:21:43.725Z"
   },
   {
    "duration": 7,
    "start_time": "2023-09-14T20:21:43.814Z"
   },
   {
    "duration": 75,
    "start_time": "2023-09-14T20:21:43.822Z"
   },
   {
    "duration": 11,
    "start_time": "2023-09-14T20:21:43.899Z"
   },
   {
    "duration": 22,
    "start_time": "2023-09-14T20:21:43.912Z"
   },
   {
    "duration": 12,
    "start_time": "2023-09-14T20:21:43.936Z"
   },
   {
    "duration": 19,
    "start_time": "2023-09-14T20:21:43.950Z"
   },
   {
    "duration": 8,
    "start_time": "2023-09-14T20:21:43.971Z"
   },
   {
    "duration": 14,
    "start_time": "2023-09-14T20:21:43.981Z"
   },
   {
    "duration": 8,
    "start_time": "2023-09-14T20:21:43.997Z"
   },
   {
    "duration": 18,
    "start_time": "2023-09-14T20:21:44.008Z"
   },
   {
    "duration": 23,
    "start_time": "2023-09-14T20:21:44.028Z"
   },
   {
    "duration": 20,
    "start_time": "2023-09-14T20:21:44.053Z"
   },
   {
    "duration": 6,
    "start_time": "2023-09-14T20:21:44.076Z"
   },
   {
    "duration": 210,
    "start_time": "2023-09-14T20:21:44.084Z"
   },
   {
    "duration": 117,
    "start_time": "2023-09-14T20:21:44.296Z"
   },
   {
    "duration": 9,
    "start_time": "2023-09-14T20:21:44.414Z"
   },
   {
    "duration": 154,
    "start_time": "2023-09-14T20:21:44.425Z"
   },
   {
    "duration": 8,
    "start_time": "2023-09-14T20:21:44.581Z"
   },
   {
    "duration": 145,
    "start_time": "2023-09-14T20:21:44.591Z"
   },
   {
    "duration": 29,
    "start_time": "2023-09-14T20:21:44.738Z"
   },
   {
    "duration": 143,
    "start_time": "2023-09-14T20:21:44.769Z"
   },
   {
    "duration": 7,
    "start_time": "2023-09-14T20:21:44.914Z"
   },
   {
    "duration": 75,
    "start_time": "2023-09-14T20:21:44.923Z"
   },
   {
    "duration": 23,
    "start_time": "2023-09-14T20:21:45.000Z"
   },
   {
    "duration": 54,
    "start_time": "2023-09-14T20:21:45.024Z"
   },
   {
    "duration": 19,
    "start_time": "2023-09-14T20:21:45.080Z"
   },
   {
    "duration": 159,
    "start_time": "2023-09-14T20:21:45.101Z"
   },
   {
    "duration": 9,
    "start_time": "2023-09-14T20:21:45.262Z"
   },
   {
    "duration": 153,
    "start_time": "2023-09-14T20:21:45.273Z"
   },
   {
    "duration": 8,
    "start_time": "2023-09-14T20:21:45.428Z"
   },
   {
    "duration": 153,
    "start_time": "2023-09-14T20:21:45.438Z"
   },
   {
    "duration": 8,
    "start_time": "2023-09-14T20:21:45.592Z"
   },
   {
    "duration": 167,
    "start_time": "2023-09-14T20:21:45.602Z"
   },
   {
    "duration": 9,
    "start_time": "2023-09-14T20:21:45.771Z"
   },
   {
    "duration": 236,
    "start_time": "2023-09-14T20:21:45.781Z"
   },
   {
    "duration": 170,
    "start_time": "2023-09-14T20:21:46.019Z"
   },
   {
    "duration": 158,
    "start_time": "2023-09-14T20:21:46.193Z"
   },
   {
    "duration": 0,
    "start_time": "2023-09-14T20:21:46.352Z"
   },
   {
    "duration": 0,
    "start_time": "2023-09-14T20:21:46.353Z"
   },
   {
    "duration": 0,
    "start_time": "2023-09-14T20:21:46.354Z"
   },
   {
    "duration": 0,
    "start_time": "2023-09-14T20:21:46.355Z"
   },
   {
    "duration": 213,
    "start_time": "2023-09-14T20:22:31.326Z"
   },
   {
    "duration": 3,
    "start_time": "2023-09-14T20:22:36.282Z"
   },
   {
    "duration": 41,
    "start_time": "2023-09-14T20:22:36.287Z"
   },
   {
    "duration": 8,
    "start_time": "2023-09-14T20:22:36.330Z"
   },
   {
    "duration": 49,
    "start_time": "2023-09-14T20:22:36.340Z"
   },
   {
    "duration": 6,
    "start_time": "2023-09-14T20:22:36.391Z"
   },
   {
    "duration": 25,
    "start_time": "2023-09-14T20:22:36.399Z"
   },
   {
    "duration": 9,
    "start_time": "2023-09-14T20:22:36.425Z"
   },
   {
    "duration": 32,
    "start_time": "2023-09-14T20:22:36.435Z"
   },
   {
    "duration": 14,
    "start_time": "2023-09-14T20:22:36.469Z"
   },
   {
    "duration": 16,
    "start_time": "2023-09-14T20:22:36.485Z"
   },
   {
    "duration": 5,
    "start_time": "2023-09-14T20:22:36.502Z"
   },
   {
    "duration": 12,
    "start_time": "2023-09-14T20:22:36.508Z"
   },
   {
    "duration": 18,
    "start_time": "2023-09-14T20:22:36.521Z"
   },
   {
    "duration": 27,
    "start_time": "2023-09-14T20:22:36.541Z"
   },
   {
    "duration": 13,
    "start_time": "2023-09-14T20:22:36.569Z"
   },
   {
    "duration": 13,
    "start_time": "2023-09-14T20:22:36.583Z"
   },
   {
    "duration": 12,
    "start_time": "2023-09-14T20:22:36.598Z"
   },
   {
    "duration": 127,
    "start_time": "2023-09-14T20:22:36.611Z"
   },
   {
    "duration": 124,
    "start_time": "2023-09-14T20:22:36.739Z"
   },
   {
    "duration": 10,
    "start_time": "2023-09-14T20:22:36.867Z"
   },
   {
    "duration": 146,
    "start_time": "2023-09-14T20:22:36.879Z"
   },
   {
    "duration": 7,
    "start_time": "2023-09-14T20:22:37.027Z"
   },
   {
    "duration": 131,
    "start_time": "2023-09-14T20:22:37.036Z"
   },
   {
    "duration": 8,
    "start_time": "2023-09-14T20:22:37.170Z"
   },
   {
    "duration": 131,
    "start_time": "2023-09-14T20:22:37.179Z"
   },
   {
    "duration": 8,
    "start_time": "2023-09-14T20:22:37.312Z"
   },
   {
    "duration": 30,
    "start_time": "2023-09-14T20:22:37.321Z"
   },
   {
    "duration": 33,
    "start_time": "2023-09-14T20:22:37.352Z"
   },
   {
    "duration": 23,
    "start_time": "2023-09-14T20:22:37.387Z"
   },
   {
    "duration": 44,
    "start_time": "2023-09-14T20:22:37.412Z"
   },
   {
    "duration": 112,
    "start_time": "2023-09-14T20:22:37.457Z"
   },
   {
    "duration": 8,
    "start_time": "2023-09-14T20:22:37.570Z"
   },
   {
    "duration": 136,
    "start_time": "2023-09-14T20:22:37.579Z"
   },
   {
    "duration": 7,
    "start_time": "2023-09-14T20:22:37.717Z"
   },
   {
    "duration": 253,
    "start_time": "2023-09-14T20:22:37.725Z"
   },
   {
    "duration": 7,
    "start_time": "2023-09-14T20:22:37.980Z"
   },
   {
    "duration": 117,
    "start_time": "2023-09-14T20:22:37.989Z"
   },
   {
    "duration": 6,
    "start_time": "2023-09-14T20:22:38.108Z"
   },
   {
    "duration": 125,
    "start_time": "2023-09-14T20:22:38.115Z"
   },
   {
    "duration": 129,
    "start_time": "2023-09-14T20:22:38.242Z"
   },
   {
    "duration": 227,
    "start_time": "2023-09-14T20:22:38.373Z"
   },
   {
    "duration": 18,
    "start_time": "2023-09-14T20:22:38.602Z"
   },
   {
    "duration": 6,
    "start_time": "2023-09-14T20:22:38.621Z"
   },
   {
    "duration": 27,
    "start_time": "2023-09-14T20:22:38.628Z"
   },
   {
    "duration": 9,
    "start_time": "2023-09-14T20:22:38.660Z"
   },
   {
    "duration": 4,
    "start_time": "2023-09-14T20:23:15.523Z"
   },
   {
    "duration": 67,
    "start_time": "2023-09-14T20:23:15.530Z"
   },
   {
    "duration": 12,
    "start_time": "2023-09-14T20:23:15.599Z"
   },
   {
    "duration": 63,
    "start_time": "2023-09-14T20:23:15.612Z"
   },
   {
    "duration": 9,
    "start_time": "2023-09-14T20:23:15.677Z"
   },
   {
    "duration": 23,
    "start_time": "2023-09-14T20:23:15.688Z"
   },
   {
    "duration": 10,
    "start_time": "2023-09-14T20:23:15.713Z"
   },
   {
    "duration": 35,
    "start_time": "2023-09-14T20:23:15.724Z"
   },
   {
    "duration": 32,
    "start_time": "2023-09-14T20:23:15.760Z"
   },
   {
    "duration": 7,
    "start_time": "2023-09-14T20:23:15.793Z"
   },
   {
    "duration": 16,
    "start_time": "2023-09-14T20:23:15.802Z"
   },
   {
    "duration": 19,
    "start_time": "2023-09-14T20:23:15.820Z"
   },
   {
    "duration": 5,
    "start_time": "2023-09-14T20:23:15.841Z"
   },
   {
    "duration": 15,
    "start_time": "2023-09-14T20:23:15.847Z"
   },
   {
    "duration": 11,
    "start_time": "2023-09-14T20:23:15.868Z"
   },
   {
    "duration": 35,
    "start_time": "2023-09-14T20:23:15.880Z"
   },
   {
    "duration": 6,
    "start_time": "2023-09-14T20:23:15.917Z"
   },
   {
    "duration": 191,
    "start_time": "2023-09-14T20:23:15.925Z"
   },
   {
    "duration": 167,
    "start_time": "2023-09-14T20:23:16.118Z"
   },
   {
    "duration": 9,
    "start_time": "2023-09-14T20:23:16.288Z"
   },
   {
    "duration": 152,
    "start_time": "2023-09-14T20:23:16.298Z"
   },
   {
    "duration": 18,
    "start_time": "2023-09-14T20:23:16.453Z"
   },
   {
    "duration": 128,
    "start_time": "2023-09-14T20:23:16.473Z"
   },
   {
    "duration": 8,
    "start_time": "2023-09-14T20:23:16.603Z"
   },
   {
    "duration": 135,
    "start_time": "2023-09-14T20:23:16.613Z"
   },
   {
    "duration": 17,
    "start_time": "2023-09-14T20:23:16.749Z"
   },
   {
    "duration": 20,
    "start_time": "2023-09-14T20:23:16.768Z"
   },
   {
    "duration": 21,
    "start_time": "2023-09-14T20:23:16.790Z"
   },
   {
    "duration": 15,
    "start_time": "2023-09-14T20:23:16.813Z"
   },
   {
    "duration": 43,
    "start_time": "2023-09-14T20:23:16.829Z"
   },
   {
    "duration": 131,
    "start_time": "2023-09-14T20:23:16.874Z"
   },
   {
    "duration": 7,
    "start_time": "2023-09-14T20:23:17.007Z"
   },
   {
    "duration": 240,
    "start_time": "2023-09-14T20:23:17.016Z"
   },
   {
    "duration": 14,
    "start_time": "2023-09-14T20:23:17.258Z"
   },
   {
    "duration": 183,
    "start_time": "2023-09-14T20:23:17.273Z"
   },
   {
    "duration": 10,
    "start_time": "2023-09-14T20:23:17.459Z"
   },
   {
    "duration": 164,
    "start_time": "2023-09-14T20:23:17.474Z"
   },
   {
    "duration": 15,
    "start_time": "2023-09-14T20:23:17.639Z"
   },
   {
    "duration": 135,
    "start_time": "2023-09-14T20:23:17.660Z"
   },
   {
    "duration": 130,
    "start_time": "2023-09-14T20:23:17.797Z"
   },
   {
    "duration": 252,
    "start_time": "2023-09-14T20:23:17.929Z"
   },
   {
    "duration": 18,
    "start_time": "2023-09-14T20:23:18.183Z"
   },
   {
    "duration": 5,
    "start_time": "2023-09-14T20:23:18.203Z"
   },
   {
    "duration": 5,
    "start_time": "2023-09-14T20:23:18.209Z"
   },
   {
    "duration": 19,
    "start_time": "2023-09-14T20:23:18.215Z"
   },
   {
    "duration": 5,
    "start_time": "2023-09-14T20:23:50.263Z"
   },
   {
    "duration": 39,
    "start_time": "2023-09-14T20:23:50.270Z"
   },
   {
    "duration": 7,
    "start_time": "2023-09-14T20:23:50.310Z"
   },
   {
    "duration": 65,
    "start_time": "2023-09-14T20:23:50.319Z"
   },
   {
    "duration": 6,
    "start_time": "2023-09-14T20:23:50.386Z"
   },
   {
    "duration": 30,
    "start_time": "2023-09-14T20:23:50.394Z"
   },
   {
    "duration": 9,
    "start_time": "2023-09-14T20:23:50.425Z"
   },
   {
    "duration": 28,
    "start_time": "2023-09-14T20:23:50.435Z"
   },
   {
    "duration": 23,
    "start_time": "2023-09-14T20:23:50.467Z"
   },
   {
    "duration": 20,
    "start_time": "2023-09-14T20:23:50.491Z"
   },
   {
    "duration": 14,
    "start_time": "2023-09-14T20:23:50.512Z"
   },
   {
    "duration": 9,
    "start_time": "2023-09-14T20:23:50.528Z"
   },
   {
    "duration": 32,
    "start_time": "2023-09-14T20:23:50.539Z"
   },
   {
    "duration": 15,
    "start_time": "2023-09-14T20:23:50.577Z"
   },
   {
    "duration": 36,
    "start_time": "2023-09-14T20:23:50.594Z"
   },
   {
    "duration": 33,
    "start_time": "2023-09-14T20:23:50.632Z"
   },
   {
    "duration": 16,
    "start_time": "2023-09-14T20:23:50.669Z"
   },
   {
    "duration": 147,
    "start_time": "2023-09-14T20:23:50.686Z"
   },
   {
    "duration": 110,
    "start_time": "2023-09-14T20:23:50.834Z"
   },
   {
    "duration": 23,
    "start_time": "2023-09-14T20:23:50.945Z"
   },
   {
    "duration": 140,
    "start_time": "2023-09-14T20:23:50.976Z"
   },
   {
    "duration": 8,
    "start_time": "2023-09-14T20:23:51.118Z"
   },
   {
    "duration": 149,
    "start_time": "2023-09-14T20:23:51.128Z"
   },
   {
    "duration": 9,
    "start_time": "2023-09-14T20:23:51.279Z"
   },
   {
    "duration": 223,
    "start_time": "2023-09-14T20:23:51.289Z"
   },
   {
    "duration": 8,
    "start_time": "2023-09-14T20:23:51.514Z"
   },
   {
    "duration": 89,
    "start_time": "2023-09-14T20:23:51.524Z"
   },
   {
    "duration": 20,
    "start_time": "2023-09-14T20:23:51.615Z"
   },
   {
    "duration": 28,
    "start_time": "2023-09-14T20:23:51.637Z"
   },
   {
    "duration": 17,
    "start_time": "2023-09-14T20:23:51.670Z"
   },
   {
    "duration": 129,
    "start_time": "2023-09-14T20:23:51.689Z"
   },
   {
    "duration": 7,
    "start_time": "2023-09-14T20:23:51.820Z"
   },
   {
    "duration": 192,
    "start_time": "2023-09-14T20:23:51.828Z"
   },
   {
    "duration": 8,
    "start_time": "2023-09-14T20:23:52.021Z"
   },
   {
    "duration": 161,
    "start_time": "2023-09-14T20:23:52.030Z"
   },
   {
    "duration": 8,
    "start_time": "2023-09-14T20:23:52.192Z"
   },
   {
    "duration": 144,
    "start_time": "2023-09-14T20:23:52.202Z"
   },
   {
    "duration": 18,
    "start_time": "2023-09-14T20:23:52.347Z"
   },
   {
    "duration": 136,
    "start_time": "2023-09-14T20:23:52.367Z"
   },
   {
    "duration": 126,
    "start_time": "2023-09-14T20:23:52.504Z"
   },
   {
    "duration": 249,
    "start_time": "2023-09-14T20:23:52.633Z"
   },
   {
    "duration": 18,
    "start_time": "2023-09-14T20:23:52.884Z"
   },
   {
    "duration": 5,
    "start_time": "2023-09-14T20:23:52.903Z"
   },
   {
    "duration": 12,
    "start_time": "2023-09-14T20:23:52.910Z"
   },
   {
    "duration": 23,
    "start_time": "2023-09-14T20:23:52.923Z"
   },
   {
    "duration": 3,
    "start_time": "2023-09-14T21:17:33.914Z"
   },
   {
    "duration": 59,
    "start_time": "2023-09-14T21:17:33.919Z"
   },
   {
    "duration": 9,
    "start_time": "2023-09-14T21:17:33.980Z"
   },
   {
    "duration": 34,
    "start_time": "2023-09-14T21:17:33.992Z"
   },
   {
    "duration": 6,
    "start_time": "2023-09-14T21:17:34.028Z"
   },
   {
    "duration": 37,
    "start_time": "2023-09-14T21:17:34.036Z"
   },
   {
    "duration": 14,
    "start_time": "2023-09-14T21:17:34.075Z"
   },
   {
    "duration": 7,
    "start_time": "2023-09-14T21:17:34.092Z"
   },
   {
    "duration": 24,
    "start_time": "2023-09-14T21:17:34.100Z"
   },
   {
    "duration": 14,
    "start_time": "2023-09-14T21:17:34.126Z"
   },
   {
    "duration": 34,
    "start_time": "2023-09-14T21:17:34.142Z"
   },
   {
    "duration": 6,
    "start_time": "2023-09-14T21:17:34.180Z"
   },
   {
    "duration": 18,
    "start_time": "2023-09-14T21:17:34.188Z"
   },
   {
    "duration": 11,
    "start_time": "2023-09-14T21:17:34.208Z"
   },
   {
    "duration": 12,
    "start_time": "2023-09-14T21:17:34.220Z"
   },
   {
    "duration": 11,
    "start_time": "2023-09-14T21:17:34.234Z"
   },
   {
    "duration": 25,
    "start_time": "2023-09-14T21:17:34.246Z"
   },
   {
    "duration": 152,
    "start_time": "2023-09-14T21:17:34.273Z"
   },
   {
    "duration": 114,
    "start_time": "2023-09-14T21:17:34.426Z"
   },
   {
    "duration": 15,
    "start_time": "2023-09-14T21:17:34.543Z"
   },
   {
    "duration": 248,
    "start_time": "2023-09-14T21:17:34.560Z"
   },
   {
    "duration": 7,
    "start_time": "2023-09-14T21:17:34.809Z"
   },
   {
    "duration": 156,
    "start_time": "2023-09-14T21:17:34.817Z"
   },
   {
    "duration": 13,
    "start_time": "2023-09-14T21:17:34.982Z"
   },
   {
    "duration": 133,
    "start_time": "2023-09-14T21:17:34.997Z"
   },
   {
    "duration": 7,
    "start_time": "2023-09-14T21:17:35.132Z"
   },
   {
    "duration": 40,
    "start_time": "2023-09-14T21:17:35.153Z"
   },
   {
    "duration": 21,
    "start_time": "2023-09-14T21:17:35.195Z"
   },
   {
    "duration": 15,
    "start_time": "2023-09-14T21:17:35.219Z"
   },
   {
    "duration": 38,
    "start_time": "2023-09-14T21:17:35.236Z"
   },
   {
    "duration": 128,
    "start_time": "2023-09-14T21:17:35.281Z"
   },
   {
    "duration": 7,
    "start_time": "2023-09-14T21:17:35.410Z"
   },
   {
    "duration": 207,
    "start_time": "2023-09-14T21:17:35.419Z"
   },
   {
    "duration": 9,
    "start_time": "2023-09-14T21:17:35.627Z"
   },
   {
    "duration": 163,
    "start_time": "2023-09-14T21:17:35.637Z"
   },
   {
    "duration": 7,
    "start_time": "2023-09-14T21:17:35.801Z"
   },
   {
    "duration": 161,
    "start_time": "2023-09-14T21:17:35.810Z"
   },
   {
    "duration": 13,
    "start_time": "2023-09-14T21:17:35.976Z"
   },
   {
    "duration": 181,
    "start_time": "2023-09-14T21:17:35.991Z"
   },
   {
    "duration": 147,
    "start_time": "2023-09-14T21:17:36.174Z"
   },
   {
    "duration": 282,
    "start_time": "2023-09-14T21:17:36.322Z"
   },
   {
    "duration": 17,
    "start_time": "2023-09-14T21:17:36.606Z"
   },
   {
    "duration": 15,
    "start_time": "2023-09-14T21:17:36.624Z"
   },
   {
    "duration": 45,
    "start_time": "2023-09-14T21:17:36.640Z"
   },
   {
    "duration": 18,
    "start_time": "2023-09-14T21:17:36.688Z"
   },
   {
    "duration": 1157,
    "start_time": "2023-09-14T21:52:42.779Z"
   },
   {
    "duration": 127,
    "start_time": "2023-09-14T21:52:43.938Z"
   },
   {
    "duration": 17,
    "start_time": "2023-09-14T21:52:44.066Z"
   },
   {
    "duration": 210,
    "start_time": "2023-09-14T21:52:44.086Z"
   },
   {
    "duration": 8,
    "start_time": "2023-09-14T21:52:44.298Z"
   },
   {
    "duration": 76,
    "start_time": "2023-09-14T21:52:44.308Z"
   },
   {
    "duration": 15,
    "start_time": "2023-09-14T21:52:44.385Z"
   },
   {
    "duration": 26,
    "start_time": "2023-09-14T21:52:44.401Z"
   },
   {
    "duration": 27,
    "start_time": "2023-09-14T21:52:44.430Z"
   },
   {
    "duration": 22,
    "start_time": "2023-09-14T21:52:44.460Z"
   },
   {
    "duration": 6,
    "start_time": "2023-09-14T21:52:44.484Z"
   },
   {
    "duration": 9,
    "start_time": "2023-09-14T21:52:44.491Z"
   },
   {
    "duration": 6,
    "start_time": "2023-09-14T21:52:44.502Z"
   },
   {
    "duration": 7,
    "start_time": "2023-09-14T21:52:44.510Z"
   },
   {
    "duration": 11,
    "start_time": "2023-09-14T21:52:44.519Z"
   },
   {
    "duration": 30,
    "start_time": "2023-09-14T21:52:44.532Z"
   },
   {
    "duration": 7,
    "start_time": "2023-09-14T21:52:44.564Z"
   },
   {
    "duration": 154,
    "start_time": "2023-09-14T21:52:44.573Z"
   },
   {
    "duration": 120,
    "start_time": "2023-09-14T21:52:44.728Z"
   },
   {
    "duration": 11,
    "start_time": "2023-09-14T21:52:44.850Z"
   },
   {
    "duration": 140,
    "start_time": "2023-09-14T21:52:44.865Z"
   },
   {
    "duration": 8,
    "start_time": "2023-09-14T21:52:45.007Z"
   },
   {
    "duration": 168,
    "start_time": "2023-09-14T21:52:45.017Z"
   },
   {
    "duration": 7,
    "start_time": "2023-09-14T21:52:45.187Z"
   },
   {
    "duration": 157,
    "start_time": "2023-09-14T21:52:45.196Z"
   },
   {
    "duration": 24,
    "start_time": "2023-09-14T21:52:45.354Z"
   },
   {
    "duration": 26,
    "start_time": "2023-09-14T21:52:45.379Z"
   },
   {
    "duration": 30,
    "start_time": "2023-09-14T21:52:45.408Z"
   },
   {
    "duration": 37,
    "start_time": "2023-09-14T21:52:45.440Z"
   },
   {
    "duration": 23,
    "start_time": "2023-09-14T21:52:45.479Z"
   },
   {
    "duration": 136,
    "start_time": "2023-09-14T21:52:45.504Z"
   },
   {
    "duration": 16,
    "start_time": "2023-09-14T21:52:45.642Z"
   },
   {
    "duration": 149,
    "start_time": "2023-09-14T21:52:45.662Z"
   },
   {
    "duration": 7,
    "start_time": "2023-09-14T21:52:45.813Z"
   },
   {
    "duration": 155,
    "start_time": "2023-09-14T21:52:45.822Z"
   },
   {
    "duration": 8,
    "start_time": "2023-09-14T21:52:45.979Z"
   },
   {
    "duration": 138,
    "start_time": "2023-09-14T21:52:45.989Z"
   },
   {
    "duration": 26,
    "start_time": "2023-09-14T21:52:46.128Z"
   },
   {
    "duration": 228,
    "start_time": "2023-09-14T21:52:46.155Z"
   },
   {
    "duration": 122,
    "start_time": "2023-09-14T21:52:46.384Z"
   },
   {
    "duration": 258,
    "start_time": "2023-09-14T21:52:46.508Z"
   },
   {
    "duration": 24,
    "start_time": "2023-09-14T21:52:46.771Z"
   },
   {
    "duration": 8,
    "start_time": "2023-09-14T21:52:46.797Z"
   },
   {
    "duration": 15,
    "start_time": "2023-09-14T21:52:46.807Z"
   },
   {
    "duration": 12,
    "start_time": "2023-09-14T21:52:46.823Z"
   },
   {
    "duration": 1186,
    "start_time": "2023-09-14T22:28:18.215Z"
   },
   {
    "duration": 38,
    "start_time": "2023-09-14T22:28:19.403Z"
   },
   {
    "duration": 14,
    "start_time": "2023-09-14T22:28:19.443Z"
   },
   {
    "duration": 48,
    "start_time": "2023-09-14T22:28:19.462Z"
   },
   {
    "duration": 8,
    "start_time": "2023-09-14T22:28:19.512Z"
   },
   {
    "duration": 39,
    "start_time": "2023-09-14T22:28:19.522Z"
   },
   {
    "duration": 17,
    "start_time": "2023-09-14T22:28:19.563Z"
   },
   {
    "duration": 5,
    "start_time": "2023-09-14T22:28:19.582Z"
   },
   {
    "duration": 16,
    "start_time": "2023-09-14T22:28:19.588Z"
   },
   {
    "duration": 9,
    "start_time": "2023-09-14T22:28:19.607Z"
   },
   {
    "duration": 12,
    "start_time": "2023-09-14T22:28:19.618Z"
   },
   {
    "duration": 16,
    "start_time": "2023-09-14T22:28:19.631Z"
   },
   {
    "duration": 13,
    "start_time": "2023-09-14T22:28:19.648Z"
   },
   {
    "duration": 15,
    "start_time": "2023-09-14T22:28:19.663Z"
   },
   {
    "duration": 6,
    "start_time": "2023-09-14T22:28:19.683Z"
   },
   {
    "duration": 10,
    "start_time": "2023-09-14T22:28:19.690Z"
   },
   {
    "duration": 9,
    "start_time": "2023-09-14T22:28:19.702Z"
   },
   {
    "duration": 177,
    "start_time": "2023-09-14T22:28:19.713Z"
   },
   {
    "duration": 120,
    "start_time": "2023-09-14T22:28:19.891Z"
   },
   {
    "duration": 10,
    "start_time": "2023-09-14T22:28:20.013Z"
   },
   {
    "duration": 177,
    "start_time": "2023-09-14T22:28:20.024Z"
   },
   {
    "duration": 9,
    "start_time": "2023-09-14T22:28:20.203Z"
   },
   {
    "duration": 160,
    "start_time": "2023-09-14T22:28:20.213Z"
   },
   {
    "duration": 14,
    "start_time": "2023-09-14T22:28:20.374Z"
   },
   {
    "duration": 135,
    "start_time": "2023-09-14T22:28:20.390Z"
   },
   {
    "duration": 32,
    "start_time": "2023-09-14T22:28:20.527Z"
   },
   {
    "duration": 30,
    "start_time": "2023-09-14T22:28:20.567Z"
   },
   {
    "duration": 24,
    "start_time": "2023-09-14T22:28:20.601Z"
   },
   {
    "duration": 40,
    "start_time": "2023-09-14T22:28:20.627Z"
   },
   {
    "duration": 24,
    "start_time": "2023-09-14T22:28:20.675Z"
   },
   {
    "duration": 127,
    "start_time": "2023-09-14T22:28:20.701Z"
   },
   {
    "duration": 31,
    "start_time": "2023-09-14T22:28:20.830Z"
   },
   {
    "duration": 165,
    "start_time": "2023-09-14T22:28:20.863Z"
   },
   {
    "duration": 23,
    "start_time": "2023-09-14T22:28:21.030Z"
   },
   {
    "duration": 162,
    "start_time": "2023-09-14T22:28:21.055Z"
   },
   {
    "duration": 7,
    "start_time": "2023-09-14T22:28:21.219Z"
   },
   {
    "duration": 175,
    "start_time": "2023-09-14T22:28:21.228Z"
   },
   {
    "duration": 11,
    "start_time": "2023-09-14T22:28:21.405Z"
   },
   {
    "duration": 245,
    "start_time": "2023-09-14T22:28:21.418Z"
   },
   {
    "duration": 150,
    "start_time": "2023-09-14T22:28:21.665Z"
   },
   {
    "duration": 266,
    "start_time": "2023-09-14T22:28:21.817Z"
   },
   {
    "duration": 28,
    "start_time": "2023-09-14T22:28:22.085Z"
   },
   {
    "duration": 105,
    "start_time": "2023-09-14T22:28:22.115Z"
   },
   {
    "duration": 49,
    "start_time": "2023-09-14T22:28:22.222Z"
   },
   {
    "duration": 12,
    "start_time": "2023-09-14T22:28:22.273Z"
   },
   {
    "duration": 1217,
    "start_time": "2023-09-14T22:29:08.889Z"
   },
   {
    "duration": 40,
    "start_time": "2023-09-14T22:29:10.108Z"
   },
   {
    "duration": 10,
    "start_time": "2023-09-14T22:29:10.150Z"
   },
   {
    "duration": 46,
    "start_time": "2023-09-14T22:29:10.163Z"
   },
   {
    "duration": 7,
    "start_time": "2023-09-14T22:29:10.211Z"
   },
   {
    "duration": 38,
    "start_time": "2023-09-14T22:29:10.220Z"
   },
   {
    "duration": 22,
    "start_time": "2023-09-14T22:29:10.260Z"
   },
   {
    "duration": 5,
    "start_time": "2023-09-14T22:29:10.284Z"
   },
   {
    "duration": 23,
    "start_time": "2023-09-14T22:29:10.290Z"
   },
   {
    "duration": 36,
    "start_time": "2023-09-14T22:29:10.317Z"
   },
   {
    "duration": 10,
    "start_time": "2023-09-14T22:29:10.356Z"
   },
   {
    "duration": 11,
    "start_time": "2023-09-14T22:29:10.369Z"
   },
   {
    "duration": 10,
    "start_time": "2023-09-14T22:29:10.382Z"
   },
   {
    "duration": 7,
    "start_time": "2023-09-14T22:29:10.393Z"
   },
   {
    "duration": 54,
    "start_time": "2023-09-14T22:29:10.402Z"
   },
   {
    "duration": 20,
    "start_time": "2023-09-14T22:29:10.461Z"
   },
   {
    "duration": 6,
    "start_time": "2023-09-14T22:29:10.484Z"
   },
   {
    "duration": 363,
    "start_time": "2023-09-14T22:29:10.492Z"
   },
   {
    "duration": 291,
    "start_time": "2023-09-14T22:29:10.859Z"
   },
   {
    "duration": 16,
    "start_time": "2023-09-14T22:29:11.155Z"
   },
   {
    "duration": 383,
    "start_time": "2023-09-14T22:29:11.174Z"
   },
   {
    "duration": 16,
    "start_time": "2023-09-14T22:29:11.563Z"
   },
   {
    "duration": 232,
    "start_time": "2023-09-14T22:29:11.582Z"
   },
   {
    "duration": 9,
    "start_time": "2023-09-14T22:29:11.816Z"
   },
   {
    "duration": 161,
    "start_time": "2023-09-14T22:29:11.826Z"
   },
   {
    "duration": 10,
    "start_time": "2023-09-14T22:29:11.989Z"
   },
   {
    "duration": 95,
    "start_time": "2023-09-14T22:29:12.001Z"
   },
   {
    "duration": 37,
    "start_time": "2023-09-14T22:29:12.146Z"
   },
   {
    "duration": 24,
    "start_time": "2023-09-14T22:29:12.185Z"
   },
   {
    "duration": 55,
    "start_time": "2023-09-14T22:29:12.211Z"
   },
   {
    "duration": 484,
    "start_time": "2023-09-14T22:29:12.268Z"
   },
   {
    "duration": 20,
    "start_time": "2023-09-14T22:29:12.754Z"
   },
   {
    "duration": 491,
    "start_time": "2023-09-14T22:29:12.775Z"
   },
   {
    "duration": 14,
    "start_time": "2023-09-14T22:29:13.269Z"
   },
   {
    "duration": 491,
    "start_time": "2023-09-14T22:29:13.285Z"
   },
   {
    "duration": 18,
    "start_time": "2023-09-14T22:29:13.853Z"
   },
   {
    "duration": 320,
    "start_time": "2023-09-14T22:29:13.876Z"
   },
   {
    "duration": 13,
    "start_time": "2023-09-14T22:29:14.243Z"
   },
   {
    "duration": 515,
    "start_time": "2023-09-14T22:29:14.266Z"
   },
   {
    "duration": 301,
    "start_time": "2023-09-14T22:29:14.788Z"
   },
   {
    "duration": 355,
    "start_time": "2023-09-14T22:29:15.091Z"
   },
   {
    "duration": 29,
    "start_time": "2023-09-14T22:29:15.448Z"
   },
   {
    "duration": 9,
    "start_time": "2023-09-14T22:29:15.480Z"
   },
   {
    "duration": 8,
    "start_time": "2023-09-14T22:29:15.491Z"
   },
   {
    "duration": 41,
    "start_time": "2023-09-14T22:29:15.546Z"
   },
   {
    "duration": 1174,
    "start_time": "2023-09-14T22:47:57.482Z"
   },
   {
    "duration": 51,
    "start_time": "2023-09-14T22:47:58.658Z"
   },
   {
    "duration": 7,
    "start_time": "2023-09-14T22:47:58.710Z"
   },
   {
    "duration": 50,
    "start_time": "2023-09-14T22:47:58.719Z"
   },
   {
    "duration": 15,
    "start_time": "2023-09-14T22:47:58.771Z"
   },
   {
    "duration": 41,
    "start_time": "2023-09-14T22:47:58.790Z"
   },
   {
    "duration": 69,
    "start_time": "2023-09-14T22:47:58.832Z"
   },
   {
    "duration": 7,
    "start_time": "2023-09-14T22:47:58.903Z"
   },
   {
    "duration": 10,
    "start_time": "2023-09-14T22:47:58.911Z"
   },
   {
    "duration": 19,
    "start_time": "2023-09-14T22:47:58.923Z"
   },
   {
    "duration": 16,
    "start_time": "2023-09-14T22:47:58.943Z"
   },
   {
    "duration": 12,
    "start_time": "2023-09-14T22:47:58.960Z"
   },
   {
    "duration": 11,
    "start_time": "2023-09-14T22:47:58.973Z"
   },
   {
    "duration": 14,
    "start_time": "2023-09-14T22:47:58.990Z"
   },
   {
    "duration": 21,
    "start_time": "2023-09-14T22:47:59.006Z"
   },
   {
    "duration": 32,
    "start_time": "2023-09-14T22:47:59.029Z"
   },
   {
    "duration": 10,
    "start_time": "2023-09-14T22:47:59.063Z"
   },
   {
    "duration": 159,
    "start_time": "2023-09-14T22:47:59.074Z"
   },
   {
    "duration": 124,
    "start_time": "2023-09-14T22:47:59.234Z"
   },
   {
    "duration": 12,
    "start_time": "2023-09-14T22:47:59.360Z"
   },
   {
    "duration": 133,
    "start_time": "2023-09-14T22:47:59.377Z"
   },
   {
    "duration": 7,
    "start_time": "2023-09-14T22:47:59.512Z"
   },
   {
    "duration": 155,
    "start_time": "2023-09-14T22:47:59.520Z"
   },
   {
    "duration": 12,
    "start_time": "2023-09-14T22:47:59.677Z"
   },
   {
    "duration": 294,
    "start_time": "2023-09-14T22:47:59.690Z"
   },
   {
    "duration": 11,
    "start_time": "2023-09-14T22:47:59.985Z"
   },
   {
    "duration": 38,
    "start_time": "2023-09-14T22:47:59.998Z"
   },
   {
    "duration": 65,
    "start_time": "2023-09-14T22:48:00.037Z"
   },
   {
    "duration": 28,
    "start_time": "2023-09-14T22:48:00.104Z"
   },
   {
    "duration": 44,
    "start_time": "2023-09-14T22:48:00.134Z"
   },
   {
    "duration": 158,
    "start_time": "2023-09-14T22:48:00.179Z"
   },
   {
    "duration": 27,
    "start_time": "2023-09-14T22:48:00.340Z"
   },
   {
    "duration": 155,
    "start_time": "2023-09-14T22:48:00.375Z"
   },
   {
    "duration": 14,
    "start_time": "2023-09-14T22:48:00.532Z"
   },
   {
    "duration": 176,
    "start_time": "2023-09-14T22:48:00.547Z"
   },
   {
    "duration": 8,
    "start_time": "2023-09-14T22:48:00.725Z"
   },
   {
    "duration": 181,
    "start_time": "2023-09-14T22:48:00.734Z"
   },
   {
    "duration": 8,
    "start_time": "2023-09-14T22:48:00.918Z"
   },
   {
    "duration": 266,
    "start_time": "2023-09-14T22:48:00.927Z"
   },
   {
    "duration": 133,
    "start_time": "2023-09-14T22:48:01.195Z"
   },
   {
    "duration": 262,
    "start_time": "2023-09-14T22:48:01.332Z"
   },
   {
    "duration": 18,
    "start_time": "2023-09-14T22:48:01.596Z"
   },
   {
    "duration": 117,
    "start_time": "2023-09-14T22:48:01.615Z"
   },
   {
    "duration": 37,
    "start_time": "2023-09-14T22:48:01.734Z"
   },
   {
    "duration": 70,
    "start_time": "2023-09-14T22:48:01.772Z"
   },
   {
    "duration": 53,
    "start_time": "2023-09-15T10:22:06.442Z"
   },
   {
    "duration": 1451,
    "start_time": "2023-09-15T10:22:11.454Z"
   },
   {
    "duration": 103,
    "start_time": "2023-09-15T10:22:12.908Z"
   },
   {
    "duration": 13,
    "start_time": "2023-09-15T10:22:13.013Z"
   },
   {
    "duration": 193,
    "start_time": "2023-09-15T10:22:13.028Z"
   },
   {
    "duration": 9,
    "start_time": "2023-09-15T10:22:13.222Z"
   },
   {
    "duration": 71,
    "start_time": "2023-09-15T10:22:13.233Z"
   },
   {
    "duration": 10,
    "start_time": "2023-09-15T10:22:13.306Z"
   },
   {
    "duration": 23,
    "start_time": "2023-09-15T10:22:13.318Z"
   },
   {
    "duration": 13,
    "start_time": "2023-09-15T10:22:13.343Z"
   },
   {
    "duration": 22,
    "start_time": "2023-09-15T10:22:13.359Z"
   },
   {
    "duration": 8,
    "start_time": "2023-09-15T10:22:13.384Z"
   },
   {
    "duration": 34,
    "start_time": "2023-09-15T10:22:13.394Z"
   },
   {
    "duration": 21,
    "start_time": "2023-09-15T10:22:13.429Z"
   },
   {
    "duration": 21,
    "start_time": "2023-09-15T10:22:13.452Z"
   },
   {
    "duration": 22,
    "start_time": "2023-09-15T10:22:13.475Z"
   },
   {
    "duration": 12,
    "start_time": "2023-09-15T10:22:13.499Z"
   },
   {
    "duration": 15,
    "start_time": "2023-09-15T10:22:13.513Z"
   },
   {
    "duration": 171,
    "start_time": "2023-09-15T10:22:13.530Z"
   },
   {
    "duration": 130,
    "start_time": "2023-09-15T10:22:13.703Z"
   },
   {
    "duration": 23,
    "start_time": "2023-09-15T10:22:13.835Z"
   },
   {
    "duration": 156,
    "start_time": "2023-09-15T10:22:13.860Z"
   },
   {
    "duration": 8,
    "start_time": "2023-09-15T10:22:14.019Z"
   },
   {
    "duration": 157,
    "start_time": "2023-09-15T10:22:14.029Z"
   },
   {
    "duration": 9,
    "start_time": "2023-09-15T10:22:14.188Z"
   },
   {
    "duration": 165,
    "start_time": "2023-09-15T10:22:14.199Z"
   },
   {
    "duration": 11,
    "start_time": "2023-09-15T10:22:14.366Z"
   },
   {
    "duration": 35,
    "start_time": "2023-09-15T10:22:14.379Z"
   },
   {
    "duration": 41,
    "start_time": "2023-09-15T10:22:14.418Z"
   },
   {
    "duration": 20,
    "start_time": "2023-09-15T10:22:14.461Z"
   },
   {
    "duration": 21,
    "start_time": "2023-09-15T10:22:14.483Z"
   },
   {
    "duration": 162,
    "start_time": "2023-09-15T10:22:14.506Z"
   },
   {
    "duration": 9,
    "start_time": "2023-09-15T10:22:14.670Z"
   },
   {
    "duration": 181,
    "start_time": "2023-09-15T10:22:14.681Z"
   },
   {
    "duration": 9,
    "start_time": "2023-09-15T10:22:14.864Z"
   },
   {
    "duration": 165,
    "start_time": "2023-09-15T10:22:14.874Z"
   },
   {
    "duration": 17,
    "start_time": "2023-09-15T10:22:15.042Z"
   },
   {
    "duration": 153,
    "start_time": "2023-09-15T10:22:15.060Z"
   },
   {
    "duration": 10,
    "start_time": "2023-09-15T10:22:15.215Z"
   },
   {
    "duration": 251,
    "start_time": "2023-09-15T10:22:15.227Z"
   },
   {
    "duration": 152,
    "start_time": "2023-09-15T10:22:15.480Z"
   },
   {
    "duration": 244,
    "start_time": "2023-09-15T10:22:15.633Z"
   },
   {
    "duration": 24,
    "start_time": "2023-09-15T10:22:15.879Z"
   },
   {
    "duration": 8,
    "start_time": "2023-09-15T10:22:15.905Z"
   },
   {
    "duration": 13,
    "start_time": "2023-09-15T10:22:15.914Z"
   },
   {
    "duration": 33,
    "start_time": "2023-09-15T10:22:15.929Z"
   },
   {
    "duration": 16,
    "start_time": "2023-09-15T10:22:29.930Z"
   },
   {
    "duration": 70,
    "start_time": "2023-09-15T10:26:52.895Z"
   },
   {
    "duration": 159,
    "start_time": "2023-09-15T10:31:30.647Z"
   },
   {
    "duration": 152,
    "start_time": "2023-09-15T10:32:03.790Z"
   },
   {
    "duration": 164,
    "start_time": "2023-09-15T10:32:20.900Z"
   },
   {
    "duration": 170,
    "start_time": "2023-09-15T10:34:26.805Z"
   },
   {
    "duration": 8,
    "start_time": "2023-09-15T10:37:49.811Z"
   },
   {
    "duration": 83,
    "start_time": "2023-09-15T10:38:14.145Z"
   },
   {
    "duration": 84,
    "start_time": "2023-09-15T10:38:54.516Z"
   },
   {
    "duration": 182,
    "start_time": "2023-09-15T10:42:34.891Z"
   },
   {
    "duration": 176,
    "start_time": "2023-09-15T10:43:12.416Z"
   },
   {
    "duration": 26,
    "start_time": "2023-09-15T10:44:15.937Z"
   },
   {
    "duration": 10,
    "start_time": "2023-09-15T10:44:23.842Z"
   },
   {
    "duration": 9,
    "start_time": "2023-09-15T10:55:32.082Z"
   },
   {
    "duration": 5,
    "start_time": "2023-09-15T10:55:41.152Z"
   },
   {
    "duration": 98,
    "start_time": "2023-09-15T10:55:41.159Z"
   },
   {
    "duration": 18,
    "start_time": "2023-09-15T10:55:41.263Z"
   },
   {
    "duration": 20,
    "start_time": "2023-09-15T10:55:41.283Z"
   },
   {
    "duration": 0,
    "start_time": "2023-09-15T10:55:41.399Z"
   },
   {
    "duration": 0,
    "start_time": "2023-09-15T10:55:41.400Z"
   },
   {
    "duration": 0,
    "start_time": "2023-09-15T10:55:41.401Z"
   },
   {
    "duration": 0,
    "start_time": "2023-09-15T10:55:41.402Z"
   },
   {
    "duration": 0,
    "start_time": "2023-09-15T10:55:41.403Z"
   },
   {
    "duration": 0,
    "start_time": "2023-09-15T10:55:41.404Z"
   },
   {
    "duration": 0,
    "start_time": "2023-09-15T10:55:41.406Z"
   },
   {
    "duration": 0,
    "start_time": "2023-09-15T10:55:41.407Z"
   },
   {
    "duration": 0,
    "start_time": "2023-09-15T10:55:41.408Z"
   },
   {
    "duration": 0,
    "start_time": "2023-09-15T10:55:41.409Z"
   },
   {
    "duration": 0,
    "start_time": "2023-09-15T10:55:41.410Z"
   },
   {
    "duration": 0,
    "start_time": "2023-09-15T10:55:41.412Z"
   },
   {
    "duration": 0,
    "start_time": "2023-09-15T10:55:41.413Z"
   },
   {
    "duration": 0,
    "start_time": "2023-09-15T10:55:41.414Z"
   },
   {
    "duration": 0,
    "start_time": "2023-09-15T10:55:41.416Z"
   },
   {
    "duration": 0,
    "start_time": "2023-09-15T10:55:41.417Z"
   },
   {
    "duration": 0,
    "start_time": "2023-09-15T10:55:41.418Z"
   },
   {
    "duration": 0,
    "start_time": "2023-09-15T10:55:41.419Z"
   },
   {
    "duration": 0,
    "start_time": "2023-09-15T10:55:41.420Z"
   },
   {
    "duration": 0,
    "start_time": "2023-09-15T10:55:41.421Z"
   },
   {
    "duration": 0,
    "start_time": "2023-09-15T10:55:41.456Z"
   },
   {
    "duration": 0,
    "start_time": "2023-09-15T10:55:41.457Z"
   },
   {
    "duration": 0,
    "start_time": "2023-09-15T10:55:41.458Z"
   },
   {
    "duration": 0,
    "start_time": "2023-09-15T10:55:41.459Z"
   },
   {
    "duration": 0,
    "start_time": "2023-09-15T10:55:41.460Z"
   },
   {
    "duration": 0,
    "start_time": "2023-09-15T10:55:41.461Z"
   },
   {
    "duration": 0,
    "start_time": "2023-09-15T10:55:41.462Z"
   },
   {
    "duration": 0,
    "start_time": "2023-09-15T10:55:41.464Z"
   },
   {
    "duration": 0,
    "start_time": "2023-09-15T10:55:41.464Z"
   },
   {
    "duration": 0,
    "start_time": "2023-09-15T10:55:41.469Z"
   },
   {
    "duration": 0,
    "start_time": "2023-09-15T10:55:41.473Z"
   },
   {
    "duration": 0,
    "start_time": "2023-09-15T10:55:41.474Z"
   },
   {
    "duration": 0,
    "start_time": "2023-09-15T10:55:41.474Z"
   },
   {
    "duration": 0,
    "start_time": "2023-09-15T10:55:41.476Z"
   },
   {
    "duration": 0,
    "start_time": "2023-09-15T10:55:41.477Z"
   },
   {
    "duration": 0,
    "start_time": "2023-09-15T10:55:41.478Z"
   },
   {
    "duration": 0,
    "start_time": "2023-09-15T10:55:41.479Z"
   },
   {
    "duration": 0,
    "start_time": "2023-09-15T10:55:41.480Z"
   },
   {
    "duration": 0,
    "start_time": "2023-09-15T10:55:41.481Z"
   },
   {
    "duration": 0,
    "start_time": "2023-09-15T10:55:41.482Z"
   },
   {
    "duration": 0,
    "start_time": "2023-09-15T10:55:41.484Z"
   },
   {
    "duration": 0,
    "start_time": "2023-09-15T10:55:41.485Z"
   },
   {
    "duration": 0,
    "start_time": "2023-09-15T10:55:41.486Z"
   },
   {
    "duration": 0,
    "start_time": "2023-09-15T10:55:41.487Z"
   },
   {
    "duration": 0,
    "start_time": "2023-09-15T10:55:41.488Z"
   },
   {
    "duration": 4,
    "start_time": "2023-09-15T10:56:49.370Z"
   },
   {
    "duration": 4,
    "start_time": "2023-09-15T10:57:06.881Z"
   },
   {
    "duration": 57,
    "start_time": "2023-09-15T10:57:06.887Z"
   },
   {
    "duration": 18,
    "start_time": "2023-09-15T10:57:06.946Z"
   },
   {
    "duration": 17,
    "start_time": "2023-09-15T10:57:06.968Z"
   },
   {
    "duration": 63,
    "start_time": "2023-09-15T10:57:06.987Z"
   },
   {
    "duration": 24,
    "start_time": "2023-09-15T10:57:07.052Z"
   },
   {
    "duration": 21,
    "start_time": "2023-09-15T10:57:07.078Z"
   },
   {
    "duration": 11,
    "start_time": "2023-09-15T10:57:07.101Z"
   },
   {
    "duration": 15,
    "start_time": "2023-09-15T10:57:07.113Z"
   },
   {
    "duration": 21,
    "start_time": "2023-09-15T10:57:07.132Z"
   },
   {
    "duration": 24,
    "start_time": "2023-09-15T10:57:07.155Z"
   },
   {
    "duration": 11,
    "start_time": "2023-09-15T10:57:07.181Z"
   },
   {
    "duration": 10,
    "start_time": "2023-09-15T10:57:07.193Z"
   },
   {
    "duration": 4,
    "start_time": "2023-09-15T10:57:07.205Z"
   },
   {
    "duration": 8,
    "start_time": "2023-09-15T10:57:07.211Z"
   },
   {
    "duration": 17,
    "start_time": "2023-09-15T10:57:07.220Z"
   },
   {
    "duration": 19,
    "start_time": "2023-09-15T10:57:07.239Z"
   },
   {
    "duration": 18,
    "start_time": "2023-09-15T10:57:07.261Z"
   },
   {
    "duration": 159,
    "start_time": "2023-09-15T10:57:07.281Z"
   },
   {
    "duration": 170,
    "start_time": "2023-09-15T10:57:07.442Z"
   },
   {
    "duration": 168,
    "start_time": "2023-09-15T10:57:07.614Z"
   },
   {
    "duration": 13,
    "start_time": "2023-09-15T10:57:07.785Z"
   },
   {
    "duration": 122,
    "start_time": "2023-09-15T10:57:07.801Z"
   },
   {
    "duration": 188,
    "start_time": "2023-09-15T10:57:07.925Z"
   },
   {
    "duration": 9,
    "start_time": "2023-09-15T10:57:08.115Z"
   },
   {
    "duration": 178,
    "start_time": "2023-09-15T10:57:08.126Z"
   },
   {
    "duration": 10,
    "start_time": "2023-09-15T10:57:08.306Z"
   },
   {
    "duration": 169,
    "start_time": "2023-09-15T10:57:08.320Z"
   },
   {
    "duration": 9,
    "start_time": "2023-09-15T10:57:08.490Z"
   },
   {
    "duration": 37,
    "start_time": "2023-09-15T10:57:08.501Z"
   },
   {
    "duration": 45,
    "start_time": "2023-09-15T10:57:08.540Z"
   },
   {
    "duration": 10,
    "start_time": "2023-09-15T10:57:08.587Z"
   },
   {
    "duration": 18,
    "start_time": "2023-09-15T10:57:08.599Z"
   },
   {
    "duration": 70,
    "start_time": "2023-09-15T10:57:08.619Z"
   },
   {
    "duration": 154,
    "start_time": "2023-09-15T10:57:08.692Z"
   },
   {
    "duration": 13,
    "start_time": "2023-09-15T10:57:08.855Z"
   },
   {
    "duration": 219,
    "start_time": "2023-09-15T10:57:08.870Z"
   },
   {
    "duration": 11,
    "start_time": "2023-09-15T10:57:09.092Z"
   },
   {
    "duration": 202,
    "start_time": "2023-09-15T10:57:09.105Z"
   },
   {
    "duration": 11,
    "start_time": "2023-09-15T10:57:09.310Z"
   },
   {
    "duration": 168,
    "start_time": "2023-09-15T10:57:09.323Z"
   },
   {
    "duration": 11,
    "start_time": "2023-09-15T10:57:09.494Z"
   },
   {
    "duration": 280,
    "start_time": "2023-09-15T10:57:09.507Z"
   },
   {
    "duration": 157,
    "start_time": "2023-09-15T10:57:09.788Z"
   },
   {
    "duration": 257,
    "start_time": "2023-09-15T10:57:09.947Z"
   },
   {
    "duration": 23,
    "start_time": "2023-09-15T10:57:10.206Z"
   },
   {
    "duration": 27,
    "start_time": "2023-09-15T10:57:10.231Z"
   },
   {
    "duration": 20,
    "start_time": "2023-09-15T10:57:10.260Z"
   },
   {
    "duration": 59,
    "start_time": "2023-09-15T10:57:10.282Z"
   },
   {
    "duration": 4,
    "start_time": "2023-09-15T10:58:16.702Z"
   },
   {
    "duration": 6,
    "start_time": "2023-09-15T10:59:31.030Z"
   },
   {
    "duration": 5,
    "start_time": "2023-09-15T10:59:53.822Z"
   },
   {
    "duration": 5,
    "start_time": "2023-09-15T11:02:12.515Z"
   },
   {
    "duration": 5,
    "start_time": "2023-09-15T11:02:45.154Z"
   },
   {
    "duration": 3,
    "start_time": "2023-09-15T11:23:23.770Z"
   },
   {
    "duration": 3,
    "start_time": "2023-09-15T11:23:36.997Z"
   },
   {
    "duration": 2,
    "start_time": "2023-09-15T11:23:44.779Z"
   },
   {
    "duration": 132,
    "start_time": "2023-09-15T11:30:39.483Z"
   },
   {
    "duration": 171,
    "start_time": "2023-09-15T11:31:35.134Z"
   },
   {
    "duration": 3,
    "start_time": "2023-09-15T11:32:06.698Z"
   },
   {
    "duration": 85,
    "start_time": "2023-09-15T11:32:06.702Z"
   },
   {
    "duration": 11,
    "start_time": "2023-09-15T11:32:06.789Z"
   },
   {
    "duration": 56,
    "start_time": "2023-09-15T11:32:06.802Z"
   },
   {
    "duration": 18,
    "start_time": "2023-09-15T11:32:06.861Z"
   },
   {
    "duration": 29,
    "start_time": "2023-09-15T11:32:06.880Z"
   },
   {
    "duration": 12,
    "start_time": "2023-09-15T11:32:06.910Z"
   },
   {
    "duration": 13,
    "start_time": "2023-09-15T11:32:06.923Z"
   },
   {
    "duration": 45,
    "start_time": "2023-09-15T11:32:06.937Z"
   },
   {
    "duration": 27,
    "start_time": "2023-09-15T11:32:06.984Z"
   },
   {
    "duration": 29,
    "start_time": "2023-09-15T11:32:07.015Z"
   },
   {
    "duration": 39,
    "start_time": "2023-09-15T11:32:07.046Z"
   },
   {
    "duration": 24,
    "start_time": "2023-09-15T11:32:07.088Z"
   },
   {
    "duration": 20,
    "start_time": "2023-09-15T11:32:07.113Z"
   },
   {
    "duration": 35,
    "start_time": "2023-09-15T11:32:07.135Z"
   },
   {
    "duration": 15,
    "start_time": "2023-09-15T11:32:07.171Z"
   },
   {
    "duration": 13,
    "start_time": "2023-09-15T11:32:07.188Z"
   },
   {
    "duration": 169,
    "start_time": "2023-09-15T11:32:07.203Z"
   },
   {
    "duration": 156,
    "start_time": "2023-09-15T11:32:07.374Z"
   },
   {
    "duration": 140,
    "start_time": "2023-09-15T11:32:07.532Z"
   },
   {
    "duration": 11,
    "start_time": "2023-09-15T11:32:07.674Z"
   },
   {
    "duration": 130,
    "start_time": "2023-09-15T11:32:07.687Z"
   },
   {
    "duration": 164,
    "start_time": "2023-09-15T11:32:07.819Z"
   },
   {
    "duration": 10,
    "start_time": "2023-09-15T11:32:07.985Z"
   },
   {
    "duration": 185,
    "start_time": "2023-09-15T11:32:07.997Z"
   },
   {
    "duration": 11,
    "start_time": "2023-09-15T11:32:08.183Z"
   },
   {
    "duration": 170,
    "start_time": "2023-09-15T11:32:08.197Z"
   },
   {
    "duration": 12,
    "start_time": "2023-09-15T11:32:08.369Z"
   },
   {
    "duration": 33,
    "start_time": "2023-09-15T11:32:08.386Z"
   },
   {
    "duration": 49,
    "start_time": "2023-09-15T11:32:08.421Z"
   },
   {
    "duration": 10,
    "start_time": "2023-09-15T11:32:08.471Z"
   },
   {
    "duration": 6,
    "start_time": "2023-09-15T11:32:08.483Z"
   },
   {
    "duration": 7,
    "start_time": "2023-09-15T11:32:08.491Z"
   },
   {
    "duration": 7,
    "start_time": "2023-09-15T11:32:08.500Z"
   },
   {
    "duration": 8,
    "start_time": "2023-09-15T11:32:08.509Z"
   },
   {
    "duration": 139,
    "start_time": "2023-09-15T11:32:08.519Z"
   },
   {
    "duration": 19,
    "start_time": "2023-09-15T11:32:08.662Z"
   },
   {
    "duration": 180,
    "start_time": "2023-09-15T11:32:08.684Z"
   },
   {
    "duration": 13,
    "start_time": "2023-09-15T11:32:08.866Z"
   },
   {
    "duration": 216,
    "start_time": "2023-09-15T11:32:08.882Z"
   },
   {
    "duration": 12,
    "start_time": "2023-09-15T11:32:09.100Z"
   },
   {
    "duration": 179,
    "start_time": "2023-09-15T11:32:09.115Z"
   },
   {
    "duration": 10,
    "start_time": "2023-09-15T11:32:09.296Z"
   },
   {
    "duration": 163,
    "start_time": "2023-09-15T11:32:09.308Z"
   },
   {
    "duration": 10,
    "start_time": "2023-09-15T11:32:09.473Z"
   },
   {
    "duration": 11,
    "start_time": "2023-09-15T11:32:09.485Z"
   },
   {
    "duration": 15,
    "start_time": "2023-09-15T11:32:09.498Z"
   },
   {
    "duration": 15,
    "start_time": "2023-09-15T11:32:09.515Z"
   },
   {
    "duration": 12,
    "start_time": "2023-09-15T11:32:09.532Z"
   },
   {
    "duration": 196,
    "start_time": "2023-09-15T11:32:09.545Z"
   },
   {
    "duration": 259,
    "start_time": "2023-09-15T11:32:09.743Z"
   },
   {
    "duration": 21,
    "start_time": "2023-09-15T11:32:10.004Z"
   },
   {
    "duration": 7,
    "start_time": "2023-09-15T11:32:10.027Z"
   },
   {
    "duration": 15,
    "start_time": "2023-09-15T11:32:10.057Z"
   },
   {
    "duration": 55,
    "start_time": "2023-09-15T11:32:10.074Z"
   },
   {
    "duration": 263,
    "start_time": "2023-09-15T11:41:18.148Z"
   },
   {
    "duration": 9,
    "start_time": "2023-09-15T11:42:36.417Z"
   },
   {
    "duration": 8,
    "start_time": "2023-09-15T11:43:09.612Z"
   },
   {
    "duration": 165,
    "start_time": "2023-09-15T12:05:24.308Z"
   },
   {
    "duration": 182,
    "start_time": "2023-09-15T12:06:19.989Z"
   },
   {
    "duration": 200,
    "start_time": "2023-09-15T12:06:33.912Z"
   },
   {
    "duration": 340,
    "start_time": "2023-09-15T12:06:58.130Z"
   },
   {
    "duration": 278,
    "start_time": "2023-09-15T12:07:28.685Z"
   },
   {
    "duration": 234,
    "start_time": "2023-09-15T12:07:40.842Z"
   },
   {
    "duration": 12,
    "start_time": "2023-09-15T12:08:40.837Z"
   },
   {
    "duration": 201,
    "start_time": "2023-09-15T12:09:00.323Z"
   },
   {
    "duration": 215,
    "start_time": "2023-09-15T12:09:21.615Z"
   },
   {
    "duration": 243,
    "start_time": "2023-09-15T12:14:13.695Z"
   },
   {
    "duration": 251,
    "start_time": "2023-09-15T12:14:27.357Z"
   },
   {
    "duration": 133,
    "start_time": "2023-09-15T12:45:25.205Z"
   },
   {
    "duration": 166,
    "start_time": "2023-09-15T12:47:15.642Z"
   },
   {
    "duration": 2140,
    "start_time": "2023-09-15T12:48:28.986Z"
   },
   {
    "duration": 289,
    "start_time": "2023-09-15T12:49:07.044Z"
   },
   {
    "duration": 253,
    "start_time": "2023-09-15T12:50:09.139Z"
   },
   {
    "duration": 233,
    "start_time": "2023-09-15T12:50:19.992Z"
   },
   {
    "duration": 237,
    "start_time": "2023-09-15T12:51:28.077Z"
   },
   {
    "duration": 385,
    "start_time": "2023-09-15T12:51:43.813Z"
   },
   {
    "duration": 9,
    "start_time": "2023-09-15T13:01:09.786Z"
   },
   {
    "duration": 9,
    "start_time": "2023-09-15T13:01:38.427Z"
   },
   {
    "duration": 7,
    "start_time": "2023-09-15T13:02:09.948Z"
   },
   {
    "duration": 10,
    "start_time": "2023-09-15T13:02:54.847Z"
   },
   {
    "duration": 8,
    "start_time": "2023-09-15T13:03:53.344Z"
   },
   {
    "duration": 13,
    "start_time": "2023-09-15T13:04:52.418Z"
   },
   {
    "duration": 105,
    "start_time": "2023-09-15T13:04:58.189Z"
   },
   {
    "duration": 151,
    "start_time": "2023-09-15T13:05:03.266Z"
   },
   {
    "duration": 1382,
    "start_time": "2023-09-15T13:29:22.494Z"
   },
   {
    "duration": 42,
    "start_time": "2023-09-15T13:29:23.885Z"
   },
   {
    "duration": 13,
    "start_time": "2023-09-15T13:29:23.928Z"
   },
   {
    "duration": 67,
    "start_time": "2023-09-15T13:29:23.943Z"
   },
   {
    "duration": 13,
    "start_time": "2023-09-15T13:29:24.012Z"
   },
   {
    "duration": 61,
    "start_time": "2023-09-15T13:29:24.027Z"
   },
   {
    "duration": 11,
    "start_time": "2023-09-15T13:29:24.090Z"
   },
   {
    "duration": 26,
    "start_time": "2023-09-15T13:29:24.102Z"
   },
   {
    "duration": 16,
    "start_time": "2023-09-15T13:29:24.131Z"
   },
   {
    "duration": 33,
    "start_time": "2023-09-15T13:29:24.152Z"
   },
   {
    "duration": 8,
    "start_time": "2023-09-15T13:29:24.187Z"
   },
   {
    "duration": 20,
    "start_time": "2023-09-15T13:29:24.197Z"
   },
   {
    "duration": 28,
    "start_time": "2023-09-15T13:29:24.219Z"
   },
   {
    "duration": 27,
    "start_time": "2023-09-15T13:29:24.249Z"
   },
   {
    "duration": 13,
    "start_time": "2023-09-15T13:29:24.282Z"
   },
   {
    "duration": 34,
    "start_time": "2023-09-15T13:29:24.298Z"
   },
   {
    "duration": 10,
    "start_time": "2023-09-15T13:29:24.334Z"
   },
   {
    "duration": 34,
    "start_time": "2023-09-15T13:29:24.345Z"
   },
   {
    "duration": 7,
    "start_time": "2023-09-15T13:29:24.382Z"
   },
   {
    "duration": 210,
    "start_time": "2023-09-15T13:29:24.391Z"
   },
   {
    "duration": 163,
    "start_time": "2023-09-15T13:29:24.603Z"
   },
   {
    "duration": 134,
    "start_time": "2023-09-15T13:29:24.768Z"
   },
   {
    "duration": 10,
    "start_time": "2023-09-15T13:29:24.904Z"
   },
   {
    "duration": 103,
    "start_time": "2023-09-15T13:29:24.916Z"
   },
   {
    "duration": 168,
    "start_time": "2023-09-15T13:29:25.021Z"
   },
   {
    "duration": 10,
    "start_time": "2023-09-15T13:29:25.190Z"
   },
   {
    "duration": 171,
    "start_time": "2023-09-15T13:29:25.202Z"
   },
   {
    "duration": 12,
    "start_time": "2023-09-15T13:29:25.379Z"
   },
   {
    "duration": 151,
    "start_time": "2023-09-15T13:29:25.392Z"
   },
   {
    "duration": 33,
    "start_time": "2023-09-15T13:29:25.545Z"
   },
   {
    "duration": 40,
    "start_time": "2023-09-15T13:29:25.582Z"
   },
   {
    "duration": 44,
    "start_time": "2023-09-15T13:29:25.624Z"
   },
   {
    "duration": 19,
    "start_time": "2023-09-15T13:29:25.670Z"
   },
   {
    "duration": 40,
    "start_time": "2023-09-15T13:29:25.691Z"
   },
   {
    "duration": 19,
    "start_time": "2023-09-15T13:29:25.733Z"
   },
   {
    "duration": 31,
    "start_time": "2023-09-15T13:29:25.754Z"
   },
   {
    "duration": 18,
    "start_time": "2023-09-15T13:29:25.787Z"
   },
   {
    "duration": 31,
    "start_time": "2023-09-15T13:29:25.807Z"
   },
   {
    "duration": 59,
    "start_time": "2023-09-15T13:29:25.840Z"
   },
   {
    "duration": 147,
    "start_time": "2023-09-15T13:29:25.901Z"
   },
   {
    "duration": 21,
    "start_time": "2023-09-15T13:29:26.058Z"
   },
   {
    "duration": 169,
    "start_time": "2023-09-15T13:29:26.085Z"
   },
   {
    "duration": 25,
    "start_time": "2023-09-15T13:29:26.256Z"
   },
   {
    "duration": 261,
    "start_time": "2023-09-15T13:29:26.285Z"
   },
   {
    "duration": 32,
    "start_time": "2023-09-15T13:29:26.548Z"
   },
   {
    "duration": 144,
    "start_time": "2023-09-15T13:29:26.583Z"
   },
   {
    "duration": 9,
    "start_time": "2023-09-15T13:29:26.729Z"
   },
   {
    "duration": 27,
    "start_time": "2023-09-15T13:29:26.740Z"
   },
   {
    "duration": 10,
    "start_time": "2023-09-15T13:29:26.769Z"
   },
   {
    "duration": 13,
    "start_time": "2023-09-15T13:29:26.780Z"
   },
   {
    "duration": 10,
    "start_time": "2023-09-15T13:29:26.795Z"
   },
   {
    "duration": 272,
    "start_time": "2023-09-15T13:29:26.807Z"
   },
   {
    "duration": 236,
    "start_time": "2023-09-15T13:29:27.081Z"
   },
   {
    "duration": 69,
    "start_time": "2023-09-15T13:29:27.319Z"
   },
   {
    "duration": 7,
    "start_time": "2023-09-15T13:29:27.390Z"
   },
   {
    "duration": 233,
    "start_time": "2023-09-15T13:29:27.399Z"
   },
   {
    "duration": 48,
    "start_time": "2023-09-15T13:29:27.634Z"
   },
   {
    "duration": 8,
    "start_time": "2023-09-15T13:29:27.683Z"
   },
   {
    "duration": 10,
    "start_time": "2023-09-15T13:29:27.693Z"
   },
   {
    "duration": 13,
    "start_time": "2023-09-15T13:29:27.705Z"
   },
   {
    "duration": 153,
    "start_time": "2023-09-15T13:31:20.101Z"
   },
   {
    "duration": 10,
    "start_time": "2023-09-15T13:36:14.069Z"
   },
   {
    "duration": 1262,
    "start_time": "2024-03-28T21:08:23.821Z"
   },
   {
    "duration": 79,
    "start_time": "2024-03-28T21:08:25.085Z"
   },
   {
    "duration": 10,
    "start_time": "2024-03-28T21:08:25.166Z"
   },
   {
    "duration": 88,
    "start_time": "2024-03-28T21:08:25.178Z"
   },
   {
    "duration": 11,
    "start_time": "2024-03-28T21:08:25.267Z"
   },
   {
    "duration": 67,
    "start_time": "2024-03-28T21:08:25.280Z"
   },
   {
    "duration": 9,
    "start_time": "2024-03-28T21:08:25.349Z"
   },
   {
    "duration": 16,
    "start_time": "2024-03-28T21:08:25.359Z"
   },
   {
    "duration": 29,
    "start_time": "2024-03-28T21:08:25.377Z"
   },
   {
    "duration": 11,
    "start_time": "2024-03-28T21:08:25.409Z"
   },
   {
    "duration": 23,
    "start_time": "2024-03-28T21:08:25.422Z"
   },
   {
    "duration": 10,
    "start_time": "2024-03-28T21:08:25.447Z"
   },
   {
    "duration": 14,
    "start_time": "2024-03-28T21:08:25.460Z"
   },
   {
    "duration": 15,
    "start_time": "2024-03-28T21:08:25.476Z"
   },
   {
    "duration": 7,
    "start_time": "2024-03-28T21:08:25.493Z"
   },
   {
    "duration": 31,
    "start_time": "2024-03-28T21:08:25.502Z"
   },
   {
    "duration": 29,
    "start_time": "2024-03-28T21:08:25.534Z"
   },
   {
    "duration": 19,
    "start_time": "2024-03-28T21:08:25.565Z"
   },
   {
    "duration": 16,
    "start_time": "2024-03-28T21:08:25.586Z"
   },
   {
    "duration": 206,
    "start_time": "2024-03-28T21:08:25.604Z"
   },
   {
    "duration": 146,
    "start_time": "2024-03-28T21:08:25.812Z"
   },
   {
    "duration": 121,
    "start_time": "2024-03-28T21:08:25.959Z"
   },
   {
    "duration": 9,
    "start_time": "2024-03-28T21:08:26.081Z"
   },
   {
    "duration": 86,
    "start_time": "2024-03-28T21:08:26.091Z"
   },
   {
    "duration": 154,
    "start_time": "2024-03-28T21:08:26.179Z"
   },
   {
    "duration": 145,
    "start_time": "2024-03-28T21:09:14.911Z"
   },
   {
    "duration": 91,
    "start_time": "2024-03-28T21:13:53.924Z"
   },
   {
    "duration": 3,
    "start_time": "2024-03-28T21:13:58.970Z"
   },
   {
    "duration": 45,
    "start_time": "2024-03-28T21:13:58.975Z"
   },
   {
    "duration": 14,
    "start_time": "2024-03-28T21:13:59.022Z"
   },
   {
    "duration": 31,
    "start_time": "2024-03-28T21:13:59.038Z"
   },
   {
    "duration": 9,
    "start_time": "2024-03-28T21:13:59.071Z"
   },
   {
    "duration": 37,
    "start_time": "2024-03-28T21:13:59.082Z"
   },
   {
    "duration": 14,
    "start_time": "2024-03-28T21:13:59.120Z"
   },
   {
    "duration": 4,
    "start_time": "2024-03-28T21:13:59.136Z"
   },
   {
    "duration": 7,
    "start_time": "2024-03-28T21:13:59.142Z"
   },
   {
    "duration": 9,
    "start_time": "2024-03-28T21:13:59.151Z"
   },
   {
    "duration": 6,
    "start_time": "2024-03-28T21:13:59.163Z"
   },
   {
    "duration": 6,
    "start_time": "2024-03-28T21:13:59.170Z"
   },
   {
    "duration": 45,
    "start_time": "2024-03-28T21:13:59.177Z"
   },
   {
    "duration": 7,
    "start_time": "2024-03-28T21:13:59.226Z"
   },
   {
    "duration": 6,
    "start_time": "2024-03-28T21:13:59.236Z"
   },
   {
    "duration": 13,
    "start_time": "2024-03-28T21:13:59.243Z"
   },
   {
    "duration": 7,
    "start_time": "2024-03-28T21:13:59.257Z"
   },
   {
    "duration": 10,
    "start_time": "2024-03-28T21:13:59.266Z"
   },
   {
    "duration": 6,
    "start_time": "2024-03-28T21:13:59.278Z"
   },
   {
    "duration": 179,
    "start_time": "2024-03-28T21:13:59.285Z"
   },
   {
    "duration": 160,
    "start_time": "2024-03-28T21:13:59.466Z"
   },
   {
    "duration": 191,
    "start_time": "2024-03-28T21:13:59.627Z"
   },
   {
    "duration": 13,
    "start_time": "2024-03-28T21:13:59.819Z"
   },
   {
    "duration": 64,
    "start_time": "2024-03-28T21:13:59.834Z"
   },
   {
    "duration": 163,
    "start_time": "2024-03-28T21:13:59.917Z"
   },
   {
    "duration": 8,
    "start_time": "2024-03-28T21:14:00.082Z"
   },
   {
    "duration": 163,
    "start_time": "2024-03-28T21:14:00.091Z"
   },
   {
    "duration": 8,
    "start_time": "2024-03-28T21:14:00.255Z"
   },
   {
    "duration": 147,
    "start_time": "2024-03-28T21:14:00.266Z"
   },
   {
    "duration": 11,
    "start_time": "2024-03-28T21:14:00.415Z"
   },
   {
    "duration": 47,
    "start_time": "2024-03-28T21:14:00.428Z"
   },
   {
    "duration": 47,
    "start_time": "2024-03-28T21:14:00.477Z"
   },
   {
    "duration": 24,
    "start_time": "2024-03-28T21:14:00.527Z"
   },
   {
    "duration": 27,
    "start_time": "2024-03-28T21:14:00.552Z"
   },
   {
    "duration": 44,
    "start_time": "2024-03-28T21:14:00.580Z"
   },
   {
    "duration": 24,
    "start_time": "2024-03-28T21:14:00.626Z"
   },
   {
    "duration": 33,
    "start_time": "2024-03-28T21:14:00.651Z"
   },
   {
    "duration": 57,
    "start_time": "2024-03-28T21:14:00.685Z"
   },
   {
    "duration": 25,
    "start_time": "2024-03-28T21:14:00.743Z"
   },
   {
    "duration": 147,
    "start_time": "2024-03-28T21:14:00.770Z"
   },
   {
    "duration": 12,
    "start_time": "2024-03-28T21:14:00.919Z"
   },
   {
    "duration": 181,
    "start_time": "2024-03-28T21:14:00.933Z"
   },
   {
    "duration": 9,
    "start_time": "2024-03-28T21:14:01.116Z"
   },
   {
    "duration": 148,
    "start_time": "2024-03-28T21:14:01.127Z"
   },
   {
    "duration": 8,
    "start_time": "2024-03-28T21:14:01.277Z"
   },
   {
    "duration": 168,
    "start_time": "2024-03-28T21:14:01.287Z"
   },
   {
    "duration": 8,
    "start_time": "2024-03-28T21:14:01.457Z"
   },
   {
    "duration": 208,
    "start_time": "2024-03-28T21:14:05.995Z"
   },
   {
    "duration": 213,
    "start_time": "2024-03-28T21:14:31.183Z"
   },
   {
    "duration": 10,
    "start_time": "2024-03-28T21:15:08.535Z"
   },
   {
    "duration": 124,
    "start_time": "2024-03-28T21:15:13.410Z"
   },
   {
    "duration": 6,
    "start_time": "2024-03-28T21:15:14.687Z"
   },
   {
    "duration": 210,
    "start_time": "2024-03-28T21:15:16.008Z"
   },
   {
    "duration": 11,
    "start_time": "2024-03-28T21:15:17.953Z"
   },
   {
    "duration": 7,
    "start_time": "2024-03-28T21:15:33.289Z"
   }
  ],
  "kernelspec": {
   "display_name": "Python 3 (ipykernel)",
   "language": "python",
   "name": "python3"
  },
  "language_info": {
   "codemirror_mode": {
    "name": "ipython",
    "version": 3
   },
   "file_extension": ".py",
   "mimetype": "text/x-python",
   "name": "python",
   "nbconvert_exporter": "python",
   "pygments_lexer": "ipython3",
   "version": "3.11.5"
  },
  "toc": {
   "base_numbering": 1,
   "nav_menu": {},
   "number_sections": true,
   "sideBar": true,
   "skip_h1_title": true,
   "title_cell": "Table of Contents",
   "title_sidebar": "Contents",
   "toc_cell": false,
   "toc_position": {},
   "toc_section_display": true,
   "toc_window_display": true
  }
 },
 "nbformat": 4,
 "nbformat_minor": 5
}
