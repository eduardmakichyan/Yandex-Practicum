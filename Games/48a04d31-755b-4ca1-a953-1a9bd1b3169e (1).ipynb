{
 "cells": [
  {
   "cell_type": "markdown",
   "metadata": {},
   "source": [
    "# Интернет магазин \"Стримчик\".  Исследование успешности игр."
   ]
  },
  {
   "cell_type": "markdown",
   "metadata": {},
   "source": [
    "#  Описание проекта."
   ]
  },
  {
   "cell_type": "markdown",
   "metadata": {},
   "source": [
    "Из открытых источников доступны исторические данные о продажах игр, оценки пользователей и экспертов, жанры и платформы (например, Xbox или PlayStation). Необходимо выявить определяющие успешность игры закономерности. Это позволит сделать ставку на потенциально популярный продукт и спланировать рекламные кампании. Перед нами данные до 2016 года. Представим, что сейчас декабрь 2016 г., и мы планируем кампанию на 2017-й. <br>\n",
    "Ход работы :\n",
    "1. Ознакомление с таблицей. Получение общей информации.\n",
    "2. Предобработка данных: <br>\n",
    "1) Заменить названия столбцов.<br>\n",
    "2) Преобразуйте данные в нужные типы.<br>\n",
    "3) Обработать пропуски при необходимости.<br>\n",
    "3. Исследовательский анализ данных: <br>\n",
    "1) Посмотрим, сколько игр выпускалось в разные годы. Важны ли данные за все периоды.<br>\n",
    "2) Посмотрим, как менялись продажи по платформам. Выберим платформы с наибольшими суммарными продажами и построем распределение по годам. Проверим за какой характерный срок появляются новые и исчезают старые платформы?<br>\n",
    "3)  Возьмем данные за актуальный период. Актуальный период определим в результате исследования предыдущих вопросов. Основной фактор — эти данные помогут построить прогноз на 2017 год.<br>\n",
    "4) Проверим какие платформы лидируют по продажам, растут или падают? Выберим несколько потенциально прибыльных платформ.\n",
    "5) Построем график «ящик с усами» по глобальным продажам игр в разбивке по платформам.<br>\n",
    "6) Посмотрим, как влияют на продажи внутри одной популярной платформы отзывы пользователей и критиков. Построем диаграмму рассеяния и посчитаем корреляцию между отзывами и продажами.<br>\n",
    "4. Составление портрета пользователя каждого региона (NA, EU, JP): <br>\n",
    "1) Самые популярные платформы (топ-5).<br>\n",
    "2) Самые популярные жанры (топ-5).<br>\n",
    "3) Влияет ли рейтинг ESRB на продажи в отдельном регионе?<br>\n",
    "5. Проверка гипотез :<br>\n",
    "1) Средние пользовательские рейтинги платформ Xbox One и PC одинаковые. <br>\n",
    "2) Средние пользовательские рейтинги жанров Action (англ. «действие», экшен-игры) и Sports (англ. «спортивные соревнования») разные.\n",
    "6. Общий вывод."
   ]
  },
  {
   "cell_type": "markdown",
   "metadata": {},
   "source": [
    "Значение столбцов таблицы:\n",
    "\n",
    "Name — название игры\n",
    "\n",
    "Platform — платформа\n",
    "\n",
    "Year_of_Release — год выпуска\n",
    "\n",
    "Genre — жанр игры\n",
    "\n",
    "NA_sales — продажи в Северной Америке (миллионы проданных копий)\n",
    "\n",
    "EU_sales — продажи в Европе (миллионы проданных копий)\n",
    "\n",
    "JP_sales — продажи в Японии (миллионы проданных копий)\n",
    "\n",
    "Other_sales — продажи в других странах (миллионы проданных копий)\n",
    "\n",
    "Critic_Score — оценка критиков (максимум 100)\n",
    "\n",
    "User_Score — оценка пользователей (максимум 10)\n",
    "\n",
    "Rating — рейтинг от организации ESRB (англ. Entertainment Software Rating Board).\n",
    "\n",
    "Эта ассоциация определяет рейтинг компьютерных игр и присваивает им подходящую возрастную категорию."
   ]
  },
  {
   "cell_type": "markdown",
   "metadata": {},
   "source": [
    "## Ознакомление с таблицей"
   ]
  },
  {
   "cell_type": "code",
   "execution_count": 1,
   "metadata": {},
   "outputs": [],
   "source": [
    "# импортируем все необходимые библиотеки \n",
    "import pandas as pd\n",
    "import matplotlib.pyplot as plt\n",
    "import numpy as np\n",
    "import scipy.stats as st"
   ]
  },
  {
   "cell_type": "code",
   "execution_count": 2,
   "metadata": {},
   "outputs": [
    {
     "data": {
      "text/html": [
       "<div>\n",
       "<style scoped>\n",
       "    .dataframe tbody tr th:only-of-type {\n",
       "        vertical-align: middle;\n",
       "    }\n",
       "\n",
       "    .dataframe tbody tr th {\n",
       "        vertical-align: top;\n",
       "    }\n",
       "\n",
       "    .dataframe thead th {\n",
       "        text-align: right;\n",
       "    }\n",
       "</style>\n",
       "<table border=\"1\" class=\"dataframe\">\n",
       "  <thead>\n",
       "    <tr style=\"text-align: right;\">\n",
       "      <th></th>\n",
       "      <th>Name</th>\n",
       "      <th>Platform</th>\n",
       "      <th>Year_of_Release</th>\n",
       "      <th>Genre</th>\n",
       "      <th>NA_sales</th>\n",
       "      <th>EU_sales</th>\n",
       "      <th>JP_sales</th>\n",
       "      <th>Other_sales</th>\n",
       "      <th>Critic_Score</th>\n",
       "      <th>User_Score</th>\n",
       "      <th>Rating</th>\n",
       "    </tr>\n",
       "  </thead>\n",
       "  <tbody>\n",
       "    <tr>\n",
       "      <th>0</th>\n",
       "      <td>Wii Sports</td>\n",
       "      <td>Wii</td>\n",
       "      <td>2006.0</td>\n",
       "      <td>Sports</td>\n",
       "      <td>41.36</td>\n",
       "      <td>28.96</td>\n",
       "      <td>3.77</td>\n",
       "      <td>8.45</td>\n",
       "      <td>76.0</td>\n",
       "      <td>8</td>\n",
       "      <td>E</td>\n",
       "    </tr>\n",
       "    <tr>\n",
       "      <th>1</th>\n",
       "      <td>Super Mario Bros.</td>\n",
       "      <td>NES</td>\n",
       "      <td>1985.0</td>\n",
       "      <td>Platform</td>\n",
       "      <td>29.08</td>\n",
       "      <td>3.58</td>\n",
       "      <td>6.81</td>\n",
       "      <td>0.77</td>\n",
       "      <td>NaN</td>\n",
       "      <td>NaN</td>\n",
       "      <td>NaN</td>\n",
       "    </tr>\n",
       "    <tr>\n",
       "      <th>2</th>\n",
       "      <td>Mario Kart Wii</td>\n",
       "      <td>Wii</td>\n",
       "      <td>2008.0</td>\n",
       "      <td>Racing</td>\n",
       "      <td>15.68</td>\n",
       "      <td>12.76</td>\n",
       "      <td>3.79</td>\n",
       "      <td>3.29</td>\n",
       "      <td>82.0</td>\n",
       "      <td>8.3</td>\n",
       "      <td>E</td>\n",
       "    </tr>\n",
       "    <tr>\n",
       "      <th>3</th>\n",
       "      <td>Wii Sports Resort</td>\n",
       "      <td>Wii</td>\n",
       "      <td>2009.0</td>\n",
       "      <td>Sports</td>\n",
       "      <td>15.61</td>\n",
       "      <td>10.93</td>\n",
       "      <td>3.28</td>\n",
       "      <td>2.95</td>\n",
       "      <td>80.0</td>\n",
       "      <td>8</td>\n",
       "      <td>E</td>\n",
       "    </tr>\n",
       "    <tr>\n",
       "      <th>4</th>\n",
       "      <td>Pokemon Red/Pokemon Blue</td>\n",
       "      <td>GB</td>\n",
       "      <td>1996.0</td>\n",
       "      <td>Role-Playing</td>\n",
       "      <td>11.27</td>\n",
       "      <td>8.89</td>\n",
       "      <td>10.22</td>\n",
       "      <td>1.00</td>\n",
       "      <td>NaN</td>\n",
       "      <td>NaN</td>\n",
       "      <td>NaN</td>\n",
       "    </tr>\n",
       "  </tbody>\n",
       "</table>\n",
       "</div>"
      ],
      "text/plain": [
       "                       Name Platform  Year_of_Release         Genre  NA_sales  \\\n",
       "0                Wii Sports      Wii           2006.0        Sports     41.36   \n",
       "1         Super Mario Bros.      NES           1985.0      Platform     29.08   \n",
       "2            Mario Kart Wii      Wii           2008.0        Racing     15.68   \n",
       "3         Wii Sports Resort      Wii           2009.0        Sports     15.61   \n",
       "4  Pokemon Red/Pokemon Blue       GB           1996.0  Role-Playing     11.27   \n",
       "\n",
       "   EU_sales  JP_sales  Other_sales  Critic_Score User_Score Rating  \n",
       "0     28.96      3.77         8.45          76.0          8      E  \n",
       "1      3.58      6.81         0.77           NaN        NaN    NaN  \n",
       "2     12.76      3.79         3.29          82.0        8.3      E  \n",
       "3     10.93      3.28         2.95          80.0          8      E  \n",
       "4      8.89     10.22         1.00           NaN        NaN    NaN  "
      ]
     },
     "execution_count": 2,
     "metadata": {},
     "output_type": "execute_result"
    }
   ],
   "source": [
    "# прочитаем датасет и сохраним в переменную\n",
    "data = pd.read_csv('/%%%%%%.csv')\n",
    "data.head()"
   ]
  },
  {
   "cell_type": "code",
   "execution_count": 3,
   "metadata": {
    "scrolled": false
   },
   "outputs": [
    {
     "name": "stdout",
     "output_type": "stream",
     "text": [
      "<class 'pandas.core.frame.DataFrame'>\n",
      "RangeIndex: 16715 entries, 0 to 16714\n",
      "Data columns (total 11 columns):\n",
      " #   Column           Non-Null Count  Dtype  \n",
      "---  ------           --------------  -----  \n",
      " 0   Name             16713 non-null  object \n",
      " 1   Platform         16715 non-null  object \n",
      " 2   Year_of_Release  16446 non-null  float64\n",
      " 3   Genre            16713 non-null  object \n",
      " 4   NA_sales         16715 non-null  float64\n",
      " 5   EU_sales         16715 non-null  float64\n",
      " 6   JP_sales         16715 non-null  float64\n",
      " 7   Other_sales      16715 non-null  float64\n",
      " 8   Critic_Score     8137 non-null   float64\n",
      " 9   User_Score       10014 non-null  object \n",
      " 10  Rating           9949 non-null   object \n",
      "dtypes: float64(6), object(5)\n",
      "memory usage: 1.4+ MB\n"
     ]
    }
   ],
   "source": [
    "# посмторим на общую информацию о таблице\n",
    "data.info()"
   ]
  },
  {
   "cell_type": "markdown",
   "metadata": {},
   "source": [
    "В ходе первичного знакомства с данными было однаруженно , что :\n",
    "1. Названия столбцов нужно привести к нижнему регистру.\n",
    "2. Нужно будет поменять тип данных для некоторых столбцов.\n",
    "3. В таблице есть пропуски."
   ]
  },
  {
   "cell_type": "markdown",
   "metadata": {},
   "source": [
    "## Предобработка данных"
   ]
  },
  {
   "cell_type": "code",
   "execution_count": 4,
   "metadata": {},
   "outputs": [
    {
     "data": {
      "text/plain": [
       "0"
      ]
     },
     "execution_count": 4,
     "metadata": {},
     "output_type": "execute_result"
    }
   ],
   "source": [
    "# проверим наличие явных дубликатов. их нет\n",
    "data.duplicated().sum()"
   ]
  },
  {
   "cell_type": "code",
   "execution_count": 5,
   "metadata": {},
   "outputs": [],
   "source": [
    "# привидем название столбцов к нижнему регистру\n",
    "data.columns = data.columns.str.lower()"
   ]
  },
  {
   "cell_type": "code",
   "execution_count": 6,
   "metadata": {
    "scrolled": true
   },
   "outputs": [
    {
     "data": {
      "text/html": [
       "<div>\n",
       "<style scoped>\n",
       "    .dataframe tbody tr th:only-of-type {\n",
       "        vertical-align: middle;\n",
       "    }\n",
       "\n",
       "    .dataframe tbody tr th {\n",
       "        vertical-align: top;\n",
       "    }\n",
       "\n",
       "    .dataframe thead th {\n",
       "        text-align: right;\n",
       "    }\n",
       "</style>\n",
       "<table border=\"1\" class=\"dataframe\">\n",
       "  <thead>\n",
       "    <tr style=\"text-align: right;\">\n",
       "      <th></th>\n",
       "      <th>name</th>\n",
       "      <th>platform</th>\n",
       "      <th>year_of_release</th>\n",
       "      <th>genre</th>\n",
       "      <th>na_sales</th>\n",
       "      <th>eu_sales</th>\n",
       "      <th>jp_sales</th>\n",
       "      <th>other_sales</th>\n",
       "      <th>critic_score</th>\n",
       "      <th>user_score</th>\n",
       "      <th>rating</th>\n",
       "    </tr>\n",
       "  </thead>\n",
       "  <tbody>\n",
       "    <tr>\n",
       "      <th>0</th>\n",
       "      <td>Wii Sports</td>\n",
       "      <td>Wii</td>\n",
       "      <td>2006.0</td>\n",
       "      <td>Sports</td>\n",
       "      <td>41.36</td>\n",
       "      <td>28.96</td>\n",
       "      <td>3.77</td>\n",
       "      <td>8.45</td>\n",
       "      <td>76.0</td>\n",
       "      <td>8</td>\n",
       "      <td>E</td>\n",
       "    </tr>\n",
       "    <tr>\n",
       "      <th>1</th>\n",
       "      <td>Super Mario Bros.</td>\n",
       "      <td>NES</td>\n",
       "      <td>1985.0</td>\n",
       "      <td>Platform</td>\n",
       "      <td>29.08</td>\n",
       "      <td>3.58</td>\n",
       "      <td>6.81</td>\n",
       "      <td>0.77</td>\n",
       "      <td>NaN</td>\n",
       "      <td>NaN</td>\n",
       "      <td>NaN</td>\n",
       "    </tr>\n",
       "    <tr>\n",
       "      <th>2</th>\n",
       "      <td>Mario Kart Wii</td>\n",
       "      <td>Wii</td>\n",
       "      <td>2008.0</td>\n",
       "      <td>Racing</td>\n",
       "      <td>15.68</td>\n",
       "      <td>12.76</td>\n",
       "      <td>3.79</td>\n",
       "      <td>3.29</td>\n",
       "      <td>82.0</td>\n",
       "      <td>8.3</td>\n",
       "      <td>E</td>\n",
       "    </tr>\n",
       "    <tr>\n",
       "      <th>3</th>\n",
       "      <td>Wii Sports Resort</td>\n",
       "      <td>Wii</td>\n",
       "      <td>2009.0</td>\n",
       "      <td>Sports</td>\n",
       "      <td>15.61</td>\n",
       "      <td>10.93</td>\n",
       "      <td>3.28</td>\n",
       "      <td>2.95</td>\n",
       "      <td>80.0</td>\n",
       "      <td>8</td>\n",
       "      <td>E</td>\n",
       "    </tr>\n",
       "    <tr>\n",
       "      <th>4</th>\n",
       "      <td>Pokemon Red/Pokemon Blue</td>\n",
       "      <td>GB</td>\n",
       "      <td>1996.0</td>\n",
       "      <td>Role-Playing</td>\n",
       "      <td>11.27</td>\n",
       "      <td>8.89</td>\n",
       "      <td>10.22</td>\n",
       "      <td>1.00</td>\n",
       "      <td>NaN</td>\n",
       "      <td>NaN</td>\n",
       "      <td>NaN</td>\n",
       "    </tr>\n",
       "    <tr>\n",
       "      <th>5</th>\n",
       "      <td>Tetris</td>\n",
       "      <td>GB</td>\n",
       "      <td>1989.0</td>\n",
       "      <td>Puzzle</td>\n",
       "      <td>23.20</td>\n",
       "      <td>2.26</td>\n",
       "      <td>4.22</td>\n",
       "      <td>0.58</td>\n",
       "      <td>NaN</td>\n",
       "      <td>NaN</td>\n",
       "      <td>NaN</td>\n",
       "    </tr>\n",
       "    <tr>\n",
       "      <th>6</th>\n",
       "      <td>New Super Mario Bros.</td>\n",
       "      <td>DS</td>\n",
       "      <td>2006.0</td>\n",
       "      <td>Platform</td>\n",
       "      <td>11.28</td>\n",
       "      <td>9.14</td>\n",
       "      <td>6.50</td>\n",
       "      <td>2.88</td>\n",
       "      <td>89.0</td>\n",
       "      <td>8.5</td>\n",
       "      <td>E</td>\n",
       "    </tr>\n",
       "    <tr>\n",
       "      <th>7</th>\n",
       "      <td>Wii Play</td>\n",
       "      <td>Wii</td>\n",
       "      <td>2006.0</td>\n",
       "      <td>Misc</td>\n",
       "      <td>13.96</td>\n",
       "      <td>9.18</td>\n",
       "      <td>2.93</td>\n",
       "      <td>2.84</td>\n",
       "      <td>58.0</td>\n",
       "      <td>6.6</td>\n",
       "      <td>E</td>\n",
       "    </tr>\n",
       "    <tr>\n",
       "      <th>8</th>\n",
       "      <td>New Super Mario Bros. Wii</td>\n",
       "      <td>Wii</td>\n",
       "      <td>2009.0</td>\n",
       "      <td>Platform</td>\n",
       "      <td>14.44</td>\n",
       "      <td>6.94</td>\n",
       "      <td>4.70</td>\n",
       "      <td>2.24</td>\n",
       "      <td>87.0</td>\n",
       "      <td>8.4</td>\n",
       "      <td>E</td>\n",
       "    </tr>\n",
       "    <tr>\n",
       "      <th>9</th>\n",
       "      <td>Duck Hunt</td>\n",
       "      <td>NES</td>\n",
       "      <td>1984.0</td>\n",
       "      <td>Shooter</td>\n",
       "      <td>26.93</td>\n",
       "      <td>0.63</td>\n",
       "      <td>0.28</td>\n",
       "      <td>0.47</td>\n",
       "      <td>NaN</td>\n",
       "      <td>NaN</td>\n",
       "      <td>NaN</td>\n",
       "    </tr>\n",
       "  </tbody>\n",
       "</table>\n",
       "</div>"
      ],
      "text/plain": [
       "                        name platform  year_of_release         genre  \\\n",
       "0                 Wii Sports      Wii           2006.0        Sports   \n",
       "1          Super Mario Bros.      NES           1985.0      Platform   \n",
       "2             Mario Kart Wii      Wii           2008.0        Racing   \n",
       "3          Wii Sports Resort      Wii           2009.0        Sports   \n",
       "4   Pokemon Red/Pokemon Blue       GB           1996.0  Role-Playing   \n",
       "5                     Tetris       GB           1989.0        Puzzle   \n",
       "6      New Super Mario Bros.       DS           2006.0      Platform   \n",
       "7                   Wii Play      Wii           2006.0          Misc   \n",
       "8  New Super Mario Bros. Wii      Wii           2009.0      Platform   \n",
       "9                  Duck Hunt      NES           1984.0       Shooter   \n",
       "\n",
       "   na_sales  eu_sales  jp_sales  other_sales  critic_score user_score rating  \n",
       "0     41.36     28.96      3.77         8.45          76.0          8      E  \n",
       "1     29.08      3.58      6.81         0.77           NaN        NaN    NaN  \n",
       "2     15.68     12.76      3.79         3.29          82.0        8.3      E  \n",
       "3     15.61     10.93      3.28         2.95          80.0          8      E  \n",
       "4     11.27      8.89     10.22         1.00           NaN        NaN    NaN  \n",
       "5     23.20      2.26      4.22         0.58           NaN        NaN    NaN  \n",
       "6     11.28      9.14      6.50         2.88          89.0        8.5      E  \n",
       "7     13.96      9.18      2.93         2.84          58.0        6.6      E  \n",
       "8     14.44      6.94      4.70         2.24          87.0        8.4      E  \n",
       "9     26.93      0.63      0.28         0.47           NaN        NaN    NaN  "
      ]
     },
     "execution_count": 6,
     "metadata": {},
     "output_type": "execute_result"
    }
   ],
   "source": [
    "# проверим результат\n",
    "data.head(10)"
   ]
  },
  {
   "cell_type": "code",
   "execution_count": 7,
   "metadata": {},
   "outputs": [],
   "source": [
    "# привидем названия платформ, названия игр, жанр и рейтинг к нижнему регистру\n",
    "for column in data[['name','platform','genre','rating']]:\n",
    "    data[column] = data[column].str.lower()"
   ]
  },
  {
   "cell_type": "code",
   "execution_count": 8,
   "metadata": {},
   "outputs": [
    {
     "data": {
      "text/html": [
       "<div>\n",
       "<style scoped>\n",
       "    .dataframe tbody tr th:only-of-type {\n",
       "        vertical-align: middle;\n",
       "    }\n",
       "\n",
       "    .dataframe tbody tr th {\n",
       "        vertical-align: top;\n",
       "    }\n",
       "\n",
       "    .dataframe thead th {\n",
       "        text-align: right;\n",
       "    }\n",
       "</style>\n",
       "<table border=\"1\" class=\"dataframe\">\n",
       "  <thead>\n",
       "    <tr style=\"text-align: right;\">\n",
       "      <th></th>\n",
       "      <th>name</th>\n",
       "      <th>platform</th>\n",
       "      <th>year_of_release</th>\n",
       "      <th>genre</th>\n",
       "      <th>na_sales</th>\n",
       "      <th>eu_sales</th>\n",
       "      <th>jp_sales</th>\n",
       "      <th>other_sales</th>\n",
       "      <th>critic_score</th>\n",
       "      <th>user_score</th>\n",
       "      <th>rating</th>\n",
       "    </tr>\n",
       "  </thead>\n",
       "  <tbody>\n",
       "    <tr>\n",
       "      <th>0</th>\n",
       "      <td>wii sports</td>\n",
       "      <td>wii</td>\n",
       "      <td>2006.0</td>\n",
       "      <td>sports</td>\n",
       "      <td>41.36</td>\n",
       "      <td>28.96</td>\n",
       "      <td>3.77</td>\n",
       "      <td>8.45</td>\n",
       "      <td>76.0</td>\n",
       "      <td>8</td>\n",
       "      <td>e</td>\n",
       "    </tr>\n",
       "    <tr>\n",
       "      <th>1</th>\n",
       "      <td>super mario bros.</td>\n",
       "      <td>nes</td>\n",
       "      <td>1985.0</td>\n",
       "      <td>platform</td>\n",
       "      <td>29.08</td>\n",
       "      <td>3.58</td>\n",
       "      <td>6.81</td>\n",
       "      <td>0.77</td>\n",
       "      <td>NaN</td>\n",
       "      <td>NaN</td>\n",
       "      <td>NaN</td>\n",
       "    </tr>\n",
       "    <tr>\n",
       "      <th>2</th>\n",
       "      <td>mario kart wii</td>\n",
       "      <td>wii</td>\n",
       "      <td>2008.0</td>\n",
       "      <td>racing</td>\n",
       "      <td>15.68</td>\n",
       "      <td>12.76</td>\n",
       "      <td>3.79</td>\n",
       "      <td>3.29</td>\n",
       "      <td>82.0</td>\n",
       "      <td>8.3</td>\n",
       "      <td>e</td>\n",
       "    </tr>\n",
       "    <tr>\n",
       "      <th>3</th>\n",
       "      <td>wii sports resort</td>\n",
       "      <td>wii</td>\n",
       "      <td>2009.0</td>\n",
       "      <td>sports</td>\n",
       "      <td>15.61</td>\n",
       "      <td>10.93</td>\n",
       "      <td>3.28</td>\n",
       "      <td>2.95</td>\n",
       "      <td>80.0</td>\n",
       "      <td>8</td>\n",
       "      <td>e</td>\n",
       "    </tr>\n",
       "    <tr>\n",
       "      <th>4</th>\n",
       "      <td>pokemon red/pokemon blue</td>\n",
       "      <td>gb</td>\n",
       "      <td>1996.0</td>\n",
       "      <td>role-playing</td>\n",
       "      <td>11.27</td>\n",
       "      <td>8.89</td>\n",
       "      <td>10.22</td>\n",
       "      <td>1.00</td>\n",
       "      <td>NaN</td>\n",
       "      <td>NaN</td>\n",
       "      <td>NaN</td>\n",
       "    </tr>\n",
       "  </tbody>\n",
       "</table>\n",
       "</div>"
      ],
      "text/plain": [
       "                       name platform  year_of_release         genre  na_sales  \\\n",
       "0                wii sports      wii           2006.0        sports     41.36   \n",
       "1         super mario bros.      nes           1985.0      platform     29.08   \n",
       "2            mario kart wii      wii           2008.0        racing     15.68   \n",
       "3         wii sports resort      wii           2009.0        sports     15.61   \n",
       "4  pokemon red/pokemon blue       gb           1996.0  role-playing     11.27   \n",
       "\n",
       "   eu_sales  jp_sales  other_sales  critic_score user_score rating  \n",
       "0     28.96      3.77         8.45          76.0          8      e  \n",
       "1      3.58      6.81         0.77           NaN        NaN    NaN  \n",
       "2     12.76      3.79         3.29          82.0        8.3      e  \n",
       "3     10.93      3.28         2.95          80.0          8      e  \n",
       "4      8.89     10.22         1.00           NaN        NaN    NaN  "
      ]
     },
     "execution_count": 8,
     "metadata": {},
     "output_type": "execute_result"
    }
   ],
   "source": [
    "# проверим результат. все хорошо\n",
    "data.head()"
   ]
  },
  {
   "cell_type": "code",
   "execution_count": 9,
   "metadata": {},
   "outputs": [
    {
     "data": {
      "text/plain": [
       "2"
      ]
     },
     "execution_count": 9,
     "metadata": {},
     "output_type": "execute_result"
    }
   ],
   "source": [
    "# проверим наличие неявных дубликатов\n",
    "data.duplicated(subset=['name', 'platform', 'year_of_release','genre']).sum()"
   ]
  },
  {
   "cell_type": "code",
   "execution_count": 10,
   "metadata": {},
   "outputs": [],
   "source": [
    "# удалим неявные дуюликаты\n",
    "data = data.drop_duplicates(subset=['name', 'platform', 'year_of_release','genre'])"
   ]
  },
  {
   "cell_type": "code",
   "execution_count": 11,
   "metadata": {},
   "outputs": [
    {
     "data": {
      "text/plain": [
       "0"
      ]
     },
     "execution_count": 11,
     "metadata": {},
     "output_type": "execute_result"
    }
   ],
   "source": [
    "# проверим результат. все в порядке \n",
    "data.duplicated(subset=['name', 'platform', 'year_of_release','genre']).sum()"
   ]
  },
  {
   "cell_type": "code",
   "execution_count": 12,
   "metadata": {},
   "outputs": [
    {
     "data": {
      "text/plain": [
       "name                  1\n",
       "platform              0\n",
       "year_of_release     269\n",
       "genre                 1\n",
       "na_sales              0\n",
       "eu_sales              0\n",
       "jp_sales              0\n",
       "other_sales           0\n",
       "critic_score       8577\n",
       "user_score         6700\n",
       "rating             6765\n",
       "dtype: int64"
      ]
     },
     "execution_count": 12,
     "metadata": {},
     "output_type": "execute_result"
    }
   ],
   "source": [
    "# проверим в каких столбцах есть пропуски\n",
    "data.isna().sum()"
   ]
  },
  {
   "cell_type": "markdown",
   "metadata": {},
   "source": [
    "Пропуски в стобцах с названием игр, годом выхода и жанром придется удалить т.к. нет возможности заполнить их агрегированными значениями. Для столбцов с оценками критиков и пользователей оставим пропуски как есть , будет неправильно заполнять их агрегированными значениями. Пропуски в столбце рейтинг заполним значением 'unknown' т.к. это категориальная оценка."
   ]
  },
  {
   "cell_type": "code",
   "execution_count": 15,
   "metadata": {},
   "outputs": [
    {
     "data": {
      "text/html": [
       "<div>\n",
       "<style scoped>\n",
       "    .dataframe tbody tr th:only-of-type {\n",
       "        vertical-align: middle;\n",
       "    }\n",
       "\n",
       "    .dataframe tbody tr th {\n",
       "        vertical-align: top;\n",
       "    }\n",
       "\n",
       "    .dataframe thead th {\n",
       "        text-align: right;\n",
       "    }\n",
       "</style>\n",
       "<table border=\"1\" class=\"dataframe\">\n",
       "  <thead>\n",
       "    <tr style=\"text-align: right;\">\n",
       "      <th></th>\n",
       "      <th>name</th>\n",
       "      <th>platform</th>\n",
       "      <th>year_of_release</th>\n",
       "      <th>genre</th>\n",
       "      <th>na_sales</th>\n",
       "      <th>eu_sales</th>\n",
       "      <th>jp_sales</th>\n",
       "      <th>other_sales</th>\n",
       "      <th>critic_score</th>\n",
       "      <th>user_score</th>\n",
       "      <th>rating</th>\n",
       "    </tr>\n",
       "  </thead>\n",
       "  <tbody>\n",
       "    <tr>\n",
       "      <th>183</th>\n",
       "      <td>madden nfl 2004</td>\n",
       "      <td>ps2</td>\n",
       "      <td>NaN</td>\n",
       "      <td>sports</td>\n",
       "      <td>4.26</td>\n",
       "      <td>0.26</td>\n",
       "      <td>0.01</td>\n",
       "      <td>0.71</td>\n",
       "      <td>94.0</td>\n",
       "      <td>8.5</td>\n",
       "      <td>e</td>\n",
       "    </tr>\n",
       "    <tr>\n",
       "      <th>377</th>\n",
       "      <td>fifa soccer 2004</td>\n",
       "      <td>ps2</td>\n",
       "      <td>NaN</td>\n",
       "      <td>sports</td>\n",
       "      <td>0.59</td>\n",
       "      <td>2.36</td>\n",
       "      <td>0.04</td>\n",
       "      <td>0.51</td>\n",
       "      <td>84.0</td>\n",
       "      <td>6.4</td>\n",
       "      <td>e</td>\n",
       "    </tr>\n",
       "    <tr>\n",
       "      <th>456</th>\n",
       "      <td>lego batman: the videogame</td>\n",
       "      <td>wii</td>\n",
       "      <td>NaN</td>\n",
       "      <td>action</td>\n",
       "      <td>1.80</td>\n",
       "      <td>0.97</td>\n",
       "      <td>0.00</td>\n",
       "      <td>0.29</td>\n",
       "      <td>74.0</td>\n",
       "      <td>7.9</td>\n",
       "      <td>e10+</td>\n",
       "    </tr>\n",
       "    <tr>\n",
       "      <th>475</th>\n",
       "      <td>wwe smackdown vs. raw 2006</td>\n",
       "      <td>ps2</td>\n",
       "      <td>NaN</td>\n",
       "      <td>fighting</td>\n",
       "      <td>1.57</td>\n",
       "      <td>1.02</td>\n",
       "      <td>0.00</td>\n",
       "      <td>0.41</td>\n",
       "      <td>NaN</td>\n",
       "      <td>NaN</td>\n",
       "      <td>NaN</td>\n",
       "    </tr>\n",
       "    <tr>\n",
       "      <th>609</th>\n",
       "      <td>space invaders</td>\n",
       "      <td>2600</td>\n",
       "      <td>NaN</td>\n",
       "      <td>shooter</td>\n",
       "      <td>2.36</td>\n",
       "      <td>0.14</td>\n",
       "      <td>0.00</td>\n",
       "      <td>0.03</td>\n",
       "      <td>NaN</td>\n",
       "      <td>NaN</td>\n",
       "      <td>NaN</td>\n",
       "    </tr>\n",
       "    <tr>\n",
       "      <th>...</th>\n",
       "      <td>...</td>\n",
       "      <td>...</td>\n",
       "      <td>...</td>\n",
       "      <td>...</td>\n",
       "      <td>...</td>\n",
       "      <td>...</td>\n",
       "      <td>...</td>\n",
       "      <td>...</td>\n",
       "      <td>...</td>\n",
       "      <td>...</td>\n",
       "      <td>...</td>\n",
       "    </tr>\n",
       "    <tr>\n",
       "      <th>16373</th>\n",
       "      <td>pdc world championship darts 2008</td>\n",
       "      <td>psp</td>\n",
       "      <td>NaN</td>\n",
       "      <td>sports</td>\n",
       "      <td>0.01</td>\n",
       "      <td>0.00</td>\n",
       "      <td>0.00</td>\n",
       "      <td>0.00</td>\n",
       "      <td>43.0</td>\n",
       "      <td>tbd</td>\n",
       "      <td>e10+</td>\n",
       "    </tr>\n",
       "    <tr>\n",
       "      <th>16405</th>\n",
       "      <td>freaky flyers</td>\n",
       "      <td>gc</td>\n",
       "      <td>NaN</td>\n",
       "      <td>racing</td>\n",
       "      <td>0.01</td>\n",
       "      <td>0.00</td>\n",
       "      <td>0.00</td>\n",
       "      <td>0.00</td>\n",
       "      <td>69.0</td>\n",
       "      <td>6.5</td>\n",
       "      <td>t</td>\n",
       "    </tr>\n",
       "    <tr>\n",
       "      <th>16448</th>\n",
       "      <td>inversion</td>\n",
       "      <td>pc</td>\n",
       "      <td>NaN</td>\n",
       "      <td>shooter</td>\n",
       "      <td>0.01</td>\n",
       "      <td>0.00</td>\n",
       "      <td>0.00</td>\n",
       "      <td>0.00</td>\n",
       "      <td>59.0</td>\n",
       "      <td>6.7</td>\n",
       "      <td>m</td>\n",
       "    </tr>\n",
       "    <tr>\n",
       "      <th>16458</th>\n",
       "      <td>hakuouki: shinsengumi kitan</td>\n",
       "      <td>ps3</td>\n",
       "      <td>NaN</td>\n",
       "      <td>adventure</td>\n",
       "      <td>0.01</td>\n",
       "      <td>0.00</td>\n",
       "      <td>0.00</td>\n",
       "      <td>0.00</td>\n",
       "      <td>NaN</td>\n",
       "      <td>NaN</td>\n",
       "      <td>NaN</td>\n",
       "    </tr>\n",
       "    <tr>\n",
       "      <th>16522</th>\n",
       "      <td>virtua quest</td>\n",
       "      <td>gc</td>\n",
       "      <td>NaN</td>\n",
       "      <td>role-playing</td>\n",
       "      <td>0.01</td>\n",
       "      <td>0.00</td>\n",
       "      <td>0.00</td>\n",
       "      <td>0.00</td>\n",
       "      <td>55.0</td>\n",
       "      <td>5.5</td>\n",
       "      <td>t</td>\n",
       "    </tr>\n",
       "  </tbody>\n",
       "</table>\n",
       "<p>270 rows × 11 columns</p>\n",
       "</div>"
      ],
      "text/plain": [
       "                                    name platform  year_of_release  \\\n",
       "183                      madden nfl 2004      ps2              NaN   \n",
       "377                     fifa soccer 2004      ps2              NaN   \n",
       "456           lego batman: the videogame      wii              NaN   \n",
       "475           wwe smackdown vs. raw 2006      ps2              NaN   \n",
       "609                       space invaders     2600              NaN   \n",
       "...                                  ...      ...              ...   \n",
       "16373  pdc world championship darts 2008      psp              NaN   \n",
       "16405                      freaky flyers       gc              NaN   \n",
       "16448                          inversion       pc              NaN   \n",
       "16458        hakuouki: shinsengumi kitan      ps3              NaN   \n",
       "16522                       virtua quest       gc              NaN   \n",
       "\n",
       "              genre  na_sales  eu_sales  jp_sales  other_sales  critic_score  \\\n",
       "183          sports      4.26      0.26      0.01         0.71          94.0   \n",
       "377          sports      0.59      2.36      0.04         0.51          84.0   \n",
       "456          action      1.80      0.97      0.00         0.29          74.0   \n",
       "475        fighting      1.57      1.02      0.00         0.41           NaN   \n",
       "609         shooter      2.36      0.14      0.00         0.03           NaN   \n",
       "...             ...       ...       ...       ...          ...           ...   \n",
       "16373        sports      0.01      0.00      0.00         0.00          43.0   \n",
       "16405        racing      0.01      0.00      0.00         0.00          69.0   \n",
       "16448       shooter      0.01      0.00      0.00         0.00          59.0   \n",
       "16458     adventure      0.01      0.00      0.00         0.00           NaN   \n",
       "16522  role-playing      0.01      0.00      0.00         0.00          55.0   \n",
       "\n",
       "      user_score rating  \n",
       "183          8.5      e  \n",
       "377          6.4      e  \n",
       "456          7.9   e10+  \n",
       "475          NaN    NaN  \n",
       "609          NaN    NaN  \n",
       "...          ...    ...  \n",
       "16373        tbd   e10+  \n",
       "16405        6.5      t  \n",
       "16448        6.7      m  \n",
       "16458        NaN    NaN  \n",
       "16522        5.5      t  \n",
       "\n",
       "[270 rows x 11 columns]"
      ]
     },
     "execution_count": 15,
     "metadata": {},
     "output_type": "execute_result"
    }
   ],
   "source": [
    "# посмотрим на строки с пропусками в данных столбцах\n",
    "data.loc[data[['name','year_of_release','genre']].isna().any(axis=1)]"
   ]
  },
  {
   "cell_type": "code",
   "execution_count": 16,
   "metadata": {},
   "outputs": [],
   "source": [
    "# удалим строки с пропусками в названии игры, год выпуска и жанр\n",
    "data = data.dropna(subset=['name','year_of_release','genre'])"
   ]
  },
  {
   "cell_type": "code",
   "execution_count": 17,
   "metadata": {},
   "outputs": [],
   "source": [
    "# заполним пропуски в рейтиге значением 'unknown'\n",
    "data['rating'] = data['rating'].fillna('unknown')"
   ]
  },
  {
   "cell_type": "code",
   "execution_count": 18,
   "metadata": {},
   "outputs": [
    {
     "data": {
      "text/plain": [
       "array(['8', nan, '8.3', '8.5', '6.6', '8.4', '8.6', '7.7', '6.3', '7.4',\n",
       "       '8.2', '9', '7.9', '8.1', '8.7', '7.1', '3.4', '5.3', '4.8', '3.2',\n",
       "       '8.9', '6.4', '7.8', '7.5', '2.6', '7.2', '9.2', '7', '7.3', '4.3',\n",
       "       '7.6', '5.7', '5', '9.1', '6.5', 'tbd', '8.8', '6.9', '9.4', '6.8',\n",
       "       '6.1', '6.7', '5.4', '4', '4.9', '4.5', '9.3', '6.2', '4.2', '6',\n",
       "       '3.7', '4.1', '5.8', '5.6', '5.5', '4.4', '4.6', '5.9', '3.9',\n",
       "       '3.1', '2.9', '5.2', '3.3', '4.7', '5.1', '3.5', '2.5', '1.9', '3',\n",
       "       '2.7', '2.2', '2', '9.5', '2.1', '3.6', '2.8', '1.8', '3.8', '0',\n",
       "       '1.6', '9.6', '2.4', '1.7', '1.1', '0.3', '1.5', '0.7', '1.2',\n",
       "       '2.3', '0.5', '1.3', '0.2', '0.6', '1.4', '0.9', '1', '9.7'],\n",
       "      dtype=object)"
      ]
     },
     "execution_count": 18,
     "metadata": {},
     "output_type": "execute_result"
    }
   ],
   "source": [
    "# посмотрим на уникальные значения в столбце с оценкой играков\n",
    "data['user_score'].unique()"
   ]
  },
  {
   "cell_type": "code",
   "execution_count": 19,
   "metadata": {},
   "outputs": [],
   "source": [
    "# встречается значение 'tbd' , скорее всего это 'NaN' , т.к. тип данных \"object\". заменим это значение на 'NaN'\n",
    "data['user_score'] = data['user_score'].replace('tbd', np.NaN)"
   ]
  },
  {
   "cell_type": "code",
   "execution_count": 20,
   "metadata": {},
   "outputs": [
    {
     "data": {
      "text/plain": [
       "array(['8', nan, '8.3', '8.5', '6.6', '8.4', '8.6', '7.7', '6.3', '7.4',\n",
       "       '8.2', '9', '7.9', '8.1', '8.7', '7.1', '3.4', '5.3', '4.8', '3.2',\n",
       "       '8.9', '6.4', '7.8', '7.5', '2.6', '7.2', '9.2', '7', '7.3', '4.3',\n",
       "       '7.6', '5.7', '5', '9.1', '6.5', '8.8', '6.9', '9.4', '6.8', '6.1',\n",
       "       '6.7', '5.4', '4', '4.9', '4.5', '9.3', '6.2', '4.2', '6', '3.7',\n",
       "       '4.1', '5.8', '5.6', '5.5', '4.4', '4.6', '5.9', '3.9', '3.1',\n",
       "       '2.9', '5.2', '3.3', '4.7', '5.1', '3.5', '2.5', '1.9', '3', '2.7',\n",
       "       '2.2', '2', '9.5', '2.1', '3.6', '2.8', '1.8', '3.8', '0', '1.6',\n",
       "       '9.6', '2.4', '1.7', '1.1', '0.3', '1.5', '0.7', '1.2', '2.3',\n",
       "       '0.5', '1.3', '0.2', '0.6', '1.4', '0.9', '1', '9.7'], dtype=object)"
      ]
     },
     "execution_count": 20,
     "metadata": {},
     "output_type": "execute_result"
    }
   ],
   "source": [
    "# проверим результат. все в порядке\n",
    "data['user_score'].unique()"
   ]
  },
  {
   "cell_type": "code",
   "execution_count": 21,
   "metadata": {},
   "outputs": [
    {
     "data": {
      "text/plain": [
       "name                  0\n",
       "platform              0\n",
       "year_of_release       0\n",
       "genre                 0\n",
       "na_sales              0\n",
       "eu_sales              0\n",
       "jp_sales              0\n",
       "other_sales           0\n",
       "critic_score       8461\n",
       "user_score         8981\n",
       "rating                0\n",
       "dtype: int64"
      ]
     },
     "execution_count": 21,
     "metadata": {},
     "output_type": "execute_result"
    }
   ],
   "source": [
    "# проверим результат работы с пропусками. все нежелательные пропуски исправлены\n",
    "data.isna().sum()"
   ]
  },
  {
   "cell_type": "code",
   "execution_count": 22,
   "metadata": {},
   "outputs": [],
   "source": [
    "# поменяем формат для столбца с годом и оценкой пользователей\n",
    "data['year_of_release'] = data['year_of_release'].astype('int')\n",
    "data['user_score'] = data['user_score'].astype('float')"
   ]
  },
  {
   "cell_type": "code",
   "execution_count": 23,
   "metadata": {
    "scrolled": true
   },
   "outputs": [
    {
     "data": {
      "text/html": [
       "<div>\n",
       "<style scoped>\n",
       "    .dataframe tbody tr th:only-of-type {\n",
       "        vertical-align: middle;\n",
       "    }\n",
       "\n",
       "    .dataframe tbody tr th {\n",
       "        vertical-align: top;\n",
       "    }\n",
       "\n",
       "    .dataframe thead th {\n",
       "        text-align: right;\n",
       "    }\n",
       "</style>\n",
       "<table border=\"1\" class=\"dataframe\">\n",
       "  <thead>\n",
       "    <tr style=\"text-align: right;\">\n",
       "      <th></th>\n",
       "      <th>name</th>\n",
       "      <th>platform</th>\n",
       "      <th>year_of_release</th>\n",
       "      <th>genre</th>\n",
       "      <th>na_sales</th>\n",
       "      <th>eu_sales</th>\n",
       "      <th>jp_sales</th>\n",
       "      <th>other_sales</th>\n",
       "      <th>critic_score</th>\n",
       "      <th>user_score</th>\n",
       "      <th>rating</th>\n",
       "      <th>total_sales</th>\n",
       "    </tr>\n",
       "  </thead>\n",
       "  <tbody>\n",
       "    <tr>\n",
       "      <th>0</th>\n",
       "      <td>wii sports</td>\n",
       "      <td>wii</td>\n",
       "      <td>2006</td>\n",
       "      <td>sports</td>\n",
       "      <td>41.36</td>\n",
       "      <td>28.96</td>\n",
       "      <td>3.77</td>\n",
       "      <td>8.45</td>\n",
       "      <td>76.0</td>\n",
       "      <td>8.0</td>\n",
       "      <td>e</td>\n",
       "      <td>82.54</td>\n",
       "    </tr>\n",
       "    <tr>\n",
       "      <th>1</th>\n",
       "      <td>super mario bros.</td>\n",
       "      <td>nes</td>\n",
       "      <td>1985</td>\n",
       "      <td>platform</td>\n",
       "      <td>29.08</td>\n",
       "      <td>3.58</td>\n",
       "      <td>6.81</td>\n",
       "      <td>0.77</td>\n",
       "      <td>NaN</td>\n",
       "      <td>NaN</td>\n",
       "      <td>unknown</td>\n",
       "      <td>40.24</td>\n",
       "    </tr>\n",
       "    <tr>\n",
       "      <th>2</th>\n",
       "      <td>mario kart wii</td>\n",
       "      <td>wii</td>\n",
       "      <td>2008</td>\n",
       "      <td>racing</td>\n",
       "      <td>15.68</td>\n",
       "      <td>12.76</td>\n",
       "      <td>3.79</td>\n",
       "      <td>3.29</td>\n",
       "      <td>82.0</td>\n",
       "      <td>8.3</td>\n",
       "      <td>e</td>\n",
       "      <td>35.52</td>\n",
       "    </tr>\n",
       "    <tr>\n",
       "      <th>3</th>\n",
       "      <td>wii sports resort</td>\n",
       "      <td>wii</td>\n",
       "      <td>2009</td>\n",
       "      <td>sports</td>\n",
       "      <td>15.61</td>\n",
       "      <td>10.93</td>\n",
       "      <td>3.28</td>\n",
       "      <td>2.95</td>\n",
       "      <td>80.0</td>\n",
       "      <td>8.0</td>\n",
       "      <td>e</td>\n",
       "      <td>32.77</td>\n",
       "    </tr>\n",
       "    <tr>\n",
       "      <th>4</th>\n",
       "      <td>pokemon red/pokemon blue</td>\n",
       "      <td>gb</td>\n",
       "      <td>1996</td>\n",
       "      <td>role-playing</td>\n",
       "      <td>11.27</td>\n",
       "      <td>8.89</td>\n",
       "      <td>10.22</td>\n",
       "      <td>1.00</td>\n",
       "      <td>NaN</td>\n",
       "      <td>NaN</td>\n",
       "      <td>unknown</td>\n",
       "      <td>31.38</td>\n",
       "    </tr>\n",
       "  </tbody>\n",
       "</table>\n",
       "</div>"
      ],
      "text/plain": [
       "                       name platform  year_of_release         genre  na_sales  \\\n",
       "0                wii sports      wii             2006        sports     41.36   \n",
       "1         super mario bros.      nes             1985      platform     29.08   \n",
       "2            mario kart wii      wii             2008        racing     15.68   \n",
       "3         wii sports resort      wii             2009        sports     15.61   \n",
       "4  pokemon red/pokemon blue       gb             1996  role-playing     11.27   \n",
       "\n",
       "   eu_sales  jp_sales  other_sales  critic_score  user_score   rating  \\\n",
       "0     28.96      3.77         8.45          76.0         8.0        e   \n",
       "1      3.58      6.81         0.77           NaN         NaN  unknown   \n",
       "2     12.76      3.79         3.29          82.0         8.3        e   \n",
       "3     10.93      3.28         2.95          80.0         8.0        e   \n",
       "4      8.89     10.22         1.00           NaN         NaN  unknown   \n",
       "\n",
       "   total_sales  \n",
       "0        82.54  \n",
       "1        40.24  \n",
       "2        35.52  \n",
       "3        32.77  \n",
       "4        31.38  "
      ]
     },
     "execution_count": 23,
     "metadata": {},
     "output_type": "execute_result"
    }
   ],
   "source": [
    "# добавим столбец с общей выручкой\n",
    "data['total_sales'] = data['na_sales'] + data['eu_sales'] + data['jp_sales'] + data['other_sales']\n",
    "data.head()"
   ]
  },
  {
   "cell_type": "markdown",
   "metadata": {},
   "source": [
    "### Вывод по предобработке данных.\n",
    "В ходе предобработке данных были выполнены следующие шаги :\n",
    "1. Названия столбцов были приведены к нижнему регистру, а также название игр и платформ, жанр и рейтинг.\n",
    "2. Были удалены неявные дубликаты в столбцах с названием игр и платформ, жанр и рейтинг.\n",
    "2. Были удалены строки с пропусками в названии игры, год выпуска и жанр.\n",
    "3. Заполнили пропуски в рейтиге значением 'unknown'.\n",
    "4. В столбце с оценками пользователей значения 'tbd' были заменены на 'NaN'.\n",
    "5. Столбцы с оценкоами пользователей и годом выпуска игры были приведены к числовому формату.\n",
    "6. Был добавлен столбец с суммарной выручкой по миру для каждой игры.\n",
    "7. Пропуски с оценками критиков и пользователей оставим как есть , будет неправильно заполнять их агрегированными значениями.\n",
    "<br>\n",
    "Причинами появления пропусков в данных могут быть: неверный ввод данных, сокрытие информации, повреждение файла данных при сохранении, технические проблемы.\n"
   ]
  },
  {
   "cell_type": "markdown",
   "metadata": {},
   "source": [
    "## Исследовательский анализ."
   ]
  },
  {
   "cell_type": "code",
   "execution_count": 25,
   "metadata": {},
   "outputs": [
    {
     "data": {
      "image/png": "[encoded data removed]",
      "text/plain": [
       "<Figure size 576x432 with 1 Axes>"
      ]
     },
     "metadata": {
      "needs_background": "light"
     },
     "output_type": "display_data"
    }
   ],
   "source": [
    "# график с кол-вом выпущенных игр по годам\n",
    "data.groupby('year_of_release')['year_of_release'].sum().plot.bar(figsize=(8,6) , xlabel='год' , ylabel='кол-во')\n",
    "plt.title('год релиза')\n",
    "plt.show()"
   ]
  },
  {
   "cell_type": "markdown",
   "metadata": {},
   "source": [
    "На графике видно , что с 2001г выпуск игр значительно вырос.После 2011г начался резкий спад."
   ]
  },
  {
   "cell_type": "markdown",
   "metadata": {},
   "source": [
    "Выберем платформы с наибольшими суммарными продажами и построем распределение по годам."
   ]
  },
  {
   "cell_type": "code",
   "execution_count": 26,
   "metadata": {
    "scrolled": true
   },
   "outputs": [
    {
     "data": {
      "text/plain": [
       "platform\n",
       "ps2     1233.56\n",
       "x360     961.24\n",
       "ps3      931.33\n",
       "wii      891.18\n",
       "ds       802.78\n",
       "ps       727.58\n",
       "ps4      314.14\n",
       "gba      312.88\n",
       "psp      289.53\n",
       "3ds      257.81\n",
       "pc       255.76\n",
       "gb       254.43\n",
       "xb       251.57\n",
       "nes      251.05\n",
       "n64      218.01\n",
       "snes     200.04\n",
       "gc       196.73\n",
       "xone     159.32\n",
       "2600      86.48\n",
       "wiiu      82.19\n",
       "Name: total_sales, dtype: float64"
      ]
     },
     "execution_count": 26,
     "metadata": {},
     "output_type": "execute_result"
    }
   ],
   "source": [
    "data.groupby('platform')['total_sales'].sum().sort_values(ascending=False).head(20)"
   ]
  },
  {
   "cell_type": "markdown",
   "metadata": {},
   "source": [
    "Платфрмы \"PS2\",\"X360\",\"PS3\",\"Wii\",\"DS\",\"PS4\",\"GBA\"  являются лидерами по суммарным продажам по годам. Посторим график появления и исчезновения платформ."
   ]
  },
  {
   "cell_type": "code",
   "execution_count": 27,
   "metadata": {},
   "outputs": [
    {
     "data": {
      "image/png": "[encoded data removed]",
      "text/plain": [
       "<Figure size 1008x432 with 1 Axes>"
      ]
     },
     "metadata": {
      "needs_background": "light"
     },
     "output_type": "display_data"
    }
   ],
   "source": [
    "# график появления и исчезновения платформ\n",
    "data.query('platform ==  [\"ps2\",\"x360\",\"ps3\",\"wii\",\"ds\",\"ps4\",\"gba\",\"psp\",\"3ds\",\"pc\",\"gb\",\"xb\",\"nes\"]').pivot_table(index='year_of_release',\n",
    "                        columns = 'platform',\n",
    "                        values='total_sales',\n",
    "                        aggfunc='sum').plot(grid=True,xlabel='год выхода',ylabel='кол-во' , figsize=(14, 6))\n",
    "plt.show()"
   ]
  },
  {
   "cell_type": "markdown",
   "metadata": {},
   "source": [
    "Можно сказать , что новые платформы появляются примерно каждые 5-10 лет , примерно столько же они остаются актуальными."
   ]
  },
  {
   "cell_type": "markdown",
   "metadata": {},
   "source": [
    "Для дальнейшего исследования возьмем данные за 2014, 2015 и 2016 года т.к. нам нужно сделать прогноз на 2017г. Данные за этот период будут более актуальными."
   ]
  },
  {
   "cell_type": "code",
   "execution_count": 29,
   "metadata": {},
   "outputs": [],
   "source": [
    "# сделаем новую таблицу с выходом игр после 2014\n",
    "data_filter = data.query(\"2014 <= year_of_release <= 2016\")"
   ]
  },
  {
   "cell_type": "code",
   "execution_count": 30,
   "metadata": {
    "scrolled": false
   },
   "outputs": [
    {
     "data": {
      "image/png": "[encoded data removed]",
      "text/plain": [
       "<Figure size 1008x432 with 1 Axes>"
      ]
     },
     "metadata": {
      "needs_background": "light"
     },
     "output_type": "display_data"
    }
   ],
   "source": [
    "# график расспределения продаж по годам\n",
    "data_filter.pivot_table(index='year_of_release',\n",
    "                        columns = 'platform',\n",
    "                        values='total_sales',\n",
    "                        aggfunc='sum').plot(grid=True,xlabel='год выхода',ylabel='кол-во' , figsize=(14, 6))\n",
    "plt.title('продажи по годам')\n",
    "\n",
    "plt.show()"
   ]
  },
  {
   "cell_type": "markdown",
   "metadata": {},
   "source": [
    "На графике видно, что продажи по платформам падают, наиболее актуальными являются PS4 и XOne. 3ds менее актульна , но все же еще представляет коммерчиский интерес.Так же возьмем для исследования рс т.к. компьютер это постоянно обновляемая платформа, которая никогда не теряет актуальности."
   ]
  },
  {
   "cell_type": "code",
   "execution_count": 31,
   "metadata": {},
   "outputs": [],
   "source": [
    "# таблица с данными за 2014,2015 и 2016 года для плтаформ \"ps4\",\"xone\",\"3ds\",\"pc\"\n",
    "data_filter_final = data_filter.query('platform == [\"ps4\",\"xone\",\"3ds\",\"pc\"]')"
   ]
  },
  {
   "cell_type": "code",
   "execution_count": 32,
   "metadata": {},
   "outputs": [
    {
     "data": {
      "text/html": [
       "<div>\n",
       "<style scoped>\n",
       "    .dataframe tbody tr th:only-of-type {\n",
       "        vertical-align: middle;\n",
       "    }\n",
       "\n",
       "    .dataframe tbody tr th {\n",
       "        vertical-align: top;\n",
       "    }\n",
       "\n",
       "    .dataframe thead th {\n",
       "        text-align: right;\n",
       "    }\n",
       "</style>\n",
       "<table border=\"1\" class=\"dataframe\">\n",
       "  <thead>\n",
       "    <tr style=\"text-align: right;\">\n",
       "      <th></th>\n",
       "      <th>count</th>\n",
       "      <th>mean</th>\n",
       "      <th>std</th>\n",
       "      <th>min</th>\n",
       "      <th>25%</th>\n",
       "      <th>50%</th>\n",
       "      <th>75%</th>\n",
       "      <th>max</th>\n",
       "    </tr>\n",
       "    <tr>\n",
       "      <th>platform</th>\n",
       "      <th></th>\n",
       "      <th></th>\n",
       "      <th></th>\n",
       "      <th></th>\n",
       "      <th></th>\n",
       "      <th></th>\n",
       "      <th></th>\n",
       "      <th></th>\n",
       "    </tr>\n",
       "  </thead>\n",
       "  <tbody>\n",
       "    <tr>\n",
       "      <th>3ds</th>\n",
       "      <td>212.0</td>\n",
       "      <td>0.408868</td>\n",
       "      <td>1.188368</td>\n",
       "      <td>0.01</td>\n",
       "      <td>0.0300</td>\n",
       "      <td>0.090</td>\n",
       "      <td>0.2500</td>\n",
       "      <td>11.68</td>\n",
       "    </tr>\n",
       "    <tr>\n",
       "      <th>pc</th>\n",
       "      <td>151.0</td>\n",
       "      <td>0.179139</td>\n",
       "      <td>0.329359</td>\n",
       "      <td>0.01</td>\n",
       "      <td>0.0200</td>\n",
       "      <td>0.060</td>\n",
       "      <td>0.2000</td>\n",
       "      <td>3.05</td>\n",
       "    </tr>\n",
       "    <tr>\n",
       "      <th>ps4</th>\n",
       "      <td>376.0</td>\n",
       "      <td>0.766356</td>\n",
       "      <td>1.614969</td>\n",
       "      <td>0.01</td>\n",
       "      <td>0.0575</td>\n",
       "      <td>0.185</td>\n",
       "      <td>0.6900</td>\n",
       "      <td>14.63</td>\n",
       "    </tr>\n",
       "    <tr>\n",
       "      <th>xone</th>\n",
       "      <td>228.0</td>\n",
       "      <td>0.615614</td>\n",
       "      <td>1.046513</td>\n",
       "      <td>0.01</td>\n",
       "      <td>0.0500</td>\n",
       "      <td>0.205</td>\n",
       "      <td>0.6325</td>\n",
       "      <td>7.39</td>\n",
       "    </tr>\n",
       "  </tbody>\n",
       "</table>\n",
       "</div>"
      ],
      "text/plain": [
       "          count      mean       std   min     25%    50%     75%    max\n",
       "platform                                                               \n",
       "3ds       212.0  0.408868  1.188368  0.01  0.0300  0.090  0.2500  11.68\n",
       "pc        151.0  0.179139  0.329359  0.01  0.0200  0.060  0.2000   3.05\n",
       "ps4       376.0  0.766356  1.614969  0.01  0.0575  0.185  0.6900  14.63\n",
       "xone      228.0  0.615614  1.046513  0.01  0.0500  0.205  0.6325   7.39"
      ]
     },
     "execution_count": 32,
     "metadata": {},
     "output_type": "execute_result"
    }
   ],
   "source": [
    "data_filter_final.groupby('platform')['total_sales'].describe()"
   ]
  },
  {
   "cell_type": "code",
   "execution_count": 33,
   "metadata": {
    "scrolled": false
   },
   "outputs": [
    {
     "data": {
      "image/png": "[encoded data removed]",
      "text/plain": [
       "<Figure size 432x432 with 1 Axes>"
      ]
     },
     "metadata": {
      "needs_background": "light"
     },
     "output_type": "display_data"
    }
   ],
   "source": [
    "# \"ящик с усами\" по прадажам за 2015 2016 года для РС4 ,Xbox one , pc u 3ds\n",
    "data_filter_final.boxplot(by='platform',column='total_sales', figsize=(6,6))\n",
    "plt.title('глобальные продажи')\n",
    "plt.show()"
   ]
  },
  {
   "cell_type": "code",
   "execution_count": 34,
   "metadata": {},
   "outputs": [
    {
     "data": {
      "image/png": "[encoded data removed]",
      "text/plain": [
       "<Figure size 432x432 with 1 Axes>"
      ]
     },
     "metadata": {
      "needs_background": "light"
     },
     "output_type": "display_data"
    }
   ],
   "source": [
    "# детальный \"ящик с усами\" по прадажам за 2015 2016 года для РС4 ,Xbox one , pc u 3ds\n",
    "data_filter_final.boxplot(by='platform',column='total_sales', figsize=(6,6))\n",
    "plt.title('глобальные продажи')\n",
    "plt.ylim(0,1.6)\n",
    "plt.show()"
   ]
  },
  {
   "cell_type": "markdown",
   "metadata": {},
   "source": [
    "У РС4 выше продажи за этот период а также больше выбросов , что говорит о большем кол-ве игр , которые \"выстрелили\".<br>\n",
    "Поэтому возьмем данные для РС4 , чтобы посмотрить, как влияют на продажи внутри одной популярной платформы отзывы пользователей и критиков. Построем диаграмму рассеяния и посчитаем корреляцию между отзывами и продажами."
   ]
  },
  {
   "cell_type": "code",
   "execution_count": 35,
   "metadata": {},
   "outputs": [],
   "source": [
    "# переменная с данными за 2015 и 2016 года для РС4\n",
    "data_ps4 = data_filter_final[data_filter_final['platform'] == 'ps4']"
   ]
  },
  {
   "cell_type": "code",
   "execution_count": 36,
   "metadata": {
    "scrolled": true
   },
   "outputs": [
    {
     "data": {
      "image/png": "[encoded data removed]",
      "text/plain": [
       "<Figure size 432x288 with 1 Axes>"
      ]
     },
     "metadata": {
      "needs_background": "light"
     },
     "output_type": "display_data"
    }
   ],
   "source": [
    "# график зависимоти продаж от оценок пользователей \n",
    "data_ps4.plot(x='user_score',\n",
    "                                     y='total_sales', kind='scatter',\n",
    "                                     xlabel='оценки пользователей',ylabel='продажи')\n",
    "plt.title('зависимоть продаж от оценок пользователей для PS4')\n",
    "plt.show()"
   ]
  },
  {
   "cell_type": "code",
   "execution_count": 37,
   "metadata": {},
   "outputs": [
    {
     "data": {
      "text/plain": [
       "-0.040131589472697356"
      ]
     },
     "execution_count": 37,
     "metadata": {},
     "output_type": "execute_result"
    }
   ],
   "source": [
    "# корреляция между оценками пользователей и продажами для PS4\n",
    "data_ps4['user_score'].corr(data_ps4['total_sales'])"
   ]
  },
  {
   "cell_type": "markdown",
   "metadata": {},
   "source": [
    "Видим, что зависимость между оценками пользователей и продажами очень слабо выраженна."
   ]
  },
  {
   "cell_type": "code",
   "execution_count": 38,
   "metadata": {},
   "outputs": [
    {
     "data": {
      "image/png": "[encoded data removed]",
      "text/plain": [
       "<Figure size 432x288 with 1 Axes>"
      ]
     },
     "metadata": {
      "needs_background": "light"
     },
     "output_type": "display_data"
    }
   ],
   "source": [
    "# график зависимоти продаж от оценок критиков\n",
    "data_ps4.plot(x='critic_score',\n",
    "                                     y='total_sales', kind='scatter',\n",
    "                                     xlabel='оценки критиков',ylabel='продажи')\n",
    "plt.title('зависимоть продаж от оценок критиков для PS4')\n",
    "plt.show()"
   ]
  },
  {
   "cell_type": "code",
   "execution_count": 39,
   "metadata": {},
   "outputs": [
    {
     "data": {
      "text/plain": [
       "0.40266141068104083"
      ]
     },
     "execution_count": 39,
     "metadata": {},
     "output_type": "execute_result"
    }
   ],
   "source": [
    "# корреляция между оценками пользователей и продажами для PS4\n",
    "data_ps4['critic_score'].corr(data_ps4['total_sales'])"
   ]
  },
  {
   "cell_type": "markdown",
   "metadata": {},
   "source": [
    "Очевидно , что зависимость между продажами и оценкой критиков выше чем между продажами и оценкой пользователей , но все равно зависимомть достаточно слабо выраженна."
   ]
  },
  {
   "cell_type": "markdown",
   "metadata": {},
   "source": [
    "В целом мы видим , что есть зависимоть между оценками пользователей\\критиков и продажами , но эта зависимость не ярко выражена. "
   ]
  },
  {
   "cell_type": "code",
   "execution_count": 40,
   "metadata": {
    "scrolled": true
   },
   "outputs": [
    {
     "data": {
      "text/html": [
       "<div>\n",
       "<style scoped>\n",
       "    .dataframe tbody tr th:only-of-type {\n",
       "        vertical-align: middle;\n",
       "    }\n",
       "\n",
       "    .dataframe tbody tr th {\n",
       "        vertical-align: top;\n",
       "    }\n",
       "\n",
       "    .dataframe thead th {\n",
       "        text-align: right;\n",
       "    }\n",
       "</style>\n",
       "<table border=\"1\" class=\"dataframe\">\n",
       "  <thead>\n",
       "    <tr style=\"text-align: right;\">\n",
       "      <th></th>\n",
       "      <th>count</th>\n",
       "      <th>mean</th>\n",
       "      <th>std</th>\n",
       "      <th>min</th>\n",
       "      <th>25%</th>\n",
       "      <th>50%</th>\n",
       "      <th>75%</th>\n",
       "      <th>max</th>\n",
       "    </tr>\n",
       "    <tr>\n",
       "      <th>platform</th>\n",
       "      <th></th>\n",
       "      <th></th>\n",
       "      <th></th>\n",
       "      <th></th>\n",
       "      <th></th>\n",
       "      <th></th>\n",
       "      <th></th>\n",
       "      <th></th>\n",
       "    </tr>\n",
       "  </thead>\n",
       "  <tbody>\n",
       "    <tr>\n",
       "      <th>3ds</th>\n",
       "      <td>212.0</td>\n",
       "      <td>0.408868</td>\n",
       "      <td>1.188368</td>\n",
       "      <td>0.01</td>\n",
       "      <td>0.0300</td>\n",
       "      <td>0.090</td>\n",
       "      <td>0.2500</td>\n",
       "      <td>11.68</td>\n",
       "    </tr>\n",
       "    <tr>\n",
       "      <th>pc</th>\n",
       "      <td>151.0</td>\n",
       "      <td>0.179139</td>\n",
       "      <td>0.329359</td>\n",
       "      <td>0.01</td>\n",
       "      <td>0.0200</td>\n",
       "      <td>0.060</td>\n",
       "      <td>0.2000</td>\n",
       "      <td>3.05</td>\n",
       "    </tr>\n",
       "    <tr>\n",
       "      <th>ps3</th>\n",
       "      <td>219.0</td>\n",
       "      <td>0.311324</td>\n",
       "      <td>0.633059</td>\n",
       "      <td>0.01</td>\n",
       "      <td>0.0400</td>\n",
       "      <td>0.110</td>\n",
       "      <td>0.3250</td>\n",
       "      <td>5.27</td>\n",
       "    </tr>\n",
       "    <tr>\n",
       "      <th>ps4</th>\n",
       "      <td>376.0</td>\n",
       "      <td>0.766356</td>\n",
       "      <td>1.614969</td>\n",
       "      <td>0.01</td>\n",
       "      <td>0.0575</td>\n",
       "      <td>0.185</td>\n",
       "      <td>0.6900</td>\n",
       "      <td>14.63</td>\n",
       "    </tr>\n",
       "    <tr>\n",
       "      <th>psp</th>\n",
       "      <td>13.0</td>\n",
       "      <td>0.027692</td>\n",
       "      <td>0.027735</td>\n",
       "      <td>0.01</td>\n",
       "      <td>0.0100</td>\n",
       "      <td>0.020</td>\n",
       "      <td>0.0200</td>\n",
       "      <td>0.09</td>\n",
       "    </tr>\n",
       "    <tr>\n",
       "      <th>psv</th>\n",
       "      <td>295.0</td>\n",
       "      <td>0.075932</td>\n",
       "      <td>0.141591</td>\n",
       "      <td>0.01</td>\n",
       "      <td>0.0200</td>\n",
       "      <td>0.040</td>\n",
       "      <td>0.0900</td>\n",
       "      <td>1.96</td>\n",
       "    </tr>\n",
       "    <tr>\n",
       "      <th>wii</th>\n",
       "      <td>11.0</td>\n",
       "      <td>0.460909</td>\n",
       "      <td>0.625451</td>\n",
       "      <td>0.01</td>\n",
       "      <td>0.0350</td>\n",
       "      <td>0.180</td>\n",
       "      <td>0.7550</td>\n",
       "      <td>2.01</td>\n",
       "    </tr>\n",
       "    <tr>\n",
       "      <th>wiiu</th>\n",
       "      <td>73.0</td>\n",
       "      <td>0.588767</td>\n",
       "      <td>1.161467</td>\n",
       "      <td>0.01</td>\n",
       "      <td>0.0500</td>\n",
       "      <td>0.190</td>\n",
       "      <td>0.5700</td>\n",
       "      <td>7.09</td>\n",
       "    </tr>\n",
       "    <tr>\n",
       "      <th>x360</th>\n",
       "      <td>111.0</td>\n",
       "      <td>0.434414</td>\n",
       "      <td>0.628967</td>\n",
       "      <td>0.01</td>\n",
       "      <td>0.0700</td>\n",
       "      <td>0.180</td>\n",
       "      <td>0.5050</td>\n",
       "      <td>4.28</td>\n",
       "    </tr>\n",
       "    <tr>\n",
       "      <th>xone</th>\n",
       "      <td>228.0</td>\n",
       "      <td>0.615614</td>\n",
       "      <td>1.046513</td>\n",
       "      <td>0.01</td>\n",
       "      <td>0.0500</td>\n",
       "      <td>0.205</td>\n",
       "      <td>0.6325</td>\n",
       "      <td>7.39</td>\n",
       "    </tr>\n",
       "  </tbody>\n",
       "</table>\n",
       "</div>"
      ],
      "text/plain": [
       "          count      mean       std   min     25%    50%     75%    max\n",
       "platform                                                               \n",
       "3ds       212.0  0.408868  1.188368  0.01  0.0300  0.090  0.2500  11.68\n",
       "pc        151.0  0.179139  0.329359  0.01  0.0200  0.060  0.2000   3.05\n",
       "ps3       219.0  0.311324  0.633059  0.01  0.0400  0.110  0.3250   5.27\n",
       "ps4       376.0  0.766356  1.614969  0.01  0.0575  0.185  0.6900  14.63\n",
       "psp        13.0  0.027692  0.027735  0.01  0.0100  0.020  0.0200   0.09\n",
       "psv       295.0  0.075932  0.141591  0.01  0.0200  0.040  0.0900   1.96\n",
       "wii        11.0  0.460909  0.625451  0.01  0.0350  0.180  0.7550   2.01\n",
       "wiiu       73.0  0.588767  1.161467  0.01  0.0500  0.190  0.5700   7.09\n",
       "x360      111.0  0.434414  0.628967  0.01  0.0700  0.180  0.5050   4.28\n",
       "xone      228.0  0.615614  1.046513  0.01  0.0500  0.205  0.6325   7.39"
      ]
     },
     "execution_count": 40,
     "metadata": {},
     "output_type": "execute_result"
    }
   ],
   "source": [
    "data_filter.groupby('platform')['total_sales'].describe()"
   ]
  },
  {
   "cell_type": "code",
   "execution_count": 41,
   "metadata": {},
   "outputs": [
    {
     "data": {
      "text/plain": [
       "-0.013070305002484585"
      ]
     },
     "execution_count": 41,
     "metadata": {},
     "output_type": "execute_result"
    }
   ],
   "source": [
    "# корреляция между оценками пользователей и продажами для всех платформ\n",
    "data_filter['user_score'].corr(data_filter['total_sales'])"
   ]
  },
  {
   "cell_type": "code",
   "execution_count": 42,
   "metadata": {},
   "outputs": [
    {
     "data": {
      "image/png": "[encoded data removed]",
      "text/plain": [
       "<Figure size 432x288 with 1 Axes>"
      ]
     },
     "metadata": {
      "needs_background": "light"
     },
     "output_type": "display_data"
    }
   ],
   "source": [
    "# график зависимоти продаж от оценок пользователей \n",
    "data_filter.plot(x='user_score',\n",
    "                                     y='total_sales', kind='scatter',\n",
    "                                     xlabel='оценки пользователей',ylabel='продажи')\n",
    "plt.title('зависимоть продаж от оценок пользователей для актульных платформ')\n",
    "plt.show()"
   ]
  },
  {
   "cell_type": "code",
   "execution_count": 43,
   "metadata": {},
   "outputs": [
    {
     "data": {
      "text/plain": [
       "0.328105086966363"
      ]
     },
     "execution_count": 43,
     "metadata": {},
     "output_type": "execute_result"
    }
   ],
   "source": [
    "# корреляция между оценками пользователей и продажами для всех платформ\n",
    "data_filter['critic_score'].corr(data_filter['total_sales'])"
   ]
  },
  {
   "cell_type": "code",
   "execution_count": 44,
   "metadata": {},
   "outputs": [
    {
     "data": {
      "image/png": "[encoded data removed]",
      "text/plain": [
       "<Figure size 432x288 with 1 Axes>"
      ]
     },
     "metadata": {
      "needs_background": "light"
     },
     "output_type": "display_data"
    }
   ],
   "source": [
    "# график зависимоти продаж от оценок критиков\n",
    "data_filter.plot(x='critic_score',\n",
    "                                     y='total_sales', kind='scatter',\n",
    "                                     xlabel='оценки критиков',ylabel='продажи')\n",
    "plt.title('зависимоть продаж от оценок критиков для актуальных платформ')\n",
    "plt.show()"
   ]
  },
  {
   "cell_type": "code",
   "execution_count": 45,
   "metadata": {
    "scrolled": true
   },
   "outputs": [
    {
     "name": "stdout",
     "output_type": "stream",
     "text": [
      "Корреляция между оценками пользователей и продажами для всех платформ : -0.013070305002484585\n",
      "Корреляция между оценками пользователей и продажами для PS4 : -0.040131589472697356\n",
      "Корреляция между оценками критиков и продажами для всех платформ : 0.328105086966363\n",
      "Корреляция между оценками критиков и продажами для PS4 : 0.40266141068104083\n"
     ]
    }
   ],
   "source": [
    "print('Корреляция между оценками пользователей и продажами для всех платформ :',data_filter['user_score'].corr(data_filter['total_sales']))\n",
    "print('Корреляция между оценками пользователей и продажами для PS4 :',data_ps4['user_score'].corr(data_ps4['total_sales']))\n",
    "print('Корреляция между оценками критиков и продажами для всех платформ :',data_filter['critic_score'].corr(data_filter['total_sales']))\n",
    "print('Корреляция между оценками критиков и продажами для PS4 :',data_ps4['critic_score'].corr(data_ps4['total_sales']))"
   ]
  },
  {
   "cell_type": "markdown",
   "metadata": {},
   "source": [
    "В целом, зависимость между оценками критиков\\пользователей и продажами для РС4 и другими платформами похожа. Не ярко выражена."
   ]
  },
  {
   "cell_type": "markdown",
   "metadata": {},
   "source": [
    "Посмотрим на общее распределение игр по жанрам."
   ]
  },
  {
   "cell_type": "code",
   "execution_count": 46,
   "metadata": {
    "scrolled": false
   },
   "outputs": [
    {
     "data": {
      "image/png": "[encoded data removed]",
      "text/plain": [
       "<Figure size 936x432 with 1 Axes>"
      ]
     },
     "metadata": {
      "needs_background": "light"
     },
     "output_type": "display_data"
    }
   ],
   "source": [
    "# \"ящик с усами\" для продаж по жанрам \n",
    "data_filter.boxplot(by='genre',column='total_sales', figsize=(13,6))\n",
    "plt.title('глобальные продажи')\n",
    "plt.show()"
   ]
  },
  {
   "cell_type": "code",
   "execution_count": 47,
   "metadata": {
    "scrolled": false
   },
   "outputs": [
    {
     "data": {
      "image/png": "[encoded data removed]",
      "text/plain": [
       "<Figure size 936x432 with 1 Axes>"
      ]
     },
     "metadata": {
      "needs_background": "light"
     },
     "output_type": "display_data"
    }
   ],
   "source": [
    "# \"ящик с усами\" для продаж по жанрам \n",
    "data_filter.boxplot(by='genre',column='total_sales', figsize=(13,6))\n",
    "plt.title('глобальные продажи')\n",
    "plt.ylim(0,3.8)\n",
    "plt.show()"
   ]
  },
  {
   "cell_type": "markdown",
   "metadata": {},
   "source": [
    "На диаграмме размаха мы видим, что жанр \"Shooter\" имеет самае высокие выбросы. Это говорит о большом кол-ве игр, которые имели очень высокие продажи. Так же у этого жанра самые высокие медиальные значения, из этого следаует , что на дестанции этот жанр имеет более высокие продажи. Стоит выделить жанры \"Sports\" и \"Platform\". Оба жанра имеют хорошие медиальные значения и выбросы, но в жанре \"Sports\" их больше. Так же обращает на себя внимание жанр \"Action\", его медиальные значения не так высоки, но очень много выбросов.  "
   ]
  },
  {
   "cell_type": "code",
   "execution_count": 48,
   "metadata": {
    "scrolled": true
   },
   "outputs": [
    {
     "data": {
      "image/png": "[encoded data removed]",
      "text/plain": [
       "<Figure size 864x360 with 1 Axes>"
      ]
     },
     "metadata": {
      "needs_background": "light"
     },
     "output_type": "display_data"
    }
   ],
   "source": [
    "data_filter.pivot_table(index='genre',\n",
    "                 values='total_sales',\n",
    "                 aggfunc='median').sort_values(by='total_sales',\n",
    "                                               ascending=False).plot.barh(grid=True, \n",
    "                                                                         figsize=(12, 5),\n",
    "                                                                         xlabel='жанр',\n",
    "                                                                         ylabel='продажи', title='продажи по жанрам')\n",
    "xlabel='Жанр'\n",
    "plt.show()"
   ]
  },
  {
   "cell_type": "markdown",
   "metadata": {},
   "source": [
    "Исходя из графика можно сказать, что:\n",
    "\n",
    "Топ 5 жанров :\n",
    "1. Shooter\n",
    "2. Sports\n",
    "3. Platform\n",
    "4. Fighting\n",
    "5. Role-Playing"
   ]
  },
  {
   "cell_type": "markdown",
   "metadata": {},
   "source": [
    "5 самых не популярных :\n",
    "1. Adventure\n",
    "2. Puzzle\n",
    "3. Strategy\n",
    "4. Racing\n",
    "5. Misc"
   ]
  },
  {
   "cell_type": "markdown",
   "metadata": {},
   "source": [
    "### Вывод по исследовательскому анализу.\n",
    "1. С 2001г выпуск игр значительно вырос.После 2011г начался резкий спад.\n",
    "2. Платфрмы \"PS2\",\"X360\",\"PS3\",\"Wii\",\"DS\",\"PS4\",\"GBA\" являются лидерами по суммарным продажам по годам.\n",
    "3. Можно сказать , что новые платформы появляются примерно каждые 5-10 лет , примерно столько же они остаются актуальными.\n",
    "4. Для исследования взяли данные за 2014,2015 и 2016 года т.к. нам нужно сделать прогноз на 2017г. Данные за этот период будут более актуальными. Так же самыми перспективными являются платформы РС4 и Xbox One, менее перспективные ,но все еще актуальные - PC и 3DS.\n",
    "5. В целом, зависимость между оценками критиков\\пользователей и продажами для РС4 и другими платформами похожа. Не ярко выражена.\n",
    "6. Топ 5 жанров : <br>\n",
    "\n",
    "1) Shooter<br>\n",
    "2) Sports<br>\n",
    "3) Platform<br>\n",
    "4) Fighting<br>\n",
    "5) Role-Playing<br>\n",
    "<br>\n",
    "5 самых не популярных :<br>\n",
    "\n",
    "1) Adventure<br>\n",
    "2) Puzzle<br>\n",
    "3) Strategy<br>\n",
    "4) Racing<br>\n",
    "5) Misc<br>\n",
    "<br>\n",
    "Диаграмме размаха показала, что жанр \"Shooter\" имеет самае высокие выбросы. Это говорит о большом кол-ве игр, которые имели очень высокие продажи. Так же у этого жанра самые высокие медиальные значения, из этого следаует , что на дестанции этот жанр имеет более высокие продажи. Стоит выделить жанры \"Sports\" и \"Platform\". Оба жанра имеют хорошие медиальные значения и выбросы, но в жанре \"Sports\" их больше. Так же обращает на себя внимание жанр \"Action\", его медиальные значения не так высоки, но очень много выбросов."
   ]
  },
  {
   "cell_type": "markdown",
   "metadata": {},
   "source": [
    "##  Составим портрет пользователя каждого региона"
   ]
  },
  {
   "cell_type": "markdown",
   "metadata": {},
   "source": [
    "### Самые популярные платформы в Северной Америке, Европе и Японии."
   ]
  },
  {
   "cell_type": "code",
   "execution_count": 49,
   "metadata": {},
   "outputs": [
    {
     "data": {
      "text/html": [
       "<div>\n",
       "<style scoped>\n",
       "    .dataframe tbody tr th:only-of-type {\n",
       "        vertical-align: middle;\n",
       "    }\n",
       "\n",
       "    .dataframe tbody tr th {\n",
       "        vertical-align: top;\n",
       "    }\n",
       "\n",
       "    .dataframe thead th {\n",
       "        text-align: right;\n",
       "    }\n",
       "</style>\n",
       "<table border=\"1\" class=\"dataframe\">\n",
       "  <thead>\n",
       "    <tr style=\"text-align: right;\">\n",
       "      <th></th>\n",
       "      <th>na_sales</th>\n",
       "      <th>%</th>\n",
       "    </tr>\n",
       "    <tr>\n",
       "      <th>platform</th>\n",
       "      <th></th>\n",
       "      <th></th>\n",
       "    </tr>\n",
       "  </thead>\n",
       "  <tbody>\n",
       "    <tr>\n",
       "      <th>ps4</th>\n",
       "      <td>98.61</td>\n",
       "      <td>39.00</td>\n",
       "    </tr>\n",
       "    <tr>\n",
       "      <th>xone</th>\n",
       "      <td>81.27</td>\n",
       "      <td>32.14</td>\n",
       "    </tr>\n",
       "    <tr>\n",
       "      <th>x360</th>\n",
       "      <td>28.30</td>\n",
       "      <td>11.19</td>\n",
       "    </tr>\n",
       "    <tr>\n",
       "      <th>3ds</th>\n",
       "      <td>22.64</td>\n",
       "      <td>8.95</td>\n",
       "    </tr>\n",
       "    <tr>\n",
       "      <th>ps3</th>\n",
       "      <td>22.05</td>\n",
       "      <td>8.72</td>\n",
       "    </tr>\n",
       "  </tbody>\n",
       "</table>\n",
       "</div>"
      ],
      "text/plain": [
       "          na_sales      %\n",
       "platform                 \n",
       "ps4          98.61  39.00\n",
       "xone         81.27  32.14\n",
       "x360         28.30  11.19\n",
       "3ds          22.64   8.95\n",
       "ps3          22.05   8.72"
      ]
     },
     "execution_count": 49,
     "metadata": {},
     "output_type": "execute_result"
    }
   ],
   "source": [
    "# самые популярные платформы в Северной Америке\n",
    "na_users_platform = data_filter.pivot_table(index='platform',\n",
    "                                  values='na_sales',\n",
    "                                  aggfunc='sum').sort_values(by='na_sales', ascending=False).head(5)\n",
    "na_users_platform['%'] = (na_users_platform['na_sales'] / na_users_platform['na_sales'].sum() *100).round(2)\n",
    "na_users_platform"
   ]
  },
  {
   "cell_type": "code",
   "execution_count": 50,
   "metadata": {
    "scrolled": false
   },
   "outputs": [
    {
     "data": {
      "image/png": "[encoded data removed]",
      "text/plain": [
       "<Figure size 432x288 with 1 Axes>"
      ]
     },
     "metadata": {
      "needs_background": "light"
     },
     "output_type": "display_data"
    }
   ],
   "source": [
    "na_users_platform['%'].sort_values(ascending=False).plot.barh(xlabel='платформа',ylabel='процент продаж')\n",
    "plt.title('процент продаж в Северной Америке')\n",
    "plt.show()"
   ]
  },
  {
   "cell_type": "markdown",
   "metadata": {},
   "source": [
    "Видим, что на первом месте \"РС4\", далее идет Xbox One. Остальные платформы представленны незначительно."
   ]
  },
  {
   "cell_type": "code",
   "execution_count": 51,
   "metadata": {},
   "outputs": [
    {
     "data": {
      "text/html": [
       "<div>\n",
       "<style scoped>\n",
       "    .dataframe tbody tr th:only-of-type {\n",
       "        vertical-align: middle;\n",
       "    }\n",
       "\n",
       "    .dataframe tbody tr th {\n",
       "        vertical-align: top;\n",
       "    }\n",
       "\n",
       "    .dataframe thead th {\n",
       "        text-align: right;\n",
       "    }\n",
       "</style>\n",
       "<table border=\"1\" class=\"dataframe\">\n",
       "  <thead>\n",
       "    <tr style=\"text-align: right;\">\n",
       "      <th></th>\n",
       "      <th>eu_sales</th>\n",
       "      <th>%</th>\n",
       "    </tr>\n",
       "    <tr>\n",
       "      <th>platform</th>\n",
       "      <th></th>\n",
       "      <th></th>\n",
       "    </tr>\n",
       "  </thead>\n",
       "  <tbody>\n",
       "    <tr>\n",
       "      <th>ps4</th>\n",
       "      <td>130.04</td>\n",
       "      <td>55.12</td>\n",
       "    </tr>\n",
       "    <tr>\n",
       "      <th>xone</th>\n",
       "      <td>46.25</td>\n",
       "      <td>19.60</td>\n",
       "    </tr>\n",
       "    <tr>\n",
       "      <th>ps3</th>\n",
       "      <td>25.54</td>\n",
       "      <td>10.83</td>\n",
       "    </tr>\n",
       "    <tr>\n",
       "      <th>pc</th>\n",
       "      <td>17.97</td>\n",
       "      <td>7.62</td>\n",
       "    </tr>\n",
       "    <tr>\n",
       "      <th>3ds</th>\n",
       "      <td>16.12</td>\n",
       "      <td>6.83</td>\n",
       "    </tr>\n",
       "  </tbody>\n",
       "</table>\n",
       "</div>"
      ],
      "text/plain": [
       "          eu_sales      %\n",
       "platform                 \n",
       "ps4         130.04  55.12\n",
       "xone         46.25  19.60\n",
       "ps3          25.54  10.83\n",
       "pc           17.97   7.62\n",
       "3ds          16.12   6.83"
      ]
     },
     "execution_count": 51,
     "metadata": {},
     "output_type": "execute_result"
    }
   ],
   "source": [
    "# самые популярные платформы в Европе\n",
    "eu_users_platform = data_filter.pivot_table(index='platform',\n",
    "                                  values='eu_sales',\n",
    "                                  aggfunc='sum').sort_values(by='eu_sales', ascending=False).head(5)\n",
    "eu_users_platform['%'] = (eu_users_platform['eu_sales'] / eu_users_platform['eu_sales'].sum() *100).round(2)\n",
    "eu_users_platform"
   ]
  },
  {
   "cell_type": "code",
   "execution_count": 52,
   "metadata": {
    "scrolled": true
   },
   "outputs": [
    {
     "data": {
      "image/png": "[encoded data removed]",
      "text/plain": [
       "<Figure size 432x288 with 1 Axes>"
      ]
     },
     "metadata": {
      "needs_background": "light"
     },
     "output_type": "display_data"
    }
   ],
   "source": [
    "eu_users_platform['%'].sort_values(ascending=False).plot.barh(xlabel='платформа',ylabel='процент продаж')\n",
    "plt.title('процент продаж в Европпе')\n",
    "plt.show()"
   ]
  },
  {
   "cell_type": "markdown",
   "metadata": {},
   "source": [
    "В Европе с большим отрывом лидирует \"РС4\" далее идет Xbox One. Остальные платформы представленны так же незначительно."
   ]
  },
  {
   "cell_type": "code",
   "execution_count": 53,
   "metadata": {
    "scrolled": true
   },
   "outputs": [
    {
     "data": {
      "text/html": [
       "<div>\n",
       "<style scoped>\n",
       "    .dataframe tbody tr th:only-of-type {\n",
       "        vertical-align: middle;\n",
       "    }\n",
       "\n",
       "    .dataframe tbody tr th {\n",
       "        vertical-align: top;\n",
       "    }\n",
       "\n",
       "    .dataframe thead th {\n",
       "        text-align: right;\n",
       "    }\n",
       "</style>\n",
       "<table border=\"1\" class=\"dataframe\">\n",
       "  <thead>\n",
       "    <tr style=\"text-align: right;\">\n",
       "      <th></th>\n",
       "      <th>jp_sales</th>\n",
       "      <th>%</th>\n",
       "    </tr>\n",
       "    <tr>\n",
       "      <th>platform</th>\n",
       "      <th></th>\n",
       "      <th></th>\n",
       "    </tr>\n",
       "  </thead>\n",
       "  <tbody>\n",
       "    <tr>\n",
       "      <th>3ds</th>\n",
       "      <td>44.24</td>\n",
       "      <td>47.92</td>\n",
       "    </tr>\n",
       "    <tr>\n",
       "      <th>ps4</th>\n",
       "      <td>15.02</td>\n",
       "      <td>16.27</td>\n",
       "    </tr>\n",
       "    <tr>\n",
       "      <th>psv</th>\n",
       "      <td>14.54</td>\n",
       "      <td>15.75</td>\n",
       "    </tr>\n",
       "    <tr>\n",
       "      <th>ps3</th>\n",
       "      <td>11.22</td>\n",
       "      <td>12.15</td>\n",
       "    </tr>\n",
       "    <tr>\n",
       "      <th>wiiu</th>\n",
       "      <td>7.31</td>\n",
       "      <td>7.92</td>\n",
       "    </tr>\n",
       "  </tbody>\n",
       "</table>\n",
       "</div>"
      ],
      "text/plain": [
       "          jp_sales      %\n",
       "platform                 \n",
       "3ds          44.24  47.92\n",
       "ps4          15.02  16.27\n",
       "psv          14.54  15.75\n",
       "ps3          11.22  12.15\n",
       "wiiu          7.31   7.92"
      ]
     },
     "execution_count": 53,
     "metadata": {},
     "output_type": "execute_result"
    }
   ],
   "source": [
    "# самые популярные платформы в Японии\n",
    "jp_users_platform = data_filter.pivot_table(index='platform',\n",
    "                                  values='jp_sales',\n",
    "                                  aggfunc='sum').sort_values(by='jp_sales', ascending=False).head(5)\n",
    "jp_users_platform['%'] = (jp_users_platform['jp_sales'] / jp_users_platform['jp_sales'].sum() *100).round(2)\n",
    "jp_users_platform"
   ]
  },
  {
   "cell_type": "code",
   "execution_count": 54,
   "metadata": {
    "scrolled": false
   },
   "outputs": [
    {
     "data": {
      "image/png": "[encoded data removed]",
      "text/plain": [
       "<Figure size 432x288 with 1 Axes>"
      ]
     },
     "metadata": {
      "needs_background": "light"
     },
     "output_type": "display_data"
    }
   ],
   "source": [
    "jp_users_platform['%'].sort_values(ascending=False).plot.barh(xlabel='платформа',ylabel='процент продаж')\n",
    "plt.title('процент продаж в Япони')\n",
    "plt.show()"
   ]
  },
  {
   "cell_type": "markdown",
   "metadata": {},
   "source": [
    "Лидирующие место на японском рынке занимает \"3DS\", далее идет \"РС4\" и \"PSV\". Остальные платформы представленны так же незначительно."
   ]
  },
  {
   "cell_type": "code",
   "execution_count": 55,
   "metadata": {},
   "outputs": [
    {
     "data": {
      "text/html": [
       "<div>\n",
       "<style scoped>\n",
       "    .dataframe tbody tr th:only-of-type {\n",
       "        vertical-align: middle;\n",
       "    }\n",
       "\n",
       "    .dataframe tbody tr th {\n",
       "        vertical-align: top;\n",
       "    }\n",
       "\n",
       "    .dataframe thead th {\n",
       "        text-align: right;\n",
       "    }\n",
       "</style>\n",
       "<table border=\"1\" class=\"dataframe\">\n",
       "  <thead>\n",
       "    <tr style=\"text-align: right;\">\n",
       "      <th></th>\n",
       "      <th>na_sales</th>\n",
       "    </tr>\n",
       "    <tr>\n",
       "      <th>platform</th>\n",
       "      <th></th>\n",
       "    </tr>\n",
       "  </thead>\n",
       "  <tbody>\n",
       "    <tr>\n",
       "      <th>ps4</th>\n",
       "      <td>98.61</td>\n",
       "    </tr>\n",
       "    <tr>\n",
       "      <th>xone</th>\n",
       "      <td>81.27</td>\n",
       "    </tr>\n",
       "    <tr>\n",
       "      <th>x360</th>\n",
       "      <td>28.30</td>\n",
       "    </tr>\n",
       "    <tr>\n",
       "      <th>3ds</th>\n",
       "      <td>22.64</td>\n",
       "    </tr>\n",
       "    <tr>\n",
       "      <th>ps3</th>\n",
       "      <td>22.05</td>\n",
       "    </tr>\n",
       "    <tr>\n",
       "      <th>other</th>\n",
       "      <td>31.19</td>\n",
       "    </tr>\n",
       "  </tbody>\n",
       "</table>\n",
       "</div>"
      ],
      "text/plain": [
       "          na_sales\n",
       "platform          \n",
       "ps4          98.61\n",
       "xone         81.27\n",
       "x360         28.30\n",
       "3ds          22.64\n",
       "ps3          22.05\n",
       "other        31.19"
      ]
     },
     "execution_count": 55,
     "metadata": {},
     "output_type": "execute_result"
    }
   ],
   "source": [
    "# доп. таблица с продажами по платформам в Северной Америке. топ 5 популярных платформ, остальные сгруппированы  \n",
    "na_users_plt =  data_filter.pivot_table(index='platform',\n",
    "                                  values='na_sales',\n",
    "                                  aggfunc='sum').sort_values(by='na_sales', ascending=False)\n",
    "other = pd.DataFrame({'platform':'other',\n",
    "                     'na_sales': na_users_plt['na_sales'].sum() - na_users_plt['na_sales'].head().sum()},\n",
    "                    index=[0]).set_index('platform')\n",
    "na_user_plt_final = pd.concat([na_users_plt.head(),other], axis=0, ignore_index=False)\n",
    "na_user_plt_final"
   ]
  },
  {
   "cell_type": "code",
   "execution_count": 56,
   "metadata": {},
   "outputs": [
    {
     "data": {
      "text/html": [
       "<div>\n",
       "<style scoped>\n",
       "    .dataframe tbody tr th:only-of-type {\n",
       "        vertical-align: middle;\n",
       "    }\n",
       "\n",
       "    .dataframe tbody tr th {\n",
       "        vertical-align: top;\n",
       "    }\n",
       "\n",
       "    .dataframe thead th {\n",
       "        text-align: right;\n",
       "    }\n",
       "</style>\n",
       "<table border=\"1\" class=\"dataframe\">\n",
       "  <thead>\n",
       "    <tr style=\"text-align: right;\">\n",
       "      <th></th>\n",
       "      <th>eu_sales</th>\n",
       "    </tr>\n",
       "    <tr>\n",
       "      <th>platform</th>\n",
       "      <th></th>\n",
       "    </tr>\n",
       "  </thead>\n",
       "  <tbody>\n",
       "    <tr>\n",
       "      <th>ps4</th>\n",
       "      <td>130.04</td>\n",
       "    </tr>\n",
       "    <tr>\n",
       "      <th>xone</th>\n",
       "      <td>46.25</td>\n",
       "    </tr>\n",
       "    <tr>\n",
       "      <th>ps3</th>\n",
       "      <td>25.54</td>\n",
       "    </tr>\n",
       "    <tr>\n",
       "      <th>pc</th>\n",
       "      <td>17.97</td>\n",
       "    </tr>\n",
       "    <tr>\n",
       "      <th>3ds</th>\n",
       "      <td>16.12</td>\n",
       "    </tr>\n",
       "    <tr>\n",
       "      <th>other</th>\n",
       "      <td>34.76</td>\n",
       "    </tr>\n",
       "  </tbody>\n",
       "</table>\n",
       "</div>"
      ],
      "text/plain": [
       "          eu_sales\n",
       "platform          \n",
       "ps4         130.04\n",
       "xone         46.25\n",
       "ps3          25.54\n",
       "pc           17.97\n",
       "3ds          16.12\n",
       "other        34.76"
      ]
     },
     "execution_count": 56,
     "metadata": {},
     "output_type": "execute_result"
    }
   ],
   "source": [
    "# доп. таблица с продажами по платформам в Европе. топ 5 популярных платформ, остальные сгруппированы  \n",
    "eu_users_plt =  data_filter.pivot_table(index='platform',\n",
    "                                  values='eu_sales',\n",
    "                                  aggfunc='sum').sort_values(by='eu_sales', ascending=False)\n",
    "other = pd.DataFrame({'platform':'other',\n",
    "                     'eu_sales': eu_users_plt['eu_sales'].sum() - eu_users_plt['eu_sales'].head().sum()},\n",
    "                    index=[0]).set_index('platform')\n",
    "eu_user_plt_final = pd.concat([eu_users_plt.head(),other], axis=0, ignore_index=False)\n",
    "eu_user_plt_final"
   ]
  },
  {
   "cell_type": "code",
   "execution_count": 57,
   "metadata": {
    "scrolled": true
   },
   "outputs": [
    {
     "data": {
      "text/html": [
       "<div>\n",
       "<style scoped>\n",
       "    .dataframe tbody tr th:only-of-type {\n",
       "        vertical-align: middle;\n",
       "    }\n",
       "\n",
       "    .dataframe tbody tr th {\n",
       "        vertical-align: top;\n",
       "    }\n",
       "\n",
       "    .dataframe thead th {\n",
       "        text-align: right;\n",
       "    }\n",
       "</style>\n",
       "<table border=\"1\" class=\"dataframe\">\n",
       "  <thead>\n",
       "    <tr style=\"text-align: right;\">\n",
       "      <th></th>\n",
       "      <th>jp_sales</th>\n",
       "    </tr>\n",
       "    <tr>\n",
       "      <th>platform</th>\n",
       "      <th></th>\n",
       "    </tr>\n",
       "  </thead>\n",
       "  <tbody>\n",
       "    <tr>\n",
       "      <th>3ds</th>\n",
       "      <td>44.24</td>\n",
       "    </tr>\n",
       "    <tr>\n",
       "      <th>ps4</th>\n",
       "      <td>15.02</td>\n",
       "    </tr>\n",
       "    <tr>\n",
       "      <th>psv</th>\n",
       "      <td>14.54</td>\n",
       "    </tr>\n",
       "    <tr>\n",
       "      <th>ps3</th>\n",
       "      <td>11.22</td>\n",
       "    </tr>\n",
       "    <tr>\n",
       "      <th>wiiu</th>\n",
       "      <td>7.31</td>\n",
       "    </tr>\n",
       "    <tr>\n",
       "      <th>other</th>\n",
       "      <td>0.76</td>\n",
       "    </tr>\n",
       "  </tbody>\n",
       "</table>\n",
       "</div>"
      ],
      "text/plain": [
       "          jp_sales\n",
       "platform          \n",
       "3ds          44.24\n",
       "ps4          15.02\n",
       "psv          14.54\n",
       "ps3          11.22\n",
       "wiiu          7.31\n",
       "other         0.76"
      ]
     },
     "execution_count": 57,
     "metadata": {},
     "output_type": "execute_result"
    }
   ],
   "source": [
    "# доп. таблица с продажами по платформам в Японии. топ 5 популярных платформ, остальные сгруппированы  \n",
    "jp_users_plt =  data_filter.pivot_table(index='platform',\n",
    "                                  values='jp_sales',\n",
    "                                  aggfunc='sum').sort_values(by='jp_sales', ascending=False)\n",
    "other = pd.DataFrame({'platform':'other',\n",
    "                     'jp_sales': jp_users_plt['jp_sales'].sum() - jp_users_plt['jp_sales'].head().sum()},\n",
    "                    index=[0]).set_index('platform')\n",
    "jp_user_plt_final = pd.concat([jp_users_plt.head(),other], axis=0, ignore_index=False)\n",
    "jp_user_plt_final"
   ]
  },
  {
   "cell_type": "code",
   "execution_count": 59,
   "metadata": {},
   "outputs": [
    {
     "data": {
      "image/png": "[encoded data removed]",
      "text/plain": [
       "<Figure size 1080x432 with 3 Axes>"
      ]
     },
     "metadata": {},
     "output_type": "display_data"
    }
   ],
   "source": [
    "fig, axes = plt.subplots(1,3,figsize=(15,6))\n",
    "plt.suptitle('Обзор рынка платформ').set_size(30)\n",
    "na_user_plt_final.plot(ax=axes[0],kind='pie',y='na_sales',\n",
    "                       autopct='%1.2f%%',title='популярность платформ в Северной Америке',\n",
    "                       legend=False,ylabel='')\n",
    "eu_user_plt_final.plot(ax=axes[1],kind='pie',y='eu_sales',\n",
    "                       autopct='%1.2f%%',title='популярность платформ в Европе',\n",
    "                       legend=False,ylabel='')\n",
    "jp_user_plt_final.plot(ax=axes[2],kind='pie',y='jp_sales',\n",
    "                       autopct='%1.2f%%',title='популярность платформ в Японии',\n",
    "                       legend=False,ylabel='')\n",
    "\n",
    "plt.show()"
   ]
  },
  {
   "cell_type": "markdown",
   "metadata": {},
   "source": [
    "### Самые популярные жанры в Северной Америке, Европе и Японии."
   ]
  },
  {
   "cell_type": "code",
   "execution_count": 60,
   "metadata": {},
   "outputs": [
    {
     "data": {
      "text/html": [
       "<div>\n",
       "<style scoped>\n",
       "    .dataframe tbody tr th:only-of-type {\n",
       "        vertical-align: middle;\n",
       "    }\n",
       "\n",
       "    .dataframe tbody tr th {\n",
       "        vertical-align: top;\n",
       "    }\n",
       "\n",
       "    .dataframe thead th {\n",
       "        text-align: right;\n",
       "    }\n",
       "</style>\n",
       "<table border=\"1\" class=\"dataframe\">\n",
       "  <thead>\n",
       "    <tr style=\"text-align: right;\">\n",
       "      <th></th>\n",
       "      <th>na_sales</th>\n",
       "      <th>%</th>\n",
       "    </tr>\n",
       "    <tr>\n",
       "      <th>genre</th>\n",
       "      <th></th>\n",
       "      <th></th>\n",
       "    </tr>\n",
       "  </thead>\n",
       "  <tbody>\n",
       "    <tr>\n",
       "      <th>shooter</th>\n",
       "      <td>79.02</td>\n",
       "      <td>32.10</td>\n",
       "    </tr>\n",
       "    <tr>\n",
       "      <th>action</th>\n",
       "      <td>72.53</td>\n",
       "      <td>29.46</td>\n",
       "    </tr>\n",
       "    <tr>\n",
       "      <th>sports</th>\n",
       "      <td>46.13</td>\n",
       "      <td>18.74</td>\n",
       "    </tr>\n",
       "    <tr>\n",
       "      <th>role-playing</th>\n",
       "      <td>33.47</td>\n",
       "      <td>13.59</td>\n",
       "    </tr>\n",
       "    <tr>\n",
       "      <th>misc</th>\n",
       "      <td>15.05</td>\n",
       "      <td>6.11</td>\n",
       "    </tr>\n",
       "  </tbody>\n",
       "</table>\n",
       "</div>"
      ],
      "text/plain": [
       "              na_sales      %\n",
       "genre                        \n",
       "shooter          79.02  32.10\n",
       "action           72.53  29.46\n",
       "sports           46.13  18.74\n",
       "role-playing     33.47  13.59\n",
       "misc             15.05   6.11"
      ]
     },
     "execution_count": 60,
     "metadata": {},
     "output_type": "execute_result"
    }
   ],
   "source": [
    "# самые популярные жанры в Северной Америке\n",
    "na_users_genre = data_filter.pivot_table(index='genre',\n",
    "                                  values='na_sales',\n",
    "                                  aggfunc='sum').sort_values(by='na_sales', ascending=False).head(5)\n",
    "na_users_genre['%'] = (na_users_genre['na_sales'] / na_users_genre['na_sales'].sum() * 100).round(2)\n",
    "na_users_genre"
   ]
  },
  {
   "cell_type": "code",
   "execution_count": 61,
   "metadata": {
    "scrolled": false
   },
   "outputs": [
    {
     "data": {
      "image/png": "[encoded data removed]",
      "text/plain": [
       "<Figure size 432x288 with 1 Axes>"
      ]
     },
     "metadata": {
      "needs_background": "light"
     },
     "output_type": "display_data"
    }
   ],
   "source": [
    "na_users_genre['na_sales'].sort_values(ascending=False).plot.barh(xlabel='жанр',ylabel='продажи')\n",
    "plt.title('топ жанры в Северной Америке')\n",
    "plt.show()"
   ]
  },
  {
   "cell_type": "markdown",
   "metadata": {},
   "source": [
    "Видим, что в Северной Америке самым популярным является жанр \"Shooter\", следом идет \"Action\" далее \"Sports\", \"Role-Playing\" и \"Misc\". "
   ]
  },
  {
   "cell_type": "code",
   "execution_count": 62,
   "metadata": {},
   "outputs": [
    {
     "data": {
      "text/html": [
       "<div>\n",
       "<style scoped>\n",
       "    .dataframe tbody tr th:only-of-type {\n",
       "        vertical-align: middle;\n",
       "    }\n",
       "\n",
       "    .dataframe tbody tr th {\n",
       "        vertical-align: top;\n",
       "    }\n",
       "\n",
       "    .dataframe thead th {\n",
       "        text-align: right;\n",
       "    }\n",
       "</style>\n",
       "<table border=\"1\" class=\"dataframe\">\n",
       "  <thead>\n",
       "    <tr style=\"text-align: right;\">\n",
       "      <th></th>\n",
       "      <th>eu_sales</th>\n",
       "      <th>%</th>\n",
       "    </tr>\n",
       "    <tr>\n",
       "      <th>genre</th>\n",
       "      <th></th>\n",
       "      <th></th>\n",
       "    </tr>\n",
       "  </thead>\n",
       "  <tbody>\n",
       "    <tr>\n",
       "      <th>action</th>\n",
       "      <td>74.68</td>\n",
       "      <td>32.72</td>\n",
       "    </tr>\n",
       "    <tr>\n",
       "      <th>shooter</th>\n",
       "      <td>65.52</td>\n",
       "      <td>28.71</td>\n",
       "    </tr>\n",
       "    <tr>\n",
       "      <th>sports</th>\n",
       "      <td>45.73</td>\n",
       "      <td>20.04</td>\n",
       "    </tr>\n",
       "    <tr>\n",
       "      <th>role-playing</th>\n",
       "      <td>28.17</td>\n",
       "      <td>12.34</td>\n",
       "    </tr>\n",
       "    <tr>\n",
       "      <th>racing</th>\n",
       "      <td>14.13</td>\n",
       "      <td>6.19</td>\n",
       "    </tr>\n",
       "  </tbody>\n",
       "</table>\n",
       "</div>"
      ],
      "text/plain": [
       "              eu_sales      %\n",
       "genre                        \n",
       "action           74.68  32.72\n",
       "shooter          65.52  28.71\n",
       "sports           45.73  20.04\n",
       "role-playing     28.17  12.34\n",
       "racing           14.13   6.19"
      ]
     },
     "execution_count": 62,
     "metadata": {},
     "output_type": "execute_result"
    }
   ],
   "source": [
    "# самые популярные жанры в Европе\n",
    "eu_users_genre = data_filter.pivot_table(index='genre',\n",
    "                                  values='eu_sales',\n",
    "                                  aggfunc='sum').sort_values(by='eu_sales', ascending=False).head(5)\n",
    "eu_users_genre['%'] = (eu_users_genre['eu_sales'] / eu_users_genre['eu_sales'].sum() * 100).round(2)\n",
    "eu_users_genre"
   ]
  },
  {
   "cell_type": "code",
   "execution_count": 63,
   "metadata": {
    "scrolled": true
   },
   "outputs": [
    {
     "data": {
      "image/png": "[encoded data removed]",
      "text/plain": [
       "<Figure size 432x288 with 1 Axes>"
      ]
     },
     "metadata": {
      "needs_background": "light"
     },
     "output_type": "display_data"
    }
   ],
   "source": [
    "eu_users_genre['eu_sales'].sort_values(ascending=False).plot.barh(xlabel='жанр',ylabel='продажи')\n",
    "plt.title('топ жанры в Европе')\n",
    "plt.show()"
   ]
  },
  {
   "cell_type": "markdown",
   "metadata": {},
   "source": [
    "В Европе на первом месте \"Action\", следом идет \"Shooter\" далее \"Sports\", \"Role-Playing\" и \"Racing\"."
   ]
  },
  {
   "cell_type": "code",
   "execution_count": 64,
   "metadata": {},
   "outputs": [
    {
     "data": {
      "text/html": [
       "<div>\n",
       "<style scoped>\n",
       "    .dataframe tbody tr th:only-of-type {\n",
       "        vertical-align: middle;\n",
       "    }\n",
       "\n",
       "    .dataframe tbody tr th {\n",
       "        vertical-align: top;\n",
       "    }\n",
       "\n",
       "    .dataframe thead th {\n",
       "        text-align: right;\n",
       "    }\n",
       "</style>\n",
       "<table border=\"1\" class=\"dataframe\">\n",
       "  <thead>\n",
       "    <tr style=\"text-align: right;\">\n",
       "      <th></th>\n",
       "      <th>jp_sales</th>\n",
       "      <th>%</th>\n",
       "    </tr>\n",
       "    <tr>\n",
       "      <th>genre</th>\n",
       "      <th></th>\n",
       "      <th></th>\n",
       "    </tr>\n",
       "  </thead>\n",
       "  <tbody>\n",
       "    <tr>\n",
       "      <th>role-playing</th>\n",
       "      <td>31.16</td>\n",
       "      <td>40.16</td>\n",
       "    </tr>\n",
       "    <tr>\n",
       "      <th>action</th>\n",
       "      <td>29.58</td>\n",
       "      <td>38.12</td>\n",
       "    </tr>\n",
       "    <tr>\n",
       "      <th>fighting</th>\n",
       "      <td>6.37</td>\n",
       "      <td>8.21</td>\n",
       "    </tr>\n",
       "    <tr>\n",
       "      <th>misc</th>\n",
       "      <td>5.61</td>\n",
       "      <td>7.23</td>\n",
       "    </tr>\n",
       "    <tr>\n",
       "      <th>shooter</th>\n",
       "      <td>4.87</td>\n",
       "      <td>6.28</td>\n",
       "    </tr>\n",
       "  </tbody>\n",
       "</table>\n",
       "</div>"
      ],
      "text/plain": [
       "              jp_sales      %\n",
       "genre                        \n",
       "role-playing     31.16  40.16\n",
       "action           29.58  38.12\n",
       "fighting          6.37   8.21\n",
       "misc              5.61   7.23\n",
       "shooter           4.87   6.28"
      ]
     },
     "execution_count": 64,
     "metadata": {},
     "output_type": "execute_result"
    }
   ],
   "source": [
    "# самые популярные жанры в Японии\n",
    "jp_users_genre = data_filter.pivot_table(index='genre',\n",
    "                                  values='jp_sales',\n",
    "                                  aggfunc='sum').sort_values(by='jp_sales', ascending=False).head(5)\n",
    "jp_users_genre['%'] = (jp_users_genre['jp_sales'] / jp_users_genre['jp_sales'].sum() * 100).round(2)\n",
    "jp_users_genre"
   ]
  },
  {
   "cell_type": "code",
   "execution_count": 65,
   "metadata": {
    "scrolled": false
   },
   "outputs": [
    {
     "data": {
      "image/png": "[encoded data removed]",
      "text/plain": [
       "<Figure size 432x288 with 1 Axes>"
      ]
     },
     "metadata": {
      "needs_background": "light"
     },
     "output_type": "display_data"
    }
   ],
   "source": [
    "jp_users_genre['jp_sales'].sort_values(ascending=False).plot.barh(xlabel='жанр',ylabel='продажи')\n",
    "plt.title('топ жанры в Японии')\n",
    "plt.show()"
   ]
  },
  {
   "cell_type": "markdown",
   "metadata": {},
   "source": [
    "В Японии с большим отрывом лидирует жанры \"Role-Playing\" и \"Action\", менее популярны \"Fighting\", \"Misc\", \"Shooter\"."
   ]
  },
  {
   "cell_type": "code",
   "execution_count": 66,
   "metadata": {},
   "outputs": [
    {
     "data": {
      "text/html": [
       "<div>\n",
       "<style scoped>\n",
       "    .dataframe tbody tr th:only-of-type {\n",
       "        vertical-align: middle;\n",
       "    }\n",
       "\n",
       "    .dataframe tbody tr th {\n",
       "        vertical-align: top;\n",
       "    }\n",
       "\n",
       "    .dataframe thead th {\n",
       "        text-align: right;\n",
       "    }\n",
       "</style>\n",
       "<table border=\"1\" class=\"dataframe\">\n",
       "  <thead>\n",
       "    <tr style=\"text-align: right;\">\n",
       "      <th></th>\n",
       "      <th>na_sales</th>\n",
       "    </tr>\n",
       "    <tr>\n",
       "      <th>genre</th>\n",
       "      <th></th>\n",
       "    </tr>\n",
       "  </thead>\n",
       "  <tbody>\n",
       "    <tr>\n",
       "      <th>shooter</th>\n",
       "      <td>79.02</td>\n",
       "    </tr>\n",
       "    <tr>\n",
       "      <th>action</th>\n",
       "      <td>72.53</td>\n",
       "    </tr>\n",
       "    <tr>\n",
       "      <th>sports</th>\n",
       "      <td>46.13</td>\n",
       "    </tr>\n",
       "    <tr>\n",
       "      <th>role-playing</th>\n",
       "      <td>33.47</td>\n",
       "    </tr>\n",
       "    <tr>\n",
       "      <th>misc</th>\n",
       "      <td>15.05</td>\n",
       "    </tr>\n",
       "    <tr>\n",
       "      <th>other</th>\n",
       "      <td>37.86</td>\n",
       "    </tr>\n",
       "  </tbody>\n",
       "</table>\n",
       "</div>"
      ],
      "text/plain": [
       "              na_sales\n",
       "genre                 \n",
       "shooter          79.02\n",
       "action           72.53\n",
       "sports           46.13\n",
       "role-playing     33.47\n",
       "misc             15.05\n",
       "other            37.86"
      ]
     },
     "execution_count": 66,
     "metadata": {},
     "output_type": "execute_result"
    }
   ],
   "source": [
    "# доп. таблица с продажами по жанрам в Северной Америке. топ 5 популярных жанров, остальные сгруппированы  \n",
    "na_users_gnr =  data_filter.pivot_table(index='genre',\n",
    "                                  values='na_sales',\n",
    "                                  aggfunc='sum').sort_values(by='na_sales', ascending=False)\n",
    "other = pd.DataFrame({'genre':'other',\n",
    "                     'na_sales': na_users_gnr['na_sales'].sum() - na_users_gnr['na_sales'].head().sum()},\n",
    "                    index=[0]).set_index('genre')\n",
    "na_user_gnr_final = pd.concat([na_users_gnr.head(),other], axis=0, ignore_index=False)\n",
    "na_user_gnr_final"
   ]
  },
  {
   "cell_type": "code",
   "execution_count": 67,
   "metadata": {
    "scrolled": true
   },
   "outputs": [
    {
     "data": {
      "text/html": [
       "<div>\n",
       "<style scoped>\n",
       "    .dataframe tbody tr th:only-of-type {\n",
       "        vertical-align: middle;\n",
       "    }\n",
       "\n",
       "    .dataframe tbody tr th {\n",
       "        vertical-align: top;\n",
       "    }\n",
       "\n",
       "    .dataframe thead th {\n",
       "        text-align: right;\n",
       "    }\n",
       "</style>\n",
       "<table border=\"1\" class=\"dataframe\">\n",
       "  <thead>\n",
       "    <tr style=\"text-align: right;\">\n",
       "      <th></th>\n",
       "      <th>eu_sales</th>\n",
       "    </tr>\n",
       "    <tr>\n",
       "      <th>genre</th>\n",
       "      <th></th>\n",
       "    </tr>\n",
       "  </thead>\n",
       "  <tbody>\n",
       "    <tr>\n",
       "      <th>action</th>\n",
       "      <td>74.68</td>\n",
       "    </tr>\n",
       "    <tr>\n",
       "      <th>shooter</th>\n",
       "      <td>65.52</td>\n",
       "    </tr>\n",
       "    <tr>\n",
       "      <th>sports</th>\n",
       "      <td>45.73</td>\n",
       "    </tr>\n",
       "    <tr>\n",
       "      <th>role-playing</th>\n",
       "      <td>28.17</td>\n",
       "    </tr>\n",
       "    <tr>\n",
       "      <th>racing</th>\n",
       "      <td>14.13</td>\n",
       "    </tr>\n",
       "    <tr>\n",
       "      <th>other</th>\n",
       "      <td>42.45</td>\n",
       "    </tr>\n",
       "  </tbody>\n",
       "</table>\n",
       "</div>"
      ],
      "text/plain": [
       "              eu_sales\n",
       "genre                 \n",
       "action           74.68\n",
       "shooter          65.52\n",
       "sports           45.73\n",
       "role-playing     28.17\n",
       "racing           14.13\n",
       "other            42.45"
      ]
     },
     "execution_count": 67,
     "metadata": {},
     "output_type": "execute_result"
    }
   ],
   "source": [
    "# доп. таблица с продажами по жанрам в Европе. топ 5 популярных жанров, остальные сгруппированы  \n",
    "eu_users_gnr =  data_filter.pivot_table(index='genre',\n",
    "                                  values='eu_sales',\n",
    "                                  aggfunc='sum').sort_values(by='eu_sales', ascending=False)\n",
    "other = pd.DataFrame({'genre':'other',\n",
    "                     'eu_sales': eu_users_gnr['eu_sales'].sum() - eu_users_gnr['eu_sales'].head().sum()},\n",
    "                    index=[0]).set_index('genre')\n",
    "eu_user_gnr_final = pd.concat([eu_users_gnr.head(),other], axis=0, ignore_index=False)\n",
    "eu_user_gnr_final"
   ]
  },
  {
   "cell_type": "code",
   "execution_count": 68,
   "metadata": {
    "scrolled": true
   },
   "outputs": [
    {
     "data": {
      "text/html": [
       "<div>\n",
       "<style scoped>\n",
       "    .dataframe tbody tr th:only-of-type {\n",
       "        vertical-align: middle;\n",
       "    }\n",
       "\n",
       "    .dataframe tbody tr th {\n",
       "        vertical-align: top;\n",
       "    }\n",
       "\n",
       "    .dataframe thead th {\n",
       "        text-align: right;\n",
       "    }\n",
       "</style>\n",
       "<table border=\"1\" class=\"dataframe\">\n",
       "  <thead>\n",
       "    <tr style=\"text-align: right;\">\n",
       "      <th></th>\n",
       "      <th>jp_sales</th>\n",
       "    </tr>\n",
       "    <tr>\n",
       "      <th>genre</th>\n",
       "      <th></th>\n",
       "    </tr>\n",
       "  </thead>\n",
       "  <tbody>\n",
       "    <tr>\n",
       "      <th>role-playing</th>\n",
       "      <td>31.16</td>\n",
       "    </tr>\n",
       "    <tr>\n",
       "      <th>action</th>\n",
       "      <td>29.58</td>\n",
       "    </tr>\n",
       "    <tr>\n",
       "      <th>fighting</th>\n",
       "      <td>6.37</td>\n",
       "    </tr>\n",
       "    <tr>\n",
       "      <th>misc</th>\n",
       "      <td>5.61</td>\n",
       "    </tr>\n",
       "    <tr>\n",
       "      <th>shooter</th>\n",
       "      <td>4.87</td>\n",
       "    </tr>\n",
       "    <tr>\n",
       "      <th>other</th>\n",
       "      <td>15.50</td>\n",
       "    </tr>\n",
       "  </tbody>\n",
       "</table>\n",
       "</div>"
      ],
      "text/plain": [
       "              jp_sales\n",
       "genre                 \n",
       "role-playing     31.16\n",
       "action           29.58\n",
       "fighting          6.37\n",
       "misc              5.61\n",
       "shooter           4.87\n",
       "other            15.50"
      ]
     },
     "execution_count": 68,
     "metadata": {},
     "output_type": "execute_result"
    }
   ],
   "source": [
    "# доп. таблица с продажами по жанрам в Японии. топ 5 популярных жанров, остальные сгруппированы  \n",
    "jp_users_gnr =  data_filter.pivot_table(index='genre',\n",
    "                                  values='jp_sales',\n",
    "                                  aggfunc='sum').sort_values(by='jp_sales', ascending=False)\n",
    "other = pd.DataFrame({'genre':'other',\n",
    "                     'jp_sales': jp_users_gnr['jp_sales'].sum() - jp_users_gnr['jp_sales'].head().sum()},\n",
    "                    index=[0]).set_index('genre')\n",
    "jp_user_gnr_final = pd.concat([jp_users_gnr.head(),other], axis=0, ignore_index=False)\n",
    "jp_user_gnr_final"
   ]
  },
  {
   "cell_type": "code",
   "execution_count": 69,
   "metadata": {},
   "outputs": [
    {
     "data": {
      "image/png": "[encoded data removed]",
      "text/plain": [
       "<Figure size 1080x720 with 3 Axes>"
      ]
     },
     "metadata": {},
     "output_type": "display_data"
    }
   ],
   "source": [
    "fig, axes = plt.subplots(1,3,figsize=(15,10))\n",
    "plt.suptitle('Обзор популярных жанров').set_size(30)\n",
    "na_user_gnr_final.plot(ax=axes[0],kind='pie',y='na_sales',\n",
    "                       autopct='%1.2f%%',title='популярность жанров в Северной Америке',\n",
    "                       legend=False,ylabel='')\n",
    "eu_user_gnr_final.plot(ax=axes[1],kind='pie',y='eu_sales',\n",
    "                       autopct='%1.2f%%',title='популярность жанров в Европе',\n",
    "                       legend=False,ylabel='')\n",
    "jp_user_gnr_final.plot(ax=axes[2],kind='pie',y='jp_sales',\n",
    "                       autopct='%1.2f%%',title='популярность жанров в Японии',\n",
    "                       legend=False,ylabel='')\n",
    "plt.show()"
   ]
  },
  {
   "cell_type": "markdown",
   "metadata": {},
   "source": [
    "### Самые популярные возростные рейтинги в Северной Америке, Европе и Японии."
   ]
  },
  {
   "cell_type": "code",
   "execution_count": 70,
   "metadata": {
    "scrolled": true
   },
   "outputs": [
    {
     "data": {
      "text/html": [
       "<div>\n",
       "<style scoped>\n",
       "    .dataframe tbody tr th:only-of-type {\n",
       "        vertical-align: middle;\n",
       "    }\n",
       "\n",
       "    .dataframe tbody tr th {\n",
       "        vertical-align: top;\n",
       "    }\n",
       "\n",
       "    .dataframe thead th {\n",
       "        text-align: right;\n",
       "    }\n",
       "</style>\n",
       "<table border=\"1\" class=\"dataframe\">\n",
       "  <thead>\n",
       "    <tr style=\"text-align: right;\">\n",
       "      <th></th>\n",
       "      <th>na_sales</th>\n",
       "      <th>%</th>\n",
       "    </tr>\n",
       "    <tr>\n",
       "      <th>rating</th>\n",
       "      <th></th>\n",
       "      <th></th>\n",
       "    </tr>\n",
       "  </thead>\n",
       "  <tbody>\n",
       "    <tr>\n",
       "      <th>m</th>\n",
       "      <td>96.42</td>\n",
       "      <td>33.94</td>\n",
       "    </tr>\n",
       "    <tr>\n",
       "      <th>unknown</th>\n",
       "      <td>64.72</td>\n",
       "      <td>22.78</td>\n",
       "    </tr>\n",
       "    <tr>\n",
       "      <th>e</th>\n",
       "      <td>50.74</td>\n",
       "      <td>17.86</td>\n",
       "    </tr>\n",
       "    <tr>\n",
       "      <th>t</th>\n",
       "      <td>38.95</td>\n",
       "      <td>13.71</td>\n",
       "    </tr>\n",
       "    <tr>\n",
       "      <th>e10+</th>\n",
       "      <td>33.23</td>\n",
       "      <td>11.70</td>\n",
       "    </tr>\n",
       "  </tbody>\n",
       "</table>\n",
       "</div>"
      ],
      "text/plain": [
       "         na_sales      %\n",
       "rating                  \n",
       "m           96.42  33.94\n",
       "unknown     64.72  22.78\n",
       "e           50.74  17.86\n",
       "t           38.95  13.71\n",
       "e10+        33.23  11.70"
      ]
     },
     "execution_count": 70,
     "metadata": {},
     "output_type": "execute_result"
    }
   ],
   "source": [
    "# самые популярные рейтинги в Северной Америке\n",
    "na_users_rating = data_filter.pivot_table(index='rating',\n",
    "                                  values='na_sales',\n",
    "                                  aggfunc='sum').sort_values(by='na_sales', ascending=False).head(5)\n",
    "na_users_rating['%'] = (na_users_rating['na_sales'] / na_users_rating['na_sales'].sum() * 100).round(2)\n",
    "na_users_rating"
   ]
  },
  {
   "cell_type": "code",
   "execution_count": 71,
   "metadata": {
    "scrolled": false
   },
   "outputs": [
    {
     "data": {
      "image/png": "[encoded data removed]",
      "text/plain": [
       "<Figure size 432x288 with 1 Axes>"
      ]
     },
     "metadata": {
      "needs_background": "light"
     },
     "output_type": "display_data"
    }
   ],
   "source": [
    "na_users_rating['na_sales'].sort_values(ascending=False).plot.barh(xlabel='рейтинг',ylabel='продажи')\n",
    "plt.title('топ рейтингов в Северной Америке')\n",
    "plt.show()"
   ]
  },
  {
   "cell_type": "markdown",
   "metadata": {},
   "source": [
    "В Северной Америке самым популярным является рейтинг \"М\", далее идет группа \"unknown\" ее мы не учитываем , следом идут рейтинги \"Е\", \"Т\", \"Е10+\"."
   ]
  },
  {
   "cell_type": "code",
   "execution_count": 72,
   "metadata": {},
   "outputs": [
    {
     "data": {
      "text/html": [
       "<div>\n",
       "<style scoped>\n",
       "    .dataframe tbody tr th:only-of-type {\n",
       "        vertical-align: middle;\n",
       "    }\n",
       "\n",
       "    .dataframe tbody tr th {\n",
       "        vertical-align: top;\n",
       "    }\n",
       "\n",
       "    .dataframe thead th {\n",
       "        text-align: right;\n",
       "    }\n",
       "</style>\n",
       "<table border=\"1\" class=\"dataframe\">\n",
       "  <thead>\n",
       "    <tr style=\"text-align: right;\">\n",
       "      <th></th>\n",
       "      <th>eu_sales</th>\n",
       "      <th>%</th>\n",
       "    </tr>\n",
       "    <tr>\n",
       "      <th>rating</th>\n",
       "      <th></th>\n",
       "      <th></th>\n",
       "    </tr>\n",
       "  </thead>\n",
       "  <tbody>\n",
       "    <tr>\n",
       "      <th>m</th>\n",
       "      <td>93.44</td>\n",
       "      <td>34.52</td>\n",
       "    </tr>\n",
       "    <tr>\n",
       "      <th>unknown</th>\n",
       "      <td>58.95</td>\n",
       "      <td>21.78</td>\n",
       "    </tr>\n",
       "    <tr>\n",
       "      <th>e</th>\n",
       "      <td>58.06</td>\n",
       "      <td>21.45</td>\n",
       "    </tr>\n",
       "    <tr>\n",
       "      <th>t</th>\n",
       "      <td>34.07</td>\n",
       "      <td>12.59</td>\n",
       "    </tr>\n",
       "    <tr>\n",
       "      <th>e10+</th>\n",
       "      <td>26.16</td>\n",
       "      <td>9.66</td>\n",
       "    </tr>\n",
       "  </tbody>\n",
       "</table>\n",
       "</div>"
      ],
      "text/plain": [
       "         eu_sales      %\n",
       "rating                  \n",
       "m           93.44  34.52\n",
       "unknown     58.95  21.78\n",
       "e           58.06  21.45\n",
       "t           34.07  12.59\n",
       "e10+        26.16   9.66"
      ]
     },
     "execution_count": 72,
     "metadata": {},
     "output_type": "execute_result"
    }
   ],
   "source": [
    "# самые популярные рейтинги в Европе\n",
    "eu_users_rating = data_filter.pivot_table(index='rating',\n",
    "                                  values='eu_sales',\n",
    "                                  aggfunc='sum').sort_values(by='eu_sales', ascending=False).head(5)\n",
    "eu_users_rating['%'] = (eu_users_rating['eu_sales'] / eu_users_rating['eu_sales'].sum() * 100).round(2)\n",
    "eu_users_rating"
   ]
  },
  {
   "cell_type": "code",
   "execution_count": 73,
   "metadata": {
    "scrolled": true
   },
   "outputs": [
    {
     "data": {
      "image/png": "[encoded data removed]",
      "text/plain": [
       "<Figure size 432x288 with 1 Axes>"
      ]
     },
     "metadata": {
      "needs_background": "light"
     },
     "output_type": "display_data"
    }
   ],
   "source": [
    "eu_users_rating['eu_sales'].sort_values(ascending=False).plot.barh(xlabel='рейтинг',ylabel='продажи')\n",
    "plt.title('топ рейтингов в Европе')\n",
    "plt.show()"
   ]
  },
  {
   "cell_type": "markdown",
   "metadata": {},
   "source": [
    "В Европе ситуация схожа с Северной Америкой.  Самым популярным является рейтинг \"М\", далее идет группа \"unknown\" ее мы не учитываем , следом идут рейтинги \"Е\", \"Т\", \"Е10+\". Различие только в распредилении. "
   ]
  },
  {
   "cell_type": "code",
   "execution_count": 74,
   "metadata": {},
   "outputs": [
    {
     "data": {
      "text/html": [
       "<div>\n",
       "<style scoped>\n",
       "    .dataframe tbody tr th:only-of-type {\n",
       "        vertical-align: middle;\n",
       "    }\n",
       "\n",
       "    .dataframe tbody tr th {\n",
       "        vertical-align: top;\n",
       "    }\n",
       "\n",
       "    .dataframe thead th {\n",
       "        text-align: right;\n",
       "    }\n",
       "</style>\n",
       "<table border=\"1\" class=\"dataframe\">\n",
       "  <thead>\n",
       "    <tr style=\"text-align: right;\">\n",
       "      <th></th>\n",
       "      <th>jp_sales</th>\n",
       "      <th>%</th>\n",
       "    </tr>\n",
       "    <tr>\n",
       "      <th>rating</th>\n",
       "      <th></th>\n",
       "      <th></th>\n",
       "    </tr>\n",
       "  </thead>\n",
       "  <tbody>\n",
       "    <tr>\n",
       "      <th>unknown</th>\n",
       "      <td>56.90</td>\n",
       "      <td>61.12</td>\n",
       "    </tr>\n",
       "    <tr>\n",
       "      <th>t</th>\n",
       "      <td>14.78</td>\n",
       "      <td>15.88</td>\n",
       "    </tr>\n",
       "    <tr>\n",
       "      <th>e</th>\n",
       "      <td>8.94</td>\n",
       "      <td>9.60</td>\n",
       "    </tr>\n",
       "    <tr>\n",
       "      <th>m</th>\n",
       "      <td>8.01</td>\n",
       "      <td>8.60</td>\n",
       "    </tr>\n",
       "    <tr>\n",
       "      <th>e10+</th>\n",
       "      <td>4.46</td>\n",
       "      <td>4.79</td>\n",
       "    </tr>\n",
       "  </tbody>\n",
       "</table>\n",
       "</div>"
      ],
      "text/plain": [
       "         jp_sales      %\n",
       "rating                  \n",
       "unknown     56.90  61.12\n",
       "t           14.78  15.88\n",
       "e            8.94   9.60\n",
       "m            8.01   8.60\n",
       "e10+         4.46   4.79"
      ]
     },
     "execution_count": 74,
     "metadata": {},
     "output_type": "execute_result"
    }
   ],
   "source": [
    "# самые популярные рейтинги в Японии\n",
    "jp_users_rating = data_filter.pivot_table(index='rating',\n",
    "                                  values='jp_sales',\n",
    "                                  aggfunc='sum').sort_values(by='jp_sales', ascending=False).head(5)\n",
    "jp_users_rating['%'] = (jp_users_rating['jp_sales'] / jp_users_rating['jp_sales'].sum() * 100).round(2)\n",
    "jp_users_rating"
   ]
  },
  {
   "cell_type": "code",
   "execution_count": 75,
   "metadata": {
    "scrolled": false
   },
   "outputs": [
    {
     "data": {
      "image/png": "[encoded data removed]",
      "text/plain": [
       "<Figure size 432x288 with 1 Axes>"
      ]
     },
     "metadata": {
      "needs_background": "light"
     },
     "output_type": "display_data"
    }
   ],
   "source": [
    "jp_users_rating['jp_sales'].sort_values(ascending=False).plot.barh(xlabel='рейтинг',ylabel='продажи')\n",
    "plt.title('топ рейтингов в Японии')\n",
    "plt.show()"
   ]
  },
  {
   "cell_type": "markdown",
   "metadata": {},
   "source": [
    "Пропуски в рейтинге сильно испортили данные для Японии. Первое место занимает рейтинг \"Т\", далее \"Е\", \"М\" и \"Е10+\"."
   ]
  },
  {
   "cell_type": "markdown",
   "metadata": {},
   "source": [
    "### Портрет пользователя каждого региона, вывод.\n",
    "1. Самые популярные платформы :<br>\n",
    "1) В Северной Америке на первом месте \"РС4\", далее идет \"Xbox One\".<br>\n",
    "2) В Европе с большим отрывом лидирует \"РС4\" далее идет \"Xbox One\".<br>\n",
    "3) Лидирующие место на японском рынке занимает \"3DS\", далее идет \"РС4\" и \"PSV\".<br>\n",
    "2. Самые популярные жанры :<br>\n",
    "1) В Северной Америке самым популярным является жанр \"Shooter\", следом идет \"Action\" далее \"Sports\", \"Role-Playing\" и \"Misc\".<br>\n",
    "2) В Европе на первом месте \"Action\", следом идет \"Shooter\" далее \"Sports\", \"Role-Playing\" и \"Racing\".<br>\n",
    "3) В Японии с большим отрывом лидирует жанр \"Action\", следом \"Role-Playing\", менее популярны \"Shooter\", \"Misc\", \"Adventure\".<br>\n",
    "3. Самые популярные возрастные рейтинги :<br>\n",
    "1) В Северной Америке самым популярным является рейтинг \"М\", далее идет группа \"unknown\" ее мы не учитываем , следом идут рейтинги \"Е\", \"Т\", \"Е10+\".<br>\n",
    "2) В Европе ситуация схожа с Северной Америкой. Самым популярным является рейтинг \"М\", далее идет группа \"unknown\" ее мы не учитываем , следом идут рейтинги \"Е\", \"Т\", \"Е10+\". Различие только в распредилении.<br>\n",
    "3) Пропуски в рейтинге сильно испортили данные для Японии. Первое место занимает рейтинг \"Т\", далее \"Е\", \"М\" и \"Е10+\".<br>\n",
    "<br>\n",
    "Итого , портрет \"типочного пользователя\" :<br>\n",
    "Житель Северной Америки играет на \"РС4\"/\"Xbox One\" в игры жанра \"Shooter\" или \"Action\" с рейтингом \"М\".<br>\n",
    "Портрет Европейца схож с жителем Северной Америки.<br>\n",
    "Японец играет на \"3DS\" в игры жанра \"Action\" с рейтингом \"Т\".<br>"
   ]
  },
  {
   "cell_type": "markdown",
   "metadata": {},
   "source": [
    "## Проверка гипотез."
   ]
  },
  {
   "cell_type": "markdown",
   "metadata": {},
   "source": [
    "### Первая - гипотеза средние пользовательские рейтинги платформ Xbox One и PC одинаковые."
   ]
  },
  {
   "cell_type": "markdown",
   "metadata": {},
   "source": [
    "Нулевая гипотеза - средние пользовательские рейтинги платформ Xbox One и PC равны. <br>\n",
    "Альтернативная гипотеза - средние пользовательские рейтинги платформ Xbox One и PC разные."
   ]
  },
  {
   "cell_type": "code",
   "execution_count": 76,
   "metadata": {},
   "outputs": [
    {
     "name": "stdout",
     "output_type": "stream",
     "text": [
      "p-значение: 0.09668975421672833\n",
      "Не получилось отвергнуть нулевую гипотезу\n"
     ]
    }
   ],
   "source": [
    "ps4 = data_filter.loc[data_filter['platform'] == 'ps4','user_score'].dropna()\n",
    "xbox = data_filter.loc[data_filter['platform'] == 'xone','user_score'].dropna()\n",
    "\n",
    "alpha  = 0.05\n",
    "results = st.ttest_ind(ps4, xbox)\n",
    "print('p-значение:', results.pvalue)\n",
    "\n",
    "if results.pvalue < alpha:\n",
    "    print('Отвергаем нулевую гипотезу')\n",
    "else:\n",
    "    print('Не получилось отвергнуть нулевую гипотезу') \n"
   ]
  },
  {
   "cell_type": "markdown",
   "metadata": {},
   "source": [
    "В ходе теста было выявленно, что мы не можем отвергнуть нулевую гипотезу. Видимо средние пользовательские рейтинги платформ Xbox One и PC действительно одинаковые. р-значение показывает : вероятность случайно получить такое или большее различие равна почти 9%, достаточно низкое. "
   ]
  },
  {
   "cell_type": "markdown",
   "metadata": {},
   "source": [
    "### Вторая гипотеза - cредние пользовательские рейтинги жанров Action (англ. «действие», экшен-игры) и Sports (англ. «спортивные соревнования») разные."
   ]
  },
  {
   "cell_type": "markdown",
   "metadata": {},
   "source": [
    "Нулевая гипотеза - cредние пользовательские рейтинги жанров Action и Sports одинаковые. <br>\n",
    "Альтернативная гипотеза - cредние пользовательские рейтинги жанров Action и Sports разные."
   ]
  },
  {
   "cell_type": "code",
   "execution_count": 77,
   "metadata": {},
   "outputs": [
    {
     "name": "stdout",
     "output_type": "stream",
     "text": [
      "p-значение: 2.8711147985105864e-19\n",
      "Отвергаем нулевую гипотезу\n"
     ]
    }
   ],
   "source": [
    "action_score = data_filter.loc[data_filter['genre'] == 'action','user_score'].dropna()\n",
    "sports_score = data_filter.loc[data_filter['genre'] == 'sports','user_score'].dropna()\n",
    "\n",
    "alpha  = 0.05\n",
    "results = st.ttest_ind(action_score, sports_score)\n",
    "print('p-значение:', results.pvalue)\n",
    "\n",
    "if results.pvalue < alpha:\n",
    "    print('Отвергаем нулевую гипотезу')\n",
    "else:\n",
    "    print('Не получилось отвергнуть нулевую гипотезу') "
   ]
  },
  {
   "cell_type": "markdown",
   "metadata": {},
   "source": [
    "Тест показал, что нулевую гипотезу нужно отвергнуть. Стало быть cредние пользовательские рейтинги жанров Action и Sports разные. р-значение показывает : вероятность случайно получить такое или большее различие крайне мала."
   ]
  },
  {
   "cell_type": "markdown",
   "metadata": {},
   "source": [
    "# Общий вывод.\n",
    "В ходе работы были выполнены следующие шаги :<br>\n",
    "1. Первичное знакомство с данными.<br>\n",
    "2. Предобработка данных :<br>\n",
    "1) Названия столбцов были приведены к нижнему регистру, а также название игр и платформ, жанр и рейтинг.<br>\n",
    "2) Были удалены строки с пропусками в названии игры, год выпуска и жанр.<br>\n",
    "3) Были удалены неявные дубликаты в столбцах с названием игр и платформ, жанр и рейтинг.<br>\n",
    "4) Заполнили пропуски в рейтиге значением 'unknown'.<br>\n",
    "5) В столбце с оценками пользователей значения 'tbd' были заменены на 'NaN'.<br>\n",
    "6) Столбцы с оценкоами пользователей и годом выпуска игры были приведены к числовому формату.<br>\n",
    "7) Был добавлен столбец с суммарной выручкой по миру для каждой игры.<br>\n",
    "8) Пропуски с оценками критиков и пользователей оставим как есть , будет неправильно заполнять их агрегированными значениями.\n",
    "<br>\n",
    "<br>\n",
    "Причинами появления пропусков в данных могут быть: неверный ввод данных, сокрытие информации, повреждение файла данных при сохранении, технические проблемы.<br>\n",
    "<br>\n",
    "3. Исследовательский анализ :<br>\n",
    "1) С 2001г выпуск игр значительно вырос.После 2011г начался резкий спад.<br>\n",
    "2) Платфрмы \"PS2\",\"X360\",\"PS3\",\"Wii\",\"DS\",\"PS4\",\"GBA\" являются лидерами по суммарным продажам по годам.<br>\n",
    "3) Можно сказать , что новые платформы появляются примерно каждые 5-10 лет , примерно столько же они остаются актуальными.<br>\n",
    "4) Для исследования взяли данные за 2014, 2015 и 2016 года т.к. нам нужно сделать прогноз на 2017г. Данные за этот период будут более актуальными. Так же самыми перспективными являются платформы РС4 и Xbox One, РС и 3DS так же остаются актуальными.<br>\n",
    "5) В целом, зависимость между оценками критиков\\пользователей и продажами для РС4 и другими платформами похожа. Не ярко выражена.<br>\n",
    "6) Топ 5 жанров : <br>\n",
    "\n",
    "1) Shooter<br>\n",
    "2) Sports<br>\n",
    "3) Platform<br>\n",
    "4) Fighting<br>\n",
    "5) Role-Playing<br>\n",
    "\n",
    "5 самых не популярных :<br>\n",
    "\n",
    "1) Adventure<br>\n",
    "2) Puzzle<br>\n",
    "3) Strategy<br>\n",
    "4) Racing<br>\n",
    "5) Misc<br>\n",
    "<br>\n",
    "\n",
    "Диаграмме размаха показала, что жанр \"Shooter\" имеет самае высокие выбросы. Это говорит о большом кол-ве игр, которые имели очень высокие продажи. Так же у этого жанра самые высокие медиальные значения, из этого следаует , что на дестанции этот жанр имеет более высокие продажи. Стоит выделить жанры \"Sports\" и \"Platform\". Оба жанра имеют хорошие медиальные значения и выбросы, но в жанре \"Sports\" их больше. Так же обращает на себя внимание жанр \"Action\", его медиальные значения не так высоки, но очень много выбросов.\n",
    "<br>\n",
    "<br>\n",
    "4. Портрет пользователя каждого региона.<br>\n",
    "1. Самые популярные платформы :<br>\n",
    "1) В Северной Америке на первом месте \"РС4\", далее идет \"Xbox One\".<br>\n",
    "2) В Европе с большим отрывом лидирует \"РС4\" далее идет \"Xbox One\".<br>\n",
    "3) Лидирующие место на японском рынке занимает \"3DS\", далее идет \"РС4\" и \"PSV\".<br>\n",
    "2. Самые популярные жанры :<br>\n",
    "1) В Северной Америке самым популярным является жанр \"Shooter\", следом идет \"Action\" далее \"Sports\", \"Role-Playing\" и \"Misc\".<br>\n",
    "2) В Европе на первом месте \"Action\", следом идет \"Shooter\" далее \"Sports\", \"Role-Playing\" и \"Racing\".<br>\n",
    "3) В Японии с большим отрывом лидирует жанр \"Action\", следом \"Role-Playing\", менее популярны \"Shooter\", \"Misc\", \"Adventure\".<br>\n",
    "3. Самые популярные возрастные рейтинги :<br>\n",
    "1) В Северной Америке самым популярным является рейтинг \"М\", далее идет группа \"unknown\" ее мы не учитываем , следом идут рейтинги \"Е\", \"Т\", \"Е10+\".<br>\n",
    "2) В Европе ситуация схожа с Северной Америкой. Самым популярным является рейтинг \"М\", далее идет группа \"unknown\" ее мы не учитываем , следом идут рейтинги \"Е\", \"Т\", \"Е10+\". Различие только в распредилении.<br>\n",
    "3) Пропуски в рейтинге сильно испортили данные для Японии. Первое место занимает рейтинг \"Т\", далее \"Е\", \"М\" и \"Е10+\".<br>\n",
    "<br>\n",
    "Итого , портрет \"типочного пользователя\" :<br>\n",
    "Житель Северной Америки играет на \"РС4\"/\"Xbox One\" в игры жанра \"Shooter\" или \"Action\" с рейтингом \"М\".<br>\n",
    "Портрет Европейца схож с жителем Северной Америки.<br>\n",
    "Японец играет на \"3DS\" в игры жанра \"Action\" с рейтингом \"Т\".<br>\n",
    "<br>\n",
    "\n",
    "<br>\n",
    "5 Проверка гипотез итог :<br>\n",
    "1) Средние пользовательские рейтинги платформ Xbox One и PC действительно одинаковые.<br>\n",
    "2) Средние пользовательские рейтинги жанров Action и Sports разные.<br>\n",
    "<br>\n",
    "Общий вывод : самыми актуальными  две платформы - \"РС4\" и \"Xbox One\", так же актуальными остаются \"РС\" и \"3DS\". Среди жанров - \"Shooter\", \"Action\" и \"Sports\".<br>\n",
    "Рекламную компанию стоит проводить с большим упором на \"РС4\" и \"Xbox One\"."
   ]
  }
 ],
 "metadata": {
  "ExecuteTimeLog": [
   {
    "duration": 1359,
    "start_time": "2023-09-15T17:11:02.917Z"
   },
   {
    "duration": 141,
    "start_time": "2023-09-15T17:11:58.022Z"
   },
   {
    "duration": 119,
    "start_time": "2023-09-15T17:12:07.713Z"
   },
   {
    "duration": 84,
    "start_time": "2023-09-15T17:12:21.969Z"
   },
   {
    "duration": 17,
    "start_time": "2023-09-15T17:13:31.949Z"
   },
   {
    "duration": 3,
    "start_time": "2023-09-15T17:16:50.374Z"
   },
   {
    "duration": 22,
    "start_time": "2023-09-15T17:17:00.094Z"
   },
   {
    "duration": 871,
    "start_time": "2023-09-15T17:23:09.793Z"
   },
   {
    "duration": 407,
    "start_time": "2023-09-15T17:23:54.354Z"
   },
   {
    "duration": 13,
    "start_time": "2023-09-15T17:24:52.614Z"
   },
   {
    "duration": 17,
    "start_time": "2023-09-15T17:27:22.394Z"
   },
   {
    "duration": 6,
    "start_time": "2023-09-15T17:28:11.764Z"
   },
   {
    "duration": 22,
    "start_time": "2023-09-15T17:28:26.721Z"
   },
   {
    "duration": 3,
    "start_time": "2023-09-15T17:30:24.062Z"
   },
   {
    "duration": 14,
    "start_time": "2023-09-15T17:30:39.654Z"
   },
   {
    "duration": 19,
    "start_time": "2023-09-15T17:31:15.640Z"
   },
   {
    "duration": 4,
    "start_time": "2023-09-15T17:31:45.252Z"
   },
   {
    "duration": 79,
    "start_time": "2023-09-15T17:31:45.258Z"
   },
   {
    "duration": 25,
    "start_time": "2023-09-15T17:31:45.340Z"
   },
   {
    "duration": 54,
    "start_time": "2023-09-15T17:31:45.368Z"
   },
   {
    "duration": 54,
    "start_time": "2023-09-15T17:31:45.425Z"
   },
   {
    "duration": 100,
    "start_time": "2023-09-15T17:31:45.481Z"
   },
   {
    "duration": 7,
    "start_time": "2023-09-15T17:31:45.583Z"
   },
   {
    "duration": 27,
    "start_time": "2023-09-15T17:31:45.592Z"
   },
   {
    "duration": 15,
    "start_time": "2023-09-15T17:32:02.607Z"
   },
   {
    "duration": 3,
    "start_time": "2023-09-15T17:32:22.145Z"
   },
   {
    "duration": 110,
    "start_time": "2023-09-15T17:32:22.150Z"
   },
   {
    "duration": 15,
    "start_time": "2023-09-15T17:32:22.262Z"
   },
   {
    "duration": 30,
    "start_time": "2023-09-15T17:32:22.279Z"
   },
   {
    "duration": 48,
    "start_time": "2023-09-15T17:32:22.310Z"
   },
   {
    "duration": 24,
    "start_time": "2023-09-15T17:32:22.359Z"
   },
   {
    "duration": 13,
    "start_time": "2023-09-15T17:32:22.384Z"
   },
   {
    "duration": 43,
    "start_time": "2023-09-15T17:32:22.399Z"
   },
   {
    "duration": 20,
    "start_time": "2023-09-15T17:33:40.188Z"
   },
   {
    "duration": 10,
    "start_time": "2023-09-15T17:33:45.082Z"
   },
   {
    "duration": 4,
    "start_time": "2023-09-15T17:36:34.073Z"
   },
   {
    "duration": 14,
    "start_time": "2023-09-15T17:36:36.091Z"
   },
   {
    "duration": 2,
    "start_time": "2023-09-15T17:50:58.072Z"
   },
   {
    "duration": 72,
    "start_time": "2023-09-15T17:50:58.076Z"
   },
   {
    "duration": 14,
    "start_time": "2023-09-15T17:50:58.150Z"
   },
   {
    "duration": 3,
    "start_time": "2023-09-15T17:50:58.165Z"
   },
   {
    "duration": 21,
    "start_time": "2023-09-15T17:50:58.170Z"
   },
   {
    "duration": 5,
    "start_time": "2023-09-15T17:50:58.193Z"
   },
   {
    "duration": 6,
    "start_time": "2023-09-15T17:50:58.199Z"
   },
   {
    "duration": 5,
    "start_time": "2023-09-15T17:50:58.206Z"
   },
   {
    "duration": 21,
    "start_time": "2023-09-15T17:50:58.212Z"
   },
   {
    "duration": 5,
    "start_time": "2023-09-15T17:54:36.906Z"
   },
   {
    "duration": 10,
    "start_time": "2023-09-15T17:58:08.722Z"
   },
   {
    "duration": 5,
    "start_time": "2023-09-15T18:01:14.487Z"
   },
   {
    "duration": 10,
    "start_time": "2023-09-15T18:02:43.448Z"
   },
   {
    "duration": 8,
    "start_time": "2023-09-15T18:02:52.277Z"
   },
   {
    "duration": 10,
    "start_time": "2023-09-15T18:03:05.205Z"
   },
   {
    "duration": 10,
    "start_time": "2023-09-15T18:03:15.265Z"
   },
   {
    "duration": 15,
    "start_time": "2023-09-15T18:03:40.314Z"
   },
   {
    "duration": 3,
    "start_time": "2023-09-15T18:03:54.999Z"
   },
   {
    "duration": 80,
    "start_time": "2023-09-15T18:03:55.004Z"
   },
   {
    "duration": 14,
    "start_time": "2023-09-15T18:03:55.085Z"
   },
   {
    "duration": 3,
    "start_time": "2023-09-15T18:03:55.101Z"
   },
   {
    "duration": 16,
    "start_time": "2023-09-15T18:03:55.105Z"
   },
   {
    "duration": 11,
    "start_time": "2023-09-15T18:03:55.123Z"
   },
   {
    "duration": 6,
    "start_time": "2023-09-15T18:03:55.136Z"
   },
   {
    "duration": 6,
    "start_time": "2023-09-15T18:03:55.143Z"
   },
   {
    "duration": 11,
    "start_time": "2023-09-15T18:03:55.150Z"
   },
   {
    "duration": 7,
    "start_time": "2023-09-15T18:03:55.181Z"
   },
   {
    "duration": 11,
    "start_time": "2023-09-15T18:03:55.190Z"
   },
   {
    "duration": 8,
    "start_time": "2023-09-15T18:03:55.202Z"
   },
   {
    "duration": 13,
    "start_time": "2023-09-15T18:03:55.211Z"
   },
   {
    "duration": 5,
    "start_time": "2023-09-15T18:05:15.778Z"
   },
   {
    "duration": 5,
    "start_time": "2023-09-15T18:05:37.403Z"
   },
   {
    "duration": 6,
    "start_time": "2023-09-15T18:11:27.138Z"
   },
   {
    "duration": 6,
    "start_time": "2023-09-15T18:11:55.721Z"
   },
   {
    "duration": 12,
    "start_time": "2023-09-15T18:48:03.880Z"
   },
   {
    "duration": 49,
    "start_time": "2023-09-15T18:48:08.847Z"
   },
   {
    "duration": 10,
    "start_time": "2023-09-15T18:48:19.855Z"
   },
   {
    "duration": 7,
    "start_time": "2023-09-15T18:50:06.656Z"
   },
   {
    "duration": 3,
    "start_time": "2023-09-15T18:50:21.557Z"
   },
   {
    "duration": 81,
    "start_time": "2023-09-15T18:50:21.562Z"
   },
   {
    "duration": 14,
    "start_time": "2023-09-15T18:50:21.645Z"
   },
   {
    "duration": 15,
    "start_time": "2023-09-15T18:50:21.661Z"
   },
   {
    "duration": 41,
    "start_time": "2023-09-15T18:50:21.678Z"
   },
   {
    "duration": 6,
    "start_time": "2023-09-15T18:50:21.721Z"
   },
   {
    "duration": 11,
    "start_time": "2023-09-15T18:50:21.728Z"
   },
   {
    "duration": 7,
    "start_time": "2023-09-15T18:50:21.741Z"
   },
   {
    "duration": 9,
    "start_time": "2023-09-15T18:50:21.750Z"
   },
   {
    "duration": 18,
    "start_time": "2023-09-15T18:50:21.761Z"
   },
   {
    "duration": 14,
    "start_time": "2023-09-15T18:50:21.781Z"
   },
   {
    "duration": 12,
    "start_time": "2023-09-15T18:50:21.797Z"
   },
   {
    "duration": 7,
    "start_time": "2023-09-15T18:50:21.810Z"
   },
   {
    "duration": 25,
    "start_time": "2023-09-15T18:50:21.818Z"
   },
   {
    "duration": 14,
    "start_time": "2023-09-15T18:50:21.844Z"
   },
   {
    "duration": 11,
    "start_time": "2023-09-15T18:50:21.860Z"
   },
   {
    "duration": 14,
    "start_time": "2023-09-15T18:50:21.872Z"
   },
   {
    "duration": 10,
    "start_time": "2023-09-15T18:54:41.266Z"
   },
   {
    "duration": 5,
    "start_time": "2023-09-15T18:55:51.563Z"
   },
   {
    "duration": 16,
    "start_time": "2023-09-15T18:56:01.545Z"
   },
   {
    "duration": 5,
    "start_time": "2023-09-15T18:58:09.636Z"
   },
   {
    "duration": 6,
    "start_time": "2023-09-15T18:58:57.322Z"
   },
   {
    "duration": 3,
    "start_time": "2023-09-15T18:59:35.266Z"
   },
   {
    "duration": 15,
    "start_time": "2023-09-15T18:59:38.643Z"
   },
   {
    "duration": 17,
    "start_time": "2023-09-15T19:00:21.113Z"
   },
   {
    "duration": 15,
    "start_time": "2023-09-15T19:00:43.797Z"
   },
   {
    "duration": 57,
    "start_time": "2023-09-16T08:33:13.238Z"
   },
   {
    "duration": 1310,
    "start_time": "2023-09-16T08:33:22.708Z"
   },
   {
    "duration": 138,
    "start_time": "2023-09-16T08:33:24.020Z"
   },
   {
    "duration": 17,
    "start_time": "2023-09-16T08:33:24.160Z"
   },
   {
    "duration": 16,
    "start_time": "2023-09-16T08:33:24.179Z"
   },
   {
    "duration": 3,
    "start_time": "2023-09-16T08:33:24.197Z"
   },
   {
    "duration": 16,
    "start_time": "2023-09-16T08:33:24.201Z"
   },
   {
    "duration": 45,
    "start_time": "2023-09-16T08:33:24.218Z"
   },
   {
    "duration": 10,
    "start_time": "2023-09-16T08:33:24.264Z"
   },
   {
    "duration": 19,
    "start_time": "2023-09-16T08:33:24.276Z"
   },
   {
    "duration": 9,
    "start_time": "2023-09-16T08:33:24.298Z"
   },
   {
    "duration": 22,
    "start_time": "2023-09-16T08:33:24.309Z"
   },
   {
    "duration": 23,
    "start_time": "2023-09-16T08:33:24.333Z"
   },
   {
    "duration": 21,
    "start_time": "2023-09-16T08:33:24.358Z"
   },
   {
    "duration": 11,
    "start_time": "2023-09-16T08:33:24.383Z"
   },
   {
    "duration": 5,
    "start_time": "2023-09-16T08:33:24.395Z"
   },
   {
    "duration": 11,
    "start_time": "2023-09-16T08:33:24.402Z"
   },
   {
    "duration": 21,
    "start_time": "2023-09-16T08:33:24.415Z"
   },
   {
    "duration": 47,
    "start_time": "2023-09-16T08:33:24.438Z"
   },
   {
    "duration": 7,
    "start_time": "2023-09-16T08:33:24.488Z"
   },
   {
    "duration": 5,
    "start_time": "2023-09-16T08:36:47.512Z"
   },
   {
    "duration": 300,
    "start_time": "2023-09-16T08:38:07.804Z"
   },
   {
    "duration": 310,
    "start_time": "2023-09-16T08:38:37.474Z"
   },
   {
    "duration": 298,
    "start_time": "2023-09-16T08:38:46.872Z"
   },
   {
    "duration": 319,
    "start_time": "2023-09-16T08:39:58.059Z"
   },
   {
    "duration": 367,
    "start_time": "2023-09-16T08:40:46.066Z"
   },
   {
    "duration": 326,
    "start_time": "2023-09-16T08:41:00.933Z"
   },
   {
    "duration": 7,
    "start_time": "2023-09-16T08:48:38.252Z"
   },
   {
    "duration": 113,
    "start_time": "2023-09-16T08:51:47.833Z"
   },
   {
    "duration": 61,
    "start_time": "2023-09-16T08:52:08.280Z"
   },
   {
    "duration": 15,
    "start_time": "2023-09-16T08:52:48.482Z"
   },
   {
    "duration": 21,
    "start_time": "2023-09-16T08:55:32.186Z"
   },
   {
    "duration": 81,
    "start_time": "2023-09-16T08:57:58.912Z"
   },
   {
    "duration": 671,
    "start_time": "2023-09-16T08:58:18.802Z"
   },
   {
    "duration": 339,
    "start_time": "2023-09-16T08:58:35.102Z"
   },
   {
    "duration": 302,
    "start_time": "2023-09-16T08:59:01.598Z"
   },
   {
    "duration": 302,
    "start_time": "2023-09-16T08:59:11.096Z"
   },
   {
    "duration": 285,
    "start_time": "2023-09-16T09:07:00.064Z"
   },
   {
    "duration": 332,
    "start_time": "2023-09-16T09:07:39.360Z"
   },
   {
    "duration": 334,
    "start_time": "2023-09-16T09:07:46.986Z"
   },
   {
    "duration": 17,
    "start_time": "2023-09-16T09:41:34.419Z"
   },
   {
    "duration": 23,
    "start_time": "2023-09-16T09:42:11.483Z"
   },
   {
    "duration": 22,
    "start_time": "2023-09-16T09:42:25.881Z"
   },
   {
    "duration": 35,
    "start_time": "2023-09-16T09:42:39.460Z"
   },
   {
    "duration": 40,
    "start_time": "2023-09-16T09:43:52.767Z"
   },
   {
    "duration": 7,
    "start_time": "2023-09-16T09:44:01.688Z"
   },
   {
    "duration": 129,
    "start_time": "2023-09-16T09:44:01.697Z"
   },
   {
    "duration": 15,
    "start_time": "2023-09-16T09:44:01.828Z"
   },
   {
    "duration": 62,
    "start_time": "2023-09-16T09:44:01.854Z"
   },
   {
    "duration": 44,
    "start_time": "2023-09-16T09:44:01.918Z"
   },
   {
    "duration": 59,
    "start_time": "2023-09-16T09:44:01.964Z"
   },
   {
    "duration": 53,
    "start_time": "2023-09-16T09:44:02.024Z"
   },
   {
    "duration": 151,
    "start_time": "2023-09-16T09:44:02.080Z"
   },
   {
    "duration": 50,
    "start_time": "2023-09-16T09:44:02.233Z"
   },
   {
    "duration": 30,
    "start_time": "2023-09-16T09:44:02.284Z"
   },
   {
    "duration": 45,
    "start_time": "2023-09-16T09:44:02.316Z"
   },
   {
    "duration": 34,
    "start_time": "2023-09-16T09:44:02.363Z"
   },
   {
    "duration": 83,
    "start_time": "2023-09-16T09:44:02.399Z"
   },
   {
    "duration": 23,
    "start_time": "2023-09-16T09:44:02.484Z"
   },
   {
    "duration": 31,
    "start_time": "2023-09-16T09:44:02.509Z"
   },
   {
    "duration": 58,
    "start_time": "2023-09-16T09:44:02.542Z"
   },
   {
    "duration": 12,
    "start_time": "2023-09-16T09:44:02.602Z"
   },
   {
    "duration": 51,
    "start_time": "2023-09-16T09:44:02.616Z"
   },
   {
    "duration": 391,
    "start_time": "2023-09-16T09:44:02.668Z"
   },
   {
    "duration": 29,
    "start_time": "2023-09-16T09:44:03.060Z"
   },
   {
    "duration": 0,
    "start_time": "2023-09-16T09:44:03.091Z"
   },
   {
    "duration": 0,
    "start_time": "2023-09-16T09:44:03.092Z"
   },
   {
    "duration": 17,
    "start_time": "2023-09-16T09:44:34.725Z"
   },
   {
    "duration": 45,
    "start_time": "2023-09-16T09:44:43.238Z"
   },
   {
    "duration": 89,
    "start_time": "2023-09-16T09:44:54.128Z"
   },
   {
    "duration": 28,
    "start_time": "2023-09-16T09:47:36.871Z"
   },
   {
    "duration": 324,
    "start_time": "2023-09-16T09:48:31.685Z"
   },
   {
    "duration": 542,
    "start_time": "2023-09-16T09:48:52.484Z"
   },
   {
    "duration": 17,
    "start_time": "2023-09-16T09:51:08.644Z"
   },
   {
    "duration": 9,
    "start_time": "2023-09-16T09:51:25.631Z"
   },
   {
    "duration": 23,
    "start_time": "2023-09-16T09:51:31.063Z"
   },
   {
    "duration": 112,
    "start_time": "2023-09-16T09:52:06.028Z"
   },
   {
    "duration": 7,
    "start_time": "2023-09-16T09:52:09.698Z"
   },
   {
    "duration": 28,
    "start_time": "2023-09-16T09:52:31.665Z"
   },
   {
    "duration": 11,
    "start_time": "2023-09-16T09:53:41.191Z"
   },
   {
    "duration": 7,
    "start_time": "2023-09-16T09:53:55.015Z"
   },
   {
    "duration": 13,
    "start_time": "2023-09-16T09:54:53.138Z"
   },
   {
    "duration": 13,
    "start_time": "2023-09-16T09:54:56.977Z"
   },
   {
    "duration": 13,
    "start_time": "2023-09-16T09:55:55.564Z"
   },
   {
    "duration": 7,
    "start_time": "2023-09-16T09:56:03.503Z"
   },
   {
    "duration": 616,
    "start_time": "2023-09-16T09:57:45.718Z"
   },
   {
    "duration": 90,
    "start_time": "2023-09-16T09:58:40.142Z"
   },
   {
    "duration": 264,
    "start_time": "2023-09-16T10:00:48.712Z"
   },
   {
    "duration": 7,
    "start_time": "2023-09-16T10:18:52.502Z"
   },
   {
    "duration": 16,
    "start_time": "2023-09-16T10:20:17.103Z"
   },
   {
    "duration": 38,
    "start_time": "2023-09-16T10:21:07.465Z"
   },
   {
    "duration": 175,
    "start_time": "2023-09-16T10:23:02.703Z"
   },
   {
    "duration": 155,
    "start_time": "2023-09-16T10:23:16.861Z"
   },
   {
    "duration": 33,
    "start_time": "2023-09-16T10:23:44.977Z"
   },
   {
    "duration": 206,
    "start_time": "2023-09-16T10:24:29.723Z"
   },
   {
    "duration": 340,
    "start_time": "2023-09-16T10:24:43.633Z"
   },
   {
    "duration": 193,
    "start_time": "2023-09-16T10:25:26.707Z"
   },
   {
    "duration": 190,
    "start_time": "2023-09-16T10:25:47.943Z"
   },
   {
    "duration": 2035,
    "start_time": "2023-09-16T10:34:26.583Z"
   },
   {
    "duration": 149,
    "start_time": "2023-09-16T10:34:48.894Z"
   },
   {
    "duration": 7,
    "start_time": "2023-09-16T10:35:24.732Z"
   },
   {
    "duration": 172,
    "start_time": "2023-09-16T10:38:00.999Z"
   },
   {
    "duration": 156,
    "start_time": "2023-09-16T10:38:23.063Z"
   },
   {
    "duration": 165,
    "start_time": "2023-09-16T10:39:26.587Z"
   },
   {
    "duration": 184,
    "start_time": "2023-09-16T10:40:00.909Z"
   },
   {
    "duration": 162,
    "start_time": "2023-09-16T10:40:51.415Z"
   },
   {
    "duration": 165,
    "start_time": "2023-09-16T10:42:10.542Z"
   },
   {
    "duration": 5,
    "start_time": "2023-09-16T10:42:36.706Z"
   },
   {
    "duration": 101,
    "start_time": "2023-09-16T11:08:43.166Z"
   },
   {
    "duration": 88,
    "start_time": "2023-09-16T11:08:48.018Z"
   },
   {
    "duration": 1528,
    "start_time": "2023-09-17T08:31:47.861Z"
   },
   {
    "duration": 151,
    "start_time": "2023-09-17T08:31:49.391Z"
   },
   {
    "duration": 25,
    "start_time": "2023-09-17T08:31:49.544Z"
   },
   {
    "duration": 29,
    "start_time": "2023-09-17T08:31:49.574Z"
   },
   {
    "duration": 5,
    "start_time": "2023-09-17T08:31:49.606Z"
   },
   {
    "duration": 51,
    "start_time": "2023-09-17T08:31:49.613Z"
   },
   {
    "duration": 21,
    "start_time": "2023-09-17T08:31:49.674Z"
   },
   {
    "duration": 23,
    "start_time": "2023-09-17T08:31:49.697Z"
   },
   {
    "duration": 24,
    "start_time": "2023-09-17T08:31:49.722Z"
   },
   {
    "duration": 25,
    "start_time": "2023-09-17T08:31:49.748Z"
   },
   {
    "duration": 36,
    "start_time": "2023-09-17T08:31:49.775Z"
   },
   {
    "duration": 24,
    "start_time": "2023-09-17T08:31:49.813Z"
   },
   {
    "duration": 39,
    "start_time": "2023-09-17T08:31:49.839Z"
   },
   {
    "duration": 15,
    "start_time": "2023-09-17T08:31:49.882Z"
   },
   {
    "duration": 9,
    "start_time": "2023-09-17T08:31:49.899Z"
   },
   {
    "duration": 31,
    "start_time": "2023-09-17T08:31:49.909Z"
   },
   {
    "duration": 504,
    "start_time": "2023-09-17T08:31:49.942Z"
   },
   {
    "duration": 19,
    "start_time": "2023-09-17T08:31:50.452Z"
   },
   {
    "duration": 341,
    "start_time": "2023-09-17T08:31:50.473Z"
   },
   {
    "duration": 7,
    "start_time": "2023-09-17T08:31:50.816Z"
   },
   {
    "duration": 355,
    "start_time": "2023-09-17T08:31:50.825Z"
   },
   {
    "duration": 7,
    "start_time": "2023-09-17T08:31:51.182Z"
   },
   {
    "duration": 25,
    "start_time": "2023-09-17T08:31:51.191Z"
   },
   {
    "duration": 201,
    "start_time": "2023-09-17T08:31:51.218Z"
   },
   {
    "duration": 194,
    "start_time": "2023-09-17T08:31:51.421Z"
   },
   {
    "duration": 6,
    "start_time": "2023-09-17T08:31:51.617Z"
   },
   {
    "duration": 218,
    "start_time": "2023-09-17T08:31:51.625Z"
   },
   {
    "duration": 9,
    "start_time": "2023-09-17T08:31:51.847Z"
   },
   {
    "duration": 111,
    "start_time": "2023-09-17T08:31:51.861Z"
   },
   {
    "duration": 191,
    "start_time": "2023-09-17T08:46:26.810Z"
   },
   {
    "duration": 1097,
    "start_time": "2023-09-17T08:46:32.405Z"
   },
   {
    "duration": 964,
    "start_time": "2023-09-17T08:46:44.466Z"
   },
   {
    "duration": 1212,
    "start_time": "2023-09-17T08:46:55.021Z"
   },
   {
    "duration": 1500,
    "start_time": "2023-09-17T08:47:18.498Z"
   },
   {
    "duration": 1274,
    "start_time": "2023-09-17T08:47:28.931Z"
   },
   {
    "duration": 1440,
    "start_time": "2023-09-17T08:47:44.018Z"
   },
   {
    "duration": 11,
    "start_time": "2023-09-17T08:51:17.069Z"
   },
   {
    "duration": 425,
    "start_time": "2023-09-17T08:51:31.809Z"
   },
   {
    "duration": 416,
    "start_time": "2023-09-17T08:51:47.145Z"
   },
   {
    "duration": 5,
    "start_time": "2023-09-17T08:52:46.667Z"
   },
   {
    "duration": 193,
    "start_time": "2023-09-17T08:52:46.675Z"
   },
   {
    "duration": 68,
    "start_time": "2023-09-17T08:52:46.892Z"
   },
   {
    "duration": 53,
    "start_time": "2023-09-17T08:52:46.963Z"
   },
   {
    "duration": 9,
    "start_time": "2023-09-17T08:52:47.019Z"
   },
   {
    "duration": 77,
    "start_time": "2023-09-17T08:52:47.031Z"
   },
   {
    "duration": 9,
    "start_time": "2023-09-17T08:52:47.125Z"
   },
   {
    "duration": 55,
    "start_time": "2023-09-17T08:52:47.136Z"
   },
   {
    "duration": 14,
    "start_time": "2023-09-17T08:52:47.197Z"
   },
   {
    "duration": 11,
    "start_time": "2023-09-17T08:52:47.215Z"
   },
   {
    "duration": 22,
    "start_time": "2023-09-17T08:52:47.230Z"
   },
   {
    "duration": 26,
    "start_time": "2023-09-17T08:52:47.258Z"
   },
   {
    "duration": 43,
    "start_time": "2023-09-17T08:52:47.297Z"
   },
   {
    "duration": 77,
    "start_time": "2023-09-17T08:52:47.359Z"
   },
   {
    "duration": 47,
    "start_time": "2023-09-17T08:52:47.449Z"
   },
   {
    "duration": 79,
    "start_time": "2023-09-17T08:52:47.513Z"
   },
   {
    "duration": 727,
    "start_time": "2023-09-17T08:52:47.598Z"
   },
   {
    "duration": 21,
    "start_time": "2023-09-17T08:52:48.327Z"
   },
   {
    "duration": 481,
    "start_time": "2023-09-17T08:52:48.354Z"
   },
   {
    "duration": 20,
    "start_time": "2023-09-17T08:52:48.844Z"
   },
   {
    "duration": 648,
    "start_time": "2023-09-17T08:52:48.876Z"
   },
   {
    "duration": 55,
    "start_time": "2023-09-17T08:52:49.542Z"
   },
   {
    "duration": 63,
    "start_time": "2023-09-17T08:52:49.617Z"
   },
   {
    "duration": 294,
    "start_time": "2023-09-17T08:52:49.685Z"
   },
   {
    "duration": 14,
    "start_time": "2023-09-17T08:52:49.983Z"
   },
   {
    "duration": 339,
    "start_time": "2023-09-17T08:52:49.999Z"
   },
   {
    "duration": 19,
    "start_time": "2023-09-17T08:52:50.344Z"
   },
   {
    "duration": 358,
    "start_time": "2023-09-17T08:52:50.368Z"
   },
   {
    "duration": 17,
    "start_time": "2023-09-17T08:52:50.733Z"
   },
   {
    "duration": 273,
    "start_time": "2023-09-17T08:52:50.760Z"
   },
   {
    "duration": 1926,
    "start_time": "2023-09-17T08:52:51.045Z"
   },
   {
    "duration": 250,
    "start_time": "2023-09-17T08:56:01.377Z"
   },
   {
    "duration": 240,
    "start_time": "2023-09-17T08:56:20.894Z"
   },
   {
    "duration": 265,
    "start_time": "2023-09-17T08:56:34.737Z"
   },
   {
    "duration": 7,
    "start_time": "2023-09-17T08:57:53.006Z"
   },
   {
    "duration": 13,
    "start_time": "2023-09-17T08:57:55.405Z"
   },
   {
    "duration": 121,
    "start_time": "2023-09-17T08:59:53.419Z"
   },
   {
    "duration": 10,
    "start_time": "2023-09-17T09:00:06.438Z"
   },
   {
    "duration": 10,
    "start_time": "2023-09-17T09:00:36.816Z"
   },
   {
    "duration": 211,
    "start_time": "2023-09-17T09:00:47.232Z"
   },
   {
    "duration": 167,
    "start_time": "2023-09-17T09:01:03.773Z"
   },
   {
    "duration": 6,
    "start_time": "2023-09-17T09:01:19.513Z"
   },
   {
    "duration": 36,
    "start_time": "2023-09-17T09:03:06.443Z"
   },
   {
    "duration": 20,
    "start_time": "2023-09-17T09:03:22.373Z"
   },
   {
    "duration": 19,
    "start_time": "2023-09-17T09:04:39.693Z"
   },
   {
    "duration": 189,
    "start_time": "2023-09-17T09:09:33.985Z"
   },
   {
    "duration": 262,
    "start_time": "2023-09-17T09:09:40.689Z"
   },
   {
    "duration": 436,
    "start_time": "2023-09-17T09:09:48.861Z"
   },
   {
    "duration": 30,
    "start_time": "2023-09-17T09:10:12.401Z"
   },
   {
    "duration": 374,
    "start_time": "2023-09-17T09:10:32.837Z"
   },
   {
    "duration": 396,
    "start_time": "2023-09-17T09:10:52.485Z"
   },
   {
    "duration": 430,
    "start_time": "2023-09-17T09:13:55.781Z"
   },
   {
    "duration": 543,
    "start_time": "2023-09-17T09:14:09.518Z"
   },
   {
    "duration": 347,
    "start_time": "2023-09-17T09:14:19.392Z"
   },
   {
    "duration": 358,
    "start_time": "2023-09-17T09:14:48.176Z"
   },
   {
    "duration": 317,
    "start_time": "2023-09-17T09:15:30.923Z"
   },
   {
    "duration": 374,
    "start_time": "2023-09-17T09:16:25.184Z"
   },
   {
    "duration": 14,
    "start_time": "2023-09-17T09:33:22.484Z"
   },
   {
    "duration": 13,
    "start_time": "2023-09-17T09:34:49.717Z"
   },
   {
    "duration": 14,
    "start_time": "2023-09-17T09:35:00.787Z"
   },
   {
    "duration": 26,
    "start_time": "2023-09-17T09:35:11.342Z"
   },
   {
    "duration": 143,
    "start_time": "2023-09-17T09:36:09.847Z"
   },
   {
    "duration": 14,
    "start_time": "2023-09-17T09:36:19.781Z"
   },
   {
    "duration": 25,
    "start_time": "2023-09-17T09:36:34.206Z"
   },
   {
    "duration": 28,
    "start_time": "2023-09-17T09:37:10.177Z"
   },
   {
    "duration": 222,
    "start_time": "2023-09-17T09:37:47.510Z"
   },
   {
    "duration": 136,
    "start_time": "2023-09-17T09:38:32.670Z"
   },
   {
    "duration": 166,
    "start_time": "2023-09-17T09:38:52.474Z"
   },
   {
    "duration": 168,
    "start_time": "2023-09-17T09:39:04.574Z"
   },
   {
    "duration": 242,
    "start_time": "2023-09-17T09:40:23.098Z"
   },
   {
    "duration": 248,
    "start_time": "2023-09-17T09:40:33.208Z"
   },
   {
    "duration": 36,
    "start_time": "2023-09-17T09:41:43.499Z"
   },
   {
    "duration": 361,
    "start_time": "2023-09-17T09:42:07.226Z"
   },
   {
    "duration": 267,
    "start_time": "2023-09-17T09:42:30.137Z"
   },
   {
    "duration": 232,
    "start_time": "2023-09-17T09:42:43.109Z"
   },
   {
    "duration": 177,
    "start_time": "2023-09-17T09:42:53.503Z"
   },
   {
    "duration": 26,
    "start_time": "2023-09-17T09:43:47.591Z"
   },
   {
    "duration": 1307,
    "start_time": "2023-09-17T13:23:54.192Z"
   },
   {
    "duration": 129,
    "start_time": "2023-09-17T13:23:55.501Z"
   },
   {
    "duration": 15,
    "start_time": "2023-09-17T13:23:55.632Z"
   },
   {
    "duration": 17,
    "start_time": "2023-09-17T13:23:55.649Z"
   },
   {
    "duration": 3,
    "start_time": "2023-09-17T13:23:55.668Z"
   },
   {
    "duration": 43,
    "start_time": "2023-09-17T13:23:55.672Z"
   },
   {
    "duration": 12,
    "start_time": "2023-09-17T13:23:55.718Z"
   },
   {
    "duration": 23,
    "start_time": "2023-09-17T13:23:55.731Z"
   },
   {
    "duration": 20,
    "start_time": "2023-09-17T13:23:55.756Z"
   },
   {
    "duration": 8,
    "start_time": "2023-09-17T13:23:55.779Z"
   },
   {
    "duration": 19,
    "start_time": "2023-09-17T13:23:55.790Z"
   },
   {
    "duration": 21,
    "start_time": "2023-09-17T13:23:55.811Z"
   },
   {
    "duration": 9,
    "start_time": "2023-09-17T13:23:55.834Z"
   },
   {
    "duration": 10,
    "start_time": "2023-09-17T13:23:55.845Z"
   },
   {
    "duration": 13,
    "start_time": "2023-09-17T13:23:55.857Z"
   },
   {
    "duration": 23,
    "start_time": "2023-09-17T13:23:55.872Z"
   },
   {
    "duration": 378,
    "start_time": "2023-09-17T13:23:55.897Z"
   },
   {
    "duration": 12,
    "start_time": "2023-09-17T13:23:56.277Z"
   },
   {
    "duration": 304,
    "start_time": "2023-09-17T13:23:56.291Z"
   },
   {
    "duration": 7,
    "start_time": "2023-09-17T13:23:56.598Z"
   },
   {
    "duration": 279,
    "start_time": "2023-09-17T13:23:56.607Z"
   },
   {
    "duration": 5,
    "start_time": "2023-09-17T13:23:56.888Z"
   },
   {
    "duration": 22,
    "start_time": "2023-09-17T13:23:56.895Z"
   },
   {
    "duration": 136,
    "start_time": "2023-09-17T13:23:56.919Z"
   },
   {
    "duration": 7,
    "start_time": "2023-09-17T13:23:57.058Z"
   },
   {
    "duration": 138,
    "start_time": "2023-09-17T13:23:57.067Z"
   },
   {
    "duration": 6,
    "start_time": "2023-09-17T13:23:57.207Z"
   },
   {
    "duration": 136,
    "start_time": "2023-09-17T13:23:57.221Z"
   },
   {
    "duration": 5,
    "start_time": "2023-09-17T13:23:57.359Z"
   },
   {
    "duration": 97,
    "start_time": "2023-09-17T13:23:57.366Z"
   },
   {
    "duration": 5,
    "start_time": "2023-09-17T13:23:57.465Z"
   },
   {
    "duration": 19,
    "start_time": "2023-09-17T13:23:57.471Z"
   },
   {
    "duration": 18,
    "start_time": "2023-09-17T13:23:57.492Z"
   },
   {
    "duration": 204,
    "start_time": "2023-09-17T13:23:57.511Z"
   },
   {
    "duration": 33,
    "start_time": "2023-09-17T13:23:57.717Z"
   },
   {
    "duration": 189,
    "start_time": "2023-09-17T13:23:57.752Z"
   },
   {
    "duration": 28,
    "start_time": "2023-09-17T13:23:57.943Z"
   },
   {
    "duration": 209,
    "start_time": "2023-09-17T13:23:57.973Z"
   },
   {
    "duration": 19,
    "start_time": "2023-09-17T13:23:58.183Z"
   },
   {
    "duration": 167,
    "start_time": "2023-09-17T13:23:58.204Z"
   },
   {
    "duration": 3,
    "start_time": "2023-09-17T13:36:04.882Z"
   },
   {
    "duration": 75,
    "start_time": "2023-09-17T13:36:04.886Z"
   },
   {
    "duration": 13,
    "start_time": "2023-09-17T13:36:04.963Z"
   },
   {
    "duration": 23,
    "start_time": "2023-09-17T13:36:04.978Z"
   },
   {
    "duration": 3,
    "start_time": "2023-09-17T13:36:05.003Z"
   },
   {
    "duration": 36,
    "start_time": "2023-09-17T13:36:05.008Z"
   },
   {
    "duration": 39,
    "start_time": "2023-09-17T13:36:05.046Z"
   },
   {
    "duration": 28,
    "start_time": "2023-09-17T13:36:05.087Z"
   },
   {
    "duration": 24,
    "start_time": "2023-09-17T13:36:05.116Z"
   },
   {
    "duration": 20,
    "start_time": "2023-09-17T13:36:05.142Z"
   },
   {
    "duration": 32,
    "start_time": "2023-09-17T13:36:05.164Z"
   },
   {
    "duration": 28,
    "start_time": "2023-09-17T13:36:05.198Z"
   },
   {
    "duration": 33,
    "start_time": "2023-09-17T13:36:05.229Z"
   },
   {
    "duration": 26,
    "start_time": "2023-09-17T13:36:05.264Z"
   },
   {
    "duration": 22,
    "start_time": "2023-09-17T13:36:05.292Z"
   },
   {
    "duration": 52,
    "start_time": "2023-09-17T13:36:05.316Z"
   },
   {
    "duration": 311,
    "start_time": "2023-09-17T13:36:05.370Z"
   },
   {
    "duration": 8,
    "start_time": "2023-09-17T13:36:05.683Z"
   },
   {
    "duration": 251,
    "start_time": "2023-09-17T13:36:05.693Z"
   },
   {
    "duration": 12,
    "start_time": "2023-09-17T13:36:05.946Z"
   },
   {
    "duration": 273,
    "start_time": "2023-09-17T13:36:05.960Z"
   },
   {
    "duration": 5,
    "start_time": "2023-09-17T13:36:06.234Z"
   },
   {
    "duration": 23,
    "start_time": "2023-09-17T13:36:06.249Z"
   },
   {
    "duration": 135,
    "start_time": "2023-09-17T13:36:06.274Z"
   },
   {
    "duration": 4,
    "start_time": "2023-09-17T13:36:06.410Z"
   },
   {
    "duration": 155,
    "start_time": "2023-09-17T13:36:06.416Z"
   },
   {
    "duration": 4,
    "start_time": "2023-09-17T13:36:06.573Z"
   },
   {
    "duration": 144,
    "start_time": "2023-09-17T13:36:06.579Z"
   },
   {
    "duration": 5,
    "start_time": "2023-09-17T13:36:06.724Z"
   },
   {
    "duration": 100,
    "start_time": "2023-09-17T13:36:06.731Z"
   },
   {
    "duration": 4,
    "start_time": "2023-09-17T13:36:06.833Z"
   },
   {
    "duration": 14,
    "start_time": "2023-09-17T13:36:06.852Z"
   },
   {
    "duration": 20,
    "start_time": "2023-09-17T13:36:06.867Z"
   },
   {
    "duration": 212,
    "start_time": "2023-09-17T13:36:06.888Z"
   },
   {
    "duration": 16,
    "start_time": "2023-09-17T13:36:07.102Z"
   },
   {
    "duration": 128,
    "start_time": "2023-09-17T13:36:07.120Z"
   },
   {
    "duration": 19,
    "start_time": "2023-09-17T13:36:07.252Z"
   },
   {
    "duration": 206,
    "start_time": "2023-09-17T13:36:07.273Z"
   },
   {
    "duration": 16,
    "start_time": "2023-09-17T13:36:07.481Z"
   },
   {
    "duration": 155,
    "start_time": "2023-09-17T13:36:07.499Z"
   },
   {
    "duration": 1264,
    "start_time": "2023-09-18T09:05:24.547Z"
   },
   {
    "duration": 130,
    "start_time": "2023-09-18T09:05:25.813Z"
   },
   {
    "duration": 17,
    "start_time": "2023-09-18T09:05:25.944Z"
   },
   {
    "duration": 33,
    "start_time": "2023-09-18T09:05:25.963Z"
   },
   {
    "duration": 7,
    "start_time": "2023-09-18T09:05:25.998Z"
   },
   {
    "duration": 33,
    "start_time": "2023-09-18T09:05:26.007Z"
   },
   {
    "duration": 15,
    "start_time": "2023-09-18T09:05:26.041Z"
   },
   {
    "duration": 17,
    "start_time": "2023-09-18T09:05:26.058Z"
   },
   {
    "duration": 23,
    "start_time": "2023-09-18T09:05:26.077Z"
   },
   {
    "duration": 25,
    "start_time": "2023-09-18T09:05:26.103Z"
   },
   {
    "duration": 21,
    "start_time": "2023-09-18T09:05:26.130Z"
   },
   {
    "duration": 25,
    "start_time": "2023-09-18T09:05:26.153Z"
   },
   {
    "duration": 21,
    "start_time": "2023-09-18T09:05:26.180Z"
   },
   {
    "duration": 25,
    "start_time": "2023-09-18T09:05:26.203Z"
   },
   {
    "duration": 13,
    "start_time": "2023-09-18T09:05:26.230Z"
   },
   {
    "duration": 28,
    "start_time": "2023-09-18T09:05:26.244Z"
   },
   {
    "duration": 310,
    "start_time": "2023-09-18T09:05:26.274Z"
   },
   {
    "duration": 7,
    "start_time": "2023-09-18T09:05:26.586Z"
   },
   {
    "duration": 249,
    "start_time": "2023-09-18T09:05:26.595Z"
   },
   {
    "duration": 6,
    "start_time": "2023-09-18T09:05:26.846Z"
   },
   {
    "duration": 268,
    "start_time": "2023-09-18T09:05:26.854Z"
   },
   {
    "duration": 5,
    "start_time": "2023-09-18T09:05:27.124Z"
   },
   {
    "duration": 44,
    "start_time": "2023-09-18T09:05:27.130Z"
   },
   {
    "duration": 123,
    "start_time": "2023-09-18T09:05:27.175Z"
   },
   {
    "duration": 17,
    "start_time": "2023-09-18T09:05:27.299Z"
   },
   {
    "duration": 167,
    "start_time": "2023-09-18T09:05:27.317Z"
   },
   {
    "duration": 4,
    "start_time": "2023-09-18T09:05:27.486Z"
   },
   {
    "duration": 150,
    "start_time": "2023-09-18T09:05:27.492Z"
   },
   {
    "duration": 7,
    "start_time": "2023-09-18T09:05:27.644Z"
   },
   {
    "duration": 82,
    "start_time": "2023-09-18T09:05:27.652Z"
   },
   {
    "duration": 4,
    "start_time": "2023-09-18T09:05:27.736Z"
   },
   {
    "duration": 29,
    "start_time": "2023-09-18T09:05:27.742Z"
   },
   {
    "duration": 37,
    "start_time": "2023-09-18T09:05:27.772Z"
   },
   {
    "duration": 212,
    "start_time": "2023-09-18T09:05:27.810Z"
   },
   {
    "duration": 17,
    "start_time": "2023-09-18T09:05:28.024Z"
   },
   {
    "duration": 132,
    "start_time": "2023-09-18T09:05:28.042Z"
   },
   {
    "duration": 17,
    "start_time": "2023-09-18T09:05:28.176Z"
   },
   {
    "duration": 212,
    "start_time": "2023-09-18T09:05:28.195Z"
   },
   {
    "duration": 15,
    "start_time": "2023-09-18T09:05:28.409Z"
   },
   {
    "duration": 124,
    "start_time": "2023-09-18T09:05:28.426Z"
   },
   {
    "duration": 3,
    "start_time": "2023-09-18T09:07:54.663Z"
   },
   {
    "duration": 74,
    "start_time": "2023-09-18T09:07:54.668Z"
   },
   {
    "duration": 13,
    "start_time": "2023-09-18T09:07:54.743Z"
   },
   {
    "duration": 23,
    "start_time": "2023-09-18T09:07:54.758Z"
   },
   {
    "duration": 11,
    "start_time": "2023-09-18T09:07:54.783Z"
   },
   {
    "duration": 42,
    "start_time": "2023-09-18T09:07:54.796Z"
   },
   {
    "duration": 23,
    "start_time": "2023-09-18T09:07:54.840Z"
   },
   {
    "duration": 13,
    "start_time": "2023-09-18T09:07:54.865Z"
   },
   {
    "duration": 30,
    "start_time": "2023-09-18T09:07:54.881Z"
   },
   {
    "duration": 18,
    "start_time": "2023-09-18T09:07:54.913Z"
   },
   {
    "duration": 26,
    "start_time": "2023-09-18T09:07:54.933Z"
   },
   {
    "duration": 18,
    "start_time": "2023-09-18T09:07:54.961Z"
   },
   {
    "duration": 46,
    "start_time": "2023-09-18T09:07:54.980Z"
   },
   {
    "duration": 62,
    "start_time": "2023-09-18T09:07:55.028Z"
   },
   {
    "duration": 26,
    "start_time": "2023-09-18T09:07:55.092Z"
   },
   {
    "duration": 28,
    "start_time": "2023-09-18T09:07:55.120Z"
   },
   {
    "duration": 278,
    "start_time": "2023-09-18T09:07:55.149Z"
   },
   {
    "duration": 8,
    "start_time": "2023-09-18T09:07:55.429Z"
   },
   {
    "duration": 222,
    "start_time": "2023-09-18T09:07:55.438Z"
   },
   {
    "duration": 6,
    "start_time": "2023-09-18T09:07:55.662Z"
   },
   {
    "duration": 263,
    "start_time": "2023-09-18T09:07:55.670Z"
   },
   {
    "duration": 6,
    "start_time": "2023-09-18T09:07:55.936Z"
   },
   {
    "duration": 27,
    "start_time": "2023-09-18T09:07:55.944Z"
   },
   {
    "duration": 172,
    "start_time": "2023-09-18T09:07:55.978Z"
   },
   {
    "duration": 5,
    "start_time": "2023-09-18T09:07:56.153Z"
   },
   {
    "duration": 149,
    "start_time": "2023-09-18T09:07:56.160Z"
   },
   {
    "duration": 5,
    "start_time": "2023-09-18T09:07:56.311Z"
   },
   {
    "duration": 163,
    "start_time": "2023-09-18T09:07:56.317Z"
   },
   {
    "duration": 5,
    "start_time": "2023-09-18T09:07:56.482Z"
   },
   {
    "duration": 90,
    "start_time": "2023-09-18T09:07:56.488Z"
   },
   {
    "duration": 4,
    "start_time": "2023-09-18T09:07:56.580Z"
   },
   {
    "duration": 19,
    "start_time": "2023-09-18T09:07:56.585Z"
   },
   {
    "duration": 31,
    "start_time": "2023-09-18T09:07:56.606Z"
   },
   {
    "duration": 189,
    "start_time": "2023-09-18T09:07:56.638Z"
   },
   {
    "duration": 27,
    "start_time": "2023-09-18T09:07:56.829Z"
   },
   {
    "duration": 124,
    "start_time": "2023-09-18T09:07:56.858Z"
   },
   {
    "duration": 17,
    "start_time": "2023-09-18T09:07:56.984Z"
   },
   {
    "duration": 203,
    "start_time": "2023-09-18T09:07:57.003Z"
   },
   {
    "duration": 15,
    "start_time": "2023-09-18T09:07:57.208Z"
   },
   {
    "duration": 129,
    "start_time": "2023-09-18T09:07:57.225Z"
   },
   {
    "duration": 3,
    "start_time": "2023-09-18T09:08:07.344Z"
   },
   {
    "duration": 78,
    "start_time": "2023-09-18T09:08:07.349Z"
   },
   {
    "duration": 14,
    "start_time": "2023-09-18T09:08:07.428Z"
   },
   {
    "duration": 15,
    "start_time": "2023-09-18T09:08:07.444Z"
   },
   {
    "duration": 6,
    "start_time": "2023-09-18T09:08:07.461Z"
   },
   {
    "duration": 32,
    "start_time": "2023-09-18T09:08:07.469Z"
   },
   {
    "duration": 42,
    "start_time": "2023-09-18T09:08:07.503Z"
   },
   {
    "duration": 9,
    "start_time": "2023-09-18T09:08:07.547Z"
   },
   {
    "duration": 31,
    "start_time": "2023-09-18T09:08:07.557Z"
   },
   {
    "duration": 17,
    "start_time": "2023-09-18T09:08:07.589Z"
   },
   {
    "duration": 17,
    "start_time": "2023-09-18T09:08:07.607Z"
   },
   {
    "duration": 21,
    "start_time": "2023-09-18T09:08:07.625Z"
   },
   {
    "duration": 13,
    "start_time": "2023-09-18T09:08:07.649Z"
   },
   {
    "duration": 14,
    "start_time": "2023-09-18T09:08:07.664Z"
   },
   {
    "duration": 43,
    "start_time": "2023-09-18T09:08:07.679Z"
   },
   {
    "duration": 38,
    "start_time": "2023-09-18T09:08:07.724Z"
   },
   {
    "duration": 274,
    "start_time": "2023-09-18T09:08:07.763Z"
   },
   {
    "duration": 13,
    "start_time": "2023-09-18T09:08:08.039Z"
   },
   {
    "duration": 260,
    "start_time": "2023-09-18T09:08:08.053Z"
   },
   {
    "duration": 6,
    "start_time": "2023-09-18T09:08:08.315Z"
   },
   {
    "duration": 292,
    "start_time": "2023-09-18T09:08:08.323Z"
   },
   {
    "duration": 5,
    "start_time": "2023-09-18T09:08:08.616Z"
   },
   {
    "duration": 29,
    "start_time": "2023-09-18T09:08:08.622Z"
   },
   {
    "duration": 138,
    "start_time": "2023-09-18T09:08:08.653Z"
   },
   {
    "duration": 4,
    "start_time": "2023-09-18T09:08:08.792Z"
   },
   {
    "duration": 148,
    "start_time": "2023-09-18T09:08:08.797Z"
   },
   {
    "duration": 5,
    "start_time": "2023-09-18T09:08:08.950Z"
   },
   {
    "duration": 133,
    "start_time": "2023-09-18T09:08:08.957Z"
   },
   {
    "duration": 4,
    "start_time": "2023-09-18T09:08:09.092Z"
   },
   {
    "duration": 96,
    "start_time": "2023-09-18T09:08:09.097Z"
   },
   {
    "duration": 4,
    "start_time": "2023-09-18T09:08:09.194Z"
   },
   {
    "duration": 31,
    "start_time": "2023-09-18T09:08:09.199Z"
   },
   {
    "duration": 18,
    "start_time": "2023-09-18T09:08:09.232Z"
   },
   {
    "duration": 183,
    "start_time": "2023-09-18T09:08:09.251Z"
   },
   {
    "duration": 22,
    "start_time": "2023-09-18T09:08:09.436Z"
   },
   {
    "duration": 119,
    "start_time": "2023-09-18T09:08:09.459Z"
   },
   {
    "duration": 16,
    "start_time": "2023-09-18T09:08:09.581Z"
   },
   {
    "duration": 203,
    "start_time": "2023-09-18T09:08:09.598Z"
   },
   {
    "duration": 15,
    "start_time": "2023-09-18T09:08:09.803Z"
   },
   {
    "duration": 118,
    "start_time": "2023-09-18T09:08:09.820Z"
   },
   {
    "duration": 19,
    "start_time": "2023-09-18T09:09:32.200Z"
   },
   {
    "duration": 4442,
    "start_time": "2023-09-18T09:11:27.979Z"
   },
   {
    "duration": 13,
    "start_time": "2023-09-18T09:11:40.228Z"
   },
   {
    "duration": 101,
    "start_time": "2023-09-18T09:12:48.484Z"
   },
   {
    "duration": 115,
    "start_time": "2023-09-18T09:13:16.400Z"
   },
   {
    "duration": 17,
    "start_time": "2023-09-18T09:17:36.447Z"
   },
   {
    "duration": 16,
    "start_time": "2023-09-18T09:18:05.680Z"
   },
   {
    "duration": 19,
    "start_time": "2023-09-18T09:18:26.070Z"
   },
   {
    "duration": 15,
    "start_time": "2023-09-18T09:22:08.889Z"
   },
   {
    "duration": 107,
    "start_time": "2023-09-18T09:22:38.550Z"
   },
   {
    "duration": 14,
    "start_time": "2023-09-18T09:23:32.598Z"
   },
   {
    "duration": 113,
    "start_time": "2023-09-18T09:24:05.466Z"
   },
   {
    "duration": 16,
    "start_time": "2023-09-18T09:36:25.024Z"
   },
   {
    "duration": 106,
    "start_time": "2023-09-18T09:36:32.935Z"
   },
   {
    "duration": 19,
    "start_time": "2023-09-18T09:37:14.470Z"
   },
   {
    "duration": 102,
    "start_time": "2023-09-18T09:37:23.562Z"
   },
   {
    "duration": 16,
    "start_time": "2023-09-18T09:38:11.865Z"
   },
   {
    "duration": 110,
    "start_time": "2023-09-18T09:38:14.330Z"
   },
   {
    "duration": 16,
    "start_time": "2023-09-18T09:38:41.286Z"
   },
   {
    "duration": 16,
    "start_time": "2023-09-18T09:38:50.243Z"
   },
   {
    "duration": 15,
    "start_time": "2023-09-18T09:39:27.169Z"
   },
   {
    "duration": 19,
    "start_time": "2023-09-18T09:41:47.574Z"
   },
   {
    "duration": 5,
    "start_time": "2023-09-18T09:43:11.849Z"
   },
   {
    "duration": 17,
    "start_time": "2023-09-18T09:43:13.744Z"
   },
   {
    "duration": 150,
    "start_time": "2023-09-18T09:43:16.032Z"
   },
   {
    "duration": 4,
    "start_time": "2023-09-18T09:43:25.407Z"
   },
   {
    "duration": 3,
    "start_time": "2023-09-18T09:43:28.968Z"
   },
   {
    "duration": 68,
    "start_time": "2023-09-18T09:43:28.973Z"
   },
   {
    "duration": 12,
    "start_time": "2023-09-18T09:43:29.043Z"
   },
   {
    "duration": 18,
    "start_time": "2023-09-18T09:43:29.057Z"
   },
   {
    "duration": 3,
    "start_time": "2023-09-18T09:43:29.076Z"
   },
   {
    "duration": 29,
    "start_time": "2023-09-18T09:43:29.081Z"
   },
   {
    "duration": 8,
    "start_time": "2023-09-18T09:43:29.112Z"
   },
   {
    "duration": 8,
    "start_time": "2023-09-18T09:43:29.122Z"
   },
   {
    "duration": 20,
    "start_time": "2023-09-18T09:43:29.133Z"
   },
   {
    "duration": 15,
    "start_time": "2023-09-18T09:43:29.154Z"
   },
   {
    "duration": 12,
    "start_time": "2023-09-18T09:43:29.171Z"
   },
   {
    "duration": 18,
    "start_time": "2023-09-18T09:43:29.185Z"
   },
   {
    "duration": 10,
    "start_time": "2023-09-18T09:43:29.204Z"
   },
   {
    "duration": 9,
    "start_time": "2023-09-18T09:43:29.216Z"
   },
   {
    "duration": 8,
    "start_time": "2023-09-18T09:43:29.226Z"
   },
   {
    "duration": 22,
    "start_time": "2023-09-18T09:43:29.235Z"
   },
   {
    "duration": 335,
    "start_time": "2023-09-18T09:43:29.259Z"
   },
   {
    "duration": 7,
    "start_time": "2023-09-18T09:43:29.596Z"
   },
   {
    "duration": 216,
    "start_time": "2023-09-18T09:43:29.605Z"
   },
   {
    "duration": 6,
    "start_time": "2023-09-18T09:43:29.822Z"
   },
   {
    "duration": 250,
    "start_time": "2023-09-18T09:43:29.829Z"
   },
   {
    "duration": 5,
    "start_time": "2023-09-18T09:43:30.080Z"
   },
   {
    "duration": 39,
    "start_time": "2023-09-18T09:43:30.087Z"
   },
   {
    "duration": 136,
    "start_time": "2023-09-18T09:43:30.130Z"
   },
   {
    "duration": 4,
    "start_time": "2023-09-18T09:43:30.268Z"
   },
   {
    "duration": 190,
    "start_time": "2023-09-18T09:43:30.274Z"
   },
   {
    "duration": 6,
    "start_time": "2023-09-18T09:43:30.465Z"
   },
   {
    "duration": 154,
    "start_time": "2023-09-18T09:43:30.473Z"
   },
   {
    "duration": 5,
    "start_time": "2023-09-18T09:43:30.629Z"
   },
   {
    "duration": 118,
    "start_time": "2023-09-18T09:43:30.636Z"
   },
   {
    "duration": 5,
    "start_time": "2023-09-18T09:43:30.756Z"
   },
   {
    "duration": 54,
    "start_time": "2023-09-18T09:43:30.762Z"
   },
   {
    "duration": 48,
    "start_time": "2023-09-18T09:43:30.818Z"
   },
   {
    "duration": 264,
    "start_time": "2023-09-18T09:43:30.868Z"
   },
   {
    "duration": 22,
    "start_time": "2023-09-18T09:43:31.134Z"
   },
   {
    "duration": 130,
    "start_time": "2023-09-18T09:43:31.157Z"
   },
   {
    "duration": 17,
    "start_time": "2023-09-18T09:43:31.289Z"
   },
   {
    "duration": 132,
    "start_time": "2023-09-18T09:43:31.308Z"
   },
   {
    "duration": 19,
    "start_time": "2023-09-18T09:43:31.442Z"
   },
   {
    "duration": 118,
    "start_time": "2023-09-18T09:43:31.462Z"
   },
   {
    "duration": 15,
    "start_time": "2023-09-18T09:43:31.582Z"
   },
   {
    "duration": 121,
    "start_time": "2023-09-18T09:43:31.599Z"
   },
   {
    "duration": 16,
    "start_time": "2023-09-18T09:43:31.721Z"
   },
   {
    "duration": 193,
    "start_time": "2023-09-18T09:43:31.738Z"
   },
   {
    "duration": 18,
    "start_time": "2023-09-18T09:43:31.932Z"
   },
   {
    "duration": 140,
    "start_time": "2023-09-18T09:43:31.952Z"
   },
   {
    "duration": 15,
    "start_time": "2023-09-18T09:43:32.093Z"
   },
   {
    "duration": 19,
    "start_time": "2023-09-18T09:43:49.854Z"
   },
   {
    "duration": 110,
    "start_time": "2023-09-18T09:43:52.576Z"
   },
   {
    "duration": 13,
    "start_time": "2023-09-18T09:44:00.071Z"
   },
   {
    "duration": 16,
    "start_time": "2023-09-18T09:44:13.242Z"
   },
   {
    "duration": 145,
    "start_time": "2023-09-18T09:44:15.996Z"
   },
   {
    "duration": 16,
    "start_time": "2023-09-18T09:44:25.752Z"
   },
   {
    "duration": 119,
    "start_time": "2023-09-18T09:44:28.435Z"
   },
   {
    "duration": 15,
    "start_time": "2023-09-18T09:44:37.046Z"
   },
   {
    "duration": 116,
    "start_time": "2023-09-18T09:44:39.644Z"
   },
   {
    "duration": 15,
    "start_time": "2023-09-18T09:44:45.415Z"
   },
   {
    "duration": 108,
    "start_time": "2023-09-18T09:44:48.375Z"
   },
   {
    "duration": 14,
    "start_time": "2023-09-18T09:44:59.836Z"
   },
   {
    "duration": 105,
    "start_time": "2023-09-18T09:46:29.488Z"
   },
   {
    "duration": 111,
    "start_time": "2023-09-18T09:46:47.993Z"
   },
   {
    "duration": 107,
    "start_time": "2023-09-18T09:47:11.968Z"
   },
   {
    "duration": 21,
    "start_time": "2023-09-18T09:48:41.756Z"
   },
   {
    "duration": 121,
    "start_time": "2023-09-18T09:50:22.173Z"
   },
   {
    "duration": 107,
    "start_time": "2023-09-18T09:50:29.230Z"
   },
   {
    "duration": 15,
    "start_time": "2023-09-18T09:52:07.121Z"
   },
   {
    "duration": 34,
    "start_time": "2023-09-18T09:52:26.246Z"
   },
   {
    "duration": 130,
    "start_time": "2023-09-18T09:53:22.145Z"
   },
   {
    "duration": 4,
    "start_time": "2023-09-18T10:03:56.192Z"
   },
   {
    "duration": 6,
    "start_time": "2023-09-18T10:04:30.461Z"
   },
   {
    "duration": 6,
    "start_time": "2023-09-18T10:07:38.267Z"
   },
   {
    "duration": 5,
    "start_time": "2023-09-18T10:11:16.809Z"
   },
   {
    "duration": 9,
    "start_time": "2023-09-18T10:11:20.543Z"
   },
   {
    "duration": 5,
    "start_time": "2023-09-18T10:11:30.969Z"
   },
   {
    "duration": 4,
    "start_time": "2023-09-18T10:11:33.522Z"
   },
   {
    "duration": 5,
    "start_time": "2023-09-18T10:12:54.194Z"
   },
   {
    "duration": 7,
    "start_time": "2023-09-18T10:13:48.595Z"
   },
   {
    "duration": 7,
    "start_time": "2023-09-18T10:14:32.032Z"
   },
   {
    "duration": 7,
    "start_time": "2023-09-18T10:19:54.509Z"
   },
   {
    "duration": 7,
    "start_time": "2023-09-18T10:20:15.237Z"
   },
   {
    "duration": 105,
    "start_time": "2023-09-18T10:58:34.792Z"
   },
   {
    "duration": 10,
    "start_time": "2023-09-18T10:58:39.071Z"
   },
   {
    "duration": 3,
    "start_time": "2023-09-18T10:58:45.728Z"
   },
   {
    "duration": 74,
    "start_time": "2023-09-18T10:58:45.732Z"
   },
   {
    "duration": 12,
    "start_time": "2023-09-18T10:58:45.808Z"
   },
   {
    "duration": 52,
    "start_time": "2023-09-18T10:58:45.822Z"
   },
   {
    "duration": 9,
    "start_time": "2023-09-18T10:58:45.877Z"
   },
   {
    "duration": 41,
    "start_time": "2023-09-18T10:58:45.888Z"
   },
   {
    "duration": 19,
    "start_time": "2023-09-18T10:58:45.931Z"
   },
   {
    "duration": 134,
    "start_time": "2023-09-18T10:58:45.951Z"
   },
   {
    "duration": 11,
    "start_time": "2023-09-18T10:58:46.087Z"
   },
   {
    "duration": 13,
    "start_time": "2023-09-18T10:58:46.099Z"
   },
   {
    "duration": 16,
    "start_time": "2023-09-18T10:58:46.114Z"
   },
   {
    "duration": 24,
    "start_time": "2023-09-18T10:58:46.131Z"
   },
   {
    "duration": 14,
    "start_time": "2023-09-18T10:58:46.157Z"
   },
   {
    "duration": 21,
    "start_time": "2023-09-18T10:58:46.175Z"
   },
   {
    "duration": 7,
    "start_time": "2023-09-18T10:58:46.198Z"
   },
   {
    "duration": 18,
    "start_time": "2023-09-18T10:58:46.206Z"
   },
   {
    "duration": 292,
    "start_time": "2023-09-18T10:58:46.226Z"
   },
   {
    "duration": 7,
    "start_time": "2023-09-18T10:58:46.520Z"
   },
   {
    "duration": 221,
    "start_time": "2023-09-18T10:58:46.529Z"
   },
   {
    "duration": 6,
    "start_time": "2023-09-18T10:58:46.752Z"
   },
   {
    "duration": 251,
    "start_time": "2023-09-18T10:58:46.759Z"
   },
   {
    "duration": 5,
    "start_time": "2023-09-18T10:58:47.012Z"
   },
   {
    "duration": 21,
    "start_time": "2023-09-18T10:58:47.018Z"
   },
   {
    "duration": 120,
    "start_time": "2023-09-18T10:58:47.041Z"
   },
   {
    "duration": 4,
    "start_time": "2023-09-18T10:58:47.162Z"
   },
   {
    "duration": 124,
    "start_time": "2023-09-18T10:58:47.168Z"
   },
   {
    "duration": 5,
    "start_time": "2023-09-18T10:58:47.293Z"
   },
   {
    "duration": 127,
    "start_time": "2023-09-18T10:58:47.299Z"
   },
   {
    "duration": 4,
    "start_time": "2023-09-18T10:58:47.428Z"
   },
   {
    "duration": 87,
    "start_time": "2023-09-18T10:58:47.433Z"
   },
   {
    "duration": 4,
    "start_time": "2023-09-18T10:58:47.521Z"
   },
   {
    "duration": 18,
    "start_time": "2023-09-18T10:58:47.527Z"
   },
   {
    "duration": 10,
    "start_time": "2023-09-18T10:58:47.546Z"
   },
   {
    "duration": 188,
    "start_time": "2023-09-18T10:58:47.558Z"
   },
   {
    "duration": 16,
    "start_time": "2023-09-18T10:58:47.747Z"
   },
   {
    "duration": 108,
    "start_time": "2023-09-18T10:58:47.764Z"
   },
   {
    "duration": 15,
    "start_time": "2023-09-18T10:58:47.874Z"
   },
   {
    "duration": 132,
    "start_time": "2023-09-18T10:58:47.890Z"
   },
   {
    "duration": 13,
    "start_time": "2023-09-18T10:58:48.024Z"
   },
   {
    "duration": 113,
    "start_time": "2023-09-18T10:58:48.038Z"
   },
   {
    "duration": 15,
    "start_time": "2023-09-18T10:58:48.154Z"
   },
   {
    "duration": 196,
    "start_time": "2023-09-18T10:58:48.170Z"
   },
   {
    "duration": 24,
    "start_time": "2023-09-18T10:58:48.367Z"
   },
   {
    "duration": 132,
    "start_time": "2023-09-18T10:58:48.392Z"
   },
   {
    "duration": 23,
    "start_time": "2023-09-18T10:58:48.526Z"
   },
   {
    "duration": 107,
    "start_time": "2023-09-18T10:58:48.551Z"
   },
   {
    "duration": 14,
    "start_time": "2023-09-18T10:58:48.660Z"
   },
   {
    "duration": 106,
    "start_time": "2023-09-18T10:58:48.675Z"
   },
   {
    "duration": 14,
    "start_time": "2023-09-18T10:58:48.782Z"
   },
   {
    "duration": 104,
    "start_time": "2023-09-18T10:58:48.798Z"
   },
   {
    "duration": 13,
    "start_time": "2023-09-18T10:58:48.904Z"
   },
   {
    "duration": 121,
    "start_time": "2023-09-18T10:58:48.918Z"
   },
   {
    "duration": 13,
    "start_time": "2023-09-18T10:58:49.041Z"
   },
   {
    "duration": 17,
    "start_time": "2023-09-18T10:58:49.055Z"
   },
   {
    "duration": 3,
    "start_time": "2023-09-18T14:02:28.668Z"
   },
   {
    "duration": 72,
    "start_time": "2023-09-18T14:02:28.673Z"
   },
   {
    "duration": 12,
    "start_time": "2023-09-18T14:02:28.747Z"
   },
   {
    "duration": 17,
    "start_time": "2023-09-18T14:02:28.761Z"
   },
   {
    "duration": 4,
    "start_time": "2023-09-18T14:02:28.779Z"
   },
   {
    "duration": 28,
    "start_time": "2023-09-18T14:02:28.785Z"
   },
   {
    "duration": 18,
    "start_time": "2023-09-18T14:02:28.815Z"
   },
   {
    "duration": 25,
    "start_time": "2023-09-18T14:02:28.834Z"
   },
   {
    "duration": 5,
    "start_time": "2023-09-18T14:02:28.862Z"
   },
   {
    "duration": 10,
    "start_time": "2023-09-18T14:02:28.868Z"
   },
   {
    "duration": 6,
    "start_time": "2023-09-18T14:02:28.879Z"
   },
   {
    "duration": 15,
    "start_time": "2023-09-18T14:02:28.886Z"
   },
   {
    "duration": 15,
    "start_time": "2023-09-18T14:02:28.903Z"
   },
   {
    "duration": 7,
    "start_time": "2023-09-18T14:02:28.920Z"
   },
   {
    "duration": 31,
    "start_time": "2023-09-18T14:02:28.929Z"
   },
   {
    "duration": 321,
    "start_time": "2023-09-18T14:02:28.962Z"
   },
   {
    "duration": 8,
    "start_time": "2023-09-18T14:02:29.284Z"
   },
   {
    "duration": 234,
    "start_time": "2023-09-18T14:02:29.293Z"
   },
   {
    "duration": 6,
    "start_time": "2023-09-18T14:02:29.529Z"
   },
   {
    "duration": 283,
    "start_time": "2023-09-18T14:02:29.536Z"
   },
   {
    "duration": 5,
    "start_time": "2023-09-18T14:02:29.821Z"
   },
   {
    "duration": 28,
    "start_time": "2023-09-18T14:02:29.828Z"
   },
   {
    "duration": 137,
    "start_time": "2023-09-18T14:02:29.858Z"
   },
   {
    "duration": 4,
    "start_time": "2023-09-18T14:02:29.999Z"
   },
   {
    "duration": 287,
    "start_time": "2023-09-18T14:02:30.005Z"
   },
   {
    "duration": 5,
    "start_time": "2023-09-18T14:02:30.294Z"
   },
   {
    "duration": 201,
    "start_time": "2023-09-18T14:02:30.301Z"
   },
   {
    "duration": 5,
    "start_time": "2023-09-18T14:02:30.503Z"
   },
   {
    "duration": 110,
    "start_time": "2023-09-18T14:02:30.510Z"
   },
   {
    "duration": 4,
    "start_time": "2023-09-18T14:02:30.622Z"
   },
   {
    "duration": 72,
    "start_time": "2023-09-18T14:02:30.628Z"
   },
   {
    "duration": 56,
    "start_time": "2023-09-18T14:02:30.702Z"
   },
   {
    "duration": 248,
    "start_time": "2023-09-18T14:02:30.760Z"
   },
   {
    "duration": 16,
    "start_time": "2023-09-18T14:02:31.009Z"
   },
   {
    "duration": 152,
    "start_time": "2023-09-18T14:02:31.026Z"
   },
   {
    "duration": 33,
    "start_time": "2023-09-18T14:02:31.180Z"
   },
   {
    "duration": 149,
    "start_time": "2023-09-18T14:02:31.215Z"
   },
   {
    "duration": 15,
    "start_time": "2023-09-18T14:02:31.365Z"
   },
   {
    "duration": 161,
    "start_time": "2023-09-18T14:02:31.382Z"
   },
   {
    "duration": 17,
    "start_time": "2023-09-18T14:02:31.544Z"
   },
   {
    "duration": 126,
    "start_time": "2023-09-18T14:02:31.563Z"
   },
   {
    "duration": 16,
    "start_time": "2023-09-18T14:02:31.691Z"
   },
   {
    "duration": 125,
    "start_time": "2023-09-18T14:02:31.709Z"
   },
   {
    "duration": 26,
    "start_time": "2023-09-18T14:02:31.836Z"
   },
   {
    "duration": 144,
    "start_time": "2023-09-18T14:02:31.864Z"
   },
   {
    "duration": 16,
    "start_time": "2023-09-18T14:02:32.010Z"
   },
   {
    "duration": 211,
    "start_time": "2023-09-18T14:02:32.027Z"
   },
   {
    "duration": 32,
    "start_time": "2023-09-18T14:02:32.239Z"
   },
   {
    "duration": 306,
    "start_time": "2023-09-18T14:02:32.272Z"
   },
   {
    "duration": 16,
    "start_time": "2023-09-18T14:02:32.580Z"
   },
   {
    "duration": 165,
    "start_time": "2023-09-18T14:02:32.598Z"
   },
   {
    "duration": 8,
    "start_time": "2023-09-18T14:02:32.765Z"
   },
   {
    "duration": 31,
    "start_time": "2023-09-18T14:02:32.775Z"
   },
   {
    "duration": 4,
    "start_time": "2023-09-18T14:04:14.957Z"
   },
   {
    "duration": 4,
    "start_time": "2023-09-18T14:04:20.341Z"
   },
   {
    "duration": 95,
    "start_time": "2023-09-18T14:04:20.347Z"
   },
   {
    "duration": 15,
    "start_time": "2023-09-18T14:04:20.444Z"
   },
   {
    "duration": 16,
    "start_time": "2023-09-18T14:04:20.461Z"
   },
   {
    "duration": 9,
    "start_time": "2023-09-18T14:04:20.480Z"
   },
   {
    "duration": 22,
    "start_time": "2023-09-18T14:04:20.490Z"
   },
   {
    "duration": 21,
    "start_time": "2023-09-18T14:04:20.513Z"
   },
   {
    "duration": 24,
    "start_time": "2023-09-18T14:04:20.536Z"
   },
   {
    "duration": 15,
    "start_time": "2023-09-18T14:04:20.561Z"
   },
   {
    "duration": 30,
    "start_time": "2023-09-18T14:04:20.577Z"
   },
   {
    "duration": 15,
    "start_time": "2023-09-18T14:04:20.609Z"
   },
   {
    "duration": 13,
    "start_time": "2023-09-18T14:04:20.625Z"
   },
   {
    "duration": 16,
    "start_time": "2023-09-18T14:04:20.640Z"
   },
   {
    "duration": 20,
    "start_time": "2023-09-18T14:04:20.659Z"
   },
   {
    "duration": 17,
    "start_time": "2023-09-18T14:04:20.680Z"
   },
   {
    "duration": 387,
    "start_time": "2023-09-18T14:04:20.698Z"
   },
   {
    "duration": 8,
    "start_time": "2023-09-18T14:04:21.086Z"
   },
   {
    "duration": 270,
    "start_time": "2023-09-18T14:04:21.096Z"
   },
   {
    "duration": 6,
    "start_time": "2023-09-18T14:04:21.368Z"
   },
   {
    "duration": 302,
    "start_time": "2023-09-18T14:04:21.376Z"
   },
   {
    "duration": 6,
    "start_time": "2023-09-18T14:04:21.680Z"
   },
   {
    "duration": 29,
    "start_time": "2023-09-18T14:04:21.687Z"
   },
   {
    "duration": 142,
    "start_time": "2023-09-18T14:04:21.718Z"
   },
   {
    "duration": 4,
    "start_time": "2023-09-18T14:04:21.862Z"
   },
   {
    "duration": 146,
    "start_time": "2023-09-18T14:04:21.867Z"
   },
   {
    "duration": 5,
    "start_time": "2023-09-18T14:04:22.014Z"
   },
   {
    "duration": 150,
    "start_time": "2023-09-18T14:04:22.021Z"
   },
   {
    "duration": 4,
    "start_time": "2023-09-18T14:04:22.173Z"
   },
   {
    "duration": 89,
    "start_time": "2023-09-18T14:04:22.179Z"
   },
   {
    "duration": 4,
    "start_time": "2023-09-18T14:04:22.270Z"
   },
   {
    "duration": 10,
    "start_time": "2023-09-18T14:04:22.276Z"
   },
   {
    "duration": 9,
    "start_time": "2023-09-18T14:04:22.288Z"
   },
   {
    "duration": 222,
    "start_time": "2023-09-18T14:04:22.299Z"
   },
   {
    "duration": 18,
    "start_time": "2023-09-18T14:04:22.523Z"
   },
   {
    "duration": 119,
    "start_time": "2023-09-18T14:04:22.550Z"
   },
   {
    "duration": 16,
    "start_time": "2023-09-18T14:04:22.670Z"
   },
   {
    "duration": 123,
    "start_time": "2023-09-18T14:04:22.687Z"
   },
   {
    "duration": 15,
    "start_time": "2023-09-18T14:04:22.811Z"
   },
   {
    "duration": 116,
    "start_time": "2023-09-18T14:04:22.828Z"
   },
   {
    "duration": 17,
    "start_time": "2023-09-18T14:04:22.945Z"
   },
   {
    "duration": 130,
    "start_time": "2023-09-18T14:04:22.965Z"
   },
   {
    "duration": 15,
    "start_time": "2023-09-18T14:04:23.096Z"
   },
   {
    "duration": 132,
    "start_time": "2023-09-18T14:04:23.112Z"
   },
   {
    "duration": 16,
    "start_time": "2023-09-18T14:04:23.249Z"
   },
   {
    "duration": 209,
    "start_time": "2023-09-18T14:04:23.267Z"
   },
   {
    "duration": 16,
    "start_time": "2023-09-18T14:04:23.478Z"
   },
   {
    "duration": 120,
    "start_time": "2023-09-18T14:04:23.495Z"
   },
   {
    "duration": 15,
    "start_time": "2023-09-18T14:04:23.617Z"
   },
   {
    "duration": 119,
    "start_time": "2023-09-18T14:04:23.633Z"
   },
   {
    "duration": 17,
    "start_time": "2023-09-18T14:04:23.754Z"
   },
   {
    "duration": 122,
    "start_time": "2023-09-18T14:04:23.772Z"
   },
   {
    "duration": 7,
    "start_time": "2023-09-18T14:04:23.896Z"
   },
   {
    "duration": 28,
    "start_time": "2023-09-18T14:04:23.905Z"
   },
   {
    "duration": 9,
    "start_time": "2023-09-18T14:05:50.170Z"
   },
   {
    "duration": 33,
    "start_time": "2023-09-18T14:05:57.374Z"
   },
   {
    "duration": 5,
    "start_time": "2023-09-18T14:06:15.027Z"
   },
   {
    "duration": 5,
    "start_time": "2023-09-18T14:07:00.137Z"
   },
   {
    "duration": 8,
    "start_time": "2023-09-18T14:07:33.322Z"
   },
   {
    "duration": 208,
    "start_time": "2023-09-18T14:08:53.561Z"
   },
   {
    "duration": 3,
    "start_time": "2023-09-18T14:14:59.238Z"
   },
   {
    "duration": 68,
    "start_time": "2023-09-18T14:14:59.242Z"
   },
   {
    "duration": 14,
    "start_time": "2023-09-18T14:14:59.312Z"
   },
   {
    "duration": 26,
    "start_time": "2023-09-18T14:14:59.328Z"
   },
   {
    "duration": 3,
    "start_time": "2023-09-18T14:14:59.356Z"
   },
   {
    "duration": 18,
    "start_time": "2023-09-18T14:14:59.360Z"
   },
   {
    "duration": 20,
    "start_time": "2023-09-18T14:14:59.379Z"
   },
   {
    "duration": 8,
    "start_time": "2023-09-18T14:14:59.400Z"
   },
   {
    "duration": 5,
    "start_time": "2023-09-18T14:14:59.410Z"
   },
   {
    "duration": 13,
    "start_time": "2023-09-18T14:14:59.416Z"
   },
   {
    "duration": 23,
    "start_time": "2023-09-18T14:14:59.431Z"
   },
   {
    "duration": 7,
    "start_time": "2023-09-18T14:14:59.455Z"
   },
   {
    "duration": 15,
    "start_time": "2023-09-18T14:14:59.464Z"
   },
   {
    "duration": 8,
    "start_time": "2023-09-18T14:14:59.481Z"
   },
   {
    "duration": 25,
    "start_time": "2023-09-18T14:14:59.490Z"
   },
   {
    "duration": 313,
    "start_time": "2023-09-18T14:14:59.517Z"
   },
   {
    "duration": 8,
    "start_time": "2023-09-18T14:14:59.832Z"
   },
   {
    "duration": 239,
    "start_time": "2023-09-18T14:14:59.849Z"
   },
   {
    "duration": 7,
    "start_time": "2023-09-18T14:15:00.089Z"
   },
   {
    "duration": 372,
    "start_time": "2023-09-18T14:15:00.098Z"
   },
   {
    "duration": 7,
    "start_time": "2023-09-18T14:15:00.472Z"
   },
   {
    "duration": 84,
    "start_time": "2023-09-18T14:15:00.481Z"
   },
   {
    "duration": 293,
    "start_time": "2023-09-18T14:15:00.567Z"
   },
   {
    "duration": 4,
    "start_time": "2023-09-18T14:15:00.861Z"
   },
   {
    "duration": 215,
    "start_time": "2023-09-18T14:15:00.867Z"
   },
   {
    "duration": 5,
    "start_time": "2023-09-18T14:15:01.086Z"
   },
   {
    "duration": 271,
    "start_time": "2023-09-18T14:15:01.092Z"
   },
   {
    "duration": 5,
    "start_time": "2023-09-18T14:15:01.365Z"
   },
   {
    "duration": 56,
    "start_time": "2023-09-18T14:15:01.373Z"
   },
   {
    "duration": 39,
    "start_time": "2023-09-18T14:15:01.431Z"
   },
   {
    "duration": 66,
    "start_time": "2023-09-18T14:15:01.472Z"
   },
   {
    "duration": 41,
    "start_time": "2023-09-18T14:15:01.539Z"
   },
   {
    "duration": 284,
    "start_time": "2023-09-18T14:15:01.582Z"
   },
   {
    "duration": 14,
    "start_time": "2023-09-18T14:15:01.868Z"
   },
   {
    "duration": 433,
    "start_time": "2023-09-18T14:15:01.884Z"
   },
   {
    "duration": 52,
    "start_time": "2023-09-18T14:15:02.319Z"
   },
   {
    "duration": 187,
    "start_time": "2023-09-18T14:15:02.373Z"
   },
   {
    "duration": 129,
    "start_time": "2023-09-18T14:15:02.562Z"
   },
   {
    "duration": 188,
    "start_time": "2023-09-18T14:15:02.693Z"
   },
   {
    "duration": 15,
    "start_time": "2023-09-18T14:15:02.882Z"
   },
   {
    "duration": 117,
    "start_time": "2023-09-18T14:15:02.899Z"
   },
   {
    "duration": 16,
    "start_time": "2023-09-18T14:15:03.018Z"
   },
   {
    "duration": 142,
    "start_time": "2023-09-18T14:15:03.035Z"
   },
   {
    "duration": 15,
    "start_time": "2023-09-18T14:15:03.178Z"
   },
   {
    "duration": 113,
    "start_time": "2023-09-18T14:15:03.195Z"
   },
   {
    "duration": 15,
    "start_time": "2023-09-18T14:15:03.310Z"
   },
   {
    "duration": 113,
    "start_time": "2023-09-18T14:15:03.327Z"
   },
   {
    "duration": 21,
    "start_time": "2023-09-18T14:15:03.441Z"
   },
   {
    "duration": 105,
    "start_time": "2023-09-18T14:15:03.463Z"
   },
   {
    "duration": 15,
    "start_time": "2023-09-18T14:15:03.570Z"
   },
   {
    "duration": 215,
    "start_time": "2023-09-18T14:15:03.586Z"
   },
   {
    "duration": 6,
    "start_time": "2023-09-18T14:15:03.803Z"
   },
   {
    "duration": 30,
    "start_time": "2023-09-18T14:15:03.811Z"
   },
   {
    "duration": 337,
    "start_time": "2023-09-18T14:34:47.314Z"
   },
   {
    "duration": 0,
    "start_time": "2023-09-18T14:39:40.619Z"
   },
   {
    "duration": 727,
    "start_time": "2023-09-18T14:39:53.137Z"
   },
   {
    "duration": 4,
    "start_time": "2023-09-18T14:40:06.349Z"
   },
   {
    "duration": 91,
    "start_time": "2023-09-18T14:40:06.358Z"
   },
   {
    "duration": 16,
    "start_time": "2023-09-18T14:40:06.451Z"
   },
   {
    "duration": 25,
    "start_time": "2023-09-18T14:40:06.469Z"
   },
   {
    "duration": 8,
    "start_time": "2023-09-18T14:40:06.496Z"
   },
   {
    "duration": 26,
    "start_time": "2023-09-18T14:40:06.505Z"
   },
   {
    "duration": 20,
    "start_time": "2023-09-18T14:40:06.533Z"
   },
   {
    "duration": 8,
    "start_time": "2023-09-18T14:40:06.555Z"
   },
   {
    "duration": 31,
    "start_time": "2023-09-18T14:40:06.564Z"
   },
   {
    "duration": 21,
    "start_time": "2023-09-18T14:40:06.597Z"
   },
   {
    "duration": 18,
    "start_time": "2023-09-18T14:40:06.620Z"
   },
   {
    "duration": 17,
    "start_time": "2023-09-18T14:40:06.639Z"
   },
   {
    "duration": 32,
    "start_time": "2023-09-18T14:40:06.658Z"
   },
   {
    "duration": 16,
    "start_time": "2023-09-18T14:40:06.692Z"
   },
   {
    "duration": 23,
    "start_time": "2023-09-18T14:40:06.712Z"
   },
   {
    "duration": 713,
    "start_time": "2023-09-18T14:40:06.737Z"
   },
   {
    "duration": 274,
    "start_time": "2023-09-18T14:40:07.451Z"
   },
   {
    "duration": 7,
    "start_time": "2023-09-18T14:40:07.726Z"
   },
   {
    "duration": 216,
    "start_time": "2023-09-18T14:40:07.734Z"
   },
   {
    "duration": 6,
    "start_time": "2023-09-18T14:40:07.951Z"
   },
   {
    "duration": 253,
    "start_time": "2023-09-18T14:40:07.958Z"
   },
   {
    "duration": 5,
    "start_time": "2023-09-18T14:40:08.213Z"
   },
   {
    "duration": 27,
    "start_time": "2023-09-18T14:40:08.219Z"
   },
   {
    "duration": 126,
    "start_time": "2023-09-18T14:40:08.247Z"
   },
   {
    "duration": 3,
    "start_time": "2023-09-18T14:40:08.375Z"
   },
   {
    "duration": 146,
    "start_time": "2023-09-18T14:40:08.380Z"
   },
   {
    "duration": 5,
    "start_time": "2023-09-18T14:40:08.528Z"
   },
   {
    "duration": 137,
    "start_time": "2023-09-18T14:40:08.535Z"
   },
   {
    "duration": 4,
    "start_time": "2023-09-18T14:40:08.674Z"
   },
   {
    "duration": 51,
    "start_time": "2023-09-18T14:40:08.680Z"
   },
   {
    "duration": 5,
    "start_time": "2023-09-18T14:40:08.733Z"
   },
   {
    "duration": 54,
    "start_time": "2023-09-18T14:40:08.739Z"
   },
   {
    "duration": 17,
    "start_time": "2023-09-18T14:40:08.794Z"
   },
   {
    "duration": 216,
    "start_time": "2023-09-18T14:40:08.812Z"
   },
   {
    "duration": 25,
    "start_time": "2023-09-18T14:40:09.029Z"
   },
   {
    "duration": 118,
    "start_time": "2023-09-18T14:40:09.056Z"
   },
   {
    "duration": 15,
    "start_time": "2023-09-18T14:40:09.175Z"
   },
   {
    "duration": 119,
    "start_time": "2023-09-18T14:40:09.192Z"
   },
   {
    "duration": 14,
    "start_time": "2023-09-18T14:40:09.312Z"
   },
   {
    "duration": 116,
    "start_time": "2023-09-18T14:40:09.327Z"
   },
   {
    "duration": 18,
    "start_time": "2023-09-18T14:40:09.444Z"
   },
   {
    "duration": 117,
    "start_time": "2023-09-18T14:40:09.465Z"
   },
   {
    "duration": 15,
    "start_time": "2023-09-18T14:40:09.583Z"
   },
   {
    "duration": 130,
    "start_time": "2023-09-18T14:40:09.600Z"
   },
   {
    "duration": 20,
    "start_time": "2023-09-18T14:40:09.731Z"
   },
   {
    "duration": 107,
    "start_time": "2023-09-18T14:40:09.752Z"
   },
   {
    "duration": 18,
    "start_time": "2023-09-18T14:40:09.861Z"
   },
   {
    "duration": 120,
    "start_time": "2023-09-18T14:40:09.881Z"
   },
   {
    "duration": 16,
    "start_time": "2023-09-18T14:40:10.002Z"
   },
   {
    "duration": 138,
    "start_time": "2023-09-18T14:40:10.020Z"
   },
   {
    "duration": 15,
    "start_time": "2023-09-18T14:40:10.159Z"
   },
   {
    "duration": 161,
    "start_time": "2023-09-18T14:40:10.175Z"
   },
   {
    "duration": 12,
    "start_time": "2023-09-18T14:40:10.338Z"
   },
   {
    "duration": 45,
    "start_time": "2023-09-18T14:40:10.351Z"
   },
   {
    "duration": 271,
    "start_time": "2023-09-18T14:41:05.141Z"
   },
   {
    "duration": 254,
    "start_time": "2023-09-18T14:41:33.342Z"
   },
   {
    "duration": 205,
    "start_time": "2023-09-18T14:48:53.963Z"
   },
   {
    "duration": 244,
    "start_time": "2023-09-18T15:00:15.506Z"
   },
   {
    "duration": 158,
    "start_time": "2023-09-18T15:03:50.622Z"
   },
   {
    "duration": 1518,
    "start_time": "2023-09-18T20:55:10.543Z"
   },
   {
    "duration": 141,
    "start_time": "2023-09-18T20:55:12.064Z"
   },
   {
    "duration": 17,
    "start_time": "2023-09-18T20:55:12.207Z"
   },
   {
    "duration": 49,
    "start_time": "2023-09-18T20:55:12.226Z"
   },
   {
    "duration": 7,
    "start_time": "2023-09-18T20:55:12.279Z"
   },
   {
    "duration": 25,
    "start_time": "2023-09-18T20:55:12.287Z"
   },
   {
    "duration": 31,
    "start_time": "2023-09-18T20:55:12.314Z"
   },
   {
    "duration": 27,
    "start_time": "2023-09-18T20:55:12.349Z"
   },
   {
    "duration": 23,
    "start_time": "2023-09-18T20:55:12.378Z"
   },
   {
    "duration": 6,
    "start_time": "2023-09-18T20:55:12.403Z"
   },
   {
    "duration": 8,
    "start_time": "2023-09-18T20:55:12.411Z"
   },
   {
    "duration": 23,
    "start_time": "2023-09-18T20:55:12.420Z"
   },
   {
    "duration": 34,
    "start_time": "2023-09-18T20:55:12.448Z"
   },
   {
    "duration": 17,
    "start_time": "2023-09-18T20:55:12.486Z"
   },
   {
    "duration": 36,
    "start_time": "2023-09-18T20:55:12.505Z"
   },
   {
    "duration": 376,
    "start_time": "2023-09-18T20:55:12.543Z"
   },
   {
    "duration": 30,
    "start_time": "2023-09-18T20:55:12.920Z"
   },
   {
    "duration": 352,
    "start_time": "2023-09-18T20:55:12.954Z"
   },
   {
    "duration": 8,
    "start_time": "2023-09-18T20:55:13.308Z"
   },
   {
    "duration": 347,
    "start_time": "2023-09-18T20:55:13.318Z"
   },
   {
    "duration": 6,
    "start_time": "2023-09-18T20:55:13.667Z"
   },
   {
    "duration": 45,
    "start_time": "2023-09-18T20:55:13.674Z"
   },
   {
    "duration": 216,
    "start_time": "2023-09-18T20:55:13.721Z"
   },
   {
    "duration": 4,
    "start_time": "2023-09-18T20:55:13.939Z"
   },
   {
    "duration": 209,
    "start_time": "2023-09-18T20:55:13.947Z"
   },
   {
    "duration": 5,
    "start_time": "2023-09-18T20:55:14.159Z"
   },
   {
    "duration": 213,
    "start_time": "2023-09-18T20:55:14.166Z"
   },
   {
    "duration": 6,
    "start_time": "2023-09-18T20:55:14.381Z"
   },
   {
    "duration": 70,
    "start_time": "2023-09-18T20:55:14.389Z"
   },
   {
    "duration": 37,
    "start_time": "2023-09-18T20:55:14.461Z"
   },
   {
    "duration": 46,
    "start_time": "2023-09-18T20:55:14.500Z"
   },
   {
    "duration": 44,
    "start_time": "2023-09-18T20:55:14.548Z"
   },
   {
    "duration": 301,
    "start_time": "2023-09-18T20:55:14.594Z"
   },
   {
    "duration": 35,
    "start_time": "2023-09-18T20:55:14.897Z"
   },
   {
    "duration": 169,
    "start_time": "2023-09-18T20:55:14.940Z"
   },
   {
    "duration": 39,
    "start_time": "2023-09-18T20:55:15.110Z"
   },
   {
    "duration": 231,
    "start_time": "2023-09-18T20:55:15.156Z"
   },
   {
    "duration": 18,
    "start_time": "2023-09-18T20:55:15.389Z"
   },
   {
    "duration": 166,
    "start_time": "2023-09-18T20:55:15.408Z"
   },
   {
    "duration": 16,
    "start_time": "2023-09-18T20:55:15.575Z"
   },
   {
    "duration": 190,
    "start_time": "2023-09-18T20:55:15.594Z"
   },
   {
    "duration": 16,
    "start_time": "2023-09-18T20:55:15.786Z"
   },
   {
    "duration": 195,
    "start_time": "2023-09-18T20:55:15.803Z"
   },
   {
    "duration": 37,
    "start_time": "2023-09-18T20:55:16.000Z"
   },
   {
    "duration": 182,
    "start_time": "2023-09-18T20:55:16.038Z"
   },
   {
    "duration": 29,
    "start_time": "2023-09-18T20:55:16.224Z"
   },
   {
    "duration": 162,
    "start_time": "2023-09-18T20:55:16.255Z"
   },
   {
    "duration": 42,
    "start_time": "2023-09-18T20:55:16.419Z"
   },
   {
    "duration": 137,
    "start_time": "2023-09-18T20:55:16.463Z"
   },
   {
    "duration": 33,
    "start_time": "2023-09-18T20:55:16.602Z"
   },
   {
    "duration": 151,
    "start_time": "2023-09-18T20:55:16.642Z"
   },
   {
    "duration": 7,
    "start_time": "2023-09-18T20:55:16.795Z"
   },
   {
    "duration": 12,
    "start_time": "2023-09-18T20:55:16.803Z"
   },
   {
    "duration": 1239,
    "start_time": "2023-09-19T10:27:45.270Z"
   },
   {
    "duration": 204,
    "start_time": "2023-09-19T10:27:46.511Z"
   },
   {
    "duration": 14,
    "start_time": "2023-09-19T10:27:46.717Z"
   },
   {
    "duration": 14,
    "start_time": "2023-09-19T10:27:46.733Z"
   },
   {
    "duration": 2,
    "start_time": "2023-09-19T10:27:46.749Z"
   },
   {
    "duration": 21,
    "start_time": "2023-09-19T10:27:46.753Z"
   },
   {
    "duration": 12,
    "start_time": "2023-09-19T10:27:46.776Z"
   },
   {
    "duration": 4,
    "start_time": "2023-09-19T10:27:46.789Z"
   },
   {
    "duration": 167,
    "start_time": "2023-09-19T10:27:46.794Z"
   },
   {
    "duration": 9,
    "start_time": "2023-09-19T10:27:46.962Z"
   },
   {
    "duration": 23,
    "start_time": "2023-09-19T10:27:46.972Z"
   },
   {
    "duration": 11,
    "start_time": "2023-09-19T10:27:46.997Z"
   },
   {
    "duration": 12,
    "start_time": "2023-09-19T10:27:47.010Z"
   },
   {
    "duration": 11,
    "start_time": "2023-09-19T10:27:47.026Z"
   },
   {
    "duration": 11,
    "start_time": "2023-09-19T10:27:47.038Z"
   },
   {
    "duration": 5,
    "start_time": "2023-09-19T10:27:47.051Z"
   },
   {
    "duration": 14,
    "start_time": "2023-09-19T10:27:47.058Z"
   },
   {
    "duration": 11,
    "start_time": "2023-09-19T10:27:47.074Z"
   },
   {
    "duration": 275,
    "start_time": "2023-09-19T10:27:47.086Z"
   },
   {
    "duration": 7,
    "start_time": "2023-09-19T10:27:47.363Z"
   },
   {
    "duration": 239,
    "start_time": "2023-09-19T10:27:47.371Z"
   },
   {
    "duration": 6,
    "start_time": "2023-09-19T10:27:47.611Z"
   },
   {
    "duration": 245,
    "start_time": "2023-09-19T10:27:47.619Z"
   },
   {
    "duration": 5,
    "start_time": "2023-09-19T10:27:47.866Z"
   },
   {
    "duration": 50,
    "start_time": "2023-09-19T10:27:47.872Z"
   },
   {
    "duration": 137,
    "start_time": "2023-09-19T10:27:47.923Z"
   },
   {
    "duration": 3,
    "start_time": "2023-09-19T10:27:48.061Z"
   },
   {
    "duration": 126,
    "start_time": "2023-09-19T10:27:48.066Z"
   },
   {
    "duration": 10,
    "start_time": "2023-09-19T10:27:48.193Z"
   },
   {
    "duration": 127,
    "start_time": "2023-09-19T10:27:48.204Z"
   },
   {
    "duration": 13,
    "start_time": "2023-09-19T10:27:48.332Z"
   },
   {
    "duration": 48,
    "start_time": "2023-09-19T10:27:48.346Z"
   },
   {
    "duration": 4,
    "start_time": "2023-09-19T10:27:48.396Z"
   },
   {
    "duration": 35,
    "start_time": "2023-09-19T10:27:48.401Z"
   },
   {
    "duration": 21,
    "start_time": "2023-09-19T10:27:48.438Z"
   },
   {
    "duration": 281,
    "start_time": "2023-09-19T10:27:48.460Z"
   },
   {
    "duration": 15,
    "start_time": "2023-09-19T10:27:48.743Z"
   },
   {
    "duration": 118,
    "start_time": "2023-09-19T10:27:48.759Z"
   },
   {
    "duration": 16,
    "start_time": "2023-09-19T10:27:48.879Z"
   },
   {
    "duration": 135,
    "start_time": "2023-09-19T10:27:48.897Z"
   },
   {
    "duration": 17,
    "start_time": "2023-09-19T10:27:49.043Z"
   },
   {
    "duration": 127,
    "start_time": "2023-09-19T10:27:49.062Z"
   },
   {
    "duration": 14,
    "start_time": "2023-09-19T10:27:49.190Z"
   },
   {
    "duration": 114,
    "start_time": "2023-09-19T10:27:49.206Z"
   },
   {
    "duration": 24,
    "start_time": "2023-09-19T10:27:49.321Z"
   },
   {
    "duration": 116,
    "start_time": "2023-09-19T10:27:49.346Z"
   },
   {
    "duration": 15,
    "start_time": "2023-09-19T10:27:49.464Z"
   },
   {
    "duration": 119,
    "start_time": "2023-09-19T10:27:49.481Z"
   },
   {
    "duration": 14,
    "start_time": "2023-09-19T10:27:49.602Z"
   },
   {
    "duration": 115,
    "start_time": "2023-09-19T10:27:49.618Z"
   },
   {
    "duration": 20,
    "start_time": "2023-09-19T10:27:49.735Z"
   },
   {
    "duration": 119,
    "start_time": "2023-09-19T10:27:49.756Z"
   },
   {
    "duration": 15,
    "start_time": "2023-09-19T10:27:49.877Z"
   },
   {
    "duration": 122,
    "start_time": "2023-09-19T10:27:49.893Z"
   },
   {
    "duration": 6,
    "start_time": "2023-09-19T10:27:50.017Z"
   },
   {
    "duration": 20,
    "start_time": "2023-09-19T10:27:50.025Z"
   },
   {
    "duration": 322,
    "start_time": "2023-09-19T11:42:26.777Z"
   },
   {
    "duration": 39,
    "start_time": "2023-09-19T11:42:32.906Z"
   },
   {
    "duration": 1212,
    "start_time": "2023-09-19T11:42:38.611Z"
   },
   {
    "duration": 115,
    "start_time": "2023-09-19T11:42:39.824Z"
   },
   {
    "duration": 14,
    "start_time": "2023-09-19T11:42:39.941Z"
   },
   {
    "duration": 15,
    "start_time": "2023-09-19T11:42:39.956Z"
   },
   {
    "duration": 3,
    "start_time": "2023-09-19T11:42:39.973Z"
   },
   {
    "duration": 21,
    "start_time": "2023-09-19T11:42:39.978Z"
   },
   {
    "duration": 22,
    "start_time": "2023-09-19T11:42:40.001Z"
   },
   {
    "duration": 25,
    "start_time": "2023-09-19T11:42:40.024Z"
   },
   {
    "duration": 21,
    "start_time": "2023-09-19T11:42:40.051Z"
   },
   {
    "duration": 164,
    "start_time": "2023-09-19T11:42:40.075Z"
   },
   {
    "duration": 12,
    "start_time": "2023-09-19T11:42:40.241Z"
   },
   {
    "duration": 7,
    "start_time": "2023-09-19T11:42:40.255Z"
   },
   {
    "duration": 7,
    "start_time": "2023-09-19T11:42:40.263Z"
   },
   {
    "duration": 8,
    "start_time": "2023-09-19T11:42:40.272Z"
   },
   {
    "duration": 15,
    "start_time": "2023-09-19T11:42:40.281Z"
   },
   {
    "duration": 18,
    "start_time": "2023-09-19T11:42:40.297Z"
   },
   {
    "duration": 5,
    "start_time": "2023-09-19T11:42:40.316Z"
   },
   {
    "duration": 29,
    "start_time": "2023-09-19T11:42:40.323Z"
   },
   {
    "duration": 12,
    "start_time": "2023-09-19T11:42:40.354Z"
   },
   {
    "duration": 274,
    "start_time": "2023-09-19T11:42:40.368Z"
   },
   {
    "duration": 10,
    "start_time": "2023-09-19T11:42:40.644Z"
   },
   {
    "duration": 237,
    "start_time": "2023-09-19T11:42:40.656Z"
   },
   {
    "duration": 7,
    "start_time": "2023-09-19T11:42:40.894Z"
   },
   {
    "duration": 273,
    "start_time": "2023-09-19T11:42:40.902Z"
   },
   {
    "duration": 6,
    "start_time": "2023-09-19T11:42:41.176Z"
   },
   {
    "duration": 18,
    "start_time": "2023-09-19T11:42:41.184Z"
   },
   {
    "duration": 140,
    "start_time": "2023-09-19T11:42:41.204Z"
   },
   {
    "duration": 3,
    "start_time": "2023-09-19T11:42:41.349Z"
   },
   {
    "duration": 137,
    "start_time": "2023-09-19T11:42:41.354Z"
   },
   {
    "duration": 4,
    "start_time": "2023-09-19T11:42:41.493Z"
   },
   {
    "duration": 148,
    "start_time": "2023-09-19T11:42:41.498Z"
   },
   {
    "duration": 4,
    "start_time": "2023-09-19T11:42:41.649Z"
   },
   {
    "duration": 43,
    "start_time": "2023-09-19T11:42:41.655Z"
   },
   {
    "duration": 5,
    "start_time": "2023-09-19T11:42:41.699Z"
   },
   {
    "duration": 28,
    "start_time": "2023-09-19T11:42:41.705Z"
   },
   {
    "duration": 14,
    "start_time": "2023-09-19T11:42:41.735Z"
   },
   {
    "duration": 208,
    "start_time": "2023-09-19T11:42:41.751Z"
   },
   {
    "duration": 15,
    "start_time": "2023-09-19T11:42:41.960Z"
   },
   {
    "duration": 189,
    "start_time": "2023-09-19T11:42:41.976Z"
   },
   {
    "duration": 19,
    "start_time": "2023-09-19T11:42:42.166Z"
   },
   {
    "duration": 120,
    "start_time": "2023-09-19T11:42:42.187Z"
   },
   {
    "duration": 17,
    "start_time": "2023-09-19T11:42:42.309Z"
   },
   {
    "duration": 152,
    "start_time": "2023-09-19T11:42:42.327Z"
   },
   {
    "duration": 16,
    "start_time": "2023-09-19T11:42:42.481Z"
   },
   {
    "duration": 133,
    "start_time": "2023-09-19T11:42:42.498Z"
   },
   {
    "duration": 22,
    "start_time": "2023-09-19T11:42:42.632Z"
   },
   {
    "duration": 146,
    "start_time": "2023-09-19T11:42:42.656Z"
   },
   {
    "duration": 16,
    "start_time": "2023-09-19T11:42:42.804Z"
   },
   {
    "duration": 115,
    "start_time": "2023-09-19T11:42:42.821Z"
   },
   {
    "duration": 32,
    "start_time": "2023-09-19T11:42:42.938Z"
   },
   {
    "duration": 120,
    "start_time": "2023-09-19T11:42:42.971Z"
   },
   {
    "duration": 15,
    "start_time": "2023-09-19T11:42:43.093Z"
   },
   {
    "duration": 110,
    "start_time": "2023-09-19T11:42:43.109Z"
   },
   {
    "duration": 15,
    "start_time": "2023-09-19T11:42:43.220Z"
   },
   {
    "duration": 116,
    "start_time": "2023-09-19T11:42:43.236Z"
   },
   {
    "duration": 7,
    "start_time": "2023-09-19T11:42:43.353Z"
   },
   {
    "duration": 23,
    "start_time": "2023-09-19T11:42:43.361Z"
   },
   {
    "duration": 2214,
    "start_time": "2023-09-19T11:43:49.751Z"
   },
   {
    "duration": 13,
    "start_time": "2023-09-19T11:45:46.987Z"
   },
   {
    "duration": 11,
    "start_time": "2023-09-19T11:46:35.289Z"
   },
   {
    "duration": 12,
    "start_time": "2023-09-19T11:46:49.975Z"
   },
   {
    "duration": 10,
    "start_time": "2023-09-19T11:47:00.126Z"
   },
   {
    "duration": 12,
    "start_time": "2023-09-19T11:47:09.059Z"
   },
   {
    "duration": 3,
    "start_time": "2023-09-19T12:28:04.985Z"
   },
   {
    "duration": 86,
    "start_time": "2023-09-19T12:28:04.990Z"
   },
   {
    "duration": 12,
    "start_time": "2023-09-19T12:28:05.078Z"
   },
   {
    "duration": 27,
    "start_time": "2023-09-19T12:28:05.091Z"
   },
   {
    "duration": 8,
    "start_time": "2023-09-19T12:28:05.119Z"
   },
   {
    "duration": 52,
    "start_time": "2023-09-19T12:28:05.129Z"
   },
   {
    "duration": 59,
    "start_time": "2023-09-19T12:28:05.182Z"
   },
   {
    "duration": 28,
    "start_time": "2023-09-19T12:28:05.242Z"
   },
   {
    "duration": 24,
    "start_time": "2023-09-19T12:28:05.272Z"
   },
   {
    "duration": 29,
    "start_time": "2023-09-19T12:28:05.298Z"
   },
   {
    "duration": 177,
    "start_time": "2023-09-19T12:28:05.329Z"
   },
   {
    "duration": 9,
    "start_time": "2023-09-19T12:28:05.508Z"
   },
   {
    "duration": 26,
    "start_time": "2023-09-19T12:28:05.518Z"
   },
   {
    "duration": 38,
    "start_time": "2023-09-19T12:28:05.545Z"
   },
   {
    "duration": 29,
    "start_time": "2023-09-19T12:28:05.584Z"
   },
   {
    "duration": 48,
    "start_time": "2023-09-19T12:28:05.615Z"
   },
   {
    "duration": 53,
    "start_time": "2023-09-19T12:28:05.665Z"
   },
   {
    "duration": 64,
    "start_time": "2023-09-19T12:28:05.720Z"
   },
   {
    "duration": 35,
    "start_time": "2023-09-19T12:28:05.786Z"
   },
   {
    "duration": 58,
    "start_time": "2023-09-19T12:28:05.823Z"
   },
   {
    "duration": 409,
    "start_time": "2023-09-19T12:28:05.883Z"
   },
   {
    "duration": 10,
    "start_time": "2023-09-19T12:28:06.294Z"
   },
   {
    "duration": 25,
    "start_time": "2023-09-19T12:28:06.305Z"
   },
   {
    "duration": 0,
    "start_time": "2023-09-19T12:28:06.333Z"
   },
   {
    "duration": 0,
    "start_time": "2023-09-19T12:28:06.350Z"
   },
   {
    "duration": 0,
    "start_time": "2023-09-19T12:28:06.351Z"
   },
   {
    "duration": 0,
    "start_time": "2023-09-19T12:28:06.352Z"
   },
   {
    "duration": 0,
    "start_time": "2023-09-19T12:28:06.353Z"
   },
   {
    "duration": 0,
    "start_time": "2023-09-19T12:28:06.355Z"
   },
   {
    "duration": 0,
    "start_time": "2023-09-19T12:28:06.362Z"
   },
   {
    "duration": 0,
    "start_time": "2023-09-19T12:28:06.365Z"
   },
   {
    "duration": 0,
    "start_time": "2023-09-19T12:28:06.365Z"
   },
   {
    "duration": 0,
    "start_time": "2023-09-19T12:28:06.366Z"
   },
   {
    "duration": 0,
    "start_time": "2023-09-19T12:28:06.367Z"
   },
   {
    "duration": 0,
    "start_time": "2023-09-19T12:28:06.368Z"
   },
   {
    "duration": 0,
    "start_time": "2023-09-19T12:28:06.369Z"
   },
   {
    "duration": 0,
    "start_time": "2023-09-19T12:28:06.371Z"
   },
   {
    "duration": 0,
    "start_time": "2023-09-19T12:28:06.372Z"
   },
   {
    "duration": 0,
    "start_time": "2023-09-19T12:28:06.373Z"
   },
   {
    "duration": 0,
    "start_time": "2023-09-19T12:28:06.374Z"
   },
   {
    "duration": 0,
    "start_time": "2023-09-19T12:28:06.375Z"
   },
   {
    "duration": 0,
    "start_time": "2023-09-19T12:28:06.376Z"
   },
   {
    "duration": 0,
    "start_time": "2023-09-19T12:28:06.377Z"
   },
   {
    "duration": 0,
    "start_time": "2023-09-19T12:28:06.384Z"
   },
   {
    "duration": 0,
    "start_time": "2023-09-19T12:28:06.385Z"
   },
   {
    "duration": 0,
    "start_time": "2023-09-19T12:28:06.386Z"
   },
   {
    "duration": 0,
    "start_time": "2023-09-19T12:28:06.387Z"
   },
   {
    "duration": 0,
    "start_time": "2023-09-19T12:28:06.388Z"
   },
   {
    "duration": 0,
    "start_time": "2023-09-19T12:28:06.389Z"
   },
   {
    "duration": 0,
    "start_time": "2023-09-19T12:28:06.390Z"
   },
   {
    "duration": 0,
    "start_time": "2023-09-19T12:28:06.391Z"
   },
   {
    "duration": 0,
    "start_time": "2023-09-19T12:28:06.392Z"
   },
   {
    "duration": 0,
    "start_time": "2023-09-19T12:28:06.393Z"
   },
   {
    "duration": 0,
    "start_time": "2023-09-19T12:28:06.396Z"
   },
   {
    "duration": 0,
    "start_time": "2023-09-19T12:28:06.397Z"
   },
   {
    "duration": 0,
    "start_time": "2023-09-19T12:28:06.398Z"
   },
   {
    "duration": 0,
    "start_time": "2023-09-19T12:28:06.399Z"
   },
   {
    "duration": 0,
    "start_time": "2023-09-19T12:28:06.400Z"
   },
   {
    "duration": 16,
    "start_time": "2023-09-19T12:32:08.303Z"
   },
   {
    "duration": 15,
    "start_time": "2023-09-19T12:32:14.870Z"
   },
   {
    "duration": 3,
    "start_time": "2023-09-19T12:32:19.258Z"
   },
   {
    "duration": 75,
    "start_time": "2023-09-19T12:32:19.263Z"
   },
   {
    "duration": 17,
    "start_time": "2023-09-19T12:32:19.340Z"
   },
   {
    "duration": 21,
    "start_time": "2023-09-19T12:32:19.360Z"
   },
   {
    "duration": 5,
    "start_time": "2023-09-19T12:32:19.383Z"
   },
   {
    "duration": 30,
    "start_time": "2023-09-19T12:32:19.390Z"
   },
   {
    "duration": 63,
    "start_time": "2023-09-19T12:32:19.421Z"
   },
   {
    "duration": 24,
    "start_time": "2023-09-19T12:32:19.486Z"
   },
   {
    "duration": 13,
    "start_time": "2023-09-19T12:32:19.513Z"
   },
   {
    "duration": 33,
    "start_time": "2023-09-19T12:32:19.528Z"
   },
   {
    "duration": 4,
    "start_time": "2023-09-19T12:32:19.564Z"
   },
   {
    "duration": 192,
    "start_time": "2023-09-19T12:32:19.570Z"
   },
   {
    "duration": 25,
    "start_time": "2023-09-19T12:32:19.764Z"
   },
   {
    "duration": 25,
    "start_time": "2023-09-19T12:32:19.791Z"
   },
   {
    "duration": 61,
    "start_time": "2023-09-19T12:32:19.818Z"
   },
   {
    "duration": 89,
    "start_time": "2023-09-19T12:32:19.881Z"
   },
   {
    "duration": 13,
    "start_time": "2023-09-19T12:32:19.972Z"
   },
   {
    "duration": 27,
    "start_time": "2023-09-19T12:32:19.987Z"
   },
   {
    "duration": 41,
    "start_time": "2023-09-19T12:32:20.016Z"
   },
   {
    "duration": 35,
    "start_time": "2023-09-19T12:32:20.062Z"
   },
   {
    "duration": 20,
    "start_time": "2023-09-19T12:32:20.099Z"
   },
   {
    "duration": 364,
    "start_time": "2023-09-19T12:32:20.120Z"
   },
   {
    "duration": 10,
    "start_time": "2023-09-19T12:32:20.488Z"
   },
   {
    "duration": 45,
    "start_time": "2023-09-19T12:32:20.502Z"
   },
   {
    "duration": 0,
    "start_time": "2023-09-19T12:32:20.557Z"
   },
   {
    "duration": 0,
    "start_time": "2023-09-19T12:32:20.558Z"
   },
   {
    "duration": 0,
    "start_time": "2023-09-19T12:32:20.559Z"
   },
   {
    "duration": 0,
    "start_time": "2023-09-19T12:32:20.560Z"
   },
   {
    "duration": 0,
    "start_time": "2023-09-19T12:32:20.561Z"
   },
   {
    "duration": 0,
    "start_time": "2023-09-19T12:32:20.562Z"
   },
   {
    "duration": 0,
    "start_time": "2023-09-19T12:32:20.563Z"
   },
   {
    "duration": 0,
    "start_time": "2023-09-19T12:32:20.564Z"
   },
   {
    "duration": 0,
    "start_time": "2023-09-19T12:32:20.565Z"
   },
   {
    "duration": 0,
    "start_time": "2023-09-19T12:32:20.566Z"
   },
   {
    "duration": 0,
    "start_time": "2023-09-19T12:32:20.571Z"
   },
   {
    "duration": 0,
    "start_time": "2023-09-19T12:32:20.572Z"
   },
   {
    "duration": 0,
    "start_time": "2023-09-19T12:32:20.572Z"
   },
   {
    "duration": 0,
    "start_time": "2023-09-19T12:32:20.573Z"
   },
   {
    "duration": 0,
    "start_time": "2023-09-19T12:32:20.574Z"
   },
   {
    "duration": 0,
    "start_time": "2023-09-19T12:32:20.575Z"
   },
   {
    "duration": 0,
    "start_time": "2023-09-19T12:32:20.576Z"
   },
   {
    "duration": 0,
    "start_time": "2023-09-19T12:32:20.577Z"
   },
   {
    "duration": 0,
    "start_time": "2023-09-19T12:32:20.578Z"
   },
   {
    "duration": 0,
    "start_time": "2023-09-19T12:32:20.579Z"
   },
   {
    "duration": 0,
    "start_time": "2023-09-19T12:32:20.580Z"
   },
   {
    "duration": 0,
    "start_time": "2023-09-19T12:32:20.581Z"
   },
   {
    "duration": 0,
    "start_time": "2023-09-19T12:32:20.581Z"
   },
   {
    "duration": 0,
    "start_time": "2023-09-19T12:32:20.582Z"
   },
   {
    "duration": 0,
    "start_time": "2023-09-19T12:32:20.584Z"
   },
   {
    "duration": 0,
    "start_time": "2023-09-19T12:32:20.586Z"
   },
   {
    "duration": 0,
    "start_time": "2023-09-19T12:32:20.587Z"
   },
   {
    "duration": 0,
    "start_time": "2023-09-19T12:32:20.588Z"
   },
   {
    "duration": 0,
    "start_time": "2023-09-19T12:32:20.590Z"
   },
   {
    "duration": 0,
    "start_time": "2023-09-19T12:32:20.592Z"
   },
   {
    "duration": 0,
    "start_time": "2023-09-19T12:32:20.594Z"
   },
   {
    "duration": 0,
    "start_time": "2023-09-19T12:32:20.596Z"
   },
   {
    "duration": 0,
    "start_time": "2023-09-19T12:32:20.597Z"
   },
   {
    "duration": 0,
    "start_time": "2023-09-19T12:32:20.598Z"
   },
   {
    "duration": 0,
    "start_time": "2023-09-19T12:32:20.600Z"
   },
   {
    "duration": 3,
    "start_time": "2023-09-19T12:39:45.724Z"
   },
   {
    "duration": 73,
    "start_time": "2023-09-19T12:39:45.729Z"
   },
   {
    "duration": 14,
    "start_time": "2023-09-19T12:39:45.805Z"
   },
   {
    "duration": 31,
    "start_time": "2023-09-19T12:39:45.821Z"
   },
   {
    "duration": 4,
    "start_time": "2023-09-19T12:39:45.859Z"
   },
   {
    "duration": 21,
    "start_time": "2023-09-19T12:39:45.865Z"
   },
   {
    "duration": 37,
    "start_time": "2023-09-19T12:39:45.888Z"
   },
   {
    "duration": 17,
    "start_time": "2023-09-19T12:39:45.926Z"
   },
   {
    "duration": 16,
    "start_time": "2023-09-19T12:39:45.949Z"
   },
   {
    "duration": 10,
    "start_time": "2023-09-19T12:39:45.968Z"
   },
   {
    "duration": 15,
    "start_time": "2023-09-19T12:39:45.980Z"
   },
   {
    "duration": 180,
    "start_time": "2023-09-19T12:39:45.996Z"
   },
   {
    "duration": 9,
    "start_time": "2023-09-19T12:39:46.179Z"
   },
   {
    "duration": 8,
    "start_time": "2023-09-19T12:39:46.190Z"
   },
   {
    "duration": 12,
    "start_time": "2023-09-19T12:39:46.200Z"
   },
   {
    "duration": 21,
    "start_time": "2023-09-19T12:39:46.214Z"
   },
   {
    "duration": 35,
    "start_time": "2023-09-19T12:39:46.238Z"
   },
   {
    "duration": 29,
    "start_time": "2023-09-19T12:39:46.276Z"
   },
   {
    "duration": 7,
    "start_time": "2023-09-19T12:39:46.307Z"
   },
   {
    "duration": 26,
    "start_time": "2023-09-19T12:39:46.316Z"
   },
   {
    "duration": 23,
    "start_time": "2023-09-19T12:39:46.344Z"
   },
   {
    "duration": 342,
    "start_time": "2023-09-19T12:39:46.369Z"
   },
   {
    "duration": 8,
    "start_time": "2023-09-19T12:39:46.713Z"
   },
   {
    "duration": 41,
    "start_time": "2023-09-19T12:39:46.722Z"
   },
   {
    "duration": 0,
    "start_time": "2023-09-19T12:39:46.766Z"
   },
   {
    "duration": 0,
    "start_time": "2023-09-19T12:39:46.767Z"
   },
   {
    "duration": 0,
    "start_time": "2023-09-19T12:39:46.768Z"
   },
   {
    "duration": 0,
    "start_time": "2023-09-19T12:39:46.769Z"
   },
   {
    "duration": 0,
    "start_time": "2023-09-19T12:39:46.769Z"
   },
   {
    "duration": 0,
    "start_time": "2023-09-19T12:39:46.772Z"
   },
   {
    "duration": 0,
    "start_time": "2023-09-19T12:39:46.773Z"
   },
   {
    "duration": 0,
    "start_time": "2023-09-19T12:39:46.774Z"
   },
   {
    "duration": 0,
    "start_time": "2023-09-19T12:39:46.776Z"
   },
   {
    "duration": 0,
    "start_time": "2023-09-19T12:39:46.777Z"
   },
   {
    "duration": 0,
    "start_time": "2023-09-19T12:39:46.779Z"
   },
   {
    "duration": 0,
    "start_time": "2023-09-19T12:39:46.780Z"
   },
   {
    "duration": 0,
    "start_time": "2023-09-19T12:39:46.782Z"
   },
   {
    "duration": 0,
    "start_time": "2023-09-19T12:39:46.783Z"
   },
   {
    "duration": 0,
    "start_time": "2023-09-19T12:39:46.786Z"
   },
   {
    "duration": 0,
    "start_time": "2023-09-19T12:39:46.787Z"
   },
   {
    "duration": 0,
    "start_time": "2023-09-19T12:39:46.789Z"
   },
   {
    "duration": 0,
    "start_time": "2023-09-19T12:39:46.790Z"
   },
   {
    "duration": 0,
    "start_time": "2023-09-19T12:39:46.791Z"
   },
   {
    "duration": 0,
    "start_time": "2023-09-19T12:39:46.792Z"
   },
   {
    "duration": 0,
    "start_time": "2023-09-19T12:39:46.793Z"
   },
   {
    "duration": 0,
    "start_time": "2023-09-19T12:39:46.794Z"
   },
   {
    "duration": 0,
    "start_time": "2023-09-19T12:39:46.796Z"
   },
   {
    "duration": 0,
    "start_time": "2023-09-19T12:39:46.797Z"
   },
   {
    "duration": 0,
    "start_time": "2023-09-19T12:39:46.798Z"
   },
   {
    "duration": 0,
    "start_time": "2023-09-19T12:39:46.799Z"
   },
   {
    "duration": 0,
    "start_time": "2023-09-19T12:39:46.800Z"
   },
   {
    "duration": 0,
    "start_time": "2023-09-19T12:39:46.801Z"
   },
   {
    "duration": 0,
    "start_time": "2023-09-19T12:39:46.802Z"
   },
   {
    "duration": 0,
    "start_time": "2023-09-19T12:39:46.803Z"
   },
   {
    "duration": 0,
    "start_time": "2023-09-19T12:39:46.850Z"
   },
   {
    "duration": 0,
    "start_time": "2023-09-19T12:39:46.852Z"
   },
   {
    "duration": 0,
    "start_time": "2023-09-19T12:39:46.855Z"
   },
   {
    "duration": 0,
    "start_time": "2023-09-19T12:39:46.856Z"
   },
   {
    "duration": 0,
    "start_time": "2023-09-19T12:39:46.861Z"
   },
   {
    "duration": 216,
    "start_time": "2023-09-19T12:40:56.862Z"
   },
   {
    "duration": 3,
    "start_time": "2023-09-19T13:04:48.812Z"
   },
   {
    "duration": 79,
    "start_time": "2023-09-19T13:04:48.816Z"
   },
   {
    "duration": 12,
    "start_time": "2023-09-19T13:04:48.896Z"
   },
   {
    "duration": 48,
    "start_time": "2023-09-19T13:04:48.909Z"
   },
   {
    "duration": 37,
    "start_time": "2023-09-19T13:04:48.958Z"
   },
   {
    "duration": 31,
    "start_time": "2023-09-19T13:04:48.997Z"
   },
   {
    "duration": 38,
    "start_time": "2023-09-19T13:04:49.030Z"
   },
   {
    "duration": 17,
    "start_time": "2023-09-19T13:04:49.070Z"
   },
   {
    "duration": 21,
    "start_time": "2023-09-19T13:04:49.090Z"
   },
   {
    "duration": 35,
    "start_time": "2023-09-19T13:04:49.113Z"
   },
   {
    "duration": 4,
    "start_time": "2023-09-19T13:04:49.150Z"
   },
   {
    "duration": 155,
    "start_time": "2023-09-19T13:04:49.156Z"
   },
   {
    "duration": 9,
    "start_time": "2023-09-19T13:04:49.313Z"
   },
   {
    "duration": 17,
    "start_time": "2023-09-19T13:04:49.323Z"
   },
   {
    "duration": 27,
    "start_time": "2023-09-19T13:04:49.342Z"
   },
   {
    "duration": 35,
    "start_time": "2023-09-19T13:04:49.370Z"
   },
   {
    "duration": 22,
    "start_time": "2023-09-19T13:04:49.406Z"
   },
   {
    "duration": 31,
    "start_time": "2023-09-19T13:04:49.430Z"
   },
   {
    "duration": 9,
    "start_time": "2023-09-19T13:04:49.463Z"
   },
   {
    "duration": 37,
    "start_time": "2023-09-19T13:04:49.473Z"
   },
   {
    "duration": 14,
    "start_time": "2023-09-19T13:04:49.511Z"
   },
   {
    "duration": 261,
    "start_time": "2023-09-19T13:04:49.527Z"
   },
   {
    "duration": 7,
    "start_time": "2023-09-19T13:04:49.789Z"
   },
   {
    "duration": 288,
    "start_time": "2023-09-19T13:04:49.799Z"
   },
   {
    "duration": 7,
    "start_time": "2023-09-19T13:04:50.088Z"
   },
   {
    "duration": 258,
    "start_time": "2023-09-19T13:04:50.096Z"
   },
   {
    "duration": 5,
    "start_time": "2023-09-19T13:04:50.355Z"
   },
   {
    "duration": 47,
    "start_time": "2023-09-19T13:04:50.361Z"
   },
   {
    "duration": 0,
    "start_time": "2023-09-19T13:04:50.409Z"
   },
   {
    "duration": 0,
    "start_time": "2023-09-19T13:04:50.410Z"
   },
   {
    "duration": 0,
    "start_time": "2023-09-19T13:04:50.411Z"
   },
   {
    "duration": 0,
    "start_time": "2023-09-19T13:04:50.413Z"
   },
   {
    "duration": 0,
    "start_time": "2023-09-19T13:04:50.414Z"
   },
   {
    "duration": 0,
    "start_time": "2023-09-19T13:04:50.415Z"
   },
   {
    "duration": 0,
    "start_time": "2023-09-19T13:04:50.416Z"
   },
   {
    "duration": 0,
    "start_time": "2023-09-19T13:04:50.416Z"
   },
   {
    "duration": 0,
    "start_time": "2023-09-19T13:04:50.417Z"
   },
   {
    "duration": 0,
    "start_time": "2023-09-19T13:04:50.418Z"
   },
   {
    "duration": 0,
    "start_time": "2023-09-19T13:04:50.419Z"
   },
   {
    "duration": 0,
    "start_time": "2023-09-19T13:04:50.420Z"
   },
   {
    "duration": 0,
    "start_time": "2023-09-19T13:04:50.421Z"
   },
   {
    "duration": 0,
    "start_time": "2023-09-19T13:04:50.422Z"
   },
   {
    "duration": 0,
    "start_time": "2023-09-19T13:04:50.423Z"
   },
   {
    "duration": 0,
    "start_time": "2023-09-19T13:04:50.424Z"
   },
   {
    "duration": 0,
    "start_time": "2023-09-19T13:04:50.426Z"
   },
   {
    "duration": 0,
    "start_time": "2023-09-19T13:04:50.426Z"
   },
   {
    "duration": 0,
    "start_time": "2023-09-19T13:04:50.428Z"
   },
   {
    "duration": 0,
    "start_time": "2023-09-19T13:04:50.429Z"
   },
   {
    "duration": 0,
    "start_time": "2023-09-19T13:04:50.430Z"
   },
   {
    "duration": 0,
    "start_time": "2023-09-19T13:04:50.431Z"
   },
   {
    "duration": 0,
    "start_time": "2023-09-19T13:04:50.432Z"
   },
   {
    "duration": 0,
    "start_time": "2023-09-19T13:04:50.450Z"
   },
   {
    "duration": 0,
    "start_time": "2023-09-19T13:04:50.451Z"
   },
   {
    "duration": 0,
    "start_time": "2023-09-19T13:04:50.452Z"
   },
   {
    "duration": 0,
    "start_time": "2023-09-19T13:04:50.453Z"
   },
   {
    "duration": 0,
    "start_time": "2023-09-19T13:04:50.460Z"
   },
   {
    "duration": 0,
    "start_time": "2023-09-19T13:04:50.461Z"
   },
   {
    "duration": 0,
    "start_time": "2023-09-19T13:04:50.462Z"
   },
   {
    "duration": 0,
    "start_time": "2023-09-19T13:04:50.464Z"
   },
   {
    "duration": 12,
    "start_time": "2023-09-19T13:06:19.386Z"
   },
   {
    "duration": 17,
    "start_time": "2023-09-19T13:06:55.215Z"
   },
   {
    "duration": 10,
    "start_time": "2023-09-19T13:08:09.144Z"
   },
   {
    "duration": 10,
    "start_time": "2023-09-19T13:08:13.549Z"
   },
   {
    "duration": 3,
    "start_time": "2023-09-19T13:08:18.043Z"
   },
   {
    "duration": 68,
    "start_time": "2023-09-19T13:08:18.047Z"
   },
   {
    "duration": 13,
    "start_time": "2023-09-19T13:08:18.116Z"
   },
   {
    "duration": 14,
    "start_time": "2023-09-19T13:08:18.130Z"
   },
   {
    "duration": 5,
    "start_time": "2023-09-19T13:08:18.145Z"
   },
   {
    "duration": 28,
    "start_time": "2023-09-19T13:08:18.151Z"
   },
   {
    "duration": 29,
    "start_time": "2023-09-19T13:08:18.181Z"
   },
   {
    "duration": 16,
    "start_time": "2023-09-19T13:08:18.211Z"
   },
   {
    "duration": 20,
    "start_time": "2023-09-19T13:08:18.230Z"
   },
   {
    "duration": 9,
    "start_time": "2023-09-19T13:08:18.251Z"
   },
   {
    "duration": 9,
    "start_time": "2023-09-19T13:08:18.261Z"
   },
   {
    "duration": 155,
    "start_time": "2023-09-19T13:08:18.271Z"
   },
   {
    "duration": 9,
    "start_time": "2023-09-19T13:08:18.428Z"
   },
   {
    "duration": 11,
    "start_time": "2023-09-19T13:08:18.438Z"
   },
   {
    "duration": 29,
    "start_time": "2023-09-19T13:08:18.451Z"
   },
   {
    "duration": 9,
    "start_time": "2023-09-19T13:08:18.482Z"
   },
   {
    "duration": 6,
    "start_time": "2023-09-19T13:08:18.492Z"
   },
   {
    "duration": 29,
    "start_time": "2023-09-19T13:08:18.500Z"
   },
   {
    "duration": 6,
    "start_time": "2023-09-19T13:08:18.530Z"
   },
   {
    "duration": 18,
    "start_time": "2023-09-19T13:08:18.537Z"
   },
   {
    "duration": 12,
    "start_time": "2023-09-19T13:08:18.556Z"
   },
   {
    "duration": 257,
    "start_time": "2023-09-19T13:08:18.569Z"
   },
   {
    "duration": 7,
    "start_time": "2023-09-19T13:08:18.828Z"
   },
   {
    "duration": 203,
    "start_time": "2023-09-19T13:08:18.848Z"
   },
   {
    "duration": 6,
    "start_time": "2023-09-19T13:08:19.052Z"
   },
   {
    "duration": 273,
    "start_time": "2023-09-19T13:08:19.060Z"
   },
   {
    "duration": 6,
    "start_time": "2023-09-19T13:08:19.335Z"
   },
   {
    "duration": 10,
    "start_time": "2023-09-19T13:08:19.349Z"
   },
   {
    "duration": 0,
    "start_time": "2023-09-19T13:08:19.361Z"
   },
   {
    "duration": 0,
    "start_time": "2023-09-19T13:08:19.363Z"
   },
   {
    "duration": 0,
    "start_time": "2023-09-19T13:08:19.364Z"
   },
   {
    "duration": 0,
    "start_time": "2023-09-19T13:08:19.366Z"
   },
   {
    "duration": 0,
    "start_time": "2023-09-19T13:08:19.367Z"
   },
   {
    "duration": 0,
    "start_time": "2023-09-19T13:08:19.368Z"
   },
   {
    "duration": 0,
    "start_time": "2023-09-19T13:08:19.369Z"
   },
   {
    "duration": 0,
    "start_time": "2023-09-19T13:08:19.371Z"
   },
   {
    "duration": 0,
    "start_time": "2023-09-19T13:08:19.372Z"
   },
   {
    "duration": 1,
    "start_time": "2023-09-19T13:08:19.372Z"
   },
   {
    "duration": 0,
    "start_time": "2023-09-19T13:08:19.374Z"
   },
   {
    "duration": 0,
    "start_time": "2023-09-19T13:08:19.375Z"
   },
   {
    "duration": 0,
    "start_time": "2023-09-19T13:08:19.376Z"
   },
   {
    "duration": 0,
    "start_time": "2023-09-19T13:08:19.377Z"
   },
   {
    "duration": 0,
    "start_time": "2023-09-19T13:08:19.378Z"
   },
   {
    "duration": 0,
    "start_time": "2023-09-19T13:08:19.379Z"
   },
   {
    "duration": 0,
    "start_time": "2023-09-19T13:08:19.380Z"
   },
   {
    "duration": 0,
    "start_time": "2023-09-19T13:08:19.381Z"
   },
   {
    "duration": 0,
    "start_time": "2023-09-19T13:08:19.382Z"
   },
   {
    "duration": 0,
    "start_time": "2023-09-19T13:08:19.383Z"
   },
   {
    "duration": 0,
    "start_time": "2023-09-19T13:08:19.384Z"
   },
   {
    "duration": 0,
    "start_time": "2023-09-19T13:08:19.385Z"
   },
   {
    "duration": 0,
    "start_time": "2023-09-19T13:08:19.386Z"
   },
   {
    "duration": 0,
    "start_time": "2023-09-19T13:08:19.387Z"
   },
   {
    "duration": 0,
    "start_time": "2023-09-19T13:08:19.388Z"
   },
   {
    "duration": 0,
    "start_time": "2023-09-19T13:08:19.389Z"
   },
   {
    "duration": 0,
    "start_time": "2023-09-19T13:08:19.390Z"
   },
   {
    "duration": 0,
    "start_time": "2023-09-19T13:08:19.391Z"
   },
   {
    "duration": 0,
    "start_time": "2023-09-19T13:08:19.392Z"
   },
   {
    "duration": 0,
    "start_time": "2023-09-19T13:08:19.450Z"
   },
   {
    "duration": 0,
    "start_time": "2023-09-19T13:08:19.452Z"
   },
   {
    "duration": 11,
    "start_time": "2023-09-19T13:09:49.271Z"
   },
   {
    "duration": 29,
    "start_time": "2023-09-19T13:09:51.831Z"
   },
   {
    "duration": 12,
    "start_time": "2023-09-19T13:10:01.207Z"
   },
   {
    "duration": 3,
    "start_time": "2023-09-19T13:10:15.806Z"
   },
   {
    "duration": 85,
    "start_time": "2023-09-19T13:10:15.811Z"
   },
   {
    "duration": 13,
    "start_time": "2023-09-19T13:10:15.897Z"
   },
   {
    "duration": 39,
    "start_time": "2023-09-19T13:10:15.911Z"
   },
   {
    "duration": 17,
    "start_time": "2023-09-19T13:10:15.952Z"
   },
   {
    "duration": 41,
    "start_time": "2023-09-19T13:10:15.970Z"
   },
   {
    "duration": 41,
    "start_time": "2023-09-19T13:10:16.013Z"
   },
   {
    "duration": 20,
    "start_time": "2023-09-19T13:10:16.056Z"
   },
   {
    "duration": 28,
    "start_time": "2023-09-19T13:10:16.078Z"
   },
   {
    "duration": 14,
    "start_time": "2023-09-19T13:10:16.108Z"
   },
   {
    "duration": 19,
    "start_time": "2023-09-19T13:10:16.124Z"
   },
   {
    "duration": 21,
    "start_time": "2023-09-19T13:10:16.145Z"
   },
   {
    "duration": 12,
    "start_time": "2023-09-19T13:10:16.169Z"
   },
   {
    "duration": 176,
    "start_time": "2023-09-19T13:10:16.183Z"
   },
   {
    "duration": 10,
    "start_time": "2023-09-19T13:10:16.360Z"
   },
   {
    "duration": 10,
    "start_time": "2023-09-19T13:10:16.372Z"
   },
   {
    "duration": 9,
    "start_time": "2023-09-19T13:10:16.384Z"
   },
   {
    "duration": 6,
    "start_time": "2023-09-19T13:10:16.394Z"
   },
   {
    "duration": 6,
    "start_time": "2023-09-19T13:10:16.401Z"
   },
   {
    "duration": 10,
    "start_time": "2023-09-19T13:10:16.408Z"
   },
   {
    "duration": 8,
    "start_time": "2023-09-19T13:10:16.419Z"
   },
   {
    "duration": 33,
    "start_time": "2023-09-19T13:10:16.429Z"
   },
   {
    "duration": 33,
    "start_time": "2023-09-19T13:10:16.464Z"
   },
   {
    "duration": 245,
    "start_time": "2023-09-19T13:10:16.501Z"
   },
   {
    "duration": 7,
    "start_time": "2023-09-19T13:10:16.749Z"
   },
   {
    "duration": 214,
    "start_time": "2023-09-19T13:10:16.757Z"
   },
   {
    "duration": 7,
    "start_time": "2023-09-19T13:10:16.973Z"
   },
   {
    "duration": 335,
    "start_time": "2023-09-19T13:10:16.982Z"
   },
   {
    "duration": 5,
    "start_time": "2023-09-19T13:10:17.319Z"
   },
   {
    "duration": 24,
    "start_time": "2023-09-19T13:10:17.326Z"
   },
   {
    "duration": 0,
    "start_time": "2023-09-19T13:10:17.351Z"
   },
   {
    "duration": 0,
    "start_time": "2023-09-19T13:10:17.352Z"
   },
   {
    "duration": 0,
    "start_time": "2023-09-19T13:10:17.353Z"
   },
   {
    "duration": 0,
    "start_time": "2023-09-19T13:10:17.355Z"
   },
   {
    "duration": 0,
    "start_time": "2023-09-19T13:10:17.356Z"
   },
   {
    "duration": 0,
    "start_time": "2023-09-19T13:10:17.356Z"
   },
   {
    "duration": 0,
    "start_time": "2023-09-19T13:10:17.357Z"
   },
   {
    "duration": 0,
    "start_time": "2023-09-19T13:10:17.358Z"
   },
   {
    "duration": 0,
    "start_time": "2023-09-19T13:10:17.359Z"
   },
   {
    "duration": 0,
    "start_time": "2023-09-19T13:10:17.360Z"
   },
   {
    "duration": 0,
    "start_time": "2023-09-19T13:10:17.361Z"
   },
   {
    "duration": 0,
    "start_time": "2023-09-19T13:10:17.362Z"
   },
   {
    "duration": 0,
    "start_time": "2023-09-19T13:10:17.363Z"
   },
   {
    "duration": 0,
    "start_time": "2023-09-19T13:10:17.364Z"
   },
   {
    "duration": 0,
    "start_time": "2023-09-19T13:10:17.365Z"
   },
   {
    "duration": 0,
    "start_time": "2023-09-19T13:10:17.366Z"
   },
   {
    "duration": 0,
    "start_time": "2023-09-19T13:10:17.367Z"
   },
   {
    "duration": 0,
    "start_time": "2023-09-19T13:10:17.369Z"
   },
   {
    "duration": 0,
    "start_time": "2023-09-19T13:10:17.369Z"
   },
   {
    "duration": 0,
    "start_time": "2023-09-19T13:10:17.371Z"
   },
   {
    "duration": 0,
    "start_time": "2023-09-19T13:10:17.372Z"
   },
   {
    "duration": 0,
    "start_time": "2023-09-19T13:10:17.373Z"
   },
   {
    "duration": 0,
    "start_time": "2023-09-19T13:10:17.375Z"
   },
   {
    "duration": 0,
    "start_time": "2023-09-19T13:10:17.376Z"
   },
   {
    "duration": 0,
    "start_time": "2023-09-19T13:10:17.377Z"
   },
   {
    "duration": 0,
    "start_time": "2023-09-19T13:10:17.379Z"
   },
   {
    "duration": 0,
    "start_time": "2023-09-19T13:10:17.380Z"
   },
   {
    "duration": 0,
    "start_time": "2023-09-19T13:10:17.381Z"
   },
   {
    "duration": 0,
    "start_time": "2023-09-19T13:10:17.382Z"
   },
   {
    "duration": 0,
    "start_time": "2023-09-19T13:10:17.384Z"
   },
   {
    "duration": 0,
    "start_time": "2023-09-19T13:10:17.385Z"
   },
   {
    "duration": 6,
    "start_time": "2023-09-19T14:06:16.590Z"
   },
   {
    "duration": 19,
    "start_time": "2023-09-19T14:06:20.673Z"
   },
   {
    "duration": 285,
    "start_time": "2023-09-19T14:08:40.554Z"
   },
   {
    "duration": 8,
    "start_time": "2023-09-19T14:11:01.421Z"
   },
   {
    "duration": 258,
    "start_time": "2023-09-19T14:11:05.199Z"
   },
   {
    "duration": 7,
    "start_time": "2023-09-19T14:12:51.621Z"
   },
   {
    "duration": 22,
    "start_time": "2023-09-19T14:12:57.099Z"
   },
   {
    "duration": 8,
    "start_time": "2023-09-19T14:19:16.009Z"
   },
   {
    "duration": 3,
    "start_time": "2023-09-19T15:24:11.422Z"
   },
   {
    "duration": 117,
    "start_time": "2023-09-19T15:24:11.427Z"
   },
   {
    "duration": 22,
    "start_time": "2023-09-19T15:24:11.546Z"
   },
   {
    "duration": 75,
    "start_time": "2023-09-19T15:24:11.571Z"
   },
   {
    "duration": 78,
    "start_time": "2023-09-19T15:24:11.649Z"
   },
   {
    "duration": 42,
    "start_time": "2023-09-19T15:24:11.729Z"
   },
   {
    "duration": 47,
    "start_time": "2023-09-19T15:24:11.773Z"
   },
   {
    "duration": 33,
    "start_time": "2023-09-19T15:24:11.822Z"
   },
   {
    "duration": 16,
    "start_time": "2023-09-19T15:24:11.858Z"
   },
   {
    "duration": 10,
    "start_time": "2023-09-19T15:24:11.875Z"
   },
   {
    "duration": 20,
    "start_time": "2023-09-19T15:24:11.886Z"
   },
   {
    "duration": 12,
    "start_time": "2023-09-19T15:24:11.908Z"
   },
   {
    "duration": 38,
    "start_time": "2023-09-19T15:24:11.921Z"
   },
   {
    "duration": 5,
    "start_time": "2023-09-19T15:24:11.961Z"
   },
   {
    "duration": 178,
    "start_time": "2023-09-19T15:24:11.968Z"
   },
   {
    "duration": 16,
    "start_time": "2023-09-19T15:24:12.150Z"
   },
   {
    "duration": 8,
    "start_time": "2023-09-19T15:24:12.169Z"
   },
   {
    "duration": 11,
    "start_time": "2023-09-19T15:24:12.179Z"
   },
   {
    "duration": 15,
    "start_time": "2023-09-19T15:24:12.192Z"
   },
   {
    "duration": 8,
    "start_time": "2023-09-19T15:24:12.209Z"
   },
   {
    "duration": 15,
    "start_time": "2023-09-19T15:24:12.218Z"
   },
   {
    "duration": 23,
    "start_time": "2023-09-19T15:24:12.235Z"
   },
   {
    "duration": 29,
    "start_time": "2023-09-19T15:24:12.261Z"
   },
   {
    "duration": 22,
    "start_time": "2023-09-19T15:24:12.295Z"
   },
   {
    "duration": 322,
    "start_time": "2023-09-19T15:24:12.319Z"
   },
   {
    "duration": 13,
    "start_time": "2023-09-19T15:24:12.643Z"
   },
   {
    "duration": 323,
    "start_time": "2023-09-19T15:24:12.658Z"
   },
   {
    "duration": 7,
    "start_time": "2023-09-19T15:24:12.982Z"
   },
   {
    "duration": 319,
    "start_time": "2023-09-19T15:24:12.990Z"
   },
   {
    "duration": 6,
    "start_time": "2023-09-19T15:24:13.310Z"
   },
   {
    "duration": 52,
    "start_time": "2023-09-19T15:24:13.318Z"
   },
   {
    "duration": 167,
    "start_time": "2023-09-19T15:24:13.372Z"
   },
   {
    "duration": 10,
    "start_time": "2023-09-19T15:24:13.541Z"
   },
   {
    "duration": 138,
    "start_time": "2023-09-19T15:24:13.553Z"
   },
   {
    "duration": 4,
    "start_time": "2023-09-19T15:24:13.693Z"
   },
   {
    "duration": 138,
    "start_time": "2023-09-19T15:24:13.699Z"
   },
   {
    "duration": 14,
    "start_time": "2023-09-19T15:24:13.839Z"
   },
   {
    "duration": 46,
    "start_time": "2023-09-19T15:24:13.854Z"
   },
   {
    "duration": 6,
    "start_time": "2023-09-19T15:24:13.901Z"
   },
   {
    "duration": 20,
    "start_time": "2023-09-19T15:24:13.908Z"
   },
   {
    "duration": 9,
    "start_time": "2023-09-19T15:24:13.930Z"
   },
   {
    "duration": 728,
    "start_time": "2023-09-19T15:24:13.950Z"
   },
   {
    "duration": 23,
    "start_time": "2023-09-19T15:24:14.680Z"
   },
   {
    "duration": 418,
    "start_time": "2023-09-19T15:24:14.750Z"
   },
   {
    "duration": 22,
    "start_time": "2023-09-19T15:24:15.171Z"
   },
   {
    "duration": 370,
    "start_time": "2023-09-19T15:24:15.195Z"
   },
   {
    "duration": 25,
    "start_time": "2023-09-19T15:24:15.567Z"
   },
   {
    "duration": 359,
    "start_time": "2023-09-19T15:24:15.594Z"
   },
   {
    "duration": 27,
    "start_time": "2023-09-19T15:24:15.956Z"
   },
   {
    "duration": 384,
    "start_time": "2023-09-19T15:24:15.986Z"
   },
   {
    "duration": 21,
    "start_time": "2023-09-19T15:24:16.373Z"
   },
   {
    "duration": 143,
    "start_time": "2023-09-19T15:24:16.396Z"
   },
   {
    "duration": 26,
    "start_time": "2023-09-19T15:24:16.540Z"
   },
   {
    "duration": 144,
    "start_time": "2023-09-19T15:24:16.568Z"
   },
   {
    "duration": 17,
    "start_time": "2023-09-19T15:24:16.714Z"
   },
   {
    "duration": 140,
    "start_time": "2023-09-19T15:24:16.732Z"
   },
   {
    "duration": 17,
    "start_time": "2023-09-19T15:24:16.874Z"
   },
   {
    "duration": 131,
    "start_time": "2023-09-19T15:24:16.892Z"
   },
   {
    "duration": 30,
    "start_time": "2023-09-19T15:24:17.025Z"
   },
   {
    "duration": 138,
    "start_time": "2023-09-19T15:24:17.057Z"
   },
   {
    "duration": 7,
    "start_time": "2023-09-19T15:24:17.197Z"
   },
   {
    "duration": 15,
    "start_time": "2023-09-19T15:24:17.206Z"
   },
   {
    "duration": 22,
    "start_time": "2023-09-19T15:25:15.736Z"
   },
   {
    "duration": 3,
    "start_time": "2023-09-19T15:25:34.122Z"
   },
   {
    "duration": 74,
    "start_time": "2023-09-19T15:25:34.128Z"
   },
   {
    "duration": 14,
    "start_time": "2023-09-19T15:25:34.204Z"
   },
   {
    "duration": 37,
    "start_time": "2023-09-19T15:25:34.219Z"
   },
   {
    "duration": 3,
    "start_time": "2023-09-19T15:25:34.257Z"
   },
   {
    "duration": 25,
    "start_time": "2023-09-19T15:25:34.262Z"
   },
   {
    "duration": 79,
    "start_time": "2023-09-19T15:25:34.290Z"
   },
   {
    "duration": 21,
    "start_time": "2023-09-19T15:25:34.371Z"
   },
   {
    "duration": 10,
    "start_time": "2023-09-19T15:25:34.394Z"
   },
   {
    "duration": 21,
    "start_time": "2023-09-19T15:25:34.406Z"
   },
   {
    "duration": 15,
    "start_time": "2023-09-19T15:25:34.449Z"
   },
   {
    "duration": 14,
    "start_time": "2023-09-19T15:25:34.466Z"
   },
   {
    "duration": 11,
    "start_time": "2023-09-19T15:25:34.483Z"
   },
   {
    "duration": 6,
    "start_time": "2023-09-19T15:25:34.496Z"
   },
   {
    "duration": 195,
    "start_time": "2023-09-19T15:25:34.505Z"
   },
   {
    "duration": 11,
    "start_time": "2023-09-19T15:25:34.701Z"
   },
   {
    "duration": 6,
    "start_time": "2023-09-19T15:25:34.714Z"
   },
   {
    "duration": 27,
    "start_time": "2023-09-19T15:25:34.722Z"
   },
   {
    "duration": 5,
    "start_time": "2023-09-19T15:25:34.752Z"
   },
   {
    "duration": 8,
    "start_time": "2023-09-19T15:25:34.759Z"
   },
   {
    "duration": 14,
    "start_time": "2023-09-19T15:25:34.770Z"
   },
   {
    "duration": 20,
    "start_time": "2023-09-19T15:25:34.785Z"
   },
   {
    "duration": 16,
    "start_time": "2023-09-19T15:25:34.807Z"
   },
   {
    "duration": 111,
    "start_time": "2023-09-19T15:25:34.865Z"
   },
   {
    "duration": 348,
    "start_time": "2023-09-19T15:25:34.978Z"
   },
   {
    "duration": 8,
    "start_time": "2023-09-19T15:25:35.328Z"
   },
   {
    "duration": 297,
    "start_time": "2023-09-19T15:25:35.338Z"
   },
   {
    "duration": 13,
    "start_time": "2023-09-19T15:25:35.636Z"
   },
   {
    "duration": 322,
    "start_time": "2023-09-19T15:25:35.651Z"
   },
   {
    "duration": 10,
    "start_time": "2023-09-19T15:25:35.975Z"
   },
   {
    "duration": 50,
    "start_time": "2023-09-19T15:25:35.988Z"
   },
   {
    "duration": 243,
    "start_time": "2023-09-19T15:25:36.040Z"
   },
   {
    "duration": 3,
    "start_time": "2023-09-19T15:25:36.286Z"
   },
   {
    "duration": 391,
    "start_time": "2023-09-19T15:25:36.292Z"
   },
   {
    "duration": 5,
    "start_time": "2023-09-19T15:25:36.685Z"
   },
   {
    "duration": 360,
    "start_time": "2023-09-19T15:25:36.692Z"
   },
   {
    "duration": 5,
    "start_time": "2023-09-19T15:25:37.054Z"
   },
   {
    "duration": 110,
    "start_time": "2023-09-19T15:25:37.060Z"
   },
   {
    "duration": 4,
    "start_time": "2023-09-19T15:25:37.172Z"
   },
   {
    "duration": 75,
    "start_time": "2023-09-19T15:25:37.178Z"
   },
   {
    "duration": 23,
    "start_time": "2023-09-19T15:25:37.255Z"
   },
   {
    "duration": 500,
    "start_time": "2023-09-19T15:25:37.280Z"
   },
   {
    "duration": 76,
    "start_time": "2023-09-19T15:25:37.781Z"
   },
   {
    "duration": 332,
    "start_time": "2023-09-19T15:25:37.859Z"
   },
   {
    "duration": 79,
    "start_time": "2023-09-19T15:25:38.193Z"
   },
   {
    "duration": 295,
    "start_time": "2023-09-19T15:25:38.275Z"
   },
   {
    "duration": 22,
    "start_time": "2023-09-19T15:25:38.573Z"
   },
   {
    "duration": 209,
    "start_time": "2023-09-19T15:25:38.596Z"
   },
   {
    "duration": 16,
    "start_time": "2023-09-19T15:25:38.806Z"
   },
   {
    "duration": 267,
    "start_time": "2023-09-19T15:25:38.824Z"
   },
   {
    "duration": 23,
    "start_time": "2023-09-19T15:25:39.093Z"
   },
   {
    "duration": 163,
    "start_time": "2023-09-19T15:25:39.118Z"
   },
   {
    "duration": 16,
    "start_time": "2023-09-19T15:25:39.282Z"
   },
   {
    "duration": 150,
    "start_time": "2023-09-19T15:25:39.299Z"
   },
   {
    "duration": 23,
    "start_time": "2023-09-19T15:25:39.452Z"
   },
   {
    "duration": 129,
    "start_time": "2023-09-19T15:25:39.477Z"
   },
   {
    "duration": 16,
    "start_time": "2023-09-19T15:25:39.608Z"
   },
   {
    "duration": 152,
    "start_time": "2023-09-19T15:25:39.626Z"
   },
   {
    "duration": 16,
    "start_time": "2023-09-19T15:25:39.780Z"
   },
   {
    "duration": 142,
    "start_time": "2023-09-19T15:25:39.798Z"
   },
   {
    "duration": 13,
    "start_time": "2023-09-19T15:25:39.942Z"
   },
   {
    "duration": 13,
    "start_time": "2023-09-19T15:25:39.958Z"
   },
   {
    "duration": 18,
    "start_time": "2023-09-19T15:25:51.183Z"
   },
   {
    "duration": 11,
    "start_time": "2023-09-19T15:26:18.330Z"
   },
   {
    "duration": 17,
    "start_time": "2023-09-19T15:26:21.156Z"
   },
   {
    "duration": 6,
    "start_time": "2023-09-19T15:26:25.997Z"
   },
   {
    "duration": 126,
    "start_time": "2023-09-19T15:26:26.005Z"
   },
   {
    "duration": 41,
    "start_time": "2023-09-19T15:26:26.133Z"
   },
   {
    "duration": 67,
    "start_time": "2023-09-19T15:26:26.176Z"
   },
   {
    "duration": 5,
    "start_time": "2023-09-19T15:26:26.245Z"
   },
   {
    "duration": 33,
    "start_time": "2023-09-19T15:26:26.252Z"
   },
   {
    "duration": 35,
    "start_time": "2023-09-19T15:26:26.287Z"
   },
   {
    "duration": 39,
    "start_time": "2023-09-19T15:26:26.325Z"
   },
   {
    "duration": 20,
    "start_time": "2023-09-19T15:26:26.368Z"
   },
   {
    "duration": 17,
    "start_time": "2023-09-19T15:26:26.390Z"
   },
   {
    "duration": 14,
    "start_time": "2023-09-19T15:26:26.410Z"
   },
   {
    "duration": 12,
    "start_time": "2023-09-19T15:26:26.451Z"
   },
   {
    "duration": 19,
    "start_time": "2023-09-19T15:26:26.466Z"
   },
   {
    "duration": 166,
    "start_time": "2023-09-19T15:26:26.486Z"
   },
   {
    "duration": 10,
    "start_time": "2023-09-19T15:26:26.653Z"
   },
   {
    "duration": 6,
    "start_time": "2023-09-19T15:26:26.665Z"
   },
   {
    "duration": 25,
    "start_time": "2023-09-19T15:26:26.673Z"
   },
   {
    "duration": 4,
    "start_time": "2023-09-19T15:26:26.700Z"
   },
   {
    "duration": 7,
    "start_time": "2023-09-19T15:26:26.706Z"
   },
   {
    "duration": 36,
    "start_time": "2023-09-19T15:26:26.715Z"
   },
   {
    "duration": 8,
    "start_time": "2023-09-19T15:26:26.753Z"
   },
   {
    "duration": 24,
    "start_time": "2023-09-19T15:26:26.762Z"
   },
   {
    "duration": 15,
    "start_time": "2023-09-19T15:26:26.788Z"
   },
   {
    "duration": 319,
    "start_time": "2023-09-19T15:26:26.806Z"
   },
   {
    "duration": 9,
    "start_time": "2023-09-19T15:26:27.127Z"
   },
   {
    "duration": 311,
    "start_time": "2023-09-19T15:26:27.138Z"
   },
   {
    "duration": 11,
    "start_time": "2023-09-19T15:26:27.452Z"
   },
   {
    "duration": 337,
    "start_time": "2023-09-19T15:26:27.465Z"
   },
   {
    "duration": 7,
    "start_time": "2023-09-19T15:26:27.804Z"
   },
   {
    "duration": 30,
    "start_time": "2023-09-19T15:26:27.813Z"
   },
   {
    "duration": 258,
    "start_time": "2023-09-19T15:26:27.845Z"
   },
   {
    "duration": 4,
    "start_time": "2023-09-19T15:26:28.105Z"
   },
   {
    "duration": 158,
    "start_time": "2023-09-19T15:26:28.110Z"
   },
   {
    "duration": 4,
    "start_time": "2023-09-19T15:26:28.270Z"
   },
   {
    "duration": 144,
    "start_time": "2023-09-19T15:26:28.275Z"
   },
   {
    "duration": 4,
    "start_time": "2023-09-19T15:26:28.420Z"
   },
   {
    "duration": 56,
    "start_time": "2023-09-19T15:26:28.425Z"
   },
   {
    "duration": 5,
    "start_time": "2023-09-19T15:26:28.483Z"
   },
   {
    "duration": 7,
    "start_time": "2023-09-19T15:26:28.490Z"
   },
   {
    "duration": 13,
    "start_time": "2023-09-19T15:26:28.499Z"
   },
   {
    "duration": 220,
    "start_time": "2023-09-19T15:26:28.514Z"
   },
   {
    "duration": 28,
    "start_time": "2023-09-19T15:26:28.735Z"
   },
   {
    "duration": 141,
    "start_time": "2023-09-19T15:26:28.765Z"
   },
   {
    "duration": 16,
    "start_time": "2023-09-19T15:26:28.908Z"
   },
   {
    "duration": 263,
    "start_time": "2023-09-19T15:26:28.926Z"
   },
   {
    "duration": 63,
    "start_time": "2023-09-19T15:26:29.191Z"
   },
   {
    "duration": 240,
    "start_time": "2023-09-19T15:26:29.256Z"
   },
   {
    "duration": 79,
    "start_time": "2023-09-19T15:26:29.498Z"
   },
   {
    "duration": 398,
    "start_time": "2023-09-19T15:26:29.579Z"
   },
   {
    "duration": 72,
    "start_time": "2023-09-19T15:26:29.979Z"
   },
   {
    "duration": 299,
    "start_time": "2023-09-19T15:26:30.054Z"
   },
   {
    "duration": 26,
    "start_time": "2023-09-19T15:26:30.356Z"
   },
   {
    "duration": 384,
    "start_time": "2023-09-19T15:26:30.384Z"
   },
   {
    "duration": 27,
    "start_time": "2023-09-19T15:26:30.770Z"
   },
   {
    "duration": 403,
    "start_time": "2023-09-19T15:26:30.853Z"
   },
   {
    "duration": 38,
    "start_time": "2023-09-19T15:26:31.258Z"
   },
   {
    "duration": 309,
    "start_time": "2023-09-19T15:26:31.298Z"
   },
   {
    "duration": 23,
    "start_time": "2023-09-19T15:26:31.609Z"
   },
   {
    "duration": 141,
    "start_time": "2023-09-19T15:26:31.634Z"
   },
   {
    "duration": 7,
    "start_time": "2023-09-19T15:26:31.777Z"
   },
   {
    "duration": 27,
    "start_time": "2023-09-19T15:26:31.786Z"
   },
   {
    "duration": 15,
    "start_time": "2023-09-19T15:30:29.380Z"
   },
   {
    "duration": 1604,
    "start_time": "2023-09-19T15:30:55.034Z"
   },
   {
    "duration": 3,
    "start_time": "2023-09-19T15:31:46.963Z"
   },
   {
    "duration": 95,
    "start_time": "2023-09-19T15:31:46.969Z"
   },
   {
    "duration": 15,
    "start_time": "2023-09-19T15:31:47.066Z"
   },
   {
    "duration": 18,
    "start_time": "2023-09-19T15:31:47.083Z"
   },
   {
    "duration": 17,
    "start_time": "2023-09-19T15:31:47.104Z"
   },
   {
    "duration": 37,
    "start_time": "2023-09-19T15:31:47.122Z"
   },
   {
    "duration": 33,
    "start_time": "2023-09-19T15:31:47.161Z"
   },
   {
    "duration": 29,
    "start_time": "2023-09-19T15:31:47.196Z"
   },
   {
    "duration": 18,
    "start_time": "2023-09-19T15:31:47.227Z"
   },
   {
    "duration": 25,
    "start_time": "2023-09-19T15:31:47.246Z"
   },
   {
    "duration": 16,
    "start_time": "2023-09-19T15:31:47.274Z"
   },
   {
    "duration": 6,
    "start_time": "2023-09-19T15:31:47.292Z"
   },
   {
    "duration": 200,
    "start_time": "2023-09-19T15:31:47.300Z"
   },
   {
    "duration": 12,
    "start_time": "2023-09-19T15:31:47.502Z"
   },
   {
    "duration": 7,
    "start_time": "2023-09-19T15:31:47.516Z"
   },
   {
    "duration": 20,
    "start_time": "2023-09-19T15:31:47.524Z"
   },
   {
    "duration": 23,
    "start_time": "2023-09-19T15:31:47.546Z"
   },
   {
    "duration": 18,
    "start_time": "2023-09-19T15:31:47.573Z"
   },
   {
    "duration": 40,
    "start_time": "2023-09-19T15:31:47.593Z"
   },
   {
    "duration": 8,
    "start_time": "2023-09-19T15:31:47.634Z"
   },
   {
    "duration": 25,
    "start_time": "2023-09-19T15:31:47.644Z"
   },
   {
    "duration": 20,
    "start_time": "2023-09-19T15:31:47.671Z"
   },
   {
    "duration": 411,
    "start_time": "2023-09-19T15:31:47.693Z"
   },
   {
    "duration": 8,
    "start_time": "2023-09-19T15:31:48.105Z"
   },
   {
    "duration": 305,
    "start_time": "2023-09-19T15:31:48.115Z"
   },
   {
    "duration": 10,
    "start_time": "2023-09-19T15:31:48.421Z"
   },
   {
    "duration": 476,
    "start_time": "2023-09-19T15:31:48.434Z"
   },
   {
    "duration": 6,
    "start_time": "2023-09-19T15:31:48.912Z"
   },
   {
    "duration": 93,
    "start_time": "2023-09-19T15:31:48.921Z"
   },
   {
    "duration": 256,
    "start_time": "2023-09-19T15:31:49.016Z"
   },
   {
    "duration": 5,
    "start_time": "2023-09-19T15:31:49.274Z"
   },
   {
    "duration": 191,
    "start_time": "2023-09-19T15:31:49.281Z"
   },
   {
    "duration": 6,
    "start_time": "2023-09-19T15:31:49.473Z"
   },
   {
    "duration": 165,
    "start_time": "2023-09-19T15:31:49.480Z"
   },
   {
    "duration": 4,
    "start_time": "2023-09-19T15:31:49.647Z"
   },
   {
    "duration": 43,
    "start_time": "2023-09-19T15:31:49.653Z"
   },
   {
    "duration": 4,
    "start_time": "2023-09-19T15:31:49.698Z"
   },
   {
    "duration": 22,
    "start_time": "2023-09-19T15:31:49.704Z"
   },
   {
    "duration": 35,
    "start_time": "2023-09-19T15:31:49.728Z"
   },
   {
    "duration": 219,
    "start_time": "2023-09-19T15:31:49.765Z"
   },
   {
    "duration": 19,
    "start_time": "2023-09-19T15:31:49.985Z"
   },
   {
    "duration": 240,
    "start_time": "2023-09-19T15:31:50.006Z"
   },
   {
    "duration": 15,
    "start_time": "2023-09-19T15:31:50.249Z"
   },
   {
    "duration": 129,
    "start_time": "2023-09-19T15:31:50.266Z"
   },
   {
    "duration": 17,
    "start_time": "2023-09-19T15:31:50.396Z"
   },
   {
    "duration": 129,
    "start_time": "2023-09-19T15:31:50.415Z"
   },
   {
    "duration": 17,
    "start_time": "2023-09-19T15:31:50.550Z"
   },
   {
    "duration": 154,
    "start_time": "2023-09-19T15:31:50.569Z"
   },
   {
    "duration": 28,
    "start_time": "2023-09-19T15:31:50.725Z"
   },
   {
    "duration": 186,
    "start_time": "2023-09-19T15:31:50.755Z"
   },
   {
    "duration": 22,
    "start_time": "2023-09-19T15:31:50.949Z"
   },
   {
    "duration": 191,
    "start_time": "2023-09-19T15:31:50.973Z"
   },
   {
    "duration": 18,
    "start_time": "2023-09-19T15:31:51.166Z"
   },
   {
    "duration": 130,
    "start_time": "2023-09-19T15:31:51.185Z"
   },
   {
    "duration": 18,
    "start_time": "2023-09-19T15:31:51.317Z"
   },
   {
    "duration": 122,
    "start_time": "2023-09-19T15:31:51.350Z"
   },
   {
    "duration": 31,
    "start_time": "2023-09-19T15:31:51.474Z"
   },
   {
    "duration": 150,
    "start_time": "2023-09-19T15:31:51.508Z"
   },
   {
    "duration": 9,
    "start_time": "2023-09-19T15:31:51.661Z"
   },
   {
    "duration": 10,
    "start_time": "2023-09-19T15:31:51.672Z"
   },
   {
    "duration": 224,
    "start_time": "2023-09-19T15:34:24.620Z"
   },
   {
    "duration": 134,
    "start_time": "2023-09-19T15:34:33.498Z"
   },
   {
    "duration": 220,
    "start_time": "2023-09-19T15:34:43.705Z"
   },
   {
    "duration": 244,
    "start_time": "2023-09-19T15:34:57.703Z"
   },
   {
    "duration": 151,
    "start_time": "2023-09-19T15:35:36.476Z"
   },
   {
    "duration": 174,
    "start_time": "2023-09-19T15:35:47.903Z"
   },
   {
    "duration": 4,
    "start_time": "2023-09-19T15:37:01.782Z"
   },
   {
    "duration": 142,
    "start_time": "2023-09-19T15:37:04.372Z"
   },
   {
    "duration": 5,
    "start_time": "2023-09-19T15:37:40.331Z"
   },
   {
    "duration": 154,
    "start_time": "2023-09-19T15:38:26.445Z"
   },
   {
    "duration": 6,
    "start_time": "2023-09-19T15:38:30.934Z"
   },
   {
    "duration": 5,
    "start_time": "2023-09-19T15:38:57.462Z"
   },
   {
    "duration": 6,
    "start_time": "2023-09-19T15:38:59.343Z"
   },
   {
    "duration": 8,
    "start_time": "2023-09-19T15:39:00.922Z"
   },
   {
    "duration": 9,
    "start_time": "2023-09-19T15:40:27.280Z"
   },
   {
    "duration": 127,
    "start_time": "2023-09-19T15:40:33.840Z"
   },
   {
    "duration": 145,
    "start_time": "2023-09-19T15:41:47.240Z"
   },
   {
    "duration": 225,
    "start_time": "2023-09-19T15:46:33.043Z"
   },
   {
    "duration": 245,
    "start_time": "2023-09-19T15:50:34.845Z"
   },
   {
    "duration": 350,
    "start_time": "2023-09-19T15:50:46.823Z"
   },
   {
    "duration": 264,
    "start_time": "2023-09-19T15:50:57.117Z"
   },
   {
    "duration": 308,
    "start_time": "2023-09-19T15:52:32.268Z"
   },
   {
    "duration": 249,
    "start_time": "2023-09-19T15:52:52.650Z"
   },
   {
    "duration": 1231,
    "start_time": "2023-09-19T20:16:49.057Z"
   },
   {
    "duration": 209,
    "start_time": "2023-09-19T20:16:50.290Z"
   },
   {
    "duration": 12,
    "start_time": "2023-09-19T20:16:50.501Z"
   },
   {
    "duration": 13,
    "start_time": "2023-09-19T20:16:50.515Z"
   },
   {
    "duration": 8,
    "start_time": "2023-09-19T20:16:50.530Z"
   },
   {
    "duration": 21,
    "start_time": "2023-09-19T20:16:50.539Z"
   },
   {
    "duration": 21,
    "start_time": "2023-09-19T20:16:50.562Z"
   },
   {
    "duration": 10,
    "start_time": "2023-09-19T20:16:50.585Z"
   },
   {
    "duration": 8,
    "start_time": "2023-09-19T20:16:50.597Z"
   },
   {
    "duration": 15,
    "start_time": "2023-09-19T20:16:50.608Z"
   },
   {
    "duration": 31,
    "start_time": "2023-09-19T20:16:50.625Z"
   },
   {
    "duration": 4,
    "start_time": "2023-09-19T20:16:50.658Z"
   },
   {
    "duration": 174,
    "start_time": "2023-09-19T20:16:50.663Z"
   },
   {
    "duration": 14,
    "start_time": "2023-09-19T20:16:50.838Z"
   },
   {
    "duration": 7,
    "start_time": "2023-09-19T20:16:50.854Z"
   },
   {
    "duration": 10,
    "start_time": "2023-09-19T20:16:50.862Z"
   },
   {
    "duration": 5,
    "start_time": "2023-09-19T20:16:50.874Z"
   },
   {
    "duration": 13,
    "start_time": "2023-09-19T20:16:50.880Z"
   },
   {
    "duration": 25,
    "start_time": "2023-09-19T20:16:50.894Z"
   },
   {
    "duration": 12,
    "start_time": "2023-09-19T20:16:50.920Z"
   },
   {
    "duration": 24,
    "start_time": "2023-09-19T20:16:50.934Z"
   },
   {
    "duration": 11,
    "start_time": "2023-09-19T20:16:50.960Z"
   },
   {
    "duration": 267,
    "start_time": "2023-09-19T20:16:50.973Z"
   },
   {
    "duration": 9,
    "start_time": "2023-09-19T20:16:51.253Z"
   },
   {
    "duration": 275,
    "start_time": "2023-09-19T20:16:51.263Z"
   },
   {
    "duration": 15,
    "start_time": "2023-09-19T20:16:51.539Z"
   },
   {
    "duration": 268,
    "start_time": "2023-09-19T20:16:51.556Z"
   },
   {
    "duration": 5,
    "start_time": "2023-09-19T20:16:51.827Z"
   },
   {
    "duration": 37,
    "start_time": "2023-09-19T20:16:51.834Z"
   },
   {
    "duration": 150,
    "start_time": "2023-09-19T20:16:51.873Z"
   },
   {
    "duration": 153,
    "start_time": "2023-09-19T20:16:52.025Z"
   },
   {
    "duration": 3,
    "start_time": "2023-09-19T20:16:52.180Z"
   },
   {
    "duration": 178,
    "start_time": "2023-09-19T20:16:52.185Z"
   },
   {
    "duration": 8,
    "start_time": "2023-09-19T20:16:52.364Z"
   },
   {
    "duration": 130,
    "start_time": "2023-09-19T20:16:52.373Z"
   },
   {
    "duration": 4,
    "start_time": "2023-09-19T20:16:52.504Z"
   },
   {
    "duration": 47,
    "start_time": "2023-09-19T20:16:52.509Z"
   },
   {
    "duration": 5,
    "start_time": "2023-09-19T20:16:52.558Z"
   },
   {
    "duration": 208,
    "start_time": "2023-09-19T20:16:52.564Z"
   },
   {
    "duration": 4,
    "start_time": "2023-09-19T20:16:52.774Z"
   },
   {
    "duration": 144,
    "start_time": "2023-09-19T20:16:52.780Z"
   },
   {
    "duration": 8,
    "start_time": "2023-09-19T20:16:52.925Z"
   },
   {
    "duration": 183,
    "start_time": "2023-09-19T20:16:52.944Z"
   },
   {
    "duration": 248,
    "start_time": "2023-09-19T20:16:53.128Z"
   },
   {
    "duration": 254,
    "start_time": "2023-09-19T20:16:53.377Z"
   },
   {
    "duration": 26,
    "start_time": "2023-09-19T20:16:53.633Z"
   },
   {
    "duration": 132,
    "start_time": "2023-09-19T20:16:53.660Z"
   },
   {
    "duration": 16,
    "start_time": "2023-09-19T20:16:53.794Z"
   },
   {
    "duration": 147,
    "start_time": "2023-09-19T20:16:53.812Z"
   },
   {
    "duration": 17,
    "start_time": "2023-09-19T20:16:53.961Z"
   },
   {
    "duration": 136,
    "start_time": "2023-09-19T20:16:53.980Z"
   },
   {
    "duration": 43,
    "start_time": "2023-09-19T20:16:54.119Z"
   },
   {
    "duration": 151,
    "start_time": "2023-09-19T20:16:54.164Z"
   },
   {
    "duration": 36,
    "start_time": "2023-09-19T20:16:54.317Z"
   },
   {
    "duration": 207,
    "start_time": "2023-09-19T20:16:54.354Z"
   },
   {
    "duration": 16,
    "start_time": "2023-09-19T20:16:54.563Z"
   },
   {
    "duration": 188,
    "start_time": "2023-09-19T20:16:54.580Z"
   },
   {
    "duration": 15,
    "start_time": "2023-09-19T20:16:54.769Z"
   },
   {
    "duration": 138,
    "start_time": "2023-09-19T20:16:54.785Z"
   },
   {
    "duration": 34,
    "start_time": "2023-09-19T20:16:54.924Z"
   },
   {
    "duration": 109,
    "start_time": "2023-09-19T20:16:54.960Z"
   },
   {
    "duration": 14,
    "start_time": "2023-09-19T20:16:55.071Z"
   },
   {
    "duration": 119,
    "start_time": "2023-09-19T20:16:55.087Z"
   },
   {
    "duration": 7,
    "start_time": "2023-09-19T20:16:55.207Z"
   },
   {
    "duration": 14,
    "start_time": "2023-09-19T20:16:55.216Z"
   },
   {
    "duration": 262,
    "start_time": "2023-09-19T20:17:41.364Z"
   },
   {
    "duration": 9,
    "start_time": "2023-09-19T21:16:18.107Z"
   },
   {
    "duration": 12,
    "start_time": "2023-09-19T21:16:28.923Z"
   },
   {
    "duration": 6,
    "start_time": "2023-09-19T21:27:50.567Z"
   },
   {
    "duration": 6,
    "start_time": "2023-09-19T21:28:07.662Z"
   },
   {
    "duration": 108,
    "start_time": "2023-09-19T21:38:48.626Z"
   },
   {
    "duration": 102,
    "start_time": "2023-09-19T21:38:56.979Z"
   },
   {
    "duration": 97,
    "start_time": "2023-09-19T21:39:03.486Z"
   },
   {
    "duration": 116,
    "start_time": "2023-09-19T21:39:14.523Z"
   },
   {
    "duration": 174,
    "start_time": "2023-09-19T21:39:21.333Z"
   },
   {
    "duration": 99,
    "start_time": "2023-09-19T21:39:26.157Z"
   },
   {
    "duration": 104,
    "start_time": "2023-09-19T21:39:32.743Z"
   },
   {
    "duration": 111,
    "start_time": "2023-09-19T21:39:40.936Z"
   },
   {
    "duration": 107,
    "start_time": "2023-09-19T21:39:46.255Z"
   },
   {
    "duration": 13,
    "start_time": "2023-09-19T21:43:23.559Z"
   },
   {
    "duration": 13,
    "start_time": "2023-09-19T21:43:48.617Z"
   },
   {
    "duration": 3,
    "start_time": "2023-09-19T21:44:53.437Z"
   },
   {
    "duration": 4,
    "start_time": "2023-09-19T21:44:56.958Z"
   },
   {
    "duration": 136,
    "start_time": "2023-09-19T21:45:01.335Z"
   },
   {
    "duration": 4,
    "start_time": "2023-09-19T21:45:09.856Z"
   },
   {
    "duration": 130,
    "start_time": "2023-09-19T21:45:12.128Z"
   },
   {
    "duration": 3,
    "start_time": "2023-09-19T21:45:18.788Z"
   },
   {
    "duration": 69,
    "start_time": "2023-09-19T21:45:18.793Z"
   },
   {
    "duration": 14,
    "start_time": "2023-09-19T21:45:18.865Z"
   },
   {
    "duration": 15,
    "start_time": "2023-09-19T21:45:18.880Z"
   },
   {
    "duration": 3,
    "start_time": "2023-09-19T21:45:18.897Z"
   },
   {
    "duration": 47,
    "start_time": "2023-09-19T21:45:18.901Z"
   },
   {
    "duration": 26,
    "start_time": "2023-09-19T21:45:18.950Z"
   },
   {
    "duration": 13,
    "start_time": "2023-09-19T21:45:18.978Z"
   },
   {
    "duration": 27,
    "start_time": "2023-09-19T21:45:18.993Z"
   },
   {
    "duration": 37,
    "start_time": "2023-09-19T21:45:19.021Z"
   },
   {
    "duration": 11,
    "start_time": "2023-09-19T21:45:19.061Z"
   },
   {
    "duration": 8,
    "start_time": "2023-09-19T21:45:19.073Z"
   },
   {
    "duration": 4,
    "start_time": "2023-09-19T21:45:19.083Z"
   },
   {
    "duration": 179,
    "start_time": "2023-09-19T21:45:19.088Z"
   },
   {
    "duration": 9,
    "start_time": "2023-09-19T21:45:19.268Z"
   },
   {
    "duration": 5,
    "start_time": "2023-09-19T21:45:19.278Z"
   },
   {
    "duration": 8,
    "start_time": "2023-09-19T21:45:19.284Z"
   },
   {
    "duration": 8,
    "start_time": "2023-09-19T21:45:19.294Z"
   },
   {
    "duration": 19,
    "start_time": "2023-09-19T21:45:19.303Z"
   },
   {
    "duration": 18,
    "start_time": "2023-09-19T21:45:19.323Z"
   },
   {
    "duration": 23,
    "start_time": "2023-09-19T21:45:19.342Z"
   },
   {
    "duration": 19,
    "start_time": "2023-09-19T21:45:19.367Z"
   },
   {
    "duration": 13,
    "start_time": "2023-09-19T21:45:19.387Z"
   },
   {
    "duration": 266,
    "start_time": "2023-09-19T21:45:19.401Z"
   },
   {
    "duration": 8,
    "start_time": "2023-09-19T21:45:19.669Z"
   },
   {
    "duration": 282,
    "start_time": "2023-09-19T21:45:19.678Z"
   },
   {
    "duration": 6,
    "start_time": "2023-09-19T21:45:19.962Z"
   },
   {
    "duration": 337,
    "start_time": "2023-09-19T21:45:19.970Z"
   },
   {
    "duration": 7,
    "start_time": "2023-09-19T21:45:20.310Z"
   },
   {
    "duration": 47,
    "start_time": "2023-09-19T21:45:20.319Z"
   },
   {
    "duration": 153,
    "start_time": "2023-09-19T21:45:20.367Z"
   },
   {
    "duration": 151,
    "start_time": "2023-09-19T21:45:20.521Z"
   },
   {
    "duration": 3,
    "start_time": "2023-09-19T21:45:20.673Z"
   },
   {
    "duration": 133,
    "start_time": "2023-09-19T21:45:20.678Z"
   },
   {
    "duration": 5,
    "start_time": "2023-09-19T21:45:20.812Z"
   },
   {
    "duration": 144,
    "start_time": "2023-09-19T21:45:20.818Z"
   },
   {
    "duration": 4,
    "start_time": "2023-09-19T21:45:20.964Z"
   },
   {
    "duration": 40,
    "start_time": "2023-09-19T21:45:20.969Z"
   },
   {
    "duration": 15,
    "start_time": "2023-09-19T21:45:21.011Z"
   },
   {
    "duration": 135,
    "start_time": "2023-09-19T21:45:21.028Z"
   },
   {
    "duration": 5,
    "start_time": "2023-09-19T21:45:21.164Z"
   },
   {
    "duration": 153,
    "start_time": "2023-09-19T21:45:21.170Z"
   },
   {
    "duration": 8,
    "start_time": "2023-09-19T21:45:21.324Z"
   },
   {
    "duration": 266,
    "start_time": "2023-09-19T21:45:21.334Z"
   },
   {
    "duration": 267,
    "start_time": "2023-09-19T21:45:21.602Z"
   },
   {
    "duration": 270,
    "start_time": "2023-09-19T21:45:21.870Z"
   },
   {
    "duration": 26,
    "start_time": "2023-09-19T21:45:22.144Z"
   },
   {
    "duration": 21,
    "start_time": "2023-09-19T21:45:22.172Z"
   },
   {
    "duration": 138,
    "start_time": "2023-09-19T21:45:22.195Z"
   },
   {
    "duration": 25,
    "start_time": "2023-09-19T21:45:22.335Z"
   },
   {
    "duration": 112,
    "start_time": "2023-09-19T21:45:22.362Z"
   },
   {
    "duration": 16,
    "start_time": "2023-09-19T21:45:22.475Z"
   },
   {
    "duration": 119,
    "start_time": "2023-09-19T21:45:22.492Z"
   },
   {
    "duration": 17,
    "start_time": "2023-09-19T21:45:22.612Z"
   },
   {
    "duration": 142,
    "start_time": "2023-09-19T21:45:22.630Z"
   },
   {
    "duration": 16,
    "start_time": "2023-09-19T21:45:22.774Z"
   },
   {
    "duration": 149,
    "start_time": "2023-09-19T21:45:22.792Z"
   },
   {
    "duration": 20,
    "start_time": "2023-09-19T21:45:22.945Z"
   },
   {
    "duration": 113,
    "start_time": "2023-09-19T21:45:22.966Z"
   },
   {
    "duration": 14,
    "start_time": "2023-09-19T21:45:23.081Z"
   },
   {
    "duration": 109,
    "start_time": "2023-09-19T21:45:23.096Z"
   },
   {
    "duration": 14,
    "start_time": "2023-09-19T21:45:23.207Z"
   },
   {
    "duration": 140,
    "start_time": "2023-09-19T21:45:23.222Z"
   },
   {
    "duration": 15,
    "start_time": "2023-09-19T21:45:23.364Z"
   },
   {
    "duration": 116,
    "start_time": "2023-09-19T21:45:23.380Z"
   },
   {
    "duration": 7,
    "start_time": "2023-09-19T21:45:23.498Z"
   },
   {
    "duration": 13,
    "start_time": "2023-09-19T21:45:23.506Z"
   },
   {
    "duration": 1679,
    "start_time": "2023-09-19T21:51:24.878Z"
   },
   {
    "duration": 11,
    "start_time": "2023-09-19T21:51:37.233Z"
   },
   {
    "duration": 12,
    "start_time": "2023-09-19T21:51:46.872Z"
   },
   {
    "duration": 14,
    "start_time": "2023-09-19T21:52:10.799Z"
   },
   {
    "duration": 13,
    "start_time": "2023-09-19T21:52:56.319Z"
   },
   {
    "duration": 13,
    "start_time": "2023-09-19T21:52:57.572Z"
   },
   {
    "duration": 119,
    "start_time": "2023-09-19T21:53:01.537Z"
   },
   {
    "duration": 3,
    "start_time": "2023-09-19T21:53:10.294Z"
   },
   {
    "duration": 77,
    "start_time": "2023-09-19T21:53:10.299Z"
   },
   {
    "duration": 14,
    "start_time": "2023-09-19T21:53:10.377Z"
   },
   {
    "duration": 14,
    "start_time": "2023-09-19T21:53:10.392Z"
   },
   {
    "duration": 5,
    "start_time": "2023-09-19T21:53:10.408Z"
   },
   {
    "duration": 40,
    "start_time": "2023-09-19T21:53:10.415Z"
   },
   {
    "duration": 24,
    "start_time": "2023-09-19T21:53:10.456Z"
   },
   {
    "duration": 12,
    "start_time": "2023-09-19T21:53:10.482Z"
   },
   {
    "duration": 24,
    "start_time": "2023-09-19T21:53:10.497Z"
   },
   {
    "duration": 10,
    "start_time": "2023-09-19T21:53:10.545Z"
   },
   {
    "duration": 10,
    "start_time": "2023-09-19T21:53:10.557Z"
   },
   {
    "duration": 13,
    "start_time": "2023-09-19T21:53:10.569Z"
   },
   {
    "duration": 4,
    "start_time": "2023-09-19T21:53:10.584Z"
   },
   {
    "duration": 167,
    "start_time": "2023-09-19T21:53:10.590Z"
   },
   {
    "duration": 190,
    "start_time": "2023-09-19T21:53:10.759Z"
   },
   {
    "duration": 0,
    "start_time": "2023-09-19T21:53:10.952Z"
   },
   {
    "duration": 0,
    "start_time": "2023-09-19T21:53:10.953Z"
   },
   {
    "duration": 0,
    "start_time": "2023-09-19T21:53:10.954Z"
   },
   {
    "duration": 0,
    "start_time": "2023-09-19T21:53:10.955Z"
   },
   {
    "duration": 0,
    "start_time": "2023-09-19T21:53:10.956Z"
   },
   {
    "duration": 0,
    "start_time": "2023-09-19T21:53:10.957Z"
   },
   {
    "duration": 0,
    "start_time": "2023-09-19T21:53:10.958Z"
   },
   {
    "duration": 0,
    "start_time": "2023-09-19T21:53:11.029Z"
   },
   {
    "duration": 0,
    "start_time": "2023-09-19T21:53:11.030Z"
   },
   {
    "duration": 0,
    "start_time": "2023-09-19T21:53:11.031Z"
   },
   {
    "duration": 0,
    "start_time": "2023-09-19T21:53:11.032Z"
   },
   {
    "duration": 0,
    "start_time": "2023-09-19T21:53:11.044Z"
   },
   {
    "duration": 0,
    "start_time": "2023-09-19T21:53:11.046Z"
   },
   {
    "duration": 0,
    "start_time": "2023-09-19T21:53:11.047Z"
   },
   {
    "duration": 0,
    "start_time": "2023-09-19T21:53:11.048Z"
   },
   {
    "duration": 0,
    "start_time": "2023-09-19T21:53:11.048Z"
   },
   {
    "duration": 0,
    "start_time": "2023-09-19T21:53:11.049Z"
   },
   {
    "duration": 0,
    "start_time": "2023-09-19T21:53:11.051Z"
   },
   {
    "duration": 0,
    "start_time": "2023-09-19T21:53:11.051Z"
   },
   {
    "duration": 0,
    "start_time": "2023-09-19T21:53:11.053Z"
   },
   {
    "duration": 0,
    "start_time": "2023-09-19T21:53:11.054Z"
   },
   {
    "duration": 0,
    "start_time": "2023-09-19T21:53:11.056Z"
   },
   {
    "duration": 0,
    "start_time": "2023-09-19T21:53:11.057Z"
   },
   {
    "duration": 0,
    "start_time": "2023-09-19T21:53:11.060Z"
   },
   {
    "duration": 0,
    "start_time": "2023-09-19T21:53:11.061Z"
   },
   {
    "duration": 0,
    "start_time": "2023-09-19T21:53:11.062Z"
   },
   {
    "duration": 0,
    "start_time": "2023-09-19T21:53:11.064Z"
   },
   {
    "duration": 0,
    "start_time": "2023-09-19T21:53:11.065Z"
   },
   {
    "duration": 0,
    "start_time": "2023-09-19T21:53:11.066Z"
   },
   {
    "duration": 0,
    "start_time": "2023-09-19T21:53:11.067Z"
   },
   {
    "duration": 0,
    "start_time": "2023-09-19T21:53:11.069Z"
   },
   {
    "duration": 0,
    "start_time": "2023-09-19T21:53:11.069Z"
   },
   {
    "duration": 0,
    "start_time": "2023-09-19T21:53:11.070Z"
   },
   {
    "duration": 0,
    "start_time": "2023-09-19T21:53:11.071Z"
   },
   {
    "duration": 0,
    "start_time": "2023-09-19T21:53:11.073Z"
   },
   {
    "duration": 0,
    "start_time": "2023-09-19T21:53:11.073Z"
   },
   {
    "duration": 0,
    "start_time": "2023-09-19T21:53:11.074Z"
   },
   {
    "duration": 0,
    "start_time": "2023-09-19T21:53:11.075Z"
   },
   {
    "duration": 0,
    "start_time": "2023-09-19T21:53:11.076Z"
   },
   {
    "duration": 0,
    "start_time": "2023-09-19T21:53:11.079Z"
   },
   {
    "duration": 0,
    "start_time": "2023-09-19T21:53:11.080Z"
   },
   {
    "duration": 0,
    "start_time": "2023-09-19T21:53:11.144Z"
   },
   {
    "duration": 1,
    "start_time": "2023-09-19T21:53:11.145Z"
   },
   {
    "duration": 0,
    "start_time": "2023-09-19T21:53:11.146Z"
   },
   {
    "duration": 0,
    "start_time": "2023-09-19T21:53:11.148Z"
   },
   {
    "duration": 0,
    "start_time": "2023-09-19T21:53:11.149Z"
   },
   {
    "duration": 0,
    "start_time": "2023-09-19T21:53:11.149Z"
   },
   {
    "duration": 0,
    "start_time": "2023-09-19T21:53:11.150Z"
   },
   {
    "duration": 0,
    "start_time": "2023-09-19T21:53:11.152Z"
   },
   {
    "duration": 0,
    "start_time": "2023-09-19T21:53:11.153Z"
   },
   {
    "duration": 0,
    "start_time": "2023-09-19T21:53:11.154Z"
   },
   {
    "duration": 0,
    "start_time": "2023-09-19T21:53:11.155Z"
   },
   {
    "duration": 0,
    "start_time": "2023-09-19T21:53:11.156Z"
   },
   {
    "duration": 14,
    "start_time": "2023-09-19T21:53:34.647Z"
   },
   {
    "duration": 11,
    "start_time": "2023-09-19T21:53:47.543Z"
   },
   {
    "duration": 12,
    "start_time": "2023-09-19T21:53:49.558Z"
   },
   {
    "duration": 20,
    "start_time": "2023-09-19T21:54:33.152Z"
   },
   {
    "duration": 76,
    "start_time": "2023-09-19T21:54:45.422Z"
   },
   {
    "duration": 18,
    "start_time": "2023-09-19T21:54:56.737Z"
   },
   {
    "duration": 1449,
    "start_time": "2023-09-21T08:15:45.311Z"
   },
   {
    "duration": 125,
    "start_time": "2023-09-21T08:15:46.763Z"
   },
   {
    "duration": 15,
    "start_time": "2023-09-21T08:15:46.890Z"
   },
   {
    "duration": 29,
    "start_time": "2023-09-21T08:15:46.907Z"
   },
   {
    "duration": 15,
    "start_time": "2023-09-21T08:15:46.938Z"
   },
   {
    "duration": 35,
    "start_time": "2023-09-21T08:15:46.955Z"
   },
   {
    "duration": 30,
    "start_time": "2023-09-21T08:15:46.992Z"
   },
   {
    "duration": 15,
    "start_time": "2023-09-21T08:15:47.024Z"
   },
   {
    "duration": 35,
    "start_time": "2023-09-21T08:15:47.042Z"
   },
   {
    "duration": 19,
    "start_time": "2023-09-21T08:15:47.082Z"
   },
   {
    "duration": 12,
    "start_time": "2023-09-21T08:15:47.102Z"
   },
   {
    "duration": 19,
    "start_time": "2023-09-21T08:15:47.116Z"
   },
   {
    "duration": 8,
    "start_time": "2023-09-21T08:15:47.137Z"
   },
   {
    "duration": 235,
    "start_time": "2023-09-21T08:15:47.148Z"
   },
   {
    "duration": 14,
    "start_time": "2023-09-21T08:15:47.388Z"
   },
   {
    "duration": 31,
    "start_time": "2023-09-21T08:15:47.403Z"
   },
   {
    "duration": 52,
    "start_time": "2023-09-21T08:15:47.436Z"
   },
   {
    "duration": 23,
    "start_time": "2023-09-21T08:15:47.490Z"
   },
   {
    "duration": 32,
    "start_time": "2023-09-21T08:15:47.515Z"
   },
   {
    "duration": 33,
    "start_time": "2023-09-21T08:15:47.550Z"
   },
   {
    "duration": 35,
    "start_time": "2023-09-21T08:15:47.584Z"
   },
   {
    "duration": 33,
    "start_time": "2023-09-21T08:15:47.621Z"
   },
   {
    "duration": 29,
    "start_time": "2023-09-21T08:15:47.656Z"
   },
   {
    "duration": 32,
    "start_time": "2023-09-21T08:15:47.687Z"
   },
   {
    "duration": 377,
    "start_time": "2023-09-21T08:15:47.721Z"
   },
   {
    "duration": 8,
    "start_time": "2023-09-21T08:15:48.100Z"
   },
   {
    "duration": 389,
    "start_time": "2023-09-21T08:15:48.110Z"
   },
   {
    "duration": 6,
    "start_time": "2023-09-21T08:15:48.504Z"
   },
   {
    "duration": 357,
    "start_time": "2023-09-21T08:15:48.511Z"
   },
   {
    "duration": 7,
    "start_time": "2023-09-21T08:15:48.871Z"
   },
   {
    "duration": 38,
    "start_time": "2023-09-21T08:15:48.880Z"
   },
   {
    "duration": 178,
    "start_time": "2023-09-21T08:15:48.919Z"
   },
   {
    "duration": 181,
    "start_time": "2023-09-21T08:15:49.098Z"
   },
   {
    "duration": 4,
    "start_time": "2023-09-21T08:15:49.281Z"
   },
   {
    "duration": 176,
    "start_time": "2023-09-21T08:15:49.286Z"
   },
   {
    "duration": 6,
    "start_time": "2023-09-21T08:15:49.464Z"
   },
   {
    "duration": 164,
    "start_time": "2023-09-21T08:15:49.472Z"
   },
   {
    "duration": 7,
    "start_time": "2023-09-21T08:15:49.643Z"
   },
   {
    "duration": 53,
    "start_time": "2023-09-21T08:15:49.653Z"
   },
   {
    "duration": 14,
    "start_time": "2023-09-21T08:15:49.708Z"
   },
   {
    "duration": 274,
    "start_time": "2023-09-21T08:15:49.724Z"
   },
   {
    "duration": 6,
    "start_time": "2023-09-21T08:15:49.999Z"
   },
   {
    "duration": 193,
    "start_time": "2023-09-21T08:15:50.007Z"
   },
   {
    "duration": 8,
    "start_time": "2023-09-21T08:15:50.202Z"
   },
   {
    "duration": 305,
    "start_time": "2023-09-21T08:15:50.211Z"
   },
   {
    "duration": 324,
    "start_time": "2023-09-21T08:15:50.518Z"
   },
   {
    "duration": 256,
    "start_time": "2023-09-21T08:15:50.845Z"
   },
   {
    "duration": 16,
    "start_time": "2023-09-21T08:15:51.103Z"
   },
   {
    "duration": 44,
    "start_time": "2023-09-21T08:15:51.121Z"
   },
   {
    "duration": 149,
    "start_time": "2023-09-21T08:15:51.167Z"
   },
   {
    "duration": 19,
    "start_time": "2023-09-21T08:15:51.318Z"
   },
   {
    "duration": 155,
    "start_time": "2023-09-21T08:15:51.338Z"
   },
   {
    "duration": 18,
    "start_time": "2023-09-21T08:15:51.495Z"
   },
   {
    "duration": 160,
    "start_time": "2023-09-21T08:15:51.515Z"
   },
   {
    "duration": 16,
    "start_time": "2023-09-21T08:15:51.677Z"
   },
   {
    "duration": 171,
    "start_time": "2023-09-21T08:15:51.694Z"
   },
   {
    "duration": 21,
    "start_time": "2023-09-21T08:15:51.868Z"
   },
   {
    "duration": 246,
    "start_time": "2023-09-21T08:15:51.891Z"
   },
   {
    "duration": 27,
    "start_time": "2023-09-21T08:15:52.150Z"
   },
   {
    "duration": 150,
    "start_time": "2023-09-21T08:15:52.178Z"
   },
   {
    "duration": 34,
    "start_time": "2023-09-21T08:15:52.329Z"
   },
   {
    "duration": 150,
    "start_time": "2023-09-21T08:15:52.367Z"
   },
   {
    "duration": 31,
    "start_time": "2023-09-21T08:15:52.520Z"
   },
   {
    "duration": 145,
    "start_time": "2023-09-21T08:15:52.559Z"
   },
   {
    "duration": 17,
    "start_time": "2023-09-21T08:15:52.705Z"
   },
   {
    "duration": 147,
    "start_time": "2023-09-21T08:15:52.724Z"
   },
   {
    "duration": 8,
    "start_time": "2023-09-21T08:15:52.873Z"
   },
   {
    "duration": 35,
    "start_time": "2023-09-21T08:15:52.882Z"
   },
   {
    "duration": 16,
    "start_time": "2023-09-21T08:17:43.757Z"
   },
   {
    "duration": 23,
    "start_time": "2023-09-21T08:17:53.054Z"
   },
   {
    "duration": 100,
    "start_time": "2023-09-21T08:26:16.435Z"
   },
   {
    "duration": 105,
    "start_time": "2023-09-21T08:28:50.692Z"
   },
   {
    "duration": 19,
    "start_time": "2023-09-21T08:29:09.047Z"
   },
   {
    "duration": 14,
    "start_time": "2023-09-21T08:29:25.801Z"
   },
   {
    "duration": 19,
    "start_time": "2023-09-21T08:29:46.066Z"
   },
   {
    "duration": 18,
    "start_time": "2023-09-21T08:35:30.983Z"
   },
   {
    "duration": 12,
    "start_time": "2023-09-21T08:35:39.068Z"
   },
   {
    "duration": 19,
    "start_time": "2023-09-21T08:46:29.905Z"
   },
   {
    "duration": 197,
    "start_time": "2023-09-21T08:47:06.695Z"
   },
   {
    "duration": 159,
    "start_time": "2023-09-21T08:47:12.915Z"
   },
   {
    "duration": 26,
    "start_time": "2023-09-21T08:47:54.512Z"
   },
   {
    "duration": 19,
    "start_time": "2023-09-21T08:48:13.298Z"
   },
   {
    "duration": 18,
    "start_time": "2023-09-21T08:53:19.060Z"
   },
   {
    "duration": 3,
    "start_time": "2023-09-21T08:53:25.325Z"
   },
   {
    "duration": 84,
    "start_time": "2023-09-21T08:53:25.329Z"
   },
   {
    "duration": 12,
    "start_time": "2023-09-21T08:53:25.415Z"
   },
   {
    "duration": 28,
    "start_time": "2023-09-21T08:53:25.429Z"
   },
   {
    "duration": 9,
    "start_time": "2023-09-21T08:53:25.458Z"
   },
   {
    "duration": 33,
    "start_time": "2023-09-21T08:53:25.469Z"
   },
   {
    "duration": 40,
    "start_time": "2023-09-21T08:53:25.504Z"
   },
   {
    "duration": 13,
    "start_time": "2023-09-21T08:53:25.546Z"
   },
   {
    "duration": 33,
    "start_time": "2023-09-21T08:53:25.561Z"
   },
   {
    "duration": 18,
    "start_time": "2023-09-21T08:53:25.596Z"
   },
   {
    "duration": 27,
    "start_time": "2023-09-21T08:53:25.615Z"
   },
   {
    "duration": 27,
    "start_time": "2023-09-21T08:53:25.643Z"
   },
   {
    "duration": 18,
    "start_time": "2023-09-21T08:53:25.671Z"
   },
   {
    "duration": 180,
    "start_time": "2023-09-21T08:53:25.690Z"
   },
   {
    "duration": 24,
    "start_time": "2023-09-21T08:53:25.872Z"
   },
   {
    "duration": 19,
    "start_time": "2023-09-21T08:53:25.898Z"
   },
   {
    "duration": 28,
    "start_time": "2023-09-21T08:53:25.919Z"
   },
   {
    "duration": 39,
    "start_time": "2023-09-21T08:53:25.949Z"
   },
   {
    "duration": 36,
    "start_time": "2023-09-21T08:53:25.989Z"
   },
   {
    "duration": 32,
    "start_time": "2023-09-21T08:53:26.027Z"
   },
   {
    "duration": 34,
    "start_time": "2023-09-21T08:53:26.061Z"
   },
   {
    "duration": 28,
    "start_time": "2023-09-21T08:53:26.097Z"
   },
   {
    "duration": 39,
    "start_time": "2023-09-21T08:53:26.127Z"
   },
   {
    "duration": 21,
    "start_time": "2023-09-21T08:53:26.170Z"
   },
   {
    "duration": 308,
    "start_time": "2023-09-21T08:53:26.193Z"
   },
   {
    "duration": 9,
    "start_time": "2023-09-21T08:53:26.503Z"
   },
   {
    "duration": 309,
    "start_time": "2023-09-21T08:53:26.514Z"
   },
   {
    "duration": 7,
    "start_time": "2023-09-21T08:53:26.824Z"
   },
   {
    "duration": 410,
    "start_time": "2023-09-21T08:53:26.843Z"
   },
   {
    "duration": 5,
    "start_time": "2023-09-21T08:53:27.255Z"
   },
   {
    "duration": 67,
    "start_time": "2023-09-21T08:53:27.262Z"
   },
   {
    "duration": 167,
    "start_time": "2023-09-21T08:53:27.331Z"
   },
   {
    "duration": 283,
    "start_time": "2023-09-21T08:53:27.500Z"
   },
   {
    "duration": 4,
    "start_time": "2023-09-21T08:53:27.784Z"
   },
   {
    "duration": 171,
    "start_time": "2023-09-21T08:53:27.790Z"
   },
   {
    "duration": 5,
    "start_time": "2023-09-21T08:53:27.962Z"
   },
   {
    "duration": 182,
    "start_time": "2023-09-21T08:53:27.969Z"
   },
   {
    "duration": 5,
    "start_time": "2023-09-21T08:53:28.153Z"
   },
   {
    "duration": 59,
    "start_time": "2023-09-21T08:53:28.159Z"
   },
   {
    "duration": 5,
    "start_time": "2023-09-21T08:53:28.219Z"
   },
   {
    "duration": 176,
    "start_time": "2023-09-21T08:53:28.226Z"
   },
   {
    "duration": 5,
    "start_time": "2023-09-21T08:53:28.404Z"
   },
   {
    "duration": 221,
    "start_time": "2023-09-21T08:53:28.411Z"
   },
   {
    "duration": 7,
    "start_time": "2023-09-21T08:53:28.634Z"
   },
   {
    "duration": 501,
    "start_time": "2023-09-21T08:53:28.643Z"
   },
   {
    "duration": 533,
    "start_time": "2023-09-21T08:53:29.146Z"
   },
   {
    "duration": 463,
    "start_time": "2023-09-21T08:53:29.681Z"
   },
   {
    "duration": 12,
    "start_time": "2023-09-21T08:53:30.146Z"
   },
   {
    "duration": 118,
    "start_time": "2023-09-21T08:53:30.159Z"
   },
   {
    "duration": 0,
    "start_time": "2023-09-21T08:53:30.278Z"
   },
   {
    "duration": 0,
    "start_time": "2023-09-21T08:53:30.279Z"
   },
   {
    "duration": 0,
    "start_time": "2023-09-21T08:53:30.280Z"
   },
   {
    "duration": 0,
    "start_time": "2023-09-21T08:53:30.282Z"
   },
   {
    "duration": 0,
    "start_time": "2023-09-21T08:53:30.283Z"
   },
   {
    "duration": 0,
    "start_time": "2023-09-21T08:53:30.284Z"
   },
   {
    "duration": 0,
    "start_time": "2023-09-21T08:53:30.285Z"
   },
   {
    "duration": 0,
    "start_time": "2023-09-21T08:53:30.286Z"
   },
   {
    "duration": 0,
    "start_time": "2023-09-21T08:53:30.288Z"
   },
   {
    "duration": 0,
    "start_time": "2023-09-21T08:53:30.289Z"
   },
   {
    "duration": 0,
    "start_time": "2023-09-21T08:53:30.290Z"
   },
   {
    "duration": 0,
    "start_time": "2023-09-21T08:53:30.291Z"
   },
   {
    "duration": 0,
    "start_time": "2023-09-21T08:53:30.292Z"
   },
   {
    "duration": 0,
    "start_time": "2023-09-21T08:53:30.294Z"
   },
   {
    "duration": 0,
    "start_time": "2023-09-21T08:53:30.344Z"
   },
   {
    "duration": 0,
    "start_time": "2023-09-21T08:53:30.345Z"
   },
   {
    "duration": 0,
    "start_time": "2023-09-21T08:53:30.346Z"
   },
   {
    "duration": 1,
    "start_time": "2023-09-21T08:53:30.347Z"
   },
   {
    "duration": 0,
    "start_time": "2023-09-21T08:53:30.348Z"
   },
   {
    "duration": 0,
    "start_time": "2023-09-21T08:53:30.350Z"
   },
   {
    "duration": 0,
    "start_time": "2023-09-21T08:53:30.351Z"
   },
   {
    "duration": 20,
    "start_time": "2023-09-21T09:00:08.176Z"
   },
   {
    "duration": 21,
    "start_time": "2023-09-21T09:00:55.715Z"
   },
   {
    "duration": 9,
    "start_time": "2023-09-21T09:09:31.965Z"
   },
   {
    "duration": 8,
    "start_time": "2023-09-21T09:11:46.061Z"
   },
   {
    "duration": 2,
    "start_time": "2023-09-21T10:21:37.723Z"
   },
   {
    "duration": 101,
    "start_time": "2023-09-21T10:21:37.735Z"
   },
   {
    "duration": 14,
    "start_time": "2023-09-21T10:21:37.839Z"
   },
   {
    "duration": 32,
    "start_time": "2023-09-21T10:21:37.854Z"
   },
   {
    "duration": 3,
    "start_time": "2023-09-21T10:21:37.888Z"
   },
   {
    "duration": 24,
    "start_time": "2023-09-21T10:21:37.892Z"
   },
   {
    "duration": 63,
    "start_time": "2023-09-21T10:21:37.917Z"
   },
   {
    "duration": 26,
    "start_time": "2023-09-21T10:21:37.982Z"
   },
   {
    "duration": 73,
    "start_time": "2023-09-21T10:21:38.010Z"
   },
   {
    "duration": 15,
    "start_time": "2023-09-21T10:21:38.084Z"
   },
   {
    "duration": 32,
    "start_time": "2023-09-21T10:21:38.101Z"
   },
   {
    "duration": 21,
    "start_time": "2023-09-21T10:21:38.135Z"
   },
   {
    "duration": 19,
    "start_time": "2023-09-21T10:21:38.157Z"
   },
   {
    "duration": 183,
    "start_time": "2023-09-21T10:21:38.178Z"
   },
   {
    "duration": 24,
    "start_time": "2023-09-21T10:21:38.363Z"
   },
   {
    "duration": 9,
    "start_time": "2023-09-21T10:21:38.389Z"
   },
   {
    "duration": 59,
    "start_time": "2023-09-21T10:21:38.400Z"
   },
   {
    "duration": 19,
    "start_time": "2023-09-21T10:21:38.461Z"
   },
   {
    "duration": 31,
    "start_time": "2023-09-21T10:21:38.482Z"
   },
   {
    "duration": 30,
    "start_time": "2023-09-21T10:21:38.515Z"
   },
   {
    "duration": 33,
    "start_time": "2023-09-21T10:21:38.547Z"
   },
   {
    "duration": 29,
    "start_time": "2023-09-21T10:21:38.581Z"
   },
   {
    "duration": 31,
    "start_time": "2023-09-21T10:21:38.611Z"
   },
   {
    "duration": 47,
    "start_time": "2023-09-21T10:21:38.643Z"
   },
   {
    "duration": 377,
    "start_time": "2023-09-21T10:21:38.692Z"
   },
   {
    "duration": 9,
    "start_time": "2023-09-21T10:21:39.071Z"
   },
   {
    "duration": 286,
    "start_time": "2023-09-21T10:21:39.082Z"
   },
   {
    "duration": 7,
    "start_time": "2023-09-21T10:21:39.369Z"
   },
   {
    "duration": 313,
    "start_time": "2023-09-21T10:21:39.380Z"
   },
   {
    "duration": 6,
    "start_time": "2023-09-21T10:21:39.695Z"
   },
   {
    "duration": 51,
    "start_time": "2023-09-21T10:21:39.703Z"
   },
   {
    "duration": 147,
    "start_time": "2023-09-21T10:21:39.756Z"
   },
   {
    "duration": 159,
    "start_time": "2023-09-21T10:21:39.905Z"
   },
   {
    "duration": 4,
    "start_time": "2023-09-21T10:21:40.066Z"
   },
   {
    "duration": 162,
    "start_time": "2023-09-21T10:21:40.071Z"
   },
   {
    "duration": 5,
    "start_time": "2023-09-21T10:21:40.235Z"
   },
   {
    "duration": 315,
    "start_time": "2023-09-21T10:21:40.244Z"
   },
   {
    "duration": 6,
    "start_time": "2023-09-21T10:21:40.561Z"
   },
   {
    "duration": 60,
    "start_time": "2023-09-21T10:21:40.568Z"
   },
   {
    "duration": 26,
    "start_time": "2023-09-21T10:21:40.630Z"
   },
   {
    "duration": 169,
    "start_time": "2023-09-21T10:21:40.658Z"
   },
   {
    "duration": 5,
    "start_time": "2023-09-21T10:21:40.829Z"
   },
   {
    "duration": 164,
    "start_time": "2023-09-21T10:21:40.843Z"
   },
   {
    "duration": 8,
    "start_time": "2023-09-21T10:21:41.008Z"
   },
   {
    "duration": 363,
    "start_time": "2023-09-21T10:21:41.018Z"
   },
   {
    "duration": 271,
    "start_time": "2023-09-21T10:21:41.383Z"
   },
   {
    "duration": 196,
    "start_time": "2023-09-21T10:21:41.656Z"
   },
   {
    "duration": 11,
    "start_time": "2023-09-21T10:21:41.854Z"
   },
   {
    "duration": 48,
    "start_time": "2023-09-21T10:21:41.867Z"
   },
   {
    "duration": 0,
    "start_time": "2023-09-21T10:21:41.916Z"
   },
   {
    "duration": 0,
    "start_time": "2023-09-21T10:21:41.917Z"
   },
   {
    "duration": 0,
    "start_time": "2023-09-21T10:21:41.919Z"
   },
   {
    "duration": 0,
    "start_time": "2023-09-21T10:21:41.920Z"
   },
   {
    "duration": 0,
    "start_time": "2023-09-21T10:21:41.921Z"
   },
   {
    "duration": 0,
    "start_time": "2023-09-21T10:21:41.922Z"
   },
   {
    "duration": 0,
    "start_time": "2023-09-21T10:21:41.922Z"
   },
   {
    "duration": 0,
    "start_time": "2023-09-21T10:21:41.924Z"
   },
   {
    "duration": 0,
    "start_time": "2023-09-21T10:21:41.925Z"
   },
   {
    "duration": 0,
    "start_time": "2023-09-21T10:21:41.927Z"
   },
   {
    "duration": 0,
    "start_time": "2023-09-21T10:21:41.928Z"
   },
   {
    "duration": 0,
    "start_time": "2023-09-21T10:21:41.929Z"
   },
   {
    "duration": 0,
    "start_time": "2023-09-21T10:21:41.930Z"
   },
   {
    "duration": 0,
    "start_time": "2023-09-21T10:21:41.931Z"
   },
   {
    "duration": 0,
    "start_time": "2023-09-21T10:21:41.943Z"
   },
   {
    "duration": 0,
    "start_time": "2023-09-21T10:21:41.945Z"
   },
   {
    "duration": 0,
    "start_time": "2023-09-21T10:21:41.945Z"
   },
   {
    "duration": 0,
    "start_time": "2023-09-21T10:21:41.947Z"
   },
   {
    "duration": 0,
    "start_time": "2023-09-21T10:21:41.947Z"
   },
   {
    "duration": 0,
    "start_time": "2023-09-21T10:21:41.949Z"
   },
   {
    "duration": 0,
    "start_time": "2023-09-21T10:21:41.949Z"
   },
   {
    "duration": 4,
    "start_time": "2023-09-21T10:22:26.551Z"
   },
   {
    "duration": 99,
    "start_time": "2023-09-21T10:22:26.557Z"
   },
   {
    "duration": 13,
    "start_time": "2023-09-21T10:22:26.658Z"
   },
   {
    "duration": 33,
    "start_time": "2023-09-21T10:22:26.673Z"
   },
   {
    "duration": 16,
    "start_time": "2023-09-21T10:22:26.708Z"
   },
   {
    "duration": 47,
    "start_time": "2023-09-21T10:22:26.725Z"
   },
   {
    "duration": 34,
    "start_time": "2023-09-21T10:22:26.774Z"
   },
   {
    "duration": 15,
    "start_time": "2023-09-21T10:22:26.810Z"
   },
   {
    "duration": 27,
    "start_time": "2023-09-21T10:22:26.828Z"
   },
   {
    "duration": 21,
    "start_time": "2023-09-21T10:22:26.857Z"
   },
   {
    "duration": 28,
    "start_time": "2023-09-21T10:22:26.879Z"
   },
   {
    "duration": 15,
    "start_time": "2023-09-21T10:22:26.909Z"
   },
   {
    "duration": 7,
    "start_time": "2023-09-21T10:22:26.925Z"
   },
   {
    "duration": 174,
    "start_time": "2023-09-21T10:22:26.934Z"
   },
   {
    "duration": 22,
    "start_time": "2023-09-21T10:22:27.110Z"
   },
   {
    "duration": 15,
    "start_time": "2023-09-21T10:22:27.134Z"
   },
   {
    "duration": 32,
    "start_time": "2023-09-21T10:22:27.151Z"
   },
   {
    "duration": 18,
    "start_time": "2023-09-21T10:22:27.185Z"
   },
   {
    "duration": 19,
    "start_time": "2023-09-21T10:22:27.205Z"
   },
   {
    "duration": 19,
    "start_time": "2023-09-21T10:22:27.226Z"
   },
   {
    "duration": 21,
    "start_time": "2023-09-21T10:22:27.247Z"
   },
   {
    "duration": 40,
    "start_time": "2023-09-21T10:22:27.270Z"
   },
   {
    "duration": 21,
    "start_time": "2023-09-21T10:22:27.312Z"
   },
   {
    "duration": 14,
    "start_time": "2023-09-21T10:22:27.337Z"
   },
   {
    "duration": 305,
    "start_time": "2023-09-21T10:22:27.352Z"
   },
   {
    "duration": 9,
    "start_time": "2023-09-21T10:22:27.660Z"
   },
   {
    "duration": 288,
    "start_time": "2023-09-21T10:22:27.671Z"
   },
   {
    "duration": 8,
    "start_time": "2023-09-21T10:22:27.961Z"
   },
   {
    "duration": 303,
    "start_time": "2023-09-21T10:22:27.970Z"
   },
   {
    "duration": 6,
    "start_time": "2023-09-21T10:22:28.275Z"
   },
   {
    "duration": 41,
    "start_time": "2023-09-21T10:22:28.283Z"
   },
   {
    "duration": 177,
    "start_time": "2023-09-21T10:22:28.325Z"
   },
   {
    "duration": 159,
    "start_time": "2023-09-21T10:22:28.503Z"
   },
   {
    "duration": 4,
    "start_time": "2023-09-21T10:22:28.663Z"
   },
   {
    "duration": 234,
    "start_time": "2023-09-21T10:22:28.669Z"
   },
   {
    "duration": 5,
    "start_time": "2023-09-21T10:22:28.904Z"
   },
   {
    "duration": 173,
    "start_time": "2023-09-21T10:22:28.910Z"
   },
   {
    "duration": 5,
    "start_time": "2023-09-21T10:22:29.084Z"
   },
   {
    "duration": 48,
    "start_time": "2023-09-21T10:22:29.090Z"
   },
   {
    "duration": 5,
    "start_time": "2023-09-21T10:22:29.139Z"
   },
   {
    "duration": 171,
    "start_time": "2023-09-21T10:22:29.145Z"
   },
   {
    "duration": 5,
    "start_time": "2023-09-21T10:22:29.318Z"
   },
   {
    "duration": 164,
    "start_time": "2023-09-21T10:22:29.324Z"
   },
   {
    "duration": 8,
    "start_time": "2023-09-21T10:22:29.490Z"
   },
   {
    "duration": 282,
    "start_time": "2023-09-21T10:22:29.500Z"
   },
   {
    "duration": 270,
    "start_time": "2023-09-21T10:22:29.784Z"
   },
   {
    "duration": 198,
    "start_time": "2023-09-21T10:22:30.055Z"
   },
   {
    "duration": 3,
    "start_time": "2023-09-21T10:22:30.254Z"
   },
   {
    "duration": 50,
    "start_time": "2023-09-21T10:22:30.258Z"
   },
   {
    "duration": 51,
    "start_time": "2023-09-21T10:22:30.310Z"
   },
   {
    "duration": 42,
    "start_time": "2023-09-21T10:22:30.363Z"
   },
   {
    "duration": 153,
    "start_time": "2023-09-21T10:22:30.406Z"
   },
   {
    "duration": 17,
    "start_time": "2023-09-21T10:22:30.561Z"
   },
   {
    "duration": 176,
    "start_time": "2023-09-21T10:22:30.579Z"
   },
   {
    "duration": 16,
    "start_time": "2023-09-21T10:22:30.757Z"
   },
   {
    "duration": 242,
    "start_time": "2023-09-21T10:22:30.775Z"
   },
   {
    "duration": 24,
    "start_time": "2023-09-21T10:22:31.019Z"
   },
   {
    "duration": 165,
    "start_time": "2023-09-21T10:22:31.045Z"
   },
   {
    "duration": 16,
    "start_time": "2023-09-21T10:22:31.212Z"
   },
   {
    "duration": 146,
    "start_time": "2023-09-21T10:22:31.243Z"
   },
   {
    "duration": 19,
    "start_time": "2023-09-21T10:22:31.391Z"
   },
   {
    "duration": 166,
    "start_time": "2023-09-21T10:22:31.411Z"
   },
   {
    "duration": 15,
    "start_time": "2023-09-21T10:22:31.579Z"
   },
   {
    "duration": 132,
    "start_time": "2023-09-21T10:22:31.596Z"
   },
   {
    "duration": 17,
    "start_time": "2023-09-21T10:22:31.730Z"
   },
   {
    "duration": 163,
    "start_time": "2023-09-21T10:22:31.748Z"
   },
   {
    "duration": 16,
    "start_time": "2023-09-21T10:22:31.913Z"
   },
   {
    "duration": 174,
    "start_time": "2023-09-21T10:22:31.931Z"
   },
   {
    "duration": 6,
    "start_time": "2023-09-21T10:22:32.110Z"
   },
   {
    "duration": 42,
    "start_time": "2023-09-21T10:22:32.118Z"
   },
   {
    "duration": 2820,
    "start_time": "2023-09-21T11:18:41.838Z"
   },
   {
    "duration": 21,
    "start_time": "2023-09-21T11:30:57.859Z"
   },
   {
    "duration": 23,
    "start_time": "2023-09-21T11:31:21.855Z"
   },
   {
    "duration": 228,
    "start_time": "2023-09-21T11:31:52.471Z"
   },
   {
    "duration": 334,
    "start_time": "2023-09-21T11:32:07.901Z"
   },
   {
    "duration": 15,
    "start_time": "2023-09-21T11:32:31.971Z"
   },
   {
    "duration": 23,
    "start_time": "2023-09-21T11:34:17.071Z"
   },
   {
    "duration": 143,
    "start_time": "2023-09-21T11:35:08.274Z"
   },
   {
    "duration": 216,
    "start_time": "2023-09-21T11:35:53.098Z"
   },
   {
    "duration": 191,
    "start_time": "2023-09-21T11:36:31.753Z"
   },
   {
    "duration": 3,
    "start_time": "2023-09-21T11:36:34.740Z"
   },
   {
    "duration": 108,
    "start_time": "2023-09-21T11:36:34.747Z"
   },
   {
    "duration": 17,
    "start_time": "2023-09-21T11:36:34.857Z"
   },
   {
    "duration": 19,
    "start_time": "2023-09-21T11:36:34.877Z"
   },
   {
    "duration": 9,
    "start_time": "2023-09-21T11:36:34.898Z"
   },
   {
    "duration": 49,
    "start_time": "2023-09-21T11:36:34.908Z"
   },
   {
    "duration": 33,
    "start_time": "2023-09-21T11:36:34.959Z"
   },
   {
    "duration": 22,
    "start_time": "2023-09-21T11:36:34.994Z"
   },
   {
    "duration": 58,
    "start_time": "2023-09-21T11:36:35.018Z"
   },
   {
    "duration": 57,
    "start_time": "2023-09-21T11:36:35.079Z"
   },
   {
    "duration": 63,
    "start_time": "2023-09-21T11:36:35.138Z"
   },
   {
    "duration": 43,
    "start_time": "2023-09-21T11:36:35.203Z"
   },
   {
    "duration": 12,
    "start_time": "2023-09-21T11:36:35.247Z"
   },
   {
    "duration": 227,
    "start_time": "2023-09-21T11:36:35.261Z"
   },
   {
    "duration": 24,
    "start_time": "2023-09-21T11:36:35.490Z"
   },
   {
    "duration": 79,
    "start_time": "2023-09-21T11:36:35.515Z"
   },
   {
    "duration": 27,
    "start_time": "2023-09-21T11:36:35.596Z"
   },
   {
    "duration": 42,
    "start_time": "2023-09-21T11:36:35.624Z"
   },
   {
    "duration": 70,
    "start_time": "2023-09-21T11:36:35.668Z"
   },
   {
    "duration": 53,
    "start_time": "2023-09-21T11:36:35.740Z"
   },
   {
    "duration": 164,
    "start_time": "2023-09-21T11:36:35.795Z"
   },
   {
    "duration": 97,
    "start_time": "2023-09-21T11:36:35.961Z"
   },
   {
    "duration": 129,
    "start_time": "2023-09-21T11:36:36.060Z"
   },
   {
    "duration": 89,
    "start_time": "2023-09-21T11:36:36.190Z"
   },
   {
    "duration": 349,
    "start_time": "2023-09-21T11:36:36.281Z"
   },
   {
    "duration": 12,
    "start_time": "2023-09-21T11:36:36.632Z"
   },
   {
    "duration": 323,
    "start_time": "2023-09-21T11:36:36.646Z"
   },
   {
    "duration": 93,
    "start_time": "2023-09-21T11:36:36.975Z"
   },
   {
    "duration": 327,
    "start_time": "2023-09-21T11:36:37.070Z"
   },
   {
    "duration": 7,
    "start_time": "2023-09-21T11:36:37.400Z"
   },
   {
    "duration": 75,
    "start_time": "2023-09-21T11:36:37.408Z"
   },
   {
    "duration": 167,
    "start_time": "2023-09-21T11:36:37.485Z"
   },
   {
    "duration": 166,
    "start_time": "2023-09-21T11:36:37.654Z"
   },
   {
    "duration": 4,
    "start_time": "2023-09-21T11:36:37.822Z"
   },
   {
    "duration": 152,
    "start_time": "2023-09-21T11:36:37.828Z"
   },
   {
    "duration": 4,
    "start_time": "2023-09-21T11:36:37.982Z"
   },
   {
    "duration": 165,
    "start_time": "2023-09-21T11:36:37.988Z"
   },
   {
    "duration": 5,
    "start_time": "2023-09-21T11:36:38.154Z"
   },
   {
    "duration": 56,
    "start_time": "2023-09-21T11:36:38.160Z"
   },
   {
    "duration": 4,
    "start_time": "2023-09-21T11:36:38.218Z"
   },
   {
    "duration": 158,
    "start_time": "2023-09-21T11:36:38.224Z"
   },
   {
    "duration": 5,
    "start_time": "2023-09-21T11:36:38.384Z"
   },
   {
    "duration": 192,
    "start_time": "2023-09-21T11:36:38.391Z"
   },
   {
    "duration": 8,
    "start_time": "2023-09-21T11:36:38.584Z"
   },
   {
    "duration": 292,
    "start_time": "2023-09-21T11:36:38.593Z"
   },
   {
    "duration": 281,
    "start_time": "2023-09-21T11:36:38.887Z"
   },
   {
    "duration": 286,
    "start_time": "2023-09-21T11:36:39.170Z"
   },
   {
    "duration": 134,
    "start_time": "2023-09-21T11:36:39.458Z"
   },
   {
    "duration": 0,
    "start_time": "2023-09-21T11:36:39.593Z"
   },
   {
    "duration": 0,
    "start_time": "2023-09-21T11:36:39.595Z"
   },
   {
    "duration": 0,
    "start_time": "2023-09-21T11:36:39.596Z"
   },
   {
    "duration": 0,
    "start_time": "2023-09-21T11:36:39.597Z"
   },
   {
    "duration": 0,
    "start_time": "2023-09-21T11:36:39.598Z"
   },
   {
    "duration": 0,
    "start_time": "2023-09-21T11:36:39.599Z"
   },
   {
    "duration": 0,
    "start_time": "2023-09-21T11:36:39.600Z"
   },
   {
    "duration": 0,
    "start_time": "2023-09-21T11:36:39.601Z"
   },
   {
    "duration": 0,
    "start_time": "2023-09-21T11:36:39.602Z"
   },
   {
    "duration": 0,
    "start_time": "2023-09-21T11:36:39.603Z"
   },
   {
    "duration": 0,
    "start_time": "2023-09-21T11:36:39.604Z"
   },
   {
    "duration": 0,
    "start_time": "2023-09-21T11:36:39.605Z"
   },
   {
    "duration": 0,
    "start_time": "2023-09-21T11:36:39.606Z"
   },
   {
    "duration": 0,
    "start_time": "2023-09-21T11:36:39.607Z"
   },
   {
    "duration": 0,
    "start_time": "2023-09-21T11:36:39.609Z"
   },
   {
    "duration": 0,
    "start_time": "2023-09-21T11:36:39.609Z"
   },
   {
    "duration": 0,
    "start_time": "2023-09-21T11:36:39.611Z"
   },
   {
    "duration": 0,
    "start_time": "2023-09-21T11:36:39.612Z"
   },
   {
    "duration": 0,
    "start_time": "2023-09-21T11:36:39.613Z"
   },
   {
    "duration": 0,
    "start_time": "2023-09-21T11:36:39.614Z"
   },
   {
    "duration": 0,
    "start_time": "2023-09-21T11:36:39.615Z"
   },
   {
    "duration": 19,
    "start_time": "2023-09-21T11:36:49.159Z"
   },
   {
    "duration": 23,
    "start_time": "2023-09-21T11:37:04.063Z"
   },
   {
    "duration": 25,
    "start_time": "2023-09-21T11:37:41.795Z"
   },
   {
    "duration": 25,
    "start_time": "2023-09-21T11:38:26.901Z"
   },
   {
    "duration": 19,
    "start_time": "2023-09-21T11:56:23.195Z"
   },
   {
    "duration": 19,
    "start_time": "2023-09-21T11:57:11.178Z"
   },
   {
    "duration": 23,
    "start_time": "2023-09-21T11:57:16.758Z"
   },
   {
    "duration": 3,
    "start_time": "2023-09-21T12:37:37.658Z"
   },
   {
    "duration": 72,
    "start_time": "2023-09-21T12:37:37.664Z"
   },
   {
    "duration": 22,
    "start_time": "2023-09-21T12:37:37.737Z"
   },
   {
    "duration": 18,
    "start_time": "2023-09-21T12:37:37.761Z"
   },
   {
    "duration": 4,
    "start_time": "2023-09-21T12:37:37.781Z"
   },
   {
    "duration": 24,
    "start_time": "2023-09-21T12:37:37.787Z"
   },
   {
    "duration": 44,
    "start_time": "2023-09-21T12:37:37.813Z"
   },
   {
    "duration": 14,
    "start_time": "2023-09-21T12:37:37.859Z"
   },
   {
    "duration": 27,
    "start_time": "2023-09-21T12:37:37.874Z"
   },
   {
    "duration": 13,
    "start_time": "2023-09-21T12:37:37.903Z"
   },
   {
    "duration": 22,
    "start_time": "2023-09-21T12:37:37.919Z"
   },
   {
    "duration": 18,
    "start_time": "2023-09-21T12:37:37.943Z"
   },
   {
    "duration": 23,
    "start_time": "2023-09-21T12:37:37.963Z"
   },
   {
    "duration": 180,
    "start_time": "2023-09-21T12:37:37.988Z"
   },
   {
    "duration": 24,
    "start_time": "2023-09-21T12:37:38.169Z"
   },
   {
    "duration": 27,
    "start_time": "2023-09-21T12:37:38.194Z"
   },
   {
    "duration": 11,
    "start_time": "2023-09-21T12:37:38.223Z"
   },
   {
    "duration": 28,
    "start_time": "2023-09-21T12:37:38.236Z"
   },
   {
    "duration": 32,
    "start_time": "2023-09-21T12:37:38.266Z"
   },
   {
    "duration": 20,
    "start_time": "2023-09-21T12:37:38.300Z"
   },
   {
    "duration": 30,
    "start_time": "2023-09-21T12:37:38.322Z"
   },
   {
    "duration": 7,
    "start_time": "2023-09-21T12:37:38.361Z"
   },
   {
    "duration": 22,
    "start_time": "2023-09-21T12:37:38.370Z"
   },
   {
    "duration": 15,
    "start_time": "2023-09-21T12:37:38.394Z"
   },
   {
    "duration": 304,
    "start_time": "2023-09-21T12:37:38.411Z"
   },
   {
    "duration": 10,
    "start_time": "2023-09-21T12:37:38.717Z"
   },
   {
    "duration": 322,
    "start_time": "2023-09-21T12:37:38.729Z"
   },
   {
    "duration": 11,
    "start_time": "2023-09-21T12:37:39.055Z"
   },
   {
    "duration": 446,
    "start_time": "2023-09-21T12:37:39.074Z"
   },
   {
    "duration": 9,
    "start_time": "2023-09-21T12:37:39.522Z"
   },
   {
    "duration": 49,
    "start_time": "2023-09-21T12:37:39.533Z"
   },
   {
    "duration": 175,
    "start_time": "2023-09-21T12:37:39.583Z"
   },
   {
    "duration": 163,
    "start_time": "2023-09-21T12:37:39.761Z"
   },
   {
    "duration": 4,
    "start_time": "2023-09-21T12:37:39.926Z"
   },
   {
    "duration": 171,
    "start_time": "2023-09-21T12:37:39.931Z"
   },
   {
    "duration": 5,
    "start_time": "2023-09-21T12:37:40.103Z"
   },
   {
    "duration": 187,
    "start_time": "2023-09-21T12:37:40.110Z"
   },
   {
    "duration": 6,
    "start_time": "2023-09-21T12:37:40.299Z"
   },
   {
    "duration": 71,
    "start_time": "2023-09-21T12:37:40.306Z"
   },
   {
    "duration": 5,
    "start_time": "2023-09-21T12:37:40.379Z"
   },
   {
    "duration": 182,
    "start_time": "2023-09-21T12:37:40.386Z"
   },
   {
    "duration": 6,
    "start_time": "2023-09-21T12:37:40.570Z"
   },
   {
    "duration": 262,
    "start_time": "2023-09-21T12:37:40.578Z"
   },
   {
    "duration": 17,
    "start_time": "2023-09-21T12:37:40.843Z"
   },
   {
    "duration": 303,
    "start_time": "2023-09-21T12:37:40.862Z"
   },
   {
    "duration": 304,
    "start_time": "2023-09-21T12:37:41.167Z"
   },
   {
    "duration": 205,
    "start_time": "2023-09-21T12:37:41.473Z"
   },
   {
    "duration": 17,
    "start_time": "2023-09-21T12:37:41.680Z"
   },
   {
    "duration": 23,
    "start_time": "2023-09-21T12:37:41.698Z"
   },
   {
    "duration": 22,
    "start_time": "2023-09-21T12:37:41.744Z"
   },
   {
    "duration": 20,
    "start_time": "2023-09-21T12:37:41.768Z"
   },
   {
    "duration": 135,
    "start_time": "2023-09-21T12:37:41.790Z"
   },
   {
    "duration": 32,
    "start_time": "2023-09-21T12:37:41.927Z"
   },
   {
    "duration": 122,
    "start_time": "2023-09-21T12:37:41.961Z"
   },
   {
    "duration": 17,
    "start_time": "2023-09-21T12:37:42.085Z"
   },
   {
    "duration": 188,
    "start_time": "2023-09-21T12:37:42.103Z"
   },
   {
    "duration": 16,
    "start_time": "2023-09-21T12:37:42.293Z"
   },
   {
    "duration": 158,
    "start_time": "2023-09-21T12:37:42.310Z"
   },
   {
    "duration": 17,
    "start_time": "2023-09-21T12:37:42.470Z"
   },
   {
    "duration": 143,
    "start_time": "2023-09-21T12:37:42.488Z"
   },
   {
    "duration": 29,
    "start_time": "2023-09-21T12:37:42.633Z"
   },
   {
    "duration": 224,
    "start_time": "2023-09-21T12:37:42.664Z"
   },
   {
    "duration": 15,
    "start_time": "2023-09-21T12:37:42.890Z"
   },
   {
    "duration": 267,
    "start_time": "2023-09-21T12:37:42.907Z"
   },
   {
    "duration": 71,
    "start_time": "2023-09-21T12:37:43.176Z"
   },
   {
    "duration": 233,
    "start_time": "2023-09-21T12:37:43.248Z"
   },
   {
    "duration": 78,
    "start_time": "2023-09-21T12:37:43.483Z"
   },
   {
    "duration": 305,
    "start_time": "2023-09-21T12:37:43.564Z"
   },
   {
    "duration": 15,
    "start_time": "2023-09-21T12:37:43.871Z"
   },
   {
    "duration": 62,
    "start_time": "2023-09-21T12:37:43.895Z"
   },
   {
    "duration": 16,
    "start_time": "2023-09-21T12:38:00.871Z"
   },
   {
    "duration": 4,
    "start_time": "2023-09-21T12:39:25.592Z"
   },
   {
    "duration": 122,
    "start_time": "2023-09-21T12:39:25.598Z"
   },
   {
    "duration": 14,
    "start_time": "2023-09-21T12:39:25.722Z"
   },
   {
    "duration": 46,
    "start_time": "2023-09-21T12:39:25.738Z"
   },
   {
    "duration": 33,
    "start_time": "2023-09-21T12:39:25.787Z"
   },
   {
    "duration": 55,
    "start_time": "2023-09-21T12:39:25.822Z"
   },
   {
    "duration": 69,
    "start_time": "2023-09-21T12:39:25.879Z"
   },
   {
    "duration": 21,
    "start_time": "2023-09-21T12:39:25.959Z"
   },
   {
    "duration": 36,
    "start_time": "2023-09-21T12:39:25.982Z"
   },
   {
    "duration": 54,
    "start_time": "2023-09-21T12:39:26.021Z"
   },
   {
    "duration": 26,
    "start_time": "2023-09-21T12:39:26.079Z"
   },
   {
    "duration": 13,
    "start_time": "2023-09-21T12:39:26.107Z"
   },
   {
    "duration": 10,
    "start_time": "2023-09-21T12:39:26.122Z"
   },
   {
    "duration": 208,
    "start_time": "2023-09-21T12:39:26.133Z"
   },
   {
    "duration": 29,
    "start_time": "2023-09-21T12:39:26.346Z"
   },
   {
    "duration": 37,
    "start_time": "2023-09-21T12:39:26.377Z"
   },
   {
    "duration": 17,
    "start_time": "2023-09-21T12:39:26.416Z"
   },
   {
    "duration": 25,
    "start_time": "2023-09-21T12:39:26.435Z"
   },
   {
    "duration": 22,
    "start_time": "2023-09-21T12:39:26.462Z"
   },
   {
    "duration": 38,
    "start_time": "2023-09-21T12:39:26.486Z"
   },
   {
    "duration": 97,
    "start_time": "2023-09-21T12:39:26.525Z"
   },
   {
    "duration": 17,
    "start_time": "2023-09-21T12:39:26.624Z"
   },
   {
    "duration": 40,
    "start_time": "2023-09-21T12:39:26.643Z"
   },
   {
    "duration": 33,
    "start_time": "2023-09-21T12:39:26.685Z"
   },
   {
    "duration": 313,
    "start_time": "2023-09-21T12:39:26.719Z"
   },
   {
    "duration": 16,
    "start_time": "2023-09-21T12:39:27.034Z"
   },
   {
    "duration": 312,
    "start_time": "2023-09-21T12:39:27.055Z"
   },
   {
    "duration": 8,
    "start_time": "2023-09-21T12:39:27.369Z"
   },
   {
    "duration": 324,
    "start_time": "2023-09-21T12:39:27.382Z"
   },
   {
    "duration": 7,
    "start_time": "2023-09-21T12:39:27.707Z"
   },
   {
    "duration": 48,
    "start_time": "2023-09-21T12:39:27.715Z"
   },
   {
    "duration": 309,
    "start_time": "2023-09-21T12:39:27.765Z"
   },
   {
    "duration": 388,
    "start_time": "2023-09-21T12:39:28.076Z"
   },
   {
    "duration": 4,
    "start_time": "2023-09-21T12:39:28.466Z"
   },
   {
    "duration": 677,
    "start_time": "2023-09-21T12:39:28.472Z"
   },
   {
    "duration": 6,
    "start_time": "2023-09-21T12:39:29.151Z"
   },
   {
    "duration": 407,
    "start_time": "2023-09-21T12:39:29.162Z"
   },
   {
    "duration": 6,
    "start_time": "2023-09-21T12:39:29.570Z"
   },
   {
    "duration": 99,
    "start_time": "2023-09-21T12:39:29.577Z"
   },
   {
    "duration": 5,
    "start_time": "2023-09-21T12:39:29.677Z"
   },
   {
    "duration": 287,
    "start_time": "2023-09-21T12:39:29.684Z"
   },
   {
    "duration": 5,
    "start_time": "2023-09-21T12:39:29.973Z"
   },
   {
    "duration": 186,
    "start_time": "2023-09-21T12:39:29.979Z"
   },
   {
    "duration": 8,
    "start_time": "2023-09-21T12:39:30.166Z"
   },
   {
    "duration": 334,
    "start_time": "2023-09-21T12:39:30.175Z"
   },
   {
    "duration": 288,
    "start_time": "2023-09-21T12:39:30.511Z"
   },
   {
    "duration": 306,
    "start_time": "2023-09-21T12:39:30.801Z"
   },
   {
    "duration": 17,
    "start_time": "2023-09-21T12:39:31.108Z"
   },
   {
    "duration": 82,
    "start_time": "2023-09-21T12:39:31.127Z"
   },
   {
    "duration": 63,
    "start_time": "2023-09-21T12:39:31.210Z"
   },
   {
    "duration": 46,
    "start_time": "2023-09-21T12:39:31.275Z"
   },
   {
    "duration": 164,
    "start_time": "2023-09-21T12:39:31.323Z"
   },
   {
    "duration": 18,
    "start_time": "2023-09-21T12:39:31.489Z"
   },
   {
    "duration": 141,
    "start_time": "2023-09-21T12:39:31.508Z"
   },
   {
    "duration": 18,
    "start_time": "2023-09-21T12:39:31.651Z"
   },
   {
    "duration": 257,
    "start_time": "2023-09-21T12:39:31.671Z"
   },
   {
    "duration": 33,
    "start_time": "2023-09-21T12:39:31.930Z"
   },
   {
    "duration": 189,
    "start_time": "2023-09-21T12:39:31.965Z"
   },
   {
    "duration": 17,
    "start_time": "2023-09-21T12:39:32.159Z"
   },
   {
    "duration": 215,
    "start_time": "2023-09-21T12:39:32.177Z"
   },
   {
    "duration": 17,
    "start_time": "2023-09-21T12:39:32.394Z"
   },
   {
    "duration": 178,
    "start_time": "2023-09-21T12:39:32.413Z"
   },
   {
    "duration": 20,
    "start_time": "2023-09-21T12:39:32.593Z"
   },
   {
    "duration": 295,
    "start_time": "2023-09-21T12:39:32.615Z"
   },
   {
    "duration": 18,
    "start_time": "2023-09-21T12:39:32.912Z"
   },
   {
    "duration": 150,
    "start_time": "2023-09-21T12:39:32.932Z"
   },
   {
    "duration": 20,
    "start_time": "2023-09-21T12:39:33.084Z"
   },
   {
    "duration": 141,
    "start_time": "2023-09-21T12:39:33.106Z"
   },
   {
    "duration": 10,
    "start_time": "2023-09-21T12:39:33.254Z"
   },
   {
    "duration": 30,
    "start_time": "2023-09-21T12:39:33.265Z"
   },
   {
    "duration": 19,
    "start_time": "2023-09-21T12:41:40.902Z"
   },
   {
    "duration": 25,
    "start_time": "2023-09-21T12:42:44.427Z"
   },
   {
    "duration": 4,
    "start_time": "2023-09-21T12:43:06.382Z"
   },
   {
    "duration": 174,
    "start_time": "2023-09-21T12:43:06.389Z"
   },
   {
    "duration": 13,
    "start_time": "2023-09-21T12:43:06.565Z"
   },
   {
    "duration": 32,
    "start_time": "2023-09-21T12:43:06.580Z"
   },
   {
    "duration": 10,
    "start_time": "2023-09-21T12:43:06.614Z"
   },
   {
    "duration": 45,
    "start_time": "2023-09-21T12:43:06.625Z"
   },
   {
    "duration": 55,
    "start_time": "2023-09-21T12:43:06.672Z"
   },
   {
    "duration": 39,
    "start_time": "2023-09-21T12:43:06.729Z"
   },
   {
    "duration": 95,
    "start_time": "2023-09-21T12:43:06.770Z"
   },
   {
    "duration": 20,
    "start_time": "2023-09-21T12:43:06.867Z"
   },
   {
    "duration": 11,
    "start_time": "2023-09-21T12:43:06.889Z"
   },
   {
    "duration": 11,
    "start_time": "2023-09-21T12:43:06.901Z"
   },
   {
    "duration": 44,
    "start_time": "2023-09-21T12:43:06.913Z"
   },
   {
    "duration": 226,
    "start_time": "2023-09-21T12:43:06.960Z"
   },
   {
    "duration": 25,
    "start_time": "2023-09-21T12:43:07.188Z"
   },
   {
    "duration": 15,
    "start_time": "2023-09-21T12:43:07.215Z"
   },
   {
    "duration": 33,
    "start_time": "2023-09-21T12:43:07.232Z"
   },
   {
    "duration": 24,
    "start_time": "2023-09-21T12:43:07.267Z"
   },
   {
    "duration": 8,
    "start_time": "2023-09-21T12:43:07.292Z"
   },
   {
    "duration": 25,
    "start_time": "2023-09-21T12:43:07.302Z"
   },
   {
    "duration": 36,
    "start_time": "2023-09-21T12:43:07.328Z"
   },
   {
    "duration": 43,
    "start_time": "2023-09-21T12:43:07.366Z"
   },
   {
    "duration": 23,
    "start_time": "2023-09-21T12:43:07.411Z"
   },
   {
    "duration": 26,
    "start_time": "2023-09-21T12:43:07.436Z"
   },
   {
    "duration": 305,
    "start_time": "2023-09-21T12:43:07.464Z"
   },
   {
    "duration": 8,
    "start_time": "2023-09-21T12:43:07.770Z"
   },
   {
    "duration": 312,
    "start_time": "2023-09-21T12:43:07.780Z"
   },
   {
    "duration": 6,
    "start_time": "2023-09-21T12:43:08.094Z"
   },
   {
    "duration": 434,
    "start_time": "2023-09-21T12:43:08.103Z"
   },
   {
    "duration": 24,
    "start_time": "2023-09-21T12:43:08.538Z"
   },
   {
    "duration": 35,
    "start_time": "2023-09-21T12:43:08.564Z"
   },
   {
    "duration": 163,
    "start_time": "2023-09-21T12:43:08.601Z"
   },
   {
    "duration": 158,
    "start_time": "2023-09-21T12:43:08.767Z"
   },
   {
    "duration": 4,
    "start_time": "2023-09-21T12:43:08.927Z"
   },
   {
    "duration": 167,
    "start_time": "2023-09-21T12:43:08.932Z"
   },
   {
    "duration": 5,
    "start_time": "2023-09-21T12:43:09.101Z"
   },
   {
    "duration": 167,
    "start_time": "2023-09-21T12:43:09.108Z"
   },
   {
    "duration": 5,
    "start_time": "2023-09-21T12:43:09.277Z"
   },
   {
    "duration": 41,
    "start_time": "2023-09-21T12:43:09.284Z"
   },
   {
    "duration": 5,
    "start_time": "2023-09-21T12:43:09.327Z"
   },
   {
    "duration": 158,
    "start_time": "2023-09-21T12:43:09.346Z"
   },
   {
    "duration": 5,
    "start_time": "2023-09-21T12:43:09.506Z"
   },
   {
    "duration": 196,
    "start_time": "2023-09-21T12:43:09.513Z"
   },
   {
    "duration": 9,
    "start_time": "2023-09-21T12:43:09.711Z"
   },
   {
    "duration": 297,
    "start_time": "2023-09-21T12:43:09.721Z"
   },
   {
    "duration": 286,
    "start_time": "2023-09-21T12:43:10.020Z"
   },
   {
    "duration": 313,
    "start_time": "2023-09-21T12:43:10.308Z"
   },
   {
    "duration": 33,
    "start_time": "2023-09-21T12:43:10.622Z"
   },
   {
    "duration": 16,
    "start_time": "2023-09-21T12:43:10.661Z"
   },
   {
    "duration": 146,
    "start_time": "2023-09-21T12:43:10.679Z"
   },
   {
    "duration": 37,
    "start_time": "2023-09-21T12:43:10.827Z"
   },
   {
    "duration": 118,
    "start_time": "2023-09-21T12:43:10.866Z"
   },
   {
    "duration": 17,
    "start_time": "2023-09-21T12:43:10.986Z"
   },
   {
    "duration": 154,
    "start_time": "2023-09-21T12:43:11.005Z"
   },
   {
    "duration": 19,
    "start_time": "2023-09-21T12:43:11.161Z"
   },
   {
    "duration": 23,
    "start_time": "2023-09-21T12:43:11.182Z"
   },
   {
    "duration": 21,
    "start_time": "2023-09-21T12:43:11.206Z"
   },
   {
    "duration": 20,
    "start_time": "2023-09-21T12:43:11.245Z"
   },
   {
    "duration": 174,
    "start_time": "2023-09-21T12:43:11.267Z"
   },
   {
    "duration": 24,
    "start_time": "2023-09-21T12:43:11.444Z"
   },
   {
    "duration": 145,
    "start_time": "2023-09-21T12:43:11.469Z"
   },
   {
    "duration": 28,
    "start_time": "2023-09-21T12:43:11.616Z"
   },
   {
    "duration": 142,
    "start_time": "2023-09-21T12:43:11.648Z"
   },
   {
    "duration": 16,
    "start_time": "2023-09-21T12:43:11.791Z"
   },
   {
    "duration": 130,
    "start_time": "2023-09-21T12:43:11.808Z"
   },
   {
    "duration": 25,
    "start_time": "2023-09-21T12:43:11.946Z"
   },
   {
    "duration": 117,
    "start_time": "2023-09-21T12:43:11.973Z"
   },
   {
    "duration": 15,
    "start_time": "2023-09-21T12:43:12.092Z"
   },
   {
    "duration": 143,
    "start_time": "2023-09-21T12:43:12.108Z"
   },
   {
    "duration": 9,
    "start_time": "2023-09-21T12:43:12.256Z"
   },
   {
    "duration": 41,
    "start_time": "2023-09-21T12:43:12.267Z"
   },
   {
    "duration": 95,
    "start_time": "2023-09-21T13:22:37.859Z"
   },
   {
    "duration": 9,
    "start_time": "2023-09-21T13:22:41.224Z"
   },
   {
    "duration": 10,
    "start_time": "2023-09-21T13:23:04.507Z"
   },
   {
    "duration": 319,
    "start_time": "2023-09-21T13:23:10.139Z"
   },
   {
    "duration": 345,
    "start_time": "2023-09-21T13:24:36.032Z"
   },
   {
    "duration": 265,
    "start_time": "2023-09-21T13:25:09.906Z"
   },
   {
    "duration": 391,
    "start_time": "2023-09-21T13:40:14.354Z"
   },
   {
    "duration": 336,
    "start_time": "2023-09-21T13:41:01.104Z"
   },
   {
    "duration": 339,
    "start_time": "2023-09-21T13:41:27.470Z"
   },
   {
    "duration": 2034,
    "start_time": "2023-09-21T13:42:11.713Z"
   },
   {
    "duration": 1869,
    "start_time": "2023-09-21T13:42:26.125Z"
   },
   {
    "duration": 2238,
    "start_time": "2023-09-21T13:42:32.918Z"
   },
   {
    "duration": 497,
    "start_time": "2023-09-21T13:43:08.193Z"
   },
   {
    "duration": 480,
    "start_time": "2023-09-21T13:43:29.245Z"
   },
   {
    "duration": 494,
    "start_time": "2023-09-21T13:43:35.790Z"
   },
   {
    "duration": 503,
    "start_time": "2023-09-21T13:43:43.883Z"
   },
   {
    "duration": 670,
    "start_time": "2023-09-21T13:45:04.513Z"
   },
   {
    "duration": 565,
    "start_time": "2023-09-21T13:45:32.142Z"
   },
   {
    "duration": 533,
    "start_time": "2023-09-21T13:45:41.495Z"
   },
   {
    "duration": 557,
    "start_time": "2023-09-21T13:45:47.348Z"
   },
   {
    "duration": 668,
    "start_time": "2023-09-21T13:45:54.283Z"
   },
   {
    "duration": 677,
    "start_time": "2023-09-21T13:46:05.529Z"
   },
   {
    "duration": 661,
    "start_time": "2023-09-21T13:46:14.136Z"
   },
   {
    "duration": 648,
    "start_time": "2023-09-21T13:46:38.442Z"
   },
   {
    "duration": 617,
    "start_time": "2023-09-21T13:46:49.467Z"
   },
   {
    "duration": 614,
    "start_time": "2023-09-21T13:52:51.010Z"
   },
   {
    "duration": 612,
    "start_time": "2023-09-21T13:53:07.391Z"
   },
   {
    "duration": 934,
    "start_time": "2023-09-21T13:53:19.105Z"
   },
   {
    "duration": 558,
    "start_time": "2023-09-21T13:53:43.776Z"
   },
   {
    "duration": 552,
    "start_time": "2023-09-21T14:03:40.254Z"
   },
   {
    "duration": 553,
    "start_time": "2023-09-21T14:04:09.414Z"
   },
   {
    "duration": 291,
    "start_time": "2023-09-21T14:05:13.415Z"
   },
   {
    "duration": 609,
    "start_time": "2023-09-21T14:05:22.356Z"
   },
   {
    "duration": 3,
    "start_time": "2023-09-21T14:53:13.929Z"
   },
   {
    "duration": 72,
    "start_time": "2023-09-21T14:53:13.935Z"
   },
   {
    "duration": 13,
    "start_time": "2023-09-21T14:53:14.009Z"
   },
   {
    "duration": 16,
    "start_time": "2023-09-21T14:53:14.023Z"
   },
   {
    "duration": 9,
    "start_time": "2023-09-21T14:53:14.041Z"
   },
   {
    "duration": 51,
    "start_time": "2023-09-21T14:53:14.052Z"
   },
   {
    "duration": 58,
    "start_time": "2023-09-21T14:53:14.104Z"
   },
   {
    "duration": 16,
    "start_time": "2023-09-21T14:53:14.164Z"
   },
   {
    "duration": 24,
    "start_time": "2023-09-21T14:53:14.182Z"
   },
   {
    "duration": 20,
    "start_time": "2023-09-21T14:53:14.207Z"
   },
   {
    "duration": 24,
    "start_time": "2023-09-21T14:53:14.230Z"
   },
   {
    "duration": 12,
    "start_time": "2023-09-21T14:53:14.256Z"
   },
   {
    "duration": 8,
    "start_time": "2023-09-21T14:53:14.270Z"
   },
   {
    "duration": 181,
    "start_time": "2023-09-21T14:53:14.279Z"
   },
   {
    "duration": 32,
    "start_time": "2023-09-21T14:53:14.463Z"
   },
   {
    "duration": 12,
    "start_time": "2023-09-21T14:53:14.497Z"
   },
   {
    "duration": 8,
    "start_time": "2023-09-21T14:53:14.511Z"
   },
   {
    "duration": 7,
    "start_time": "2023-09-21T14:53:14.543Z"
   },
   {
    "duration": 11,
    "start_time": "2023-09-21T14:53:14.553Z"
   },
   {
    "duration": 12,
    "start_time": "2023-09-21T14:53:14.566Z"
   },
   {
    "duration": 20,
    "start_time": "2023-09-21T14:53:14.580Z"
   },
   {
    "duration": 21,
    "start_time": "2023-09-21T14:53:14.603Z"
   },
   {
    "duration": 26,
    "start_time": "2023-09-21T14:53:14.626Z"
   },
   {
    "duration": 14,
    "start_time": "2023-09-21T14:53:14.653Z"
   },
   {
    "duration": 403,
    "start_time": "2023-09-21T14:53:14.669Z"
   },
   {
    "duration": 8,
    "start_time": "2023-09-21T14:53:15.074Z"
   },
   {
    "duration": 308,
    "start_time": "2023-09-21T14:53:15.084Z"
   },
   {
    "duration": 7,
    "start_time": "2023-09-21T14:53:15.394Z"
   },
   {
    "duration": 296,
    "start_time": "2023-09-21T14:53:15.404Z"
   },
   {
    "duration": 7,
    "start_time": "2023-09-21T14:53:15.702Z"
   },
   {
    "duration": 34,
    "start_time": "2023-09-21T14:53:15.710Z"
   },
   {
    "duration": 162,
    "start_time": "2023-09-21T14:53:15.746Z"
   },
   {
    "duration": 159,
    "start_time": "2023-09-21T14:53:15.909Z"
   },
   {
    "duration": 4,
    "start_time": "2023-09-21T14:53:16.070Z"
   },
   {
    "duration": 174,
    "start_time": "2023-09-21T14:53:16.076Z"
   },
   {
    "duration": 5,
    "start_time": "2023-09-21T14:53:16.252Z"
   },
   {
    "duration": 153,
    "start_time": "2023-09-21T14:53:16.259Z"
   },
   {
    "duration": 5,
    "start_time": "2023-09-21T14:53:16.413Z"
   },
   {
    "duration": 52,
    "start_time": "2023-09-21T14:53:16.420Z"
   },
   {
    "duration": 4,
    "start_time": "2023-09-21T14:53:16.473Z"
   },
   {
    "duration": 142,
    "start_time": "2023-09-21T14:53:16.479Z"
   },
   {
    "duration": 5,
    "start_time": "2023-09-21T14:53:16.622Z"
   },
   {
    "duration": 162,
    "start_time": "2023-09-21T14:53:16.629Z"
   },
   {
    "duration": 7,
    "start_time": "2023-09-21T14:53:16.792Z"
   },
   {
    "duration": 419,
    "start_time": "2023-09-21T14:53:16.801Z"
   },
   {
    "duration": 273,
    "start_time": "2023-09-21T14:53:17.221Z"
   },
   {
    "duration": 198,
    "start_time": "2023-09-21T14:53:17.496Z"
   },
   {
    "duration": 17,
    "start_time": "2023-09-21T14:53:17.695Z"
   },
   {
    "duration": 38,
    "start_time": "2023-09-21T14:53:17.713Z"
   },
   {
    "duration": 129,
    "start_time": "2023-09-21T14:53:17.752Z"
   },
   {
    "duration": 16,
    "start_time": "2023-09-21T14:53:17.883Z"
   },
   {
    "duration": 141,
    "start_time": "2023-09-21T14:53:17.900Z"
   },
   {
    "duration": 19,
    "start_time": "2023-09-21T14:53:18.044Z"
   },
   {
    "duration": 134,
    "start_time": "2023-09-21T14:53:18.065Z"
   },
   {
    "duration": 20,
    "start_time": "2023-09-21T14:53:18.201Z"
   },
   {
    "duration": 34,
    "start_time": "2023-09-21T14:53:18.223Z"
   },
   {
    "duration": 57,
    "start_time": "2023-09-21T14:53:18.259Z"
   },
   {
    "duration": 584,
    "start_time": "2023-09-21T14:53:18.318Z"
   },
   {
    "duration": 17,
    "start_time": "2023-09-21T14:53:18.904Z"
   },
   {
    "duration": 141,
    "start_time": "2023-09-21T14:53:18.922Z"
   },
   {
    "duration": 17,
    "start_time": "2023-09-21T14:53:19.065Z"
   },
   {
    "duration": 128,
    "start_time": "2023-09-21T14:53:19.084Z"
   },
   {
    "duration": 20,
    "start_time": "2023-09-21T14:53:19.214Z"
   },
   {
    "duration": 117,
    "start_time": "2023-09-21T14:53:19.244Z"
   },
   {
    "duration": 16,
    "start_time": "2023-09-21T14:53:19.363Z"
   },
   {
    "duration": 144,
    "start_time": "2023-09-21T14:53:19.380Z"
   },
   {
    "duration": 18,
    "start_time": "2023-09-21T14:53:19.526Z"
   },
   {
    "duration": 233,
    "start_time": "2023-09-21T14:53:19.546Z"
   },
   {
    "duration": 16,
    "start_time": "2023-09-21T14:53:19.781Z"
   },
   {
    "duration": 118,
    "start_time": "2023-09-21T14:53:19.798Z"
   },
   {
    "duration": 7,
    "start_time": "2023-09-21T14:53:19.918Z"
   },
   {
    "duration": 24,
    "start_time": "2023-09-21T14:53:19.927Z"
   },
   {
    "duration": 18,
    "start_time": "2023-09-21T15:00:01.874Z"
   },
   {
    "duration": 17,
    "start_time": "2023-09-21T15:00:14.807Z"
   },
   {
    "duration": 18,
    "start_time": "2023-09-21T15:51:18.414Z"
   },
   {
    "duration": 18,
    "start_time": "2023-09-21T15:52:35.954Z"
   },
   {
    "duration": 628,
    "start_time": "2023-09-21T15:59:40.265Z"
   },
   {
    "duration": 647,
    "start_time": "2023-09-21T16:23:15.403Z"
   },
   {
    "duration": 605,
    "start_time": "2023-09-21T16:23:38.215Z"
   },
   {
    "duration": 105,
    "start_time": "2023-09-21T16:24:08.719Z"
   },
   {
    "duration": 22,
    "start_time": "2023-09-21T16:24:17.527Z"
   },
   {
    "duration": 591,
    "start_time": "2023-09-21T16:24:41.063Z"
   },
   {
    "duration": 871,
    "start_time": "2023-09-21T16:27:29.771Z"
   },
   {
    "duration": 613,
    "start_time": "2023-09-21T16:27:47.787Z"
   },
   {
    "duration": 282,
    "start_time": "2023-09-21T16:31:31.432Z"
   },
   {
    "duration": 614,
    "start_time": "2023-09-21T16:31:46.582Z"
   },
   {
    "duration": 712,
    "start_time": "2023-09-21T16:33:44.646Z"
   },
   {
    "duration": 679,
    "start_time": "2023-09-21T16:35:19.008Z"
   },
   {
    "duration": 1140,
    "start_time": "2023-09-21T16:35:25.362Z"
   },
   {
    "duration": 691,
    "start_time": "2023-09-21T16:35:38.375Z"
   },
   {
    "duration": 718,
    "start_time": "2023-09-21T16:35:48.198Z"
   },
   {
    "duration": 682,
    "start_time": "2023-09-21T16:36:09.146Z"
   },
   {
    "duration": 729,
    "start_time": "2023-09-21T16:36:22.357Z"
   },
   {
    "duration": 844,
    "start_time": "2023-09-21T16:36:27.755Z"
   },
   {
    "duration": 653,
    "start_time": "2023-09-21T17:48:00.570Z"
   },
   {
    "duration": 304,
    "start_time": "2023-09-21T17:49:27.055Z"
   },
   {
    "duration": 374,
    "start_time": "2023-09-21T17:49:39.881Z"
   },
   {
    "duration": 683,
    "start_time": "2023-09-21T17:50:15.631Z"
   },
   {
    "duration": 754,
    "start_time": "2023-09-21T18:08:14.267Z"
   },
   {
    "duration": 624,
    "start_time": "2023-09-21T18:09:18.716Z"
   },
   {
    "duration": 331,
    "start_time": "2023-09-21T18:09:31.471Z"
   },
   {
    "duration": 341,
    "start_time": "2023-09-21T18:09:49.266Z"
   },
   {
    "duration": 1396,
    "start_time": "2023-09-21T20:30:14.374Z"
   },
   {
    "duration": 221,
    "start_time": "2023-09-21T20:30:15.774Z"
   },
   {
    "duration": 15,
    "start_time": "2023-09-21T20:30:15.997Z"
   },
   {
    "duration": 16,
    "start_time": "2023-09-21T20:30:16.014Z"
   },
   {
    "duration": 4,
    "start_time": "2023-09-21T20:30:16.031Z"
   },
   {
    "duration": 37,
    "start_time": "2023-09-21T20:30:16.036Z"
   },
   {
    "duration": 31,
    "start_time": "2023-09-21T20:30:16.075Z"
   },
   {
    "duration": 13,
    "start_time": "2023-09-21T20:30:16.108Z"
   },
   {
    "duration": 14,
    "start_time": "2023-09-21T20:30:16.123Z"
   },
   {
    "duration": 27,
    "start_time": "2023-09-21T20:30:16.139Z"
   },
   {
    "duration": 18,
    "start_time": "2023-09-21T20:30:16.168Z"
   },
   {
    "duration": 9,
    "start_time": "2023-09-21T20:30:16.188Z"
   },
   {
    "duration": 9,
    "start_time": "2023-09-21T20:30:16.199Z"
   },
   {
    "duration": 203,
    "start_time": "2023-09-21T20:30:16.210Z"
   },
   {
    "duration": 52,
    "start_time": "2023-09-21T20:30:16.415Z"
   },
   {
    "duration": 10,
    "start_time": "2023-09-21T20:30:16.471Z"
   },
   {
    "duration": 12,
    "start_time": "2023-09-21T20:30:16.482Z"
   },
   {
    "duration": 9,
    "start_time": "2023-09-21T20:30:16.495Z"
   },
   {
    "duration": 5,
    "start_time": "2023-09-21T20:30:16.506Z"
   },
   {
    "duration": 6,
    "start_time": "2023-09-21T20:30:16.513Z"
   },
   {
    "duration": 12,
    "start_time": "2023-09-21T20:30:16.520Z"
   },
   {
    "duration": 17,
    "start_time": "2023-09-21T20:30:16.533Z"
   },
   {
    "duration": 38,
    "start_time": "2023-09-21T20:30:16.552Z"
   },
   {
    "duration": 14,
    "start_time": "2023-09-21T20:30:16.592Z"
   },
   {
    "duration": 307,
    "start_time": "2023-09-21T20:30:16.608Z"
   },
   {
    "duration": 9,
    "start_time": "2023-09-21T20:30:16.917Z"
   },
   {
    "duration": 381,
    "start_time": "2023-09-21T20:30:16.928Z"
   },
   {
    "duration": 7,
    "start_time": "2023-09-21T20:30:17.314Z"
   },
   {
    "duration": 315,
    "start_time": "2023-09-21T20:30:17.323Z"
   },
   {
    "duration": 6,
    "start_time": "2023-09-21T20:30:17.640Z"
   },
   {
    "duration": 27,
    "start_time": "2023-09-21T20:30:17.657Z"
   },
   {
    "duration": 171,
    "start_time": "2023-09-21T20:30:17.685Z"
   },
   {
    "duration": 185,
    "start_time": "2023-09-21T20:30:17.858Z"
   },
   {
    "duration": 19,
    "start_time": "2023-09-21T20:30:18.045Z"
   },
   {
    "duration": 155,
    "start_time": "2023-09-21T20:30:18.068Z"
   },
   {
    "duration": 5,
    "start_time": "2023-09-21T20:30:18.225Z"
   },
   {
    "duration": 167,
    "start_time": "2023-09-21T20:30:18.232Z"
   },
   {
    "duration": 4,
    "start_time": "2023-09-21T20:30:18.401Z"
   },
   {
    "duration": 50,
    "start_time": "2023-09-21T20:30:18.407Z"
   },
   {
    "duration": 8,
    "start_time": "2023-09-21T20:30:18.460Z"
   },
   {
    "duration": 264,
    "start_time": "2023-09-21T20:30:18.470Z"
   },
   {
    "duration": 5,
    "start_time": "2023-09-21T20:30:18.736Z"
   },
   {
    "duration": 209,
    "start_time": "2023-09-21T20:30:18.742Z"
   },
   {
    "duration": 11,
    "start_time": "2023-09-21T20:30:18.953Z"
   },
   {
    "duration": 337,
    "start_time": "2023-09-21T20:30:18.966Z"
   },
   {
    "duration": 290,
    "start_time": "2023-09-21T20:30:19.305Z"
   },
   {
    "duration": 211,
    "start_time": "2023-09-21T20:30:19.597Z"
   },
   {
    "duration": 16,
    "start_time": "2023-09-21T20:30:19.810Z"
   },
   {
    "duration": 31,
    "start_time": "2023-09-21T20:30:19.827Z"
   },
   {
    "duration": 137,
    "start_time": "2023-09-21T20:30:19.860Z"
   },
   {
    "duration": 16,
    "start_time": "2023-09-21T20:30:19.999Z"
   },
   {
    "duration": 129,
    "start_time": "2023-09-21T20:30:20.017Z"
   },
   {
    "duration": 29,
    "start_time": "2023-09-21T20:30:20.148Z"
   },
   {
    "duration": 130,
    "start_time": "2023-09-21T20:30:20.179Z"
   },
   {
    "duration": 18,
    "start_time": "2023-09-21T20:30:20.311Z"
   },
   {
    "duration": 34,
    "start_time": "2023-09-21T20:30:20.331Z"
   },
   {
    "duration": 57,
    "start_time": "2023-09-21T20:30:20.367Z"
   },
   {
    "duration": 422,
    "start_time": "2023-09-21T20:30:20.425Z"
   },
   {
    "duration": 23,
    "start_time": "2023-09-21T20:30:20.856Z"
   },
   {
    "duration": 139,
    "start_time": "2023-09-21T20:30:20.881Z"
   },
   {
    "duration": 16,
    "start_time": "2023-09-21T20:30:21.022Z"
   },
   {
    "duration": 148,
    "start_time": "2023-09-21T20:30:21.040Z"
   },
   {
    "duration": 22,
    "start_time": "2023-09-21T20:30:21.190Z"
   },
   {
    "duration": 144,
    "start_time": "2023-09-21T20:30:21.213Z"
   },
   {
    "duration": 23,
    "start_time": "2023-09-21T20:30:21.360Z"
   },
   {
    "duration": 44,
    "start_time": "2023-09-21T20:30:21.385Z"
   },
   {
    "duration": 21,
    "start_time": "2023-09-21T20:30:21.431Z"
   },
   {
    "duration": 358,
    "start_time": "2023-09-21T20:30:21.455Z"
   },
   {
    "duration": 16,
    "start_time": "2023-09-21T20:30:21.815Z"
   },
   {
    "duration": 144,
    "start_time": "2023-09-21T20:30:21.833Z"
   },
   {
    "duration": 17,
    "start_time": "2023-09-21T20:30:21.979Z"
   },
   {
    "duration": 150,
    "start_time": "2023-09-21T20:30:21.998Z"
   },
   {
    "duration": 27,
    "start_time": "2023-09-21T20:30:22.150Z"
   },
   {
    "duration": 136,
    "start_time": "2023-09-21T20:30:22.179Z"
   },
   {
    "duration": 8,
    "start_time": "2023-09-21T20:30:22.316Z"
   },
   {
    "duration": 9,
    "start_time": "2023-09-21T20:30:22.326Z"
   },
   {
    "duration": 406,
    "start_time": "2023-09-21T20:31:18.072Z"
   },
   {
    "duration": 458,
    "start_time": "2023-09-21T20:31:40.594Z"
   },
   {
    "duration": 349,
    "start_time": "2023-09-21T20:32:07.627Z"
   },
   {
    "duration": 407,
    "start_time": "2023-09-21T20:32:57.877Z"
   },
   {
    "duration": 13,
    "start_time": "2023-09-21T21:05:50.411Z"
   },
   {
    "duration": 1568,
    "start_time": "2023-09-21T21:06:17.574Z"
   },
   {
    "duration": 1609,
    "start_time": "2023-09-21T21:07:06.885Z"
   },
   {
    "duration": 1553,
    "start_time": "2023-09-21T21:07:14.347Z"
   },
   {
    "duration": 14,
    "start_time": "2023-09-21T21:07:47.182Z"
   },
   {
    "duration": 5,
    "start_time": "2023-09-21T21:07:52.078Z"
   },
   {
    "duration": 90,
    "start_time": "2023-09-21T21:07:52.085Z"
   },
   {
    "duration": 15,
    "start_time": "2023-09-21T21:07:52.183Z"
   },
   {
    "duration": 17,
    "start_time": "2023-09-21T21:07:52.200Z"
   },
   {
    "duration": 12,
    "start_time": "2023-09-21T21:07:52.218Z"
   },
   {
    "duration": 50,
    "start_time": "2023-09-21T21:07:52.232Z"
   },
   {
    "duration": 29,
    "start_time": "2023-09-21T21:07:52.284Z"
   },
   {
    "duration": 15,
    "start_time": "2023-09-21T21:07:52.315Z"
   },
   {
    "duration": 35,
    "start_time": "2023-09-21T21:07:52.358Z"
   },
   {
    "duration": 12,
    "start_time": "2023-09-21T21:07:52.395Z"
   },
   {
    "duration": 23,
    "start_time": "2023-09-21T21:07:52.409Z"
   },
   {
    "duration": 16,
    "start_time": "2023-09-21T21:07:52.433Z"
   },
   {
    "duration": 30,
    "start_time": "2023-09-21T21:07:52.451Z"
   },
   {
    "duration": 203,
    "start_time": "2023-09-21T21:07:52.483Z"
   },
   {
    "duration": 30,
    "start_time": "2023-09-21T21:07:52.688Z"
   },
   {
    "duration": 17,
    "start_time": "2023-09-21T21:07:52.720Z"
   },
   {
    "duration": 41,
    "start_time": "2023-09-21T21:07:52.739Z"
   },
   {
    "duration": 6,
    "start_time": "2023-09-21T21:07:52.783Z"
   },
   {
    "duration": 17,
    "start_time": "2023-09-21T21:07:52.790Z"
   },
   {
    "duration": 18,
    "start_time": "2023-09-21T21:07:52.809Z"
   },
   {
    "duration": 16,
    "start_time": "2023-09-21T21:07:52.829Z"
   },
   {
    "duration": 27,
    "start_time": "2023-09-21T21:07:52.846Z"
   },
   {
    "duration": 28,
    "start_time": "2023-09-21T21:07:52.876Z"
   },
   {
    "duration": 39,
    "start_time": "2023-09-21T21:07:52.909Z"
   },
   {
    "duration": 328,
    "start_time": "2023-09-21T21:07:52.950Z"
   },
   {
    "duration": 12,
    "start_time": "2023-09-21T21:07:53.281Z"
   },
   {
    "duration": 356,
    "start_time": "2023-09-21T21:07:53.295Z"
   },
   {
    "duration": 10,
    "start_time": "2023-09-21T21:07:53.658Z"
   },
   {
    "duration": 354,
    "start_time": "2023-09-21T21:07:53.671Z"
   },
   {
    "duration": 7,
    "start_time": "2023-09-21T21:07:54.027Z"
   },
   {
    "duration": 47,
    "start_time": "2023-09-21T21:07:54.035Z"
   },
   {
    "duration": 318,
    "start_time": "2023-09-21T21:07:54.084Z"
   },
   {
    "duration": 207,
    "start_time": "2023-09-21T21:07:54.404Z"
   },
   {
    "duration": 4,
    "start_time": "2023-09-21T21:07:54.613Z"
   },
   {
    "duration": 225,
    "start_time": "2023-09-21T21:07:54.619Z"
   },
   {
    "duration": 34,
    "start_time": "2023-09-21T21:07:54.846Z"
   },
   {
    "duration": 162,
    "start_time": "2023-09-21T21:07:54.885Z"
   },
   {
    "duration": 15,
    "start_time": "2023-09-21T21:07:55.049Z"
   },
   {
    "duration": 43,
    "start_time": "2023-09-21T21:07:55.073Z"
   },
   {
    "duration": 5,
    "start_time": "2023-09-21T21:07:55.118Z"
   },
   {
    "duration": 170,
    "start_time": "2023-09-21T21:07:55.124Z"
   },
   {
    "duration": 6,
    "start_time": "2023-09-21T21:07:55.296Z"
   },
   {
    "duration": 206,
    "start_time": "2023-09-21T21:07:55.303Z"
   },
   {
    "duration": 8,
    "start_time": "2023-09-21T21:07:55.511Z"
   },
   {
    "duration": 666,
    "start_time": "2023-09-21T21:07:55.520Z"
   },
   {
    "duration": 795,
    "start_time": "2023-09-21T21:07:56.190Z"
   },
   {
    "duration": 605,
    "start_time": "2023-09-21T21:07:56.987Z"
   },
   {
    "duration": 80,
    "start_time": "2023-09-21T21:07:57.596Z"
   },
   {
    "duration": 624,
    "start_time": "2023-09-21T21:07:57.678Z"
   },
   {
    "duration": 80,
    "start_time": "2023-09-21T21:07:58.304Z"
   },
   {
    "duration": 208,
    "start_time": "2023-09-21T21:07:58.386Z"
   },
   {
    "duration": 18,
    "start_time": "2023-09-21T21:07:58.595Z"
   },
   {
    "duration": 191,
    "start_time": "2023-09-21T21:07:58.614Z"
   },
   {
    "duration": 34,
    "start_time": "2023-09-21T21:07:58.807Z"
   },
   {
    "duration": 35,
    "start_time": "2023-09-21T21:07:58.845Z"
   },
   {
    "duration": 32,
    "start_time": "2023-09-21T21:07:58.881Z"
   },
   {
    "duration": 408,
    "start_time": "2023-09-21T21:07:58.915Z"
   },
   {
    "duration": 18,
    "start_time": "2023-09-21T21:07:59.325Z"
   },
   {
    "duration": 160,
    "start_time": "2023-09-21T21:07:59.345Z"
   },
   {
    "duration": 17,
    "start_time": "2023-09-21T21:07:59.506Z"
   },
   {
    "duration": 166,
    "start_time": "2023-09-21T21:07:59.524Z"
   },
   {
    "duration": 16,
    "start_time": "2023-09-21T21:07:59.692Z"
   },
   {
    "duration": 136,
    "start_time": "2023-09-21T21:07:59.710Z"
   },
   {
    "duration": 38,
    "start_time": "2023-09-21T21:07:59.848Z"
   },
   {
    "duration": 17,
    "start_time": "2023-09-21T21:07:59.888Z"
   },
   {
    "duration": 29,
    "start_time": "2023-09-21T21:07:59.907Z"
   },
   {
    "duration": 399,
    "start_time": "2023-09-21T21:07:59.937Z"
   },
   {
    "duration": 36,
    "start_time": "2023-09-21T21:08:00.338Z"
   },
   {
    "duration": 160,
    "start_time": "2023-09-21T21:08:00.383Z"
   },
   {
    "duration": 43,
    "start_time": "2023-09-21T21:08:00.544Z"
   },
   {
    "duration": 300,
    "start_time": "2023-09-21T21:08:00.591Z"
   },
   {
    "duration": 19,
    "start_time": "2023-09-21T21:08:00.893Z"
   },
   {
    "duration": 180,
    "start_time": "2023-09-21T21:08:00.915Z"
   },
   {
    "duration": 8,
    "start_time": "2023-09-21T21:08:01.097Z"
   },
   {
    "duration": 37,
    "start_time": "2023-09-21T21:08:01.106Z"
   },
   {
    "duration": 339,
    "start_time": "2023-09-21T21:14:38.993Z"
   },
   {
    "duration": 265,
    "start_time": "2023-09-21T21:15:22.340Z"
   },
   {
    "duration": 322,
    "start_time": "2023-09-21T21:15:34.396Z"
   },
   {
    "duration": 257,
    "start_time": "2023-09-21T21:15:41.983Z"
   },
   {
    "duration": 310,
    "start_time": "2023-09-21T21:15:47.797Z"
   },
   {
    "duration": 302,
    "start_time": "2023-09-21T21:16:01.413Z"
   },
   {
    "duration": 343,
    "start_time": "2023-09-21T21:16:20.554Z"
   },
   {
    "duration": 283,
    "start_time": "2023-09-21T21:16:29.179Z"
   },
   {
    "duration": 344,
    "start_time": "2023-09-21T21:16:56.226Z"
   },
   {
    "duration": 454,
    "start_time": "2023-09-21T21:17:12.796Z"
   },
   {
    "duration": 296,
    "start_time": "2023-09-21T21:17:22.878Z"
   },
   {
    "duration": 314,
    "start_time": "2023-09-21T21:17:28.698Z"
   },
   {
    "duration": 319,
    "start_time": "2023-09-21T21:17:32.699Z"
   },
   {
    "duration": 341,
    "start_time": "2023-09-21T21:23:50.858Z"
   },
   {
    "duration": 287,
    "start_time": "2023-09-21T21:24:26.821Z"
   },
   {
    "duration": 320,
    "start_time": "2023-09-21T21:24:33.758Z"
   },
   {
    "duration": 1899,
    "start_time": "2023-09-22T15:59:53.868Z"
   },
   {
    "duration": 206,
    "start_time": "2023-09-22T15:59:55.769Z"
   },
   {
    "duration": 77,
    "start_time": "2023-09-22T15:59:55.977Z"
   },
   {
    "duration": 94,
    "start_time": "2023-09-22T15:59:56.057Z"
   },
   {
    "duration": 4,
    "start_time": "2023-09-22T15:59:56.153Z"
   },
   {
    "duration": 194,
    "start_time": "2023-09-22T15:59:56.159Z"
   },
   {
    "duration": 26,
    "start_time": "2023-09-22T15:59:56.355Z"
   },
   {
    "duration": 69,
    "start_time": "2023-09-22T15:59:56.383Z"
   },
   {
    "duration": 22,
    "start_time": "2023-09-22T15:59:56.454Z"
   },
   {
    "duration": 82,
    "start_time": "2023-09-22T15:59:56.480Z"
   },
   {
    "duration": 26,
    "start_time": "2023-09-22T15:59:56.564Z"
   },
   {
    "duration": 65,
    "start_time": "2023-09-22T15:59:56.593Z"
   },
   {
    "duration": 14,
    "start_time": "2023-09-22T15:59:56.660Z"
   },
   {
    "duration": 589,
    "start_time": "2023-09-22T15:59:56.676Z"
   },
   {
    "duration": 107,
    "start_time": "2023-09-22T15:59:57.268Z"
   },
   {
    "duration": 10,
    "start_time": "2023-09-22T15:59:57.377Z"
   },
   {
    "duration": 65,
    "start_time": "2023-09-22T15:59:57.388Z"
   },
   {
    "duration": 15,
    "start_time": "2023-09-22T15:59:57.455Z"
   },
   {
    "duration": 6,
    "start_time": "2023-09-22T15:59:57.471Z"
   },
   {
    "duration": 73,
    "start_time": "2023-09-22T15:59:57.478Z"
   },
   {
    "duration": 14,
    "start_time": "2023-09-22T15:59:57.552Z"
   },
   {
    "duration": 7,
    "start_time": "2023-09-22T15:59:57.567Z"
   },
   {
    "duration": 84,
    "start_time": "2023-09-22T15:59:57.576Z"
   },
   {
    "duration": 16,
    "start_time": "2023-09-22T15:59:57.661Z"
   },
   {
    "duration": 1113,
    "start_time": "2023-09-22T15:59:57.679Z"
   },
   {
    "duration": 65,
    "start_time": "2023-09-22T15:59:58.794Z"
   },
   {
    "duration": 798,
    "start_time": "2023-09-22T15:59:58.861Z"
   },
   {
    "duration": 7,
    "start_time": "2023-09-22T15:59:59.663Z"
   },
   {
    "duration": 508,
    "start_time": "2023-09-22T15:59:59.672Z"
   },
   {
    "duration": 6,
    "start_time": "2023-09-22T16:00:00.181Z"
   },
   {
    "duration": 1534,
    "start_time": "2023-09-22T16:00:00.188Z"
   },
   {
    "duration": 232,
    "start_time": "2023-09-22T16:00:01.724Z"
   },
   {
    "duration": 898,
    "start_time": "2023-09-22T16:00:01.958Z"
   },
   {
    "duration": 4,
    "start_time": "2023-09-22T16:00:02.858Z"
   },
   {
    "duration": 297,
    "start_time": "2023-09-22T16:00:02.863Z"
   },
   {
    "duration": 5,
    "start_time": "2023-09-22T16:00:03.161Z"
   },
   {
    "duration": 303,
    "start_time": "2023-09-22T16:00:03.167Z"
   },
   {
    "duration": 5,
    "start_time": "2023-09-22T16:00:03.471Z"
   },
   {
    "duration": 99,
    "start_time": "2023-09-22T16:00:03.477Z"
   },
   {
    "duration": 4,
    "start_time": "2023-09-22T16:00:03.578Z"
   },
   {
    "duration": 477,
    "start_time": "2023-09-22T16:00:03.584Z"
   },
   {
    "duration": 5,
    "start_time": "2023-09-22T16:00:04.062Z"
   },
   {
    "duration": 314,
    "start_time": "2023-09-22T16:00:04.069Z"
   },
   {
    "duration": 66,
    "start_time": "2023-09-22T16:00:04.385Z"
   },
   {
    "duration": 607,
    "start_time": "2023-09-22T16:00:04.453Z"
   },
   {
    "duration": 519,
    "start_time": "2023-09-22T16:00:05.062Z"
   },
   {
    "duration": 410,
    "start_time": "2023-09-22T16:00:05.583Z"
   },
   {
    "duration": 74,
    "start_time": "2023-09-22T16:00:05.995Z"
   },
   {
    "duration": 293,
    "start_time": "2023-09-22T16:00:06.071Z"
   },
   {
    "duration": 16,
    "start_time": "2023-09-22T16:00:06.367Z"
   },
   {
    "duration": 273,
    "start_time": "2023-09-22T16:00:06.385Z"
   },
   {
    "duration": 17,
    "start_time": "2023-09-22T16:00:06.660Z"
   },
   {
    "duration": 279,
    "start_time": "2023-09-22T16:00:06.679Z"
   },
   {
    "duration": 18,
    "start_time": "2023-09-22T16:00:06.960Z"
   },
   {
    "duration": 83,
    "start_time": "2023-09-22T16:00:06.980Z"
   },
   {
    "duration": 85,
    "start_time": "2023-09-22T16:00:07.065Z"
   },
   {
    "duration": 741,
    "start_time": "2023-09-22T16:00:07.152Z"
   },
   {
    "duration": 67,
    "start_time": "2023-09-22T16:00:07.895Z"
   },
   {
    "duration": 285,
    "start_time": "2023-09-22T16:00:07.965Z"
   },
   {
    "duration": 20,
    "start_time": "2023-09-22T16:00:08.251Z"
   },
   {
    "duration": 315,
    "start_time": "2023-09-22T16:00:08.273Z"
   },
   {
    "duration": 16,
    "start_time": "2023-09-22T16:00:08.649Z"
   },
   {
    "duration": 295,
    "start_time": "2023-09-22T16:00:08.667Z"
   },
   {
    "duration": 17,
    "start_time": "2023-09-22T16:00:08.964Z"
   },
   {
    "duration": 77,
    "start_time": "2023-09-22T16:00:08.983Z"
   },
   {
    "duration": 22,
    "start_time": "2023-09-22T16:00:09.063Z"
   },
   {
    "duration": 676,
    "start_time": "2023-09-22T16:00:09.087Z"
   },
   {
    "duration": 92,
    "start_time": "2023-09-22T16:00:09.765Z"
   },
   {
    "duration": 224,
    "start_time": "2023-09-22T16:00:09.859Z"
   },
   {
    "duration": 82,
    "start_time": "2023-09-22T16:00:10.085Z"
   },
   {
    "duration": 210,
    "start_time": "2023-09-22T16:00:10.169Z"
   },
   {
    "duration": 69,
    "start_time": "2023-09-22T16:00:10.381Z"
   },
   {
    "duration": 221,
    "start_time": "2023-09-22T16:00:10.452Z"
   },
   {
    "duration": 6,
    "start_time": "2023-09-22T16:00:10.675Z"
   },
   {
    "duration": 69,
    "start_time": "2023-09-22T16:00:10.683Z"
   },
   {
    "duration": 20,
    "start_time": "2023-09-22T17:06:58.924Z"
   },
   {
    "duration": 295,
    "start_time": "2023-09-22T17:45:39.049Z"
   },
   {
    "duration": 1124,
    "start_time": "2023-09-22T17:48:11.945Z"
   },
   {
    "duration": 68,
    "start_time": "2023-09-22T17:48:13.070Z"
   },
   {
    "duration": 12,
    "start_time": "2023-09-22T17:48:13.140Z"
   },
   {
    "duration": 13,
    "start_time": "2023-09-22T17:48:13.154Z"
   },
   {
    "duration": 5,
    "start_time": "2023-09-22T17:48:13.169Z"
   },
   {
    "duration": 20,
    "start_time": "2023-09-22T17:48:13.176Z"
   },
   {
    "duration": 34,
    "start_time": "2023-09-22T17:48:13.197Z"
   },
   {
    "duration": 11,
    "start_time": "2023-09-22T17:48:13.233Z"
   },
   {
    "duration": 16,
    "start_time": "2023-09-22T17:48:13.245Z"
   },
   {
    "duration": 18,
    "start_time": "2023-09-22T17:48:13.262Z"
   },
   {
    "duration": 9,
    "start_time": "2023-09-22T17:48:13.281Z"
   },
   {
    "duration": 19,
    "start_time": "2023-09-22T17:48:13.292Z"
   },
   {
    "duration": 5,
    "start_time": "2023-09-22T17:48:13.312Z"
   },
   {
    "duration": 168,
    "start_time": "2023-09-22T17:48:13.320Z"
   },
   {
    "duration": 21,
    "start_time": "2023-09-22T17:48:13.489Z"
   },
   {
    "duration": 10,
    "start_time": "2023-09-22T17:48:13.511Z"
   },
   {
    "duration": 6,
    "start_time": "2023-09-22T17:48:13.522Z"
   },
   {
    "duration": 23,
    "start_time": "2023-09-22T17:48:13.530Z"
   },
   {
    "duration": 8,
    "start_time": "2023-09-22T17:48:13.554Z"
   },
   {
    "duration": 23,
    "start_time": "2023-09-22T17:48:13.564Z"
   },
   {
    "duration": 29,
    "start_time": "2023-09-22T17:48:13.589Z"
   },
   {
    "duration": 12,
    "start_time": "2023-09-22T17:48:13.619Z"
   },
   {
    "duration": 16,
    "start_time": "2023-09-22T17:48:13.632Z"
   },
   {
    "duration": 12,
    "start_time": "2023-09-22T17:48:13.649Z"
   },
   {
    "duration": 275,
    "start_time": "2023-09-22T17:48:13.663Z"
   },
   {
    "duration": 11,
    "start_time": "2023-09-22T17:48:13.939Z"
   },
   {
    "duration": 281,
    "start_time": "2023-09-22T17:48:13.951Z"
   },
   {
    "duration": 28,
    "start_time": "2023-09-22T17:48:14.233Z"
   },
   {
    "duration": 68,
    "start_time": "2023-09-22T17:48:14.262Z"
   },
   {
    "duration": 263,
    "start_time": "2023-09-22T17:48:14.332Z"
   },
   {
    "duration": 6,
    "start_time": "2023-09-22T17:48:14.597Z"
   },
   {
    "duration": 20,
    "start_time": "2023-09-22T17:48:14.605Z"
   },
   {
    "duration": 157,
    "start_time": "2023-09-22T17:48:14.626Z"
   },
   {
    "duration": 148,
    "start_time": "2023-09-22T17:48:14.784Z"
   },
   {
    "duration": 3,
    "start_time": "2023-09-22T17:48:14.934Z"
   },
   {
    "duration": 136,
    "start_time": "2023-09-22T17:48:14.938Z"
   },
   {
    "duration": 4,
    "start_time": "2023-09-22T17:48:15.076Z"
   },
   {
    "duration": 145,
    "start_time": "2023-09-22T17:48:15.081Z"
   },
   {
    "duration": 4,
    "start_time": "2023-09-22T17:48:15.228Z"
   },
   {
    "duration": 44,
    "start_time": "2023-09-22T17:48:15.234Z"
   },
   {
    "duration": 4,
    "start_time": "2023-09-22T17:48:15.282Z"
   },
   {
    "duration": 215,
    "start_time": "2023-09-22T17:48:15.287Z"
   },
   {
    "duration": 5,
    "start_time": "2023-09-22T17:48:15.504Z"
   },
   {
    "duration": 143,
    "start_time": "2023-09-22T17:48:15.510Z"
   },
   {
    "duration": 7,
    "start_time": "2023-09-22T17:48:15.655Z"
   },
   {
    "duration": 255,
    "start_time": "2023-09-22T17:48:15.663Z"
   },
   {
    "duration": 296,
    "start_time": "2023-09-22T17:48:15.920Z"
   },
   {
    "duration": 191,
    "start_time": "2023-09-22T17:48:16.217Z"
   },
   {
    "duration": 17,
    "start_time": "2023-09-22T17:48:16.409Z"
   },
   {
    "duration": 129,
    "start_time": "2023-09-22T17:48:16.427Z"
   },
   {
    "duration": 14,
    "start_time": "2023-09-22T17:48:16.558Z"
   },
   {
    "duration": 108,
    "start_time": "2023-09-22T17:48:16.574Z"
   },
   {
    "duration": 15,
    "start_time": "2023-09-22T17:48:16.683Z"
   },
   {
    "duration": 108,
    "start_time": "2023-09-22T17:48:16.699Z"
   },
   {
    "duration": 16,
    "start_time": "2023-09-22T17:48:16.808Z"
   },
   {
    "duration": 28,
    "start_time": "2023-09-22T17:48:16.826Z"
   },
   {
    "duration": 14,
    "start_time": "2023-09-22T17:48:16.856Z"
   },
   {
    "duration": 358,
    "start_time": "2023-09-22T17:48:16.872Z"
   },
   {
    "duration": 285,
    "start_time": "2023-09-22T17:48:17.232Z"
   },
   {
    "duration": 18,
    "start_time": "2023-09-22T17:48:17.519Z"
   },
   {
    "duration": 185,
    "start_time": "2023-09-22T17:48:17.539Z"
   },
   {
    "duration": 17,
    "start_time": "2023-09-22T17:48:17.726Z"
   },
   {
    "duration": 114,
    "start_time": "2023-09-22T17:48:17.750Z"
   },
   {
    "duration": 18,
    "start_time": "2023-09-22T17:48:17.866Z"
   },
   {
    "duration": 125,
    "start_time": "2023-09-22T17:48:17.886Z"
   },
   {
    "duration": 17,
    "start_time": "2023-09-22T17:48:18.012Z"
   },
   {
    "duration": 29,
    "start_time": "2023-09-22T17:48:18.030Z"
   },
   {
    "duration": 18,
    "start_time": "2023-09-22T17:48:18.061Z"
   },
   {
    "duration": 308,
    "start_time": "2023-09-22T17:48:18.081Z"
   },
   {
    "duration": 15,
    "start_time": "2023-09-22T17:48:18.391Z"
   },
   {
    "duration": 110,
    "start_time": "2023-09-22T17:48:18.407Z"
   },
   {
    "duration": 15,
    "start_time": "2023-09-22T17:48:18.519Z"
   },
   {
    "duration": 114,
    "start_time": "2023-09-22T17:48:18.535Z"
   },
   {
    "duration": 14,
    "start_time": "2023-09-22T17:48:18.651Z"
   },
   {
    "duration": 105,
    "start_time": "2023-09-22T17:48:18.667Z"
   },
   {
    "duration": 7,
    "start_time": "2023-09-22T17:48:18.773Z"
   },
   {
    "duration": 39,
    "start_time": "2023-09-22T17:48:18.781Z"
   },
   {
    "duration": 75,
    "start_time": "2023-09-22T17:48:18.822Z"
   },
   {
    "duration": 2,
    "start_time": "2023-09-22T17:48:18.898Z"
   },
   {
    "duration": 10,
    "start_time": "2023-09-22T17:48:18.902Z"
   },
   {
    "duration": 6,
    "start_time": "2023-09-22T17:48:18.913Z"
   },
   {
    "duration": 5,
    "start_time": "2023-09-22T17:48:18.920Z"
   },
   {
    "duration": 11,
    "start_time": "2023-09-22T17:48:18.926Z"
   },
   {
    "duration": 75,
    "start_time": "2023-09-22T17:48:18.939Z"
   },
   {
    "duration": 542,
    "start_time": "2023-09-22T17:48:19.015Z"
   },
   {
    "duration": 530,
    "start_time": "2023-09-22T17:48:19.558Z"
   },
   {
    "duration": 575,
    "start_time": "2023-09-22T17:48:20.089Z"
   },
   {
    "duration": 1521,
    "start_time": "2023-09-22T19:08:59.675Z"
   },
   {
    "duration": 133,
    "start_time": "2023-09-22T19:09:01.203Z"
   },
   {
    "duration": 41,
    "start_time": "2023-09-22T19:09:01.338Z"
   },
   {
    "duration": 134,
    "start_time": "2023-09-22T19:09:01.381Z"
   },
   {
    "duration": 108,
    "start_time": "2023-09-22T19:09:01.517Z"
   },
   {
    "duration": 82,
    "start_time": "2023-09-22T19:09:01.627Z"
   },
   {
    "duration": 152,
    "start_time": "2023-09-22T19:09:01.715Z"
   },
   {
    "duration": 151,
    "start_time": "2023-09-22T19:09:01.869Z"
   },
   {
    "duration": 70,
    "start_time": "2023-09-22T19:09:02.022Z"
   },
   {
    "duration": 165,
    "start_time": "2023-09-22T19:09:02.095Z"
   },
   {
    "duration": 227,
    "start_time": "2023-09-22T19:09:02.262Z"
   },
   {
    "duration": 44,
    "start_time": "2023-09-22T19:09:02.491Z"
   },
   {
    "duration": 35,
    "start_time": "2023-09-22T19:09:02.537Z"
   },
   {
    "duration": 229,
    "start_time": "2023-09-22T19:09:02.574Z"
   },
   {
    "duration": 35,
    "start_time": "2023-09-22T19:09:02.805Z"
   },
   {
    "duration": 65,
    "start_time": "2023-09-22T19:09:02.843Z"
   },
   {
    "duration": 61,
    "start_time": "2023-09-22T19:09:02.916Z"
   },
   {
    "duration": 51,
    "start_time": "2023-09-22T19:09:02.979Z"
   },
   {
    "duration": 94,
    "start_time": "2023-09-22T19:09:03.031Z"
   },
   {
    "duration": 57,
    "start_time": "2023-09-22T19:09:03.127Z"
   },
   {
    "duration": 74,
    "start_time": "2023-09-22T19:09:03.204Z"
   },
   {
    "duration": 87,
    "start_time": "2023-09-22T19:09:03.280Z"
   },
   {
    "duration": 137,
    "start_time": "2023-09-22T19:09:03.370Z"
   },
   {
    "duration": 37,
    "start_time": "2023-09-22T19:09:03.511Z"
   },
   {
    "duration": 957,
    "start_time": "2023-09-22T19:09:03.551Z"
   },
   {
    "duration": 11,
    "start_time": "2023-09-22T19:09:04.512Z"
   },
   {
    "duration": 1011,
    "start_time": "2023-09-22T19:09:04.527Z"
   },
   {
    "duration": 19,
    "start_time": "2023-09-22T19:09:05.543Z"
   },
   {
    "duration": 12,
    "start_time": "2023-09-22T19:09:05.563Z"
   },
   {
    "duration": 333,
    "start_time": "2023-09-22T19:09:05.577Z"
   },
   {
    "duration": 8,
    "start_time": "2023-09-22T19:09:05.916Z"
   },
   {
    "duration": 180,
    "start_time": "2023-09-22T19:09:05.926Z"
   },
   {
    "duration": 224,
    "start_time": "2023-09-22T19:09:06.118Z"
   },
   {
    "duration": 208,
    "start_time": "2023-09-22T19:09:06.344Z"
   },
   {
    "duration": 5,
    "start_time": "2023-09-22T19:09:06.554Z"
   },
   {
    "duration": 451,
    "start_time": "2023-09-22T19:09:06.561Z"
   },
   {
    "duration": 14,
    "start_time": "2023-09-22T19:09:07.014Z"
   },
   {
    "duration": 215,
    "start_time": "2023-09-22T19:09:07.030Z"
   },
   {
    "duration": 5,
    "start_time": "2023-09-22T19:09:07.248Z"
   },
   {
    "duration": 95,
    "start_time": "2023-09-22T19:09:07.255Z"
   },
   {
    "duration": 6,
    "start_time": "2023-09-22T19:09:07.351Z"
   },
   {
    "duration": 282,
    "start_time": "2023-09-22T19:09:07.358Z"
   },
   {
    "duration": 6,
    "start_time": "2023-09-22T19:09:07.642Z"
   },
   {
    "duration": 202,
    "start_time": "2023-09-22T19:09:07.652Z"
   },
   {
    "duration": 9,
    "start_time": "2023-09-22T19:09:07.856Z"
   },
   {
    "duration": 341,
    "start_time": "2023-09-22T19:09:07.867Z"
   },
   {
    "duration": 308,
    "start_time": "2023-09-22T19:09:08.216Z"
   },
   {
    "duration": 266,
    "start_time": "2023-09-22T19:09:08.526Z"
   },
   {
    "duration": 25,
    "start_time": "2023-09-22T19:09:08.803Z"
   },
   {
    "duration": 181,
    "start_time": "2023-09-22T19:09:08.830Z"
   },
   {
    "duration": 28,
    "start_time": "2023-09-22T19:09:09.013Z"
   },
   {
    "duration": 139,
    "start_time": "2023-09-22T19:09:09.044Z"
   },
   {
    "duration": 32,
    "start_time": "2023-09-22T19:09:09.185Z"
   },
   {
    "duration": 156,
    "start_time": "2023-09-22T19:09:09.219Z"
   },
   {
    "duration": 36,
    "start_time": "2023-09-22T19:09:09.377Z"
   },
   {
    "duration": 308,
    "start_time": "2023-09-22T19:09:09.416Z"
   },
   {
    "duration": 29,
    "start_time": "2023-09-22T19:09:09.726Z"
   },
   {
    "duration": 499,
    "start_time": "2023-09-22T19:09:09.757Z"
   },
   {
    "duration": 375,
    "start_time": "2023-09-22T19:09:10.258Z"
   },
   {
    "duration": 17,
    "start_time": "2023-09-22T19:09:10.635Z"
   },
   {
    "duration": 169,
    "start_time": "2023-09-22T19:09:10.654Z"
   },
   {
    "duration": 21,
    "start_time": "2023-09-22T19:09:10.825Z"
   },
   {
    "duration": 149,
    "start_time": "2023-09-22T19:09:10.848Z"
   },
   {
    "duration": 33,
    "start_time": "2023-09-22T19:09:11.001Z"
   },
   {
    "duration": 191,
    "start_time": "2023-09-22T19:09:11.036Z"
   },
   {
    "duration": 19,
    "start_time": "2023-09-22T19:09:11.229Z"
   },
   {
    "duration": 30,
    "start_time": "2023-09-22T19:09:11.249Z"
   },
   {
    "duration": 39,
    "start_time": "2023-09-22T19:09:11.281Z"
   },
   {
    "duration": 366,
    "start_time": "2023-09-22T19:09:11.322Z"
   },
   {
    "duration": 33,
    "start_time": "2023-09-22T19:09:11.689Z"
   },
   {
    "duration": 149,
    "start_time": "2023-09-22T19:09:11.723Z"
   },
   {
    "duration": 47,
    "start_time": "2023-09-22T19:09:11.874Z"
   },
   {
    "duration": 166,
    "start_time": "2023-09-22T19:09:11.926Z"
   },
   {
    "duration": 25,
    "start_time": "2023-09-22T19:09:12.094Z"
   },
   {
    "duration": 154,
    "start_time": "2023-09-22T19:09:12.121Z"
   },
   {
    "duration": 8,
    "start_time": "2023-09-22T19:09:12.278Z"
   },
   {
    "duration": 34,
    "start_time": "2023-09-22T19:09:12.288Z"
   },
   {
    "duration": 98,
    "start_time": "2023-09-22T19:09:12.325Z"
   },
   {
    "duration": 6,
    "start_time": "2023-09-22T19:09:12.426Z"
   },
   {
    "duration": 50,
    "start_time": "2023-09-22T19:09:12.436Z"
   },
   {
    "duration": 38,
    "start_time": "2023-09-22T19:09:12.488Z"
   },
   {
    "duration": 23,
    "start_time": "2023-09-22T19:09:12.535Z"
   },
   {
    "duration": 37,
    "start_time": "2023-09-22T19:09:12.560Z"
   },
   {
    "duration": 122,
    "start_time": "2023-09-22T19:09:12.599Z"
   },
   {
    "duration": 819,
    "start_time": "2023-09-22T19:09:12.723Z"
   },
   {
    "duration": 675,
    "start_time": "2023-09-22T19:09:13.544Z"
   },
   {
    "duration": 786,
    "start_time": "2023-09-22T19:09:14.223Z"
   },
   {
    "duration": 3,
    "start_time": "2023-09-22T19:09:59.642Z"
   }
  ],
  "kernelspec": {
   "display_name": "Python 3 (ipykernel)",
   "language": "python",
   "name": "python3"
  },
  "language_info": {
   "codemirror_mode": {
    "name": "ipython",
    "version": 3
   },
   "file_extension": ".py",
   "mimetype": "text/x-python",
   "name": "python",
   "nbconvert_exporter": "python",
   "pygments_lexer": "ipython3",
   "version": "3.11.5"
  },
  "toc": {
   "base_numbering": 1,
   "nav_menu": {},
   "number_sections": true,
   "sideBar": true,
   "skip_h1_title": true,
   "title_cell": "Table of Contents",
   "title_sidebar": "Contents",
   "toc_cell": false,
   "toc_position": {
    "height": "calc(100% - 180px)",
    "left": "10px",
    "top": "150px",
    "width": "215px"
   },
   "toc_section_display": true,
   "toc_window_display": true
  }
 },
 "nbformat": 4,
 "nbformat_minor": 2
}
