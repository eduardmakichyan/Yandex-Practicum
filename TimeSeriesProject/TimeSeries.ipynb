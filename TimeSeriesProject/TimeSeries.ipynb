{
 "cells": [
  {
   "cell_type": "markdown",
   "metadata": {},
   "source": [
    "#  Прогнозирование заказов такси"
   ]
  },
  {
   "cell_type": "markdown",
   "metadata": {},
   "source": [
    "Компания «Чётенькое такси» собрала исторические данные о заказах такси в аэропортах. Чтобы привлекать больше водителей в период пиковой нагрузки, нужно спрогнозировать количество заказов такси на следующий час. Построем модель для такого предсказания.\n",
    "\n",
    "Значение метрики *RMSE* на тестовой выборке должно быть не больше 48.\n",
    "\n",
    "План выполнения проекта:\n",
    "\n",
    "1. Загрузить данные и выполнить их ресемплирование по одному часу.\n",
    "2. Проанализировать данные.\n",
    "3. Обучить разные модели с различными гиперпараметрами. Сделать тестовую выборку размером 10% от исходных данных.\n",
    "4. Проверить данные на тестовой выборке и сделать выводы.\n",
    "\n",
    "\n",
    "Количество заказов находится в столбце `num_orders`."
   ]
  },
  {
   "cell_type": "markdown",
   "metadata": {},
   "source": [
    "Установим необходимый функционал и импортируем нееобходимые библиотеки."
   ]
  },
  {
   "cell_type": "code",
   "execution_count": 2,
   "metadata": {},
   "outputs": [],
   "source": [
    "!pip install phik -q"
   ]
  },
  {
   "cell_type": "code",
   "execution_count": 3,
   "metadata": {},
   "outputs": [],
   "source": [
    "!pip install scikit-learn==1.3.2 -q"
   ]
  },
  {
   "cell_type": "code",
   "execution_count": 4,
   "metadata": {},
   "outputs": [],
   "source": [
    "!pip install missingno -q"
   ]
  },
  {
   "cell_type": "code",
   "execution_count": 5,
   "metadata": {},
   "outputs": [],
   "source": [
    "# импортируем все необходимые библиотеки \n",
    "import pandas as pd\n",
    "import matplotlib.pyplot as plt\n",
    "import numpy as np\n",
    "import scipy.stats as st\n",
    "import missingno as msno\n",
    "from sklearn.inspection import permutation_importance\n",
    "import phik\n",
    "from numpy import quantile\n",
    "from sklearn.dummy import DummyRegressor\n",
    "import warnings\n",
    "import seaborn as sns\n",
    "from sklearn.model_selection import train_test_split, cross_val_score, TimeSeriesSplit\n",
    "from sklearn.preprocessing import OneHotEncoder, OrdinalEncoder, StandardScaler, MinMaxScaler, RobustScaler\n",
    "from sklearn.compose import ColumnTransformer\n",
    "from sklearn.pipeline import Pipeline\n",
    "from sklearn.neighbors import KNeighborsClassifier\n",
    "from sklearn.tree import DecisionTreeClassifier, DecisionTreeRegressor\n",
    "from sklearn.model_selection import RandomizedSearchCV , GridSearchCV\n",
    "from sklearn.svm import SVC\n",
    "from sklearn.impute import SimpleImputer\n",
    "from lightgbm import LGBMRegressor\n",
    "from sklearn.compose import make_column_transformer, make_column_selector\n",
    "from sklearn.ensemble import RandomForestClassifier, RandomForestRegressor\n",
    "from sklearn.linear_model import LogisticRegression, LinearRegression, Ridge, Lasso\n",
    "from sklearn.metrics import (mean_squared_error, mean_absolute_error, confusion_matrix,\n",
    "                             accuracy_score, precision_score, recall_score, r2_score, roc_auc_score, make_scorer)\n",
    "from statsmodels.tsa.seasonal import seasonal_decompose\n",
    "RANDOM_STATE = 42\n",
    "TEST_SIZE = 0.1"
   ]
  },
  {
   "cell_type": "markdown",
   "metadata": {},
   "source": [
    "## Подготовка"
   ]
  },
  {
   "cell_type": "markdown",
   "metadata": {},
   "source": [
    "Загрузим данные. Приведем дату к нужному формату и сделаем этот столбец индексом."
   ]
  },
  {
   "cell_type": "code",
   "execution_count": 6,
   "metadata": {},
   "outputs": [
    {
     "data": {
      "text/html": [
       "<div>\n",
       "<style scoped>\n",
       "    .dataframe tbody tr th:only-of-type {\n",
       "        vertical-align: middle;\n",
       "    }\n",
       "\n",
       "    .dataframe tbody tr th {\n",
       "        vertical-align: top;\n",
       "    }\n",
       "\n",
       "    .dataframe thead th {\n",
       "        text-align: right;\n",
       "    }\n",
       "</style>\n",
       "<table border=\"1\" class=\"dataframe\">\n",
       "  <thead>\n",
       "    <tr style=\"text-align: right;\">\n",
       "      <th></th>\n",
       "      <th>num_orders</th>\n",
       "    </tr>\n",
       "    <tr>\n",
       "      <th>datetime</th>\n",
       "      <th></th>\n",
       "    </tr>\n",
       "  </thead>\n",
       "  <tbody>\n",
       "    <tr>\n",
       "      <th>2018-03-01 00:00:00</th>\n",
       "      <td>9</td>\n",
       "    </tr>\n",
       "    <tr>\n",
       "      <th>2018-03-01 00:10:00</th>\n",
       "      <td>14</td>\n",
       "    </tr>\n",
       "    <tr>\n",
       "      <th>2018-03-01 00:20:00</th>\n",
       "      <td>28</td>\n",
       "    </tr>\n",
       "    <tr>\n",
       "      <th>2018-03-01 00:30:00</th>\n",
       "      <td>20</td>\n",
       "    </tr>\n",
       "    <tr>\n",
       "      <th>2018-03-01 00:40:00</th>\n",
       "      <td>32</td>\n",
       "    </tr>\n",
       "  </tbody>\n",
       "</table>\n",
       "</div>"
      ],
      "text/plain": [
       "                     num_orders\n",
       "datetime                       \n",
       "2018-03-01 00:00:00           9\n",
       "2018-03-01 00:10:00          14\n",
       "2018-03-01 00:20:00          28\n",
       "2018-03-01 00:30:00          20\n",
       "2018-03-01 00:40:00          32"
      ]
     },
     "execution_count": 6,
     "metadata": {},
     "output_type": "execute_result"
    }
   ],
   "source": [
    "data = pd.read_csv('/####.csv',parse_dates = [0],\n",
    "                       index_col = [0])\n",
    "data.head()"
   ]
  },
  {
   "cell_type": "code",
   "execution_count": 7,
   "metadata": {
    "scrolled": true
   },
   "outputs": [
    {
     "name": "stdout",
     "output_type": "stream",
     "text": [
      "<class 'pandas.core.frame.DataFrame'>\n",
      "DatetimeIndex: 26496 entries, 2018-03-01 00:00:00 to 2018-08-31 23:50:00\n",
      "Data columns (total 1 columns):\n",
      " #   Column      Non-Null Count  Dtype\n",
      "---  ------      --------------  -----\n",
      " 0   num_orders  26496 non-null  int64\n",
      "dtypes: int64(1)\n",
      "memory usage: 414.0 KB\n"
     ]
    }
   ],
   "source": [
    "data.info()"
   ]
  },
  {
   "cell_type": "code",
   "execution_count": 8,
   "metadata": {
    "scrolled": true
   },
   "outputs": [
    {
     "name": "stdout",
     "output_type": "stream",
     "text": [
      "Данные упорядочены.\n"
     ]
    }
   ],
   "source": [
    "if data.index.is_monotonic == True:\n",
    "    print('Данные упорядочены.')\n",
    "else:\n",
    "    print('Данные требуется упорядочить.')"
   ]
  },
  {
   "cell_type": "markdown",
   "metadata": {},
   "source": [
    "Данные идут по порядку, проведем ресемплирование по одному часу."
   ]
  },
  {
   "cell_type": "code",
   "execution_count": 9,
   "metadata": {
    "scrolled": true
   },
   "outputs": [
    {
     "data": {
      "text/html": [
       "<div>\n",
       "<style scoped>\n",
       "    .dataframe tbody tr th:only-of-type {\n",
       "        vertical-align: middle;\n",
       "    }\n",
       "\n",
       "    .dataframe tbody tr th {\n",
       "        vertical-align: top;\n",
       "    }\n",
       "\n",
       "    .dataframe thead th {\n",
       "        text-align: right;\n",
       "    }\n",
       "</style>\n",
       "<table border=\"1\" class=\"dataframe\">\n",
       "  <thead>\n",
       "    <tr style=\"text-align: right;\">\n",
       "      <th></th>\n",
       "      <th>num_orders</th>\n",
       "    </tr>\n",
       "    <tr>\n",
       "      <th>datetime</th>\n",
       "      <th></th>\n",
       "    </tr>\n",
       "  </thead>\n",
       "  <tbody>\n",
       "    <tr>\n",
       "      <th>2018-03-01 00:00:00</th>\n",
       "      <td>124</td>\n",
       "    </tr>\n",
       "    <tr>\n",
       "      <th>2018-03-01 01:00:00</th>\n",
       "      <td>85</td>\n",
       "    </tr>\n",
       "    <tr>\n",
       "      <th>2018-03-01 02:00:00</th>\n",
       "      <td>71</td>\n",
       "    </tr>\n",
       "    <tr>\n",
       "      <th>2018-03-01 03:00:00</th>\n",
       "      <td>66</td>\n",
       "    </tr>\n",
       "    <tr>\n",
       "      <th>2018-03-01 04:00:00</th>\n",
       "      <td>43</td>\n",
       "    </tr>\n",
       "  </tbody>\n",
       "</table>\n",
       "</div>"
      ],
      "text/plain": [
       "                     num_orders\n",
       "datetime                       \n",
       "2018-03-01 00:00:00         124\n",
       "2018-03-01 01:00:00          85\n",
       "2018-03-01 02:00:00          71\n",
       "2018-03-01 03:00:00          66\n",
       "2018-03-01 04:00:00          43"
      ]
     },
     "execution_count": 9,
     "metadata": {},
     "output_type": "execute_result"
    }
   ],
   "source": [
    "data = data.resample('1H').sum()\n",
    "data.head()"
   ]
  },
  {
   "cell_type": "code",
   "execution_count": 10,
   "metadata": {},
   "outputs": [
    {
     "name": "stdout",
     "output_type": "stream",
     "text": [
      "Начало наблюдений: 2018-08-31 23:00:00\n",
      "Конец наблюдений: 2018-08-31 23:00:00\n"
     ]
    }
   ],
   "source": [
    "print('Начало наблюдений:',data.index.max())\n",
    "print('Конец наблюдений:',data.index.max())"
   ]
  },
  {
   "cell_type": "markdown",
   "metadata": {},
   "source": [
    "### Вывод по подготовке.\n",
    "В нашем распоряжение упорядоченные данные с первого марта по тридцатьпервое августа 2018г. Далее займемся изучением данных."
   ]
  },
  {
   "cell_type": "markdown",
   "metadata": {},
   "source": [
    "## Анализ"
   ]
  },
  {
   "cell_type": "code",
   "execution_count": 11,
   "metadata": {
    "scrolled": false
   },
   "outputs": [
    {
     "data": {
      "image/png": "[encoded data removed]",
      "text/plain": [
       "<Figure size 936x504 with 1 Axes>"
      ]
     },
     "metadata": {
      "needs_background": "light"
     },
     "output_type": "display_data"
    }
   ],
   "source": [
    "data.plot(figsize=(13,7))\n",
    "plt.title('Orders')\n",
    "plt.show()"
   ]
  },
  {
   "cell_type": "markdown",
   "metadata": {},
   "source": [
    "В таком виде график неинформативен. Произведем декомпозицию, найдем тренд, сезонность для одного дня и остатки."
   ]
  },
  {
   "cell_type": "code",
   "execution_count": 12,
   "metadata": {
    "scrolled": true
   },
   "outputs": [
    {
     "data": {
      "image/png": "[encoded data removed]",
      "text/plain": [
       "<Figure size 720x1152 with 3 Axes>"
      ]
     },
     "metadata": {
      "needs_background": "light"
     },
     "output_type": "display_data"
    }
   ],
   "source": [
    "new_data = data.copy()\n",
    "decompose = seasonal_decompose(new_data)\n",
    "\n",
    "plt.figure(figsize=(10, 16))\n",
    "plt.subplot(311)\n",
    "\n",
    "decompose.trend.plot(ax=plt.gca())\n",
    "plt.title('Trend')\n",
    "plt.subplot(312)\n",
    "\n",
    "decompose.seasonal['2018-05-17':'2018-05-18'].plot(ax=plt.gca())\n",
    "plt.title('Seasonality')\n",
    "plt.subplot(313)\n",
    "\n",
    "decompose.resid.plot(ax=plt.gca())\n",
    "plt.title('Residuals')\n",
    "\n",
    "plt.tight_layout()"
   ]
  },
  {
   "cell_type": "markdown",
   "metadata": {},
   "source": [
    "Добавим скользящее среднее и стандартное отклонение."
   ]
  },
  {
   "cell_type": "code",
   "execution_count": 15,
   "metadata": {
    "scrolled": true
   },
   "outputs": [
    {
     "data": {
      "image/png": "[encoded data removed]",
      "text/plain": [
       "<Figure size 864x432 with 1 Axes>"
      ]
     },
     "metadata": {
      "needs_background": "light"
     },
     "output_type": "display_data"
    }
   ],
   "source": [
    "new_data['rolling_mean'] = new_data.rolling(10).mean()\n",
    "new_data['std'] = new_data['num_orders'].rolling(10).std()\n",
    "new_data.plot(figsize=(12,6))\n",
    "plt.show()"
   ]
  },
  {
   "cell_type": "markdown",
   "metadata": {},
   "source": [
    "### Вывод по анализу.\n",
    "1. Виден тренд на увеличение общего кол-ва заказов от месяца к месяцу.\n",
    "2. Самое большое кол-во заказов ночью, это может быть связанно с графиком работы общественного транспорта.\n",
    "3. Временной ряд нестационарный т.к. среднее значение с стандартное отклонение увеличиваются со времением."
   ]
  },
  {
   "cell_type": "markdown",
   "metadata": {},
   "source": [
    "## Обучение"
   ]
  },
  {
   "cell_type": "markdown",
   "metadata": {},
   "source": [
    "Создадим функцию по добавлению признаков - день, день недели, час, скользящее среднее, скользяшее среднее по дню и неделе, лаги(отстования)."
   ]
  },
  {
   "cell_type": "code",
   "execution_count": 17,
   "metadata": {},
   "outputs": [],
   "source": [
    "def make_features(data, max_lag, rolling_mean_size):\n",
    "    data['dayofweek'] = data.index.dayofweek\n",
    "    data['hour'] = data.index.hour\n",
    "    \n",
    "    for lag in range(1, max_lag + 1):\n",
    "        data['lag_{}'.format(lag)] = data['num_orders'].shift(lag)\n",
    "\n",
    "    data['rolling_mean'] = data['num_orders'].shift().rolling(rolling_mean_size).mean()\n",
    "    data['day_rolling_sum'] = data['num_orders'].shift().rolling(24).sum()\n",
    "    data['week_rolling_sum'] = data['num_orders'].shift().rolling(24*7).sum()\n",
    "    data['lag_24'] = data['num_orders'].shift(24)\n",
    "\n",
    "    data.dropna(inplace=True)"
   ]
  },
  {
   "cell_type": "code",
   "execution_count": 18,
   "metadata": {},
   "outputs": [
    {
     "data": {
      "text/html": [
       "<div>\n",
       "<style scoped>\n",
       "    .dataframe tbody tr th:only-of-type {\n",
       "        vertical-align: middle;\n",
       "    }\n",
       "\n",
       "    .dataframe tbody tr th {\n",
       "        vertical-align: top;\n",
       "    }\n",
       "\n",
       "    .dataframe thead th {\n",
       "        text-align: right;\n",
       "    }\n",
       "</style>\n",
       "<table border=\"1\" class=\"dataframe\">\n",
       "  <thead>\n",
       "    <tr style=\"text-align: right;\">\n",
       "      <th></th>\n",
       "      <th>num_orders</th>\n",
       "      <th>dayofweek</th>\n",
       "      <th>hour</th>\n",
       "      <th>lag_1</th>\n",
       "      <th>lag_2</th>\n",
       "      <th>lag_3</th>\n",
       "      <th>lag_4</th>\n",
       "      <th>lag_5</th>\n",
       "      <th>lag_6</th>\n",
       "      <th>lag_7</th>\n",
       "      <th>lag_8</th>\n",
       "      <th>lag_9</th>\n",
       "      <th>lag_10</th>\n",
       "      <th>rolling_mean</th>\n",
       "      <th>day_rolling_sum</th>\n",
       "      <th>week_rolling_sum</th>\n",
       "      <th>lag_24</th>\n",
       "    </tr>\n",
       "    <tr>\n",
       "      <th>datetime</th>\n",
       "      <th></th>\n",
       "      <th></th>\n",
       "      <th></th>\n",
       "      <th></th>\n",
       "      <th></th>\n",
       "      <th></th>\n",
       "      <th></th>\n",
       "      <th></th>\n",
       "      <th></th>\n",
       "      <th></th>\n",
       "      <th></th>\n",
       "      <th></th>\n",
       "      <th></th>\n",
       "      <th></th>\n",
       "      <th></th>\n",
       "      <th></th>\n",
       "      <th></th>\n",
       "    </tr>\n",
       "  </thead>\n",
       "  <tbody>\n",
       "    <tr>\n",
       "      <th>2018-03-08 00:00:00</th>\n",
       "      <td>143</td>\n",
       "      <td>3</td>\n",
       "      <td>0</td>\n",
       "      <td>94.0</td>\n",
       "      <td>127.0</td>\n",
       "      <td>108.0</td>\n",
       "      <td>76.0</td>\n",
       "      <td>50.0</td>\n",
       "      <td>99.0</td>\n",
       "      <td>48.0</td>\n",
       "      <td>46.0</td>\n",
       "      <td>51.0</td>\n",
       "      <td>43.0</td>\n",
       "      <td>74.2</td>\n",
       "      <td>1441.0</td>\n",
       "      <td>9110.0</td>\n",
       "      <td>100.0</td>\n",
       "    </tr>\n",
       "    <tr>\n",
       "      <th>2018-03-08 01:00:00</th>\n",
       "      <td>78</td>\n",
       "      <td>3</td>\n",
       "      <td>1</td>\n",
       "      <td>143.0</td>\n",
       "      <td>94.0</td>\n",
       "      <td>127.0</td>\n",
       "      <td>108.0</td>\n",
       "      <td>76.0</td>\n",
       "      <td>50.0</td>\n",
       "      <td>99.0</td>\n",
       "      <td>48.0</td>\n",
       "      <td>46.0</td>\n",
       "      <td>51.0</td>\n",
       "      <td>84.2</td>\n",
       "      <td>1484.0</td>\n",
       "      <td>9129.0</td>\n",
       "      <td>121.0</td>\n",
       "    </tr>\n",
       "    <tr>\n",
       "      <th>2018-03-08 02:00:00</th>\n",
       "      <td>65</td>\n",
       "      <td>3</td>\n",
       "      <td>2</td>\n",
       "      <td>78.0</td>\n",
       "      <td>143.0</td>\n",
       "      <td>94.0</td>\n",
       "      <td>127.0</td>\n",
       "      <td>108.0</td>\n",
       "      <td>76.0</td>\n",
       "      <td>50.0</td>\n",
       "      <td>99.0</td>\n",
       "      <td>48.0</td>\n",
       "      <td>46.0</td>\n",
       "      <td>86.9</td>\n",
       "      <td>1441.0</td>\n",
       "      <td>9122.0</td>\n",
       "      <td>24.0</td>\n",
       "    </tr>\n",
       "    <tr>\n",
       "      <th>2018-03-08 03:00:00</th>\n",
       "      <td>68</td>\n",
       "      <td>3</td>\n",
       "      <td>3</td>\n",
       "      <td>65.0</td>\n",
       "      <td>78.0</td>\n",
       "      <td>143.0</td>\n",
       "      <td>94.0</td>\n",
       "      <td>127.0</td>\n",
       "      <td>108.0</td>\n",
       "      <td>76.0</td>\n",
       "      <td>50.0</td>\n",
       "      <td>99.0</td>\n",
       "      <td>48.0</td>\n",
       "      <td>88.8</td>\n",
       "      <td>1482.0</td>\n",
       "      <td>9116.0</td>\n",
       "      <td>66.0</td>\n",
       "    </tr>\n",
       "    <tr>\n",
       "      <th>2018-03-08 04:00:00</th>\n",
       "      <td>60</td>\n",
       "      <td>3</td>\n",
       "      <td>4</td>\n",
       "      <td>68.0</td>\n",
       "      <td>65.0</td>\n",
       "      <td>78.0</td>\n",
       "      <td>143.0</td>\n",
       "      <td>94.0</td>\n",
       "      <td>127.0</td>\n",
       "      <td>108.0</td>\n",
       "      <td>76.0</td>\n",
       "      <td>50.0</td>\n",
       "      <td>99.0</td>\n",
       "      <td>90.8</td>\n",
       "      <td>1484.0</td>\n",
       "      <td>9118.0</td>\n",
       "      <td>73.0</td>\n",
       "    </tr>\n",
       "  </tbody>\n",
       "</table>\n",
       "</div>"
      ],
      "text/plain": [
       "                     num_orders  dayofweek  hour  lag_1  lag_2  lag_3  lag_4  \\\n",
       "datetime                                                                       \n",
       "2018-03-08 00:00:00         143          3     0   94.0  127.0  108.0   76.0   \n",
       "2018-03-08 01:00:00          78          3     1  143.0   94.0  127.0  108.0   \n",
       "2018-03-08 02:00:00          65          3     2   78.0  143.0   94.0  127.0   \n",
       "2018-03-08 03:00:00          68          3     3   65.0   78.0  143.0   94.0   \n",
       "2018-03-08 04:00:00          60          3     4   68.0   65.0   78.0  143.0   \n",
       "\n",
       "                     lag_5  lag_6  lag_7  lag_8  lag_9  lag_10  rolling_mean  \\\n",
       "datetime                                                                       \n",
       "2018-03-08 00:00:00   50.0   99.0   48.0   46.0   51.0    43.0          74.2   \n",
       "2018-03-08 01:00:00   76.0   50.0   99.0   48.0   46.0    51.0          84.2   \n",
       "2018-03-08 02:00:00  108.0   76.0   50.0   99.0   48.0    46.0          86.9   \n",
       "2018-03-08 03:00:00  127.0  108.0   76.0   50.0   99.0    48.0          88.8   \n",
       "2018-03-08 04:00:00   94.0  127.0  108.0   76.0   50.0    99.0          90.8   \n",
       "\n",
       "                     day_rolling_sum  week_rolling_sum  lag_24  \n",
       "datetime                                                        \n",
       "2018-03-08 00:00:00           1441.0            9110.0   100.0  \n",
       "2018-03-08 01:00:00           1484.0            9129.0   121.0  \n",
       "2018-03-08 02:00:00           1441.0            9122.0    24.0  \n",
       "2018-03-08 03:00:00           1482.0            9116.0    66.0  \n",
       "2018-03-08 04:00:00           1484.0            9118.0    73.0  "
      ]
     },
     "execution_count": 18,
     "metadata": {},
     "output_type": "execute_result"
    }
   ],
   "source": [
    "# добавляем признаки в таблицу\n",
    "make_features(data,10,10)\n",
    "data.head()"
   ]
  },
  {
   "cell_type": "markdown",
   "metadata": {},
   "source": [
    "Разделим датасет на тестовую и тренировочные выборки, затем проверим корректность разделения данных."
   ]
  },
  {
   "cell_type": "code",
   "execution_count": 16,
   "metadata": {},
   "outputs": [],
   "source": [
    "# разделение датасета\n",
    "train, test = train_test_split(data, shuffle=False, test_size=TEST_SIZE)\n",
    "train = train.dropna()\n",
    "\n",
    "X_train = train.drop(['num_orders'], axis=1)\n",
    "y_train = train['num_orders']\n",
    "\n",
    "X_test = test.drop(['num_orders'], axis=1)\n",
    "y_test = test['num_orders']"
   ]
  },
  {
   "cell_type": "code",
   "execution_count": 17,
   "metadata": {},
   "outputs": [
    {
     "name": "stdout",
     "output_type": "stream",
     "text": [
      "(3823, 16) 2018-03-08 00:00:00 2018-08-14 06:00:00\n"
     ]
    }
   ],
   "source": [
    "print(X_train.shape, X_train.index.min(), X_train.index.max())"
   ]
  },
  {
   "cell_type": "code",
   "execution_count": 18,
   "metadata": {},
   "outputs": [
    {
     "name": "stdout",
     "output_type": "stream",
     "text": [
      "(425, 16) 2018-08-14 07:00:00 2018-08-31 23:00:00\n"
     ]
    }
   ],
   "source": [
    "print(X_test.shape, X_test.index.min(), X_test.index.max())"
   ]
  },
  {
   "cell_type": "markdown",
   "metadata": {},
   "source": [
    "Данные разделены правильно."
   ]
  },
  {
   "cell_type": "code",
   "execution_count": 19,
   "metadata": {},
   "outputs": [],
   "source": [
    "# кросвалидация для временных рядов\n",
    "tscv = TimeSeriesSplit(n_splits=5)"
   ]
  },
  {
   "cell_type": "markdown",
   "metadata": {},
   "source": [
    "Теперь создадим функцию, которая принимает тестовые и тренировочные данные, словарь с гиперпараметрами модели и саму модель. На выходе получим гиперпараметры лучшей модели, метрику RMSE на тренировочных и тестовых данных."
   ]
  },
  {
   "cell_type": "code",
   "execution_count": 20,
   "metadata": {},
   "outputs": [],
   "source": [
    "def create_model2(X_train, X_test, y_train, y_test, param_grid, model):\n",
    "   \n",
    "   \n",
    "    randomized_search = RandomizedSearchCV(\n",
    "    model,\n",
    "    param_grid,\n",
    "    cv=tscv,\n",
    "    scoring='neg_root_mean_squared_error',\n",
    "    random_state=RANDOM_STATE,\n",
    "    n_iter = 4,\n",
    "    n_jobs = -1,\n",
    "    refit=False    \n",
    "    )\n",
    "    \n",
    "    randomized_search.fit(X_train, y_train)\n",
    "    \n",
    "    best_params = randomized_search.best_params_\n",
    "    print('Лучшие параметры:\\n\\n', best_params)\n",
    "    \n",
    "    best_model = model.set_params(**best_params)\n",
    "    best_model.fit(X_train, y_train)\n",
    "    \n",
    "    print('Метрика RMSE лучшей модели на тренировочной выборке:', \n",
    "          mean_squared_error(y_train, best_model.predict(X_train), squared=False))\n",
    "    \n",
    "    y_test_pred = best_model.predict(X_test)\n",
    "    print(f'Метрика RMSE на тестовой выборке: {mean_squared_error(y_test, y_test_pred, squared=False)}')"
   ]
  },
  {
   "cell_type": "code",
   "execution_count": 28,
   "metadata": {},
   "outputs": [],
   "source": [
    "def create_model(X_train, X_test, y_train, y_test, param_grid, model):\n",
    "   \n",
    "   \n",
    "    randomized_search = RandomizedSearchCV(\n",
    "    model,\n",
    "    param_grid,\n",
    "    cv=tscv,\n",
    "    scoring='neg_root_mean_squared_error',\n",
    "    random_state=RANDOM_STATE,\n",
    "    n_iter = 4,\n",
    "    n_jobs = -1,    \n",
    "    )\n",
    "    \n",
    "    randomized_search.fit(X_train, y_train)\n",
    "    \n",
    "    best_params = randomized_search.best_params_\n",
    "    print('Лучшие параметры:\\n\\n', best_params)\n",
    "    \n",
    "    #   best_model = model.set_params(**best_params)\n",
    "   # best_model.fit(X_train, y_train)\n",
    "    rmse = randomized_search.best_score_\n",
    "    \n",
    "    print('Метрика RMSE лучшей модели на тренировочной выборке:', rmse*-1)\n",
    "    \n",
    "    best_model = randomized_search.best_estimator_\n",
    "    \n",
    "    return best_model"
   ]
  },
  {
   "cell_type": "code",
   "execution_count": 22,
   "metadata": {},
   "outputs": [],
   "source": [
    "# словарь для модели DecisionTreeRegressor()\n",
    "tree_param_grid = [\n",
    "        {\n",
    "        'max_depth': range(2, 5),\n",
    "        'max_features': range(2, 5),\n",
    "        'random_state': [RANDOM_STATE]\n",
    "    }]"
   ]
  },
  {
   "cell_type": "code",
   "execution_count": 23,
   "metadata": {},
   "outputs": [],
   "source": [
    "# словарь для модели LinearRegression()\n",
    "linear_param_grid = {'fit_intercept':[True,False], 'copy_X':[True, False]}"
   ]
  },
  {
   "cell_type": "code",
   "execution_count": 24,
   "metadata": {},
   "outputs": [],
   "source": [
    "# словарь для модели LGBMRegressor()\n",
    "lgbm_param_grid = {\n",
    "        'n_estimators' : range(50, 101, 10),\n",
    "        'max_depth' : range(5, 15, 2),\n",
    "        'num_leaves' : range(20,70,5),\n",
    "        'verbose' : [0],\n",
    "        'random_state' : [RANDOM_STATE],\n",
    "        'force_col_wise': [True]\n",
    "        }"
   ]
  },
  {
   "cell_type": "markdown",
   "metadata": {},
   "source": [
    "Далее обучим разные модели и выберем ту, которая покажет лучший результат на тренировочных данных."
   ]
  },
  {
   "cell_type": "markdown",
   "metadata": {},
   "source": [
    "### Модель DecisionTreeRegressor."
   ]
  },
  {
   "cell_type": "code",
   "execution_count": 29,
   "metadata": {
    "scrolled": true
   },
   "outputs": [
    {
     "name": "stdout",
     "output_type": "stream",
     "text": [
      "Лучшие параметры:\n",
      "\n",
      " {'random_state': 42, 'max_features': 3, 'max_depth': 4}\n",
      "Метрика RMSE лучшей модели на тренировочной выборке: 32.86253861294826\n"
     ]
    },
    {
     "data": {
      "text/html": [
       "<style>#sk-container-id-1 {color: black;}#sk-container-id-1 pre{padding: 0;}#sk-container-id-1 div.sk-toggleable {background-color: white;}#sk-container-id-1 label.sk-toggleable__label {cursor: pointer;display: block;width: 100%;margin-bottom: 0;padding: 0.3em;box-sizing: border-box;text-align: center;}#sk-container-id-1 label.sk-toggleable__label-arrow:before {content: \"▸\";float: left;margin-right: 0.25em;color: #696969;}#sk-container-id-1 label.sk-toggleable__label-arrow:hover:before {color: black;}#sk-container-id-1 div.sk-estimator:hover label.sk-toggleable__label-arrow:before {color: black;}#sk-container-id-1 div.sk-toggleable__content {max-height: 0;max-width: 0;overflow: hidden;text-align: left;background-color: #f0f8ff;}#sk-container-id-1 div.sk-toggleable__content pre {margin: 0.2em;color: black;border-radius: 0.25em;background-color: #f0f8ff;}#sk-container-id-1 input.sk-toggleable__control:checked~div.sk-toggleable__content {max-height: 200px;max-width: 100%;overflow: auto;}#sk-container-id-1 input.sk-toggleable__control:checked~label.sk-toggleable__label-arrow:before {content: \"▾\";}#sk-container-id-1 div.sk-estimator input.sk-toggleable__control:checked~label.sk-toggleable__label {background-color: #d4ebff;}#sk-container-id-1 div.sk-label input.sk-toggleable__control:checked~label.sk-toggleable__label {background-color: #d4ebff;}#sk-container-id-1 input.sk-hidden--visually {border: 0;clip: rect(1px 1px 1px 1px);clip: rect(1px, 1px, 1px, 1px);height: 1px;margin: -1px;overflow: hidden;padding: 0;position: absolute;width: 1px;}#sk-container-id-1 div.sk-estimator {font-family: monospace;background-color: #f0f8ff;border: 1px dotted black;border-radius: 0.25em;box-sizing: border-box;margin-bottom: 0.5em;}#sk-container-id-1 div.sk-estimator:hover {background-color: #d4ebff;}#sk-container-id-1 div.sk-parallel-item::after {content: \"\";width: 100%;border-bottom: 1px solid gray;flex-grow: 1;}#sk-container-id-1 div.sk-label:hover label.sk-toggleable__label {background-color: #d4ebff;}#sk-container-id-1 div.sk-serial::before {content: \"\";position: absolute;border-left: 1px solid gray;box-sizing: border-box;top: 0;bottom: 0;left: 50%;z-index: 0;}#sk-container-id-1 div.sk-serial {display: flex;flex-direction: column;align-items: center;background-color: white;padding-right: 0.2em;padding-left: 0.2em;position: relative;}#sk-container-id-1 div.sk-item {position: relative;z-index: 1;}#sk-container-id-1 div.sk-parallel {display: flex;align-items: stretch;justify-content: center;background-color: white;position: relative;}#sk-container-id-1 div.sk-item::before, #sk-container-id-1 div.sk-parallel-item::before {content: \"\";position: absolute;border-left: 1px solid gray;box-sizing: border-box;top: 0;bottom: 0;left: 50%;z-index: -1;}#sk-container-id-1 div.sk-parallel-item {display: flex;flex-direction: column;z-index: 1;position: relative;background-color: white;}#sk-container-id-1 div.sk-parallel-item:first-child::after {align-self: flex-end;width: 50%;}#sk-container-id-1 div.sk-parallel-item:last-child::after {align-self: flex-start;width: 50%;}#sk-container-id-1 div.sk-parallel-item:only-child::after {width: 0;}#sk-container-id-1 div.sk-dashed-wrapped {border: 1px dashed gray;margin: 0 0.4em 0.5em 0.4em;box-sizing: border-box;padding-bottom: 0.4em;background-color: white;}#sk-container-id-1 div.sk-label label {font-family: monospace;font-weight: bold;display: inline-block;line-height: 1.2em;}#sk-container-id-1 div.sk-label-container {text-align: center;}#sk-container-id-1 div.sk-container {/* jupyter's `normalize.less` sets `[hidden] { display: none; }` but bootstrap.min.css set `[hidden] { display: none !important; }` so we also need the `!important` here to be able to override the default hidden behavior on the sphinx rendered scikit-learn.org. See: https://github.com/scikit-learn/scikit-learn/issues/21755 */display: inline-block !important;position: relative;}#sk-container-id-1 div.sk-text-repr-fallback {display: none;}</style><div id=\"sk-container-id-1\" class=\"sk-top-container\"><div class=\"sk-text-repr-fallback\"><pre>DecisionTreeRegressor(max_depth=4, max_features=3, random_state=42)</pre><b>In a Jupyter environment, please rerun this cell to show the HTML representation or trust the notebook. <br />On GitHub, the HTML representation is unable to render, please try loading this page with nbviewer.org.</b></div><div class=\"sk-container\" hidden><div class=\"sk-item\"><div class=\"sk-estimator sk-toggleable\"><input class=\"sk-toggleable__control sk-hidden--visually\" id=\"sk-estimator-id-1\" type=\"checkbox\" checked><label for=\"sk-estimator-id-1\" class=\"sk-toggleable__label sk-toggleable__label-arrow\">DecisionTreeRegressor</label><div class=\"sk-toggleable__content\"><pre>DecisionTreeRegressor(max_depth=4, max_features=3, random_state=42)</pre></div></div></div></div></div>"
      ],
      "text/plain": [
       "DecisionTreeRegressor(max_depth=4, max_features=3, random_state=42)"
      ]
     },
     "execution_count": 29,
     "metadata": {},
     "output_type": "execute_result"
    }
   ],
   "source": [
    "tree_model = create_model(X_train, X_test, y_train, y_test, tree_param_grid, DecisionTreeRegressor())\n",
    "tree_model"
   ]
  },
  {
   "cell_type": "markdown",
   "metadata": {},
   "source": [
    "### Модель LinearRegression.."
   ]
  },
  {
   "cell_type": "code",
   "execution_count": 30,
   "metadata": {
    "scrolled": false
   },
   "outputs": [
    {
     "name": "stdout",
     "output_type": "stream",
     "text": [
      "Лучшие параметры:\n",
      "\n",
      " {'fit_intercept': False, 'copy_X': True}\n",
      "Метрика RMSE лучшей модели на тренировочной выборке: 27.69998863599369\n"
     ]
    },
    {
     "data": {
      "text/html": [
       "<style>#sk-container-id-2 {color: black;}#sk-container-id-2 pre{padding: 0;}#sk-container-id-2 div.sk-toggleable {background-color: white;}#sk-container-id-2 label.sk-toggleable__label {cursor: pointer;display: block;width: 100%;margin-bottom: 0;padding: 0.3em;box-sizing: border-box;text-align: center;}#sk-container-id-2 label.sk-toggleable__label-arrow:before {content: \"▸\";float: left;margin-right: 0.25em;color: #696969;}#sk-container-id-2 label.sk-toggleable__label-arrow:hover:before {color: black;}#sk-container-id-2 div.sk-estimator:hover label.sk-toggleable__label-arrow:before {color: black;}#sk-container-id-2 div.sk-toggleable__content {max-height: 0;max-width: 0;overflow: hidden;text-align: left;background-color: #f0f8ff;}#sk-container-id-2 div.sk-toggleable__content pre {margin: 0.2em;color: black;border-radius: 0.25em;background-color: #f0f8ff;}#sk-container-id-2 input.sk-toggleable__control:checked~div.sk-toggleable__content {max-height: 200px;max-width: 100%;overflow: auto;}#sk-container-id-2 input.sk-toggleable__control:checked~label.sk-toggleable__label-arrow:before {content: \"▾\";}#sk-container-id-2 div.sk-estimator input.sk-toggleable__control:checked~label.sk-toggleable__label {background-color: #d4ebff;}#sk-container-id-2 div.sk-label input.sk-toggleable__control:checked~label.sk-toggleable__label {background-color: #d4ebff;}#sk-container-id-2 input.sk-hidden--visually {border: 0;clip: rect(1px 1px 1px 1px);clip: rect(1px, 1px, 1px, 1px);height: 1px;margin: -1px;overflow: hidden;padding: 0;position: absolute;width: 1px;}#sk-container-id-2 div.sk-estimator {font-family: monospace;background-color: #f0f8ff;border: 1px dotted black;border-radius: 0.25em;box-sizing: border-box;margin-bottom: 0.5em;}#sk-container-id-2 div.sk-estimator:hover {background-color: #d4ebff;}#sk-container-id-2 div.sk-parallel-item::after {content: \"\";width: 100%;border-bottom: 1px solid gray;flex-grow: 1;}#sk-container-id-2 div.sk-label:hover label.sk-toggleable__label {background-color: #d4ebff;}#sk-container-id-2 div.sk-serial::before {content: \"\";position: absolute;border-left: 1px solid gray;box-sizing: border-box;top: 0;bottom: 0;left: 50%;z-index: 0;}#sk-container-id-2 div.sk-serial {display: flex;flex-direction: column;align-items: center;background-color: white;padding-right: 0.2em;padding-left: 0.2em;position: relative;}#sk-container-id-2 div.sk-item {position: relative;z-index: 1;}#sk-container-id-2 div.sk-parallel {display: flex;align-items: stretch;justify-content: center;background-color: white;position: relative;}#sk-container-id-2 div.sk-item::before, #sk-container-id-2 div.sk-parallel-item::before {content: \"\";position: absolute;border-left: 1px solid gray;box-sizing: border-box;top: 0;bottom: 0;left: 50%;z-index: -1;}#sk-container-id-2 div.sk-parallel-item {display: flex;flex-direction: column;z-index: 1;position: relative;background-color: white;}#sk-container-id-2 div.sk-parallel-item:first-child::after {align-self: flex-end;width: 50%;}#sk-container-id-2 div.sk-parallel-item:last-child::after {align-self: flex-start;width: 50%;}#sk-container-id-2 div.sk-parallel-item:only-child::after {width: 0;}#sk-container-id-2 div.sk-dashed-wrapped {border: 1px dashed gray;margin: 0 0.4em 0.5em 0.4em;box-sizing: border-box;padding-bottom: 0.4em;background-color: white;}#sk-container-id-2 div.sk-label label {font-family: monospace;font-weight: bold;display: inline-block;line-height: 1.2em;}#sk-container-id-2 div.sk-label-container {text-align: center;}#sk-container-id-2 div.sk-container {/* jupyter's `normalize.less` sets `[hidden] { display: none; }` but bootstrap.min.css set `[hidden] { display: none !important; }` so we also need the `!important` here to be able to override the default hidden behavior on the sphinx rendered scikit-learn.org. See: https://github.com/scikit-learn/scikit-learn/issues/21755 */display: inline-block !important;position: relative;}#sk-container-id-2 div.sk-text-repr-fallback {display: none;}</style><div id=\"sk-container-id-2\" class=\"sk-top-container\"><div class=\"sk-text-repr-fallback\"><pre>LinearRegression(fit_intercept=False)</pre><b>In a Jupyter environment, please rerun this cell to show the HTML representation or trust the notebook. <br />On GitHub, the HTML representation is unable to render, please try loading this page with nbviewer.org.</b></div><div class=\"sk-container\" hidden><div class=\"sk-item\"><div class=\"sk-estimator sk-toggleable\"><input class=\"sk-toggleable__control sk-hidden--visually\" id=\"sk-estimator-id-2\" type=\"checkbox\" checked><label for=\"sk-estimator-id-2\" class=\"sk-toggleable__label sk-toggleable__label-arrow\">LinearRegression</label><div class=\"sk-toggleable__content\"><pre>LinearRegression(fit_intercept=False)</pre></div></div></div></div></div>"
      ],
      "text/plain": [
       "LinearRegression(fit_intercept=False)"
      ]
     },
     "execution_count": 30,
     "metadata": {},
     "output_type": "execute_result"
    }
   ],
   "source": [
    "linear_model = create_model(X_train, X_test, y_train, y_test, linear_param_grid, LinearRegression())\n",
    "linear_model"
   ]
  },
  {
   "cell_type": "markdown",
   "metadata": {},
   "source": [
    "### Модель LGBMRegressor."
   ]
  },
  {
   "cell_type": "code",
   "execution_count": 31,
   "metadata": {
    "scrolled": true
   },
   "outputs": [
    {
     "name": "stdout",
     "output_type": "stream",
     "text": [
      "[LightGBM] [Warning] No further splits with positive gain, best gain: -inf\n",
      "[LightGBM] [Warning] No further splits with positive gain, best gain: -inf\n",
      "[LightGBM] [Warning] No further splits with positive gain, best gain: -inf\n",
      "[LightGBM] [Warning] No further splits with positive gain, best gain: -inf\n",
      "[LightGBM] [Warning] No further splits with positive gain, best gain: -inf\n",
      "[LightGBM] [Warning] No further splits with positive gain, best gain: -inf\n",
      "[LightGBM] [Warning] No further splits with positive gain, best gain: -inf\n",
      "[LightGBM] [Warning] No further splits with positive gain, best gain: -inf\n",
      "[LightGBM] [Warning] No further splits with positive gain, best gain: -inf\n",
      "[LightGBM] [Warning] No further splits with positive gain, best gain: -inf\n",
      "[LightGBM] [Warning] No further splits with positive gain, best gain: -inf\n",
      "[LightGBM] [Warning] No further splits with positive gain, best gain: -inf\n",
      "[LightGBM] [Warning] No further splits with positive gain, best gain: -inf\n",
      "[LightGBM] [Warning] No further splits with positive gain, best gain: -inf\n",
      "[LightGBM] [Warning] No further splits with positive gain, best gain: -inf\n",
      "[LightGBM] [Warning] No further splits with positive gain, best gain: -inf\n",
      "[LightGBM] [Warning] No further splits with positive gain, best gain: -inf\n",
      "[LightGBM] [Warning] No further splits with positive gain, best gain: -inf\n",
      "[LightGBM] [Warning] No further splits with positive gain, best gain: -inf\n",
      "[LightGBM] [Warning] No further splits with positive gain, best gain: -inf\n",
      "[LightGBM] [Warning] No further splits with positive gain, best gain: -inf\n",
      "[LightGBM] [Warning] No further splits with positive gain, best gain: -inf\n",
      "[LightGBM] [Warning] No further splits with positive gain, best gain: -inf\n",
      "[LightGBM] [Warning] No further splits with positive gain, best gain: -inf\n",
      "[LightGBM] [Warning] No further splits with positive gain, best gain: -inf\n",
      "[LightGBM] [Warning] No further splits with positive gain, best gain: -inf\n",
      "[LightGBM] [Warning] No further splits with positive gain, best gain: -inf\n",
      "[LightGBM] [Warning] No further splits with positive gain, best gain: -inf\n",
      "[LightGBM] [Warning] No further splits with positive gain, best gain: -inf\n",
      "[LightGBM] [Warning] No further splits with positive gain, best gain: -inf\n",
      "[LightGBM] [Warning] No further splits with positive gain, best gain: -inf\n",
      "[LightGBM] [Warning] No further splits with positive gain, best gain: -inf\n",
      "[LightGBM] [Warning] No further splits with positive gain, best gain: -inf\n",
      "[LightGBM] [Warning] No further splits with positive gain, best gain: -inf\n",
      "[LightGBM] [Warning] No further splits with positive gain, best gain: -inf\n",
      "[LightGBM] [Warning] No further splits with positive gain, best gain: -inf\n",
      "[LightGBM] [Warning] No further splits with positive gain, best gain: -inf\n",
      "[LightGBM] [Warning] No further splits with positive gain, best gain: -inf\n",
      "[LightGBM] [Warning] No further splits with positive gain, best gain: -inf\n",
      "[LightGBM] [Warning] No further splits with positive gain, best gain: -inf\n",
      "[LightGBM] [Warning] No further splits with positive gain, best gain: -inf\n",
      "[LightGBM] [Warning] No further splits with positive gain, best gain: -inf\n",
      "[LightGBM] [Warning] No further splits with positive gain, best gain: -inf\n",
      "[LightGBM] [Warning] No further splits with positive gain, best gain: -inf\n",
      "[LightGBM] [Warning] No further splits with positive gain, best gain: -inf\n",
      "[LightGBM] [Warning] No further splits with positive gain, best gain: -inf\n",
      "[LightGBM] [Warning] No further splits with positive gain, best gain: -inf\n",
      "[LightGBM] [Warning] No further splits with positive gain, best gain: -inf\n",
      "[LightGBM] [Warning] No further splits with positive gain, best gain: -inf\n",
      "[LightGBM] [Warning] No further splits with positive gain, best gain: -inf\n",
      "[LightGBM] [Warning] No further splits with positive gain, best gain: -inf\n",
      "[LightGBM] [Warning] No further splits with positive gain, best gain: -inf\n",
      "[LightGBM] [Warning] No further splits with positive gain, best gain: -inf\n",
      "[LightGBM] [Warning] No further splits with positive gain, best gain: -inf\n",
      "[LightGBM] [Warning] No further splits with positive gain, best gain: -inf\n",
      "[LightGBM] [Warning] No further splits with positive gain, best gain: -inf\n",
      "[LightGBM] [Warning] No further splits with positive gain, best gain: -inf\n",
      "[LightGBM] [Warning] No further splits with positive gain, best gain: -inf\n",
      "[LightGBM] [Warning] No further splits with positive gain, best gain: -inf\n",
      "[LightGBM] [Warning] No further splits with positive gain, best gain: -inf\n",
      "[LightGBM] [Warning] No further splits with positive gain, best gain: -inf\n",
      "[LightGBM] [Warning] No further splits with positive gain, best gain: -inf\n",
      "[LightGBM] [Warning] No further splits with positive gain, best gain: -inf\n",
      "[LightGBM] [Warning] No further splits with positive gain, best gain: -inf\n",
      "[LightGBM] [Warning] No further splits with positive gain, best gain: -inf\n",
      "[LightGBM] [Warning] No further splits with positive gain, best gain: -inf\n",
      "[LightGBM] [Warning] No further splits with positive gain, best gain: -inf\n",
      "[LightGBM] [Warning] No further splits with positive gain, best gain: -inf\n",
      "[LightGBM] [Warning] No further splits with positive gain, best gain: -inf\n",
      "[LightGBM] [Warning] No further splits with positive gain, best gain: -inf\n",
      "[LightGBM] [Warning] No further splits with positive gain, best gain: -inf\n",
      "[LightGBM] [Warning] No further splits with positive gain, best gain: -inf\n",
      "[LightGBM] [Warning] No further splits with positive gain, best gain: -inf\n",
      "[LightGBM] [Warning] No further splits with positive gain, best gain: -inf\n",
      "[LightGBM] [Warning] No further splits with positive gain, best gain: -inf\n",
      "[LightGBM] [Warning] No further splits with positive gain, best gain: -inf\n",
      "[LightGBM] [Warning] No further splits with positive gain, best gain: -inf\n",
      "[LightGBM] [Warning] No further splits with positive gain, best gain: -inf\n",
      "[LightGBM] [Warning] No further splits with positive gain, best gain: -inf\n",
      "[LightGBM] [Warning] No further splits with positive gain, best gain: -inf\n",
      "[LightGBM] [Warning] No further splits with positive gain, best gain: -inf\n",
      "[LightGBM] [Warning] No further splits with positive gain, best gain: -inf\n",
      "[LightGBM] [Warning] No further splits with positive gain, best gain: -inf\n",
      "[LightGBM] [Warning] No further splits with positive gain, best gain: -inf\n",
      "[LightGBM] [Warning] No further splits with positive gain, best gain: -inf\n",
      "[LightGBM] [Warning] No further splits with positive gain, best gain: -inf\n",
      "[LightGBM] [Warning] No further splits with positive gain, best gain: -inf\n",
      "[LightGBM] [Warning] No further splits with positive gain, best gain: -inf\n",
      "[LightGBM] [Warning] No further splits with positive gain, best gain: -inf\n",
      "[LightGBM] [Warning] No further splits with positive gain, best gain: -inf\n",
      "[LightGBM] [Warning] No further splits with positive gain, best gain: -inf\n",
      "[LightGBM] [Warning] No further splits with positive gain, best gain: -inf\n",
      "[LightGBM] [Warning] No further splits with positive gain, best gain: -inf\n",
      "[LightGBM] [Warning] No further splits with positive gain, best gain: -inf\n",
      "[LightGBM] [Warning] No further splits with positive gain, best gain: -inf\n",
      "[LightGBM] [Warning] No further splits with positive gain, best gain: -inf\n",
      "[LightGBM] [Warning] No further splits with positive gain, best gain: -inf\n",
      "[LightGBM] [Warning] No further splits with positive gain, best gain: -inf\n",
      "[LightGBM] [Warning] No further splits with positive gain, best gain: -inf\n",
      "[LightGBM] [Warning] No further splits with positive gain, best gain: -inf\n",
      "[LightGBM] [Warning] No further splits with positive gain, best gain: -inf\n",
      "[LightGBM] [Warning] No further splits with positive gain, best gain: -inf\n",
      "[LightGBM] [Warning] No further splits with positive gain, best gain: -inf\n",
      "[LightGBM] [Warning] No further splits with positive gain, best gain: -inf\n",
      "[LightGBM] [Warning] No further splits with positive gain, best gain: -inf\n",
      "[LightGBM] [Warning] No further splits with positive gain, best gain: -inf\n",
      "[LightGBM] [Warning] No further splits with positive gain, best gain: -inf\n",
      "[LightGBM] [Warning] No further splits with positive gain, best gain: -inf\n",
      "[LightGBM] [Warning] No further splits with positive gain, best gain: -inf\n",
      "[LightGBM] [Warning] No further splits with positive gain, best gain: -inf\n",
      "[LightGBM] [Warning] No further splits with positive gain, best gain: -inf\n",
      "[LightGBM] [Warning] No further splits with positive gain, best gain: -inf\n",
      "[LightGBM] [Warning] No further splits with positive gain, best gain: -inf\n",
      "[LightGBM] [Warning] No further splits with positive gain, best gain: -inf\n",
      "[LightGBM] [Warning] No further splits with positive gain, best gain: -inf\n",
      "[LightGBM] [Warning] No further splits with positive gain, best gain: -inf\n",
      "[LightGBM] [Warning] No further splits with positive gain, best gain: -inf\n",
      "[LightGBM] [Warning] No further splits with positive gain, best gain: -inf\n",
      "[LightGBM] [Warning] No further splits with positive gain, best gain: -inf\n",
      "[LightGBM] [Warning] No further splits with positive gain, best gain: -inf\n",
      "[LightGBM] [Warning] No further splits with positive gain, best gain: -inf\n",
      "[LightGBM] [Warning] No further splits with positive gain, best gain: -inf\n",
      "[LightGBM] [Warning] No further splits with positive gain, best gain: -inf\n",
      "[LightGBM] [Warning] No further splits with positive gain, best gain: -inf\n",
      "[LightGBM] [Warning] No further splits with positive gain, best gain: -inf\n",
      "[LightGBM] [Warning] No further splits with positive gain, best gain: -inf\n",
      "[LightGBM] [Warning] No further splits with positive gain, best gain: -inf\n",
      "[LightGBM] [Warning] No further splits with positive gain, best gain: -inf\n",
      "[LightGBM] [Warning] No further splits with positive gain, best gain: -inf\n",
      "[LightGBM] [Warning] No further splits with positive gain, best gain: -inf\n",
      "[LightGBM] [Warning] No further splits with positive gain, best gain: -inf\n",
      "[LightGBM] [Warning] No further splits with positive gain, best gain: -inf\n",
      "[LightGBM] [Warning] No further splits with positive gain, best gain: -inf\n",
      "[LightGBM] [Warning] No further splits with positive gain, best gain: -inf\n",
      "[LightGBM] [Warning] No further splits with positive gain, best gain: -inf\n",
      "[LightGBM] [Warning] No further splits with positive gain, best gain: -inf\n",
      "[LightGBM] [Warning] No further splits with positive gain, best gain: -inf\n",
      "[LightGBM] [Warning] No further splits with positive gain, best gain: -inf\n",
      "[LightGBM] [Warning] No further splits with positive gain, best gain: -inf\n",
      "[LightGBM] [Warning] No further splits with positive gain, best gain: -inf\n",
      "[LightGBM] [Warning] No further splits with positive gain, best gain: -inf\n",
      "[LightGBM] [Warning] No further splits with positive gain, best gain: -inf\n",
      "[LightGBM] [Warning] No further splits with positive gain, best gain: -inf\n",
      "[LightGBM] [Warning] No further splits with positive gain, best gain: -inf\n",
      "[LightGBM] [Warning] No further splits with positive gain, best gain: -inf\n",
      "[LightGBM] [Warning] No further splits with positive gain, best gain: -inf\n",
      "[LightGBM] [Warning] No further splits with positive gain, best gain: -inf\n",
      "[LightGBM] [Warning] No further splits with positive gain, best gain: -inf\n",
      "[LightGBM] [Warning] No further splits with positive gain, best gain: -inf\n",
      "[LightGBM] [Warning] No further splits with positive gain, best gain: -inf\n",
      "[LightGBM] [Warning] No further splits with positive gain, best gain: -inf\n",
      "[LightGBM] [Warning] No further splits with positive gain, best gain: -inf\n",
      "[LightGBM] [Warning] No further splits with positive gain, best gain: -inf\n",
      "[LightGBM] [Warning] No further splits with positive gain, best gain: -inf\n",
      "[LightGBM] [Warning] No further splits with positive gain, best gain: -inf\n",
      "[LightGBM] [Warning] No further splits with positive gain, best gain: -inf\n",
      "[LightGBM] [Warning] No further splits with positive gain, best gain: -inf\n",
      "[LightGBM] [Warning] No further splits with positive gain, best gain: -inf\n",
      "[LightGBM] [Warning] No further splits with positive gain, best gain: -inf\n",
      "[LightGBM] [Warning] No further splits with positive gain, best gain: -inf\n",
      "[LightGBM] [Warning] No further splits with positive gain, best gain: -inf\n",
      "[LightGBM] [Warning] No further splits with positive gain, best gain: -inf\n",
      "[LightGBM] [Warning] No further splits with positive gain, best gain: -inf\n",
      "[LightGBM] [Warning] No further splits with positive gain, best gain: -inf\n",
      "[LightGBM] [Warning] No further splits with positive gain, best gain: -inf\n",
      "[LightGBM] [Warning] No further splits with positive gain, best gain: -inf\n",
      "[LightGBM] [Warning] No further splits with positive gain, best gain: -inf\n",
      "[LightGBM] [Warning] No further splits with positive gain, best gain: -inf\n",
      "[LightGBM] [Warning] No further splits with positive gain, best gain: -inf\n",
      "[LightGBM] [Warning] No further splits with positive gain, best gain: -inf\n",
      "[LightGBM] [Warning] No further splits with positive gain, best gain: -inf\n",
      "[LightGBM] [Warning] No further splits with positive gain, best gain: -inf\n",
      "[LightGBM] [Warning] No further splits with positive gain, best gain: -inf\n",
      "[LightGBM] [Warning] No further splits with positive gain, best gain: -inf\n",
      "[LightGBM] [Warning] No further splits with positive gain, best gain: -inf\n",
      "[LightGBM] [Warning] No further splits with positive gain, best gain: -inf\n",
      "[LightGBM] [Warning] No further splits with positive gain, best gain: -inf\n",
      "[LightGBM] [Warning] No further splits with positive gain, best gain: -inf\n",
      "[LightGBM] [Warning] No further splits with positive gain, best gain: -inf\n",
      "[LightGBM] [Warning] No further splits with positive gain, best gain: -inf\n",
      "[LightGBM] [Warning] No further splits with positive gain, best gain: -inf\n",
      "[LightGBM] [Warning] No further splits with positive gain, best gain: -inf\n",
      "[LightGBM] [Warning] No further splits with positive gain, best gain: -inf\n",
      "[LightGBM] [Warning] No further splits with positive gain, best gain: -inf\n",
      "[LightGBM] [Warning] No further splits with positive gain, best gain: -inf\n",
      "[LightGBM] [Warning] No further splits with positive gain, best gain: -inf\n",
      "[LightGBM] [Warning] No further splits with positive gain, best gain: -inf\n",
      "[LightGBM] [Warning] No further splits with positive gain, best gain: -inf\n",
      "[LightGBM] [Warning] No further splits with positive gain, best gain: -inf\n",
      "[LightGBM] [Warning] No further splits with positive gain, best gain: -inf\n",
      "[LightGBM] [Warning] No further splits with positive gain, best gain: -inf\n",
      "[LightGBM] [Warning] No further splits with positive gain, best gain: -inf\n",
      "[LightGBM] [Warning] No further splits with positive gain, best gain: -inf\n",
      "[LightGBM] [Warning] No further splits with positive gain, best gain: -inf\n",
      "[LightGBM] [Warning] No further splits with positive gain, best gain: -inf\n",
      "[LightGBM] [Warning] No further splits with positive gain, best gain: -inf\n",
      "[LightGBM] [Warning] No further splits with positive gain, best gain: -inf\n",
      "[LightGBM] [Warning] No further splits with positive gain, best gain: -inf\n",
      "[LightGBM] [Warning] No further splits with positive gain, best gain: -inf\n",
      "[LightGBM] [Warning] No further splits with positive gain, best gain: -inf\n",
      "[LightGBM] [Warning] No further splits with positive gain, best gain: -inf\n",
      "[LightGBM] [Warning] No further splits with positive gain, best gain: -inf\n",
      "[LightGBM] [Warning] No further splits with positive gain, best gain: -inf\n",
      "[LightGBM] [Warning] No further splits with positive gain, best gain: -inf\n",
      "[LightGBM] [Warning] No further splits with positive gain, best gain: -inf\n",
      "[LightGBM] [Warning] No further splits with positive gain, best gain: -inf\n",
      "[LightGBM] [Warning] No further splits with positive gain, best gain: -inf\n",
      "[LightGBM] [Warning] No further splits with positive gain, best gain: -inf\n",
      "[LightGBM] [Warning] No further splits with positive gain, best gain: -inf\n",
      "[LightGBM] [Warning] No further splits with positive gain, best gain: -inf\n",
      "[LightGBM] [Warning] No further splits with positive gain, best gain: -inf\n",
      "[LightGBM] [Warning] No further splits with positive gain, best gain: -inf\n",
      "[LightGBM] [Warning] No further splits with positive gain, best gain: -inf\n",
      "[LightGBM] [Warning] No further splits with positive gain, best gain: -inf\n",
      "[LightGBM] [Warning] No further splits with positive gain, best gain: -inf\n",
      "[LightGBM] [Warning] No further splits with positive gain, best gain: -inf\n",
      "[LightGBM] [Warning] No further splits with positive gain, best gain: -inf\n",
      "[LightGBM] [Warning] No further splits with positive gain, best gain: -inf\n",
      "[LightGBM] [Warning] No further splits with positive gain, best gain: -inf\n",
      "[LightGBM] [Warning] No further splits with positive gain, best gain: -inf\n",
      "[LightGBM] [Warning] No further splits with positive gain, best gain: -inf\n",
      "[LightGBM] [Warning] No further splits with positive gain, best gain: -inf\n",
      "[LightGBM] [Warning] No further splits with positive gain, best gain: -inf\n",
      "[LightGBM] [Warning] No further splits with positive gain, best gain: -inf\n",
      "[LightGBM] [Warning] No further splits with positive gain, best gain: -inf\n",
      "[LightGBM] [Warning] No further splits with positive gain, best gain: -inf\n",
      "[LightGBM] [Warning] No further splits with positive gain, best gain: -inf\n",
      "[LightGBM] [Warning] No further splits with positive gain, best gain: -inf\n",
      "[LightGBM] [Warning] No further splits with positive gain, best gain: -inf\n",
      "[LightGBM] [Warning] No further splits with positive gain, best gain: -inf\n",
      "[LightGBM] [Warning] No further splits with positive gain, best gain: -inf\n",
      "[LightGBM] [Warning] No further splits with positive gain, best gain: -inf\n",
      "[LightGBM] [Warning] No further splits with positive gain, best gain: -inf\n",
      "[LightGBM] [Warning] No further splits with positive gain, best gain: -inf\n",
      "[LightGBM] [Warning] No further splits with positive gain, best gain: -inf\n",
      "[LightGBM] [Warning] No further splits with positive gain, best gain: -inf\n",
      "[LightGBM] [Warning] No further splits with positive gain, best gain: -inf\n",
      "[LightGBM] [Warning] No further splits with positive gain, best gain: -inf\n",
      "[LightGBM] [Warning] No further splits with positive gain, best gain: -inf\n",
      "[LightGBM] [Warning] No further splits with positive gain, best gain: -inf\n",
      "[LightGBM] [Warning] No further splits with positive gain, best gain: -inf\n",
      "[LightGBM] [Warning] No further splits with positive gain, best gain: -inf\n",
      "[LightGBM] [Warning] No further splits with positive gain, best gain: -inf\n",
      "[LightGBM] [Warning] No further splits with positive gain, best gain: -inf\n",
      "[LightGBM] [Warning] No further splits with positive gain, best gain: -inf\n",
      "[LightGBM] [Warning] No further splits with positive gain, best gain: -inf\n",
      "[LightGBM] [Warning] No further splits with positive gain, best gain: -inf\n",
      "[LightGBM] [Warning] No further splits with positive gain, best gain: -inf\n",
      "[LightGBM] [Warning] No further splits with positive gain, best gain: -inf\n",
      "[LightGBM] [Warning] No further splits with positive gain, best gain: -inf\n",
      "[LightGBM] [Warning] No further splits with positive gain, best gain: -inf\n",
      "[LightGBM] [Warning] No further splits with positive gain, best gain: -inf\n",
      "[LightGBM] [Warning] No further splits with positive gain, best gain: -inf\n",
      "[LightGBM] [Warning] No further splits with positive gain, best gain: -inf\n",
      "[LightGBM] [Warning] No further splits with positive gain, best gain: -inf\n",
      "[LightGBM] [Warning] No further splits with positive gain, best gain: -inf\n",
      "[LightGBM] [Warning] No further splits with positive gain, best gain: -inf\n",
      "[LightGBM] [Warning] No further splits with positive gain, best gain: -inf\n",
      "[LightGBM] [Warning] No further splits with positive gain, best gain: -inf\n",
      "[LightGBM] [Warning] No further splits with positive gain, best gain: -inf\n",
      "[LightGBM] [Warning] No further splits with positive gain, best gain: -inf\n",
      "[LightGBM] [Warning] No further splits with positive gain, best gain: -inf\n",
      "[LightGBM] [Warning] No further splits with positive gain, best gain: -inf\n",
      "[LightGBM] [Warning] No further splits with positive gain, best gain: -inf\n",
      "[LightGBM] [Warning] No further splits with positive gain, best gain: -inf\n",
      "[LightGBM] [Warning] No further splits with positive gain, best gain: -inf\n",
      "[LightGBM] [Warning] No further splits with positive gain, best gain: -inf\n",
      "[LightGBM] [Warning] No further splits with positive gain, best gain: -inf\n",
      "[LightGBM] [Warning] No further splits with positive gain, best gain: -inf\n",
      "[LightGBM] [Warning] No further splits with positive gain, best gain: -inf\n",
      "[LightGBM] [Warning] No further splits with positive gain, best gain: -inf\n",
      "[LightGBM] [Warning] No further splits with positive gain, best gain: -inf\n",
      "[LightGBM] [Warning] No further splits with positive gain, best gain: -inf\n",
      "[LightGBM] [Warning] No further splits with positive gain, best gain: -inf\n",
      "[LightGBM] [Warning] No further splits with positive gain, best gain: -inf\n",
      "[LightGBM] [Warning] No further splits with positive gain, best gain: -inf\n",
      "[LightGBM] [Warning] No further splits with positive gain, best gain: -inf\n",
      "[LightGBM] [Warning] No further splits with positive gain, best gain: -inf\n",
      "[LightGBM] [Warning] No further splits with positive gain, best gain: -inf\n",
      "[LightGBM] [Warning] No further splits with positive gain, best gain: -inf\n",
      "[LightGBM] [Warning] No further splits with positive gain, best gain: -inf\n",
      "[LightGBM] [Warning] No further splits with positive gain, best gain: -inf\n",
      "[LightGBM] [Warning] No further splits with positive gain, best gain: -inf\n",
      "[LightGBM] [Warning] No further splits with positive gain, best gain: -inf\n",
      "[LightGBM] [Warning] No further splits with positive gain, best gain: -inf\n",
      "[LightGBM] [Warning] No further splits with positive gain, best gain: -inf\n",
      "[LightGBM] [Warning] No further splits with positive gain, best gain: -inf\n",
      "[LightGBM] [Warning] No further splits with positive gain, best gain: -inf\n",
      "[LightGBM] [Warning] No further splits with positive gain, best gain: -inf\n",
      "[LightGBM] [Warning] No further splits with positive gain, best gain: -inf\n",
      "[LightGBM] [Warning] No further splits with positive gain, best gain: -inf\n",
      "[LightGBM] [Warning] No further splits with positive gain, best gain: -inf\n",
      "[LightGBM] [Warning] No further splits with positive gain, best gain: -inf\n",
      "[LightGBM] [Warning] No further splits with positive gain, best gain: -inf\n",
      "[LightGBM] [Warning] No further splits with positive gain, best gain: -inf\n",
      "[LightGBM] [Warning] No further splits with positive gain, best gain: -inf\n",
      "[LightGBM] [Warning] No further splits with positive gain, best gain: -inf\n",
      "[LightGBM] [Warning] No further splits with positive gain, best gain: -inf\n",
      "[LightGBM] [Warning] No further splits with positive gain, best gain: -inf\n",
      "[LightGBM] [Warning] No further splits with positive gain, best gain: -inf\n",
      "[LightGBM] [Warning] No further splits with positive gain, best gain: -inf\n",
      "[LightGBM] [Warning] No further splits with positive gain, best gain: -inf\n",
      "[LightGBM] [Warning] No further splits with positive gain, best gain: -inf\n",
      "[LightGBM] [Warning] No further splits with positive gain, best gain: -inf\n",
      "[LightGBM] [Warning] No further splits with positive gain, best gain: -inf\n",
      "[LightGBM] [Warning] No further splits with positive gain, best gain: -inf\n",
      "[LightGBM] [Warning] No further splits with positive gain, best gain: -inf\n",
      "[LightGBM] [Warning] No further splits with positive gain, best gain: -inf\n",
      "[LightGBM] [Warning] No further splits with positive gain, best gain: -inf\n",
      "[LightGBM] [Warning] No further splits with positive gain, best gain: -inf\n",
      "[LightGBM] [Warning] No further splits with positive gain, best gain: -inf\n",
      "[LightGBM] [Warning] No further splits with positive gain, best gain: -inf\n",
      "[LightGBM] [Warning] No further splits with positive gain, best gain: -inf\n",
      "[LightGBM] [Warning] No further splits with positive gain, best gain: -inf\n",
      "[LightGBM] [Warning] No further splits with positive gain, best gain: -inf\n",
      "[LightGBM] [Warning] No further splits with positive gain, best gain: -inf\n",
      "[LightGBM] [Warning] No further splits with positive gain, best gain: -inf\n",
      "[LightGBM] [Warning] No further splits with positive gain, best gain: -inf\n",
      "[LightGBM] [Warning] No further splits with positive gain, best gain: -inf\n",
      "[LightGBM] [Warning] No further splits with positive gain, best gain: -inf\n",
      "[LightGBM] [Warning] No further splits with positive gain, best gain: -inf\n",
      "[LightGBM] [Warning] No further splits with positive gain, best gain: -inf\n",
      "[LightGBM] [Warning] No further splits with positive gain, best gain: -inf\n",
      "[LightGBM] [Warning] No further splits with positive gain, best gain: -inf\n",
      "[LightGBM] [Warning] No further splits with positive gain, best gain: -inf\n",
      "[LightGBM] [Warning] No further splits with positive gain, best gain: -inf\n",
      "[LightGBM] [Warning] No further splits with positive gain, best gain: -inf\n",
      "[LightGBM] [Warning] No further splits with positive gain, best gain: -inf\n",
      "[LightGBM] [Warning] No further splits with positive gain, best gain: -inf\n",
      "[LightGBM] [Warning] No further splits with positive gain, best gain: -inf\n",
      "[LightGBM] [Warning] No further splits with positive gain, best gain: -inf\n",
      "[LightGBM] [Warning] No further splits with positive gain, best gain: -inf\n",
      "[LightGBM] [Warning] No further splits with positive gain, best gain: -inf\n",
      "[LightGBM] [Warning] No further splits with positive gain, best gain: -inf\n",
      "[LightGBM] [Warning] No further splits with positive gain, best gain: -inf\n",
      "[LightGBM] [Warning] No further splits with positive gain, best gain: -inf\n",
      "[LightGBM] [Warning] No further splits with positive gain, best gain: -inf\n",
      "[LightGBM] [Warning] No further splits with positive gain, best gain: -inf\n",
      "[LightGBM] [Warning] No further splits with positive gain, best gain: -inf\n",
      "[LightGBM] [Warning] No further splits with positive gain, best gain: -inf\n",
      "[LightGBM] [Warning] No further splits with positive gain, best gain: -inf\n",
      "[LightGBM] [Warning] No further splits with positive gain, best gain: -inf\n",
      "[LightGBM] [Warning] No further splits with positive gain, best gain: -inf\n",
      "[LightGBM] [Warning] No further splits with positive gain, best gain: -inf\n",
      "[LightGBM] [Warning] No further splits with positive gain, best gain: -inf\n",
      "[LightGBM] [Warning] No further splits with positive gain, best gain: -inf\n",
      "[LightGBM] [Warning] No further splits with positive gain, best gain: -inf\n",
      "[LightGBM] [Warning] No further splits with positive gain, best gain: -inf\n",
      "[LightGBM] [Warning] No further splits with positive gain, best gain: -inf\n",
      "[LightGBM] [Warning] No further splits with positive gain, best gain: -inf\n",
      "[LightGBM] [Warning] No further splits with positive gain, best gain: -inf\n",
      "[LightGBM] [Warning] No further splits with positive gain, best gain: -inf\n",
      "[LightGBM] [Warning] No further splits with positive gain, best gain: -inf\n",
      "[LightGBM] [Warning] No further splits with positive gain, best gain: -inf\n",
      "[LightGBM] [Warning] No further splits with positive gain, best gain: -inf\n",
      "[LightGBM] [Warning] No further splits with positive gain, best gain: -inf\n",
      "[LightGBM] [Warning] No further splits with positive gain, best gain: -inf\n",
      "[LightGBM] [Warning] No further splits with positive gain, best gain: -inf\n",
      "[LightGBM] [Warning] No further splits with positive gain, best gain: -inf\n",
      "[LightGBM] [Warning] No further splits with positive gain, best gain: -inf\n",
      "[LightGBM] [Warning] No further splits with positive gain, best gain: -inf\n",
      "[LightGBM] [Warning] No further splits with positive gain, best gain: -inf\n",
      "[LightGBM] [Warning] No further splits with positive gain, best gain: -inf\n",
      "[LightGBM] [Warning] No further splits with positive gain, best gain: -inf\n",
      "[LightGBM] [Warning] No further splits with positive gain, best gain: -inf\n",
      "[LightGBM] [Warning] No further splits with positive gain, best gain: -inf\n",
      "[LightGBM] [Warning] No further splits with positive gain, best gain: -inf\n",
      "[LightGBM] [Warning] No further splits with positive gain, best gain: -inf\n",
      "[LightGBM] [Warning] No further splits with positive gain, best gain: -inf\n",
      "[LightGBM] [Warning] No further splits with positive gain, best gain: -inf\n",
      "[LightGBM] [Warning] No further splits with positive gain, best gain: -inf\n",
      "[LightGBM] [Warning] No further splits with positive gain, best gain: -inf\n",
      "[LightGBM] [Warning] No further splits with positive gain, best gain: -inf\n",
      "[LightGBM] [Warning] No further splits with positive gain, best gain: -inf\n",
      "[LightGBM] [Warning] No further splits with positive gain, best gain: -inf\n",
      "[LightGBM] [Warning] No further splits with positive gain, best gain: -inf\n",
      "[LightGBM] [Warning] No further splits with positive gain, best gain: -inf\n",
      "[LightGBM] [Warning] No further splits with positive gain, best gain: -inf\n",
      "[LightGBM] [Warning] No further splits with positive gain, best gain: -inf\n",
      "[LightGBM] [Warning] No further splits with positive gain, best gain: -inf\n",
      "[LightGBM] [Warning] No further splits with positive gain, best gain: -inf\n",
      "[LightGBM] [Warning] No further splits with positive gain, best gain: -inf\n",
      "[LightGBM] [Warning] No further splits with positive gain, best gain: -inf\n",
      "[LightGBM] [Warning] No further splits with positive gain, best gain: -inf\n",
      "[LightGBM] [Warning] No further splits with positive gain, best gain: -inf\n",
      "[LightGBM] [Warning] No further splits with positive gain, best gain: -inf\n",
      "[LightGBM] [Warning] No further splits with positive gain, best gain: -inf\n",
      "[LightGBM] [Warning] No further splits with positive gain, best gain: -inf\n",
      "[LightGBM] [Warning] No further splits with positive gain, best gain: -inf\n",
      "[LightGBM] [Warning] No further splits with positive gain, best gain: -inf\n",
      "[LightGBM] [Warning] No further splits with positive gain, best gain: -inf\n",
      "[LightGBM] [Warning] No further splits with positive gain, best gain: -inf\n",
      "[LightGBM] [Warning] No further splits with positive gain, best gain: -inf\n",
      "[LightGBM] [Warning] No further splits with positive gain, best gain: -inf\n",
      "[LightGBM] [Warning] No further splits with positive gain, best gain: -inf\n",
      "[LightGBM] [Warning] No further splits with positive gain, best gain: -inf\n",
      "[LightGBM] [Warning] No further splits with positive gain, best gain: -inf\n",
      "[LightGBM] [Warning] No further splits with positive gain, best gain: -inf\n",
      "[LightGBM] [Warning] No further splits with positive gain, best gain: -inf\n",
      "[LightGBM] [Warning] No further splits with positive gain, best gain: -inf\n",
      "[LightGBM] [Warning] No further splits with positive gain, best gain: -inf\n",
      "[LightGBM] [Warning] No further splits with positive gain, best gain: -inf\n",
      "[LightGBM] [Warning] No further splits with positive gain, best gain: -inf\n",
      "[LightGBM] [Warning] No further splits with positive gain, best gain: -inf\n",
      "[LightGBM] [Warning] No further splits with positive gain, best gain: -inf\n",
      "[LightGBM] [Warning] No further splits with positive gain, best gain: -inf\n",
      "[LightGBM] [Warning] No further splits with positive gain, best gain: -inf\n",
      "[LightGBM] [Warning] No further splits with positive gain, best gain: -inf\n",
      "[LightGBM] [Warning] No further splits with positive gain, best gain: -inf\n",
      "[LightGBM] [Warning] No further splits with positive gain, best gain: -inf\n",
      "[LightGBM] [Warning] No further splits with positive gain, best gain: -inf\n",
      "[LightGBM] [Warning] No further splits with positive gain, best gain: -inf\n",
      "[LightGBM] [Warning] No further splits with positive gain, best gain: -inf\n",
      "[LightGBM] [Warning] No further splits with positive gain, best gain: -inf\n",
      "[LightGBM] [Warning] No further splits with positive gain, best gain: -inf\n",
      "[LightGBM] [Warning] No further splits with positive gain, best gain: -inf\n",
      "[LightGBM] [Warning] No further splits with positive gain, best gain: -inf\n",
      "[LightGBM] [Warning] No further splits with positive gain, best gain: -inf\n",
      "[LightGBM] [Warning] No further splits with positive gain, best gain: -inf\n",
      "[LightGBM] [Warning] No further splits with positive gain, best gain: -inf\n",
      "[LightGBM] [Warning] No further splits with positive gain, best gain: -inf\n",
      "[LightGBM] [Warning] No further splits with positive gain, best gain: -inf\n",
      "[LightGBM] [Warning] No further splits with positive gain, best gain: -inf\n",
      "[LightGBM] [Warning] No further splits with positive gain, best gain: -inf\n",
      "[LightGBM] [Warning] No further splits with positive gain, best gain: -inf\n",
      "[LightGBM] [Warning] No further splits with positive gain, best gain: -inf\n",
      "[LightGBM] [Warning] No further splits with positive gain, best gain: -inf\n",
      "[LightGBM] [Warning] No further splits with positive gain, best gain: -inf\n",
      "[LightGBM] [Warning] No further splits with positive gain, best gain: -inf\n",
      "[LightGBM] [Warning] No further splits with positive gain, best gain: -inf\n",
      "[LightGBM] [Warning] No further splits with positive gain, best gain: -inf\n",
      "[LightGBM] [Warning] No further splits with positive gain, best gain: -inf\n",
      "[LightGBM] [Warning] No further splits with positive gain, best gain: -inf\n",
      "[LightGBM] [Warning] No further splits with positive gain, best gain: -inf\n",
      "[LightGBM] [Warning] No further splits with positive gain, best gain: -inf\n",
      "[LightGBM] [Warning] No further splits with positive gain, best gain: -inf\n",
      "[LightGBM] [Warning] No further splits with positive gain, best gain: -inf\n",
      "[LightGBM] [Warning] No further splits with positive gain, best gain: -inf\n",
      "[LightGBM] [Warning] No further splits with positive gain, best gain: -inf\n",
      "[LightGBM] [Warning] No further splits with positive gain, best gain: -inf\n",
      "[LightGBM] [Warning] No further splits with positive gain, best gain: -inf\n",
      "[LightGBM] [Warning] No further splits with positive gain, best gain: -inf\n",
      "[LightGBM] [Warning] No further splits with positive gain, best gain: -inf\n",
      "[LightGBM] [Warning] No further splits with positive gain, best gain: -inf\n",
      "[LightGBM] [Warning] No further splits with positive gain, best gain: -inf\n",
      "[LightGBM] [Warning] No further splits with positive gain, best gain: -inf\n",
      "[LightGBM] [Warning] No further splits with positive gain, best gain: -inf\n",
      "[LightGBM] [Warning] No further splits with positive gain, best gain: -inf\n",
      "[LightGBM] [Warning] No further splits with positive gain, best gain: -inf\n",
      "[LightGBM] [Warning] No further splits with positive gain, best gain: -inf\n",
      "[LightGBM] [Warning] No further splits with positive gain, best gain: -inf\n",
      "[LightGBM] [Warning] No further splits with positive gain, best gain: -inf\n",
      "[LightGBM] [Warning] No further splits with positive gain, best gain: -inf\n",
      "[LightGBM] [Warning] No further splits with positive gain, best gain: -inf\n",
      "[LightGBM] [Warning] No further splits with positive gain, best gain: -inf\n",
      "[LightGBM] [Warning] No further splits with positive gain, best gain: -inf\n",
      "[LightGBM] [Warning] No further splits with positive gain, best gain: -inf\n",
      "[LightGBM] [Warning] No further splits with positive gain, best gain: -inf\n",
      "[LightGBM] [Warning] No further splits with positive gain, best gain: -inf\n",
      "[LightGBM] [Warning] No further splits with positive gain, best gain: -inf\n",
      "[LightGBM] [Warning] No further splits with positive gain, best gain: -inf\n",
      "[LightGBM] [Warning] No further splits with positive gain, best gain: -inf\n",
      "[LightGBM] [Warning] No further splits with positive gain, best gain: -inf\n",
      "[LightGBM] [Warning] No further splits with positive gain, best gain: -inf\n",
      "[LightGBM] [Warning] No further splits with positive gain, best gain: -inf\n",
      "[LightGBM] [Warning] No further splits with positive gain, best gain: -inf\n",
      "[LightGBM] [Warning] No further splits with positive gain, best gain: -inf\n",
      "[LightGBM] [Warning] No further splits with positive gain, best gain: -inf\n",
      "[LightGBM] [Warning] No further splits with positive gain, best gain: -inf\n",
      "[LightGBM] [Warning] No further splits with positive gain, best gain: -inf\n",
      "[LightGBM] [Warning] No further splits with positive gain, best gain: -inf\n",
      "[LightGBM] [Warning] No further splits with positive gain, best gain: -inf\n",
      "[LightGBM] [Warning] No further splits with positive gain, best gain: -inf\n",
      "[LightGBM] [Warning] No further splits with positive gain, best gain: -inf\n",
      "[LightGBM] [Warning] No further splits with positive gain, best gain: -inf\n",
      "[LightGBM] [Warning] No further splits with positive gain, best gain: -inf\n",
      "[LightGBM] [Warning] No further splits with positive gain, best gain: -inf\n",
      "[LightGBM] [Warning] No further splits with positive gain, best gain: -inf\n",
      "[LightGBM] [Warning] No further splits with positive gain, best gain: -inf\n",
      "[LightGBM] [Warning] No further splits with positive gain, best gain: -inf\n",
      "[LightGBM] [Warning] No further splits with positive gain, best gain: -inf\n",
      "[LightGBM] [Warning] No further splits with positive gain, best gain: -inf\n",
      "[LightGBM] [Warning] No further splits with positive gain, best gain: -inf\n",
      "[LightGBM] [Warning] No further splits with positive gain, best gain: -inf\n",
      "[LightGBM] [Warning] No further splits with positive gain, best gain: -inf\n",
      "[LightGBM] [Warning] No further splits with positive gain, best gain: -inf\n",
      "[LightGBM] [Warning] No further splits with positive gain, best gain: -inf\n",
      "[LightGBM] [Warning] No further splits with positive gain, best gain: -inf\n",
      "[LightGBM] [Warning] No further splits with positive gain, best gain: -inf\n",
      "[LightGBM] [Warning] No further splits with positive gain, best gain: -inf\n",
      "[LightGBM] [Warning] No further splits with positive gain, best gain: -inf\n",
      "[LightGBM] [Warning] No further splits with positive gain, best gain: -inf\n",
      "[LightGBM] [Warning] No further splits with positive gain, best gain: -inf\n",
      "[LightGBM] [Warning] No further splits with positive gain, best gain: -inf\n",
      "[LightGBM] [Warning] No further splits with positive gain, best gain: -inf\n",
      "[LightGBM] [Warning] No further splits with positive gain, best gain: -inf\n",
      "[LightGBM] [Warning] No further splits with positive gain, best gain: -inf\n",
      "[LightGBM] [Warning] No further splits with positive gain, best gain: -inf\n",
      "[LightGBM] [Warning] No further splits with positive gain, best gain: -inf\n",
      "[LightGBM] [Warning] No further splits with positive gain, best gain: -inf\n",
      "[LightGBM] [Warning] No further splits with positive gain, best gain: -inf\n",
      "[LightGBM] [Warning] No further splits with positive gain, best gain: -inf\n",
      "[LightGBM] [Warning] No further splits with positive gain, best gain: -inf\n",
      "[LightGBM] [Warning] No further splits with positive gain, best gain: -inf\n",
      "[LightGBM] [Warning] No further splits with positive gain, best gain: -inf\n",
      "[LightGBM] [Warning] No further splits with positive gain, best gain: -inf\n",
      "[LightGBM] [Warning] No further splits with positive gain, best gain: -inf\n",
      "[LightGBM] [Warning] No further splits with positive gain, best gain: -inf\n",
      "[LightGBM] [Warning] No further splits with positive gain, best gain: -inf\n",
      "[LightGBM] [Warning] No further splits with positive gain, best gain: -inf\n",
      "[LightGBM] [Warning] No further splits with positive gain, best gain: -inf\n",
      "[LightGBM] [Warning] No further splits with positive gain, best gain: -inf\n",
      "[LightGBM] [Warning] No further splits with positive gain, best gain: -inf\n",
      "[LightGBM] [Warning] No further splits with positive gain, best gain: -inf\n",
      "[LightGBM] [Warning] No further splits with positive gain, best gain: -inf\n",
      "[LightGBM] [Warning] No further splits with positive gain, best gain: -inf\n",
      "[LightGBM] [Warning] No further splits with positive gain, best gain: -inf\n",
      "[LightGBM] [Warning] No further splits with positive gain, best gain: -inf\n",
      "[LightGBM] [Warning] No further splits with positive gain, best gain: -inf\n",
      "[LightGBM] [Warning] No further splits with positive gain, best gain: -inf\n",
      "[LightGBM] [Warning] No further splits with positive gain, best gain: -inf\n",
      "[LightGBM] [Warning] No further splits with positive gain, best gain: -inf\n",
      "[LightGBM] [Warning] No further splits with positive gain, best gain: -inf\n",
      "[LightGBM] [Warning] No further splits with positive gain, best gain: -inf\n",
      "[LightGBM] [Warning] No further splits with positive gain, best gain: -inf\n",
      "[LightGBM] [Warning] No further splits with positive gain, best gain: -inf\n",
      "[LightGBM] [Warning] No further splits with positive gain, best gain: -inf\n",
      "[LightGBM] [Warning] No further splits with positive gain, best gain: -inf\n",
      "[LightGBM] [Warning] No further splits with positive gain, best gain: -inf\n",
      "[LightGBM] [Warning] No further splits with positive gain, best gain: -inf\n",
      "[LightGBM] [Warning] No further splits with positive gain, best gain: -inf\n",
      "[LightGBM] [Warning] No further splits with positive gain, best gain: -inf\n",
      "[LightGBM] [Warning] No further splits with positive gain, best gain: -inf\n",
      "[LightGBM] [Warning] No further splits with positive gain, best gain: -inf\n",
      "[LightGBM] [Warning] No further splits with positive gain, best gain: -inf\n",
      "[LightGBM] [Warning] No further splits with positive gain, best gain: -inf\n",
      "[LightGBM] [Warning] No further splits with positive gain, best gain: -inf\n",
      "[LightGBM] [Warning] No further splits with positive gain, best gain: -inf\n",
      "[LightGBM] [Warning] No further splits with positive gain, best gain: -inf\n",
      "[LightGBM] [Warning] No further splits with positive gain, best gain: -inf\n",
      "[LightGBM] [Warning] No further splits with positive gain, best gain: -inf\n",
      "[LightGBM] [Warning] No further splits with positive gain, best gain: -inf\n",
      "[LightGBM] [Warning] No further splits with positive gain, best gain: -inf\n",
      "[LightGBM] [Warning] No further splits with positive gain, best gain: -inf\n",
      "[LightGBM] [Warning] No further splits with positive gain, best gain: -inf\n",
      "[LightGBM] [Warning] No further splits with positive gain, best gain: -inf\n",
      "[LightGBM] [Warning] No further splits with positive gain, best gain: -inf\n",
      "[LightGBM] [Warning] No further splits with positive gain, best gain: -inf\n",
      "[LightGBM] [Warning] No further splits with positive gain, best gain: -inf\n",
      "[LightGBM] [Warning] No further splits with positive gain, best gain: -inf\n",
      "[LightGBM] [Warning] No further splits with positive gain, best gain: -inf\n",
      "[LightGBM] [Warning] No further splits with positive gain, best gain: -inf\n",
      "[LightGBM] [Warning] No further splits with positive gain, best gain: -inf\n",
      "[LightGBM] [Warning] No further splits with positive gain, best gain: -inf\n",
      "[LightGBM] [Warning] No further splits with positive gain, best gain: -inf\n",
      "[LightGBM] [Warning] No further splits with positive gain, best gain: -inf\n",
      "[LightGBM] [Warning] No further splits with positive gain, best gain: -inf\n",
      "[LightGBM] [Warning] No further splits with positive gain, best gain: -inf\n",
      "[LightGBM] [Warning] No further splits with positive gain, best gain: -inf\n",
      "[LightGBM] [Warning] No further splits with positive gain, best gain: -inf\n",
      "[LightGBM] [Warning] No further splits with positive gain, best gain: -inf\n",
      "[LightGBM] [Warning] No further splits with positive gain, best gain: -inf\n",
      "[LightGBM] [Warning] No further splits with positive gain, best gain: -inf\n",
      "[LightGBM] [Warning] No further splits with positive gain, best gain: -inf\n",
      "[LightGBM] [Warning] No further splits with positive gain, best gain: -inf\n",
      "[LightGBM] [Warning] No further splits with positive gain, best gain: -inf\n",
      "[LightGBM] [Warning] No further splits with positive gain, best gain: -inf\n",
      "[LightGBM] [Warning] No further splits with positive gain, best gain: -inf\n",
      "[LightGBM] [Warning] No further splits with positive gain, best gain: -inf\n",
      "[LightGBM] [Warning] No further splits with positive gain, best gain: -inf\n",
      "[LightGBM] [Warning] No further splits with positive gain, best gain: -inf\n",
      "[LightGBM] [Warning] No further splits with positive gain, best gain: -inf\n",
      "[LightGBM] [Warning] No further splits with positive gain, best gain: -inf\n",
      "[LightGBM] [Warning] No further splits with positive gain, best gain: -inf\n",
      "[LightGBM] [Warning] No further splits with positive gain, best gain: -inf\n",
      "[LightGBM] [Warning] No further splits with positive gain, best gain: -inf\n",
      "[LightGBM] [Warning] No further splits with positive gain, best gain: -inf\n",
      "[LightGBM] [Warning] No further splits with positive gain, best gain: -inf\n",
      "[LightGBM] [Warning] No further splits with positive gain, best gain: -inf\n",
      "[LightGBM] [Warning] No further splits with positive gain, best gain: -inf\n",
      "[LightGBM] [Warning] No further splits with positive gain, best gain: -inf\n",
      "[LightGBM] [Warning] No further splits with positive gain, best gain: -inf\n",
      "[LightGBM] [Warning] No further splits with positive gain, best gain: -inf\n",
      "[LightGBM] [Warning] No further splits with positive gain, best gain: -inf\n",
      "[LightGBM] [Warning] No further splits with positive gain, best gain: -inf\n",
      "[LightGBM] [Warning] No further splits with positive gain, best gain: -inf\n",
      "[LightGBM] [Warning] No further splits with positive gain, best gain: -inf\n",
      "[LightGBM] [Warning] No further splits with positive gain, best gain: -inf\n",
      "[LightGBM] [Warning] No further splits with positive gain, best gain: -inf\n",
      "[LightGBM] [Warning] No further splits with positive gain, best gain: -inf\n",
      "[LightGBM] [Warning] No further splits with positive gain, best gain: -inf\n",
      "[LightGBM] [Warning] No further splits with positive gain, best gain: -inf\n",
      "[LightGBM] [Warning] No further splits with positive gain, best gain: -inf\n",
      "[LightGBM] [Warning] No further splits with positive gain, best gain: -inf\n",
      "[LightGBM] [Warning] No further splits with positive gain, best gain: -inf\n",
      "[LightGBM] [Warning] No further splits with positive gain, best gain: -inf\n",
      "[LightGBM] [Warning] No further splits with positive gain, best gain: -inf\n",
      "[LightGBM] [Warning] No further splits with positive gain, best gain: -inf\n",
      "[LightGBM] [Warning] No further splits with positive gain, best gain: -inf\n",
      "[LightGBM] [Warning] No further splits with positive gain, best gain: -inf\n",
      "[LightGBM] [Warning] No further splits with positive gain, best gain: -inf\n",
      "[LightGBM] [Warning] No further splits with positive gain, best gain: -inf\n",
      "[LightGBM] [Warning] No further splits with positive gain, best gain: -inf\n",
      "[LightGBM] [Warning] No further splits with positive gain, best gain: -inf\n",
      "[LightGBM] [Warning] No further splits with positive gain, best gain: -inf\n",
      "[LightGBM] [Warning] No further splits with positive gain, best gain: -inf\n",
      "[LightGBM] [Warning] No further splits with positive gain, best gain: -inf\n",
      "[LightGBM] [Warning] No further splits with positive gain, best gain: -inf\n",
      "[LightGBM] [Warning] No further splits with positive gain, best gain: -inf\n",
      "[LightGBM] [Warning] No further splits with positive gain, best gain: -inf\n",
      "[LightGBM] [Warning] No further splits with positive gain, best gain: -inf\n",
      "[LightGBM] [Warning] No further splits with positive gain, best gain: -inf\n",
      "[LightGBM] [Warning] No further splits with positive gain, best gain: -inf\n",
      "[LightGBM] [Warning] No further splits with positive gain, best gain: -inf\n",
      "[LightGBM] [Warning] No further splits with positive gain, best gain: -inf\n",
      "[LightGBM] [Warning] No further splits with positive gain, best gain: -inf\n",
      "[LightGBM] [Warning] No further splits with positive gain, best gain: -inf\n",
      "[LightGBM] [Warning] No further splits with positive gain, best gain: -inf\n",
      "[LightGBM] [Warning] No further splits with positive gain, best gain: -inf\n",
      "[LightGBM] [Warning] No further splits with positive gain, best gain: -inf\n",
      "[LightGBM] [Warning] No further splits with positive gain, best gain: -inf\n",
      "[LightGBM] [Warning] No further splits with positive gain, best gain: -inf\n",
      "[LightGBM] [Warning] No further splits with positive gain, best gain: -inf\n",
      "[LightGBM] [Warning] No further splits with positive gain, best gain: -inf\n",
      "[LightGBM] [Warning] No further splits with positive gain, best gain: -inf\n",
      "[LightGBM] [Warning] No further splits with positive gain, best gain: -inf\n",
      "[LightGBM] [Warning] No further splits with positive gain, best gain: -inf\n",
      "[LightGBM] [Warning] No further splits with positive gain, best gain: -inf\n",
      "[LightGBM] [Warning] No further splits with positive gain, best gain: -inf\n",
      "[LightGBM] [Warning] No further splits with positive gain, best gain: -inf\n",
      "[LightGBM] [Warning] No further splits with positive gain, best gain: -inf\n",
      "[LightGBM] [Warning] No further splits with positive gain, best gain: -inf\n",
      "[LightGBM] [Warning] No further splits with positive gain, best gain: -inf\n",
      "[LightGBM] [Warning] No further splits with positive gain, best gain: -inf\n",
      "[LightGBM] [Warning] No further splits with positive gain, best gain: -inf\n",
      "[LightGBM] [Warning] No further splits with positive gain, best gain: -inf\n",
      "[LightGBM] [Warning] No further splits with positive gain, best gain: -inf\n",
      "[LightGBM] [Warning] No further splits with positive gain, best gain: -inf\n",
      "[LightGBM] [Warning] No further splits with positive gain, best gain: -inf\n",
      "[LightGBM] [Warning] No further splits with positive gain, best gain: -inf\n",
      "[LightGBM] [Warning] No further splits with positive gain, best gain: -inf\n",
      "[LightGBM] [Warning] No further splits with positive gain, best gain: -inf\n",
      "[LightGBM] [Warning] No further splits with positive gain, best gain: -inf\n",
      "[LightGBM] [Warning] No further splits with positive gain, best gain: -inf\n",
      "[LightGBM] [Warning] No further splits with positive gain, best gain: -inf\n",
      "[LightGBM] [Warning] No further splits with positive gain, best gain: -inf\n",
      "[LightGBM] [Warning] No further splits with positive gain, best gain: -inf\n",
      "[LightGBM] [Warning] No further splits with positive gain, best gain: -inf\n",
      "[LightGBM] [Warning] No further splits with positive gain, best gain: -inf\n",
      "[LightGBM] [Warning] No further splits with positive gain, best gain: -inf\n",
      "[LightGBM] [Warning] No further splits with positive gain, best gain: -inf\n",
      "[LightGBM] [Warning] No further splits with positive gain, best gain: -inf\n",
      "[LightGBM] [Warning] No further splits with positive gain, best gain: -inf\n",
      "[LightGBM] [Warning] No further splits with positive gain, best gain: -inf\n",
      "[LightGBM] [Warning] No further splits with positive gain, best gain: -inf\n",
      "[LightGBM] [Warning] No further splits with positive gain, best gain: -inf\n",
      "[LightGBM] [Warning] No further splits with positive gain, best gain: -inf\n",
      "[LightGBM] [Warning] No further splits with positive gain, best gain: -inf\n",
      "[LightGBM] [Warning] No further splits with positive gain, best gain: -inf\n",
      "[LightGBM] [Warning] No further splits with positive gain, best gain: -inf\n",
      "[LightGBM] [Warning] No further splits with positive gain, best gain: -inf\n",
      "[LightGBM] [Warning] No further splits with positive gain, best gain: -inf\n",
      "[LightGBM] [Warning] No further splits with positive gain, best gain: -inf\n",
      "[LightGBM] [Warning] No further splits with positive gain, best gain: -inf\n",
      "[LightGBM] [Warning] No further splits with positive gain, best gain: -inf\n",
      "[LightGBM] [Warning] No further splits with positive gain, best gain: -inf\n",
      "[LightGBM] [Warning] No further splits with positive gain, best gain: -inf\n",
      "[LightGBM] [Warning] No further splits with positive gain, best gain: -inf\n",
      "[LightGBM] [Warning] No further splits with positive gain, best gain: -inf\n",
      "[LightGBM] [Warning] No further splits with positive gain, best gain: -inf\n",
      "[LightGBM] [Warning] No further splits with positive gain, best gain: -inf\n",
      "[LightGBM] [Warning] No further splits with positive gain, best gain: -inf\n",
      "[LightGBM] [Warning] No further splits with positive gain, best gain: -inf\n",
      "[LightGBM] [Warning] No further splits with positive gain, best gain: -inf\n",
      "[LightGBM] [Warning] No further splits with positive gain, best gain: -inf\n",
      "[LightGBM] [Warning] No further splits with positive gain, best gain: -inf\n",
      "[LightGBM] [Warning] No further splits with positive gain, best gain: -inf\n",
      "[LightGBM] [Warning] No further splits with positive gain, best gain: -inf\n",
      "[LightGBM] [Warning] No further splits with positive gain, best gain: -inf\n",
      "[LightGBM] [Warning] No further splits with positive gain, best gain: -inf\n",
      "[LightGBM] [Warning] No further splits with positive gain, best gain: -inf\n",
      "[LightGBM] [Warning] No further splits with positive gain, best gain: -inf\n",
      "[LightGBM] [Warning] No further splits with positive gain, best gain: -inf\n",
      "[LightGBM] [Warning] No further splits with positive gain, best gain: -inf\n",
      "[LightGBM] [Warning] No further splits with positive gain, best gain: -inf\n",
      "[LightGBM] [Warning] No further splits with positive gain, best gain: -inf\n",
      "[LightGBM] [Warning] No further splits with positive gain, best gain: -inf\n",
      "[LightGBM] [Warning] No further splits with positive gain, best gain: -inf\n",
      "[LightGBM] [Warning] No further splits with positive gain, best gain: -inf\n",
      "[LightGBM] [Warning] No further splits with positive gain, best gain: -inf\n",
      "[LightGBM] [Warning] No further splits with positive gain, best gain: -inf\n",
      "[LightGBM] [Warning] No further splits with positive gain, best gain: -inf\n",
      "[LightGBM] [Warning] No further splits with positive gain, best gain: -inf\n",
      "[LightGBM] [Warning] No further splits with positive gain, best gain: -inf\n",
      "[LightGBM] [Warning] No further splits with positive gain, best gain: -inf\n",
      "[LightGBM] [Warning] No further splits with positive gain, best gain: -inf\n",
      "[LightGBM] [Warning] No further splits with positive gain, best gain: -inf\n",
      "[LightGBM] [Warning] No further splits with positive gain, best gain: -inf\n",
      "[LightGBM] [Warning] No further splits with positive gain, best gain: -inf\n",
      "[LightGBM] [Warning] No further splits with positive gain, best gain: -inf\n",
      "[LightGBM] [Warning] No further splits with positive gain, best gain: -inf\n",
      "[LightGBM] [Warning] No further splits with positive gain, best gain: -inf\n",
      "[LightGBM] [Warning] No further splits with positive gain, best gain: -inf\n",
      "[LightGBM] [Warning] No further splits with positive gain, best gain: -inf\n",
      "[LightGBM] [Warning] No further splits with positive gain, best gain: -inf\n",
      "[LightGBM] [Warning] No further splits with positive gain, best gain: -inf\n",
      "[LightGBM] [Warning] No further splits with positive gain, best gain: -inf\n",
      "[LightGBM] [Warning] No further splits with positive gain, best gain: -inf\n",
      "[LightGBM] [Warning] No further splits with positive gain, best gain: -inf\n",
      "[LightGBM] [Warning] No further splits with positive gain, best gain: -inf\n",
      "[LightGBM] [Warning] No further splits with positive gain, best gain: -inf\n",
      "[LightGBM] [Warning] No further splits with positive gain, best gain: -inf\n",
      "[LightGBM] [Warning] No further splits with positive gain, best gain: -inf\n",
      "[LightGBM] [Warning] No further splits with positive gain, best gain: -inf\n",
      "[LightGBM] [Warning] No further splits with positive gain, best gain: -inf\n",
      "[LightGBM] [Warning] No further splits with positive gain, best gain: -inf\n",
      "[LightGBM] [Warning] No further splits with positive gain, best gain: -inf\n",
      "[LightGBM] [Warning] No further splits with positive gain, best gain: -inf\n",
      "[LightGBM] [Warning] No further splits with positive gain, best gain: -inf\n",
      "[LightGBM] [Warning] No further splits with positive gain, best gain: -inf\n",
      "[LightGBM] [Warning] No further splits with positive gain, best gain: -inf\n",
      "[LightGBM] [Warning] No further splits with positive gain, best gain: -inf\n",
      "[LightGBM] [Warning] No further splits with positive gain, best gain: -inf\n",
      "[LightGBM] [Warning] No further splits with positive gain, best gain: -inf\n",
      "[LightGBM] [Warning] No further splits with positive gain, best gain: -inf\n",
      "[LightGBM] [Warning] No further splits with positive gain, best gain: -inf\n",
      "[LightGBM] [Warning] No further splits with positive gain, best gain: -inf\n",
      "[LightGBM] [Warning] No further splits with positive gain, best gain: -inf\n",
      "[LightGBM] [Warning] No further splits with positive gain, best gain: -inf\n",
      "[LightGBM] [Warning] No further splits with positive gain, best gain: -inf\n",
      "[LightGBM] [Warning] No further splits with positive gain, best gain: -inf\n",
      "[LightGBM] [Warning] No further splits with positive gain, best gain: -inf\n",
      "[LightGBM] [Warning] No further splits with positive gain, best gain: -inf\n",
      "[LightGBM] [Warning] No further splits with positive gain, best gain: -inf\n",
      "[LightGBM] [Warning] No further splits with positive gain, best gain: -inf\n",
      "[LightGBM] [Warning] No further splits with positive gain, best gain: -inf\n",
      "[LightGBM] [Warning] No further splits with positive gain, best gain: -inf\n",
      "[LightGBM] [Warning] No further splits with positive gain, best gain: -inf\n",
      "[LightGBM] [Warning] No further splits with positive gain, best gain: -inf\n",
      "[LightGBM] [Warning] No further splits with positive gain, best gain: -inf\n",
      "[LightGBM] [Warning] No further splits with positive gain, best gain: -inf\n",
      "[LightGBM] [Warning] No further splits with positive gain, best gain: -inf\n",
      "[LightGBM] [Warning] No further splits with positive gain, best gain: -inf\n",
      "[LightGBM] [Warning] No further splits with positive gain, best gain: -inf\n",
      "[LightGBM] [Warning] No further splits with positive gain, best gain: -inf\n",
      "[LightGBM] [Warning] No further splits with positive gain, best gain: -inf\n",
      "[LightGBM] [Warning] No further splits with positive gain, best gain: -inf\n",
      "[LightGBM] [Warning] No further splits with positive gain, best gain: -inf\n",
      "[LightGBM] [Warning] No further splits with positive gain, best gain: -inf\n",
      "[LightGBM] [Warning] No further splits with positive gain, best gain: -inf\n",
      "[LightGBM] [Warning] No further splits with positive gain, best gain: -inf\n",
      "[LightGBM] [Warning] No further splits with positive gain, best gain: -inf\n",
      "[LightGBM] [Warning] No further splits with positive gain, best gain: -inf\n",
      "[LightGBM] [Warning] No further splits with positive gain, best gain: -inf\n",
      "[LightGBM] [Warning] No further splits with positive gain, best gain: -inf\n",
      "[LightGBM] [Warning] No further splits with positive gain, best gain: -inf\n",
      "[LightGBM] [Warning] No further splits with positive gain, best gain: -inf\n",
      "[LightGBM] [Warning] No further splits with positive gain, best gain: -inf\n",
      "[LightGBM] [Warning] No further splits with positive gain, best gain: -inf\n",
      "[LightGBM] [Warning] No further splits with positive gain, best gain: -inf\n",
      "[LightGBM] [Warning] No further splits with positive gain, best gain: -inf\n",
      "[LightGBM] [Warning] No further splits with positive gain, best gain: -inf\n",
      "[LightGBM] [Warning] No further splits with positive gain, best gain: -inf\n",
      "[LightGBM] [Warning] No further splits with positive gain, best gain: -inf\n",
      "[LightGBM] [Warning] No further splits with positive gain, best gain: -inf\n",
      "[LightGBM] [Warning] No further splits with positive gain, best gain: -inf\n",
      "[LightGBM] [Warning] No further splits with positive gain, best gain: -inf\n",
      "[LightGBM] [Warning] No further splits with positive gain, best gain: -inf\n",
      "[LightGBM] [Warning] No further splits with positive gain, best gain: -inf\n",
      "[LightGBM] [Warning] No further splits with positive gain, best gain: -inf\n",
      "[LightGBM] [Warning] No further splits with positive gain, best gain: -inf\n",
      "[LightGBM] [Warning] No further splits with positive gain, best gain: -inf\n",
      "[LightGBM] [Warning] No further splits with positive gain, best gain: -inf\n",
      "Лучшие параметры:\n",
      "\n",
      " {'verbose': 0, 'random_state': 42, 'num_leaves': 65, 'n_estimators': 50, 'max_depth': 5, 'force_col_wise': True}\n",
      "Метрика RMSE лучшей модели на тренировочной выборке: 25.324587239644536\n"
     ]
    },
    {
     "data": {
      "text/html": [
       "<style>#sk-container-id-3 {color: black;}#sk-container-id-3 pre{padding: 0;}#sk-container-id-3 div.sk-toggleable {background-color: white;}#sk-container-id-3 label.sk-toggleable__label {cursor: pointer;display: block;width: 100%;margin-bottom: 0;padding: 0.3em;box-sizing: border-box;text-align: center;}#sk-container-id-3 label.sk-toggleable__label-arrow:before {content: \"▸\";float: left;margin-right: 0.25em;color: #696969;}#sk-container-id-3 label.sk-toggleable__label-arrow:hover:before {color: black;}#sk-container-id-3 div.sk-estimator:hover label.sk-toggleable__label-arrow:before {color: black;}#sk-container-id-3 div.sk-toggleable__content {max-height: 0;max-width: 0;overflow: hidden;text-align: left;background-color: #f0f8ff;}#sk-container-id-3 div.sk-toggleable__content pre {margin: 0.2em;color: black;border-radius: 0.25em;background-color: #f0f8ff;}#sk-container-id-3 input.sk-toggleable__control:checked~div.sk-toggleable__content {max-height: 200px;max-width: 100%;overflow: auto;}#sk-container-id-3 input.sk-toggleable__control:checked~label.sk-toggleable__label-arrow:before {content: \"▾\";}#sk-container-id-3 div.sk-estimator input.sk-toggleable__control:checked~label.sk-toggleable__label {background-color: #d4ebff;}#sk-container-id-3 div.sk-label input.sk-toggleable__control:checked~label.sk-toggleable__label {background-color: #d4ebff;}#sk-container-id-3 input.sk-hidden--visually {border: 0;clip: rect(1px 1px 1px 1px);clip: rect(1px, 1px, 1px, 1px);height: 1px;margin: -1px;overflow: hidden;padding: 0;position: absolute;width: 1px;}#sk-container-id-3 div.sk-estimator {font-family: monospace;background-color: #f0f8ff;border: 1px dotted black;border-radius: 0.25em;box-sizing: border-box;margin-bottom: 0.5em;}#sk-container-id-3 div.sk-estimator:hover {background-color: #d4ebff;}#sk-container-id-3 div.sk-parallel-item::after {content: \"\";width: 100%;border-bottom: 1px solid gray;flex-grow: 1;}#sk-container-id-3 div.sk-label:hover label.sk-toggleable__label {background-color: #d4ebff;}#sk-container-id-3 div.sk-serial::before {content: \"\";position: absolute;border-left: 1px solid gray;box-sizing: border-box;top: 0;bottom: 0;left: 50%;z-index: 0;}#sk-container-id-3 div.sk-serial {display: flex;flex-direction: column;align-items: center;background-color: white;padding-right: 0.2em;padding-left: 0.2em;position: relative;}#sk-container-id-3 div.sk-item {position: relative;z-index: 1;}#sk-container-id-3 div.sk-parallel {display: flex;align-items: stretch;justify-content: center;background-color: white;position: relative;}#sk-container-id-3 div.sk-item::before, #sk-container-id-3 div.sk-parallel-item::before {content: \"\";position: absolute;border-left: 1px solid gray;box-sizing: border-box;top: 0;bottom: 0;left: 50%;z-index: -1;}#sk-container-id-3 div.sk-parallel-item {display: flex;flex-direction: column;z-index: 1;position: relative;background-color: white;}#sk-container-id-3 div.sk-parallel-item:first-child::after {align-self: flex-end;width: 50%;}#sk-container-id-3 div.sk-parallel-item:last-child::after {align-self: flex-start;width: 50%;}#sk-container-id-3 div.sk-parallel-item:only-child::after {width: 0;}#sk-container-id-3 div.sk-dashed-wrapped {border: 1px dashed gray;margin: 0 0.4em 0.5em 0.4em;box-sizing: border-box;padding-bottom: 0.4em;background-color: white;}#sk-container-id-3 div.sk-label label {font-family: monospace;font-weight: bold;display: inline-block;line-height: 1.2em;}#sk-container-id-3 div.sk-label-container {text-align: center;}#sk-container-id-3 div.sk-container {/* jupyter's `normalize.less` sets `[hidden] { display: none; }` but bootstrap.min.css set `[hidden] { display: none !important; }` so we also need the `!important` here to be able to override the default hidden behavior on the sphinx rendered scikit-learn.org. See: https://github.com/scikit-learn/scikit-learn/issues/21755 */display: inline-block !important;position: relative;}#sk-container-id-3 div.sk-text-repr-fallback {display: none;}</style><div id=\"sk-container-id-3\" class=\"sk-top-container\"><div class=\"sk-text-repr-fallback\"><pre>LGBMRegressor(force_col_wise=True, max_depth=5, n_estimators=50, num_leaves=65,\n",
       "              random_state=42, verbose=0)</pre><b>In a Jupyter environment, please rerun this cell to show the HTML representation or trust the notebook. <br />On GitHub, the HTML representation is unable to render, please try loading this page with nbviewer.org.</b></div><div class=\"sk-container\" hidden><div class=\"sk-item\"><div class=\"sk-estimator sk-toggleable\"><input class=\"sk-toggleable__control sk-hidden--visually\" id=\"sk-estimator-id-3\" type=\"checkbox\" checked><label for=\"sk-estimator-id-3\" class=\"sk-toggleable__label sk-toggleable__label-arrow\">LGBMRegressor</label><div class=\"sk-toggleable__content\"><pre>LGBMRegressor(force_col_wise=True, max_depth=5, n_estimators=50, num_leaves=65,\n",
       "              random_state=42, verbose=0)</pre></div></div></div></div></div>"
      ],
      "text/plain": [
       "LGBMRegressor(force_col_wise=True, max_depth=5, n_estimators=50, num_leaves=65,\n",
       "              random_state=42, verbose=0)"
      ]
     },
     "execution_count": 31,
     "metadata": {},
     "output_type": "execute_result"
    }
   ],
   "source": [
    "lgbm_model = create_model(X_train, X_test, y_train, y_test, lgbm_param_grid, LGBMRegressor())\n",
    "lgbm_model"
   ]
  },
  {
   "cell_type": "markdown",
   "metadata": {},
   "source": [
    "### Вывод по обучению моделей.\n",
    "Модель LGBMRegressor показала лучший результат - метрика RMSE на тренировочной выборке: 25.324587239644536 против RMSE = 27.69998863599369 у линейной модели и RMSE = 32.86253861294826 у решающего дерева. Будем использовать LGBMRegressor для предсказаний на тестовой выборке."
   ]
  },
  {
   "cell_type": "markdown",
   "metadata": {},
   "source": [
    "## Тестирование"
   ]
  },
  {
   "cell_type": "code",
   "execution_count": 32,
   "metadata": {},
   "outputs": [
    {
     "name": "stdout",
     "output_type": "stream",
     "text": [
      "Метрика RMSE на тестовой выборке: 40.832069043746095\n"
     ]
    }
   ],
   "source": [
    "y_test_pred = lgbm_model.predict(X_test)\n",
    "print(f'Метрика RMSE на тестовой выборке: {mean_squared_error(y_test, y_test_pred, squared=False)}')"
   ]
  },
  {
   "cell_type": "markdown",
   "metadata": {},
   "source": [
    "# Общий вывод.\n",
    "В ходе работы были протестированны три модели: LGBMRegressor, LinearRegression и DecisionTreeRegressor.Модель LGBMRegressor показала лучший результат - метрика RMSE на тренировочной выборке: 25.324587239644536 против RMSE = 27.69998863599369 у линейной модели и RMSE = 32.86253861294826 у решающего дерева. Поэтому использовали LGBMRegressor для предсказаний на тестовой выборке. Метрика RMSE на тестовой выборке: 40.832069043746095. Это удовлетворяет условию задачи RMSE < 48."
   ]
  }
 ],
 "metadata": {
  "ExecuteTimeLog": [
   {
    "duration": 5100,
    "start_time": "2024-01-13T10:52:09.728Z"
   },
   {
    "duration": 3104,
    "start_time": "2024-01-13T10:52:14.830Z"
   },
   {
    "duration": 5502,
    "start_time": "2024-01-13T10:52:17.936Z"
   },
   {
    "duration": 2837,
    "start_time": "2024-01-13T10:52:23.440Z"
   },
   {
    "duration": 1427,
    "start_time": "2024-01-13T10:52:29.752Z"
   },
   {
    "duration": 116,
    "start_time": "2024-01-13T10:53:10.482Z"
   },
   {
    "duration": 13,
    "start_time": "2024-01-13T10:53:25.836Z"
   },
   {
    "duration": 16,
    "start_time": "2024-01-13T10:55:28.046Z"
   },
   {
    "duration": 51,
    "start_time": "2024-01-13T11:55:21.577Z"
   },
   {
    "duration": 10,
    "start_time": "2024-01-13T11:55:26.729Z"
   },
   {
    "duration": 1390,
    "start_time": "2024-01-13T11:55:28.664Z"
   },
   {
    "duration": 13,
    "start_time": "2024-01-13T11:59:39.013Z"
   },
   {
    "duration": 4,
    "start_time": "2024-01-13T12:00:05.317Z"
   },
   {
    "duration": 9,
    "start_time": "2024-01-13T12:00:13.482Z"
   },
   {
    "duration": 55,
    "start_time": "2024-01-13T20:26:50.836Z"
   },
   {
    "duration": 5625,
    "start_time": "2024-01-13T20:27:33.088Z"
   },
   {
    "duration": 3512,
    "start_time": "2024-01-13T20:27:38.715Z"
   },
   {
    "duration": 6383,
    "start_time": "2024-01-13T20:27:42.228Z"
   },
   {
    "duration": 3119,
    "start_time": "2024-01-13T20:27:48.614Z"
   },
   {
    "duration": 1567,
    "start_time": "2024-01-13T20:27:51.735Z"
   },
   {
    "duration": 144,
    "start_time": "2024-01-13T20:27:53.304Z"
   },
   {
    "duration": 10,
    "start_time": "2024-01-13T20:27:53.450Z"
   },
   {
    "duration": 12,
    "start_time": "2024-01-13T20:27:53.462Z"
   },
   {
    "duration": 15,
    "start_time": "2024-01-13T20:27:53.475Z"
   },
   {
    "duration": 3,
    "start_time": "2024-01-13T20:27:53.492Z"
   },
   {
    "duration": 87,
    "start_time": "2024-01-13T20:29:50.549Z"
   },
   {
    "duration": 97,
    "start_time": "2024-01-13T20:30:10.394Z"
   },
   {
    "duration": 4,
    "start_time": "2024-01-13T20:31:18.163Z"
   },
   {
    "duration": 4,
    "start_time": "2024-01-13T20:31:26.937Z"
   },
   {
    "duration": 3,
    "start_time": "2024-01-13T20:31:35.976Z"
   },
   {
    "duration": 76,
    "start_time": "2024-01-13T20:34:34.068Z"
   },
   {
    "duration": 26,
    "start_time": "2024-01-13T20:35:00.169Z"
   },
   {
    "duration": 6,
    "start_time": "2024-01-13T20:35:01.979Z"
   },
   {
    "duration": 631,
    "start_time": "2024-01-13T20:35:06.229Z"
   },
   {
    "duration": 451,
    "start_time": "2024-01-13T20:36:59.824Z"
   },
   {
    "duration": 542,
    "start_time": "2024-01-13T20:37:10.720Z"
   },
   {
    "duration": 322,
    "start_time": "2024-01-13T20:37:42.996Z"
   },
   {
    "duration": 246,
    "start_time": "2024-01-13T20:38:04.639Z"
   },
   {
    "duration": 275,
    "start_time": "2024-01-13T20:38:13.074Z"
   },
   {
    "duration": 244,
    "start_time": "2024-01-13T20:38:20.658Z"
   },
   {
    "duration": 267,
    "start_time": "2024-01-13T20:38:24.881Z"
   },
   {
    "duration": 210,
    "start_time": "2024-01-13T20:40:31.576Z"
   },
   {
    "duration": 298,
    "start_time": "2024-01-13T20:40:47.799Z"
   },
   {
    "duration": 198,
    "start_time": "2024-01-13T20:41:00.686Z"
   },
   {
    "duration": 248,
    "start_time": "2024-01-13T20:41:16.634Z"
   },
   {
    "duration": 246,
    "start_time": "2024-01-13T20:42:07.482Z"
   },
   {
    "duration": 251,
    "start_time": "2024-01-13T20:45:10.592Z"
   },
   {
    "duration": 20,
    "start_time": "2024-01-13T20:45:45.724Z"
   },
   {
    "duration": 136,
    "start_time": "2024-01-13T20:45:57.305Z"
   },
   {
    "duration": 5349,
    "start_time": "2024-01-18T09:04:06.921Z"
   },
   {
    "duration": 3542,
    "start_time": "2024-01-18T09:04:12.272Z"
   },
   {
    "duration": 6529,
    "start_time": "2024-01-18T09:04:15.816Z"
   },
   {
    "duration": 3183,
    "start_time": "2024-01-18T09:04:22.347Z"
   },
   {
    "duration": 1573,
    "start_time": "2024-01-18T09:04:25.536Z"
   },
   {
    "duration": 152,
    "start_time": "2024-01-18T09:04:27.110Z"
   },
   {
    "duration": 14,
    "start_time": "2024-01-18T09:04:27.264Z"
   },
   {
    "duration": 61,
    "start_time": "2024-01-18T09:04:27.280Z"
   },
   {
    "duration": 55,
    "start_time": "2024-01-18T09:04:27.342Z"
   },
   {
    "duration": 47,
    "start_time": "2024-01-18T09:04:27.400Z"
   },
   {
    "duration": 378,
    "start_time": "2024-01-18T09:04:27.449Z"
   },
   {
    "duration": 596,
    "start_time": "2024-01-18T09:04:27.828Z"
   },
   {
    "duration": 230,
    "start_time": "2024-01-18T09:04:28.426Z"
   },
   {
    "duration": 242,
    "start_time": "2024-01-18T09:04:28.658Z"
   },
   {
    "duration": 281,
    "start_time": "2024-01-18T09:04:28.902Z"
   },
   {
    "duration": 146,
    "start_time": "2024-01-18T09:04:29.185Z"
   },
   {
    "duration": 2769,
    "start_time": "2024-01-18T09:15:13.015Z"
   },
   {
    "duration": 2557,
    "start_time": "2024-01-18T09:15:15.787Z"
   },
   {
    "duration": 2563,
    "start_time": "2024-01-18T09:15:18.346Z"
   },
   {
    "duration": 2466,
    "start_time": "2024-01-18T09:15:20.910Z"
   },
   {
    "duration": 106,
    "start_time": "2024-01-18T09:15:23.379Z"
   },
   {
    "duration": 65,
    "start_time": "2024-01-18T09:15:23.486Z"
   },
   {
    "duration": 10,
    "start_time": "2024-01-18T09:15:23.552Z"
   },
   {
    "duration": 41,
    "start_time": "2024-01-18T09:15:23.563Z"
   },
   {
    "duration": 18,
    "start_time": "2024-01-18T09:15:23.605Z"
   },
   {
    "duration": 4,
    "start_time": "2024-01-18T09:15:23.624Z"
   },
   {
    "duration": 255,
    "start_time": "2024-01-18T09:15:23.629Z"
   },
   {
    "duration": 536,
    "start_time": "2024-01-18T09:15:23.899Z"
   },
   {
    "duration": 237,
    "start_time": "2024-01-18T09:15:24.436Z"
   },
   {
    "duration": 250,
    "start_time": "2024-01-18T09:15:24.675Z"
   },
   {
    "duration": 350,
    "start_time": "2024-01-18T09:15:24.927Z"
   },
   {
    "duration": 151,
    "start_time": "2024-01-18T09:15:25.279Z"
   },
   {
    "duration": 4,
    "start_time": "2024-01-18T09:15:25.433Z"
   },
   {
    "duration": 5,
    "start_time": "2024-01-18T09:35:05.834Z"
   },
   {
    "duration": 125,
    "start_time": "2024-01-18T09:35:37.517Z"
   },
   {
    "duration": 3,
    "start_time": "2024-01-18T09:36:15.037Z"
   },
   {
    "duration": 4,
    "start_time": "2024-01-18T09:36:42.811Z"
   },
   {
    "duration": 6,
    "start_time": "2024-01-18T09:41:01.811Z"
   },
   {
    "duration": 8,
    "start_time": "2024-01-18T09:44:09.593Z"
   },
   {
    "duration": 3,
    "start_time": "2024-01-18T09:45:33.893Z"
   },
   {
    "duration": 4,
    "start_time": "2024-01-18T09:45:59.283Z"
   },
   {
    "duration": 4,
    "start_time": "2024-01-18T09:47:26.330Z"
   },
   {
    "duration": 17,
    "start_time": "2024-01-18T09:47:27.195Z"
   },
   {
    "duration": 9,
    "start_time": "2024-01-18T09:47:28.405Z"
   },
   {
    "duration": 4,
    "start_time": "2024-01-18T09:47:29.431Z"
   },
   {
    "duration": 3,
    "start_time": "2024-01-18T09:47:30.530Z"
   },
   {
    "duration": 22,
    "start_time": "2024-01-18T09:47:42.811Z"
   },
   {
    "duration": 9,
    "start_time": "2024-01-18T09:48:22.308Z"
   },
   {
    "duration": 4,
    "start_time": "2024-01-18T09:48:23.366Z"
   },
   {
    "duration": 4,
    "start_time": "2024-01-18T09:48:24.229Z"
   },
   {
    "duration": 2,
    "start_time": "2024-01-18T09:48:25.217Z"
   },
   {
    "duration": 4,
    "start_time": "2024-01-18T09:48:26.223Z"
   },
   {
    "duration": 3,
    "start_time": "2024-01-18T09:50:12.211Z"
   },
   {
    "duration": 3,
    "start_time": "2024-01-18T09:51:30.464Z"
   },
   {
    "duration": 2,
    "start_time": "2024-01-18T09:52:14.303Z"
   },
   {
    "duration": 3,
    "start_time": "2024-01-18T09:52:18.384Z"
   },
   {
    "duration": 6,
    "start_time": "2024-01-18T09:53:04.294Z"
   },
   {
    "duration": 23,
    "start_time": "2024-01-18T09:53:46.661Z"
   },
   {
    "duration": 3,
    "start_time": "2024-01-18T09:59:19.719Z"
   },
   {
    "duration": 141,
    "start_time": "2024-01-18T09:59:22.016Z"
   },
   {
    "duration": 8,
    "start_time": "2024-01-18T10:01:17.201Z"
   },
   {
    "duration": 140,
    "start_time": "2024-01-18T10:01:19.924Z"
   },
   {
    "duration": 4,
    "start_time": "2024-01-18T10:03:07.775Z"
   },
   {
    "duration": 134,
    "start_time": "2024-01-18T10:03:10.952Z"
   },
   {
    "duration": 3,
    "start_time": "2024-01-18T10:05:39.418Z"
   },
   {
    "duration": 22,
    "start_time": "2024-01-18T10:06:22.722Z"
   },
   {
    "duration": 3,
    "start_time": "2024-01-18T10:08:00.302Z"
   },
   {
    "duration": 1352,
    "start_time": "2024-01-18T10:08:03.847Z"
   },
   {
    "duration": 4,
    "start_time": "2024-01-18T10:08:46.586Z"
   },
   {
    "duration": 1592,
    "start_time": "2024-01-18T10:08:49.805Z"
   },
   {
    "duration": 4,
    "start_time": "2024-01-18T10:11:37.674Z"
   },
   {
    "duration": 1807,
    "start_time": "2024-01-18T10:11:40.294Z"
   },
   {
    "duration": 129,
    "start_time": "2024-01-18T10:11:45.678Z"
   },
   {
    "duration": 4,
    "start_time": "2024-01-18T10:13:06.721Z"
   },
   {
    "duration": 84,
    "start_time": "2024-01-18T10:13:32.300Z"
   },
   {
    "duration": 3,
    "start_time": "2024-01-18T10:14:35.945Z"
   },
   {
    "duration": 3,
    "start_time": "2024-01-18T10:14:36.955Z"
   },
   {
    "duration": 80,
    "start_time": "2024-01-18T10:14:38.825Z"
   },
   {
    "duration": 3,
    "start_time": "2024-01-18T10:17:26.332Z"
   },
   {
    "duration": 81,
    "start_time": "2024-01-18T10:17:28.200Z"
   },
   {
    "duration": 8,
    "start_time": "2024-01-18T10:18:28.835Z"
   },
   {
    "duration": 3,
    "start_time": "2024-01-18T10:18:47.277Z"
   },
   {
    "duration": 21938,
    "start_time": "2024-01-18T10:18:49.460Z"
   },
   {
    "duration": 113,
    "start_time": "2024-01-18T10:49:35.047Z"
   },
   {
    "duration": 3,
    "start_time": "2024-01-18T10:49:39.678Z"
   },
   {
    "duration": 15756,
    "start_time": "2024-01-18T10:49:42.047Z"
   },
   {
    "duration": 3,
    "start_time": "2024-01-18T10:50:51.925Z"
   },
   {
    "duration": 15943,
    "start_time": "2024-01-18T10:50:53.962Z"
   },
   {
    "duration": 4,
    "start_time": "2024-01-18T10:51:54.922Z"
   },
   {
    "duration": 14735,
    "start_time": "2024-01-18T10:51:57.062Z"
   },
   {
    "duration": 5,
    "start_time": "2024-01-18T11:55:32.132Z"
   },
   {
    "duration": 33,
    "start_time": "2024-01-18T11:55:33.649Z"
   },
   {
    "duration": 9,
    "start_time": "2024-01-18T11:55:37.326Z"
   },
   {
    "duration": 4,
    "start_time": "2024-01-18T11:55:38.111Z"
   },
   {
    "duration": 4,
    "start_time": "2024-01-18T11:55:38.900Z"
   },
   {
    "duration": 2,
    "start_time": "2024-01-18T11:55:39.609Z"
   },
   {
    "duration": 5,
    "start_time": "2024-01-18T11:55:40.363Z"
   },
   {
    "duration": 2,
    "start_time": "2024-01-18T11:55:41.309Z"
   },
   {
    "duration": 3,
    "start_time": "2024-01-18T11:55:42.088Z"
   },
   {
    "duration": 3,
    "start_time": "2024-01-18T11:55:42.827Z"
   },
   {
    "duration": 132,
    "start_time": "2024-01-18T11:56:21.711Z"
   },
   {
    "duration": 1666,
    "start_time": "2024-01-18T11:56:23.939Z"
   },
   {
    "duration": 16128,
    "start_time": "2024-01-18T11:56:27.474Z"
   },
   {
    "duration": 5,
    "start_time": "2024-01-18T11:58:24.359Z"
   },
   {
    "duration": 30,
    "start_time": "2024-01-18T11:58:27.664Z"
   },
   {
    "duration": 11,
    "start_time": "2024-01-18T11:58:28.737Z"
   },
   {
    "duration": 10,
    "start_time": "2024-01-18T11:58:29.491Z"
   },
   {
    "duration": 3,
    "start_time": "2024-01-18T11:58:30.233Z"
   },
   {
    "duration": 3,
    "start_time": "2024-01-18T11:58:31.028Z"
   },
   {
    "duration": 2,
    "start_time": "2024-01-18T11:58:31.873Z"
   },
   {
    "duration": 4,
    "start_time": "2024-01-18T11:58:32.549Z"
   },
   {
    "duration": 2,
    "start_time": "2024-01-18T11:58:33.366Z"
   },
   {
    "duration": 3,
    "start_time": "2024-01-18T11:58:34.051Z"
   },
   {
    "duration": 3,
    "start_time": "2024-01-18T11:58:34.923Z"
   },
   {
    "duration": 138,
    "start_time": "2024-01-18T11:58:36.643Z"
   },
   {
    "duration": 1615,
    "start_time": "2024-01-18T11:58:39.089Z"
   },
   {
    "duration": 15500,
    "start_time": "2024-01-18T11:58:42.703Z"
   },
   {
    "duration": 15,
    "start_time": "2024-01-18T13:15:11.551Z"
   },
   {
    "duration": 12,
    "start_time": "2024-01-18T13:15:23.480Z"
   },
   {
    "duration": 39,
    "start_time": "2024-01-18T13:16:08.955Z"
   },
   {
    "duration": 33,
    "start_time": "2024-01-18T13:21:26.366Z"
   },
   {
    "duration": 2889,
    "start_time": "2024-01-18T13:21:42.623Z"
   },
   {
    "duration": 3044,
    "start_time": "2024-01-18T13:21:45.515Z"
   },
   {
    "duration": 2628,
    "start_time": "2024-01-18T13:21:48.562Z"
   },
   {
    "duration": 2570,
    "start_time": "2024-01-18T13:21:51.192Z"
   },
   {
    "duration": 7,
    "start_time": "2024-01-18T13:21:53.765Z"
   },
   {
    "duration": 92,
    "start_time": "2024-01-18T13:21:53.773Z"
   },
   {
    "duration": 11,
    "start_time": "2024-01-18T13:21:53.867Z"
   },
   {
    "duration": 5,
    "start_time": "2024-01-18T13:21:53.880Z"
   },
   {
    "duration": 24,
    "start_time": "2024-01-18T13:21:53.887Z"
   },
   {
    "duration": 8,
    "start_time": "2024-01-18T13:21:53.913Z"
   },
   {
    "duration": 304,
    "start_time": "2024-01-18T13:21:53.923Z"
   },
   {
    "duration": 979,
    "start_time": "2024-01-18T13:21:57.980Z"
   },
   {
    "duration": 13,
    "start_time": "2024-01-18T13:22:43.553Z"
   },
   {
    "duration": 745,
    "start_time": "2024-01-18T13:22:49.801Z"
   },
   {
    "duration": 731,
    "start_time": "2024-01-18T13:23:17.624Z"
   },
   {
    "duration": 245,
    "start_time": "2024-01-18T13:24:50.942Z"
   },
   {
    "duration": 280,
    "start_time": "2024-01-18T13:25:17.396Z"
   },
   {
    "duration": 83,
    "start_time": "2024-01-18T13:25:23.916Z"
   },
   {
    "duration": 279,
    "start_time": "2024-01-18T13:25:29.734Z"
   },
   {
    "duration": 413,
    "start_time": "2024-01-18T13:25:37.875Z"
   },
   {
    "duration": 264,
    "start_time": "2024-01-18T13:25:48.142Z"
   },
   {
    "duration": 288,
    "start_time": "2024-01-18T13:30:22.595Z"
   },
   {
    "duration": 13,
    "start_time": "2024-01-18T13:31:47.655Z"
   },
   {
    "duration": 2845,
    "start_time": "2024-01-18T13:31:59.812Z"
   },
   {
    "duration": 2632,
    "start_time": "2024-01-18T13:32:02.660Z"
   },
   {
    "duration": 2551,
    "start_time": "2024-01-18T13:32:05.294Z"
   },
   {
    "duration": 2606,
    "start_time": "2024-01-18T13:32:07.847Z"
   },
   {
    "duration": 6,
    "start_time": "2024-01-18T13:32:10.456Z"
   },
   {
    "duration": 58,
    "start_time": "2024-01-18T13:32:10.463Z"
   },
   {
    "duration": 10,
    "start_time": "2024-01-18T13:32:10.522Z"
   },
   {
    "duration": 8,
    "start_time": "2024-01-18T13:32:10.533Z"
   },
   {
    "duration": 25,
    "start_time": "2024-01-18T13:32:10.543Z"
   },
   {
    "duration": 4,
    "start_time": "2024-01-18T13:32:10.570Z"
   },
   {
    "duration": 290,
    "start_time": "2024-01-18T13:32:10.576Z"
   },
   {
    "duration": 803,
    "start_time": "2024-01-18T13:32:15.207Z"
   },
   {
    "duration": 16,
    "start_time": "2024-01-18T13:32:55.021Z"
   },
   {
    "duration": 296,
    "start_time": "2024-01-18T13:33:02.316Z"
   },
   {
    "duration": 496,
    "start_time": "2024-01-18T13:33:15.379Z"
   },
   {
    "duration": 2810,
    "start_time": "2024-01-18T13:48:32.222Z"
   },
   {
    "duration": 2424,
    "start_time": "2024-01-18T13:48:35.034Z"
   },
   {
    "duration": 2476,
    "start_time": "2024-01-18T13:48:37.459Z"
   },
   {
    "duration": 2507,
    "start_time": "2024-01-18T13:48:39.937Z"
   },
   {
    "duration": 8,
    "start_time": "2024-01-18T13:48:42.446Z"
   },
   {
    "duration": 91,
    "start_time": "2024-01-18T13:48:42.455Z"
   },
   {
    "duration": 11,
    "start_time": "2024-01-18T13:48:42.547Z"
   },
   {
    "duration": 9,
    "start_time": "2024-01-18T13:48:42.560Z"
   },
   {
    "duration": 19,
    "start_time": "2024-01-18T13:48:42.570Z"
   },
   {
    "duration": 9,
    "start_time": "2024-01-18T13:48:42.592Z"
   },
   {
    "duration": 263,
    "start_time": "2024-01-18T13:48:42.603Z"
   },
   {
    "duration": 849,
    "start_time": "2024-01-18T13:48:42.868Z"
   },
   {
    "duration": 315,
    "start_time": "2024-01-18T13:48:43.718Z"
   },
   {
    "duration": 5,
    "start_time": "2024-01-18T13:48:44.034Z"
   },
   {
    "duration": 50,
    "start_time": "2024-01-18T13:48:44.041Z"
   },
   {
    "duration": 11,
    "start_time": "2024-01-18T13:48:44.094Z"
   },
   {
    "duration": 11,
    "start_time": "2024-01-18T13:48:44.106Z"
   },
   {
    "duration": 27,
    "start_time": "2024-01-18T13:48:44.119Z"
   },
   {
    "duration": 28,
    "start_time": "2024-01-18T13:48:44.147Z"
   },
   {
    "duration": 26,
    "start_time": "2024-01-18T13:48:44.176Z"
   },
   {
    "duration": 27,
    "start_time": "2024-01-18T13:48:44.203Z"
   },
   {
    "duration": 31,
    "start_time": "2024-01-18T13:48:44.232Z"
   },
   {
    "duration": 14,
    "start_time": "2024-01-18T13:48:44.264Z"
   },
   {
    "duration": 157,
    "start_time": "2024-01-18T13:48:44.279Z"
   },
   {
    "duration": 2556,
    "start_time": "2024-01-18T13:48:44.438Z"
   },
   {
    "duration": 18610,
    "start_time": "2024-01-18T13:48:46.997Z"
   },
   {
    "duration": 1043,
    "start_time": "2024-01-18T15:13:45.195Z"
   },
   {
    "duration": 2836,
    "start_time": "2024-01-18T15:13:58.752Z"
   },
   {
    "duration": 2509,
    "start_time": "2024-01-18T15:14:01.590Z"
   },
   {
    "duration": 2528,
    "start_time": "2024-01-18T15:14:04.101Z"
   },
   {
    "duration": 2538,
    "start_time": "2024-01-18T15:14:06.632Z"
   },
   {
    "duration": 7,
    "start_time": "2024-01-18T15:14:09.173Z"
   },
   {
    "duration": 63,
    "start_time": "2024-01-18T15:14:09.181Z"
   },
   {
    "duration": 11,
    "start_time": "2024-01-18T15:14:09.245Z"
   },
   {
    "duration": 28,
    "start_time": "2024-01-18T15:14:09.257Z"
   },
   {
    "duration": 25,
    "start_time": "2024-01-18T15:14:09.286Z"
   },
   {
    "duration": 20,
    "start_time": "2024-01-18T15:14:09.313Z"
   },
   {
    "duration": 253,
    "start_time": "2024-01-18T15:14:12.706Z"
   },
   {
    "duration": 5,
    "start_time": "2024-01-18T15:48:05.272Z"
   },
   {
    "duration": 4,
    "start_time": "2024-01-18T15:48:14.078Z"
   },
   {
    "duration": 51,
    "start_time": "2024-01-18T15:48:14.977Z"
   },
   {
    "duration": 12,
    "start_time": "2024-01-18T15:48:16.476Z"
   },
   {
    "duration": 4,
    "start_time": "2024-01-18T15:48:17.733Z"
   },
   {
    "duration": 4,
    "start_time": "2024-01-18T15:48:18.512Z"
   },
   {
    "duration": 3,
    "start_time": "2024-01-18T15:48:19.238Z"
   },
   {
    "duration": 4,
    "start_time": "2024-01-18T15:48:20.370Z"
   },
   {
    "duration": 2,
    "start_time": "2024-01-18T15:48:21.903Z"
   },
   {
    "duration": 3,
    "start_time": "2024-01-18T15:48:22.514Z"
   },
   {
    "duration": 3,
    "start_time": "2024-01-18T15:48:23.133Z"
   },
   {
    "duration": 145,
    "start_time": "2024-01-18T15:48:26.150Z"
   },
   {
    "duration": 1512,
    "start_time": "2024-01-18T15:48:29.183Z"
   },
   {
    "duration": 14908,
    "start_time": "2024-01-18T15:48:33.087Z"
   },
   {
    "duration": 2749,
    "start_time": "2024-01-18T16:39:19.127Z"
   },
   {
    "duration": 2511,
    "start_time": "2024-01-18T16:39:21.879Z"
   },
   {
    "duration": 2509,
    "start_time": "2024-01-18T16:39:24.392Z"
   },
   {
    "duration": 2535,
    "start_time": "2024-01-18T16:39:26.903Z"
   },
   {
    "duration": 7,
    "start_time": "2024-01-18T16:39:29.442Z"
   },
   {
    "duration": 99,
    "start_time": "2024-01-18T16:39:29.451Z"
   },
   {
    "duration": 11,
    "start_time": "2024-01-18T16:39:29.551Z"
   },
   {
    "duration": 25,
    "start_time": "2024-01-18T16:39:29.563Z"
   },
   {
    "duration": 40,
    "start_time": "2024-01-18T16:39:29.589Z"
   },
   {
    "duration": 22,
    "start_time": "2024-01-18T16:39:29.631Z"
   },
   {
    "duration": 319,
    "start_time": "2024-01-18T16:39:29.654Z"
   },
   {
    "duration": 814,
    "start_time": "2024-01-18T16:39:29.974Z"
   },
   {
    "duration": 301,
    "start_time": "2024-01-18T16:39:30.793Z"
   },
   {
    "duration": 5,
    "start_time": "2024-01-18T16:39:31.097Z"
   },
   {
    "duration": 97,
    "start_time": "2024-01-18T16:39:31.104Z"
   },
   {
    "duration": 11,
    "start_time": "2024-01-18T16:39:31.203Z"
   },
   {
    "duration": 37,
    "start_time": "2024-01-18T16:39:31.215Z"
   },
   {
    "duration": 46,
    "start_time": "2024-01-18T16:39:31.253Z"
   },
   {
    "duration": 42,
    "start_time": "2024-01-18T16:39:31.301Z"
   },
   {
    "duration": 43,
    "start_time": "2024-01-18T16:39:31.345Z"
   },
   {
    "duration": 45,
    "start_time": "2024-01-18T16:39:31.390Z"
   },
   {
    "duration": 27,
    "start_time": "2024-01-18T16:39:31.436Z"
   },
   {
    "duration": 43,
    "start_time": "2024-01-18T16:39:31.465Z"
   },
   {
    "duration": 157,
    "start_time": "2024-01-18T16:39:31.509Z"
   },
   {
    "duration": 1828,
    "start_time": "2024-01-18T16:39:31.667Z"
   },
   {
    "duration": 15695,
    "start_time": "2024-01-18T16:39:33.502Z"
   },
   {
    "duration": 5,
    "start_time": "2024-01-19T08:12:15.471Z"
   },
   {
    "duration": 3717,
    "start_time": "2024-01-19T08:12:15.478Z"
   },
   {
    "duration": 6761,
    "start_time": "2024-01-19T08:12:19.197Z"
   },
   {
    "duration": 3231,
    "start_time": "2024-01-19T08:12:25.961Z"
   },
   {
    "duration": 1709,
    "start_time": "2024-01-19T08:12:29.195Z"
   },
   {
    "duration": 149,
    "start_time": "2024-01-19T08:12:30.907Z"
   },
   {
    "duration": 11,
    "start_time": "2024-01-19T08:12:31.058Z"
   },
   {
    "duration": 105,
    "start_time": "2024-01-19T08:12:31.070Z"
   },
   {
    "duration": 53,
    "start_time": "2024-01-19T08:12:31.177Z"
   },
   {
    "duration": 19,
    "start_time": "2024-01-19T08:12:31.234Z"
   },
   {
    "duration": 368,
    "start_time": "2024-01-19T08:12:31.255Z"
   },
   {
    "duration": 975,
    "start_time": "2024-01-19T08:12:31.625Z"
   },
   {
    "duration": 340,
    "start_time": "2024-01-19T08:12:32.602Z"
   },
   {
    "duration": 6,
    "start_time": "2024-01-19T08:12:32.943Z"
   },
   {
    "duration": 71,
    "start_time": "2024-01-19T08:12:32.951Z"
   },
   {
    "duration": 13,
    "start_time": "2024-01-19T08:12:33.024Z"
   },
   {
    "duration": 5,
    "start_time": "2024-01-19T08:12:33.039Z"
   },
   {
    "duration": 4,
    "start_time": "2024-01-19T08:12:33.046Z"
   },
   {
    "duration": 5,
    "start_time": "2024-01-19T08:12:33.051Z"
   },
   {
    "duration": 35,
    "start_time": "2024-01-19T08:12:33.057Z"
   },
   {
    "duration": 5,
    "start_time": "2024-01-19T08:12:36.934Z"
   },
   {
    "duration": 3,
    "start_time": "2024-01-19T08:12:43.144Z"
   },
   {
    "duration": 3,
    "start_time": "2024-01-19T08:12:44.310Z"
   },
   {
    "duration": 3,
    "start_time": "2024-01-19T08:12:45.229Z"
   },
   {
    "duration": 141,
    "start_time": "2024-01-19T08:12:47.287Z"
   },
   {
    "duration": 5,
    "start_time": "2024-01-19T08:13:01.820Z"
   },
   {
    "duration": 149,
    "start_time": "2024-01-19T08:13:04.620Z"
   },
   {
    "duration": 2335,
    "start_time": "2024-01-19T08:13:11.466Z"
   },
   {
    "duration": 4,
    "start_time": "2024-01-19T08:19:23.907Z"
   },
   {
    "duration": 2721,
    "start_time": "2024-01-19T08:19:23.913Z"
   },
   {
    "duration": 2601,
    "start_time": "2024-01-19T08:19:26.636Z"
   },
   {
    "duration": 2674,
    "start_time": "2024-01-19T08:19:29.239Z"
   },
   {
    "duration": 1455,
    "start_time": "2024-01-19T08:19:31.916Z"
   },
   {
    "duration": 56,
    "start_time": "2024-01-19T08:19:33.373Z"
   },
   {
    "duration": 11,
    "start_time": "2024-01-19T08:19:33.431Z"
   },
   {
    "duration": 15,
    "start_time": "2024-01-19T08:19:33.443Z"
   },
   {
    "duration": 14,
    "start_time": "2024-01-19T08:19:33.460Z"
   },
   {
    "duration": 3,
    "start_time": "2024-01-19T08:19:33.476Z"
   },
   {
    "duration": 313,
    "start_time": "2024-01-19T08:19:33.481Z"
   },
   {
    "duration": 939,
    "start_time": "2024-01-19T08:19:33.797Z"
   },
   {
    "duration": 341,
    "start_time": "2024-01-19T08:19:34.737Z"
   },
   {
    "duration": 4,
    "start_time": "2024-01-19T08:19:35.081Z"
   },
   {
    "duration": 42,
    "start_time": "2024-01-19T08:19:35.087Z"
   },
   {
    "duration": 10,
    "start_time": "2024-01-19T08:19:35.130Z"
   },
   {
    "duration": 9,
    "start_time": "2024-01-19T08:19:35.141Z"
   },
   {
    "duration": 11,
    "start_time": "2024-01-19T08:19:35.152Z"
   },
   {
    "duration": 26,
    "start_time": "2024-01-19T08:19:35.165Z"
   },
   {
    "duration": 12,
    "start_time": "2024-01-19T08:19:35.193Z"
   },
   {
    "duration": 6,
    "start_time": "2024-01-19T08:19:35.207Z"
   },
   {
    "duration": 7,
    "start_time": "2024-01-19T08:19:35.215Z"
   },
   {
    "duration": 7,
    "start_time": "2024-01-19T08:19:35.224Z"
   },
   {
    "duration": 23,
    "start_time": "2024-01-19T08:19:35.233Z"
   },
   {
    "duration": 156,
    "start_time": "2024-01-19T08:19:35.258Z"
   },
   {
    "duration": 1680,
    "start_time": "2024-01-19T08:19:35.416Z"
   },
   {
    "duration": 4,
    "start_time": "2024-01-19T08:24:34.613Z"
   },
   {
    "duration": 2697,
    "start_time": "2024-01-19T08:24:34.620Z"
   },
   {
    "duration": 2619,
    "start_time": "2024-01-19T08:24:37.320Z"
   },
   {
    "duration": 2691,
    "start_time": "2024-01-19T08:24:39.941Z"
   },
   {
    "duration": 1668,
    "start_time": "2024-01-19T08:24:42.636Z"
   },
   {
    "duration": 57,
    "start_time": "2024-01-19T08:24:44.305Z"
   },
   {
    "duration": 11,
    "start_time": "2024-01-19T08:24:44.364Z"
   },
   {
    "duration": 5,
    "start_time": "2024-01-19T08:24:44.377Z"
   },
   {
    "duration": 29,
    "start_time": "2024-01-19T08:24:44.384Z"
   },
   {
    "duration": 23,
    "start_time": "2024-01-19T08:24:44.415Z"
   },
   {
    "duration": 316,
    "start_time": "2024-01-19T08:24:44.439Z"
   },
   {
    "duration": 840,
    "start_time": "2024-01-19T08:24:44.756Z"
   },
   {
    "duration": 327,
    "start_time": "2024-01-19T08:24:45.597Z"
   },
   {
    "duration": 4,
    "start_time": "2024-01-19T08:24:45.927Z"
   },
   {
    "duration": 161,
    "start_time": "2024-01-19T08:24:45.933Z"
   },
   {
    "duration": 79,
    "start_time": "2024-01-19T08:24:46.095Z"
   },
   {
    "duration": 22,
    "start_time": "2024-01-19T08:24:46.176Z"
   },
   {
    "duration": 57,
    "start_time": "2024-01-19T08:24:46.200Z"
   },
   {
    "duration": 99,
    "start_time": "2024-01-19T08:24:46.259Z"
   },
   {
    "duration": 37,
    "start_time": "2024-01-19T08:24:46.360Z"
   },
   {
    "duration": 17,
    "start_time": "2024-01-19T08:24:46.399Z"
   },
   {
    "duration": 15,
    "start_time": "2024-01-19T08:24:46.418Z"
   },
   {
    "duration": 37,
    "start_time": "2024-01-19T08:24:46.435Z"
   },
   {
    "duration": 44,
    "start_time": "2024-01-19T08:24:46.474Z"
   },
   {
    "duration": 306,
    "start_time": "2024-01-19T08:24:46.520Z"
   },
   {
    "duration": 0,
    "start_time": "2024-01-19T08:24:46.828Z"
   },
   {
    "duration": 0,
    "start_time": "2024-01-19T08:24:46.829Z"
   },
   {
    "duration": 6,
    "start_time": "2024-01-19T08:27:40.342Z"
   },
   {
    "duration": 166,
    "start_time": "2024-01-19T08:27:44.948Z"
   },
   {
    "duration": 4,
    "start_time": "2024-01-19T08:30:35.667Z"
   },
   {
    "duration": 149,
    "start_time": "2024-01-19T08:30:43.268Z"
   },
   {
    "duration": 2342,
    "start_time": "2024-01-19T08:30:54.361Z"
   },
   {
    "duration": 334369,
    "start_time": "2024-01-19T08:31:02.037Z"
   },
   {
    "duration": 12,
    "start_time": "2024-01-19T08:49:15.444Z"
   },
   {
    "duration": 2,
    "start_time": "2024-01-19T09:08:22.522Z"
   },
   {
    "duration": 2601,
    "start_time": "2024-01-19T09:08:22.526Z"
   },
   {
    "duration": 2694,
    "start_time": "2024-01-19T09:08:25.129Z"
   },
   {
    "duration": 2693,
    "start_time": "2024-01-19T09:08:27.825Z"
   },
   {
    "duration": 11,
    "start_time": "2024-01-19T09:08:30.522Z"
   },
   {
    "duration": 322,
    "start_time": "2024-01-19T09:08:30.535Z"
   },
   {
    "duration": 542,
    "start_time": "2024-01-19T09:08:30.859Z"
   },
   {
    "duration": 288,
    "start_time": "2024-01-19T09:08:31.403Z"
   },
   {
    "duration": 78,
    "start_time": "2024-01-19T09:08:31.693Z"
   },
   {
    "duration": 253,
    "start_time": "2024-01-19T09:08:31.773Z"
   },
   {
    "duration": 704,
    "start_time": "2024-01-19T09:08:32.028Z"
   },
   {
    "duration": 9,
    "start_time": "2024-01-19T09:10:15.147Z"
   },
   {
    "duration": 881,
    "start_time": "2024-01-19T09:10:53.568Z"
   },
   {
    "duration": 858,
    "start_time": "2024-01-19T09:11:33.692Z"
   },
   {
    "duration": 4,
    "start_time": "2024-01-19T14:19:57.649Z"
   },
   {
    "duration": 2498,
    "start_time": "2024-01-19T14:19:57.656Z"
   },
   {
    "duration": 6156,
    "start_time": "2024-01-19T14:20:00.156Z"
   },
   {
    "duration": 2449,
    "start_time": "2024-01-19T14:20:06.314Z"
   },
   {
    "duration": 4461,
    "start_time": "2024-01-19T14:20:08.766Z"
   },
   {
    "duration": 128,
    "start_time": "2024-01-19T14:20:13.228Z"
   },
   {
    "duration": 10,
    "start_time": "2024-01-19T14:20:13.357Z"
   },
   {
    "duration": 11,
    "start_time": "2024-01-19T14:20:13.369Z"
   },
   {
    "duration": 38,
    "start_time": "2024-01-19T14:20:13.382Z"
   },
   {
    "duration": 4,
    "start_time": "2024-01-19T14:20:13.421Z"
   },
   {
    "duration": 328,
    "start_time": "2024-01-19T14:20:13.426Z"
   },
   {
    "duration": 879,
    "start_time": "2024-01-19T14:20:13.756Z"
   },
   {
    "duration": 6,
    "start_time": "2024-01-19T14:20:14.637Z"
   },
   {
    "duration": 824,
    "start_time": "2024-01-19T14:20:14.646Z"
   },
   {
    "duration": 323,
    "start_time": "2024-01-19T14:20:15.471Z"
   },
   {
    "duration": 3735,
    "start_time": "2024-01-19T14:20:15.796Z"
   },
   {
    "duration": 4,
    "start_time": "2024-01-19T14:20:53.423Z"
   },
   {
    "duration": 37,
    "start_time": "2024-01-19T14:21:00.216Z"
   },
   {
    "duration": 376,
    "start_time": "2024-01-19T14:24:09.848Z"
   },
   {
    "duration": 326,
    "start_time": "2024-01-19T14:25:15.207Z"
   }
  ],
  "kernelspec": {
   "display_name": "Python 3 (ipykernel)",
   "language": "python",
   "name": "python3"
  },
  "language_info": {
   "codemirror_mode": {
    "name": "ipython",
    "version": 3
   },
   "file_extension": ".py",
   "mimetype": "text/x-python",
   "name": "python",
   "nbconvert_exporter": "python",
   "pygments_lexer": "ipython3",
   "version": "3.11.5"
  },
  "toc": {
   "base_numbering": 1,
   "nav_menu": {},
   "number_sections": true,
   "sideBar": true,
   "skip_h1_title": true,
   "title_cell": "Содержание",
   "title_sidebar": "Contents",
   "toc_cell": true,
   "toc_position": {},
   "toc_section_display": true,
   "toc_window_display": true
  }
 },
 "nbformat": 4,
 "nbformat_minor": 2
}
